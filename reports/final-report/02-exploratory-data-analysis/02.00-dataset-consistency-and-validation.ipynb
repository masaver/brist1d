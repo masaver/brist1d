{
 "cells": [
  {
   "cell_type": "markdown",
   "id": "8318b3e7d7be89b8",
   "metadata": {},
   "source": [
    "# Dataset Consistency and Validation"
   ]
  },
  {
   "cell_type": "markdown",
   "id": "4a8b3f8e5bf773e3",
   "metadata": {},
   "source": [
    "This section will cover the following topics:\n",
    "\n",
    "* Quality Control and Assurance\n",
    "* Outliers and Anomalies\n",
    "* Missing Values\n",
    "* Further Dataset Difficulties and Biases"
   ]
  },
  {
   "cell_type": "markdown",
   "id": "c8a885565f4b6acf",
   "metadata": {},
   "source": []
  }
 ],
 "metadata": {
  "kernelspec": {
   "display_name": "Python 3",
   "language": "python",
   "name": "python3"
  },
  "language_info": {
   "codemirror_mode": {
    "name": "ipython",
    "version": 2
   },
   "file_extension": ".py",
   "mimetype": "text/x-python",
   "name": "python",
   "nbconvert_exporter": "python",
   "pygments_lexer": "ipython2",
   "version": "2.7.6"
  }
 },
 "nbformat": 4,
 "nbformat_minor": 5
}
