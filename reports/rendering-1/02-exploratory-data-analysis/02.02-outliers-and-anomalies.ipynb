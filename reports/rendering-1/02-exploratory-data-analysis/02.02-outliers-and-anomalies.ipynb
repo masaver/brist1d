{
 "cells": [
  {
   "cell_type": "markdown",
   "id": "8318b3e7d7be89b8",
   "metadata": {},
   "source": [
    "# Outliers and Anomalies"
   ]
  },
  {
   "cell_type": "markdown",
   "id": "c8a885565f4b6acf",
   "metadata": {},
   "source": [
    "In this notebook, we will analyze the dataset for outliers and anomalies, as addressing them is a crucial step in **standardizing** numerical values during the implementation of a machine learning project."
   ]
  },
  {
   "cell_type": "markdown",
   "id": "c18ac3ad-fe29-4527-bdc7-48f0721138aa",
   "metadata": {},
   "source": [
    "Given that the explanatory variables represent time series, we will treat the group of column series (e.g., col-*) as a single variable type and inspect them in detail."
   ]
  },
  {
   "cell_type": "code",
   "id": "c6ab8446-dac7-4be2-b71d-e20703f717c2",
   "metadata": {
    "ExecuteTime": {
     "end_time": "2024-10-23T20:52:19.773205Z",
     "start_time": "2024-10-23T20:52:11.534152Z"
    }
   },
   "source": [
    "import pandas as pd\n",
    "import os\n",
    "\n",
    "base_dir = os.path.abspath(os.path.join('..', '..', '..', 'data', 'raw'))\n",
    "file_path = os.path.join(base_dir, 'train.csv') \n",
    "\n",
    "patients = pd.read_csv(file_path, low_memory=False)"
   ],
   "outputs": [],
   "execution_count": 1
  },
  {
   "cell_type": "code",
   "id": "82bd22f8-cb95-449e-8609-286327a8d513",
   "metadata": {},
   "source": [
    "bg_cols = [col for col in patients.columns if col.startswith('bg-')]\n",
    "insulin_cols = [col for col in patients.columns if col.startswith('insulin-')]\n",
    "carbs_cols = [col for col in patients.columns if col.startswith('carbs-')]\n",
    "hr_cols = [col for col in patients.columns if col.startswith('hr-')]\n",
    "steps_cols = [col for col in patients.columns if col.startswith('steps-')]\n",
    "cals_cols = [col for col in patients.columns if col.startswith('cals-')]\n",
    "activity_cols = [col for col in patients.columns if col.startswith('activity-')]"
   ],
   "outputs": [],
   "execution_count": null
  },
  {
   "cell_type": "markdown",
   "id": "f19f6c58-6b71-4e83-913f-7ee45bc03bbc",
   "metadata": {},
   "source": [
    "> *Note:*  The commonly used IQR method for outlier detection is not applicable to our dataset due to its skewed distribution. This issue will be addressed in the next phase of the project - \"Data Preprocessing\"."
   ]
  },
  {
   "cell_type": "markdown",
   "id": "2111dfad-fbd5-43bf-87a7-f70b0aa02d33",
   "metadata": {},
   "source": "## Outliers for bg-* columns"
  },
  {
   "cell_type": "code",
   "id": "54a6c1fe-5752-46c0-bf15-050442bf12ee",
   "metadata": {},
   "source": [
    "patients[bg_cols].describe()"
   ],
   "outputs": [],
   "execution_count": null
  },
  {
   "cell_type": "code",
   "id": "401a393d-8847-4647-9305-ee909ad47e78",
   "metadata": {},
   "source": [
    "# Get the describe() result for all 'bg-*' columns\n",
    "df_bg = patients[bg_cols].describe()\n",
    "\n",
    "# Extract the minimum and maximum values across all bg-* columns\n",
    "overall_min = df_bg.loc['min'].min()  # Get the smallest 'min' value across all bg-* columns\n",
    "overall_max = df_bg.loc['max'].max()  # Get the largest 'max' value across all bg-* columns\n",
    "\n",
    "# Display the results\n",
    "print(f\"Overall minimum value across all bg-* columns: {overall_min}\")\n",
    "print(f\"Overall maximum value across all bg-* columns: {overall_max}\")"
   ],
   "outputs": [],
   "execution_count": null
  },
  {
   "cell_type": "code",
   "id": "a02a4640-bea3-4cf4-b5e9-cd1c9c4d16f1",
   "metadata": {},
   "source": [
    "patients.groupby('p_num')['bg-5:45'].agg(['min', 'max'])"
   ],
   "outputs": [],
   "execution_count": null
  },
  {
   "cell_type": "markdown",
   "id": "4b5b3e79-d6e0-47d5-88c2-cb14606565f4",
   "metadata": {},
   "source": [
    "> <b>Summary</b>: There are some extreme values for blood glucose present but still realistic for some patients."
   ]
  },
  {
   "cell_type": "markdown",
   "id": "6e87a76a-9f77-4f17-a5d2-df144369a34b",
   "metadata": {},
   "source": "## Outliers for insulin-* columns"
  },
  {
   "cell_type": "code",
   "id": "3fc47b9e-8985-4816-989d-583b382859ce",
   "metadata": {},
   "source": [
    "# Get the describe() result for all 'insulin-*' columns\n",
    "df_insulin = patients[insulin_cols].describe()\n",
    "\n",
    "# Extract the minimum and maximum values across all insulin-* columns\n",
    "overall_min = df_insulin.loc['min'].min() \n",
    "overall_max = df_insulin.loc['max'].max()  \n",
    "\n",
    "# Display the results\n",
    "print(f\"Overall minimum value across all insulin-* columns: {overall_min}\")\n",
    "print(f\"Overall maximum value across all insulin-* columns: {overall_max}\")"
   ],
   "outputs": [],
   "execution_count": null
  },
  {
   "cell_type": "markdown",
   "id": "63867530-d540-4060-9a21-9716f6b3c0e7",
   "metadata": {},
   "source": [
    "<b>a) Investigating negative insulin</b>"
   ]
  },
  {
   "cell_type": "code",
   "id": "a9e9c076-6b2b-4809-9faa-2dabb4dc14f1",
   "metadata": {},
   "source": [
    "# (patients[insulin_cols] < 0).groupby(patients['p_num']).sum()  # result: only p12 has some negativ values\n",
    "\n",
    "# Create an empty list to store unique negative values\n",
    "unique_negative_values = set()\n",
    "\n",
    "# Iterate through each insulin column and patient 'p12'\n",
    "for col in insulin_cols:\n",
    "    negative_values = patients[(patients['p_num'] == 'p12') & (patients[col] < 0)][col]\n",
    "    \n",
    "    # Add the negative values to the set (automatically handles uniqueness)\n",
    "    unique_negative_values.update(negative_values.dropna())\n",
    "\n",
    "# Convert the set to a sorted list and display\n",
    "unique_negative_values = sorted(unique_negative_values)\n",
    "print(unique_negative_values)\n"
   ],
   "outputs": [],
   "execution_count": null
  },
  {
   "cell_type": "markdown",
   "id": "383bdc8b-a159-4a3e-bb9a-02bf1aac2e04",
   "metadata": {},
   "source": [
    "<b>a) Investigating positiv extremes</b>"
   ]
  },
  {
   "cell_type": "code",
   "id": "1f212d25-60e5-49e5-b398-80e3a8df5e59",
   "metadata": {},
   "source": [
    "import matplotlib.pyplot as plt\n",
    "import seaborn as sns\n",
    "\n",
    "insulin_values = patients[\"insulin-0:00\"].dropna()\n",
    "\n",
    "# Create a figure for the histogram and KDE plot\n",
    "plt.figure(figsize=(7, 3))\n",
    "\n",
    "sns.histplot(insulin_values, bins=30, kde=True, color='blue', stat='density')\n",
    "\n",
    "# Add labels and title\n",
    "plt.xlabel('Insulin dose')\n",
    "plt.ylabel('Density')\n",
    "plt.title('Distribution of insulin doses (insulin-0:00) for all patients')\n",
    "\n",
    "plt.show()"
   ],
   "outputs": [],
   "execution_count": null
  },
  {
   "cell_type": "code",
   "id": "4b48464d-469c-485d-9b14-2635f3bd35ce",
   "metadata": {},
   "source": [
    "patients.groupby('p_num')['insulin-0:00'].agg(['min', 'max'])"
   ],
   "outputs": [],
   "execution_count": null
  },
  {
   "cell_type": "markdown",
   "id": "da307162-fa42-44d8-a561-dd776674b353",
   "metadata": {},
   "source": [
    "> <b>Summary:</b> For patient p12, we detected some negative values. Negative insulin values are often the result of data entry errors, sensor malfunctions, or recording issues in the dataset.\n",
    "> Since there are only two different negative values and they fall outside the usual value ranges, we will replace them with their corresponding positive values. This step will be carried out during the data preprocessing phase.\n",
    ">\n",
    "> Additionally, for two other patients, we observe extremely high insulin doses. While these values do not appear to be errors, the data is still right-skewed and will need to be addressed."
   ]
  },
  {
   "cell_type": "markdown",
   "id": "be11754e-f85c-43a5-852f-ad52fcb300ac",
   "metadata": {},
   "source": [
    "## Outliers for carbs-* columns"
   ]
  },
  {
   "cell_type": "code",
   "id": "35d1ac3d-0d9e-4724-8326-52b3e2b7b178",
   "metadata": {},
   "source": [
    "# Get the describe() result for all 'carbs-*' columns\n",
    "df_carbs = patients[carbs_cols].describe()\n",
    "\n",
    "# Extract the minimum and maximum values across all hr-* columns\n",
    "overall_min = df_carbs.loc['min'].min() \n",
    "overall_max = df_carbs.loc['max'].max() \n",
    "\n",
    "# Display the results\n",
    "print(f\"Overall minimum value across all carbs-* columns: {overall_min}\")\n",
    "print(f\"Overall maximum value across all carbs-* columns: {overall_max}\")"
   ],
   "outputs": [],
   "execution_count": null
  },
  {
   "cell_type": "markdown",
   "id": "15131e37-445e-4390-996e-c15b2c9d16f3",
   "metadata": {},
   "source": [
    "> <b>Summary:</b> The values for carbohydrate consumption, ranging from 1.0 to 852.0 grams, raise concerns about their realism and appropriateness for our use case. Given that these data are self-reported by patients and 98% of the values are missing, we may consider excluding these columns from the model."
   ]
  },
  {
   "cell_type": "markdown",
   "id": "d823dff8-bcdf-4ede-b3cb-98d5ef2104c5",
   "metadata": {},
   "source": "## Outliers for hr-* columns"
  },
  {
   "cell_type": "code",
   "id": "ecb6e299-9fb8-4c92-9f80-2afc9cc2fda0",
   "metadata": {},
   "source": [
    "# Get the describe() result for all 'hr-*' columns\n",
    "df_hr = patients[hr_cols].describe()\n",
    "\n",
    "# Extract the minimum and maximum values across all hr-* columns\n",
    "overall_min = df_hr.loc['min'].min()  \n",
    "overall_max = df_hr.loc['max'].max()  # Group by 'p_num' and calculate the min and max of 'hr-5:55' for each patient\n",
    "patients.groupby('p_num')['hr-5:55'].agg(['min', 'max'])\n",
    "\n",
    "# Display the results\n",
    "print(f\"Overall minimum value across all hr-* columns: {overall_min}\")\n",
    "print(f\"Overall maximum value across all hr-* columns: {overall_max}\")"
   ],
   "outputs": [],
   "execution_count": null
  },
  {
   "cell_type": "code",
   "id": "8e0e85a6-a377-490b-8606-c5a4126e0d11",
   "metadata": {},
   "source": [
    "# Group by 'p_num' and calculate the min and max of 'hr-5:55' for each patient\n",
    "patients.groupby('p_num')['hr-5:55'].agg(['min', 'max'])"
   ],
   "outputs": [],
   "execution_count": null
  },
  {
   "cell_type": "markdown",
   "id": "24aac468-b049-47b8-836d-87566fb55397",
   "metadata": {},
   "source": [
    "> <b>Summary:</b>\n",
    "> For one patient (p06), we observed an unusually low heart rate of 37.6 bpm. While this value could be realistic for elite athletes or during deep sleep, it is generally considered abnormally low for most people. For now, we will leave this value as is, as it might indicate an important clinical signal (e.g., severe bradycardia). However, we should keep in mind that in a small dataset of only nine patients, even a single outlier can have a larger impact compared to larger datasets. If we apply models like random forests, gradient boosting or SVM - which are more robust to outliers - this outlier might have minimal impact.\n",
    "> \n",
    ">A similar consideration applies to the extreme value of 185.3 bpm for patient p02."
   ]
  },
  {
   "cell_type": "markdown",
   "id": "6149b482-4f8f-4ecf-9fad-2144bd918c78",
   "metadata": {},
   "source": "## Outliers for steps-* columns"
  },
  {
   "cell_type": "code",
   "id": "debfd6b6-579c-41d8-8647-1d9892ea919a",
   "metadata": {},
   "source": [
    "# Get the describe() result for all 'steps-*' columns\n",
    "df_steps = patients[steps_cols].describe()\n",
    "\n",
    "# Extract the minimum and maximum values across all steps-* columns\n",
    "overall_min = df_steps.loc['min'].min()  \n",
    "overall_max = df_steps.loc['max'].max() \n",
    "\n",
    "# Display the results\n",
    "print(f\"Overall minimum value across all steps-* columns: {overall_min}\")\n",
    "print(f\"Overall maximum value across all steps-* columns: {overall_max}\")"
   ],
   "outputs": [],
   "execution_count": null
  },
  {
   "cell_type": "code",
   "id": "63bb1615-ef81-4152-97ec-6752c8f55463",
   "metadata": {},
   "source": [
    "import matplotlib.pyplot as plt\n",
    "import seaborn as sns\n",
    "\n",
    "steps_values = patients[\"steps-0:00\"].dropna()\n",
    "\n",
    "# Create a figure for the histogram and KDE plot\n",
    "plt.figure(figsize=(7, 3))\n",
    "\n",
    "sns.histplot(steps_values, bins=30, kde=True, color='blue', stat='density')\n",
    "\n",
    "# Add labels and title\n",
    "plt.xlabel('Steps')\n",
    "plt.ylabel('Density')\n",
    "plt.title('Distribution of steps (steps-0:00) for all patients')\n",
    "\n",
    "plt.show()"
   ],
   "outputs": [],
   "execution_count": null
  },
  {
   "cell_type": "code",
   "id": "d0484e53-7307-49c9-8453-e29d171d871f",
   "metadata": {},
   "source": [
    "# Group by 'p_num' and calculate the min and max of 'steps-0:00' for each patient\n",
    "patients.groupby('p_num')['steps-0:00'].agg(['min', 'max'])"
   ],
   "outputs": [],
   "execution_count": null
  },
  {
   "cell_type": "code",
   "id": "513347e8-dce5-4cbf-9207-cf70f28f986c",
   "metadata": {},
   "source": [
    "# Filter the dataset for patient 'p02' where 'steps-0:00' equals 1359\n",
    "activity_steps_1359_p02 = patients[(patients['p_num'] == 'p02') & (patients['steps-0:00'] == 1359)][['activity-0:00', 'steps-0:00']]\n",
    "\n",
    "# Display the result\n",
    "print(activity_steps_1359_p02)"
   ],
   "outputs": [],
   "execution_count": null
  },
  {
   "cell_type": "code",
   "id": "1b3ab83b-2bc9-440c-b7d8-b3bf58f527d3",
   "metadata": {},
   "source": [
    "patients[(patients['p_num'] == 'p02') & (patients['steps-0:00'] == 1359)][steps_cols + activity_cols]"
   ],
   "outputs": [],
   "execution_count": null
  },
  {
   "cell_type": "markdown",
   "id": "2c3d86b6-b11c-4171-a2ec-ef3d82a0a9cc",
   "metadata": {},
   "source": [
    "><b>Summary:</b> The average walking speed for a healthy adult is around 100 to 120 steps per minute. Over a 5-minute period, a typical person would walk approximately 500 to 600 steps at a moderate pace. Therefore, a value of 1359 steps appears to be an outlier or extreme value. However, after considering the frequency and trends in neighboring records, along with the fact that the activity was reported as \"Walking,\" we can conclude that this value is likely valid in the context of possible intense physical activity."
   ]
  },
  {
   "cell_type": "markdown",
   "id": "bbd1662a-e4ea-46fb-ae41-35d393d1c18d",
   "metadata": {},
   "source": "## Outliers for cals-* columns"
  },
  {
   "cell_type": "code",
   "id": "4a1bbfff-f236-4e7a-9c85-076c69c4a246",
   "metadata": {},
   "source": [
    "# Get the describe() result for all 'cals-*' columns\n",
    "df_cals = patients[cals_cols].describe()\n",
    "\n",
    "# Extract the minimum and maximum values across all steps-* columns\n",
    "overall_min = df_cals.loc['min'].min()  \n",
    "overall_max = df_cals.loc['max'].max() \n",
    "\n",
    "# Display the results\n",
    "print(f\"Overall minimum value across all cals-* columns: {overall_min}\")\n",
    "print(f\"Overall maximum value across all cals-* columns: {overall_max}\")"
   ],
   "outputs": [],
   "execution_count": null
  },
  {
   "cell_type": "markdown",
   "id": "58757aa8-b2df-4b78-b1fe-14f97eabde89",
   "metadata": {},
   "source": [
    "><b>Summary:</b> The values observed here appear realistic, considering potential physical activities."
   ]
  }
 ],
 "metadata": {
  "kernelspec": {
   "display_name": "Python 3 (ipykernel)",
   "language": "python",
   "name": "python3"
  },
  "language_info": {
   "codemirror_mode": {
    "name": "ipython",
    "version": 3
   },
   "file_extension": ".py",
   "mimetype": "text/x-python",
   "name": "python",
   "nbconvert_exporter": "python",
   "pygments_lexer": "ipython3",
   "version": "3.12.5"
  }
 },
 "nbformat": 4,
 "nbformat_minor": 5
}
