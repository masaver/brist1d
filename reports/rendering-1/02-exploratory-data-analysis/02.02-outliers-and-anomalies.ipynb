{
 "cells": [
  {
   "cell_type": "markdown",
   "id": "8318b3e7d7be89b8",
   "metadata": {},
   "source": [
    "# Outliers and Anomalies"
   ]
  },
  {
   "cell_type": "markdown",
   "id": "c8a885565f4b6acf",
   "metadata": {},
   "source": [
    "In this notebook, we will analyze the dataset for outliers and anomalies, as addressing them is a crucial step in **standardizing** numerical values during the implementation of a machine learning project."
   ]
  },
  {
   "cell_type": "markdown",
   "id": "c18ac3ad-fe29-4527-bdc7-48f0721138aa",
   "metadata": {},
   "source": [
    "Given that the explanatory variables represent time series, we will treat the group of column series (e.g., col-*) as a single variable type and inspect them in detail."
   ]
  },
  {
   "cell_type": "code",
   "execution_count": 1,
   "id": "c6ab8446-dac7-4be2-b71d-e20703f717c2",
   "metadata": {},
   "outputs": [],
   "source": [
    "import pandas as pd\n",
    "import os\n",
    "\n",
    "base_dir = os.path.abspath(os.path.join('..', '..', '..', 'data', 'raw'))\n",
    "file_path = os.path.join(base_dir, 'train.csv') \n",
    "\n",
    "patients = pd.read_csv(file_path, low_memory=False)"
   ]
  },
  {
   "cell_type": "code",
   "execution_count": 2,
   "id": "82bd22f8-cb95-449e-8609-286327a8d513",
   "metadata": {},
   "outputs": [],
   "source": [
    "bg_cols = [col for col in patients.columns if col.startswith('bg-')]\n",
    "insulin_cols = [col for col in patients.columns if col.startswith('insulin-')]\n",
    "carbs_cols = [col for col in patients.columns if col.startswith('carbs-')]\n",
    "hr_cols = [col for col in patients.columns if col.startswith('hr-')]\n",
    "steps_cols = [col for col in patients.columns if col.startswith('steps-')]\n",
    "cals_cols = [col for col in patients.columns if col.startswith('cals-')]\n",
    "activity_cols = [col for col in patients.columns if col.startswith('activity-')]"
   ]
  },
  {
   "cell_type": "markdown",
   "id": "f19f6c58-6b71-4e83-913f-7ee45bc03bbc",
   "metadata": {},
   "source": [
    "> *Note:*  The commonly used IQR method for outlier detection is not applicable to our dataset due to its skewed distribution. This issue will be addressed in the next phase of the project - \"Data Preprocessing\"."
   ]
  },
  {
   "cell_type": "markdown",
   "id": "2111dfad-fbd5-43bf-87a7-f70b0aa02d33",
   "metadata": {},
   "source": [
    "### Outliers for bg-* columns"
   ]
  },
  {
   "cell_type": "code",
   "execution_count": 3,
   "id": "54a6c1fe-5752-46c0-bf15-050442bf12ee",
   "metadata": {},
   "outputs": [
    {
     "data": {
      "text/html": [
       "<div>\n",
       "<style scoped>\n",
       "    .dataframe tbody tr th:only-of-type {\n",
       "        vertical-align: middle;\n",
       "    }\n",
       "\n",
       "    .dataframe tbody tr th {\n",
       "        vertical-align: top;\n",
       "    }\n",
       "\n",
       "    .dataframe thead th {\n",
       "        text-align: right;\n",
       "    }\n",
       "</style>\n",
       "<table border=\"1\" class=\"dataframe\">\n",
       "  <thead>\n",
       "    <tr style=\"text-align: right;\">\n",
       "      <th></th>\n",
       "      <th>bg-5:55</th>\n",
       "      <th>bg-5:50</th>\n",
       "      <th>bg-5:45</th>\n",
       "      <th>bg-5:40</th>\n",
       "      <th>bg-5:35</th>\n",
       "      <th>bg-5:30</th>\n",
       "      <th>bg-5:25</th>\n",
       "      <th>bg-5:20</th>\n",
       "      <th>bg-5:15</th>\n",
       "      <th>bg-5:10</th>\n",
       "      <th>...</th>\n",
       "      <th>bg-0:45</th>\n",
       "      <th>bg-0:40</th>\n",
       "      <th>bg-0:35</th>\n",
       "      <th>bg-0:30</th>\n",
       "      <th>bg-0:25</th>\n",
       "      <th>bg-0:20</th>\n",
       "      <th>bg-0:15</th>\n",
       "      <th>bg-0:10</th>\n",
       "      <th>bg-0:05</th>\n",
       "      <th>bg-0:00</th>\n",
       "    </tr>\n",
       "  </thead>\n",
       "  <tbody>\n",
       "    <tr>\n",
       "      <th>count</th>\n",
       "      <td>149770.000000</td>\n",
       "      <td>158533.000000</td>\n",
       "      <td>163364.000000</td>\n",
       "      <td>149766.000000</td>\n",
       "      <td>158254.000000</td>\n",
       "      <td>163770.000000</td>\n",
       "      <td>149763.000000</td>\n",
       "      <td>157973.000000</td>\n",
       "      <td>164174.000000</td>\n",
       "      <td>149771.000000</td>\n",
       "      <td>...</td>\n",
       "      <td>172565.000000</td>\n",
       "      <td>150859.000000</td>\n",
       "      <td>152906.000000</td>\n",
       "      <td>173160.000000</td>\n",
       "      <td>151028.000000</td>\n",
       "      <td>152743.000000</td>\n",
       "      <td>173752.000000</td>\n",
       "      <td>151202.000000</td>\n",
       "      <td>152586.000000</td>\n",
       "      <td>174328.000000</td>\n",
       "    </tr>\n",
       "    <tr>\n",
       "      <th>mean</th>\n",
       "      <td>8.211018</td>\n",
       "      <td>8.230449</td>\n",
       "      <td>8.253291</td>\n",
       "      <td>8.210988</td>\n",
       "      <td>8.229649</td>\n",
       "      <td>8.254083</td>\n",
       "      <td>8.211049</td>\n",
       "      <td>8.228888</td>\n",
       "      <td>8.254602</td>\n",
       "      <td>8.211000</td>\n",
       "      <td>...</td>\n",
       "      <td>8.276668</td>\n",
       "      <td>8.217483</td>\n",
       "      <td>8.220633</td>\n",
       "      <td>8.277074</td>\n",
       "      <td>8.217376</td>\n",
       "      <td>8.219903</td>\n",
       "      <td>8.277226</td>\n",
       "      <td>8.217047</td>\n",
       "      <td>8.218819</td>\n",
       "      <td>8.277378</td>\n",
       "    </tr>\n",
       "    <tr>\n",
       "      <th>std</th>\n",
       "      <td>2.852188</td>\n",
       "      <td>2.913438</td>\n",
       "      <td>2.945594</td>\n",
       "      <td>2.852090</td>\n",
       "      <td>2.911313</td>\n",
       "      <td>2.947651</td>\n",
       "      <td>2.852212</td>\n",
       "      <td>2.909304</td>\n",
       "      <td>2.949689</td>\n",
       "      <td>2.852315</td>\n",
       "      <td>...</td>\n",
       "      <td>2.985219</td>\n",
       "      <td>2.853859</td>\n",
       "      <td>2.866984</td>\n",
       "      <td>2.986846</td>\n",
       "      <td>2.854054</td>\n",
       "      <td>2.864910</td>\n",
       "      <td>2.988465</td>\n",
       "      <td>2.854402</td>\n",
       "      <td>2.863166</td>\n",
       "      <td>2.990266</td>\n",
       "    </tr>\n",
       "    <tr>\n",
       "      <th>min</th>\n",
       "      <td>2.200000</td>\n",
       "      <td>2.200000</td>\n",
       "      <td>2.200000</td>\n",
       "      <td>2.200000</td>\n",
       "      <td>2.200000</td>\n",
       "      <td>2.200000</td>\n",
       "      <td>2.200000</td>\n",
       "      <td>2.200000</td>\n",
       "      <td>2.200000</td>\n",
       "      <td>2.200000</td>\n",
       "      <td>...</td>\n",
       "      <td>2.200000</td>\n",
       "      <td>2.200000</td>\n",
       "      <td>2.200000</td>\n",
       "      <td>2.200000</td>\n",
       "      <td>2.200000</td>\n",
       "      <td>2.200000</td>\n",
       "      <td>2.200000</td>\n",
       "      <td>2.200000</td>\n",
       "      <td>2.200000</td>\n",
       "      <td>2.200000</td>\n",
       "    </tr>\n",
       "    <tr>\n",
       "      <th>25%</th>\n",
       "      <td>6.100000</td>\n",
       "      <td>6.100000</td>\n",
       "      <td>6.100000</td>\n",
       "      <td>6.100000</td>\n",
       "      <td>6.100000</td>\n",
       "      <td>6.100000</td>\n",
       "      <td>6.100000</td>\n",
       "      <td>6.100000</td>\n",
       "      <td>6.100000</td>\n",
       "      <td>6.100000</td>\n",
       "      <td>...</td>\n",
       "      <td>6.100000</td>\n",
       "      <td>6.200000</td>\n",
       "      <td>6.100000</td>\n",
       "      <td>6.100000</td>\n",
       "      <td>6.200000</td>\n",
       "      <td>6.100000</td>\n",
       "      <td>6.100000</td>\n",
       "      <td>6.200000</td>\n",
       "      <td>6.100000</td>\n",
       "      <td>6.100000</td>\n",
       "    </tr>\n",
       "    <tr>\n",
       "      <th>50%</th>\n",
       "      <td>7.600000</td>\n",
       "      <td>7.600000</td>\n",
       "      <td>7.700000</td>\n",
       "      <td>7.600000</td>\n",
       "      <td>7.600000</td>\n",
       "      <td>7.700000</td>\n",
       "      <td>7.600000</td>\n",
       "      <td>7.600000</td>\n",
       "      <td>7.700000</td>\n",
       "      <td>7.600000</td>\n",
       "      <td>...</td>\n",
       "      <td>7.700000</td>\n",
       "      <td>7.600000</td>\n",
       "      <td>7.600000</td>\n",
       "      <td>7.700000</td>\n",
       "      <td>7.600000</td>\n",
       "      <td>7.600000</td>\n",
       "      <td>7.700000</td>\n",
       "      <td>7.600000</td>\n",
       "      <td>7.600000</td>\n",
       "      <td>7.700000</td>\n",
       "    </tr>\n",
       "    <tr>\n",
       "      <th>75%</th>\n",
       "      <td>9.800000</td>\n",
       "      <td>9.800000</td>\n",
       "      <td>9.800000</td>\n",
       "      <td>9.800000</td>\n",
       "      <td>9.800000</td>\n",
       "      <td>9.800000</td>\n",
       "      <td>9.800000</td>\n",
       "      <td>9.800000</td>\n",
       "      <td>9.800000</td>\n",
       "      <td>9.800000</td>\n",
       "      <td>...</td>\n",
       "      <td>9.900000</td>\n",
       "      <td>9.800000</td>\n",
       "      <td>9.800000</td>\n",
       "      <td>9.900000</td>\n",
       "      <td>9.800000</td>\n",
       "      <td>9.800000</td>\n",
       "      <td>9.900000</td>\n",
       "      <td>9.800000</td>\n",
       "      <td>9.800000</td>\n",
       "      <td>9.900000</td>\n",
       "    </tr>\n",
       "    <tr>\n",
       "      <th>max</th>\n",
       "      <td>22.200000</td>\n",
       "      <td>25.100000</td>\n",
       "      <td>27.800000</td>\n",
       "      <td>22.200000</td>\n",
       "      <td>25.100000</td>\n",
       "      <td>27.800000</td>\n",
       "      <td>22.200000</td>\n",
       "      <td>25.100000</td>\n",
       "      <td>27.800000</td>\n",
       "      <td>22.200000</td>\n",
       "      <td>...</td>\n",
       "      <td>27.800000</td>\n",
       "      <td>22.200000</td>\n",
       "      <td>22.700000</td>\n",
       "      <td>27.800000</td>\n",
       "      <td>22.200000</td>\n",
       "      <td>22.700000</td>\n",
       "      <td>27.800000</td>\n",
       "      <td>22.200000</td>\n",
       "      <td>22.700000</td>\n",
       "      <td>27.800000</td>\n",
       "    </tr>\n",
       "  </tbody>\n",
       "</table>\n",
       "<p>8 rows × 72 columns</p>\n",
       "</div>"
      ],
      "text/plain": [
       "             bg-5:55        bg-5:50        bg-5:45        bg-5:40  \\\n",
       "count  149770.000000  158533.000000  163364.000000  149766.000000   \n",
       "mean        8.211018       8.230449       8.253291       8.210988   \n",
       "std         2.852188       2.913438       2.945594       2.852090   \n",
       "min         2.200000       2.200000       2.200000       2.200000   \n",
       "25%         6.100000       6.100000       6.100000       6.100000   \n",
       "50%         7.600000       7.600000       7.700000       7.600000   \n",
       "75%         9.800000       9.800000       9.800000       9.800000   \n",
       "max        22.200000      25.100000      27.800000      22.200000   \n",
       "\n",
       "             bg-5:35        bg-5:30        bg-5:25        bg-5:20  \\\n",
       "count  158254.000000  163770.000000  149763.000000  157973.000000   \n",
       "mean        8.229649       8.254083       8.211049       8.228888   \n",
       "std         2.911313       2.947651       2.852212       2.909304   \n",
       "min         2.200000       2.200000       2.200000       2.200000   \n",
       "25%         6.100000       6.100000       6.100000       6.100000   \n",
       "50%         7.600000       7.700000       7.600000       7.600000   \n",
       "75%         9.800000       9.800000       9.800000       9.800000   \n",
       "max        25.100000      27.800000      22.200000      25.100000   \n",
       "\n",
       "             bg-5:15        bg-5:10  ...        bg-0:45        bg-0:40  \\\n",
       "count  164174.000000  149771.000000  ...  172565.000000  150859.000000   \n",
       "mean        8.254602       8.211000  ...       8.276668       8.217483   \n",
       "std         2.949689       2.852315  ...       2.985219       2.853859   \n",
       "min         2.200000       2.200000  ...       2.200000       2.200000   \n",
       "25%         6.100000       6.100000  ...       6.100000       6.200000   \n",
       "50%         7.700000       7.600000  ...       7.700000       7.600000   \n",
       "75%         9.800000       9.800000  ...       9.900000       9.800000   \n",
       "max        27.800000      22.200000  ...      27.800000      22.200000   \n",
       "\n",
       "             bg-0:35        bg-0:30        bg-0:25        bg-0:20  \\\n",
       "count  152906.000000  173160.000000  151028.000000  152743.000000   \n",
       "mean        8.220633       8.277074       8.217376       8.219903   \n",
       "std         2.866984       2.986846       2.854054       2.864910   \n",
       "min         2.200000       2.200000       2.200000       2.200000   \n",
       "25%         6.100000       6.100000       6.200000       6.100000   \n",
       "50%         7.600000       7.700000       7.600000       7.600000   \n",
       "75%         9.800000       9.900000       9.800000       9.800000   \n",
       "max        22.700000      27.800000      22.200000      22.700000   \n",
       "\n",
       "             bg-0:15        bg-0:10        bg-0:05        bg-0:00  \n",
       "count  173752.000000  151202.000000  152586.000000  174328.000000  \n",
       "mean        8.277226       8.217047       8.218819       8.277378  \n",
       "std         2.988465       2.854402       2.863166       2.990266  \n",
       "min         2.200000       2.200000       2.200000       2.200000  \n",
       "25%         6.100000       6.200000       6.100000       6.100000  \n",
       "50%         7.700000       7.600000       7.600000       7.700000  \n",
       "75%         9.900000       9.800000       9.800000       9.900000  \n",
       "max        27.800000      22.200000      22.700000      27.800000  \n",
       "\n",
       "[8 rows x 72 columns]"
      ]
     },
     "execution_count": 3,
     "metadata": {},
     "output_type": "execute_result"
    }
   ],
   "source": [
    "patients[bg_cols].describe()"
   ]
  },
  {
   "cell_type": "code",
   "execution_count": 4,
   "id": "401a393d-8847-4647-9305-ee909ad47e78",
   "metadata": {},
   "outputs": [
    {
     "name": "stdout",
     "output_type": "stream",
     "text": [
      "Overall minimum value across all bg-* columns: 2.2\n",
      "Overall maximum value across all bg-* columns: 27.8\n"
     ]
    }
   ],
   "source": [
    "# Get the describe() result for all 'bg-*' columns\n",
    "df_bg = patients[bg_cols].describe()\n",
    "\n",
    "# Extract the minimum and maximum values across all bg-* columns\n",
    "overall_min = df_bg.loc['min'].min()  # Get the smallest 'min' value across all bg-* columns\n",
    "overall_max = df_bg.loc['max'].max()  # Get the largest 'max' value across all bg-* columns\n",
    "\n",
    "# Display the results\n",
    "print(f\"Overall minimum value across all bg-* columns: {overall_min}\")\n",
    "print(f\"Overall maximum value across all bg-* columns: {overall_max}\")"
   ]
  },
  {
   "cell_type": "code",
   "execution_count": 5,
   "id": "a02a4640-bea3-4cf4-b5e9-cd1c9c4d16f1",
   "metadata": {},
   "outputs": [
    {
     "data": {
      "text/html": [
       "<div>\n",
       "<style scoped>\n",
       "    .dataframe tbody tr th:only-of-type {\n",
       "        vertical-align: middle;\n",
       "    }\n",
       "\n",
       "    .dataframe tbody tr th {\n",
       "        vertical-align: top;\n",
       "    }\n",
       "\n",
       "    .dataframe thead th {\n",
       "        text-align: right;\n",
       "    }\n",
       "</style>\n",
       "<table border=\"1\" class=\"dataframe\">\n",
       "  <thead>\n",
       "    <tr style=\"text-align: right;\">\n",
       "      <th></th>\n",
       "      <th>min</th>\n",
       "      <th>max</th>\n",
       "    </tr>\n",
       "    <tr>\n",
       "      <th>p_num</th>\n",
       "      <th></th>\n",
       "      <th></th>\n",
       "    </tr>\n",
       "  </thead>\n",
       "  <tbody>\n",
       "    <tr>\n",
       "      <th>p01</th>\n",
       "      <td>2.3</td>\n",
       "      <td>27.8</td>\n",
       "    </tr>\n",
       "    <tr>\n",
       "      <th>p02</th>\n",
       "      <td>2.2</td>\n",
       "      <td>22.2</td>\n",
       "    </tr>\n",
       "    <tr>\n",
       "      <th>p03</th>\n",
       "      <td>2.2</td>\n",
       "      <td>22.2</td>\n",
       "    </tr>\n",
       "    <tr>\n",
       "      <th>p04</th>\n",
       "      <td>2.2</td>\n",
       "      <td>18.4</td>\n",
       "    </tr>\n",
       "    <tr>\n",
       "      <th>p05</th>\n",
       "      <td>2.9</td>\n",
       "      <td>20.6</td>\n",
       "    </tr>\n",
       "    <tr>\n",
       "      <th>p06</th>\n",
       "      <td>2.9</td>\n",
       "      <td>27.8</td>\n",
       "    </tr>\n",
       "    <tr>\n",
       "      <th>p10</th>\n",
       "      <td>2.2</td>\n",
       "      <td>15.9</td>\n",
       "    </tr>\n",
       "    <tr>\n",
       "      <th>p11</th>\n",
       "      <td>2.2</td>\n",
       "      <td>20.8</td>\n",
       "    </tr>\n",
       "    <tr>\n",
       "      <th>p12</th>\n",
       "      <td>2.8</td>\n",
       "      <td>22.2</td>\n",
       "    </tr>\n",
       "  </tbody>\n",
       "</table>\n",
       "</div>"
      ],
      "text/plain": [
       "       min   max\n",
       "p_num           \n",
       "p01    2.3  27.8\n",
       "p02    2.2  22.2\n",
       "p03    2.2  22.2\n",
       "p04    2.2  18.4\n",
       "p05    2.9  20.6\n",
       "p06    2.9  27.8\n",
       "p10    2.2  15.9\n",
       "p11    2.2  20.8\n",
       "p12    2.8  22.2"
      ]
     },
     "execution_count": 5,
     "metadata": {},
     "output_type": "execute_result"
    }
   ],
   "source": [
    "patients.groupby('p_num')['bg-5:45'].agg(['min', 'max'])"
   ]
  },
  {
   "cell_type": "markdown",
   "id": "4b5b3e79-d6e0-47d5-88c2-cb14606565f4",
   "metadata": {},
   "source": [
    "> <b>Summary</b>: There are some extreme values for blood glucose present but still realistic for some patients."
   ]
  },
  {
   "cell_type": "markdown",
   "id": "6e87a76a-9f77-4f17-a5d2-df144369a34b",
   "metadata": {},
   "source": [
    "### Outliers for insulin-* columns"
   ]
  },
  {
   "cell_type": "code",
   "execution_count": 6,
   "id": "3fc47b9e-8985-4816-989d-583b382859ce",
   "metadata": {},
   "outputs": [
    {
     "name": "stdout",
     "output_type": "stream",
     "text": [
      "Overall minimum value across all insulin-* columns: -0.3078\n",
      "Overall maximum value across all insulin-* columns: 46.311\n"
     ]
    }
   ],
   "source": [
    "# Get the describe() result for all 'insulin-*' columns\n",
    "df_insulin = patients[insulin_cols].describe()\n",
    "\n",
    "# Extract the minimum and maximum values across all insulin-* columns\n",
    "overall_min = df_insulin.loc['min'].min() \n",
    "overall_max = df_insulin.loc['max'].max()  \n",
    "\n",
    "# Display the results\n",
    "print(f\"Overall minimum value across all insulin-* columns: {overall_min}\")\n",
    "print(f\"Overall maximum value across all insulin-* columns: {overall_max}\")"
   ]
  },
  {
   "cell_type": "markdown",
   "id": "63867530-d540-4060-9a21-9716f6b3c0e7",
   "metadata": {},
   "source": [
    "<b>a) Investigating negative insulin</b>"
   ]
  },
  {
   "cell_type": "code",
   "execution_count": 7,
   "id": "a9e9c076-6b2b-4809-9faa-2dabb4dc14f1",
   "metadata": {},
   "outputs": [
    {
     "name": "stdout",
     "output_type": "stream",
     "text": [
      "[-0.3078, -0.059]\n"
     ]
    }
   ],
   "source": [
    "# (patients[insulin_cols] < 0).groupby(patients['p_num']).sum()  # result: only p12 has some negativ values\n",
    "\n",
    "# Create an empty list to store unique negative values\n",
    "unique_negative_values = set()\n",
    "\n",
    "# Iterate through each insulin column and patient 'p12'\n",
    "for col in insulin_cols:\n",
    "    negative_values = patients[(patients['p_num'] == 'p12') & (patients[col] < 0)][col]\n",
    "    \n",
    "    # Add the negative values to the set (automatically handles uniqueness)\n",
    "    unique_negative_values.update(negative_values.dropna())\n",
    "\n",
    "# Convert the set to a sorted list and display\n",
    "unique_negative_values = sorted(unique_negative_values)\n",
    "print(unique_negative_values)\n"
   ]
  },
  {
   "cell_type": "markdown",
   "id": "383bdc8b-a159-4a3e-bb9a-02bf1aac2e04",
   "metadata": {},
   "source": [
    "<b>a) Investigating positiv extremes</b>"
   ]
  },
  {
   "cell_type": "code",
   "execution_count": 8,
   "id": "1f212d25-60e5-49e5-b398-80e3a8df5e59",
   "metadata": {},
   "outputs": [
    {
     "data": {
      "image/png": "[encoded data removed]",
      "text/plain": [
       "<Figure size 700x300 with 1 Axes>"
      ]
     },
     "metadata": {},
     "output_type": "display_data"
    }
   ],
   "source": [
    "import matplotlib.pyplot as plt\n",
    "import seaborn as sns\n",
    "\n",
    "insulin_values = patients[\"insulin-0:00\"].dropna()\n",
    "\n",
    "# Create a figure for the histogram and KDE plot\n",
    "plt.figure(figsize=(7, 3))\n",
    "\n",
    "sns.histplot(insulin_values, bins=30, kde=True, color='blue', stat='density')\n",
    "\n",
    "# Add labels and title\n",
    "plt.xlabel('Insulin dose')\n",
    "plt.ylabel('Density')\n",
    "plt.title('Distribution of insulin doses (insulin-0:00) for all patients')\n",
    "\n",
    "plt.show()"
   ]
  },
  {
   "cell_type": "code",
   "execution_count": 9,
   "id": "4b48464d-469c-485d-9b14-2635f3bd35ce",
   "metadata": {},
   "outputs": [
    {
     "data": {
      "text/html": [
       "<div>\n",
       "<style scoped>\n",
       "    .dataframe tbody tr th:only-of-type {\n",
       "        vertical-align: middle;\n",
       "    }\n",
       "\n",
       "    .dataframe tbody tr th {\n",
       "        vertical-align: top;\n",
       "    }\n",
       "\n",
       "    .dataframe thead th {\n",
       "        text-align: right;\n",
       "    }\n",
       "</style>\n",
       "<table border=\"1\" class=\"dataframe\">\n",
       "  <thead>\n",
       "    <tr style=\"text-align: right;\">\n",
       "      <th></th>\n",
       "      <th>min</th>\n",
       "      <th>max</th>\n",
       "    </tr>\n",
       "    <tr>\n",
       "      <th>p_num</th>\n",
       "      <th></th>\n",
       "      <th></th>\n",
       "    </tr>\n",
       "  </thead>\n",
       "  <tbody>\n",
       "    <tr>\n",
       "      <th>p01</th>\n",
       "      <td>0.0000</td>\n",
       "      <td>11.7417</td>\n",
       "    </tr>\n",
       "    <tr>\n",
       "      <th>p02</th>\n",
       "      <td>0.0000</td>\n",
       "      <td>18.0833</td>\n",
       "    </tr>\n",
       "    <tr>\n",
       "      <th>p03</th>\n",
       "      <td>0.0000</td>\n",
       "      <td>46.3110</td>\n",
       "    </tr>\n",
       "    <tr>\n",
       "      <th>p04</th>\n",
       "      <td>0.0000</td>\n",
       "      <td>42.7800</td>\n",
       "    </tr>\n",
       "    <tr>\n",
       "      <th>p05</th>\n",
       "      <td>0.0000</td>\n",
       "      <td>8.1542</td>\n",
       "    </tr>\n",
       "    <tr>\n",
       "      <th>p06</th>\n",
       "      <td>0.0000</td>\n",
       "      <td>14.1833</td>\n",
       "    </tr>\n",
       "    <tr>\n",
       "      <th>p10</th>\n",
       "      <td>0.0000</td>\n",
       "      <td>9.0833</td>\n",
       "    </tr>\n",
       "    <tr>\n",
       "      <th>p11</th>\n",
       "      <td>0.0000</td>\n",
       "      <td>12.4167</td>\n",
       "    </tr>\n",
       "    <tr>\n",
       "      <th>p12</th>\n",
       "      <td>-0.3078</td>\n",
       "      <td>25.3500</td>\n",
       "    </tr>\n",
       "  </tbody>\n",
       "</table>\n",
       "</div>"
      ],
      "text/plain": [
       "          min      max\n",
       "p_num                 \n",
       "p01    0.0000  11.7417\n",
       "p02    0.0000  18.0833\n",
       "p03    0.0000  46.3110\n",
       "p04    0.0000  42.7800\n",
       "p05    0.0000   8.1542\n",
       "p06    0.0000  14.1833\n",
       "p10    0.0000   9.0833\n",
       "p11    0.0000  12.4167\n",
       "p12   -0.3078  25.3500"
      ]
     },
     "execution_count": 9,
     "metadata": {},
     "output_type": "execute_result"
    }
   ],
   "source": [
    "patients.groupby('p_num')['insulin-0:00'].agg(['min', 'max'])"
   ]
  },
  {
   "cell_type": "markdown",
   "id": "da307162-fa42-44d8-a561-dd776674b353",
   "metadata": {},
   "source": [
    "> <b>Summary:</b> For patient p12, we detected some negative values. Negative insulin values are often the result of data entry errors, sensor malfunctions, or recording issues in the dataset.\n",
    "> Since there are only two different negative values and they fall outside the usual value ranges, we will replace them with their corresponding positive values. This step will be carried out during the data preprocessing phase.\n",
    ">\n",
    "> Additionally, for two other patients, we observe extremely high insulin doses. While these values do not appear to be errors, the data is still right-skewed and will need to be addressed."
   ]
  },
  {
   "cell_type": "markdown",
   "id": "be11754e-f85c-43a5-852f-ad52fcb300ac",
   "metadata": {},
   "source": [
    "## Outliers for carbs-* columns"
   ]
  },
  {
   "cell_type": "code",
   "execution_count": 10,
   "id": "35d1ac3d-0d9e-4724-8326-52b3e2b7b178",
   "metadata": {},
   "outputs": [
    {
     "name": "stdout",
     "output_type": "stream",
     "text": [
      "Overall minimum value across all carbs-* columns: 1.0\n",
      "Overall maximum value across all carbs-* columns: 852.0\n"
     ]
    }
   ],
   "source": [
    "# Get the describe() result for all 'carbs-*' columns\n",
    "df_carbs = patients[carbs_cols].describe()\n",
    "\n",
    "# Extract the minimum and maximum values across all hr-* columns\n",
    "overall_min = df_carbs.loc['min'].min() \n",
    "overall_max = df_carbs.loc['max'].max() \n",
    "\n",
    "# Display the results\n",
    "print(f\"Overall minimum value across all carbs-* columns: {overall_min}\")\n",
    "print(f\"Overall maximum value across all carbs-* columns: {overall_max}\")"
   ]
  },
  {
   "cell_type": "markdown",
   "id": "15131e37-445e-4390-996e-c15b2c9d16f3",
   "metadata": {},
   "source": [
    "> <b>Summary:</b> The values for carbohydrate consumption, ranging from 1.0 to 852.0 grams, raise concerns about their realism and appropriateness for our use case. Given that these data are self-reported by patients and 98% of the values are missing, we may consider excluding these columns from the model."
   ]
  },
  {
   "cell_type": "markdown",
   "id": "d823dff8-bcdf-4ede-b3cb-98d5ef2104c5",
   "metadata": {},
   "source": [
    "### Outliers for hr-* columns"
   ]
  },
  {
   "cell_type": "code",
   "execution_count": 11,
   "id": "ecb6e299-9fb8-4c92-9f80-2afc9cc2fda0",
   "metadata": {},
   "outputs": [
    {
     "name": "stdout",
     "output_type": "stream",
     "text": [
      "Overall minimum value across all hr-* columns: 37.6\n",
      "Overall maximum value across all hr-* columns: 185.3\n"
     ]
    }
   ],
   "source": [
    "# Get the describe() result for all 'hr-*' columns\n",
    "df_hr = patients[hr_cols].describe()\n",
    "\n",
    "# Extract the minimum and maximum values across all hr-* columns\n",
    "overall_min = df_hr.loc['min'].min()  \n",
    "overall_max = df_hr.loc['max'].max()  # Group by 'p_num' and calculate the min and max of 'hr-5:55' for each patient\n",
    "patients.groupby('p_num')['hr-5:55'].agg(['min', 'max'])\n",
    "\n",
    "# Display the results\n",
    "print(f\"Overall minimum value across all hr-* columns: {overall_min}\")\n",
    "print(f\"Overall maximum value across all hr-* columns: {overall_max}\")"
   ]
  },
  {
   "cell_type": "code",
   "execution_count": 12,
   "id": "8e0e85a6-a377-490b-8606-c5a4126e0d11",
   "metadata": {},
   "outputs": [
    {
     "data": {
      "text/html": [
       "<div>\n",
       "<style scoped>\n",
       "    .dataframe tbody tr th:only-of-type {\n",
       "        vertical-align: middle;\n",
       "    }\n",
       "\n",
       "    .dataframe tbody tr th {\n",
       "        vertical-align: top;\n",
       "    }\n",
       "\n",
       "    .dataframe thead th {\n",
       "        text-align: right;\n",
       "    }\n",
       "</style>\n",
       "<table border=\"1\" class=\"dataframe\">\n",
       "  <thead>\n",
       "    <tr style=\"text-align: right;\">\n",
       "      <th></th>\n",
       "      <th>min</th>\n",
       "      <th>max</th>\n",
       "    </tr>\n",
       "    <tr>\n",
       "      <th>p_num</th>\n",
       "      <th></th>\n",
       "      <th></th>\n",
       "    </tr>\n",
       "  </thead>\n",
       "  <tbody>\n",
       "    <tr>\n",
       "      <th>p01</th>\n",
       "      <td>47.3</td>\n",
       "      <td>163.8</td>\n",
       "    </tr>\n",
       "    <tr>\n",
       "      <th>p02</th>\n",
       "      <td>40.0</td>\n",
       "      <td>185.3</td>\n",
       "    </tr>\n",
       "    <tr>\n",
       "      <th>p03</th>\n",
       "      <td>47.2</td>\n",
       "      <td>156.8</td>\n",
       "    </tr>\n",
       "    <tr>\n",
       "      <th>p04</th>\n",
       "      <td>50.7</td>\n",
       "      <td>164.4</td>\n",
       "    </tr>\n",
       "    <tr>\n",
       "      <th>p05</th>\n",
       "      <td>43.9</td>\n",
       "      <td>158.2</td>\n",
       "    </tr>\n",
       "    <tr>\n",
       "      <th>p06</th>\n",
       "      <td>37.6</td>\n",
       "      <td>155.1</td>\n",
       "    </tr>\n",
       "    <tr>\n",
       "      <th>p10</th>\n",
       "      <td>47.4</td>\n",
       "      <td>184.2</td>\n",
       "    </tr>\n",
       "    <tr>\n",
       "      <th>p11</th>\n",
       "      <td>49.7</td>\n",
       "      <td>164.8</td>\n",
       "    </tr>\n",
       "    <tr>\n",
       "      <th>p12</th>\n",
       "      <td>49.7</td>\n",
       "      <td>136.6</td>\n",
       "    </tr>\n",
       "  </tbody>\n",
       "</table>\n",
       "</div>"
      ],
      "text/plain": [
       "        min    max\n",
       "p_num             \n",
       "p01    47.3  163.8\n",
       "p02    40.0  185.3\n",
       "p03    47.2  156.8\n",
       "p04    50.7  164.4\n",
       "p05    43.9  158.2\n",
       "p06    37.6  155.1\n",
       "p10    47.4  184.2\n",
       "p11    49.7  164.8\n",
       "p12    49.7  136.6"
      ]
     },
     "execution_count": 12,
     "metadata": {},
     "output_type": "execute_result"
    }
   ],
   "source": [
    "# Group by 'p_num' and calculate the min and max of 'hr-5:55' for each patient\n",
    "patients.groupby('p_num')['hr-5:55'].agg(['min', 'max'])"
   ]
  },
  {
   "cell_type": "markdown",
   "id": "24aac468-b049-47b8-836d-87566fb55397",
   "metadata": {},
   "source": [
    "> <b>Summary:</b>\n",
    "> For one patient (p06), we observed an unusually low heart rate of 37.6 bpm. While this value could be realistic for elite athletes or during deep sleep, it is generally considered abnormally low for most people. For now, we will leave this value as is, as it might indicate an important clinical signal (e.g., severe bradycardia). However, we should keep in mind that in a small dataset of only nine patients, even a single outlier can have a larger impact compared to larger datasets. If we apply models like random forests, gradient boosting or SVM - which are more robust to outliers - this outlier might have minimal impact.\n",
    "> \n",
    ">A similar consideration applies to the extreme value of 185.3 bpm for patient p02."
   ]
  },
  {
   "cell_type": "markdown",
   "id": "6149b482-4f8f-4ecf-9fad-2144bd918c78",
   "metadata": {},
   "source": [
    "### Outliers for steps-* columns"
   ]
  },
  {
   "cell_type": "code",
   "execution_count": 13,
   "id": "debfd6b6-579c-41d8-8647-1d9892ea919a",
   "metadata": {},
   "outputs": [
    {
     "name": "stdout",
     "output_type": "stream",
     "text": [
      "Overall minimum value across all steps-* columns: 0.0\n",
      "Overall maximum value across all steps-* columns: 1359.0\n"
     ]
    }
   ],
   "source": [
    "# Get the describe() result for all 'steps-*' columns\n",
    "df_steps = patients[steps_cols].describe()\n",
    "\n",
    "# Extract the minimum and maximum values across all steps-* columns\n",
    "overall_min = df_steps.loc['min'].min()  \n",
    "overall_max = df_steps.loc['max'].max() \n",
    "\n",
    "# Display the results\n",
    "print(f\"Overall minimum value across all steps-* columns: {overall_min}\")\n",
    "print(f\"Overall maximum value across all steps-* columns: {overall_max}\")"
   ]
  },
  {
   "cell_type": "code",
   "execution_count": 14,
   "id": "63bb1615-ef81-4152-97ec-6752c8f55463",
   "metadata": {},
   "outputs": [
    {
     "data": {
      "image/png": "[encoded data removed]",
      "text/plain": [
       "<Figure size 700x300 with 1 Axes>"
      ]
     },
     "metadata": {},
     "output_type": "display_data"
    }
   ],
   "source": [
    "import matplotlib.pyplot as plt\n",
    "import seaborn as sns\n",
    "\n",
    "steps_values = patients[\"steps-0:00\"].dropna()\n",
    "\n",
    "# Create a figure for the histogram and KDE plot\n",
    "plt.figure(figsize=(7, 3))\n",
    "\n",
    "sns.histplot(steps_values, bins=30, kde=True, color='blue', stat='density')\n",
    "\n",
    "# Add labels and title\n",
    "plt.xlabel('Steps')\n",
    "plt.ylabel('Density')\n",
    "plt.title('Distribution of steps (steps-0:00) for all patients')\n",
    "\n",
    "plt.show()"
   ]
  },
  {
   "cell_type": "code",
   "execution_count": 15,
   "id": "d0484e53-7307-49c9-8453-e29d171d871f",
   "metadata": {},
   "outputs": [
    {
     "data": {
      "text/html": [
       "<div>\n",
       "<style scoped>\n",
       "    .dataframe tbody tr th:only-of-type {\n",
       "        vertical-align: middle;\n",
       "    }\n",
       "\n",
       "    .dataframe tbody tr th {\n",
       "        vertical-align: top;\n",
       "    }\n",
       "\n",
       "    .dataframe thead th {\n",
       "        text-align: right;\n",
       "    }\n",
       "</style>\n",
       "<table border=\"1\" class=\"dataframe\">\n",
       "  <thead>\n",
       "    <tr style=\"text-align: right;\">\n",
       "      <th></th>\n",
       "      <th>min</th>\n",
       "      <th>max</th>\n",
       "    </tr>\n",
       "    <tr>\n",
       "      <th>p_num</th>\n",
       "      <th></th>\n",
       "      <th></th>\n",
       "    </tr>\n",
       "  </thead>\n",
       "  <tbody>\n",
       "    <tr>\n",
       "      <th>p01</th>\n",
       "      <td>0.0</td>\n",
       "      <td>741.0</td>\n",
       "    </tr>\n",
       "    <tr>\n",
       "      <th>p02</th>\n",
       "      <td>1.0</td>\n",
       "      <td>1359.0</td>\n",
       "    </tr>\n",
       "    <tr>\n",
       "      <th>p03</th>\n",
       "      <td>0.0</td>\n",
       "      <td>582.0</td>\n",
       "    </tr>\n",
       "    <tr>\n",
       "      <th>p04</th>\n",
       "      <td>0.0</td>\n",
       "      <td>673.0</td>\n",
       "    </tr>\n",
       "    <tr>\n",
       "      <th>p05</th>\n",
       "      <td>0.0</td>\n",
       "      <td>660.0</td>\n",
       "    </tr>\n",
       "    <tr>\n",
       "      <th>p06</th>\n",
       "      <td>0.0</td>\n",
       "      <td>627.0</td>\n",
       "    </tr>\n",
       "    <tr>\n",
       "      <th>p10</th>\n",
       "      <td>0.0</td>\n",
       "      <td>783.0</td>\n",
       "    </tr>\n",
       "    <tr>\n",
       "      <th>p11</th>\n",
       "      <td>0.0</td>\n",
       "      <td>660.0</td>\n",
       "    </tr>\n",
       "    <tr>\n",
       "      <th>p12</th>\n",
       "      <td>0.0</td>\n",
       "      <td>567.0</td>\n",
       "    </tr>\n",
       "  </tbody>\n",
       "</table>\n",
       "</div>"
      ],
      "text/plain": [
       "       min     max\n",
       "p_num             \n",
       "p01    0.0   741.0\n",
       "p02    1.0  1359.0\n",
       "p03    0.0   582.0\n",
       "p04    0.0   673.0\n",
       "p05    0.0   660.0\n",
       "p06    0.0   627.0\n",
       "p10    0.0   783.0\n",
       "p11    0.0   660.0\n",
       "p12    0.0   567.0"
      ]
     },
     "execution_count": 15,
     "metadata": {},
     "output_type": "execute_result"
    }
   ],
   "source": [
    "# Group by 'p_num' and calculate the min and max of 'steps-0:00' for each patient\n",
    "patients.groupby('p_num')['steps-0:00'].agg(['min', 'max'])"
   ]
  },
  {
   "cell_type": "code",
   "execution_count": 16,
   "id": "513347e8-dce5-4cbf-9207-cf70f28f986c",
   "metadata": {},
   "outputs": [
    {
     "name": "stdout",
     "output_type": "stream",
     "text": [
      "      activity-0:00  steps-0:00\n",
      "19127       Walking      1359.0\n"
     ]
    }
   ],
   "source": [
    "# Filter the dataset for patient 'p02' where 'steps-0:00' equals 1359\n",
    "activity_steps_1359_p02 = patients[(patients['p_num'] == 'p02') & (patients['steps-0:00'] == 1359)][['activity-0:00', 'steps-0:00']]\n",
    "\n",
    "# Display the result\n",
    "print(activity_steps_1359_p02)"
   ]
  },
  {
   "cell_type": "code",
   "execution_count": 17,
   "id": "1b3ab83b-2bc9-440c-b7d8-b3bf58f527d3",
   "metadata": {},
   "outputs": [
    {
     "data": {
      "text/html": [
       "<div>\n",
       "<style scoped>\n",
       "    .dataframe tbody tr th:only-of-type {\n",
       "        vertical-align: middle;\n",
       "    }\n",
       "\n",
       "    .dataframe tbody tr th {\n",
       "        vertical-align: top;\n",
       "    }\n",
       "\n",
       "    .dataframe thead th {\n",
       "        text-align: right;\n",
       "    }\n",
       "</style>\n",
       "<table border=\"1\" class=\"dataframe\">\n",
       "  <thead>\n",
       "    <tr style=\"text-align: right;\">\n",
       "      <th></th>\n",
       "      <th>steps-5:55</th>\n",
       "      <th>steps-5:50</th>\n",
       "      <th>steps-5:45</th>\n",
       "      <th>steps-5:40</th>\n",
       "      <th>steps-5:35</th>\n",
       "      <th>steps-5:30</th>\n",
       "      <th>steps-5:25</th>\n",
       "      <th>steps-5:20</th>\n",
       "      <th>steps-5:15</th>\n",
       "      <th>steps-5:10</th>\n",
       "      <th>...</th>\n",
       "      <th>activity-0:45</th>\n",
       "      <th>activity-0:40</th>\n",
       "      <th>activity-0:35</th>\n",
       "      <th>activity-0:30</th>\n",
       "      <th>activity-0:25</th>\n",
       "      <th>activity-0:20</th>\n",
       "      <th>activity-0:15</th>\n",
       "      <th>activity-0:10</th>\n",
       "      <th>activity-0:05</th>\n",
       "      <th>activity-0:00</th>\n",
       "    </tr>\n",
       "  </thead>\n",
       "  <tbody>\n",
       "    <tr>\n",
       "      <th>19127</th>\n",
       "      <td>NaN</td>\n",
       "      <td>NaN</td>\n",
       "      <td>NaN</td>\n",
       "      <td>NaN</td>\n",
       "      <td>NaN</td>\n",
       "      <td>NaN</td>\n",
       "      <td>NaN</td>\n",
       "      <td>NaN</td>\n",
       "      <td>NaN</td>\n",
       "      <td>NaN</td>\n",
       "      <td>...</td>\n",
       "      <td>Walking</td>\n",
       "      <td>Walking</td>\n",
       "      <td>Walking</td>\n",
       "      <td>Walking</td>\n",
       "      <td>Walking</td>\n",
       "      <td>Walking</td>\n",
       "      <td>Walking</td>\n",
       "      <td>Walking</td>\n",
       "      <td>Walking</td>\n",
       "      <td>Walking</td>\n",
       "    </tr>\n",
       "  </tbody>\n",
       "</table>\n",
       "<p>1 rows × 144 columns</p>\n",
       "</div>"
      ],
      "text/plain": [
       "       steps-5:55  steps-5:50  steps-5:45  steps-5:40  steps-5:35  steps-5:30  \\\n",
       "19127         NaN         NaN         NaN         NaN         NaN         NaN   \n",
       "\n",
       "       steps-5:25  steps-5:20  steps-5:15  steps-5:10  ...  activity-0:45  \\\n",
       "19127         NaN         NaN         NaN         NaN  ...        Walking   \n",
       "\n",
       "       activity-0:40  activity-0:35  activity-0:30  activity-0:25  \\\n",
       "19127        Walking        Walking        Walking        Walking   \n",
       "\n",
       "       activity-0:20  activity-0:15  activity-0:10  activity-0:05  \\\n",
       "19127        Walking        Walking        Walking        Walking   \n",
       "\n",
       "       activity-0:00  \n",
       "19127        Walking  \n",
       "\n",
       "[1 rows x 144 columns]"
      ]
     },
     "execution_count": 17,
     "metadata": {},
     "output_type": "execute_result"
    }
   ],
   "source": [
    "patients[(patients['p_num'] == 'p02') & (patients['steps-0:00'] == 1359)][steps_cols + activity_cols]"
   ]
  },
  {
   "cell_type": "markdown",
   "id": "2c3d86b6-b11c-4171-a2ec-ef3d82a0a9cc",
   "metadata": {},
   "source": [
    "><b>Summary:</b> The average walking speed for a healthy adult is around 100 to 120 steps per minute. Over a 5-minute period, a typical person would walk approximately 500 to 600 steps at a moderate pace. Therefore, a value of 1359 steps appears to be an outlier or extreme value. However, after considering the frequency and trends in neighboring records, along with the fact that the activity was reported as \"Walking,\" we can conclude that this value is likely valid in the context of possible intense physical activity."
   ]
  },
  {
   "cell_type": "markdown",
   "id": "bbd1662a-e4ea-46fb-ae41-35d393d1c18d",
   "metadata": {},
   "source": [
    "### Outliers for cals-* columns"
   ]
  },
  {
   "cell_type": "code",
   "execution_count": 18,
   "id": "4a1bbfff-f236-4e7a-9c85-076c69c4a246",
   "metadata": {},
   "outputs": [
    {
     "name": "stdout",
     "output_type": "stream",
     "text": [
      "Overall minimum value across all cals-* columns: 0.03\n",
      "Overall maximum value across all cals-* columns: 116.1\n"
     ]
    }
   ],
   "source": [
    "# Get the describe() result for all 'cals-*' columns\n",
    "df_cals = patients[cals_cols].describe()\n",
    "\n",
    "# Extract the minimum and maximum values across all steps-* columns\n",
    "overall_min = df_cals.loc['min'].min()  \n",
    "overall_max = df_cals.loc['max'].max() \n",
    "\n",
    "# Display the results\n",
    "print(f\"Overall minimum value across all cals-* columns: {overall_min}\")\n",
    "print(f\"Overall maximum value across all cals-* columns: {overall_max}\")"
   ]
  },
  {
   "cell_type": "markdown",
   "id": "58757aa8-b2df-4b78-b1fe-14f97eabde89",
   "metadata": {},
   "source": [
    "><b>Summary:</b> The values observed here appear realistic, considering potential physical activities."
   ]
  }
 ],
 "metadata": {
  "kernelspec": {
   "display_name": "Python 3 (ipykernel)",
   "language": "python",
   "name": "python3"
  },
  "language_info": {
   "codemirror_mode": {
    "name": "ipython",
    "version": 3
   },
   "file_extension": ".py",
   "mimetype": "text/x-python",
   "name": "python",
   "nbconvert_exporter": "python",
   "pygments_lexer": "ipython3",
   "version": "3.12.5"
  }
 },
 "nbformat": 4,
 "nbformat_minor": 5
}
