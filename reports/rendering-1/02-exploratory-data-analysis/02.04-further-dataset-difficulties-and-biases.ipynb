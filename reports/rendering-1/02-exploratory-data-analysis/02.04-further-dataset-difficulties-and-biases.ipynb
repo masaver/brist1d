{
 "cells": [
  {
   "cell_type": "markdown",
   "id": "8318b3e7d7be89b8",
   "metadata": {},
   "source": [
    "# Further Dataset Difficulties and Biases"
   ]
  },
  {
   "cell_type": "markdown",
   "id": "f5a34c12-8194-4f81-bae4-5f868b28f169",
   "metadata": {},
   "source": [
    "The objective of the first step in this learning project was to explore the dataset and conduct a thorough analysis to uncover its structure, challenges, and potential biases. This notebook highlights the most significant observations and considerations. While many important decisions cannot be made at this stage, they will be addressed in the subsequent steps of the project."
   ]
  },
  {
   "cell_type": "markdown",
   "id": "c8a885565f4b6acf",
   "metadata": {},
   "source": [
    "## Observations on data\n",
    "\n",
    "- <strong>Inconsistency:</strong> different time intervals for different patients in the dataset (some recorded every 5 minutes and others every 15 minutes)\n",
    "- <strong>Potential data loss:</strong> if we attempt to standardize the time intervals, we risk losing data or oversimplifying trends, especially in patients with finer granularity (5-minute intervals).\n",
    "\n",
    "<b>Possible Approaches:</b>\n",
    "\n",
    "<b>1.</b> Resampling the data to a consistent time interval:\n",
    "- Up-sampling (resample to 5 minutes for all patients).\n",
    "- Down-sampling (resample to 15 minutes for all patients).\n",
    "\n",
    "<b>a) Up-sampling:</b> involves resampling all patient data to the finer 5-minute intervals. For patients who have data recorded every 15 minutes, we could interpolate missing values for the in-between time points.\n",
    "\n",
    "<b>Pros:</b>\n",
    "- Keeps the finer-granularity data intact for those patients who already have 5-minute intervals.\n",
    "- Allows for more detailed time-series analysis.\n",
    "  \n",
    "<b>Cons:</b>\n",
    "- Interpolating data for the patients who originally have 15-minute intervals might introduce artificial data points, which may not capture the true variability of the measurements.\n",
    "\n",
    "<b>b) Down-sampling:</b> resampling everyone’s data to 15-minute intervals by aggregating the 5-minute data for patients with finer granularity (e.g. taking averages or sums over each 15-minute period).\n",
    "\n",
    "<b>Pros:</b>\n",
    "- Simpler, and no interpolation is needed.\n",
    "- Keeps the data more consistent with what was actually measured for those with 15-minute intervals.\n",
    "\n",
    "<b>Cons:</b>\n",
    "- We might lose detail from patients who had more frequent measurements, which could result in losing important patterns in their data.\n",
    "\n",
    "<b>2.</b> Handling each interval separately: another option for building models on patients with 5-min interval separately from the patients with 15-min interval.\n",
    "\n",
    "<b>Pros:</b>\n",
    "- We retain the original data for each patient.\n",
    "- We don’t need to interpolate or downsample keeping the true variability.\n",
    "\n",
    "<b>Cons:</b>\n",
    "- This requires more work since we’re essentially running two analyses or models, one for each group.\n",
    "- It leads to smaller training sets for each group.\n",
    "\n",
    "<b>3.</b> Feature Engineering: we can create additional feature to account for differences in time intervals:\n",
    "- Time interval: indicating whether the data point comes from a 5-min or 15-min interval.\n",
    "\n",
    "This will let the model account for different time resolutions without explicitly resampling the data.\n",
    "\n",
    "<b>Recommended approach:</b> Based on the fact that we have only 3 patients with a 15-minute interval and 6 patient with a 5-minute interval, it is reasonable to resample the dataset to 5-minute intervals for all patients. Steps:\n",
    "- Resample the data for all patients to 5-minute intervals.\n",
    "- Interpolate the missing data points for patients who originally had 15-minute intervals.\n",
    "\n"
   ]
  },
  {
   "cell_type": "markdown",
   "id": "bd6bbcc5-a5a1-45d0-935a-9b81b7ff020c",
   "metadata": {},
   "source": [
    "## Challenges and potential difficulties\n",
    "\n",
    "- <b>Missing Data</b>\n",
    "    - In the dataset, many columns (e.g. carbs-\\*, activity-\\*) had high percentages of missing values. This is a common issue in studies involving self-reported data or continuous monitoring (device resets etc.).    \n",
    "    - Handling strategy: impute missing values, use of statistical models to fill in gaps.\n",
    "- <b>Outliers</b>\n",
    "    - From the variable analysis, we observed a large number of outliers, which were primarily caused by the skewness present in most features. As a result, the commonly used IQR method for outlier detection is not applicable in this case.\n",
    "    - Handling strategy: consider transformations to reduce skewness before detecting outliers.\n",
    "- <b>Non-normal distributions</b>\n",
    "    - Features like insulin and blood glucose are often highly skewed. This could impact the performance of models that assume normality or require scaling.\n",
    "- <b>Feature engineering for Time-Series</b>\n",
    "    - Extracting useful features such as:\n",
    "        - Lagged features: past glucose, insulin, carb or other values from previous time steps.\n",
    "        - Rolling averages/windows: smoothed glucose or insulin averages over time to capture trends.\n",
    "- <b>Multicollinearity</b>\n",
    "    - Since the dataset contains many related measurements over time, there might be strong correlations between features. This could impact model performance, especially for regression models.\n",
    "    - Handling strategy: regularization techniques (Lasso, Ridge) or dimensionality reduction (PCA).  <font color=\"red\">(?)</font>\n"
   ]
  },
  {
   "cell_type": "markdown",
   "id": "88835206-c10c-49fa-a7ca-340d52073207",
   "metadata": {},
   "source": [
    "## Possible biases\n",
    "\n",
    "- <b>Selection Bias:</b>\n",
    "    - If the study only included certain types of participants (e.g. individuals with a specific health condition, age group, or gender), this could lead to selection bias, meaning the results may not generalize to other populations.\n",
    "- <b>Measurement Bias:</b>\n",
    "    - Self-reported data like carbohydrate intake and activity are prone to inaccuracies, which can lead to measurement bias. Wearable devices (for heart rate, steps, etc.) can also be less reliable depending on usage conditions.\n",
    "- <b>Sampling Bias:</b>\n",
    "    - If the self-reported measurements are not taken consistently (e.g., some participants report their data more frequently than others), the dataset might not represent all participants equally, leading to biased conclusions.\n"
   ]
  }
 ],
 "metadata": {
  "kernelspec": {
   "display_name": "Python 3 (ipykernel)",
   "language": "python",
   "name": "python3"
  },
  "language_info": {
   "codemirror_mode": {
    "name": "ipython",
    "version": 3
   },
   "file_extension": ".py",
   "mimetype": "text/x-python",
   "name": "python",
   "nbconvert_exporter": "python",
   "pygments_lexer": "ipython3",
   "version": "3.12.5"
  }
 },
 "nbformat": 4,
 "nbformat_minor": 5
}
