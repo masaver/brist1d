{
 "cells": [
  {
   "metadata": {},
   "cell_type": "markdown",
   "source": [
    "# Dataset Description and Structure\n",
    "\n",
    "## Dataset Description\n",
    "\n",
    "The dataset is from a study that collected data from young adults in the UK with type 1 diabetes, who used a continuous glucose monitor (CGM), an insulin pump and a smartwatch.\n",
    "These devices collected blood glucose readings, insulin dosage, carbohydrate intake, and activity data. The data collected was aggregated to five-minute intervals and formatted\n",
    "into samples. Each sample represents a point in time and includes the aggregated five-minute intervals from the previous six hours. The aim is to predict the blood glucose reading\n",
    "an hour into the future, for each of these samples.\n",
    "\n",
    "The training set takes samples from the first three months of study data from nine of the participants and includes the future blood glucose value. These training samples appear in\n",
    "chronological order and overlap. The testing set takes samples from the remainder of the study period from fifteen of the participants (so unseen participants appear in the testing\n",
    "set). These testing samples do not overlap and are in a random order to avoid data leakage.\n",
    "\n",
    "Complexities to be aware of:\n",
    "\n",
    "* this is medical data so there are missing values and noise in the data\n",
    "* the participants did not all use the same device models (CGM, insulin pump and smartwatch) so there may be differences in the collection method of the data\n",
    "* some participants in the test set do not appear in the training set\n",
    "\n",
    "### File descriptions\n",
    "\n",
    "* activities.txt - a list of activity names that appear in the activity-X:XX columns\n",
    "* sample_submission.csv - a sample submission file in the correct format\n",
    "* test.csv - the test set\n",
    "* train.csv - the training set\n",
    "\n",
    "### Columns\n",
    "\n",
    "| #Column | Name   | Description                                                                                     | Type   | \n",
    "|---------|---------------|-------------------------------------------------------------------------------------------------|--------|\n",
    "| 1       | id            | row id consisting of participant number and a count for that participant                        | string |\n",
    "| 2       | p_num         | participant number                                                                              | string |\n",
    "| 3       | time          | time of day in the format HH:MM:SS                                                              | string |\n",
    "| 4-75    | bg-X:XX       | blood glucose reading in mmol/L, X:XX(H:MM) time in the past                                    | float  |\n",
    "| 76-147  | insulin-X:XX  | total insulin dose received in units in the last 5 minutes, X:XX(H:MM) time in the past         | float  |\n",
    "| 148-219 | carbs-X:XX    | total carbohydrate value consumed in grammes in the last 5 minutes, X:XX(H:MM) time in the past | float  |\n",
    "| 220-291 | hr-X:XX       | mean heart rate in beats per minute in the last 5 minutes, X:XX(H:MM) time in the past          | float  |\n",
    "| 292-363 | steps-X:XX    | total steps walked in the last 5 minutes, X:XX(H:MM) time in the past                           | float  |\n",
    "| 364-435 | cals-X:XX     | total calories burnt in the last 5 minutes, X:XX(H:MM) time in the past                         | string |\n",
    "| 436-507 | activity-X:XX | self-declared activity performed in the last 5 minutes, X:XX(H:MM) time in the past             | string |\n",
    "| 508     | bg-X:XX+1     | blood glucose reading in mmol/L, X:XX+1(H:MM) time in the future, not provided in test.csv      | float  |\n"
   ],
   "id": "25190b65bba5ef5a"
  },
  {
   "metadata": {},
   "cell_type": "markdown",
   "source": "## Dataset Structure",
   "id": "8318b3e7d7be89b8"
  },
  {
   "cell_type": "code",
   "id": "initial_id",
   "metadata": {
    "collapsed": true,
    "ExecuteTime": {
     "end_time": "2024-10-22T07:00:28.592394Z",
     "start_time": "2024-10-22T07:00:28.588627Z"
    }
   },
   "source": [
    "from datetime import datetime\n",
    "\n",
    "import numpy as np\n",
    "import matplotlib.pyplot as plt\n",
    "import os\n",
    "import pandas as pd\n",
    "import seaborn as sns"
   ],
   "outputs": [],
   "execution_count": 1
  },
  {
   "metadata": {},
   "cell_type": "markdown",
   "source": [
    "### Compare the training and test data\n",
    "\n",
    "We want to check if there are any differences between the two datasets columns."
   ],
   "id": "437e469a060d3302"
  },
  {
   "metadata": {
    "ExecuteTime": {
     "end_time": "2024-10-22T07:00:36.901288Z",
     "start_time": "2024-10-22T07:00:28.608236Z"
    }
   },
   "cell_type": "code",
   "source": [
    "# read train and test data\n",
    "df_train = pd.read_csv(os.path.join('..', '..', '..', 'data', 'raw', 'train.csv'), low_memory=False)\n",
    "df_test = pd.read_csv(os.path.join('..', '..', '..', 'data', 'raw', 'test.csv'), low_memory=False)"
   ],
   "id": "5f4aaecbfc3cd59a",
   "outputs": [],
   "execution_count": 2
  },
  {
   "metadata": {
    "ExecuteTime": {
     "end_time": "2024-10-22T07:00:37.030440Z",
     "start_time": "2024-10-22T07:00:37.026996Z"
    }
   },
   "cell_type": "code",
   "source": [
    "set(df_train.columns) - set(df_test.columns)\n",
    "print(f'Columns in train but not in test: {list(set(df_train.columns) - set(df_test.columns))}')"
   ],
   "id": "52d8ffe1e76f3e5f",
   "outputs": [
    {
     "name": "stdout",
     "output_type": "stream",
     "text": [
      "Columns in train but not in test: ['bg+1:00']\n"
     ]
    }
   ],
   "execution_count": 3
  },
  {
   "metadata": {
    "ExecuteTime": {
     "end_time": "2024-10-22T07:00:37.125930Z",
     "start_time": "2024-10-22T07:00:37.114253Z"
    }
   },
   "cell_type": "code",
   "source": "df_train.head()",
   "id": "e227917ee2806402",
   "outputs": [
    {
     "data": {
      "text/plain": [
       "      id p_num      time  bg-5:55  bg-5:50  bg-5:45  bg-5:40  bg-5:35  \\\n",
       "0  p01_0   p01  06:10:00      NaN      NaN      9.6      NaN      NaN   \n",
       "1  p01_1   p01  06:25:00      NaN      NaN      9.7      NaN      NaN   \n",
       "2  p01_2   p01  06:40:00      NaN      NaN      9.2      NaN      NaN   \n",
       "3  p01_3   p01  06:55:00      NaN      NaN      8.7      NaN      NaN   \n",
       "4  p01_4   p01  07:10:00      NaN      NaN      8.4      NaN      NaN   \n",
       "\n",
       "   bg-5:30  bg-5:25  ...  activity-0:40  activity-0:35  activity-0:30  \\\n",
       "0      9.7      NaN  ...            NaN            NaN            NaN   \n",
       "1      9.2      NaN  ...            NaN            NaN            NaN   \n",
       "2      8.7      NaN  ...            NaN            NaN            NaN   \n",
       "3      8.4      NaN  ...            NaN            NaN            NaN   \n",
       "4      8.1      NaN  ...            NaN            NaN            NaN   \n",
       "\n",
       "   activity-0:25  activity-0:20  activity-0:15  activity-0:10  activity-0:05  \\\n",
       "0            NaN            NaN            NaN            NaN            NaN   \n",
       "1            NaN            NaN            NaN            NaN            NaN   \n",
       "2            NaN            NaN            NaN            NaN            NaN   \n",
       "3            NaN            NaN            NaN            NaN            NaN   \n",
       "4            NaN            NaN            NaN            NaN            NaN   \n",
       "\n",
       "   activity-0:00  bg+1:00  \n",
       "0            NaN     13.4  \n",
       "1            NaN     12.8  \n",
       "2            NaN     15.5  \n",
       "3            NaN     14.8  \n",
       "4            NaN     12.7  \n",
       "\n",
       "[5 rows x 508 columns]"
      ],
      "text/html": [
       "<div>\n",
       "<style scoped>\n",
       "    .dataframe tbody tr th:only-of-type {\n",
       "        vertical-align: middle;\n",
       "    }\n",
       "\n",
       "    .dataframe tbody tr th {\n",
       "        vertical-align: top;\n",
       "    }\n",
       "\n",
       "    .dataframe thead th {\n",
       "        text-align: right;\n",
       "    }\n",
       "</style>\n",
       "<table border=\"1\" class=\"dataframe\">\n",
       "  <thead>\n",
       "    <tr style=\"text-align: right;\">\n",
       "      <th></th>\n",
       "      <th>id</th>\n",
       "      <th>p_num</th>\n",
       "      <th>time</th>\n",
       "      <th>bg-5:55</th>\n",
       "      <th>bg-5:50</th>\n",
       "      <th>bg-5:45</th>\n",
       "      <th>bg-5:40</th>\n",
       "      <th>bg-5:35</th>\n",
       "      <th>bg-5:30</th>\n",
       "      <th>bg-5:25</th>\n",
       "      <th>...</th>\n",
       "      <th>activity-0:40</th>\n",
       "      <th>activity-0:35</th>\n",
       "      <th>activity-0:30</th>\n",
       "      <th>activity-0:25</th>\n",
       "      <th>activity-0:20</th>\n",
       "      <th>activity-0:15</th>\n",
       "      <th>activity-0:10</th>\n",
       "      <th>activity-0:05</th>\n",
       "      <th>activity-0:00</th>\n",
       "      <th>bg+1:00</th>\n",
       "    </tr>\n",
       "  </thead>\n",
       "  <tbody>\n",
       "    <tr>\n",
       "      <th>0</th>\n",
       "      <td>p01_0</td>\n",
       "      <td>p01</td>\n",
       "      <td>06:10:00</td>\n",
       "      <td>NaN</td>\n",
       "      <td>NaN</td>\n",
       "      <td>9.6</td>\n",
       "      <td>NaN</td>\n",
       "      <td>NaN</td>\n",
       "      <td>9.7</td>\n",
       "      <td>NaN</td>\n",
       "      <td>...</td>\n",
       "      <td>NaN</td>\n",
       "      <td>NaN</td>\n",
       "      <td>NaN</td>\n",
       "      <td>NaN</td>\n",
       "      <td>NaN</td>\n",
       "      <td>NaN</td>\n",
       "      <td>NaN</td>\n",
       "      <td>NaN</td>\n",
       "      <td>NaN</td>\n",
       "      <td>13.4</td>\n",
       "    </tr>\n",
       "    <tr>\n",
       "      <th>1</th>\n",
       "      <td>p01_1</td>\n",
       "      <td>p01</td>\n",
       "      <td>06:25:00</td>\n",
       "      <td>NaN</td>\n",
       "      <td>NaN</td>\n",
       "      <td>9.7</td>\n",
       "      <td>NaN</td>\n",
       "      <td>NaN</td>\n",
       "      <td>9.2</td>\n",
       "      <td>NaN</td>\n",
       "      <td>...</td>\n",
       "      <td>NaN</td>\n",
       "      <td>NaN</td>\n",
       "      <td>NaN</td>\n",
       "      <td>NaN</td>\n",
       "      <td>NaN</td>\n",
       "      <td>NaN</td>\n",
       "      <td>NaN</td>\n",
       "      <td>NaN</td>\n",
       "      <td>NaN</td>\n",
       "      <td>12.8</td>\n",
       "    </tr>\n",
       "    <tr>\n",
       "      <th>2</th>\n",
       "      <td>p01_2</td>\n",
       "      <td>p01</td>\n",
       "      <td>06:40:00</td>\n",
       "      <td>NaN</td>\n",
       "      <td>NaN</td>\n",
       "      <td>9.2</td>\n",
       "      <td>NaN</td>\n",
       "      <td>NaN</td>\n",
       "      <td>8.7</td>\n",
       "      <td>NaN</td>\n",
       "      <td>...</td>\n",
       "      <td>NaN</td>\n",
       "      <td>NaN</td>\n",
       "      <td>NaN</td>\n",
       "      <td>NaN</td>\n",
       "      <td>NaN</td>\n",
       "      <td>NaN</td>\n",
       "      <td>NaN</td>\n",
       "      <td>NaN</td>\n",
       "      <td>NaN</td>\n",
       "      <td>15.5</td>\n",
       "    </tr>\n",
       "    <tr>\n",
       "      <th>3</th>\n",
       "      <td>p01_3</td>\n",
       "      <td>p01</td>\n",
       "      <td>06:55:00</td>\n",
       "      <td>NaN</td>\n",
       "      <td>NaN</td>\n",
       "      <td>8.7</td>\n",
       "      <td>NaN</td>\n",
       "      <td>NaN</td>\n",
       "      <td>8.4</td>\n",
       "      <td>NaN</td>\n",
       "      <td>...</td>\n",
       "      <td>NaN</td>\n",
       "      <td>NaN</td>\n",
       "      <td>NaN</td>\n",
       "      <td>NaN</td>\n",
       "      <td>NaN</td>\n",
       "      <td>NaN</td>\n",
       "      <td>NaN</td>\n",
       "      <td>NaN</td>\n",
       "      <td>NaN</td>\n",
       "      <td>14.8</td>\n",
       "    </tr>\n",
       "    <tr>\n",
       "      <th>4</th>\n",
       "      <td>p01_4</td>\n",
       "      <td>p01</td>\n",
       "      <td>07:10:00</td>\n",
       "      <td>NaN</td>\n",
       "      <td>NaN</td>\n",
       "      <td>8.4</td>\n",
       "      <td>NaN</td>\n",
       "      <td>NaN</td>\n",
       "      <td>8.1</td>\n",
       "      <td>NaN</td>\n",
       "      <td>...</td>\n",
       "      <td>NaN</td>\n",
       "      <td>NaN</td>\n",
       "      <td>NaN</td>\n",
       "      <td>NaN</td>\n",
       "      <td>NaN</td>\n",
       "      <td>NaN</td>\n",
       "      <td>NaN</td>\n",
       "      <td>NaN</td>\n",
       "      <td>NaN</td>\n",
       "      <td>12.7</td>\n",
       "    </tr>\n",
       "  </tbody>\n",
       "</table>\n",
       "<p>5 rows × 508 columns</p>\n",
       "</div>"
      ]
     },
     "execution_count": 4,
     "metadata": {},
     "output_type": "execute_result"
    }
   ],
   "execution_count": 4
  },
  {
   "metadata": {},
   "cell_type": "markdown",
   "source": "### Number of patients",
   "id": "145982fd23693f91"
  },
  {
   "metadata": {
    "ExecuteTime": {
     "end_time": "2024-10-22T07:00:37.338726Z",
     "start_time": "2024-10-22T07:00:37.330413Z"
    }
   },
   "cell_type": "code",
   "source": [
    "print(f'Number of patients in training data: {len(df_train[\"p_num\"].unique())}')\n",
    "print(f'Number of patients in test data: {len(df_test[\"p_num\"].unique())}')"
   ],
   "id": "6a94999a5d2960d5",
   "outputs": [
    {
     "name": "stdout",
     "output_type": "stream",
     "text": [
      "Number of patients in training data: 9\n",
      "Number of patients in test data: 15\n"
     ]
    }
   ],
   "execution_count": 5
  },
  {
   "metadata": {},
   "cell_type": "markdown",
   "source": "### Number of datapoints per patient",
   "id": "7f1c3113892e4942"
  },
  {
   "metadata": {
    "ExecuteTime": {
     "end_time": "2024-10-22T07:00:37.605349Z",
     "start_time": "2024-10-22T07:00:37.344524Z"
    }
   },
   "cell_type": "code",
   "source": [
    "patient_list = sorted(list(set(df_train[\"p_num\"].unique()) | set(df_test[\"p_num\"].unique())))\n",
    "train_counts = df_train[\"p_num\"].value_counts().reindex(patient_list, fill_value=0)\n",
    "test_counts = df_test[\"p_num\"].value_counts().reindex(patient_list, fill_value=0)\n",
    "\n",
    "fig = plt.figure(figsize=(10, 5))\n",
    "fig.suptitle(\"Number of data points per patient\", fontsize=16)\n",
    "ax1 = fig.add_subplot(1, 2, 1)\n",
    "sns.barplot(x=patient_list, y=train_counts, label=\"Training data\", color=\"orange\")\n",
    "ax1.set_title(\"Training data\")\n",
    "\n",
    "ax2 = fig.add_subplot(1, 2, 2)\n",
    "sns.barplot(x=patient_list, y=test_counts, label=\"Test data\")\n",
    "ax2.set_title(\"Test data\")\n",
    "\n",
    "# Find the maximum y-axis limit between both plots\n",
    "y_max = max(ax1.get_ylim()[1], ax2.get_ylim()[1])\n",
    "\n",
    "# Set the same y-axis limit for both plots\n",
    "ax1.set_ylim(0, y_max)\n",
    "ax2.set_ylim(0, y_max)\n",
    "\n",
    "plt.show();"
   ],
   "id": "23795726a2b2701f",
   "outputs": [
    {
     "data": {
      "text/plain": [
       "<Figure size 1000x500 with 2 Axes>"
      ],
      "image/png": "[encoded data removed]"
     },
     "metadata": {},
     "output_type": "display_data"
    }
   ],
   "execution_count": 6
  },
  {
   "metadata": {},
   "cell_type": "markdown",
   "source": "### Time resolution per patient in training data",
   "id": "c9578ca565a5c006"
  },
  {
   "metadata": {
    "ExecuteTime": {
     "end_time": "2024-10-22T07:00:37.706040Z",
     "start_time": "2024-10-22T07:00:37.698109Z"
    }
   },
   "cell_type": "code",
   "source": [
    "patients_train = df_train[\"p_num\"].unique()\n",
    "patients_train"
   ],
   "id": "115fd8fe4b1bf77b",
   "outputs": [
    {
     "data": {
      "text/plain": [
       "array(['p01', 'p02', 'p03', 'p04', 'p05', 'p06', 'p10', 'p11', 'p12'],\n",
       "      dtype=object)"
      ]
     },
     "execution_count": 7,
     "metadata": {},
     "output_type": "execute_result"
    }
   ],
   "execution_count": 7
  },
  {
   "metadata": {
    "ExecuteTime": {
     "end_time": "2024-10-22T07:00:38.472597Z",
     "start_time": "2024-10-22T07:00:37.712608Z"
    }
   },
   "cell_type": "code",
   "source": [
    "resolutions = pd.DataFrame(columns=[\"p_num\", \"time_resolution_in_minutes\"])\n",
    "for patient in patients_train:\n",
    "    df_patient = df_train[df_train[\"p_num\"] == patient]\n",
    "    df_patient.loc[:, \"time\"] = pd.to_datetime(df_patient[\"time\"], format=\"%H:%M:%S\").dt.time\n",
    "\n",
    "    # Convert time objects to datetime objects (you can choose any date)\n",
    "    datetime1 = datetime.combine(datetime.today(), df_patient[\"time\"].iloc[0])\n",
    "    datetime2 = datetime.combine(datetime.today(), df_patient[\"time\"].iloc[1])\n",
    "\n",
    "    print(datetime1, datetime2)\n",
    "\n",
    "    # Subtract the datetime objects to get a timedelta\n",
    "    time_difference = datetime2 - datetime1\n",
    "\n",
    "    resolutions = pd.concat([\n",
    "        resolutions,\n",
    "        pd.DataFrame({\"p_num\": [patient], \"time_resolution_in_minutes\": [int(time_difference.seconds / 60)]})\n",
    "    ], ignore_index=True)\n",
    "\n",
    "resolutions.head()\n"
   ],
   "id": "28bc1c53474d4484",
   "outputs": [
    {
     "name": "stdout",
     "output_type": "stream",
     "text": [
      "2024-10-22 06:10:00 2024-10-22 06:25:00\n",
      "2024-10-22 06:05:00 2024-10-22 06:10:00\n",
      "2024-10-22 06:05:00 2024-10-22 06:10:00\n",
      "2024-10-22 06:05:00 2024-10-22 06:10:00\n",
      "2024-10-22 06:05:00 2024-10-22 06:20:00\n",
      "2024-10-22 10:25:00 2024-10-22 10:40:00\n",
      "2024-10-22 06:05:00 2024-10-22 06:10:00\n",
      "2024-10-22 06:05:00 2024-10-22 06:10:00\n",
      "2024-10-22 10:25:00 2024-10-22 10:30:00\n"
     ]
    },
    {
     "data": {
      "text/plain": [
       "  p_num time_resolution_in_minutes\n",
       "0   p01                         15\n",
       "1   p02                          5\n",
       "2   p03                          5\n",
       "3   p04                          5\n",
       "4   p05                         15"
      ],
      "text/html": [
       "<div>\n",
       "<style scoped>\n",
       "    .dataframe tbody tr th:only-of-type {\n",
       "        vertical-align: middle;\n",
       "    }\n",
       "\n",
       "    .dataframe tbody tr th {\n",
       "        vertical-align: top;\n",
       "    }\n",
       "\n",
       "    .dataframe thead th {\n",
       "        text-align: right;\n",
       "    }\n",
       "</style>\n",
       "<table border=\"1\" class=\"dataframe\">\n",
       "  <thead>\n",
       "    <tr style=\"text-align: right;\">\n",
       "      <th></th>\n",
       "      <th>p_num</th>\n",
       "      <th>time_resolution_in_minutes</th>\n",
       "    </tr>\n",
       "  </thead>\n",
       "  <tbody>\n",
       "    <tr>\n",
       "      <th>0</th>\n",
       "      <td>p01</td>\n",
       "      <td>15</td>\n",
       "    </tr>\n",
       "    <tr>\n",
       "      <th>1</th>\n",
       "      <td>p02</td>\n",
       "      <td>5</td>\n",
       "    </tr>\n",
       "    <tr>\n",
       "      <th>2</th>\n",
       "      <td>p03</td>\n",
       "      <td>5</td>\n",
       "    </tr>\n",
       "    <tr>\n",
       "      <th>3</th>\n",
       "      <td>p04</td>\n",
       "      <td>5</td>\n",
       "    </tr>\n",
       "    <tr>\n",
       "      <th>4</th>\n",
       "      <td>p05</td>\n",
       "      <td>15</td>\n",
       "    </tr>\n",
       "  </tbody>\n",
       "</table>\n",
       "</div>"
      ]
     },
     "execution_count": 8,
     "metadata": {},
     "output_type": "execute_result"
    }
   ],
   "execution_count": 8
  },
  {
   "metadata": {
    "ExecuteTime": {
     "end_time": "2024-10-22T07:00:38.666284Z",
     "start_time": "2024-10-22T07:00:38.571777Z"
    }
   },
   "cell_type": "code",
   "source": [
    "plt.figure(figsize=(5, 5))\n",
    "sns.barplot(x=\"p_num\", y=\"time_resolution_in_minutes\", data=resolutions)\n",
    "plt.title(\"Time resolution per patient in training data\")\n",
    "plt.xlabel(\"Patient number\")\n",
    "plt.ylabel(\"Time resolution in minutes\")\n",
    "plt.show()"
   ],
   "id": "e396b6f180254060",
   "outputs": [
    {
     "data": {
      "text/plain": [
       "<Figure size 500x500 with 1 Axes>"
      ],
      "image/png": "[encoded data removed]"
     },
     "metadata": {},
     "output_type": "display_data"
    }
   ],
   "execution_count": 9
  },
  {
   "metadata": {},
   "cell_type": "markdown",
   "source": "",
   "id": "c8a885565f4b6acf"
  }
 ],
 "metadata": {
  "kernelspec": {
   "display_name": "Python 3",
   "language": "python",
   "name": "python3"
  },
  "language_info": {
   "codemirror_mode": {
    "name": "ipython",
    "version": 2
   },
   "file_extension": ".py",
   "mimetype": "text/x-python",
   "name": "python",
   "nbconvert_exporter": "python",
   "pygments_lexer": "ipython2",
   "version": "2.7.6"
  }
 },
 "nbformat": 4,
 "nbformat_minor": 5
}
