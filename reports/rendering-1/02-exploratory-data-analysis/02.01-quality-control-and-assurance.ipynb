{
 "cells": [
  {
   "metadata": {},
   "cell_type": "markdown",
   "source": "# Quality Control and Assurance",
   "id": "8318b3e7d7be89b8"
  },
  {
   "metadata": {},
   "cell_type": "markdown",
   "source": [
    "At this point, we have a dataset that is ready for analysis. However, before we start the analysis, we need to ensure that the dataset is consistent and valid. This is a crucial step in the data analysis process, as it ensures that the results of the analysis are accurate and reliable.\n",
    "\n",
    "The train dataset consists of daily time series for each patient. The rows are supposed to be ordered consecutively by time. As we have no data about the day we need to check if the rows are consecutive. For this the lag features columns are used. \n",
    "\n",
    "The idea is to check if the lag features are corresponding to data in the rows before. \n",
    "\n",
    "With this we will detect gaps in the time series data.\n",
    "\n",
    "We can assume, that the data is correct if the lag features are corresponding to the data in the rows before."
   ],
   "id": "2b2a150a6a5316cb"
  },
  {
   "metadata": {},
   "cell_type": "code",
   "outputs": [],
   "execution_count": null,
   "source": "",
   "id": "d0609d1b300f5f2"
  },
  {
   "metadata": {},
   "cell_type": "markdown",
   "source": "",
   "id": "c8a885565f4b6acf"
  }
 ],
 "metadata": {
  "kernelspec": {
   "display_name": "Python 3",
   "language": "python",
   "name": "python3"
  },
  "language_info": {
   "codemirror_mode": {
    "name": "ipython",
    "version": 2
   },
   "file_extension": ".py",
   "mimetype": "text/x-python",
   "name": "python",
   "nbconvert_exporter": "python",
   "pygments_lexer": "ipython2",
   "version": "2.7.6"
  }
 },
 "nbformat": 4,
 "nbformat_minor": 5
}
