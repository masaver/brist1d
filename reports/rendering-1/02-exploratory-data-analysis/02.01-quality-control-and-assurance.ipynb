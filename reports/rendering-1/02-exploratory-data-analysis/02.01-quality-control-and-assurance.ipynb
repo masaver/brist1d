{
 "cells": [
  {
   "cell_type": "markdown",
   "id": "8318b3e7d7be89b8",
   "metadata": {},
   "source": [
    "# Quality Control and Assurance"
   ]
  },
  {
   "cell_type": "markdown",
   "id": "2b2a150a6a5316cb",
   "metadata": {},
   "source": [
    "At this point, we have a dataset that is ready for analysis. However, before we start the analysis, we need to ensure that the dataset is consistent and valid. This is a crucial step in the data analysis process, as it ensures that the results of the analysis are accurate and reliable.\n",
    "\n",
    "The training dataset consists of daily time series for each patient. The rows are supposed to be ordered consecutively by time. However, since no explicit \"day\" column is provided, we must verify that the rows are indeed sequential. To do this, the lag features columns are utilized. \n",
    "\n",
    "**Validation Approach**:\n",
    "* Compare the lag features in each row to the corresponding data in preceding rows.\n",
    "* Identify and flag any gaps or inconsistencies in the time series data.\n",
    "\n",
    "**Expected Outcome**:  \n",
    "If the lag features align correctly with the data in prior rows, we can assume that the dataset is sequential and free from significant gaps, validating its integrity for further analysis."
   ]
  },
  {
   "cell_type": "markdown",
   "id": "24d45473af074830",
   "metadata": {},
   "source": [
    "## Implementation\n",
    "\n",
    "To ensure the correctness and reliability of the validation algorithm, we implemented it in two independent ways, developed by different team members.\n",
    "\n",
    "1. [The first implementation](https://github.com/DataScientest-Studio/sep24_bds_int_medical/blob/main/notebooks/0.5-christian-timeseries-and-coherence-checks.ipynb):\n",
    "    * performs a cell-by-cell comparison of the lag feature columns,\n",
    "    * identifies any changes in data types or values within the lag features.\n",
    "\n",
    "2. [The second implementation](https://github.com/DataScientest-Studio/sep24_bds_int_medical/blob/main/notebooks/0.2-ralf-consistency-check.ipynb): \n",
    "    * shifts and reindexes the lag feature columns based on the time differences.\n",
    "    * detects non-unique values in the parameter columns for each row, effectively spotting discrepancies in sequential data.\n",
    "\n",
    "Both implementations together enhance the robustness of the validation process and reduce the risk of undetected errors in the dataset."
   ]
  },
  {
   "cell_type": "markdown",
   "id": "b2a54a40cb824bbb",
   "metadata": {},
   "source": [
    "### Load the Dataset"
   ]
  },
  {
   "cell_type": "code",
   "id": "d0609d1b300f5f2",
   "metadata": {
    "ExecuteTime": {
     "end_time": "2024-12-05T21:40:21.590589Z",
     "start_time": "2024-12-05T21:40:14.850488Z"
    }
   },
   "source": [
    "import pandas as pd\n",
    "import numpy as np\n",
    "import os\n",
    "\n",
    "# Load the dataset\n",
    "df = pd.read_csv(os.path.join('..', '..', '..', 'data', 'raw', 'train.csv'), na_values=np.nan, low_memory=False)"
   ],
   "outputs": [],
   "execution_count": 1
  },
  {
   "cell_type": "markdown",
   "id": "24d91d0ffb31ad04",
   "metadata": {},
   "source": [
    "### Define a Date Time Index"
   ]
  },
  {
   "cell_type": "code",
   "id": "49047ec4f62c8d5d",
   "metadata": {
    "ExecuteTime": {
     "end_time": "2024-12-05T21:40:30.918474Z",
     "start_time": "2024-12-05T21:40:21.597801Z"
    }
   },
   "source": [
    "from helpers import set_datetime_index\n",
    "\n",
    "df = set_datetime_index(df)\n",
    "display(df.iloc[:, :4].head())\n",
    "df = df.drop(columns=['time'])"
   ],
   "outputs": [
    {
     "data": {
      "text/plain": [
       "                        id p_num      time  bg-5:55\n",
       "datetime                                           \n",
       "2000-01-01 06:10:00  p01_0   p01  06:10:00      NaN\n",
       "2000-01-01 06:25:00  p01_1   p01  06:25:00      NaN\n",
       "2000-01-01 06:40:00  p01_2   p01  06:40:00      NaN\n",
       "2000-01-01 06:55:00  p01_3   p01  06:55:00      NaN\n",
       "2000-01-01 07:10:00  p01_4   p01  07:10:00      NaN"
      ],
      "text/html": [
       "<div>\n",
       "<style scoped>\n",
       "    .dataframe tbody tr th:only-of-type {\n",
       "        vertical-align: middle;\n",
       "    }\n",
       "\n",
       "    .dataframe tbody tr th {\n",
       "        vertical-align: top;\n",
       "    }\n",
       "\n",
       "    .dataframe thead th {\n",
       "        text-align: right;\n",
       "    }\n",
       "</style>\n",
       "<table border=\"1\" class=\"dataframe\">\n",
       "  <thead>\n",
       "    <tr style=\"text-align: right;\">\n",
       "      <th></th>\n",
       "      <th>id</th>\n",
       "      <th>p_num</th>\n",
       "      <th>time</th>\n",
       "      <th>bg-5:55</th>\n",
       "    </tr>\n",
       "    <tr>\n",
       "      <th>datetime</th>\n",
       "      <th></th>\n",
       "      <th></th>\n",
       "      <th></th>\n",
       "      <th></th>\n",
       "    </tr>\n",
       "  </thead>\n",
       "  <tbody>\n",
       "    <tr>\n",
       "      <th>2000-01-01 06:10:00</th>\n",
       "      <td>p01_0</td>\n",
       "      <td>p01</td>\n",
       "      <td>06:10:00</td>\n",
       "      <td>NaN</td>\n",
       "    </tr>\n",
       "    <tr>\n",
       "      <th>2000-01-01 06:25:00</th>\n",
       "      <td>p01_1</td>\n",
       "      <td>p01</td>\n",
       "      <td>06:25:00</td>\n",
       "      <td>NaN</td>\n",
       "    </tr>\n",
       "    <tr>\n",
       "      <th>2000-01-01 06:40:00</th>\n",
       "      <td>p01_2</td>\n",
       "      <td>p01</td>\n",
       "      <td>06:40:00</td>\n",
       "      <td>NaN</td>\n",
       "    </tr>\n",
       "    <tr>\n",
       "      <th>2000-01-01 06:55:00</th>\n",
       "      <td>p01_3</td>\n",
       "      <td>p01</td>\n",
       "      <td>06:55:00</td>\n",
       "      <td>NaN</td>\n",
       "    </tr>\n",
       "    <tr>\n",
       "      <th>2000-01-01 07:10:00</th>\n",
       "      <td>p01_4</td>\n",
       "      <td>p01</td>\n",
       "      <td>07:10:00</td>\n",
       "      <td>NaN</td>\n",
       "    </tr>\n",
       "  </tbody>\n",
       "</table>\n",
       "</div>"
      ]
     },
     "metadata": {},
     "output_type": "display_data"
    }
   ],
   "execution_count": 2
  },
  {
   "cell_type": "markdown",
   "id": "90d7a81f39870d7e",
   "metadata": {},
   "source": [
    "### Consistency Check for Lag Features of Parameters and the Target Variable"
   ]
  },
  {
   "cell_type": "code",
   "id": "6a47f6e431c70196",
   "metadata": {
    "ExecuteTime": {
     "end_time": "2024-12-05T21:41:27.318607Z",
     "start_time": "2024-12-05T21:40:31.022640Z"
    }
   },
   "source": [
    "from helpers import consistency_check\n",
    "\n",
    "result_dict = consistency_check(df)"
   ],
   "outputs": [],
   "execution_count": 3
  },
  {
   "cell_type": "markdown",
   "id": "8c4a8c2ade6abf37",
   "metadata": {},
   "source": [
    "### Display the Results\n",
    "\n",
    "The following table summarizes the results of the validation process. It shows the number of rows where the lag features did not correspond to the data in the preceding rows, alongside the total number of rows for each patient and parameter. Additionally, the `target` column compares the `bg` parameter (blood glucose) with a time difference of +1:00."
   ]
  },
  {
   "cell_type": "code",
   "id": "43b953590e2e47ed",
   "metadata": {
    "ExecuteTime": {
     "end_time": "2024-12-05T21:41:27.331760Z",
     "start_time": "2024-12-05T21:41:27.326291Z"
    }
   },
   "source": [
    "from helpers import get_parameters\n",
    "\n",
    "result = pd.DataFrame.from_dict(result_dict, columns=get_parameters() + ['total'], orient='index')\n",
    "result = result.loc[:, (result != 0).any(axis=0)]\n",
    "result"
   ],
   "outputs": [
    {
     "data": {
      "text/plain": [
       "     hr  steps  cals  total\n",
       "p01   0      0     0  16865\n",
       "p02   0      0     0  26335\n",
       "p03   0      0     0  26427\n",
       "p04   0      0     0  25047\n",
       "p05   0      0     0  16248\n",
       "p06   0      0     0  16674\n",
       "p10   0      0     0  25874\n",
       "p11  68     26    45  25205\n",
       "p12   0      0     0  26048"
      ],
      "text/html": [
       "<div>\n",
       "<style scoped>\n",
       "    .dataframe tbody tr th:only-of-type {\n",
       "        vertical-align: middle;\n",
       "    }\n",
       "\n",
       "    .dataframe tbody tr th {\n",
       "        vertical-align: top;\n",
       "    }\n",
       "\n",
       "    .dataframe thead th {\n",
       "        text-align: right;\n",
       "    }\n",
       "</style>\n",
       "<table border=\"1\" class=\"dataframe\">\n",
       "  <thead>\n",
       "    <tr style=\"text-align: right;\">\n",
       "      <th></th>\n",
       "      <th>hr</th>\n",
       "      <th>steps</th>\n",
       "      <th>cals</th>\n",
       "      <th>total</th>\n",
       "    </tr>\n",
       "  </thead>\n",
       "  <tbody>\n",
       "    <tr>\n",
       "      <th>p01</th>\n",
       "      <td>0</td>\n",
       "      <td>0</td>\n",
       "      <td>0</td>\n",
       "      <td>16865</td>\n",
       "    </tr>\n",
       "    <tr>\n",
       "      <th>p02</th>\n",
       "      <td>0</td>\n",
       "      <td>0</td>\n",
       "      <td>0</td>\n",
       "      <td>26335</td>\n",
       "    </tr>\n",
       "    <tr>\n",
       "      <th>p03</th>\n",
       "      <td>0</td>\n",
       "      <td>0</td>\n",
       "      <td>0</td>\n",
       "      <td>26427</td>\n",
       "    </tr>\n",
       "    <tr>\n",
       "      <th>p04</th>\n",
       "      <td>0</td>\n",
       "      <td>0</td>\n",
       "      <td>0</td>\n",
       "      <td>25047</td>\n",
       "    </tr>\n",
       "    <tr>\n",
       "      <th>p05</th>\n",
       "      <td>0</td>\n",
       "      <td>0</td>\n",
       "      <td>0</td>\n",
       "      <td>16248</td>\n",
       "    </tr>\n",
       "    <tr>\n",
       "      <th>p06</th>\n",
       "      <td>0</td>\n",
       "      <td>0</td>\n",
       "      <td>0</td>\n",
       "      <td>16674</td>\n",
       "    </tr>\n",
       "    <tr>\n",
       "      <th>p10</th>\n",
       "      <td>0</td>\n",
       "      <td>0</td>\n",
       "      <td>0</td>\n",
       "      <td>25874</td>\n",
       "    </tr>\n",
       "    <tr>\n",
       "      <th>p11</th>\n",
       "      <td>68</td>\n",
       "      <td>26</td>\n",
       "      <td>45</td>\n",
       "      <td>25205</td>\n",
       "    </tr>\n",
       "    <tr>\n",
       "      <th>p12</th>\n",
       "      <td>0</td>\n",
       "      <td>0</td>\n",
       "      <td>0</td>\n",
       "      <td>26048</td>\n",
       "    </tr>\n",
       "  </tbody>\n",
       "</table>\n",
       "</div>"
      ]
     },
     "execution_count": 4,
     "metadata": {},
     "output_type": "execute_result"
    }
   ],
   "execution_count": 4
  },
  {
   "cell_type": "markdown",
   "id": "c8a885565f4b6acf",
   "metadata": {},
   "source": [
    "## Conclusion\n",
    "\n",
    "The analysis reveals that the lag features are largely consistent with the data in the preceding rows, indicating a high level of dataset reliability. However, there are minor inconsistencies observed in Patient `p11`, particularly in the parameters `heartrate`, `steps`, `cals` and the target parameter (`bg+1:00`).\n",
    "\n",
    "While the total number of inconsistent rows is small relative to the total dataset size, these discrepancies warrant further investigation to ensure complete data integrity. "
   ]
  }
 ],
 "metadata": {
  "kernelspec": {
   "display_name": "Python 3",
   "language": "python",
   "name": "python3"
  },
  "language_info": {
   "codemirror_mode": {
    "name": "ipython",
    "version": 2
   },
   "file_extension": ".py",
   "mimetype": "text/x-python",
   "name": "python",
   "nbconvert_exporter": "python",
   "pygments_lexer": "ipython2",
   "version": "2.7.6"
  }
 },
 "nbformat": 4,
 "nbformat_minor": 5
}
