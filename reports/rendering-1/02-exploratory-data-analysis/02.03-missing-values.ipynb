{
 "cells": [
  {
   "cell_type": "markdown",
   "id": "8318b3e7d7be89b8",
   "metadata": {},
   "source": [
    "# Missing values"
   ]
  },
  {
   "cell_type": "markdown",
   "id": "c8a885565f4b6acf",
   "metadata": {},
   "source": [
    "<p>In this notebook, we will analyze the dataset for missing values, as handling missing data is a critical aspect of ensuring the <b>completeness</b>, one of the fundamentals of <b>Data Quality</b>, during the implementation of a machine learning project.</p>"
   ]
  },
  {
   "cell_type": "markdown",
   "id": "8227934c-030a-4741-8811-07b8edca4f5f",
   "metadata": {},
   "source": [
    "<p>Given that the explanatory variables represent time series, we will treat the group of column series (e.g., col-*) as a single variable type and inspect them in detail.</p>"
   ]
  },
  {
   "cell_type": "code",
   "execution_count": 3,
   "id": "7ff8f4de-3045-46dc-a84e-5b421c28e137",
   "metadata": {},
   "outputs": [
    {
     "name": "stdout",
     "output_type": "stream",
     "text": [
      "<class 'pandas.core.frame.DataFrame'>\n",
      "RangeIndex: 177024 entries, 0 to 177023\n",
      "Columns: 508 entries, id to bg+1:00\n",
      "dtypes: float64(433), object(75)\n",
      "memory usage: 686.1+ MB\n"
     ]
    }
   ],
   "source": [
    "import pandas as pd\n",
    "import os\n",
    "\n",
    "base_dir = os.path.abspath(os.path.join('..', '..', '..', 'data', 'raw'))\n",
    "file_path = os.path.join(base_dir, 'train.csv') \n",
    "\n",
    "patients = pd.read_csv(file_path, low_memory=False)\n",
    "patients.info()"
   ]
  },
  {
   "cell_type": "markdown",
   "id": "02d3c05d-d600-4591-9804-8f879dd58992",
   "metadata": {},
   "source": [
    "### Percentage of missing values for bg-* columns"
   ]
  },
  {
   "cell_type": "code",
   "execution_count": 4,
   "id": "9a01737a-7076-4230-a42c-02536691f8f9",
   "metadata": {},
   "outputs": [
    {
     "name": "stdout",
     "output_type": "stream",
     "text": [
      "1.5229573391178597 15.399606832971802\n"
     ]
    }
   ],
   "source": [
    "# select all the 'bg-*' columns except the target one\n",
    "bg_cols = [col for col in patients.columns if col.startswith('bg-')]\n",
    "\n",
    "# calculates the percentage of missing values for each bg-* column individually and gives the min and max percentage across the columns\n",
    "missing_percentage = patients[bg_cols].isnull().mean() * 100\n",
    "print(min(missing_percentage), max(missing_percentage))"
   ]
  },
  {
   "cell_type": "code",
   "execution_count": 5,
   "id": "729afc33-adac-4a07-b91f-6b7a0cfcc57b",
   "metadata": {},
   "outputs": [
    {
     "data": {
      "text/plain": [
       "np.float64(10.761911755844782)"
      ]
     },
     "execution_count": 5,
     "metadata": {},
     "output_type": "execute_result"
    }
   ],
   "source": [
    "missing_percentage = patients[bg_cols].isna().sum().sum() / patients[bg_cols].size * 100\n",
    "missing_percentage"
   ]
  },
  {
   "cell_type": "markdown",
   "id": "de18b10b-a3b5-47fe-a456-b87e55c25355",
   "metadata": {},
   "source": [
    "<b>Conclusion & handling:</b> There are between 1.5% and 15% missing values across the bg-* columns. Given that these data are recorded by a continuous glucose monitor (CGM), with some patients having data recorded at 15-minute intervals, we assume that after proper interpolation and imputation, the missing values will be resolved. This step will be carried out during the data preprocessing phase."
   ]
  },
  {
   "cell_type": "markdown",
   "id": "38a6fc0c-da3a-4698-8a43-c13cfcbafddf",
   "metadata": {},
   "source": [
    "### Percentage of missing values for insulin-* columns"
   ]
  },
  {
   "cell_type": "code",
   "execution_count": 7,
   "id": "788eb6f7-061f-4270-b2f1-375d0d793fb0",
   "metadata": {},
   "outputs": [
    {
     "name": "stdout",
     "output_type": "stream",
     "text": [
      "5.295892082429502 5.335999638467101\n"
     ]
    }
   ],
   "source": [
    "insulin_cols = [col for col in patients.columns if col.startswith('insulin-')]\n",
    "\n",
    "# Calculate the percentage of missing values for each 'insulin-*' column individually and gives the min and max percentage across the columns\n",
    "missing_percentage = patients[insulin_cols].isnull().mean() * 100\n",
    "print(min(missing_percentage), max(missing_percentage))"
   ]
  },
  {
   "cell_type": "markdown",
   "id": "e79395bb-feef-45e6-b196-05e6ecc0034b",
   "metadata": {},
   "source": [
    "<b>Conclusion & handling:</b> There are approximately 5.3% missing values accross the insulin-* columns. Given that these data are recorded by the insulin pump, with some patients having data recorded at 15-minute intervals, we assume that after proper interpolation and imputation, the missing values will be resolved. This step will be carried out during the data preprocessing phase."
   ]
  },
  {
   "cell_type": "markdown",
   "id": "8a1467e0-c7d5-4c58-b3eb-a3ce49c748b6",
   "metadata": {},
   "source": [
    "### Percentage of missing values for carbs-* columns"
   ]
  },
  {
   "cell_type": "code",
   "execution_count": 9,
   "id": "a47806d1-7675-4a0e-b50e-8134213aa00b",
   "metadata": {},
   "outputs": [
    {
     "name": "stdout",
     "output_type": "stream",
     "text": [
      "98.53918112798264 98.57194504699928\n"
     ]
    }
   ],
   "source": [
    "carbs_cols = [col for col in patients.columns if col.startswith('carbs-')]\n",
    "\n",
    "# Calculate the percentage of missing values for each 'carbs-* column individually and gives the min and max percentage across the columns\n",
    "missing_percentage = patients[carbs_cols].isnull().mean() * 100\n",
    "print(min(missing_percentage), max(missing_percentage))"
   ]
  },
  {
   "cell_type": "markdown",
   "id": "390de565-5c3f-4d92-ade6-401992bc3bae",
   "metadata": {},
   "source": [
    "<b>Conclusion & handling:</b>  There are approximately 98.5% missing values accross the hr-* columns. Since these data are self-reported by participants and may not be reliable, we assume this variable will not significantly impact future predictions and can be dropped from the model."
   ]
  },
  {
   "cell_type": "markdown",
   "id": "57d67d24-7727-459d-a1ac-2e4b2e57e6fc",
   "metadata": {},
   "source": [
    "### Percentage of missing values for hr-* columns"
   ]
  },
  {
   "cell_type": "code",
   "execution_count": 10,
   "id": "090b70a5-b558-4c03-bc95-9b95e904de90",
   "metadata": {},
   "outputs": [
    {
     "name": "stdout",
     "output_type": "stream",
     "text": [
      "28.885348879248014 29.272302060737527\n"
     ]
    }
   ],
   "source": [
    "hr_cols = [col for col in patients.columns if col.startswith('hr-')]\n",
    "\n",
    "# Calculate the percentage of missing values for each 'hr-*' column individually and gives the min and max percentage across the columns\n",
    "missing_percentage = patients[hr_cols].isnull().mean() * 100\n",
    "print(min(missing_percentage), max(missing_percentage))"
   ]
  },
  {
   "cell_type": "code",
   "execution_count": 11,
   "id": "a583483c-ddcd-476e-9fae-3e71c9a6e6fa",
   "metadata": {},
   "outputs": [
    {
     "data": {
      "text/plain": [
       "np.float64(29.10068377420262)"
      ]
     },
     "execution_count": 11,
     "metadata": {},
     "output_type": "execute_result"
    }
   ],
   "source": [
    "patients[hr_cols].isna().sum().sum() / patients[hr_cols].size * 100"
   ]
  },
  {
   "cell_type": "markdown",
   "id": "98ba04d6-0067-4c21-b373-5dba96afe973",
   "metadata": {},
   "source": [
    "<b>Conclusion & handling:</b> There are approximately 29.1% missing values accross the hr-* columns. Given that these data are recorded by the smartwatch, with some patients having data recorded at 15-minute intervals, we assume that after proper interpolation and imputation, the missing values will be partially resolved. Any remaining missing values will be imputed using an appropriate method (to be determined). This step will be carried out during the data preprocessing phase."
   ]
  },
  {
   "cell_type": "markdown",
   "id": "e2ed0d71-e21d-4b06-a757-f213238ff35d",
   "metadata": {},
   "source": [
    "### Percentage of missing values for steps-* columns"
   ]
  },
  {
   "cell_type": "code",
   "execution_count": 12,
   "id": "c198576b-7346-45be-8e7b-5eea7261faff",
   "metadata": {},
   "outputs": [
    {
     "name": "stdout",
     "output_type": "stream",
     "text": [
      "53.66165039768619 54.055382321041215\n"
     ]
    }
   ],
   "source": [
    "steps_cols = [col for col in patients.columns if col.startswith('steps-')]\n",
    "\n",
    "# Calculate the percentage of missing values for each 'steps-* column individually and gives the min and max percentage across the columns\n",
    "missing_percentage = patients[steps_cols].isnull().mean() * 100\n",
    "print(min(missing_percentage), max(missing_percentage))"
   ]
  },
  {
   "cell_type": "code",
   "execution_count": 13,
   "id": "9261f927-651e-4bfc-8cb0-102bfc555ce0",
   "metadata": {},
   "outputs": [
    {
     "data": {
      "text/plain": [
       "np.float64(53.87635763135695)"
      ]
     },
     "execution_count": 13,
     "metadata": {},
     "output_type": "execute_result"
    }
   ],
   "source": [
    "patients[steps_cols].isna().sum().sum() / patients[steps_cols].size * 100"
   ]
  },
  {
   "cell_type": "markdown",
   "id": "8c78b273-8965-468c-890f-e290f86cf92d",
   "metadata": {},
   "source": [
    "<b>Conclusion & handling:</b> There are approximately 54% missing values accross the steps-* columns. Given that these data are recorded by the smartwatch, with some patients having data recorded at 15-minute intervals, we assume that after proper interpolation and imputation, the missing values will be partially resolved. Any remaining missing values will be replaced with 0 (to be confirmed). This step will be carried out during the data preprocessing phase."
   ]
  },
  {
   "cell_type": "markdown",
   "id": "f4a92c65-47ef-417a-a345-45e689502238",
   "metadata": {},
   "source": [
    "### Percentage of missing values for cals-* columns"
   ]
  },
  {
   "cell_type": "code",
   "execution_count": 14,
   "id": "3db02905-384e-4d5c-8817-fd885bbce3f1",
   "metadata": {},
   "outputs": [
    {
     "name": "stdout",
     "output_type": "stream",
     "text": [
      "19.916508496023138 20.231155097613883\n"
     ]
    }
   ],
   "source": [
    "cals_cols = [col for col in patients.columns if col.startswith('cals-')]\n",
    "\n",
    "# Calculate the percentage of missing values for each 'cals-*' column individually and gives the min and max percentage across the columns\n",
    "missing_percentage = patients[cals_cols].isnull().mean() * 100\n",
    "print(min(missing_percentage), max(missing_percentage))"
   ]
  },
  {
   "cell_type": "code",
   "execution_count": 15,
   "id": "98521850-5a63-430f-a0cd-3cc92915f347",
   "metadata": {},
   "outputs": [
    {
     "data": {
      "text/plain": [
       "np.float64(20.07893939051579)"
      ]
     },
     "execution_count": 15,
     "metadata": {},
     "output_type": "execute_result"
    }
   ],
   "source": [
    "patients[cals_cols].isna().sum().sum() / patients[cals_cols].size * 100"
   ]
  },
  {
   "cell_type": "markdown",
   "id": "7ee03c7f-6533-4fd5-8d8a-314e103886ee",
   "metadata": {},
   "source": [
    "<b>Conclusion & handling:</b> There are approximately 20% missing values accross the cals-* columns. Given that these data are recorded by the smartwatch, with some patients having data recorded at 15-minute intervals, we assume that after proper interpolation and imputation, the missing values will be partially resolved. Any remaining missing values will be replaced with 0. This step will be carried out during the data preprocessing phase."
   ]
  },
  {
   "cell_type": "markdown",
   "id": "6c5ded52-3fe3-4769-9da8-63904daa0d90",
   "metadata": {},
   "source": [
    "### Percentage of missing values for activity-* columns"
   ]
  },
  {
   "cell_type": "code",
   "execution_count": 17,
   "id": "4dda1a5d-9419-45c4-bd5b-990f73d0bd42",
   "metadata": {},
   "outputs": [
    {
     "name": "stdout",
     "output_type": "stream",
     "text": [
      "98.43411062906723 98.46800433839479\n",
      "['Walking', 'Strength training', 'Weights', 'Dancing', 'Sport', 'Zumba', 'Hike', 'Spinning', 'HIIT', 'Aerobic Workout', 'Run', 'Swim', 'Yoga', 'Indoor climbing', 'Workout', 'Bike', 'Outdoor Bike', 'Tennis', 'Running', 'Stairclimber', 'Swimming', 'Walk']\n"
     ]
    }
   ],
   "source": [
    "activity_cols = [col for col in patients.columns if col.startswith('activity-')]\n",
    "# Calculate the percentage of missing values for each 'activity-*' column individually and gives the min and max percentage across the columns\n",
    "missing_percentage = patients[activity_cols].isnull().mean() * 100\n",
    "print(min(missing_percentage), max(missing_percentage))\n",
    "\n",
    "# Initialize an empty set to store unique activities\n",
    "unique_activities = set()\n",
    "for col in activity_cols:\n",
    "    unique_activities.update(patients[col].dropna().unique())  \n",
    "unique_activities_list = list(unique_activities)\n",
    "print(unique_activities_list)"
   ]
  },
  {
   "cell_type": "markdown",
   "id": "957f8a45-bc9d-4966-8497-5e9b38ec4129",
   "metadata": {},
   "source": [
    "##### Percentage of reported activities for each patient"
   ]
  },
  {
   "cell_type": "code",
   "execution_count": 18,
   "id": "63dbc610-62d2-45bb-b3e8-98f69d7ac016",
   "metadata": {},
   "outputs": [
    {
     "name": "stdout",
     "output_type": "stream",
     "text": [
      "The busiest patient is p10 with 65952 reported activities.\n"
     ]
    }
   ],
   "source": [
    "# find the \"busiest\" patient, i.e. the one who reported the most activities across the activity-* columns\n",
    "# Count non-missing values in the 'activity-*' columns for each patient\n",
    "activity_counts = patients.groupby('p_num')[activity_cols].apply(lambda x: x.notnull().sum().sum())\n",
    "\n",
    "# Find the patient with the maximum activity reports\n",
    "busiest_patient = activity_counts.idxmax()\n",
    "max_activities_reported = activity_counts.max()\n",
    "\n",
    "# Output the result\n",
    "print(f\"The busiest patient is {busiest_patient} with {max_activities_reported} reported activities.\")\n",
    "\n",
    "# Note: this is the highest absolute number of activity entries "
   ]
  },
  {
   "cell_type": "code",
   "execution_count": 19,
   "id": "bc41749a-b4ea-4757-ab58-87accac81769",
   "metadata": {},
   "outputs": [
    {
     "name": "stdout",
     "output_type": "stream",
     "text": [
      "p_num\n",
      "p01    3.935650\n",
      "p02    0.935857\n",
      "p03    0.430306\n",
      "p04    1.124625\n",
      "p05    1.233879\n",
      "p06    2.589401\n",
      "p10    3.598649\n",
      "p11    1.884432\n",
      "p12    0.304525\n",
      "dtype: float64\n"
     ]
    }
   ],
   "source": [
    "# Count non-missing values in the 'activity-*' columns for each patient\n",
    "activity_counts = patients.groupby('p_num')[activity_cols].apply(lambda x: x.notnull().sum().sum())\n",
    "\n",
    "# Calculate the total possible activity entries for each patient\n",
    "total_possible_activities = len(activity_cols) * patients.groupby('p_num').size()\n",
    "\n",
    "# Calculate the percentage of filled activity data for each patient\n",
    "activity_percentage_filled = (activity_counts / total_possible_activities) * 100\n",
    "\n",
    "# Display the percentage for each patient\n",
    "print(activity_percentage_filled)\n",
    "\n",
    "# Note: this is the highest percentage of filled activity data, which suggests that a higher proportion of the total data available \n",
    "# for this patient is filled in, even if the absolute number of activity records is lower.\n"
   ]
  },
  {
   "cell_type": "markdown",
   "id": "a5c18a7f-d6cb-426a-a854-3f9d2d91c400",
   "metadata": {},
   "source": [
    "<b>Conclusion & handling:</b> There are approximately 98.4% missing values across the activity-* columns. Although these data are self-reported by participants and may not be entirely reliable, we assume this variable might still be useful for model predictions. For at least two participants who actively reported their activities, it would be interesting to evaluate whether the model shows significant improvements. If no substantial benefit is observed, this feature can be dropped. Further analysis on this is required."
   ]
  },
  {
   "cell_type": "markdown",
   "id": "036d89c8-ec44-46ea-a728-46b267071e53",
   "metadata": {},
   "source": [
    "### Percentage of missing values for the target variable bg+1:00"
   ]
  },
  {
   "cell_type": "code",
   "execution_count": 20,
   "id": "418e81b2-4f83-4b0c-beac-44e178a82ed0",
   "metadata": {},
   "outputs": [
    {
     "data": {
      "text/plain": [
       "np.float64(0.0)"
      ]
     },
     "execution_count": 20,
     "metadata": {},
     "output_type": "execute_result"
    }
   ],
   "source": [
    "patients['bg+1:00'].isna().sum() / len(patients) * 100"
   ]
  },
  {
   "cell_type": "markdown",
   "id": "54251e3f-f83a-4d59-8e26-55322636a005",
   "metadata": {},
   "source": [
    "<b>Conclusion & handling:</b> There are no missing values in the bg+1:00 column, so no further action is required."
   ]
  }
 ],
 "metadata": {
  "kernelspec": {
   "display_name": "Python 3 (ipykernel)",
   "language": "python",
   "name": "python3"
  },
  "language_info": {
   "codemirror_mode": {
    "name": "ipython",
    "version": 3
   },
   "file_extension": ".py",
   "mimetype": "text/x-python",
   "name": "python",
   "nbconvert_exporter": "python",
   "pygments_lexer": "ipython3",
   "version": "3.12.5"
  }
 },
 "nbformat": 4,
 "nbformat_minor": 5
}
