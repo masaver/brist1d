{
 "cells": [
  {
   "metadata": {},
   "cell_type": "markdown",
   "source": "# Modelling based on train and augmented train and test data",
   "id": "9bbc12c761e0ae1e"
  },
  {
   "metadata": {},
   "cell_type": "code",
   "source": "",
   "id": "68913d93c644235f",
   "outputs": [],
   "execution_count": null
  },
  {
   "metadata": {},
   "cell_type": "markdown",
   "source": [
    "## Overview\n",
    "\n",
    "In this notebook we focus on create more date from the given test dataset by augmenting blood glucose level predictions. We will then use the augmented data to additionally train the model and predict the test data.\n"
   ],
   "id": "f91616b3abb17f55"
  },
  {
   "metadata": {},
   "cell_type": "markdown",
   "source": [
    "## Data Augmentation\n",
    "\n",
    "Data augmentation is a technique used to increase the size of the training dataset based on existing data or newly created synthetic data from existing data. In this case, we will use the lag features given in the test data to create more input data for the model.\n",
    "\n",
    "For each imputed row in the test set we can create a new row by shifting the lag features by one column. This will create a new row with the same target value but with different input features. We can then use this new data to train the model.\n",
    "\n",
    " "
   ],
   "id": "c6987613bfe9e91b"
  },
  {
   "metadata": {
    "ExecuteTime": {
     "end_time": "2024-11-29T15:07:53.203962Z",
     "start_time": "2024-11-29T15:07:51.580635Z"
    }
   },
   "cell_type": "code",
   "source": [
    "from datetime import datetime\n",
    "\n",
    "from src.features.helpers.extractors import extract_patient_data\n",
    "import os\n",
    "import pandas as pd\n",
    "\n",
    "df_test = pd.read_csv(os.path.join('..', '..', '..', 'data', 'raw', 'test.csv'))\n",
    "extracted_data = extract_patient_data(df_test, 'p24')\n",
    "extracted_data\n"
   ],
   "id": "94d10a227836ac4e",
   "outputs": [
    {
     "name": "stdout",
     "output_type": "stream",
     "text": [
      "['p01' 'p02' 'p04' 'p05' 'p06' 'p10' 'p11' 'p12' 'p15' 'p16' 'p18' 'p19'\n",
      " 'p21' 'p22' 'p24']\n"
     ]
    },
    {
     "data": {
      "text/plain": [
       "                    p_num      time   bg  insulin  carbs     hr  steps   cals  \\\n",
       "2020-01-02 10:40:00   p24  10:40:00  8.7   0.0708    NaN   79.1    0.0   4.39   \n",
       "2020-01-02 10:45:00   p24  10:45:00  8.2   0.0708    NaN   84.1  225.0  15.94   \n",
       "2020-01-02 10:50:00   p24  10:50:00  8.3   0.0708    NaN  104.3   41.0  12.11   \n",
       "2020-01-02 10:55:00   p24  10:55:00  8.8   0.0708    NaN   85.0   53.0   6.97   \n",
       "2020-01-02 11:00:00   p24  11:00:00  8.9   0.0708    NaN   92.2  145.0  13.20   \n",
       "...                   ...       ...  ...      ...    ...    ...    ...    ...   \n",
       "2020-11-29 02:50:00   p24  02:50:00  6.4   0.0771    NaN   72.7    0.0   4.31   \n",
       "2020-11-29 02:55:00   p24  02:55:00  6.4   0.0000    NaN   71.8    NaN   4.15   \n",
       "2020-11-29 03:00:00   p24  03:00:00  6.4   0.0000    NaN   76.2    0.0   4.23   \n",
       "2020-11-29 03:05:00   p24  03:05:00  6.5   0.0327    NaN   70.5    NaN   4.15   \n",
       "2020-11-29 03:10:00   p24  03:10:00  6.4   0.0771    NaN   73.9    NaN   4.15   \n",
       "\n",
       "                    activity  \n",
       "2020-01-02 10:40:00      NaN  \n",
       "2020-01-02 10:45:00      NaN  \n",
       "2020-01-02 10:50:00      NaN  \n",
       "2020-01-02 10:55:00      NaN  \n",
       "2020-01-02 11:00:00      NaN  \n",
       "...                      ...  \n",
       "2020-11-29 02:50:00      NaN  \n",
       "2020-11-29 02:55:00      NaN  \n",
       "2020-11-29 03:00:00      NaN  \n",
       "2020-11-29 03:05:00      NaN  \n",
       "2020-11-29 03:10:00      NaN  \n",
       "\n",
       "[95527 rows x 9 columns]"
      ],
      "text/html": [
       "<div>\n",
       "<style scoped>\n",
       "    .dataframe tbody tr th:only-of-type {\n",
       "        vertical-align: middle;\n",
       "    }\n",
       "\n",
       "    .dataframe tbody tr th {\n",
       "        vertical-align: top;\n",
       "    }\n",
       "\n",
       "    .dataframe thead th {\n",
       "        text-align: right;\n",
       "    }\n",
       "</style>\n",
       "<table border=\"1\" class=\"dataframe\">\n",
       "  <thead>\n",
       "    <tr style=\"text-align: right;\">\n",
       "      <th></th>\n",
       "      <th>p_num</th>\n",
       "      <th>time</th>\n",
       "      <th>bg</th>\n",
       "      <th>insulin</th>\n",
       "      <th>carbs</th>\n",
       "      <th>hr</th>\n",
       "      <th>steps</th>\n",
       "      <th>cals</th>\n",
       "      <th>activity</th>\n",
       "    </tr>\n",
       "  </thead>\n",
       "  <tbody>\n",
       "    <tr>\n",
       "      <th>2020-01-02 10:40:00</th>\n",
       "      <td>p24</td>\n",
       "      <td>10:40:00</td>\n",
       "      <td>8.7</td>\n",
       "      <td>0.0708</td>\n",
       "      <td>NaN</td>\n",
       "      <td>79.1</td>\n",
       "      <td>0.0</td>\n",
       "      <td>4.39</td>\n",
       "      <td>NaN</td>\n",
       "    </tr>\n",
       "    <tr>\n",
       "      <th>2020-01-02 10:45:00</th>\n",
       "      <td>p24</td>\n",
       "      <td>10:45:00</td>\n",
       "      <td>8.2</td>\n",
       "      <td>0.0708</td>\n",
       "      <td>NaN</td>\n",
       "      <td>84.1</td>\n",
       "      <td>225.0</td>\n",
       "      <td>15.94</td>\n",
       "      <td>NaN</td>\n",
       "    </tr>\n",
       "    <tr>\n",
       "      <th>2020-01-02 10:50:00</th>\n",
       "      <td>p24</td>\n",
       "      <td>10:50:00</td>\n",
       "      <td>8.3</td>\n",
       "      <td>0.0708</td>\n",
       "      <td>NaN</td>\n",
       "      <td>104.3</td>\n",
       "      <td>41.0</td>\n",
       "      <td>12.11</td>\n",
       "      <td>NaN</td>\n",
       "    </tr>\n",
       "    <tr>\n",
       "      <th>2020-01-02 10:55:00</th>\n",
       "      <td>p24</td>\n",
       "      <td>10:55:00</td>\n",
       "      <td>8.8</td>\n",
       "      <td>0.0708</td>\n",
       "      <td>NaN</td>\n",
       "      <td>85.0</td>\n",
       "      <td>53.0</td>\n",
       "      <td>6.97</td>\n",
       "      <td>NaN</td>\n",
       "    </tr>\n",
       "    <tr>\n",
       "      <th>2020-01-02 11:00:00</th>\n",
       "      <td>p24</td>\n",
       "      <td>11:00:00</td>\n",
       "      <td>8.9</td>\n",
       "      <td>0.0708</td>\n",
       "      <td>NaN</td>\n",
       "      <td>92.2</td>\n",
       "      <td>145.0</td>\n",
       "      <td>13.20</td>\n",
       "      <td>NaN</td>\n",
       "    </tr>\n",
       "    <tr>\n",
       "      <th>...</th>\n",
       "      <td>...</td>\n",
       "      <td>...</td>\n",
       "      <td>...</td>\n",
       "      <td>...</td>\n",
       "      <td>...</td>\n",
       "      <td>...</td>\n",
       "      <td>...</td>\n",
       "      <td>...</td>\n",
       "      <td>...</td>\n",
       "    </tr>\n",
       "    <tr>\n",
       "      <th>2020-11-29 02:50:00</th>\n",
       "      <td>p24</td>\n",
       "      <td>02:50:00</td>\n",
       "      <td>6.4</td>\n",
       "      <td>0.0771</td>\n",
       "      <td>NaN</td>\n",
       "      <td>72.7</td>\n",
       "      <td>0.0</td>\n",
       "      <td>4.31</td>\n",
       "      <td>NaN</td>\n",
       "    </tr>\n",
       "    <tr>\n",
       "      <th>2020-11-29 02:55:00</th>\n",
       "      <td>p24</td>\n",
       "      <td>02:55:00</td>\n",
       "      <td>6.4</td>\n",
       "      <td>0.0000</td>\n",
       "      <td>NaN</td>\n",
       "      <td>71.8</td>\n",
       "      <td>NaN</td>\n",
       "      <td>4.15</td>\n",
       "      <td>NaN</td>\n",
       "    </tr>\n",
       "    <tr>\n",
       "      <th>2020-11-29 03:00:00</th>\n",
       "      <td>p24</td>\n",
       "      <td>03:00:00</td>\n",
       "      <td>6.4</td>\n",
       "      <td>0.0000</td>\n",
       "      <td>NaN</td>\n",
       "      <td>76.2</td>\n",
       "      <td>0.0</td>\n",
       "      <td>4.23</td>\n",
       "      <td>NaN</td>\n",
       "    </tr>\n",
       "    <tr>\n",
       "      <th>2020-11-29 03:05:00</th>\n",
       "      <td>p24</td>\n",
       "      <td>03:05:00</td>\n",
       "      <td>6.5</td>\n",
       "      <td>0.0327</td>\n",
       "      <td>NaN</td>\n",
       "      <td>70.5</td>\n",
       "      <td>NaN</td>\n",
       "      <td>4.15</td>\n",
       "      <td>NaN</td>\n",
       "    </tr>\n",
       "    <tr>\n",
       "      <th>2020-11-29 03:10:00</th>\n",
       "      <td>p24</td>\n",
       "      <td>03:10:00</td>\n",
       "      <td>6.4</td>\n",
       "      <td>0.0771</td>\n",
       "      <td>NaN</td>\n",
       "      <td>73.9</td>\n",
       "      <td>NaN</td>\n",
       "      <td>4.15</td>\n",
       "      <td>NaN</td>\n",
       "    </tr>\n",
       "  </tbody>\n",
       "</table>\n",
       "<p>95527 rows × 9 columns</p>\n",
       "</div>"
      ]
     },
     "execution_count": 14,
     "metadata": {},
     "output_type": "execute_result"
    }
   ],
   "execution_count": 14
  },
  {
   "metadata": {
    "ExecuteTime": {
     "end_time": "2024-11-29T23:07:42.186583Z",
     "start_time": "2024-11-29T23:07:42.093949Z"
    }
   },
   "cell_type": "code",
   "source": [
    "\n",
    "# plot the extracted data for the first day\n",
    "import matplotlib.pyplot as plt\n",
    "import matplotlib.dates as mdates\n",
    "\n",
    "# show only data from the first day\n",
    "extracted_data = extracted_data[extracted_data.index < datetime(2020, 1, 3)]\n",
    "plt.figure(figsize=(10, 6))\n",
    "\n",
    "plt.plot(extracted_data.index, extracted_data['bg'], linestyle='--', color='grey', label='Blood Glucose Level')\n",
    "plt.xlabel('Time')\n",
    "plt.ylabel('Blood Glucose Level')\n",
    "plt.title('Blood Glucose Level vs Time')\n",
    "\n",
    "date_format = mdates.DateFormatter(\"%H:%M\")\n",
    "plt.gca().xaxis.set_major_formatter(date_format)\n",
    "\n",
    "# Vertical line at 18:00 with label 'BG+1h'\n",
    "plt.axvline(x=datetime(2020, 1, 2, 16, 35), color='r', linestyle='-')\n",
    "plt.text(datetime(2020, 1, 2, 16, 25), 12.5, 'BG+1:00', rotation=90)\n",
    "\n",
    "plt.axvline(x=datetime(2020, 1, 2, 15, 35), color='r', linestyle='--')\n",
    "plt.text(datetime(2020, 1, 2, 15, 25), 12.5, 'BG-0:00', rotation=90)\n",
    "\n",
    "plt.axvline(x=datetime(2020, 1, 2, 14, 35), color='r', linestyle='--')\n",
    "plt.text(datetime(2020, 1, 2, 14, 25), 12.5, 'BG-1:00', rotation=90)\n",
    "plt.legend()\n",
    "\n",
    "plt.show()\n"
   ],
   "id": "34aacaa063299381",
   "outputs": [
    {
     "data": {
      "text/plain": [
       "<Figure size 1000x600 with 1 Axes>"
      ],
      "image/png": "[encoded data removed]"
     },
     "metadata": {},
     "output_type": "display_data"
    }
   ],
   "execution_count": 51
  },
  {
   "metadata": {},
   "cell_type": "markdown",
   "source": "## Preprocessing",
   "id": "229aae3a0b54a1be"
  },
  {
   "cell_type": "code",
   "id": "initial_id",
   "metadata": {
    "collapsed": true
   },
   "source": "## Preprocessing",
   "outputs": [],
   "execution_count": null
  },
  {
   "metadata": {},
   "cell_type": "markdown",
   "source": "## Lazy Predict",
   "id": "64a49dc6577a1818"
  },
  {
   "metadata": {},
   "cell_type": "code",
   "source": "#",
   "id": "ac0f0887009b1ac9",
   "outputs": [],
   "execution_count": null
  },
  {
   "metadata": {},
   "cell_type": "markdown",
   "source": "## Feature Selection based on Shap",
   "id": "706f75125d78cbc0"
  },
  {
   "metadata": {},
   "cell_type": "code",
   "source": "",
   "id": "2f32ba3109dbe579",
   "outputs": [],
   "execution_count": null
  },
  {
   "metadata": {},
   "cell_type": "markdown",
   "source": "## Lazy Predict Results on feature subset",
   "id": "a44dea37f0109993"
  },
  {
   "metadata": {},
   "cell_type": "code",
   "source": "",
   "id": "64e40e807c374191",
   "outputs": [],
   "execution_count": null
  },
  {
   "metadata": {},
   "cell_type": "markdown",
   "source": "## Model Selection",
   "id": "3e8db6da65b4b411"
  },
  {
   "metadata": {},
   "cell_type": "code",
   "source": "",
   "id": "86fd3d1cc7a0f370",
   "outputs": [],
   "execution_count": null
  },
  {
   "metadata": {},
   "cell_type": "markdown",
   "source": "## Hyperparameter Tuning",
   "id": "cda36fb1fbb19b42"
  },
  {
   "metadata": {},
   "cell_type": "code",
   "source": "",
   "id": "58da398120c8fefe",
   "outputs": [],
   "execution_count": null
  },
  {
   "metadata": {},
   "cell_type": "markdown",
   "source": "## Ensemble model prediction",
   "id": "10c2775bf3a1f3e3"
  },
  {
   "metadata": {},
   "cell_type": "code",
   "source": "",
   "id": "1e78087e584a6c7c",
   "outputs": [],
   "execution_count": null
  },
  {
   "metadata": {},
   "cell_type": "markdown",
   "source": "## Kaggle Submission",
   "id": "95f490f21d0ea7cb"
  },
  {
   "metadata": {},
   "cell_type": "code",
   "source": "",
   "id": "581e8981e70be6ce",
   "outputs": [],
   "execution_count": null
  }
 ],
 "metadata": {
  "kernelspec": {
   "display_name": "Python 3",
   "language": "python",
   "name": "python3"
  },
  "language_info": {
   "codemirror_mode": {
    "name": "ipython",
    "version": 2
   },
   "file_extension": ".py",
   "mimetype": "text/x-python",
   "name": "python",
   "nbconvert_exporter": "python",
   "pygments_lexer": "ipython2",
   "version": "2.7.6"
  }
 },
 "nbformat": 4,
 "nbformat_minor": 5
}
