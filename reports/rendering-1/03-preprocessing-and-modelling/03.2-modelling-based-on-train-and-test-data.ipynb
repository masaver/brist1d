{
 "cells": [
  {
   "metadata": {},
   "cell_type": "markdown",
   "source": "# Modelling based on train and test data",
   "id": "9bbc12c761e0ae1e"
  },
  {
   "metadata": {},
   "cell_type": "markdown",
   "source": "## Preprocessing",
   "id": "229aae3a0b54a1be"
  },
  {
   "cell_type": "code",
   "id": "initial_id",
   "metadata": {
    "collapsed": true,
    "ExecuteTime": {
     "end_time": "2024-11-20T12:17:07.591987Z",
     "start_time": "2024-11-20T12:17:07.588478Z"
    }
   },
   "source": "## Preprocessing",
   "outputs": [],
   "execution_count": 1
  },
  {
   "metadata": {},
   "cell_type": "markdown",
   "source": "## Lazy Predict",
   "id": "64a49dc6577a1818"
  },
  {
   "metadata": {},
   "cell_type": "code",
   "outputs": [],
   "execution_count": null,
   "source": "#",
   "id": "ac0f0887009b1ac9"
  },
  {
   "metadata": {},
   "cell_type": "markdown",
   "source": "## Feature Selection based on Shap",
   "id": "706f75125d78cbc0"
  },
  {
   "metadata": {},
   "cell_type": "code",
   "outputs": [],
   "execution_count": null,
   "source": "",
   "id": "2f32ba3109dbe579"
  },
  {
   "metadata": {},
   "cell_type": "markdown",
   "source": "## Lazy Predict Results on feature subset",
   "id": "a44dea37f0109993"
  },
  {
   "metadata": {},
   "cell_type": "code",
   "outputs": [],
   "execution_count": null,
   "source": "",
   "id": "64e40e807c374191"
  },
  {
   "metadata": {},
   "cell_type": "markdown",
   "source": "## Model Selection",
   "id": "3e8db6da65b4b411"
  },
  {
   "metadata": {},
   "cell_type": "code",
   "outputs": [],
   "execution_count": null,
   "source": "",
   "id": "86fd3d1cc7a0f370"
  },
  {
   "metadata": {},
   "cell_type": "markdown",
   "source": "## Hyperparameter Tuning",
   "id": "cda36fb1fbb19b42"
  },
  {
   "metadata": {},
   "cell_type": "code",
   "outputs": [],
   "execution_count": null,
   "source": "",
   "id": "58da398120c8fefe"
  },
  {
   "metadata": {},
   "cell_type": "markdown",
   "source": "## Ensemble model prediction",
   "id": "10c2775bf3a1f3e3"
  },
  {
   "metadata": {},
   "cell_type": "code",
   "outputs": [],
   "execution_count": null,
   "source": "",
   "id": "1e78087e584a6c7c"
  },
  {
   "metadata": {},
   "cell_type": "markdown",
   "source": "## Kaggle Submission",
   "id": "95f490f21d0ea7cb"
  },
  {
   "metadata": {},
   "cell_type": "code",
   "outputs": [],
   "execution_count": null,
   "source": "",
   "id": "581e8981e70be6ce"
  }
 ],
 "metadata": {
  "kernelspec": {
   "display_name": "Python 3",
   "language": "python",
   "name": "python3"
  },
  "language_info": {
   "codemirror_mode": {
    "name": "ipython",
    "version": 2
   },
   "file_extension": ".py",
   "mimetype": "text/x-python",
   "name": "python",
   "nbconvert_exporter": "python",
   "pygments_lexer": "ipython2",
   "version": "2.7.6"
  }
 },
 "nbformat": 4,
 "nbformat_minor": 5
}
