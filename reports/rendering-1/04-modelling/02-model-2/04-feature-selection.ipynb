{
 "cells": [
  {
   "metadata": {},
   "cell_type": "markdown",
   "source": "# Feature Selection",
   "id": "229aae3a0b54a1be"
  },
  {
   "metadata": {
    "jupyter": {
     "is_executing": true
    }
   },
   "cell_type": "code",
   "source": [
    "from src.features.helpers.load_data import load_data\n",
    "from src.models.model_2.model.pipelines_2h import pipeline\n",
    "import pandas as pd\n",
    "\n",
    "train_data, augmented_data, test_data = load_data('2_00h')\n",
    "\n",
    "all_train_data_transformed = pipeline.fit_transform(pd.concat([train_data, augmented_data]))\n",
    "X_train, y_train = all_train_data_transformed.iloc[len(train_data):].drop(columns=['bg+1:00']), all_train_data_transformed.iloc[len(train_data):]['bg+1:00']"
   ],
   "id": "69813d7ee3b36a8a",
   "outputs": [],
   "execution_count": null
  },
  {
   "metadata": {},
   "cell_type": "markdown",
   "source": [
    "## Model Selection\n",
    "\n",
    "Based on the results from the `LazyPredict` library we can select the best performing models from each category, fine tune them and use them in a `StackingRegressor` for the final prediction. \n",
    "\n",
    "In this case we will use:\n",
    " \n",
    "* `HistGradientBoostingRegressor`\n",
    "* `LassoLarsICRegressor`\n",
    "* `KNNRegressor`\n",
    "* `XGBRegressor`"
   ],
   "id": "706f75125d78cbc0"
  },
  {
   "metadata": {},
   "cell_type": "markdown",
   "source": [
    "## Feature Importance\n",
    "\n",
    "For each of the models we can calculate the feature importance and choose the most important features."
   ],
   "id": "3e8db6da65b4b411"
  },
  {
   "metadata": {},
   "cell_type": "markdown",
   "source": "### HistGradientBoostingRegressor",
   "id": "63c823de08cff672"
  },
  {
   "metadata": {},
   "cell_type": "code",
   "source": [
    "import pandas as pd\n",
    "from sklearn.ensemble import HistGradientBoostingRegressor\n",
    "from sklearn.inspection import permutation_importance\n",
    "\n",
    "model = HistGradientBoostingRegressor()\n",
    "model.fit(X_train, y_train)\n",
    "importances = permutation_importance(model, X_train, y_train, n_repeats=10, random_state=42)\n",
    "hgb_feature_importances = pd.Series(importances.importances_mean, index=X_train.columns)\n",
    "hgb_feature_importances = hgb_feature_importances / hgb_feature_importances.sum()\n",
    "mask = ~(hgb_feature_importances.index.str.startswith('hour') | hgb_feature_importances.index.str.startswith('p_num'))\n",
    "hgb_feature_importances = hgb_feature_importances[mask]\n",
    "hgb_feature_importances = pd.DataFrame(hgb_feature_importances, columns=['hgb_importance'])"
   ],
   "id": "210a1f98f1ca2a77",
   "outputs": [],
   "execution_count": null
  },
  {
   "metadata": {},
   "cell_type": "markdown",
   "source": "### LassoLarsICRegressor",
   "id": "d226d8ee1a01c50"
  },
  {
   "metadata": {},
   "cell_type": "code",
   "source": [
    "from sklearn.linear_model import LassoLarsIC\n",
    "\n",
    "model = LassoLarsIC()\n",
    "model.fit(X_train, y_train)\n",
    "lasso_feature_importances = pd.Series(abs(model.coef_), index=X_train.columns)\n",
    "lasso_feature_importances = lasso_feature_importances / lasso_feature_importances.sum()\n",
    "mask = ~(lasso_feature_importances.index.str.startswith('hour') | lasso_feature_importances.index.str.startswith('p_num'))\n",
    "lasso_feature_importances = lasso_feature_importances[mask]\n",
    "lasso_feature_importances = pd.DataFrame(lasso_feature_importances, columns=['lasso_importance'])"
   ],
   "id": "9a5d1e291717870",
   "outputs": [],
   "execution_count": null
  },
  {
   "metadata": {},
   "cell_type": "markdown",
   "source": "### XGBRegressor",
   "id": "3436dce063d381d2"
  },
  {
   "metadata": {},
   "cell_type": "code",
   "source": [
    "from xgboost import XGBRegressor\n",
    "from sklearn.inspection import permutation_importance\n",
    "\n",
    "model = XGBRegressor()\n",
    "model.fit(X_train, y_train)\n",
    "importances = permutation_importance(model, X_train, y_train, n_repeats=10, random_state=42)\n",
    "xgb_feature_importances = pd.Series(importances.importances_mean, index=X_train.columns)\n",
    "xgb_feature_importances = xgb_feature_importances / xgb_feature_importances.sum()\n",
    "mask = ~(xgb_feature_importances.index.str.startswith('hour') | xgb_feature_importances.index.str.startswith('p_num'))\n",
    "xgb_feature_importances = xgb_feature_importances[mask]\n",
    "xgb_feature_importances = pd.DataFrame(xgb_feature_importances, columns=['xgb_importance'])"
   ],
   "id": "12c4801eb48d7fbc",
   "outputs": [],
   "execution_count": null
  },
  {
   "metadata": {},
   "cell_type": "markdown",
   "source": [
    "## Plotting Feature Importance by parameter\n",
    "\n",
    "Taking the sum of the feature importance from the three models we can plot the most important features.  "
   ],
   "id": "a1c0be614373a850"
  },
  {
   "metadata": {},
   "cell_type": "code",
   "source": [
    "from helpers import plot_feature_importance_chart\n",
    "%matplotlib inline\n",
    "\n",
    "feature_importances = pd.concat([hgb_feature_importances, lasso_feature_importances, xgb_feature_importances], axis=1)\n",
    "feature_importances = feature_importances / len(feature_importances.columns)\n",
    "\n",
    "plot_feature_importance_chart(feature_importances)"
   ],
   "id": "eb1cb6a627c668e8",
   "outputs": [],
   "execution_count": null
  },
  {
   "metadata": {},
   "cell_type": "markdown",
   "source": [
    "The chart shows, that the most important features are the blood glucose levels until -0:30h, the insulin levels until -1:00h, the heart rate until -1:00h, the steps until -1:00h and the calories until -1:00h.\n",
    "\n",
    "## Feature Selection\n",
    "\n",
    "For the modelling section we will choose the following features:\n",
    "\n",
    "* bg-0:00 - bg-1:00\n",
    "* insulin-0:00 - insulin-1:00\n",
    "* hr-0:00 - hr-1:00\n",
    "* steps-0:00 - steps-1:00\n",
    "* cals-0:00 - cals-1:00"
   ],
   "id": "ceea4170b2a1e26e"
  }
 ],
 "metadata": {
  "kernelspec": {
   "display_name": "Python 3",
   "language": "python",
   "name": "python3"
  },
  "language_info": {
   "codemirror_mode": {
    "name": "ipython",
    "version": 2
   },
   "file_extension": ".py",
   "mimetype": "text/x-python",
   "name": "python",
   "nbconvert_exporter": "python",
   "pygments_lexer": "ipython2",
   "version": "2.7.6"
  }
 },
 "nbformat": 4,
 "nbformat_minor": 5
}
