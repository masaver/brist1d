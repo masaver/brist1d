{
 "cells": [
  {
   "metadata": {},
   "cell_type": "markdown",
   "source": [
    "# Hyperparameter Tuning\n",
    "\n",
    "For each of previously selected models we will perform hyperparameter tuning using the Bayesian Optimization method.\n",
    "\n",
    "We have created HyperparameterTuner classes for each model, which will be used to perform the hyperparameter tuning."
   ],
   "id": "229aae3a0b54a1be"
  },
  {
   "metadata": {},
   "cell_type": "markdown",
   "source": "## Load data",
   "id": "81a6f4e3ec34319d"
  },
  {
   "metadata": {
    "ExecuteTime": {
     "end_time": "2024-12-04T06:41:11.196486Z",
     "start_time": "2024-12-04T06:41:11.192666Z"
    }
   },
   "cell_type": "code",
   "source": [
    "import warnings\n",
    "\n",
    "warnings.filterwarnings('ignore')"
   ],
   "id": "50da48819eaceab4",
   "outputs": [],
   "execution_count": 1
  },
  {
   "metadata": {
    "ExecuteTime": {
     "end_time": "2024-12-04T06:42:04.159828Z",
     "start_time": "2024-12-04T06:41:11.284276Z"
    }
   },
   "cell_type": "code",
   "source": [
    "from sklearn.model_selection import train_test_split\n",
    "from src.features.helpers.load_data import load_data\n",
    "from src.models.model_2.model.pipelines import pipeline\n",
    "import pandas as pd\n",
    "\n",
    "train_data, augmented_data, test_data = load_data('1_00h')\n",
    "\n",
    "all_train_data_transformed = pipeline.fit_transform(pd.concat([train_data, augmented_data]))\n",
    "\n",
    "X_train = all_train_data_transformed.iloc[:len(train_data)].drop(columns=['bg+1:00'])\n",
    "y_train = all_train_data_transformed.iloc[:len(train_data)]['bg+1:00']\n",
    "\n",
    "X_augmented = all_train_data_transformed.iloc[len(train_data):].drop(columns=['bg+1:00'])\n",
    "y_augmented = all_train_data_transformed.iloc[len(train_data):]['bg+1:00']\n",
    "\n",
    "X_augmented_train, X_augmented_val, y_augmented_train, y_augmented_val = train_test_split(X_augmented, y_augmented, test_size=0.2)\n",
    "\n",
    "X_train = pd.concat([X_train, X_augmented_train])\n",
    "y_train = pd.concat([y_train, y_augmented_train])\n"
   ],
   "id": "69813d7ee3b36a8a",
   "outputs": [],
   "execution_count": 2
  },
  {
   "metadata": {},
   "cell_type": "markdown",
   "source": "### HistGradientBoostingRegressor Hyperparameter Tuning",
   "id": "63c823de08cff672"
  },
  {
   "metadata": {
    "jupyter": {
     "is_executing": true
    },
    "ExecuteTime": {
     "start_time": "2024-12-04T06:42:04.169859Z"
    }
   },
   "cell_type": "code",
   "source": [
    "from src.features.tuners import HistGradientBoostingHyperparameterTuner\n",
    "\n",
    "tuner = HistGradientBoostingHyperparameterTuner(search_space='custom')\n",
    "tuner.fit(X_train, y_train, X_augmented_val, y_augmented_val)\n",
    "tuner.show_chart()\n",
    "tuner.get_params()"
   ],
   "id": "ed84622aa28b59ba",
   "outputs": [],
   "execution_count": null
  },
  {
   "metadata": {},
   "cell_type": "markdown",
   "source": "### KNeighborsRegressor Hyperparameter Tuning\n",
   "id": "fca089ef88cf927b"
  },
  {
   "metadata": {},
   "cell_type": "code",
   "source": [
    "from src.features.tuners import KNeighborsHyperparameterTuner\n",
    "\n",
    "tuner = KNeighborsHyperparameterTuner(search_space='custom')\n",
    "tuner.fit(X_train, y_train, X_augmented_val, y_augmented_val)\n",
    "tuner.show_chart()\n",
    "tuner.get_params()"
   ],
   "id": "fe65d5a07b920b01",
   "outputs": [],
   "execution_count": null
  },
  {
   "metadata": {},
   "cell_type": "markdown",
   "source": "### LassoLarsICRegressor Hyperparameter Tuning",
   "id": "d226d8ee1a01c50"
  },
  {
   "metadata": {},
   "cell_type": "code",
   "source": [
    "from src.features.tuners import LassoLarsICHyperparameterTuner\n",
    "\n",
    "tuner = LassoLarsICHyperparameterTuner(search_space='custom')\n",
    "tuner.fit(X_train, y_train, X_augmented_val, y_augmented_val)\n",
    "tuner.show_chart()\n",
    "tuner.get_params()"
   ],
   "id": "9a5d1e291717870",
   "outputs": [],
   "execution_count": null
  },
  {
   "metadata": {},
   "cell_type": "markdown",
   "source": "### XGBRegressor Hyperparameter Tuning",
   "id": "3436dce063d381d2"
  },
  {
   "metadata": {},
   "cell_type": "code",
   "source": [
    "from src.features.tuners import XGBHyperparameterTuner\n",
    "\n",
    "tuner = XGBHyperparameterTuner(search_space='custom')\n",
    "tuner.fit(X_train, y_train, X_augmented_val, y_augmented_val)\n",
    "tuner.show_chart()\n",
    "tuner.get_params()\n"
   ],
   "id": "12c4801eb48d7fbc",
   "outputs": [],
   "execution_count": null
  }
 ],
 "metadata": {
  "kernelspec": {
   "display_name": "Python 3",
   "language": "python",
   "name": "python3"
  },
  "language_info": {
   "codemirror_mode": {
    "name": "ipython",
    "version": 2
   },
   "file_extension": ".py",
   "mimetype": "text/x-python",
   "name": "python",
   "nbconvert_exporter": "python",
   "pygments_lexer": "ipython2",
   "version": "2.7.6"
  }
 },
 "nbformat": 4,
 "nbformat_minor": 5
}
