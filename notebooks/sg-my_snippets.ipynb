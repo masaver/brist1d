{
 "cells": [
  {
   "cell_type": "markdown",
   "id": "28dc964d-2e43-4eea-9172-e1586567661d",
   "metadata": {},
   "source": [
    "##### Display a serie of columns of interest"
   ]
  },
  {
   "cell_type": "code",
   "execution_count": null,
   "id": "0bcc2acb-de18-4aba-a8d8-d51bd9c23cba",
   "metadata": {},
   "outputs": [],
   "source": [
    "# Filter columns that are of interest: p_num, time, and columns starting with \"bg-*\" or \"bg+1\"\n",
    "bg_columns = [col for col in patients.columns if col.startswith('bg-') or col == 'bg+1:00']\n",
    "columns_to_display = ['p_num', 'time'] + bg_columns\n",
    "\n",
    "# Select the relevant columns and display\n",
    "filtered_data = patients[columns_to_display].head()"
   ]
  },
  {
   "cell_type": "markdown",
   "id": "352ce65c-2b8c-4743-8c5a-478bf3245830",
   "metadata": {},
   "source": [
    "##### Display a certain type of columns"
   ]
  },
  {
   "cell_type": "code",
   "execution_count": null,
   "id": "31418f50-333d-4252-946a-f6fbb3b7ed77",
   "metadata": {},
   "outputs": [],
   "source": [
    "insulin_cols = [col for col in patients.columns if col.startswith('insulin-')]\n",
    "patients[insulin_cols]"
   ]
  }
 ],
 "metadata": {
  "kernelspec": {
   "display_name": "Python 3 (ipykernel)",
   "language": "python",
   "name": "python3"
  },
  "language_info": {
   "codemirror_mode": {
    "name": "ipython",
    "version": 3
   },
   "file_extension": ".py",
   "mimetype": "text/x-python",
   "name": "python",
   "nbconvert_exporter": "python",
   "pygments_lexer": "ipython3",
   "version": "3.12.5"
  }
 },
 "nbformat": 4,
 "nbformat_minor": 5
}
