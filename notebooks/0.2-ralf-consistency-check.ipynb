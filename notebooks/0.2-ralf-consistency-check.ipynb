{
 "cells": [
  {
   "cell_type": "code",
   "id": "initial_id",
   "metadata": {
    "ExecuteTime": {
     "end_time": "2024-10-24T15:45:15.868001Z",
     "start_time": "2024-10-24T15:45:15.623525Z"
    }
   },
   "source": [
    "from datetime import datetime, timedelta\n",
    "import pandas as pd\n",
    "import numpy as np\n",
    "import os"
   ],
   "outputs": [],
   "execution_count": 1
  },
  {
   "cell_type": "code",
   "id": "c9bafb77644c31a5",
   "metadata": {
    "ExecuteTime": {
     "end_time": "2024-10-24T15:45:22.018835Z",
     "start_time": "2024-10-24T15:45:15.872243Z"
    }
   },
   "source": [
    "# Load the data\n",
    "df = pd.read_csv(os.path.join('..', 'data', 'raw', 'train.csv'), na_values=np.nan, low_memory=False)"
   ],
   "outputs": [],
   "execution_count": 2
  },
  {
   "metadata": {
    "ExecuteTime": {
     "end_time": "2024-10-24T15:45:22.088671Z",
     "start_time": "2024-10-24T15:45:22.086832Z"
    }
   },
   "cell_type": "code",
   "source": [
    "def get_time() -> str:\n",
    "    return datetime.now().strftime(\"%H:%M:%S\")"
   ],
   "id": "59468c3397c70971",
   "outputs": [],
   "execution_count": 3
  },
  {
   "metadata": {
    "ExecuteTime": {
     "end_time": "2024-10-24T15:45:22.098146Z",
     "start_time": "2024-10-24T15:45:22.095548Z"
    }
   },
   "cell_type": "code",
   "source": [
    "def parse_time_diff(time_diff_str: str) -> timedelta:\n",
    "    # get a string in the format of -HH:MM and return a timedelta object\n",
    "    is_negative = time_diff_str[0] == '-'\n",
    "\n",
    "    if time_diff_str[0] in ['+', '-']:\n",
    "        time_diff_str = time_diff_str[1:]\n",
    "\n",
    "    hours, minutes = time_diff_str.split(':')\n",
    "    if is_negative:\n",
    "        hours = -int(hours)\n",
    "        minutes = -int(minutes)\n",
    "\n",
    "    return timedelta(hours=int(hours), minutes=int(minutes))"
   ],
   "id": "7731aa3dc99a59fb",
   "outputs": [],
   "execution_count": 4
  },
  {
   "metadata": {
    "ExecuteTime": {
     "end_time": "2024-10-24T15:45:22.159086Z",
     "start_time": "2024-10-24T15:45:22.107369Z"
    }
   },
   "cell_type": "code",
   "source": "df[\"time\"] = pd.to_datetime(df[\"time\"], format=\"%H:%M:%S\").dt.time",
   "id": "992a882ab00c6634",
   "outputs": [],
   "execution_count": 5
  },
  {
   "metadata": {
    "ExecuteTime": {
     "end_time": "2024-10-24T15:45:22.173778Z",
     "start_time": "2024-10-24T15:45:22.166072Z"
    }
   },
   "cell_type": "code",
   "source": [
    "p_nums = df['p_num'].unique()\n",
    "parameters = ['bg', 'insulin', 'carbs', 'hr', 'steps', 'cals', 'activity']\n",
    "time_diffs = [\n",
    "    '-0:00',\n",
    "    '-0:05',\n",
    "    '-0:10',\n",
    "    '-0:15',\n",
    "    '-0:20',\n",
    "    '-0:25',\n",
    "    '-0:30',\n",
    "    '-0:35',\n",
    "    '-0:40',\n",
    "    '-0:45',\n",
    "    '-0:50',\n",
    "    '-0:55',\n",
    "    '-1:00',\n",
    "    '-1:05',\n",
    "    '-1:10',\n",
    "    '-1:15',\n",
    "    '-1:20',\n",
    "    '-1:25',\n",
    "    '-1:30',\n",
    "    '-1:35',\n",
    "    '-1:40',\n",
    "    '-1:45',\n",
    "    '-1:50',\n",
    "    '-1:55',\n",
    "    '-2:00',\n",
    "    '-2:05',\n",
    "    '-2:10',\n",
    "    '-2:15',\n",
    "    '-2:20',\n",
    "    '-2:25',\n",
    "    '-2:30',\n",
    "    '-2:35',\n",
    "    '-2:40',\n",
    "    '-2:45',\n",
    "    '-2:50',\n",
    "    '-2:55',\n",
    "    '-3:00',\n",
    "    '-3:05',\n",
    "    '-3:10',\n",
    "    '-3:15',\n",
    "    '-3:20',\n",
    "    '-3:25',\n",
    "    '-3:30',\n",
    "    '-3:35',\n",
    "    '-3:40',\n",
    "    '-3:45',\n",
    "    '-3:50',\n",
    "    '-3:55',\n",
    "    '-4:00',\n",
    "    '-4:05',\n",
    "    '-4:10',\n",
    "    '-4:15',\n",
    "    '-4:20',\n",
    "    '-4:25',\n",
    "    '-4:30',\n",
    "    '-4:35',\n",
    "    '-4:40',\n",
    "    '-4:45',\n",
    "    '-4:50',\n",
    "    '-4:55',\n",
    "    '-5:00',\n",
    "    '-5:05',\n",
    "    '-5:10',\n",
    "    '-5:15',\n",
    "    '-5:20',\n",
    "    '-5:25',\n",
    "    '-5:30',\n",
    "    '-5:35',\n",
    "    '-5:40',\n",
    "    '-5:45',\n",
    "    '-5:50',\n",
    "    '-5:55'\n",
    "]\n",
    "start_date = datetime(2000, 1, 1)"
   ],
   "id": "b3031d73dda626ca",
   "outputs": [],
   "execution_count": 6
  },
  {
   "metadata": {
    "ExecuteTime": {
     "end_time": "2024-10-24T15:45:27.254275Z",
     "start_time": "2024-10-24T15:45:22.180890Z"
    }
   },
   "cell_type": "code",
   "source": [
    "# add date_time index\n",
    "date_times = []\n",
    "last_processed_time = None\n",
    "last_processed_p_num = None\n",
    "current_date = None\n",
    "\n",
    "for i, row in df.iterrows():\n",
    "    # reset when we see a new patient\n",
    "    if last_processed_p_num is not None and last_processed_p_num != row[\"p_num\"]:\n",
    "        last_processed_p_num = None\n",
    "        last_processed_time = None\n",
    "        current_date = None\n",
    "\n",
    "    if last_processed_p_num is None:\n",
    "        last_processed_p_num = row[\"p_num\"]\n",
    "    if last_processed_time is None:\n",
    "        last_processed_time = row[\"time\"]\n",
    "    if current_date is None:\n",
    "        current_date = start_date\n",
    "\n",
    "    if row[\"time\"] < last_processed_time:\n",
    "        current_date = current_date + timedelta(days=1)\n",
    "\n",
    "    date_times.append(datetime.combine(current_date, row[\"time\"]))\n",
    "    last_processed_time = row[\"time\"]\n",
    "\n",
    "df = df.copy()\n",
    "df.loc[:, \"datetime\"] = date_times\n",
    "df = df.set_index(\"datetime\")\n",
    "df = df.drop(columns=[\"time\"])"
   ],
   "id": "7d911a6165a972de",
   "outputs": [],
   "execution_count": 7
  },
  {
   "metadata": {},
   "cell_type": "markdown",
   "source": "",
   "id": "1e3ebb1e061ea39c"
  },
  {
   "cell_type": "code",
   "id": "8f25ff29831f80e4",
   "metadata": {
    "ExecuteTime": {
     "end_time": "2024-10-24T15:46:23.633722Z",
     "start_time": "2024-10-24T15:45:27.261498Z"
    }
   },
   "source": [
    "result_dict = {}\n",
    "for p_num in p_nums:\n",
    "    result_dict[p_num] = {}\n",
    "    for parameter in parameters:\n",
    "        df_patient = df[df['p_num'] == p_num]\n",
    "        new_df = df_patient[['id', 'p_num', f'{parameter}-0:00']].copy()\n",
    "        for time_diff_id, time_diff_str in enumerate(time_diffs):\n",
    "            if time_diff_str == '-0:00':\n",
    "                continue\n",
    "\n",
    "            if not df_patient.columns.str.contains(f\"{parameter}{time_diff_str}\").any():\n",
    "                continue\n",
    "\n",
    "            time_diff = parse_time_diff(time_diff_str)\n",
    "            values = df_patient[f\"{parameter}{time_diff_str}\"].copy()\n",
    "            values.index = values.index + time_diff\n",
    "            values.index.name = \"datetime\"\n",
    "\n",
    "            # add rows that are not in df\n",
    "            new_df = new_df.reindex(df_patient.index.union(values.index))\n",
    "\n",
    "            # join the values to the new_df\n",
    "            new_df = new_df.join(values.rename(f\"{parameter}{time_diff_str}+{time_diff_str}\"), on=\"datetime\")\n",
    "\n",
    "        # analyse the data\n",
    "        # check for unique values in the columns except for the id and p_num\n",
    "        new_df = new_df.set_index(\"id\", drop=True)\n",
    "        unique_values = new_df.drop(columns=[\"p_num\"]).nunique(axis=1)\n",
    "        unique_values = unique_values[unique_values > 1]\n",
    "\n",
    "        result_dict[p_num][parameter] = unique_values.shape[0]\n",
    "        result_dict[p_num]['total'] = new_df.shape[0]"
   ],
   "outputs": [],
   "execution_count": 8
  },
  {
   "metadata": {
    "ExecuteTime": {
     "end_time": "2024-10-24T15:46:23.653450Z",
     "start_time": "2024-10-24T15:46:23.645926Z"
    }
   },
   "cell_type": "code",
   "source": [
    "result = pd.DataFrame.from_dict(result_dict, columns=parameters + ['total'], orient='index')\n",
    "result"
   ],
   "id": "af5241ac11bb31f8",
   "outputs": [
    {
     "data": {
      "text/plain": [
       "     bg  insulin  carbs  hr  steps  cals  activity  total\n",
       "p01   0        0      0   0      0     0         0  16865\n",
       "p02   0        0      0   0      0     0         0  26335\n",
       "p03   0        0      0   0      0     0         0  26427\n",
       "p04   0        0      0   0      0     0         0  25047\n",
       "p05   0        0      0   0      0     0         0  16248\n",
       "p06   0        0      0   0      0     0         0  16674\n",
       "p10   0        0      0   0      0     0         0  25874\n",
       "p11   0        0      0  68     26    45         0  25205\n",
       "p12   0        0      0   0      0     0         0  26048"
      ],
      "text/html": [
       "<div>\n",
       "<style scoped>\n",
       "    .dataframe tbody tr th:only-of-type {\n",
       "        vertical-align: middle;\n",
       "    }\n",
       "\n",
       "    .dataframe tbody tr th {\n",
       "        vertical-align: top;\n",
       "    }\n",
       "\n",
       "    .dataframe thead th {\n",
       "        text-align: right;\n",
       "    }\n",
       "</style>\n",
       "<table border=\"1\" class=\"dataframe\">\n",
       "  <thead>\n",
       "    <tr style=\"text-align: right;\">\n",
       "      <th></th>\n",
       "      <th>bg</th>\n",
       "      <th>insulin</th>\n",
       "      <th>carbs</th>\n",
       "      <th>hr</th>\n",
       "      <th>steps</th>\n",
       "      <th>cals</th>\n",
       "      <th>activity</th>\n",
       "      <th>total</th>\n",
       "    </tr>\n",
       "  </thead>\n",
       "  <tbody>\n",
       "    <tr>\n",
       "      <th>p01</th>\n",
       "      <td>0</td>\n",
       "      <td>0</td>\n",
       "      <td>0</td>\n",
       "      <td>0</td>\n",
       "      <td>0</td>\n",
       "      <td>0</td>\n",
       "      <td>0</td>\n",
       "      <td>16865</td>\n",
       "    </tr>\n",
       "    <tr>\n",
       "      <th>p02</th>\n",
       "      <td>0</td>\n",
       "      <td>0</td>\n",
       "      <td>0</td>\n",
       "      <td>0</td>\n",
       "      <td>0</td>\n",
       "      <td>0</td>\n",
       "      <td>0</td>\n",
       "      <td>26335</td>\n",
       "    </tr>\n",
       "    <tr>\n",
       "      <th>p03</th>\n",
       "      <td>0</td>\n",
       "      <td>0</td>\n",
       "      <td>0</td>\n",
       "      <td>0</td>\n",
       "      <td>0</td>\n",
       "      <td>0</td>\n",
       "      <td>0</td>\n",
       "      <td>26427</td>\n",
       "    </tr>\n",
       "    <tr>\n",
       "      <th>p04</th>\n",
       "      <td>0</td>\n",
       "      <td>0</td>\n",
       "      <td>0</td>\n",
       "      <td>0</td>\n",
       "      <td>0</td>\n",
       "      <td>0</td>\n",
       "      <td>0</td>\n",
       "      <td>25047</td>\n",
       "    </tr>\n",
       "    <tr>\n",
       "      <th>p05</th>\n",
       "      <td>0</td>\n",
       "      <td>0</td>\n",
       "      <td>0</td>\n",
       "      <td>0</td>\n",
       "      <td>0</td>\n",
       "      <td>0</td>\n",
       "      <td>0</td>\n",
       "      <td>16248</td>\n",
       "    </tr>\n",
       "    <tr>\n",
       "      <th>p06</th>\n",
       "      <td>0</td>\n",
       "      <td>0</td>\n",
       "      <td>0</td>\n",
       "      <td>0</td>\n",
       "      <td>0</td>\n",
       "      <td>0</td>\n",
       "      <td>0</td>\n",
       "      <td>16674</td>\n",
       "    </tr>\n",
       "    <tr>\n",
       "      <th>p10</th>\n",
       "      <td>0</td>\n",
       "      <td>0</td>\n",
       "      <td>0</td>\n",
       "      <td>0</td>\n",
       "      <td>0</td>\n",
       "      <td>0</td>\n",
       "      <td>0</td>\n",
       "      <td>25874</td>\n",
       "    </tr>\n",
       "    <tr>\n",
       "      <th>p11</th>\n",
       "      <td>0</td>\n",
       "      <td>0</td>\n",
       "      <td>0</td>\n",
       "      <td>68</td>\n",
       "      <td>26</td>\n",
       "      <td>45</td>\n",
       "      <td>0</td>\n",
       "      <td>25205</td>\n",
       "    </tr>\n",
       "    <tr>\n",
       "      <th>p12</th>\n",
       "      <td>0</td>\n",
       "      <td>0</td>\n",
       "      <td>0</td>\n",
       "      <td>0</td>\n",
       "      <td>0</td>\n",
       "      <td>0</td>\n",
       "      <td>0</td>\n",
       "      <td>26048</td>\n",
       "    </tr>\n",
       "  </tbody>\n",
       "</table>\n",
       "</div>"
      ]
     },
     "execution_count": 9,
     "metadata": {},
     "output_type": "execute_result"
    }
   ],
   "execution_count": 9
  },
  {
   "metadata": {
    "ExecuteTime": {
     "end_time": "2024-10-24T15:46:23.748664Z",
     "start_time": "2024-10-24T15:46:23.747336Z"
    }
   },
   "cell_type": "code",
   "source": "",
   "id": "7c0cfecb8837b9f2",
   "outputs": [],
   "execution_count": null
  }
 ],
 "metadata": {
  "kernelspec": {
   "display_name": "Python 3 (ipykernel)",
   "language": "python",
   "name": "python3"
  },
  "language_info": {
   "codemirror_mode": {
    "name": "ipython",
    "version": 3
   },
   "file_extension": ".py",
   "mimetype": "text/x-python",
   "name": "python",
   "nbconvert_exporter": "python",
   "pygments_lexer": "ipython3",
   "version": "3.12.4"
  }
 },
 "nbformat": 4,
 "nbformat_minor": 5
}
