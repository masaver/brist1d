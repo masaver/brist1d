{
 "cells": [
  {
   "metadata": {},
   "cell_type": "markdown",
   "source": [
    "# Modelling I\n",
    "\n",
    "In this notebook, we will:\n",
    "1. Load the preprocessed data\n",
    "2. Preprocess the data\n",
    "3. Feature engineering (day phase)\n",
    "4. Model selection"
   ],
   "id": "c4f5fa4ffbc53369"
  },
  {
   "metadata": {
    "ExecuteTime": {
     "end_time": "2024-11-05T20:27:26.264792Z",
     "start_time": "2024-11-05T20:27:26.119300Z"
    }
   },
   "cell_type": "code",
   "source": [
    "import os\n",
    "import pandas as pd\n",
    "\n",
    "data_file = os.path.join('..', '..', 'data', 'interim', 'all_train.csv')\n",
    "test_file = os.path.join('..', '..', 'data', 'raw', 'test.csv')\n",
    "df = pd.read_csv(data_file)\n",
    "df.head()"
   ],
   "id": "a3b2d749037733c4",
   "outputs": [
    {
     "data": {
      "text/plain": [
       "            Unnamed: 0 p_num  days_since_start      time initial_resolution  \\\n",
       "0  2020-01-01 00:15:00   p01                 0  00:15:00              15min   \n",
       "1  2020-01-01 00:20:00   p01                 0  00:20:00              15min   \n",
       "2  2020-01-01 00:25:00   p01                 0  00:25:00              15min   \n",
       "3  2020-01-01 00:30:00   p01                 0  00:30:00              15min   \n",
       "4  2020-01-01 00:35:00   p01                 0  00:35:00              15min   \n",
       "\n",
       "    bg  insulin  carbs  hr  steps  cals activity  bg+1:00  \n",
       "0  NaN   0.0083    NaN NaN    NaN   NaN      NaN      NaN  \n",
       "1  NaN   0.0083    NaN NaN    NaN   NaN      NaN      NaN  \n",
       "2  9.6   0.0083    NaN NaN    NaN   NaN      NaN      NaN  \n",
       "3  NaN   0.0083    NaN NaN    NaN   NaN      NaN      NaN  \n",
       "4  NaN   0.0083    NaN NaN    NaN   NaN      NaN      NaN  "
      ],
      "text/html": [
       "<div>\n",
       "<style scoped>\n",
       "    .dataframe tbody tr th:only-of-type {\n",
       "        vertical-align: middle;\n",
       "    }\n",
       "\n",
       "    .dataframe tbody tr th {\n",
       "        vertical-align: top;\n",
       "    }\n",
       "\n",
       "    .dataframe thead th {\n",
       "        text-align: right;\n",
       "    }\n",
       "</style>\n",
       "<table border=\"1\" class=\"dataframe\">\n",
       "  <thead>\n",
       "    <tr style=\"text-align: right;\">\n",
       "      <th></th>\n",
       "      <th>Unnamed: 0</th>\n",
       "      <th>p_num</th>\n",
       "      <th>days_since_start</th>\n",
       "      <th>time</th>\n",
       "      <th>initial_resolution</th>\n",
       "      <th>bg</th>\n",
       "      <th>insulin</th>\n",
       "      <th>carbs</th>\n",
       "      <th>hr</th>\n",
       "      <th>steps</th>\n",
       "      <th>cals</th>\n",
       "      <th>activity</th>\n",
       "      <th>bg+1:00</th>\n",
       "    </tr>\n",
       "  </thead>\n",
       "  <tbody>\n",
       "    <tr>\n",
       "      <th>0</th>\n",
       "      <td>2020-01-01 00:15:00</td>\n",
       "      <td>p01</td>\n",
       "      <td>0</td>\n",
       "      <td>00:15:00</td>\n",
       "      <td>15min</td>\n",
       "      <td>NaN</td>\n",
       "      <td>0.0083</td>\n",
       "      <td>NaN</td>\n",
       "      <td>NaN</td>\n",
       "      <td>NaN</td>\n",
       "      <td>NaN</td>\n",
       "      <td>NaN</td>\n",
       "      <td>NaN</td>\n",
       "    </tr>\n",
       "    <tr>\n",
       "      <th>1</th>\n",
       "      <td>2020-01-01 00:20:00</td>\n",
       "      <td>p01</td>\n",
       "      <td>0</td>\n",
       "      <td>00:20:00</td>\n",
       "      <td>15min</td>\n",
       "      <td>NaN</td>\n",
       "      <td>0.0083</td>\n",
       "      <td>NaN</td>\n",
       "      <td>NaN</td>\n",
       "      <td>NaN</td>\n",
       "      <td>NaN</td>\n",
       "      <td>NaN</td>\n",
       "      <td>NaN</td>\n",
       "    </tr>\n",
       "    <tr>\n",
       "      <th>2</th>\n",
       "      <td>2020-01-01 00:25:00</td>\n",
       "      <td>p01</td>\n",
       "      <td>0</td>\n",
       "      <td>00:25:00</td>\n",
       "      <td>15min</td>\n",
       "      <td>9.6</td>\n",
       "      <td>0.0083</td>\n",
       "      <td>NaN</td>\n",
       "      <td>NaN</td>\n",
       "      <td>NaN</td>\n",
       "      <td>NaN</td>\n",
       "      <td>NaN</td>\n",
       "      <td>NaN</td>\n",
       "    </tr>\n",
       "    <tr>\n",
       "      <th>3</th>\n",
       "      <td>2020-01-01 00:30:00</td>\n",
       "      <td>p01</td>\n",
       "      <td>0</td>\n",
       "      <td>00:30:00</td>\n",
       "      <td>15min</td>\n",
       "      <td>NaN</td>\n",
       "      <td>0.0083</td>\n",
       "      <td>NaN</td>\n",
       "      <td>NaN</td>\n",
       "      <td>NaN</td>\n",
       "      <td>NaN</td>\n",
       "      <td>NaN</td>\n",
       "      <td>NaN</td>\n",
       "    </tr>\n",
       "    <tr>\n",
       "      <th>4</th>\n",
       "      <td>2020-01-01 00:35:00</td>\n",
       "      <td>p01</td>\n",
       "      <td>0</td>\n",
       "      <td>00:35:00</td>\n",
       "      <td>15min</td>\n",
       "      <td>NaN</td>\n",
       "      <td>0.0083</td>\n",
       "      <td>NaN</td>\n",
       "      <td>NaN</td>\n",
       "      <td>NaN</td>\n",
       "      <td>NaN</td>\n",
       "      <td>NaN</td>\n",
       "      <td>NaN</td>\n",
       "    </tr>\n",
       "  </tbody>\n",
       "</table>\n",
       "</div>"
      ]
     },
     "execution_count": 1,
     "metadata": {},
     "output_type": "execute_result"
    }
   ],
   "execution_count": 1
  },
  {
   "metadata": {},
   "cell_type": "markdown",
   "source": [
    "# Data Preprocessing\n",
    "\n",
    "## 1. Select only bg (train) and bg+1:00 (target) columns from dataframe"
   ],
   "id": "82159de3bfdd45bc"
  },
  {
   "cell_type": "code",
   "id": "initial_id",
   "metadata": {
    "collapsed": true,
    "ExecuteTime": {
     "end_time": "2024-11-05T20:27:26.351185Z",
     "start_time": "2024-11-05T20:27:26.345483Z"
    }
   },
   "source": [
    "df = df[['time', 'bg', 'bg+1:00']]\n",
    "df.head()"
   ],
   "outputs": [
    {
     "data": {
      "text/plain": [
       "       time   bg  bg+1:00\n",
       "0  00:15:00  NaN      NaN\n",
       "1  00:20:00  NaN      NaN\n",
       "2  00:25:00  9.6      NaN\n",
       "3  00:30:00  NaN      NaN\n",
       "4  00:35:00  NaN      NaN"
      ],
      "text/html": [
       "<div>\n",
       "<style scoped>\n",
       "    .dataframe tbody tr th:only-of-type {\n",
       "        vertical-align: middle;\n",
       "    }\n",
       "\n",
       "    .dataframe tbody tr th {\n",
       "        vertical-align: top;\n",
       "    }\n",
       "\n",
       "    .dataframe thead th {\n",
       "        text-align: right;\n",
       "    }\n",
       "</style>\n",
       "<table border=\"1\" class=\"dataframe\">\n",
       "  <thead>\n",
       "    <tr style=\"text-align: right;\">\n",
       "      <th></th>\n",
       "      <th>time</th>\n",
       "      <th>bg</th>\n",
       "      <th>bg+1:00</th>\n",
       "    </tr>\n",
       "  </thead>\n",
       "  <tbody>\n",
       "    <tr>\n",
       "      <th>0</th>\n",
       "      <td>00:15:00</td>\n",
       "      <td>NaN</td>\n",
       "      <td>NaN</td>\n",
       "    </tr>\n",
       "    <tr>\n",
       "      <th>1</th>\n",
       "      <td>00:20:00</td>\n",
       "      <td>NaN</td>\n",
       "      <td>NaN</td>\n",
       "    </tr>\n",
       "    <tr>\n",
       "      <th>2</th>\n",
       "      <td>00:25:00</td>\n",
       "      <td>9.6</td>\n",
       "      <td>NaN</td>\n",
       "    </tr>\n",
       "    <tr>\n",
       "      <th>3</th>\n",
       "      <td>00:30:00</td>\n",
       "      <td>NaN</td>\n",
       "      <td>NaN</td>\n",
       "    </tr>\n",
       "    <tr>\n",
       "      <th>4</th>\n",
       "      <td>00:35:00</td>\n",
       "      <td>NaN</td>\n",
       "      <td>NaN</td>\n",
       "    </tr>\n",
       "  </tbody>\n",
       "</table>\n",
       "</div>"
      ]
     },
     "execution_count": 2,
     "metadata": {},
     "output_type": "execute_result"
    }
   ],
   "execution_count": 2
  },
  {
   "metadata": {},
   "cell_type": "markdown",
   "source": [
    "# Clean Data\n",
    "\n",
    "## Interpolate missing values in bg column and drop rows with missing values"
   ],
   "id": "4d6c524d7b198fbe"
  },
  {
   "metadata": {
    "ExecuteTime": {
     "end_time": "2024-11-05T20:27:26.402519Z",
     "start_time": "2024-11-05T20:27:26.375418Z"
    }
   },
   "cell_type": "code",
   "source": [
    "df['bg'] = df['bg'].interpolate(method='linear').ffill().bfill()\n",
    "df = df.dropna()\n",
    "df.info(show_counts=True)"
   ],
   "id": "577e6177f53b33e5",
   "outputs": [
    {
     "name": "stdout",
     "output_type": "stream",
     "text": [
      "<class 'pandas.core.frame.DataFrame'>\n",
      "Index: 177024 entries, 71 to 235126\n",
      "Data columns (total 3 columns):\n",
      " #   Column   Non-Null Count   Dtype  \n",
      "---  ------   --------------   -----  \n",
      " 0   time     177024 non-null  object \n",
      " 1   bg       177024 non-null  float64\n",
      " 2   bg+1:00  177024 non-null  float64\n",
      "dtypes: float64(2), object(1)\n",
      "memory usage: 5.4+ MB\n"
     ]
    }
   ],
   "execution_count": 3
  },
  {
   "metadata": {},
   "cell_type": "markdown",
   "source": [
    "# Feature Engineering\n",
    "\n",
    "## 1. Create Day Phase feature"
   ],
   "id": "2da67e1069dd4d8c"
  },
  {
   "metadata": {
    "ExecuteTime": {
     "end_time": "2024-11-05T20:27:26.563107Z",
     "start_time": "2024-11-05T20:27:26.466579Z"
    }
   },
   "cell_type": "code",
   "source": [
    "from src.features.transformers import DayPhaseTransformer\n",
    "\n",
    "day_phase_transformer = DayPhaseTransformer(time_column='time', time_format='%H:%M:%S', result_column='day_phase',\n",
    "                                            drop_time_column=True)\n",
    "df = day_phase_transformer.fit_transform(X=df)\n",
    "df.head()"
   ],
   "id": "55db0b84049018f",
   "outputs": [
    {
     "data": {
      "text/plain": [
       "   day_phase    bg  bg+1:00\n",
       "71   morning  15.1     13.4\n",
       "74   morning  14.4     12.8\n",
       "77   morning  13.9     15.5\n",
       "80   morning  13.8     14.8\n",
       "83   morning  13.4     12.7"
      ],
      "text/html": [
       "<div>\n",
       "<style scoped>\n",
       "    .dataframe tbody tr th:only-of-type {\n",
       "        vertical-align: middle;\n",
       "    }\n",
       "\n",
       "    .dataframe tbody tr th {\n",
       "        vertical-align: top;\n",
       "    }\n",
       "\n",
       "    .dataframe thead th {\n",
       "        text-align: right;\n",
       "    }\n",
       "</style>\n",
       "<table border=\"1\" class=\"dataframe\">\n",
       "  <thead>\n",
       "    <tr style=\"text-align: right;\">\n",
       "      <th></th>\n",
       "      <th>day_phase</th>\n",
       "      <th>bg</th>\n",
       "      <th>bg+1:00</th>\n",
       "    </tr>\n",
       "  </thead>\n",
       "  <tbody>\n",
       "    <tr>\n",
       "      <th>71</th>\n",
       "      <td>morning</td>\n",
       "      <td>15.1</td>\n",
       "      <td>13.4</td>\n",
       "    </tr>\n",
       "    <tr>\n",
       "      <th>74</th>\n",
       "      <td>morning</td>\n",
       "      <td>14.4</td>\n",
       "      <td>12.8</td>\n",
       "    </tr>\n",
       "    <tr>\n",
       "      <th>77</th>\n",
       "      <td>morning</td>\n",
       "      <td>13.9</td>\n",
       "      <td>15.5</td>\n",
       "    </tr>\n",
       "    <tr>\n",
       "      <th>80</th>\n",
       "      <td>morning</td>\n",
       "      <td>13.8</td>\n",
       "      <td>14.8</td>\n",
       "    </tr>\n",
       "    <tr>\n",
       "      <th>83</th>\n",
       "      <td>morning</td>\n",
       "      <td>13.4</td>\n",
       "      <td>12.7</td>\n",
       "    </tr>\n",
       "  </tbody>\n",
       "</table>\n",
       "</div>"
      ]
     },
     "execution_count": 4,
     "metadata": {},
     "output_type": "execute_result"
    }
   ],
   "execution_count": 4
  },
  {
   "metadata": {},
   "cell_type": "markdown",
   "source": [
    "# Model selection\n",
    "\n",
    "## 1. Split the data into train and test sets"
   ],
   "id": "3d2d3faf26fe5447"
  },
  {
   "metadata": {
    "ExecuteTime": {
     "end_time": "2024-11-05T20:27:26.698580Z",
     "start_time": "2024-11-05T20:27:26.580115Z"
    }
   },
   "cell_type": "code",
   "source": [
    "from sklearn.model_selection import train_test_split\n",
    "\n",
    "X = df.drop(columns=['bg+1:00'])\n",
    "y = df['bg+1:00']\n",
    "\n",
    "X = pd.get_dummies(X, columns=['day_phase'], drop_first=True)\n",
    "\n",
    "X_train, X_test, y_train, y_test = train_test_split(X, y, test_size=0.2, random_state=42)"
   ],
   "id": "5e39b1845bc7e6d9",
   "outputs": [],
   "execution_count": 5
  },
  {
   "metadata": {},
   "cell_type": "markdown",
   "source": "## 2. Use LazyPredict",
   "id": "591898d90d93c5e9"
  },
  {
   "metadata": {
    "ExecuteTime": {
     "end_time": "2024-11-05T20:27:26.704846Z",
     "start_time": "2024-11-05T20:27:26.702969Z"
    }
   },
   "cell_type": "code",
   "source": [
    "#from notebooks.helpers.LazyPredict import get_lazy_regressor\n",
    "\n",
    "#reg = get_lazy_regressor()\n",
    "#models, predictions = reg.fit(X_train, X_test, y_train, y_test)\n",
    "#models"
   ],
   "id": "bcc68a5591d6ea65",
   "outputs": [],
   "execution_count": 6
  },
  {
   "metadata": {},
   "cell_type": "markdown",
   "source": "The best model is **GradientBoostingRegressor** with **R2 score of 0.50**.",
   "id": "4779f7b6485402d6"
  },
  {
   "metadata": {},
   "cell_type": "markdown",
   "source": "## 3. Hyperparameter tuning",
   "id": "49292dd87cf951d4"
  },
  {
   "metadata": {
    "ExecuteTime": {
     "end_time": "2024-11-05T20:29:10.349321Z",
     "start_time": "2024-11-05T20:27:26.722851Z"
    }
   },
   "cell_type": "code",
   "source": [
    "from sklearn.model_selection import GridSearchCV\n",
    "from sklearn.ensemble import GradientBoostingRegressor\n",
    "\n",
    "params = {\n",
    "    'n_estimators': [50, 100, 150],\n",
    "    'max_depth': [3, 5, 7],\n",
    "    'learning_rate': [0.01, 0.1, 1]\n",
    "}\n",
    "\n",
    "gbr = GradientBoostingRegressor()\n",
    "grid_search = GridSearchCV(gbr, params, cv=5, verbose=1, n_jobs=-1)\n",
    "grid_search.fit(X=X_train, y=y_train)\n",
    "grid_search.best_params_\n"
   ],
   "id": "595a1c2de119f95c",
   "outputs": [
    {
     "name": "stdout",
     "output_type": "stream",
     "text": [
      "Fitting 5 folds for each of 27 candidates, totalling 135 fits\n"
     ]
    },
    {
     "data": {
      "text/plain": [
       "{'learning_rate': 0.1, 'max_depth': 3, 'n_estimators': 150}"
      ]
     },
     "execution_count": 7,
     "metadata": {},
     "output_type": "execute_result"
    }
   ],
   "execution_count": 7
  },
  {
   "metadata": {
    "ExecuteTime": {
     "end_time": "2024-11-05T20:29:10.495441Z",
     "start_time": "2024-11-05T20:29:10.493072Z"
    }
   },
   "cell_type": "code",
   "source": "grid_search.best_params_",
   "id": "3f27749955c8dd6",
   "outputs": [
    {
     "data": {
      "text/plain": [
       "{'learning_rate': 0.1, 'max_depth': 3, 'n_estimators': 150}"
      ]
     },
     "execution_count": 8,
     "metadata": {},
     "output_type": "execute_result"
    }
   ],
   "execution_count": 8
  },
  {
   "metadata": {
    "ExecuteTime": {
     "end_time": "2024-11-05T20:29:14.375492Z",
     "start_time": "2024-11-05T20:29:10.556930Z"
    }
   },
   "cell_type": "code",
   "source": [
    "# train the model with best hyperparameters\n",
    "gbr = GradientBoostingRegressor(**grid_search.best_params_)\n",
    "gbr.fit(X=X_train, y=y_train)\n",
    "y_pred = gbr.predict(X=X_test)"
   ],
   "id": "b18e84fac4f64468",
   "outputs": [],
   "execution_count": 9
  },
  {
   "metadata": {},
   "cell_type": "markdown",
   "source": "## 4. Evaluate the model",
   "id": "b0f4d1e24b5391d8"
  },
  {
   "metadata": {
    "ExecuteTime": {
     "end_time": "2024-11-05T20:29:14.396329Z",
     "start_time": "2024-11-05T20:29:14.392153Z"
    }
   },
   "cell_type": "code",
   "source": [
    "# Evaluate the model\n",
    "from sklearn.metrics import r2_score, root_mean_squared_error\n",
    "\n",
    "print(f'R2 score: {r2_score(y_test, y_pred)}')\n",
    "print(f'RMSE: {root_mean_squared_error(y_test, y_pred)}')"
   ],
   "id": "60aaf7a56c788ee8",
   "outputs": [
    {
     "name": "stdout",
     "output_type": "stream",
     "text": [
      "R2 score: 0.5031798617803118\n",
      "RMSE: 2.1198360140623325\n"
     ]
    }
   ],
   "execution_count": 10
  },
  {
   "metadata": {},
   "cell_type": "markdown",
   "source": "# Prepare test results",
   "id": "ab64321f938f2894"
  },
  {
   "metadata": {
    "ExecuteTime": {
     "end_time": "2024-11-05T20:29:14.543171Z",
     "start_time": "2024-11-05T20:29:14.464243Z"
    }
   },
   "cell_type": "code",
   "source": [
    "## Load the test data\n",
    "test_data = pd.read_csv(test_file, index_col=0)\n",
    "test_data.head()"
   ],
   "id": "fbc3e2931db4a87c",
   "outputs": [
    {
     "data": {
      "text/plain": [
       "         p_num      time  bg-5:55  bg-5:50  bg-5:45  bg-5:40  bg-5:35  \\\n",
       "id                                                                      \n",
       "p01_8459   p01  06:45:00      NaN      9.2      NaN      NaN     10.2   \n",
       "p01_8460   p01  11:25:00      NaN      NaN      9.9      NaN      NaN   \n",
       "p01_8461   p01  14:45:00      NaN      5.5      NaN      NaN      5.5   \n",
       "p01_8462   p01  04:30:00      NaN      3.4      NaN      NaN      3.9   \n",
       "p01_8463   p01  04:20:00      NaN      NaN      8.3      NaN      NaN   \n",
       "\n",
       "          bg-5:30  bg-5:25  bg-5:20  ...  activity-0:45  activity-0:40  \\\n",
       "id                                   ...                                 \n",
       "p01_8459      NaN      NaN     10.3  ...            NaN            NaN   \n",
       "p01_8460      9.4      NaN      NaN  ...            NaN            NaN   \n",
       "p01_8461      NaN      NaN      5.2  ...            NaN            NaN   \n",
       "p01_8462      NaN      NaN      4.7  ...            NaN            NaN   \n",
       "p01_8463     10.0      NaN      NaN  ...            NaN            NaN   \n",
       "\n",
       "          activity-0:35  activity-0:30  activity-0:25  activity-0:20  \\\n",
       "id                                                                     \n",
       "p01_8459            NaN            NaN            NaN            NaN   \n",
       "p01_8460            NaN            NaN            NaN            NaN   \n",
       "p01_8461            NaN            NaN            NaN            NaN   \n",
       "p01_8462            NaN            NaN            NaN            NaN   \n",
       "p01_8463            NaN            NaN            NaN            NaN   \n",
       "\n",
       "          activity-0:15  activity-0:10  activity-0:05  activity-0:00  \n",
       "id                                                                    \n",
       "p01_8459            NaN            NaN            NaN            NaN  \n",
       "p01_8460            NaN           Walk           Walk           Walk  \n",
       "p01_8461            NaN            NaN            NaN            NaN  \n",
       "p01_8462            NaN            NaN            NaN            NaN  \n",
       "p01_8463            NaN            NaN            NaN            NaN  \n",
       "\n",
       "[5 rows x 506 columns]"
      ],
      "text/html": [
       "<div>\n",
       "<style scoped>\n",
       "    .dataframe tbody tr th:only-of-type {\n",
       "        vertical-align: middle;\n",
       "    }\n",
       "\n",
       "    .dataframe tbody tr th {\n",
       "        vertical-align: top;\n",
       "    }\n",
       "\n",
       "    .dataframe thead th {\n",
       "        text-align: right;\n",
       "    }\n",
       "</style>\n",
       "<table border=\"1\" class=\"dataframe\">\n",
       "  <thead>\n",
       "    <tr style=\"text-align: right;\">\n",
       "      <th></th>\n",
       "      <th>p_num</th>\n",
       "      <th>time</th>\n",
       "      <th>bg-5:55</th>\n",
       "      <th>bg-5:50</th>\n",
       "      <th>bg-5:45</th>\n",
       "      <th>bg-5:40</th>\n",
       "      <th>bg-5:35</th>\n",
       "      <th>bg-5:30</th>\n",
       "      <th>bg-5:25</th>\n",
       "      <th>bg-5:20</th>\n",
       "      <th>...</th>\n",
       "      <th>activity-0:45</th>\n",
       "      <th>activity-0:40</th>\n",
       "      <th>activity-0:35</th>\n",
       "      <th>activity-0:30</th>\n",
       "      <th>activity-0:25</th>\n",
       "      <th>activity-0:20</th>\n",
       "      <th>activity-0:15</th>\n",
       "      <th>activity-0:10</th>\n",
       "      <th>activity-0:05</th>\n",
       "      <th>activity-0:00</th>\n",
       "    </tr>\n",
       "    <tr>\n",
       "      <th>id</th>\n",
       "      <th></th>\n",
       "      <th></th>\n",
       "      <th></th>\n",
       "      <th></th>\n",
       "      <th></th>\n",
       "      <th></th>\n",
       "      <th></th>\n",
       "      <th></th>\n",
       "      <th></th>\n",
       "      <th></th>\n",
       "      <th></th>\n",
       "      <th></th>\n",
       "      <th></th>\n",
       "      <th></th>\n",
       "      <th></th>\n",
       "      <th></th>\n",
       "      <th></th>\n",
       "      <th></th>\n",
       "      <th></th>\n",
       "      <th></th>\n",
       "      <th></th>\n",
       "    </tr>\n",
       "  </thead>\n",
       "  <tbody>\n",
       "    <tr>\n",
       "      <th>p01_8459</th>\n",
       "      <td>p01</td>\n",
       "      <td>06:45:00</td>\n",
       "      <td>NaN</td>\n",
       "      <td>9.2</td>\n",
       "      <td>NaN</td>\n",
       "      <td>NaN</td>\n",
       "      <td>10.2</td>\n",
       "      <td>NaN</td>\n",
       "      <td>NaN</td>\n",
       "      <td>10.3</td>\n",
       "      <td>...</td>\n",
       "      <td>NaN</td>\n",
       "      <td>NaN</td>\n",
       "      <td>NaN</td>\n",
       "      <td>NaN</td>\n",
       "      <td>NaN</td>\n",
       "      <td>NaN</td>\n",
       "      <td>NaN</td>\n",
       "      <td>NaN</td>\n",
       "      <td>NaN</td>\n",
       "      <td>NaN</td>\n",
       "    </tr>\n",
       "    <tr>\n",
       "      <th>p01_8460</th>\n",
       "      <td>p01</td>\n",
       "      <td>11:25:00</td>\n",
       "      <td>NaN</td>\n",
       "      <td>NaN</td>\n",
       "      <td>9.9</td>\n",
       "      <td>NaN</td>\n",
       "      <td>NaN</td>\n",
       "      <td>9.4</td>\n",
       "      <td>NaN</td>\n",
       "      <td>NaN</td>\n",
       "      <td>...</td>\n",
       "      <td>NaN</td>\n",
       "      <td>NaN</td>\n",
       "      <td>NaN</td>\n",
       "      <td>NaN</td>\n",
       "      <td>NaN</td>\n",
       "      <td>NaN</td>\n",
       "      <td>NaN</td>\n",
       "      <td>Walk</td>\n",
       "      <td>Walk</td>\n",
       "      <td>Walk</td>\n",
       "    </tr>\n",
       "    <tr>\n",
       "      <th>p01_8461</th>\n",
       "      <td>p01</td>\n",
       "      <td>14:45:00</td>\n",
       "      <td>NaN</td>\n",
       "      <td>5.5</td>\n",
       "      <td>NaN</td>\n",
       "      <td>NaN</td>\n",
       "      <td>5.5</td>\n",
       "      <td>NaN</td>\n",
       "      <td>NaN</td>\n",
       "      <td>5.2</td>\n",
       "      <td>...</td>\n",
       "      <td>NaN</td>\n",
       "      <td>NaN</td>\n",
       "      <td>NaN</td>\n",
       "      <td>NaN</td>\n",
       "      <td>NaN</td>\n",
       "      <td>NaN</td>\n",
       "      <td>NaN</td>\n",
       "      <td>NaN</td>\n",
       "      <td>NaN</td>\n",
       "      <td>NaN</td>\n",
       "    </tr>\n",
       "    <tr>\n",
       "      <th>p01_8462</th>\n",
       "      <td>p01</td>\n",
       "      <td>04:30:00</td>\n",
       "      <td>NaN</td>\n",
       "      <td>3.4</td>\n",
       "      <td>NaN</td>\n",
       "      <td>NaN</td>\n",
       "      <td>3.9</td>\n",
       "      <td>NaN</td>\n",
       "      <td>NaN</td>\n",
       "      <td>4.7</td>\n",
       "      <td>...</td>\n",
       "      <td>NaN</td>\n",
       "      <td>NaN</td>\n",
       "      <td>NaN</td>\n",
       "      <td>NaN</td>\n",
       "      <td>NaN</td>\n",
       "      <td>NaN</td>\n",
       "      <td>NaN</td>\n",
       "      <td>NaN</td>\n",
       "      <td>NaN</td>\n",
       "      <td>NaN</td>\n",
       "    </tr>\n",
       "    <tr>\n",
       "      <th>p01_8463</th>\n",
       "      <td>p01</td>\n",
       "      <td>04:20:00</td>\n",
       "      <td>NaN</td>\n",
       "      <td>NaN</td>\n",
       "      <td>8.3</td>\n",
       "      <td>NaN</td>\n",
       "      <td>NaN</td>\n",
       "      <td>10.0</td>\n",
       "      <td>NaN</td>\n",
       "      <td>NaN</td>\n",
       "      <td>...</td>\n",
       "      <td>NaN</td>\n",
       "      <td>NaN</td>\n",
       "      <td>NaN</td>\n",
       "      <td>NaN</td>\n",
       "      <td>NaN</td>\n",
       "      <td>NaN</td>\n",
       "      <td>NaN</td>\n",
       "      <td>NaN</td>\n",
       "      <td>NaN</td>\n",
       "      <td>NaN</td>\n",
       "    </tr>\n",
       "  </tbody>\n",
       "</table>\n",
       "<p>5 rows × 506 columns</p>\n",
       "</div>"
      ]
     },
     "execution_count": 11,
     "metadata": {},
     "output_type": "execute_result"
    }
   ],
   "execution_count": 11
  },
  {
   "metadata": {
    "ExecuteTime": {
     "end_time": "2024-11-05T20:29:14.728809Z",
     "start_time": "2024-11-05T20:29:14.720934Z"
    }
   },
   "cell_type": "code",
   "source": [
    "test_data = test_data[['time', 'bg-0:00']]\n",
    "test_data = day_phase_transformer.transform(test_data)\n",
    "test_data.head()"
   ],
   "id": "5a7a5d573c8726b6",
   "outputs": [
    {
     "data": {
      "text/plain": [
       "          day_phase  bg-0:00\n",
       "id                          \n",
       "p01_8459    morning      9.6\n",
       "p01_8460       noon      4.6\n",
       "p01_8461  afternoon      8.0\n",
       "p01_8462      night      9.9\n",
       "p01_8463      night      5.3"
      ],
      "text/html": [
       "<div>\n",
       "<style scoped>\n",
       "    .dataframe tbody tr th:only-of-type {\n",
       "        vertical-align: middle;\n",
       "    }\n",
       "\n",
       "    .dataframe tbody tr th {\n",
       "        vertical-align: top;\n",
       "    }\n",
       "\n",
       "    .dataframe thead th {\n",
       "        text-align: right;\n",
       "    }\n",
       "</style>\n",
       "<table border=\"1\" class=\"dataframe\">\n",
       "  <thead>\n",
       "    <tr style=\"text-align: right;\">\n",
       "      <th></th>\n",
       "      <th>day_phase</th>\n",
       "      <th>bg-0:00</th>\n",
       "    </tr>\n",
       "    <tr>\n",
       "      <th>id</th>\n",
       "      <th></th>\n",
       "      <th></th>\n",
       "    </tr>\n",
       "  </thead>\n",
       "  <tbody>\n",
       "    <tr>\n",
       "      <th>p01_8459</th>\n",
       "      <td>morning</td>\n",
       "      <td>9.6</td>\n",
       "    </tr>\n",
       "    <tr>\n",
       "      <th>p01_8460</th>\n",
       "      <td>noon</td>\n",
       "      <td>4.6</td>\n",
       "    </tr>\n",
       "    <tr>\n",
       "      <th>p01_8461</th>\n",
       "      <td>afternoon</td>\n",
       "      <td>8.0</td>\n",
       "    </tr>\n",
       "    <tr>\n",
       "      <th>p01_8462</th>\n",
       "      <td>night</td>\n",
       "      <td>9.9</td>\n",
       "    </tr>\n",
       "    <tr>\n",
       "      <th>p01_8463</th>\n",
       "      <td>night</td>\n",
       "      <td>5.3</td>\n",
       "    </tr>\n",
       "  </tbody>\n",
       "</table>\n",
       "</div>"
      ]
     },
     "execution_count": 12,
     "metadata": {},
     "output_type": "execute_result"
    }
   ],
   "execution_count": 12
  },
  {
   "metadata": {},
   "cell_type": "markdown",
   "source": "## Interpolate missing values in bg column and fill with mean",
   "id": "690e4a9ca0d4baa3"
  },
  {
   "metadata": {
    "ExecuteTime": {
     "end_time": "2024-11-05T20:29:14.756811Z",
     "start_time": "2024-11-05T20:29:14.751853Z"
    }
   },
   "cell_type": "code",
   "source": "test_data.isna().sum()",
   "id": "6507dee55ddc0845",
   "outputs": [
    {
     "data": {
      "text/plain": [
       "day_phase      0\n",
       "bg-0:00      132\n",
       "dtype: int64"
      ]
     },
     "execution_count": 13,
     "metadata": {},
     "output_type": "execute_result"
    }
   ],
   "execution_count": 13
  },
  {
   "metadata": {
    "ExecuteTime": {
     "end_time": "2024-11-05T20:29:14.891900Z",
     "start_time": "2024-11-05T20:29:14.889667Z"
    }
   },
   "cell_type": "code",
   "source": "test_data['bg-0:00'] = test_data['bg-0:00'].fillna(test_data['bg-0:00'].median())",
   "id": "882613966e01b314",
   "outputs": [],
   "execution_count": 14
  },
  {
   "metadata": {
    "ExecuteTime": {
     "end_time": "2024-11-05T20:29:14.906732Z",
     "start_time": "2024-11-05T20:29:14.894339Z"
    }
   },
   "cell_type": "code",
   "source": [
    "# Predict the bg+1:00 values\n",
    "test_data.rename(columns={'bg-0:00': 'bg'}, inplace=True)\n",
    "test_data = pd.get_dummies(test_data, columns=['day_phase'], drop_first=True)\n",
    "test_data['bg+1:00'] = gbr.predict(test_data)\n",
    "test_data.head()"
   ],
   "id": "5a0a66bed2da6c04",
   "outputs": [
    {
     "data": {
      "text/plain": [
       "           bg  day_phase_evening  day_phase_morning  day_phase_night  \\\n",
       "id                                                                     \n",
       "p01_8459  9.6              False               True            False   \n",
       "p01_8460  4.6              False              False            False   \n",
       "p01_8461  8.0              False              False            False   \n",
       "p01_8462  9.9              False              False             True   \n",
       "p01_8463  5.3              False              False             True   \n",
       "\n",
       "          day_phase_noon   bg+1:00  \n",
       "id                                  \n",
       "p01_8459           False  9.025592  \n",
       "p01_8460            True  6.566420  \n",
       "p01_8461           False  7.762268  \n",
       "p01_8462           False  9.408027  \n",
       "p01_8463           False  5.984533  "
      ],
      "text/html": [
       "<div>\n",
       "<style scoped>\n",
       "    .dataframe tbody tr th:only-of-type {\n",
       "        vertical-align: middle;\n",
       "    }\n",
       "\n",
       "    .dataframe tbody tr th {\n",
       "        vertical-align: top;\n",
       "    }\n",
       "\n",
       "    .dataframe thead th {\n",
       "        text-align: right;\n",
       "    }\n",
       "</style>\n",
       "<table border=\"1\" class=\"dataframe\">\n",
       "  <thead>\n",
       "    <tr style=\"text-align: right;\">\n",
       "      <th></th>\n",
       "      <th>bg</th>\n",
       "      <th>day_phase_evening</th>\n",
       "      <th>day_phase_morning</th>\n",
       "      <th>day_phase_night</th>\n",
       "      <th>day_phase_noon</th>\n",
       "      <th>bg+1:00</th>\n",
       "    </tr>\n",
       "    <tr>\n",
       "      <th>id</th>\n",
       "      <th></th>\n",
       "      <th></th>\n",
       "      <th></th>\n",
       "      <th></th>\n",
       "      <th></th>\n",
       "      <th></th>\n",
       "    </tr>\n",
       "  </thead>\n",
       "  <tbody>\n",
       "    <tr>\n",
       "      <th>p01_8459</th>\n",
       "      <td>9.6</td>\n",
       "      <td>False</td>\n",
       "      <td>True</td>\n",
       "      <td>False</td>\n",
       "      <td>False</td>\n",
       "      <td>9.025592</td>\n",
       "    </tr>\n",
       "    <tr>\n",
       "      <th>p01_8460</th>\n",
       "      <td>4.6</td>\n",
       "      <td>False</td>\n",
       "      <td>False</td>\n",
       "      <td>False</td>\n",
       "      <td>True</td>\n",
       "      <td>6.566420</td>\n",
       "    </tr>\n",
       "    <tr>\n",
       "      <th>p01_8461</th>\n",
       "      <td>8.0</td>\n",
       "      <td>False</td>\n",
       "      <td>False</td>\n",
       "      <td>False</td>\n",
       "      <td>False</td>\n",
       "      <td>7.762268</td>\n",
       "    </tr>\n",
       "    <tr>\n",
       "      <th>p01_8462</th>\n",
       "      <td>9.9</td>\n",
       "      <td>False</td>\n",
       "      <td>False</td>\n",
       "      <td>True</td>\n",
       "      <td>False</td>\n",
       "      <td>9.408027</td>\n",
       "    </tr>\n",
       "    <tr>\n",
       "      <th>p01_8463</th>\n",
       "      <td>5.3</td>\n",
       "      <td>False</td>\n",
       "      <td>False</td>\n",
       "      <td>True</td>\n",
       "      <td>False</td>\n",
       "      <td>5.984533</td>\n",
       "    </tr>\n",
       "  </tbody>\n",
       "</table>\n",
       "</div>"
      ]
     },
     "execution_count": 15,
     "metadata": {},
     "output_type": "execute_result"
    }
   ],
   "execution_count": 15
  },
  {
   "metadata": {},
   "cell_type": "markdown",
   "source": "## Prepare the submission file",
   "id": "62816c36690eb120"
  },
  {
   "metadata": {
    "ExecuteTime": {
     "end_time": "2024-11-05T20:29:14.915269Z",
     "start_time": "2024-11-05T20:29:14.910402Z"
    }
   },
   "cell_type": "code",
   "source": [
    "submission = pd.DataFrame(test_data['bg+1:00'])\n",
    "submission"
   ],
   "id": "67839b46a87a5226",
   "outputs": [
    {
     "data": {
      "text/plain": [
       "           bg+1:00\n",
       "id                \n",
       "p01_8459  9.025592\n",
       "p01_8460  6.566420\n",
       "p01_8461  7.762268\n",
       "p01_8462  9.408027\n",
       "p01_8463  5.984533\n",
       "...            ...\n",
       "p24_256   6.631773\n",
       "p24_257   9.585119\n",
       "p24_258   6.843383\n",
       "p24_259   8.391585\n",
       "p24_260   6.527976\n",
       "\n",
       "[3644 rows x 1 columns]"
      ],
      "text/html": [
       "<div>\n",
       "<style scoped>\n",
       "    .dataframe tbody tr th:only-of-type {\n",
       "        vertical-align: middle;\n",
       "    }\n",
       "\n",
       "    .dataframe tbody tr th {\n",
       "        vertical-align: top;\n",
       "    }\n",
       "\n",
       "    .dataframe thead th {\n",
       "        text-align: right;\n",
       "    }\n",
       "</style>\n",
       "<table border=\"1\" class=\"dataframe\">\n",
       "  <thead>\n",
       "    <tr style=\"text-align: right;\">\n",
       "      <th></th>\n",
       "      <th>bg+1:00</th>\n",
       "    </tr>\n",
       "    <tr>\n",
       "      <th>id</th>\n",
       "      <th></th>\n",
       "    </tr>\n",
       "  </thead>\n",
       "  <tbody>\n",
       "    <tr>\n",
       "      <th>p01_8459</th>\n",
       "      <td>9.025592</td>\n",
       "    </tr>\n",
       "    <tr>\n",
       "      <th>p01_8460</th>\n",
       "      <td>6.566420</td>\n",
       "    </tr>\n",
       "    <tr>\n",
       "      <th>p01_8461</th>\n",
       "      <td>7.762268</td>\n",
       "    </tr>\n",
       "    <tr>\n",
       "      <th>p01_8462</th>\n",
       "      <td>9.408027</td>\n",
       "    </tr>\n",
       "    <tr>\n",
       "      <th>p01_8463</th>\n",
       "      <td>5.984533</td>\n",
       "    </tr>\n",
       "    <tr>\n",
       "      <th>...</th>\n",
       "      <td>...</td>\n",
       "    </tr>\n",
       "    <tr>\n",
       "      <th>p24_256</th>\n",
       "      <td>6.631773</td>\n",
       "    </tr>\n",
       "    <tr>\n",
       "      <th>p24_257</th>\n",
       "      <td>9.585119</td>\n",
       "    </tr>\n",
       "    <tr>\n",
       "      <th>p24_258</th>\n",
       "      <td>6.843383</td>\n",
       "    </tr>\n",
       "    <tr>\n",
       "      <th>p24_259</th>\n",
       "      <td>8.391585</td>\n",
       "    </tr>\n",
       "    <tr>\n",
       "      <th>p24_260</th>\n",
       "      <td>6.527976</td>\n",
       "    </tr>\n",
       "  </tbody>\n",
       "</table>\n",
       "<p>3644 rows × 1 columns</p>\n",
       "</div>"
      ]
     },
     "execution_count": 16,
     "metadata": {},
     "output_type": "execute_result"
    }
   ],
   "execution_count": 16
  },
  {
   "metadata": {
    "ExecuteTime": {
     "end_time": "2024-11-05T20:29:14.942587Z",
     "start_time": "2024-11-05T20:29:14.934736Z"
    }
   },
   "cell_type": "code",
   "source": "submission.to_csv(os.path.join('..', '..', 'data', 'processed', 'modelling_I_submission.csv'))",
   "id": "a9c239f3e1efc4c9",
   "outputs": [],
   "execution_count": 17
  }
 ],
 "metadata": {
  "kernelspec": {
   "display_name": "Python 3",
   "language": "python",
   "name": "python3"
  },
  "language_info": {
   "codemirror_mode": {
    "name": "ipython",
    "version": 2
   },
   "file_extension": ".py",
   "mimetype": "text/x-python",
   "name": "python",
   "nbconvert_exporter": "python",
   "pygments_lexer": "ipython2",
   "version": "2.7.6"
  }
 },
 "nbformat": 4,
 "nbformat_minor": 5
}
