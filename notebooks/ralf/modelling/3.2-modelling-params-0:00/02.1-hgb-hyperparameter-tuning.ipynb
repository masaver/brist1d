{
 "cells": [
  {
   "metadata": {},
   "cell_type": "markdown",
   "source": [
    "# Modelling Selected Parameters at 0:00 + Day Phase\n",
    "\n",
    "## HistGradientBoostingRegressor - Hyperparameter Tuning"
   ],
   "id": "c4f5fa4ffbc53369"
  },
  {
   "metadata": {
    "ExecuteTime": {
     "end_time": "2024-11-07T21:25:50.725817Z",
     "start_time": "2024-11-07T21:25:50.560784Z"
    }
   },
   "cell_type": "code",
   "source": [
    "import pandas as pd\n",
    "\n",
    "df = pd.read_csv('train_data.csv')\n",
    "df.head()"
   ],
   "id": "a3b2d749037733c4",
   "outputs": [
    {
     "data": {
      "text/plain": [
       "         bg  insulin        hr      cals  bg+1:00  day_phase_evening  \\\n",
       "0  2.275461 -0.15248 -0.118165 -0.353413     13.4              False   \n",
       "1  2.041896 -0.15248 -0.118165 -0.353413     12.8              False   \n",
       "2  1.875063 -0.15248 -0.118165 -0.353413     15.5              False   \n",
       "3  1.841697 -0.15248 -0.118165 -0.353413     14.8              False   \n",
       "4  1.708231 -0.15248 -0.118165 -0.353413     12.7              False   \n",
       "\n",
       "   day_phase_morning  day_phase_night  day_phase_noon  \n",
       "0               True            False           False  \n",
       "1               True            False           False  \n",
       "2               True            False           False  \n",
       "3               True            False           False  \n",
       "4               True            False           False  "
      ],
      "text/html": [
       "<div>\n",
       "<style scoped>\n",
       "    .dataframe tbody tr th:only-of-type {\n",
       "        vertical-align: middle;\n",
       "    }\n",
       "\n",
       "    .dataframe tbody tr th {\n",
       "        vertical-align: top;\n",
       "    }\n",
       "\n",
       "    .dataframe thead th {\n",
       "        text-align: right;\n",
       "    }\n",
       "</style>\n",
       "<table border=\"1\" class=\"dataframe\">\n",
       "  <thead>\n",
       "    <tr style=\"text-align: right;\">\n",
       "      <th></th>\n",
       "      <th>bg</th>\n",
       "      <th>insulin</th>\n",
       "      <th>hr</th>\n",
       "      <th>cals</th>\n",
       "      <th>bg+1:00</th>\n",
       "      <th>day_phase_evening</th>\n",
       "      <th>day_phase_morning</th>\n",
       "      <th>day_phase_night</th>\n",
       "      <th>day_phase_noon</th>\n",
       "    </tr>\n",
       "  </thead>\n",
       "  <tbody>\n",
       "    <tr>\n",
       "      <th>0</th>\n",
       "      <td>2.275461</td>\n",
       "      <td>-0.15248</td>\n",
       "      <td>-0.118165</td>\n",
       "      <td>-0.353413</td>\n",
       "      <td>13.4</td>\n",
       "      <td>False</td>\n",
       "      <td>True</td>\n",
       "      <td>False</td>\n",
       "      <td>False</td>\n",
       "    </tr>\n",
       "    <tr>\n",
       "      <th>1</th>\n",
       "      <td>2.041896</td>\n",
       "      <td>-0.15248</td>\n",
       "      <td>-0.118165</td>\n",
       "      <td>-0.353413</td>\n",
       "      <td>12.8</td>\n",
       "      <td>False</td>\n",
       "      <td>True</td>\n",
       "      <td>False</td>\n",
       "      <td>False</td>\n",
       "    </tr>\n",
       "    <tr>\n",
       "      <th>2</th>\n",
       "      <td>1.875063</td>\n",
       "      <td>-0.15248</td>\n",
       "      <td>-0.118165</td>\n",
       "      <td>-0.353413</td>\n",
       "      <td>15.5</td>\n",
       "      <td>False</td>\n",
       "      <td>True</td>\n",
       "      <td>False</td>\n",
       "      <td>False</td>\n",
       "    </tr>\n",
       "    <tr>\n",
       "      <th>3</th>\n",
       "      <td>1.841697</td>\n",
       "      <td>-0.15248</td>\n",
       "      <td>-0.118165</td>\n",
       "      <td>-0.353413</td>\n",
       "      <td>14.8</td>\n",
       "      <td>False</td>\n",
       "      <td>True</td>\n",
       "      <td>False</td>\n",
       "      <td>False</td>\n",
       "    </tr>\n",
       "    <tr>\n",
       "      <th>4</th>\n",
       "      <td>1.708231</td>\n",
       "      <td>-0.15248</td>\n",
       "      <td>-0.118165</td>\n",
       "      <td>-0.353413</td>\n",
       "      <td>12.7</td>\n",
       "      <td>False</td>\n",
       "      <td>True</td>\n",
       "      <td>False</td>\n",
       "      <td>False</td>\n",
       "    </tr>\n",
       "  </tbody>\n",
       "</table>\n",
       "</div>"
      ]
     },
     "execution_count": 1,
     "metadata": {},
     "output_type": "execute_result"
    }
   ],
   "execution_count": 1
  },
  {
   "metadata": {
    "ExecuteTime": {
     "end_time": "2024-11-07T21:25:50.984058Z",
     "start_time": "2024-11-07T21:25:50.977572Z"
    }
   },
   "cell_type": "code",
   "source": [
    "X = df.drop(columns=['bg+1:00'])\n",
    "y = df['bg+1:00']"
   ],
   "id": "19940f9e6309dca",
   "outputs": [],
   "execution_count": 2
  },
  {
   "metadata": {
    "ExecuteTime": {
     "end_time": "2024-11-07T21:25:51.315556Z",
     "start_time": "2024-11-07T21:25:51.003687Z"
    }
   },
   "cell_type": "code",
   "source": [
    "from sklearn.ensemble import HistGradientBoostingRegressor\n",
    "from sklearn.model_selection import GridSearchCV, KFold\n",
    "\n",
    "param_grid = {\n",
    "    'learning_rate': [0.01, 0.05, 0.1],\n",
    "    'max_iter': [100, 200, 300],\n",
    "    'max_leaf_nodes': [31, 63, 127],\n",
    "    'max_depth': [3, 5, 7],\n",
    "    'min_samples_leaf': [20, 50, 100],\n",
    "    'l2_regularization': [0.0, 0.1, 0.5],\n",
    "    'max_bins': [255, 511]\n",
    "}\n",
    "\n",
    "kf = KFold(n_splits=5, shuffle=True, random_state=42)\n",
    "hgb = HistGradientBoostingRegressor()\n",
    "grid_search = GridSearchCV(estimator=hgb, param_grid=param_grid, cv=kf, scoring='neg_mean_squared_error', n_jobs=-1)"
   ],
   "id": "b0ee1052994b170",
   "outputs": [],
   "execution_count": 3
  },
  {
   "metadata": {
    "ExecuteTime": {
     "end_time": "2024-11-07T22:01:59.160784Z",
     "start_time": "2024-11-07T21:25:51.592737Z"
    }
   },
   "cell_type": "code",
   "source": [
    "# Fit the model\n",
    "grid_search.fit(X=X, y=y)\n",
    "\n",
    "# Get the best parameters and best score\n",
    "best_params = grid_search.best_params_\n",
    "best_score = grid_search.best_score_\n",
    "\n",
    "print(\"Best parameters found: \", best_params)\n",
    "print(\"Best score: \", best_score)\n",
    "\n",
    "import warnings\n",
    "\n",
    "warnings.filterwarnings('ignore')"
   ],
   "id": "eb437c413f103b44",
   "outputs": [
    {
     "name": "stderr",
     "output_type": "stream",
     "text": [
      "/Users/ralf/Projects/learning-projects/datascience-bootcamp/sep24_bds_int_medical/.venv/lib/python3.12/site-packages/sklearn/model_selection/_validation.py:540: FitFailedWarning: \n",
      "3645 fits failed out of a total of 7290.\n",
      "The score on these train-test partitions for these parameters will be set to nan.\n",
      "If these failures are not expected, you can try to debug them by setting error_score='raise'.\n",
      "\n",
      "Below are more details about the failures:\n",
      "--------------------------------------------------------------------------------\n",
      "3645 fits failed with the following error:\n",
      "Traceback (most recent call last):\n",
      "  File \"/Users/ralf/Projects/learning-projects/datascience-bootcamp/sep24_bds_int_medical/.venv/lib/python3.12/site-packages/sklearn/model_selection/_validation.py\", line 888, in _fit_and_score\n",
      "    estimator.fit(X_train, y_train, **fit_params)\n",
      "  File \"/Users/ralf/Projects/learning-projects/datascience-bootcamp/sep24_bds_int_medical/.venv/lib/python3.12/site-packages/sklearn/base.py\", line 1466, in wrapper\n",
      "    estimator._validate_params()\n",
      "  File \"/Users/ralf/Projects/learning-projects/datascience-bootcamp/sep24_bds_int_medical/.venv/lib/python3.12/site-packages/sklearn/base.py\", line 666, in _validate_params\n",
      "    validate_parameter_constraints(\n",
      "  File \"/Users/ralf/Projects/learning-projects/datascience-bootcamp/sep24_bds_int_medical/.venv/lib/python3.12/site-packages/sklearn/utils/_param_validation.py\", line 95, in validate_parameter_constraints\n",
      "    raise InvalidParameterError(\n",
      "sklearn.utils._param_validation.InvalidParameterError: The 'max_bins' parameter of HistGradientBoostingRegressor must be an int in the range [2, 255]. Got 511 instead.\n",
      "\n",
      "  warnings.warn(some_fits_failed_message, FitFailedWarning)\n",
      "/Users/ralf/Projects/learning-projects/datascience-bootcamp/sep24_bds_int_medical/.venv/lib/python3.12/site-packages/numpy/ma/core.py:2881: RuntimeWarning: invalid value encountered in cast\n",
      "  _data = np.array(data, dtype=dtype, copy=copy,\n",
      "/Users/ralf/Projects/learning-projects/datascience-bootcamp/sep24_bds_int_medical/.venv/lib/python3.12/site-packages/sklearn/model_selection/_search.py:1103: UserWarning: One or more of the test scores are non-finite: [-5.08520325 -5.08464817 -5.08494326 ...         nan         nan\n",
      "         nan]\n",
      "  warnings.warn(\n"
     ]
    },
    {
     "name": "stdout",
     "output_type": "stream",
     "text": [
      "Best parameters found:  {'l2_regularization': 0.5, 'learning_rate': 0.1, 'max_bins': 255, 'max_depth': 7, 'max_iter': 300, 'max_leaf_nodes': 63, 'min_samples_leaf': 20}\n",
      "Best score:  -3.9820805745335037\n"
     ]
    }
   ],
   "execution_count": 4
  },
  {
   "metadata": {
    "ExecuteTime": {
     "end_time": "2024-11-07T22:01:59.198299Z",
     "start_time": "2024-11-07T22:01:59.190605Z"
    }
   },
   "cell_type": "code",
   "source": [
    "# train and save model\n",
    "hgb = HistGradientBoostingRegressor(**best_params)"
   ],
   "id": "fb3f9d6e151aaac3",
   "outputs": [],
   "execution_count": 5
  },
  {
   "metadata": {
    "ExecuteTime": {
     "end_time": "2024-11-07T22:01:59.456782Z",
     "start_time": "2024-11-07T22:01:59.448866Z"
    }
   },
   "cell_type": "code",
   "source": [
    "# save model\n",
    "import joblib\n",
    "\n",
    "joblib.dump(hgb, 'hgb.model.pkl')"
   ],
   "id": "dfec32a972fced1c",
   "outputs": [
    {
     "data": {
      "text/plain": [
       "['hgb.model.pkl']"
      ]
     },
     "execution_count": 6,
     "metadata": {},
     "output_type": "execute_result"
    }
   ],
   "execution_count": 6
  }
 ],
 "metadata": {
  "kernelspec": {
   "display_name": "Python 3",
   "language": "python",
   "name": "python3"
  },
  "language_info": {
   "codemirror_mode": {
    "name": "ipython",
    "version": 2
   },
   "file_extension": ".py",
   "mimetype": "text/x-python",
   "name": "python",
   "nbconvert_exporter": "python",
   "pygments_lexer": "ipython2",
   "version": "2.7.6"
  }
 },
 "nbformat": 4,
 "nbformat_minor": 5
}
