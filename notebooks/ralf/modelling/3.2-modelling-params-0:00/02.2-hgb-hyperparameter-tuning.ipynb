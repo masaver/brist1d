{
 "cells": [
  {
   "metadata": {},
   "cell_type": "markdown",
   "source": [
    "# Modelling Selected Parameters at 0:00 + Day Phase\n",
    "\n",
    "## HistGradientBoostingRegressor - Hyperparameter Tuning"
   ],
   "id": "c4f5fa4ffbc53369"
  },
  {
   "metadata": {
    "ExecuteTime": {
     "end_time": "2024-11-08T15:01:06.737604Z",
     "start_time": "2024-11-08T15:01:05.911977Z"
    }
   },
   "cell_type": "code",
   "source": [
    "import pandas as pd\n",
    "import os"
   ],
   "id": "a3b2d749037733c4",
   "outputs": [],
   "execution_count": 1
  },
  {
   "metadata": {
    "ExecuteTime": {
     "end_time": "2024-11-08T15:01:20.682128Z",
     "start_time": "2024-11-08T15:01:06.740707Z"
    }
   },
   "cell_type": "code",
   "source": [
    "# Load, preprocess and standardize the train data \n",
    "from pipelines import pipeline\n",
    "data_file = os.path.join('..', '..', '..', '..', 'data', 'raw', 'train.csv')\n",
    "train_data = pd.read_csv(data_file, index_col=0, low_memory=False)\n",
    "train_data = pipeline.fit_transform(train_data)\n",
    "train_data.head()"
   ],
   "id": "ee625a3bd53f74a2",
   "outputs": [
    {
     "data": {
      "text/plain": [
       "        bg-0:00  insulin-0:00   hr-0:00  cals-0:00  bg+1:00  \\\n",
       "id                                                            \n",
       "p01_0  2.275154     -0.152482  0.929993  -0.458394     13.4   \n",
       "p01_1  2.041687     -0.152482  0.929993  -0.458394     12.8   \n",
       "p01_2  1.874925     -0.152482  0.929993  -0.458394     15.5   \n",
       "p01_3  1.841572     -0.152482  0.929993  -0.458394     14.8   \n",
       "p01_4  1.708162     -0.152482  0.929993  -0.458394     12.7   \n",
       "\n",
       "       day_phase_evening  day_phase_morning  day_phase_night  day_phase_noon  \n",
       "id                                                                            \n",
       "p01_0              False               True            False           False  \n",
       "p01_1              False               True            False           False  \n",
       "p01_2              False               True            False           False  \n",
       "p01_3              False               True            False           False  \n",
       "p01_4              False               True            False           False  "
      ],
      "text/html": [
       "<div>\n",
       "<style scoped>\n",
       "    .dataframe tbody tr th:only-of-type {\n",
       "        vertical-align: middle;\n",
       "    }\n",
       "\n",
       "    .dataframe tbody tr th {\n",
       "        vertical-align: top;\n",
       "    }\n",
       "\n",
       "    .dataframe thead th {\n",
       "        text-align: right;\n",
       "    }\n",
       "</style>\n",
       "<table border=\"1\" class=\"dataframe\">\n",
       "  <thead>\n",
       "    <tr style=\"text-align: right;\">\n",
       "      <th></th>\n",
       "      <th>bg-0:00</th>\n",
       "      <th>insulin-0:00</th>\n",
       "      <th>hr-0:00</th>\n",
       "      <th>cals-0:00</th>\n",
       "      <th>bg+1:00</th>\n",
       "      <th>day_phase_evening</th>\n",
       "      <th>day_phase_morning</th>\n",
       "      <th>day_phase_night</th>\n",
       "      <th>day_phase_noon</th>\n",
       "    </tr>\n",
       "    <tr>\n",
       "      <th>id</th>\n",
       "      <th></th>\n",
       "      <th></th>\n",
       "      <th></th>\n",
       "      <th></th>\n",
       "      <th></th>\n",
       "      <th></th>\n",
       "      <th></th>\n",
       "      <th></th>\n",
       "      <th></th>\n",
       "    </tr>\n",
       "  </thead>\n",
       "  <tbody>\n",
       "    <tr>\n",
       "      <th>p01_0</th>\n",
       "      <td>2.275154</td>\n",
       "      <td>-0.152482</td>\n",
       "      <td>0.929993</td>\n",
       "      <td>-0.458394</td>\n",
       "      <td>13.4</td>\n",
       "      <td>False</td>\n",
       "      <td>True</td>\n",
       "      <td>False</td>\n",
       "      <td>False</td>\n",
       "    </tr>\n",
       "    <tr>\n",
       "      <th>p01_1</th>\n",
       "      <td>2.041687</td>\n",
       "      <td>-0.152482</td>\n",
       "      <td>0.929993</td>\n",
       "      <td>-0.458394</td>\n",
       "      <td>12.8</td>\n",
       "      <td>False</td>\n",
       "      <td>True</td>\n",
       "      <td>False</td>\n",
       "      <td>False</td>\n",
       "    </tr>\n",
       "    <tr>\n",
       "      <th>p01_2</th>\n",
       "      <td>1.874925</td>\n",
       "      <td>-0.152482</td>\n",
       "      <td>0.929993</td>\n",
       "      <td>-0.458394</td>\n",
       "      <td>15.5</td>\n",
       "      <td>False</td>\n",
       "      <td>True</td>\n",
       "      <td>False</td>\n",
       "      <td>False</td>\n",
       "    </tr>\n",
       "    <tr>\n",
       "      <th>p01_3</th>\n",
       "      <td>1.841572</td>\n",
       "      <td>-0.152482</td>\n",
       "      <td>0.929993</td>\n",
       "      <td>-0.458394</td>\n",
       "      <td>14.8</td>\n",
       "      <td>False</td>\n",
       "      <td>True</td>\n",
       "      <td>False</td>\n",
       "      <td>False</td>\n",
       "    </tr>\n",
       "    <tr>\n",
       "      <th>p01_4</th>\n",
       "      <td>1.708162</td>\n",
       "      <td>-0.152482</td>\n",
       "      <td>0.929993</td>\n",
       "      <td>-0.458394</td>\n",
       "      <td>12.7</td>\n",
       "      <td>False</td>\n",
       "      <td>True</td>\n",
       "      <td>False</td>\n",
       "      <td>False</td>\n",
       "    </tr>\n",
       "  </tbody>\n",
       "</table>\n",
       "</div>"
      ]
     },
     "execution_count": 2,
     "metadata": {},
     "output_type": "execute_result"
    }
   ],
   "execution_count": 2
  },
  {
   "metadata": {
    "ExecuteTime": {
     "end_time": "2024-11-08T15:01:20.931125Z",
     "start_time": "2024-11-08T15:01:20.927311Z"
    }
   },
   "cell_type": "code",
   "source": [
    "X = train_data.drop(columns=['bg+1:00'])\n",
    "y = train_data['bg+1:00']"
   ],
   "id": "19940f9e6309dca",
   "outputs": [],
   "execution_count": 3
  },
  {
   "metadata": {
    "ExecuteTime": {
     "end_time": "2024-11-08T15:03:12.823723Z",
     "start_time": "2024-11-08T15:01:20.972510Z"
    }
   },
   "cell_type": "code",
   "source": [
    "import numpy as np\n",
    "from skopt import BayesSearchCV\n",
    "from skopt.space import Integer, Real\n",
    "from sklearn.ensemble import HistGradientBoostingRegressor\n",
    "\n",
    "param_space = {\n",
    "    'learning_rate': Real(0.01, 1, prior='log-uniform'),\n",
    "    'max_iter': Integer(50, 300),\n",
    "    'max_leaf_nodes': Integer(31, 127),\n",
    "    'max_depth': Integer(3, 7),\n",
    "    'min_samples_leaf': Integer(20, 100),\n",
    "    'l2_regularization': Real(0.0, 0.5),\n",
    "    'max_bins': Integer(2, 255)\n",
    "}\n",
    "\n",
    "hgb_regressor = HistGradientBoostingRegressor()\n",
    "opt = BayesSearchCV(\n",
    "    estimator=hgb_regressor,\n",
    "    search_spaces=param_space,\n",
    "    n_iter=30,\n",
    "    scoring='neg_mean_squared_error',\n",
    "    cv=5,\n",
    "    n_jobs=-1,\n",
    "    random_state=42\n",
    ")\n",
    "\n",
    "np.int = int\n",
    "opt.fit(X=X, y=y)\n",
    "\n",
    "# Get the best parameters and best score\n",
    "best_params = opt.best_params_\n",
    "best_score = opt.best_score_\n",
    "\n",
    "print(\"Best parameters found: \", best_params)\n",
    "print(\"Best score: \", best_score)"
   ],
   "id": "b0ee1052994b170",
   "outputs": [
    {
     "name": "stdout",
     "output_type": "stream",
     "text": [
      "Best parameters found:  OrderedDict({'l2_regularization': 0.1402357937318292, 'learning_rate': 0.025405464905579496, 'max_bins': 255, 'max_depth': 3, 'max_iter': 300, 'max_leaf_nodes': 93, 'min_samples_leaf': 40})\n",
      "Best score:  -4.548502806648197\n"
     ]
    }
   ],
   "execution_count": 4
  },
  {
   "metadata": {
    "ExecuteTime": {
     "end_time": "2024-11-08T15:03:12.835535Z",
     "start_time": "2024-11-08T15:03:12.829750Z"
    }
   },
   "cell_type": "code",
   "source": [
    "# create and save model with best parameters\n",
    "import joblib\n",
    "\n",
    "hgb_regressor = HistGradientBoostingRegressor(**best_params)\n",
    "joblib.dump(hgb_regressor, 'hgb.model.pkl')"
   ],
   "id": "dfec32a972fced1c",
   "outputs": [
    {
     "data": {
      "text/plain": [
       "['hgb.model.pkl']"
      ]
     },
     "execution_count": 5,
     "metadata": {},
     "output_type": "execute_result"
    }
   ],
   "execution_count": 5
  }
 ],
 "metadata": {
  "kernelspec": {
   "display_name": "Python 3",
   "language": "python",
   "name": "python3"
  },
  "language_info": {
   "codemirror_mode": {
    "name": "ipython",
    "version": 2
   },
   "file_extension": ".py",
   "mimetype": "text/x-python",
   "name": "python",
   "nbconvert_exporter": "python",
   "pygments_lexer": "ipython2",
   "version": "2.7.6"
  }
 },
 "nbformat": 4,
 "nbformat_minor": 5
}
