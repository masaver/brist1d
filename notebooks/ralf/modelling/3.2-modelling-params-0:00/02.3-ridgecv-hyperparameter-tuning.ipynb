{
 "cells": [
  {
   "metadata": {},
   "cell_type": "markdown",
   "source": [
    "# Modelling Selected Parameters at 0:00 + Day Phase\n",
    "\n",
    "## RidgeCV - Hyperparameter Tuning"
   ],
   "id": "c4f5fa4ffbc53369"
  },
  {
   "metadata": {
    "ExecuteTime": {
     "end_time": "2024-11-08T15:30:24.881943Z",
     "start_time": "2024-11-08T15:30:23.788078Z"
    }
   },
   "cell_type": "code",
   "source": [
    "import pandas as pd\n",
    "from sklearn.model_selection import GridSearchCV, KFold\n",
    "\n",
    "df = pd.read_csv('train_data.csv')\n",
    "df.head()"
   ],
   "id": "a3b2d749037733c4",
   "outputs": [
    {
     "data": {
      "text/plain": [
       "    bg-0:00  insulin-0:00   hr-0:00  cals-0:00  bg+1:00  day_phase_evening  \\\n",
       "0  2.275154     -0.152482  0.929993  -0.458394     13.4              False   \n",
       "1  2.041687     -0.152482  0.929993  -0.458394     12.8              False   \n",
       "2  1.874925     -0.152482  0.929993  -0.458394     15.5              False   \n",
       "3  1.841572     -0.152482  0.929993  -0.458394     14.8              False   \n",
       "4  1.708162     -0.152482  0.929993  -0.458394     12.7              False   \n",
       "\n",
       "   day_phase_morning  day_phase_night  day_phase_noon  \n",
       "0               True            False           False  \n",
       "1               True            False           False  \n",
       "2               True            False           False  \n",
       "3               True            False           False  \n",
       "4               True            False           False  "
      ],
      "text/html": [
       "<div>\n",
       "<style scoped>\n",
       "    .dataframe tbody tr th:only-of-type {\n",
       "        vertical-align: middle;\n",
       "    }\n",
       "\n",
       "    .dataframe tbody tr th {\n",
       "        vertical-align: top;\n",
       "    }\n",
       "\n",
       "    .dataframe thead th {\n",
       "        text-align: right;\n",
       "    }\n",
       "</style>\n",
       "<table border=\"1\" class=\"dataframe\">\n",
       "  <thead>\n",
       "    <tr style=\"text-align: right;\">\n",
       "      <th></th>\n",
       "      <th>bg-0:00</th>\n",
       "      <th>insulin-0:00</th>\n",
       "      <th>hr-0:00</th>\n",
       "      <th>cals-0:00</th>\n",
       "      <th>bg+1:00</th>\n",
       "      <th>day_phase_evening</th>\n",
       "      <th>day_phase_morning</th>\n",
       "      <th>day_phase_night</th>\n",
       "      <th>day_phase_noon</th>\n",
       "    </tr>\n",
       "  </thead>\n",
       "  <tbody>\n",
       "    <tr>\n",
       "      <th>0</th>\n",
       "      <td>2.275154</td>\n",
       "      <td>-0.152482</td>\n",
       "      <td>0.929993</td>\n",
       "      <td>-0.458394</td>\n",
       "      <td>13.4</td>\n",
       "      <td>False</td>\n",
       "      <td>True</td>\n",
       "      <td>False</td>\n",
       "      <td>False</td>\n",
       "    </tr>\n",
       "    <tr>\n",
       "      <th>1</th>\n",
       "      <td>2.041687</td>\n",
       "      <td>-0.152482</td>\n",
       "      <td>0.929993</td>\n",
       "      <td>-0.458394</td>\n",
       "      <td>12.8</td>\n",
       "      <td>False</td>\n",
       "      <td>True</td>\n",
       "      <td>False</td>\n",
       "      <td>False</td>\n",
       "    </tr>\n",
       "    <tr>\n",
       "      <th>2</th>\n",
       "      <td>1.874925</td>\n",
       "      <td>-0.152482</td>\n",
       "      <td>0.929993</td>\n",
       "      <td>-0.458394</td>\n",
       "      <td>15.5</td>\n",
       "      <td>False</td>\n",
       "      <td>True</td>\n",
       "      <td>False</td>\n",
       "      <td>False</td>\n",
       "    </tr>\n",
       "    <tr>\n",
       "      <th>3</th>\n",
       "      <td>1.841572</td>\n",
       "      <td>-0.152482</td>\n",
       "      <td>0.929993</td>\n",
       "      <td>-0.458394</td>\n",
       "      <td>14.8</td>\n",
       "      <td>False</td>\n",
       "      <td>True</td>\n",
       "      <td>False</td>\n",
       "      <td>False</td>\n",
       "    </tr>\n",
       "    <tr>\n",
       "      <th>4</th>\n",
       "      <td>1.708162</td>\n",
       "      <td>-0.152482</td>\n",
       "      <td>0.929993</td>\n",
       "      <td>-0.458394</td>\n",
       "      <td>12.7</td>\n",
       "      <td>False</td>\n",
       "      <td>True</td>\n",
       "      <td>False</td>\n",
       "      <td>False</td>\n",
       "    </tr>\n",
       "  </tbody>\n",
       "</table>\n",
       "</div>"
      ]
     },
     "execution_count": 1,
     "metadata": {},
     "output_type": "execute_result"
    }
   ],
   "execution_count": 1
  },
  {
   "metadata": {
    "ExecuteTime": {
     "end_time": "2024-11-08T15:30:25.000951Z",
     "start_time": "2024-11-08T15:30:24.997303Z"
    }
   },
   "cell_type": "code",
   "source": [
    "X = df.drop(columns=['bg+1:00'])\n",
    "y = df['bg+1:00']"
   ],
   "id": "19940f9e6309dca",
   "outputs": [],
   "execution_count": 2
  },
  {
   "metadata": {
    "ExecuteTime": {
     "end_time": "2024-11-08T15:30:29.254189Z",
     "start_time": "2024-11-08T15:30:25.029015Z"
    }
   },
   "cell_type": "code",
   "source": [
    "from sklearn.linear_model import RidgeCV\n",
    "\n",
    "param_grid = {\n",
    "    'alpha_per_target': [True, False],\n",
    "    'alphas': [[0.1, 1.0, 10.0], [0.1, 0.5, 1.0], [0.1, 0.5, 1.0, 5.0], [0.1, 0.5, 1.0, 5.0, 10.0]],\n",
    "    'fit_intercept': [True, False]\n",
    "}\n",
    "\n",
    "kf = KFold(n_splits=5, shuffle=True, random_state=42)\n",
    "ridge = RidgeCV()\n",
    "grid_search = GridSearchCV(estimator=ridge, param_grid=param_grid, cv=kf, scoring='neg_mean_squared_error', n_jobs=-1)\n",
    "\n",
    "grid_search.fit(X=X, y=y)\n",
    "\n",
    "# Get the best parameters and best score\n",
    "best_params = grid_search.best_params_\n",
    "best_score = grid_search.best_score_\n",
    "\n",
    "print(\"Best parameters found: \", best_params)\n",
    "print(\"Best score: \", best_score)"
   ],
   "id": "b0ee1052994b170",
   "outputs": [
    {
     "name": "stdout",
     "output_type": "stream",
     "text": [
      "Best parameters found:  {'alpha_per_target': True, 'alphas': [0.1, 1.0, 10.0], 'fit_intercept': True}\n",
      "Best score:  -4.650405998790541\n"
     ]
    }
   ],
   "execution_count": 3
  },
  {
   "metadata": {
    "ExecuteTime": {
     "end_time": "2024-11-08T15:30:29.541862Z",
     "start_time": "2024-11-08T15:30:29.536607Z"
    }
   },
   "cell_type": "code",
   "source": [
    "# create and save model with best parameters\n",
    "import joblib\n",
    "\n",
    "ridge = RidgeCV(**best_params)\n",
    "joblib.dump(ridge, 'ridge.model.pkl')"
   ],
   "id": "6c2a232d6b99f387",
   "outputs": [
    {
     "data": {
      "text/plain": [
       "['ridge.model.pkl']"
      ]
     },
     "execution_count": 4,
     "metadata": {},
     "output_type": "execute_result"
    }
   ],
   "execution_count": 4
  },
  {
   "metadata": {
    "ExecuteTime": {
     "end_time": "2024-11-08T15:30:29.624879Z",
     "start_time": "2024-11-08T15:30:29.621905Z"
    }
   },
   "cell_type": "code",
   "source": "",
   "id": "a9af5c1d73ab8bae",
   "outputs": [],
   "execution_count": null
  }
 ],
 "metadata": {
  "kernelspec": {
   "display_name": "Python 3",
   "language": "python",
   "name": "python3"
  },
  "language_info": {
   "codemirror_mode": {
    "name": "ipython",
    "version": 2
   },
   "file_extension": ".py",
   "mimetype": "text/x-python",
   "name": "python",
   "nbconvert_exporter": "python",
   "pygments_lexer": "ipython2",
   "version": "2.7.6"
  }
 },
 "nbformat": 4,
 "nbformat_minor": 5
}
