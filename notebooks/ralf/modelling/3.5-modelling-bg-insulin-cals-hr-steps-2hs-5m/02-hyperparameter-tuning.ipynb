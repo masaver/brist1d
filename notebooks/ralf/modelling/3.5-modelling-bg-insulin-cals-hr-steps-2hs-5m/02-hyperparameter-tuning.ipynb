{
 "cells": [
  {
   "metadata": {},
   "cell_type": "markdown",
   "source": "# Hyperparameter Tuning\n",
   "id": "c4f5fa4ffbc53369"
  },
  {
   "metadata": {},
   "cell_type": "code",
   "source": [
    "# Importing the libraries\n",
    "import joblib\n",
    "import os\n",
    "import pandas as pd"
   ],
   "id": "a3b2d749037733c4",
   "outputs": [],
   "execution_count": null
  },
  {
   "metadata": {},
   "cell_type": "code",
   "source": [
    "# Load and preprocess the train data \n",
    "from pipelines import pipeline\n",
    "\n",
    "data_file = os.path.join('..', '..', '..', '..', 'data', 'raw', 'train.csv')\n",
    "train_data = pd.read_csv(data_file, index_col=0, low_memory=False)\n",
    "train_data = pipeline.fit_transform(train_data)\n",
    "train_data.head()"
   ],
   "id": "ae6dcbcc06aedbe6",
   "outputs": [],
   "execution_count": null
  },
  {
   "metadata": {},
   "cell_type": "code",
   "source": [
    "X = train_data.drop(columns=['bg+1:00'])\n",
    "y = train_data['bg+1:00']"
   ],
   "id": "19940f9e6309dca",
   "outputs": [],
   "execution_count": null
  },
  {
   "metadata": {},
   "cell_type": "markdown",
   "source": "### Define a tuning function",
   "id": "5e3f726f2eac2520"
  },
  {
   "metadata": {},
   "cell_type": "code",
   "source": [
    "def tune(tuner, X, y):\n",
    "    print(f'-----------{tuner.__name__}-----------')\n",
    "    print('Calculating best hyperparameters...')\n",
    "    tuner.fit(X=X, y=y)\n",
    "    print('Best hyperparameters found.')\n",
    "    display(tuner.get_params())\n",
    "    print(f'RMSE: {tuner.get_rmse()}')\n",
    "    tuner.show_chart()\n",
    "    joblib.dump(tuner.get_best_model(), f'{tuner.__name__}.model.pkl')"
   ],
   "id": "30fc0d3c7f5ede2a",
   "outputs": [],
   "execution_count": null
  },
  {
   "metadata": {},
   "cell_type": "markdown",
   "source": "### Tune XGBoost",
   "id": "6558596fe2d5fe65"
  },
  {
   "metadata": {},
   "cell_type": "code",
   "source": [
    "from src.features.tuners import XGBHyperparameterTuner\n",
    "\n",
    "tune(XGBHyperparameterTuner(), X, y)"
   ],
   "id": "f8ac8730c40c9fe3",
   "outputs": [],
   "execution_count": null
  },
  {
   "metadata": {},
   "cell_type": "markdown",
   "source": "### Tune linear regression models ",
   "id": "4db2687cdb46f685"
  },
  {
   "metadata": {},
   "cell_type": "code",
   "source": [
    "from src.features.tuners import LassoLarsICHyperparameterTuner\n",
    "\n",
    "tune(LassoLarsICHyperparameterTuner(), X, y)"
   ],
   "id": "f073476886e1e098",
   "outputs": [],
   "execution_count": null
  }
 ],
 "metadata": {
  "kernelspec": {
   "display_name": "Python 3",
   "language": "python",
   "name": "python3"
  },
  "language_info": {
   "codemirror_mode": {
    "name": "ipython",
    "version": 2
   },
   "file_extension": ".py",
   "mimetype": "text/x-python",
   "name": "python",
   "nbconvert_exporter": "python",
   "pygments_lexer": "ipython2",
   "version": "2.7.6"
  }
 },
 "nbformat": 4,
 "nbformat_minor": 5
}
