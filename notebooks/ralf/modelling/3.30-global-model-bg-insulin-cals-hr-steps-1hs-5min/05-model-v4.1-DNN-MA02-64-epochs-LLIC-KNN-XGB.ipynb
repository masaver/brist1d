{
 "cells": [
  {
   "metadata": {},
   "cell_type": "markdown",
   "source": [
    "# Tune the meta model\n",
    " \n",
    "We want to check if we can exchange the metamodel from Ridge to DNN\n",
    "\n",
    "We use the best base model parameters from the previous notebooks"
   ],
   "id": "32bfa9234ec39c2"
  },
  {
   "metadata": {},
   "cell_type": "markdown",
   "source": "# Model v4.1 - Baseline model with MA02 DNN as base estimator",
   "id": "c4f5fa4ffbc53369"
  },
  {
   "metadata": {
    "ExecuteTime": {
     "end_time": "2024-11-28T13:33:48.223165Z",
     "start_time": "2024-11-28T13:33:34.425631Z"
    }
   },
   "cell_type": "code",
   "source": [
    "import pandas as pd\n",
    "\n",
    "from data import load_data_selected_features\n",
    "\n",
    "train_data, additional_train_data, test_data = load_data_selected_features()"
   ],
   "id": "ed9cab10a4c9269",
   "outputs": [],
   "execution_count": 7
  },
  {
   "metadata": {
    "ExecuteTime": {
     "end_time": "2024-11-28T13:33:48.271564Z",
     "start_time": "2024-11-28T13:33:48.249691Z"
    }
   },
   "cell_type": "code",
   "source": "train_data.info()",
   "id": "af6bdd55ecd2a72b",
   "outputs": [
    {
     "name": "stdout",
     "output_type": "stream",
     "text": [
      "<class 'pandas.core.frame.DataFrame'>\n",
      "Index: 150996 entries, p01_0 to p12_25298\n",
      "Columns: 507 entries, p_num to bg+1:00\n",
      "dtypes: float64(433), object(74)\n",
      "memory usage: 585.2+ MB\n"
     ]
    }
   ],
   "execution_count": 8
  },
  {
   "metadata": {
    "ExecuteTime": {
     "end_time": "2024-11-28T13:33:48.434356Z",
     "start_time": "2024-11-28T13:33:48.297137Z"
    }
   },
   "cell_type": "code",
   "source": "additional_train_data.info()",
   "id": "e6efef1597276890",
   "outputs": [
    {
     "name": "stdout",
     "output_type": "stream",
     "text": [
      "<class 'pandas.core.frame.DataFrame'>\n",
      "Index: 168588 entries, p01_test_12 to p24_test_94938\n",
      "Columns: 507 entries, p_num to bg+1:00\n",
      "dtypes: float64(433), object(74)\n",
      "memory usage: 657.4+ MB\n"
     ]
    }
   ],
   "execution_count": 9
  },
  {
   "metadata": {
    "ExecuteTime": {
     "end_time": "2024-11-28T13:33:48.467316Z",
     "start_time": "2024-11-28T13:33:48.457536Z"
    }
   },
   "cell_type": "code",
   "source": "test_data.info()",
   "id": "16d75f6d697d8bc7",
   "outputs": [
    {
     "name": "stdout",
     "output_type": "stream",
     "text": [
      "<class 'pandas.core.frame.DataFrame'>\n",
      "Index: 3644 entries, p01_8459 to p24_260\n",
      "Columns: 506 entries, p_num to activity-0:00\n",
      "dtypes: float64(432), object(74)\n",
      "memory usage: 14.2+ MB\n"
     ]
    }
   ],
   "execution_count": 10
  },
  {
   "metadata": {},
   "cell_type": "markdown",
   "source": "# Prepare the data",
   "id": "fc5e077e5738d8eb"
  },
  {
   "metadata": {
    "ExecuteTime": {
     "end_time": "2024-11-28T13:34:31.354084Z",
     "start_time": "2024-11-28T13:33:48.492024Z"
    }
   },
   "cell_type": "code",
   "source": [
    "from pipelines_selected_features import pipeline\n",
    "\n",
    "all_train_data = pd.concat([train_data, additional_train_data], axis=0)\n",
    "all_train_data_transformed = pipeline.fit_transform(all_train_data)\n",
    "\n",
    "train_data_transformed = all_train_data_transformed[:len(train_data)]\n",
    "additional_train_data_transformed = all_train_data_transformed[len(train_data):]\n",
    "\n",
    "X_train = train_data_transformed.drop(columns=['bg+1:00'])\n",
    "y_train = train_data_transformed['bg+1:00']\n",
    "\n",
    "X_additional_train = additional_train_data_transformed.drop(columns=['bg+1:00'])\n",
    "y_additional_train = additional_train_data_transformed['bg+1:00']"
   ],
   "id": "c7df704ede80b62",
   "outputs": [],
   "execution_count": 11
  },
  {
   "metadata": {},
   "cell_type": "markdown",
   "source": "## Predict for validation data and check results",
   "id": "9b608adb90b0235e"
  },
  {
   "metadata": {
    "ExecuteTime": {
     "end_time": "2024-11-28T13:58:11.854840Z",
     "start_time": "2024-11-28T13:34:31.381896Z"
    }
   },
   "cell_type": "code",
   "source": [
    "from tensorflow.keras.models import Sequential\n",
    "import tensorflow as tf\n",
    "from tensorflow.keras.layers import Dense, Dropout, BatchNormalization, Input, Activation\n",
    "from tensorflow.keras.optimizers import Adam\n",
    "from scikeras.wrappers import KerasRegressor\n",
    "from model_performance_calculations import get_history_line_chart\n",
    "\n",
    "\n",
    "def rmse(y_true, y_pred):\n",
    "    return tf.sqrt(tf.reduce_mean(tf.square(y_pred - y_true)))\n",
    "\n",
    "\n",
    "def create_dnn_model(input_dimension: int):\n",
    "    dnn = Sequential([\n",
    "        # Input layer\n",
    "        Input(shape=(input_dimension,)),\n",
    "\n",
    "        # First dense block\n",
    "        Dense(512, activation='relu'),  # Increased neurons\n",
    "        BatchNormalization(),\n",
    "        Dropout(0.3),  # Slightly reduced dropout for better capacity\n",
    "\n",
    "        # Second dense block\n",
    "        Dense(256, activation='relu'),  # Increased neurons\n",
    "        BatchNormalization(),\n",
    "        Dropout(0.3),\n",
    "\n",
    "        # Third dense block\n",
    "        Dense(128, activation='relu'),\n",
    "        BatchNormalization(),\n",
    "        Dropout(0.3),\n",
    "\n",
    "        # Fourth dense block (new)\n",
    "        Dense(64, activation='relu'),\n",
    "        BatchNormalization(),\n",
    "        Dropout(0.3),\n",
    "\n",
    "        # Output layer\n",
    "        Dense(1, activation='linear')  # Regression output\n",
    "    ])\n",
    "\n",
    "    # Compile the model\n",
    "    dnn.compile(\n",
    "        optimizer=Adam(learning_rate=0.001),  # Retained learning rate\n",
    "        loss='mse',  # Mean Squared Error for regression\n",
    "        metrics=[rmse]  # Custom RMSE metric\n",
    "    )\n",
    "\n",
    "    return dnn\n",
    "\n",
    "\n",
    "def model_with_pretrained_weights():\n",
    "    dnn = create_dnn_model(X_train.shape[1])\n",
    "    dnn.load_weights('v4.1-MA02.weights.h5')  # Load the pre-trained weights\n",
    "\n",
    "    # Freeze all layers except the last one (optional)\n",
    "    for layer in dnn.layers:\n",
    "        layer.trainable = False\n",
    "    # Unfreeze the output layer if you want to fine-tune it\n",
    "    # dnn.layers[-1].trainable = True\n",
    "\n",
    "    dnn.compile(optimizer='adam', loss='mse', metrics=[rmse])\n",
    "    return dnn\n",
    "\n",
    "\n",
    "pretrained_dnn = create_dnn_model(X_train.shape[1])\n",
    "\n",
    "print('Pretrain with train data')\n",
    "pretrained_dnn.fit(\n",
    "    pd.concat([X_train, X_additional_train], axis=0),\n",
    "    pd.concat([y_train, y_additional_train], axis=0),\n",
    "    validation_split=0.2,\n",
    "    batch_size=32,\n",
    "    epochs=65,\n",
    "    verbose=2\n",
    ")\n",
    "\n",
    "history = pretrained_dnn.history.history\n",
    "\n",
    "print('Pretrain save weights')\n",
    "pretrained_dnn.save_weights('v4.1-MA02.weights.h5')\n",
    "get_history_line_chart([history]).show()"
   ],
   "id": "c20aa25cccb09977",
   "outputs": [
    {
     "name": "stdout",
     "output_type": "stream",
     "text": [
      "Pretrain with train data\n",
      "Epoch 1/65\n",
      "7990/7990 - 22s - 3ms/step - loss: 7.4078 - rmse: 2.5463 - val_loss: 5.1340 - val_rmse: 2.0099\n",
      "Epoch 2/65\n",
      "7990/7990 - 23s - 3ms/step - loss: 4.8493 - rmse: 2.1725 - val_loss: 5.0126 - val_rmse: 1.9737\n",
      "Epoch 3/65\n",
      "7990/7990 - 21s - 3ms/step - loss: 4.6275 - rmse: 2.1223 - val_loss: 5.0652 - val_rmse: 1.9878\n",
      "Epoch 4/65\n",
      "7990/7990 - 19s - 2ms/step - loss: 4.4884 - rmse: 2.0902 - val_loss: 4.8702 - val_rmse: 1.9625\n",
      "Epoch 5/65\n",
      "7990/7990 - 24s - 3ms/step - loss: 4.4196 - rmse: 2.0735 - val_loss: 5.1008 - val_rmse: 1.9900\n",
      "Epoch 6/65\n",
      "7990/7990 - 23s - 3ms/step - loss: 4.3168 - rmse: 2.0493 - val_loss: 5.0503 - val_rmse: 1.9850\n",
      "Epoch 7/65\n",
      "7990/7990 - 20s - 3ms/step - loss: 4.2461 - rmse: 2.0331 - val_loss: 5.2178 - val_rmse: 2.0101\n",
      "Epoch 8/65\n",
      "7990/7990 - 20s - 3ms/step - loss: 4.2073 - rmse: 2.0227 - val_loss: 5.0007 - val_rmse: 1.9795\n",
      "Epoch 9/65\n",
      "7990/7990 - 20s - 3ms/step - loss: 4.1739 - rmse: 2.0146 - val_loss: 5.4604 - val_rmse: 2.0429\n",
      "Epoch 10/65\n",
      "7990/7990 - 20s - 3ms/step - loss: 4.1203 - rmse: 2.0019 - val_loss: 4.9676 - val_rmse: 1.9749\n",
      "Epoch 11/65\n",
      "7990/7990 - 22s - 3ms/step - loss: 4.0899 - rmse: 1.9942 - val_loss: 4.9847 - val_rmse: 1.9802\n",
      "Epoch 12/65\n",
      "7990/7990 - 23s - 3ms/step - loss: 4.0528 - rmse: 1.9857 - val_loss: 5.0585 - val_rmse: 1.9884\n",
      "Epoch 13/65\n",
      "7990/7990 - 21s - 3ms/step - loss: 4.0296 - rmse: 1.9797 - val_loss: 5.1271 - val_rmse: 1.9987\n",
      "Epoch 14/65\n",
      "7990/7990 - 24s - 3ms/step - loss: 3.9968 - rmse: 1.9713 - val_loss: 4.9859 - val_rmse: 1.9748\n",
      "Epoch 15/65\n",
      "7990/7990 - 22s - 3ms/step - loss: 3.9671 - rmse: 1.9638 - val_loss: 4.9873 - val_rmse: 1.9780\n",
      "Epoch 16/65\n",
      "7990/7990 - 23s - 3ms/step - loss: 3.9721 - rmse: 1.9656 - val_loss: 5.0045 - val_rmse: 1.9804\n",
      "Epoch 17/65\n",
      "7990/7990 - 23s - 3ms/step - loss: 3.9409 - rmse: 1.9571 - val_loss: 5.0421 - val_rmse: 1.9891\n",
      "Epoch 18/65\n",
      "7990/7990 - 22s - 3ms/step - loss: 3.9144 - rmse: 1.9517 - val_loss: 4.9940 - val_rmse: 1.9755\n",
      "Epoch 19/65\n",
      "7990/7990 - 41s - 5ms/step - loss: 3.9005 - rmse: 1.9480 - val_loss: 5.1032 - val_rmse: 1.9981\n",
      "Epoch 20/65\n",
      "7990/7990 - 22s - 3ms/step - loss: 3.8939 - rmse: 1.9452 - val_loss: 5.2774 - val_rmse: 2.0246\n",
      "Epoch 21/65\n",
      "7990/7990 - 22s - 3ms/step - loss: 3.8668 - rmse: 1.9394 - val_loss: 5.1194 - val_rmse: 1.9963\n",
      "Epoch 22/65\n",
      "7990/7990 - 22s - 3ms/step - loss: 3.8730 - rmse: 1.9410 - val_loss: 5.0769 - val_rmse: 1.9930\n",
      "Epoch 23/65\n",
      "7990/7990 - 22s - 3ms/step - loss: 3.8649 - rmse: 1.9388 - val_loss: 5.0845 - val_rmse: 1.9962\n",
      "Epoch 24/65\n",
      "7990/7990 - 22s - 3ms/step - loss: 3.8449 - rmse: 1.9342 - val_loss: 4.9852 - val_rmse: 1.9861\n",
      "Epoch 25/65\n",
      "7990/7990 - 20s - 2ms/step - loss: 3.8262 - rmse: 1.9289 - val_loss: 5.0846 - val_rmse: 1.9930\n",
      "Epoch 26/65\n",
      "7990/7990 - 20s - 3ms/step - loss: 3.8224 - rmse: 1.9274 - val_loss: 5.0557 - val_rmse: 1.9919\n",
      "Epoch 27/65\n",
      "7990/7990 - 22s - 3ms/step - loss: 3.8018 - rmse: 1.9231 - val_loss: 5.1057 - val_rmse: 2.0011\n",
      "Epoch 28/65\n",
      "7990/7990 - 22s - 3ms/step - loss: 3.7865 - rmse: 1.9192 - val_loss: 5.1125 - val_rmse: 2.0025\n",
      "Epoch 29/65\n",
      "7990/7990 - 20s - 2ms/step - loss: 3.7874 - rmse: 1.9188 - val_loss: 5.2412 - val_rmse: 2.0216\n",
      "Epoch 30/65\n",
      "7990/7990 - 20s - 3ms/step - loss: 3.7815 - rmse: 1.9176 - val_loss: 5.0520 - val_rmse: 1.9902\n",
      "Epoch 31/65\n",
      "7990/7990 - 21s - 3ms/step - loss: 3.7636 - rmse: 1.9130 - val_loss: 5.0806 - val_rmse: 1.9989\n",
      "Epoch 32/65\n",
      "7990/7990 - 20s - 3ms/step - loss: 3.7693 - rmse: 1.9144 - val_loss: 5.2158 - val_rmse: 2.0145\n",
      "Epoch 33/65\n",
      "7990/7990 - 24s - 3ms/step - loss: 3.7435 - rmse: 1.9088 - val_loss: 5.1341 - val_rmse: 2.0040\n",
      "Epoch 34/65\n",
      "7990/7990 - 22s - 3ms/step - loss: 3.7599 - rmse: 1.9120 - val_loss: 5.3136 - val_rmse: 2.0362\n",
      "Epoch 35/65\n",
      "7990/7990 - 23s - 3ms/step - loss: 3.7488 - rmse: 1.9090 - val_loss: 5.1483 - val_rmse: 2.0005\n",
      "Epoch 36/65\n",
      "7990/7990 - 22s - 3ms/step - loss: 3.7238 - rmse: 1.9030 - val_loss: 5.0522 - val_rmse: 1.9937\n",
      "Epoch 37/65\n",
      "7990/7990 - 22s - 3ms/step - loss: 3.7289 - rmse: 1.9042 - val_loss: 5.1017 - val_rmse: 1.9987\n",
      "Epoch 38/65\n",
      "7990/7990 - 22s - 3ms/step - loss: 3.7211 - rmse: 1.9026 - val_loss: 5.1899 - val_rmse: 2.0159\n",
      "Epoch 39/65\n",
      "7990/7990 - 20s - 3ms/step - loss: 3.7109 - rmse: 1.8999 - val_loss: 5.1616 - val_rmse: 2.0097\n",
      "Epoch 40/65\n",
      "7990/7990 - 21s - 3ms/step - loss: 3.7057 - rmse: 1.8979 - val_loss: 5.2952 - val_rmse: 2.0366\n",
      "Epoch 41/65\n",
      "7990/7990 - 22s - 3ms/step - loss: 3.7026 - rmse: 1.8974 - val_loss: 5.1095 - val_rmse: 1.9978\n",
      "Epoch 42/65\n",
      "7990/7990 - 21s - 3ms/step - loss: 3.6826 - rmse: 1.8928 - val_loss: 5.1843 - val_rmse: 2.0102\n",
      "Epoch 43/65\n",
      "7990/7990 - 20s - 3ms/step - loss: 3.7042 - rmse: 1.8982 - val_loss: 5.0062 - val_rmse: 1.9914\n",
      "Epoch 44/65\n",
      "7990/7990 - 20s - 3ms/step - loss: 3.6788 - rmse: 1.8910 - val_loss: 5.2044 - val_rmse: 2.0141\n",
      "Epoch 45/65\n",
      "7990/7990 - 23s - 3ms/step - loss: 3.6707 - rmse: 1.8889 - val_loss: 5.1821 - val_rmse: 2.0152\n",
      "Epoch 46/65\n",
      "7990/7990 - 23s - 3ms/step - loss: 3.6642 - rmse: 1.8877 - val_loss: 5.2891 - val_rmse: 2.0239\n",
      "Epoch 47/65\n",
      "7990/7990 - 21s - 3ms/step - loss: 3.6652 - rmse: 1.8875 - val_loss: 5.2367 - val_rmse: 2.0196\n",
      "Epoch 48/65\n",
      "7990/7990 - 20s - 3ms/step - loss: 3.6669 - rmse: 1.8883 - val_loss: 5.3480 - val_rmse: 2.0422\n",
      "Epoch 49/65\n",
      "7990/7990 - 21s - 3ms/step - loss: 3.6663 - rmse: 1.8880 - val_loss: 5.2040 - val_rmse: 2.0170\n",
      "Epoch 50/65\n",
      "7990/7990 - 20s - 3ms/step - loss: 3.6436 - rmse: 1.8831 - val_loss: 5.1357 - val_rmse: 2.0093\n",
      "Epoch 51/65\n",
      "7990/7990 - 21s - 3ms/step - loss: 3.6406 - rmse: 1.8820 - val_loss: 5.0989 - val_rmse: 2.0008\n",
      "Epoch 52/65\n",
      "7990/7990 - 22s - 3ms/step - loss: 3.6426 - rmse: 1.8833 - val_loss: 5.0688 - val_rmse: 2.0003\n",
      "Epoch 53/65\n",
      "7990/7990 - 21s - 3ms/step - loss: 3.6303 - rmse: 1.8793 - val_loss: 5.2518 - val_rmse: 2.0270\n",
      "Epoch 54/65\n",
      "7990/7990 - 23s - 3ms/step - loss: 3.6250 - rmse: 1.8772 - val_loss: 5.2612 - val_rmse: 2.0339\n",
      "Epoch 55/65\n",
      "7990/7990 - 23s - 3ms/step - loss: 3.6288 - rmse: 1.8795 - val_loss: 5.2339 - val_rmse: 2.0273\n",
      "Epoch 56/65\n",
      "7990/7990 - 20s - 3ms/step - loss: 3.6288 - rmse: 1.8787 - val_loss: 5.1756 - val_rmse: 2.0115\n",
      "Epoch 57/65\n",
      "7990/7990 - 22s - 3ms/step - loss: 3.6106 - rmse: 1.8741 - val_loss: 5.2948 - val_rmse: 2.0373\n",
      "Epoch 58/65\n",
      "7990/7990 - 22s - 3ms/step - loss: 3.6162 - rmse: 1.8755 - val_loss: 5.2459 - val_rmse: 2.0248\n",
      "Epoch 59/65\n",
      "7990/7990 - 21s - 3ms/step - loss: 3.6063 - rmse: 1.8735 - val_loss: 5.2934 - val_rmse: 2.0365\n",
      "Epoch 60/65\n",
      "7990/7990 - 22s - 3ms/step - loss: 3.6039 - rmse: 1.8720 - val_loss: 5.2242 - val_rmse: 2.0295\n",
      "Epoch 61/65\n",
      "7990/7990 - 21s - 3ms/step - loss: 3.6008 - rmse: 1.8711 - val_loss: 5.3263 - val_rmse: 2.0360\n",
      "Epoch 62/65\n",
      "7990/7990 - 22s - 3ms/step - loss: 3.5930 - rmse: 1.8691 - val_loss: 5.1347 - val_rmse: 2.0072\n",
      "Epoch 63/65\n",
      "7990/7990 - 22s - 3ms/step - loss: 3.5912 - rmse: 1.8692 - val_loss: 5.2911 - val_rmse: 2.0317\n",
      "Epoch 64/65\n",
      "7990/7990 - 22s - 3ms/step - loss: 3.5871 - rmse: 1.8679 - val_loss: 5.4682 - val_rmse: 2.0603\n",
      "Epoch 65/65\n",
      "7990/7990 - 21s - 3ms/step - loss: 3.5799 - rmse: 1.8663 - val_loss: 5.2257 - val_rmse: 2.0219\n",
      "Pretrain save weights\n"
     ]
    },
    {
     "data": {
      "text/plain": [
       "<Figure size 1000x500 with 1 Axes>"
      ],
      "image/png": "[encoded data removed]"
     },
     "metadata": {},
     "output_type": "display_data"
    }
   ],
   "execution_count": 12
  },
  {
   "metadata": {
    "ExecuteTime": {
     "end_time": "2024-11-28T13:58:11.938528Z",
     "start_time": "2024-11-28T13:58:11.888258Z"
    }
   },
   "cell_type": "code",
   "source": [
    "from sklearn.neighbors import KNeighborsRegressor\n",
    "from xgboost import XGBRegressor\n",
    "from sklearn.ensemble import StackingRegressor, HistGradientBoostingRegressor\n",
    "from sklearn.linear_model import LassoLarsIC, Ridge\n",
    "\n",
    "hgb_estimator = HistGradientBoostingRegressor(\n",
    "    max_iter=200,\n",
    "    max_depth=5,\n",
    "    learning_rate=0.1\n",
    ")\n",
    "\n",
    "knn_estimator = KNeighborsRegressor(\n",
    "    leaf_size=30,\n",
    "    metric='minkowski',\n",
    "    n_neighbors=7,\n",
    "    p=2,\n",
    "    weights='uniform'\n",
    ")\n",
    "\n",
    "lasso_lars_ic_base_estimator = LassoLarsIC(\n",
    "    criterion='aic',\n",
    "    eps=0.03922948513965659,\n",
    "    max_iter=1944,\n",
    "    noise_variance=5.4116687755186035e-05,\n",
    "    positive=False,\n",
    ")\n",
    "\n",
    "xgb_estimator = XGBRegressor(\n",
    "    n_estimators=1000,\n",
    "    max_depth=6,\n",
    "    learning_rate=0.05,\n",
    "    min_child_weight=6,\n",
    "    colsample_bytree=0.8,\n",
    "    subsample=0.8,\n",
    "    gamma=1,\n",
    "    reg_lambda=10.0,\n",
    "    reg_alpha=1.0,\n",
    "    objective='reg:squarederror',\n",
    "    random_state=42,\n",
    ")\n",
    "\n",
    "keras_regressor = KerasRegressor(\n",
    "    model=model_with_pretrained_weights,\n",
    "    epochs=1,\n",
    "    verbose=2\n",
    ")\n",
    "\n",
    "estimators = [\n",
    "    ('hgb', hgb_estimator),\n",
    "    ('lasso_lars_ic', lasso_lars_ic_base_estimator),\n",
    "    ('knn', knn_estimator),\n",
    "    ('xgb', xgb_estimator),\n",
    "    ('dnn', keras_regressor)\n",
    "]\n",
    "\n",
    "model = StackingRegressor(estimators=estimators, final_estimator=Ridge(alpha=0.1), n_jobs=1, verbose=2)"
   ],
   "id": "7e0583e9ae957c2d",
   "outputs": [],
   "execution_count": 13
  },
  {
   "metadata": {
    "ExecuteTime": {
     "end_time": "2024-11-28T14:33:23.691664Z",
     "start_time": "2024-11-28T13:58:11.973936Z"
    }
   },
   "cell_type": "code",
   "source": [
    "from datetime import datetime\n",
    "import os\n",
    "from model_performance_calculations import calculate_stacking_regressor_performance, get_rmse_boxplot_chart, get_rmse_line_chart, save_performances, save_model\n",
    "\n",
    "date_time = datetime.now().strftime('%Y-%m-%d_%H-%M-%S')\n",
    "model_name = f'{date_time}-model-v4.1-DNN'\n",
    "\n",
    "save_model(model, os.path.join('models', f'{model_name}.pkl'))\n",
    "\n",
    "performances = calculate_stacking_regressor_performance(model, X_train, y_train, X_additional_train, y_additional_train, n_splits=5)\n",
    "save_performances(performances, os.path.join('models', f'{model_name}-performances.json'))\n",
    "\n",
    "get_rmse_boxplot_chart(performances).show()\n",
    "get_rmse_line_chart(performances).show()"
   ],
   "id": "c0be6db84ab0c1b0",
   "outputs": [
    {
     "name": "stdout",
     "output_type": "stream",
     "text": [
      "14:58:11 - Start training\n",
      "14:58:11 - Calculate performance for hgb\n",
      "14:58:11 - Selected splitter: ShuffleSplit(n_splits=5, random_state=42, test_size=0.2, train_size=None)\n",
      "14:58:11 - Split 1 - Model: hgb\n",
      "14:58:12 - Fitting the model\n",
      "14:58:20 - Predicting\n",
      "14:58:20 - Calculating scores\n",
      "14:58:20 - R^2: 0.6169400833548542, RMSE: 2.028574930660201, MAE: 1.5085261184967733, MSE: 4.115116249303038\n",
      "14:58:20 - Split 2 - Model: hgb\n",
      "14:58:20 - Fitting the model\n",
      "14:58:30 - Predicting\n",
      "14:58:30 - Calculating scores\n",
      "14:58:30 - R^2: 0.6125333551504599, RMSE: 2.043490987849192, MAE: 1.5232236829052834, MSE: 4.175855417420866\n",
      "14:58:30 - Split 3 - Model: hgb\n",
      "14:58:30 - Fitting the model\n",
      "14:58:38 - Predicting\n",
      "14:58:38 - Calculating scores\n",
      "14:58:38 - R^2: 0.61607813175661, RMSE: 2.013543729180387, MAE: 1.5032678990961286, MSE: 4.054358349321659\n",
      "14:58:38 - Split 4 - Model: hgb\n",
      "14:58:38 - Fitting the model\n",
      "14:58:51 - Predicting\n",
      "14:58:51 - Calculating scores\n",
      "14:58:51 - R^2: 0.6140872282969334, RMSE: 2.0423024476881095, MAE: 1.5216424550857626, MSE: 4.170999287832844\n",
      "14:58:51 - Split 5 - Model: hgb\n",
      "14:58:51 - Fitting the model\n",
      "14:59:05 - Predicting\n",
      "14:59:05 - Calculating scores\n",
      "14:59:05 - R^2: 0.6075278788282341, RMSE: 2.0335055517192617, MAE: 1.5180424542888589, MSE: 4.135144828873059\n",
      "14:59:05 - Training finished\n",
      "14:59:05 - Calculate performance for lasso_lars_ic\n",
      "14:59:05 - Selected splitter: ShuffleSplit(n_splits=5, random_state=42, test_size=0.2, train_size=None)\n",
      "14:59:05 - Split 1 - Model: lasso_lars_ic\n",
      "14:59:05 - Fitting the model\n",
      "14:59:06 - Predicting\n",
      "14:59:06 - Calculating scores\n",
      "14:59:06 - R^2: 0.5504740932335763, RMSE: 2.1975312622084426, MAE: 1.646579945121024, MSE: 4.829143648383432\n",
      "14:59:06 - Split 2 - Model: lasso_lars_ic\n",
      "14:59:06 - Fitting the model\n",
      "14:59:06 - Predicting\n",
      "14:59:06 - Calculating scores\n",
      "14:59:06 - R^2: 0.5482092252184848, RMSE: 2.206603207032864, MAE: 1.6617097760265074, MSE: 4.8690977132877205\n",
      "14:59:06 - Split 3 - Model: lasso_lars_ic\n",
      "14:59:06 - Fitting the model\n",
      "14:59:06 - Predicting\n",
      "14:59:06 - Calculating scores\n",
      "14:59:06 - R^2: 0.5506213302018087, RMSE: 2.178441329543595, MAE: 1.6381996302844015, MSE: 4.745606626263665\n",
      "14:59:06 - Split 4 - Model: lasso_lars_ic\n",
      "14:59:06 - Fitting the model\n",
      "14:59:07 - Predicting\n",
      "14:59:07 - Calculating scores\n",
      "14:59:07 - R^2: 0.5496599326190281, RMSE: 2.2062045515456292, MAE: 1.6608630324760758, MSE: 4.86733852326065\n",
      "14:59:07 - Split 5 - Model: lasso_lars_ic\n",
      "14:59:07 - Fitting the model\n",
      "14:59:07 - Predicting\n",
      "14:59:07 - Calculating scores\n",
      "14:59:07 - R^2: 0.5406542484253587, RMSE: 2.199939857568177, MAE: 1.6544598716097572, MSE: 4.8397353769170905\n",
      "14:59:07 - Training finished\n",
      "14:59:07 - Calculate performance for knn\n",
      "14:59:07 - Selected splitter: ShuffleSplit(n_splits=5, random_state=42, test_size=0.2, train_size=None)\n",
      "14:59:07 - Split 1 - Model: knn\n",
      "14:59:07 - Fitting the model\n",
      "14:59:07 - Predicting\n",
      "14:59:16 - Calculating scores\n",
      "14:59:16 - R^2: 0.5832817929440848, RMSE: 2.1158210675106046, MAE: 1.4864611525848848, MSE: 4.476698789721714\n",
      "14:59:16 - Split 2 - Model: knn\n",
      "14:59:16 - Fitting the model\n",
      "14:59:16 - Predicting\n",
      "14:59:26 - Calculating scores\n",
      "14:59:26 - R^2: 0.5775466231253846, RMSE: 2.1337569990288743, MAE: 1.4998785303314042, MSE: 4.552918930904707\n",
      "14:59:26 - Split 3 - Model: knn\n",
      "14:59:26 - Fitting the model\n",
      "14:59:26 - Predicting\n",
      "14:59:35 - Calculating scores\n",
      "14:59:35 - R^2: 0.5784170098012154, RMSE: 2.1099938071320996, MAE: 1.4816699431418572, MSE: 4.452073866135812\n",
      "14:59:35 - Split 4 - Model: knn\n",
      "14:59:35 - Fitting the model\n",
      "14:59:35 - Predicting\n",
      "14:59:45 - Calculating scores\n",
      "14:59:45 - R^2: 0.581798579617341, RMSE: 2.126024347258766, MAE: 1.4941308160965316, MSE: 4.519979525137061\n",
      "14:59:45 - Split 5 - Model: knn\n",
      "14:59:45 - Fitting the model\n",
      "14:59:45 - Predicting\n",
      "14:59:54 - Calculating scores\n",
      "14:59:54 - R^2: 0.5823187312659427, RMSE: 2.0977969799316702, MAE: 1.4812314321303583, MSE: 4.400752169010436\n",
      "14:59:54 - Training finished\n",
      "14:59:54 - Calculate performance for xgb\n",
      "14:59:54 - Selected splitter: ShuffleSplit(n_splits=5, random_state=42, test_size=0.2, train_size=None)\n",
      "14:59:54 - Split 1 - Model: xgb\n",
      "14:59:54 - Fitting the model\n",
      "15:00:11 - Predicting\n",
      "15:00:11 - Calculating scores\n",
      "15:00:11 - R^2: 0.6572855102732711, RMSE: 1.9187744747278817, MAE: 1.4219630744840634, MSE: 3.681695484867258\n",
      "15:00:11 - Split 2 - Model: xgb\n",
      "15:00:11 - Fitting the model\n",
      "15:00:29 - Predicting\n",
      "15:00:29 - Calculating scores\n",
      "15:00:29 - R^2: 0.6549737890945612, RMSE: 1.9283311198628634, MAE: 1.4357988021659274, MSE: 3.718460907831565\n",
      "15:00:29 - Split 3 - Model: xgb\n",
      "15:00:29 - Fitting the model\n",
      "15:01:22 - Predicting\n",
      "15:01:22 - Calculating scores\n",
      "15:01:22 - R^2: 0.6550570695343063, RMSE: 1.9085927289841187, MAE: 1.422162269287612, MSE: 3.6427262051310456\n",
      "15:01:22 - Split 4 - Model: xgb\n",
      "15:01:22 - Fitting the model\n",
      "15:01:39 - Predicting\n",
      "15:01:40 - Calculating scores\n",
      "15:01:40 - R^2: 0.6534492504382046, RMSE: 1.935347265854939, MAE: 1.4415962777490456, MSE: 3.7455690394521883\n",
      "15:01:40 - Split 5 - Model: xgb\n",
      "15:01:40 - Fitting the model\n",
      "15:01:57 - Predicting\n",
      "15:01:57 - Calculating scores\n",
      "15:01:57 - R^2: 0.6500522678484264, RMSE: 1.9201826791096395, MAE: 1.4292526437662216, MSE: 3.6871015211526723\n",
      "15:01:57 - Training finished\n",
      "15:01:57 - Calculate performance for dnn\n",
      "15:01:57 - Selected splitter: ShuffleSplit(n_splits=5, random_state=42, test_size=0.2, train_size=None)\n",
      "15:01:57 - Split 1 - Model: dnn\n",
      "15:01:58 - Fitting the model\n"
     ]
    },
    {
     "name": "stderr",
     "output_type": "stream",
     "text": [
      "/Users/ralf/Projects/learning-projects/datascience-bootcamp/sep24_bds_int_medical/.venv/lib/python3.12/site-packages/keras/src/saving/saving_lib.py:719: UserWarning: Skipping variable loading for optimizer 'adam', because it has 2 variables whereas the saved optimizer has 38 variables. \n",
      "  saveable.load_own_variables(weights_store.get(inner_path))\n",
      "/Users/ralf/Projects/learning-projects/datascience-bootcamp/sep24_bds_int_medical/.venv/lib/python3.12/site-packages/keras/src/backend/tensorflow/trainer.py:75: UserWarning: The model does not have any trainable weights.\n",
      "  warnings.warn(\"The model does not have any trainable weights.\")\n"
     ]
    },
    {
     "name": "stdout",
     "output_type": "stream",
     "text": [
      "8934/8934 - 7s - 731us/step - loss: 3.6983 - rmse: 3.8189\n",
      "15:02:05 - Predicting\n",
      "1054/1054 - 1s - 780us/step\n",
      "15:02:06 - Calculating scores\n",
      "15:02:06 - R^2: 0.6289432788793903, RMSE: 1.9965392411830314, MAE: 1.4641129700089204, MSE: 3.9861689415837147\n",
      "15:02:06 - Split 2 - Model: dnn\n",
      "15:02:06 - Fitting the model\n"
     ]
    },
    {
     "name": "stderr",
     "output_type": "stream",
     "text": [
      "/Users/ralf/Projects/learning-projects/datascience-bootcamp/sep24_bds_int_medical/.venv/lib/python3.12/site-packages/keras/src/saving/saving_lib.py:719: UserWarning: Skipping variable loading for optimizer 'adam', because it has 2 variables whereas the saved optimizer has 38 variables. \n",
      "  saveable.load_own_variables(weights_store.get(inner_path))\n",
      "/Users/ralf/Projects/learning-projects/datascience-bootcamp/sep24_bds_int_medical/.venv/lib/python3.12/site-packages/keras/src/backend/tensorflow/trainer.py:75: UserWarning: The model does not have any trainable weights.\n",
      "  warnings.warn(\"The model does not have any trainable weights.\")\n"
     ]
    },
    {
     "name": "stdout",
     "output_type": "stream",
     "text": [
      "8934/8934 - 9s - 1ms/step - loss: 3.6971 - rmse: 3.8188\n",
      "15:02:15 - Predicting\n",
      "1054/1054 - 1s - 900us/step\n",
      "15:02:16 - Calculating scores\n",
      "15:02:16 - R^2: 0.6284023596902071, RMSE: 2.001207120291678, MAE: 1.4807876133744815, MSE: 4.004829938306111\n",
      "15:02:16 - Split 3 - Model: dnn\n",
      "15:02:16 - Fitting the model\n"
     ]
    },
    {
     "name": "stderr",
     "output_type": "stream",
     "text": [
      "/Users/ralf/Projects/learning-projects/datascience-bootcamp/sep24_bds_int_medical/.venv/lib/python3.12/site-packages/keras/src/saving/saving_lib.py:719: UserWarning: Skipping variable loading for optimizer 'adam', because it has 2 variables whereas the saved optimizer has 38 variables. \n",
      "  saveable.load_own_variables(weights_store.get(inner_path))\n",
      "/Users/ralf/Projects/learning-projects/datascience-bootcamp/sep24_bds_int_medical/.venv/lib/python3.12/site-packages/keras/src/backend/tensorflow/trainer.py:75: UserWarning: The model does not have any trainable weights.\n",
      "  warnings.warn(\"The model does not have any trainable weights.\")\n"
     ]
    },
    {
     "name": "stdout",
     "output_type": "stream",
     "text": [
      "8934/8934 - 7s - 814us/step - loss: 3.7102 - rmse: 3.8247\n",
      "15:02:24 - Predicting\n",
      "1054/1054 - 1s - 714us/step\n",
      "15:02:25 - Calculating scores\n",
      "15:02:25 - R^2: 0.6289032804969256, RMSE: 1.9796262242067852, MAE: 1.464385803093003, MSE: 3.918919987567213\n",
      "15:02:25 - Split 4 - Model: dnn\n",
      "15:02:25 - Fitting the model\n"
     ]
    },
    {
     "name": "stderr",
     "output_type": "stream",
     "text": [
      "/Users/ralf/Projects/learning-projects/datascience-bootcamp/sep24_bds_int_medical/.venv/lib/python3.12/site-packages/keras/src/saving/saving_lib.py:719: UserWarning: Skipping variable loading for optimizer 'adam', because it has 2 variables whereas the saved optimizer has 38 variables. \n",
      "  saveable.load_own_variables(weights_store.get(inner_path))\n",
      "/Users/ralf/Projects/learning-projects/datascience-bootcamp/sep24_bds_int_medical/.venv/lib/python3.12/site-packages/keras/src/backend/tensorflow/trainer.py:75: UserWarning: The model does not have any trainable weights.\n",
      "  warnings.warn(\"The model does not have any trainable weights.\")\n"
     ]
    },
    {
     "name": "stdout",
     "output_type": "stream",
     "text": [
      "8934/8934 - 7s - 807us/step - loss: 3.7126 - rmse: 3.8190\n",
      "15:02:32 - Predicting\n",
      "1054/1054 - 1s - 910us/step\n",
      "15:02:34 - Calculating scores\n",
      "15:02:34 - R^2: 0.6278432897988728, RMSE: 2.0055726983668243, MAE: 1.4803462735655837, MSE: 4.022321848434385\n",
      "15:02:34 - Split 5 - Model: dnn\n",
      "15:02:34 - Fitting the model\n"
     ]
    },
    {
     "name": "stderr",
     "output_type": "stream",
     "text": [
      "/Users/ralf/Projects/learning-projects/datascience-bootcamp/sep24_bds_int_medical/.venv/lib/python3.12/site-packages/keras/src/saving/saving_lib.py:719: UserWarning: Skipping variable loading for optimizer 'adam', because it has 2 variables whereas the saved optimizer has 38 variables. \n",
      "  saveable.load_own_variables(weights_store.get(inner_path))\n",
      "/Users/ralf/Projects/learning-projects/datascience-bootcamp/sep24_bds_int_medical/.venv/lib/python3.12/site-packages/keras/src/backend/tensorflow/trainer.py:75: UserWarning: The model does not have any trainable weights.\n",
      "  warnings.warn(\"The model does not have any trainable weights.\")\n"
     ]
    },
    {
     "name": "stdout",
     "output_type": "stream",
     "text": [
      "8934/8934 - 7s - 796us/step - loss: 3.6956 - rmse: 3.8205\n",
      "15:02:41 - Predicting\n",
      "1054/1054 - 1s - 878us/step\n",
      "15:02:42 - Calculating scores\n",
      "15:02:42 - R^2: 0.6212530664503579, RMSE: 1.9976321493634974, MAE: 1.4724831434209489, MSE: 3.9905342041706264\n",
      "15:02:42 - Training finished\n",
      "15:02:42 - Calculate performance for final_estimator\n",
      "15:02:42 - Selected splitter: ShuffleSplit(n_splits=5, random_state=42, test_size=0.2, train_size=None)\n",
      "15:02:42 - Split 1 - Model: final_estimator\n",
      "15:02:42 - Fitting the model\n",
      "15:02:43 - Predicting\n",
      "15:02:43 - Calculating scores\n",
      "15:02:43 - R^2: 0.550473788739431, RMSE: 2.197532006476215, MAE: 1.6465811248386755, MSE: 4.829146919487378\n",
      "15:02:43 - Split 2 - Model: final_estimator\n",
      "15:02:43 - Fitting the model\n",
      "15:02:43 - Predicting\n",
      "15:02:43 - Calculating scores\n",
      "15:02:43 - R^2: 0.5482085682464537, RMSE: 2.20660481139947, MAE: 1.6617115145586885, MSE: 4.86910479369129\n",
      "15:02:43 - Split 3 - Model: final_estimator\n",
      "15:02:43 - Fitting the model\n",
      "15:02:43 - Predicting\n",
      "15:02:43 - Calculating scores\n",
      "15:02:43 - R^2: 0.550620721907582, RMSE: 2.1784428039491734, MAE: 1.6382008202753364, MSE: 4.745613050077937\n",
      "15:02:43 - Split 4 - Model: final_estimator\n",
      "15:02:43 - Fitting the model\n",
      "15:02:44 - Predicting\n",
      "15:02:44 - Calculating scores\n",
      "15:02:44 - R^2: 0.5496595325955267, RMSE: 2.206205531397898, MAE: 1.6608642027911178, MSE: 4.867342846770682\n",
      "15:02:44 - Split 5 - Model: final_estimator\n",
      "15:02:44 - Fitting the model\n",
      "15:02:44 - Predicting\n",
      "15:02:44 - Calculating scores\n",
      "15:02:44 - R^2: 0.5406535457617223, RMSE: 2.199941540197377, MAE: 1.654461379704588, MSE: 4.839742780286007\n",
      "15:02:44 - Training finished\n",
      "15:02:44 - Calculate performance for stacking_regressor\n",
      "15:02:44 - Selected splitter: ShuffleSplit(n_splits=5, random_state=42, test_size=0.2, train_size=None)\n",
      "15:02:44 - Split 1 - Model: stacking_regressor\n",
      "15:02:44 - Fitting the model\n"
     ]
    },
    {
     "name": "stderr",
     "output_type": "stream",
     "text": [
      "/Users/ralf/Projects/learning-projects/datascience-bootcamp/sep24_bds_int_medical/.venv/lib/python3.12/site-packages/keras/src/saving/saving_lib.py:719: UserWarning: Skipping variable loading for optimizer 'adam', because it has 2 variables whereas the saved optimizer has 38 variables. \n",
      "  saveable.load_own_variables(weights_store.get(inner_path))\n",
      "/Users/ralf/Projects/learning-projects/datascience-bootcamp/sep24_bds_int_medical/.venv/lib/python3.12/site-packages/keras/src/backend/tensorflow/trainer.py:75: UserWarning: The model does not have any trainable weights.\n",
      "  warnings.warn(\"The model does not have any trainable weights.\")\n"
     ]
    },
    {
     "name": "stdout",
     "output_type": "stream",
     "text": [
      "8934/8934 - 12s - 1ms/step - loss: 3.7167 - rmse: 3.8174\n"
     ]
    },
    {
     "name": "stderr",
     "output_type": "stream",
     "text": [
      "/Users/ralf/Projects/learning-projects/datascience-bootcamp/sep24_bds_int_medical/.venv/lib/python3.12/site-packages/keras/src/saving/saving_lib.py:719: UserWarning: Skipping variable loading for optimizer 'adam', because it has 2 variables whereas the saved optimizer has 38 variables. \n",
      "  saveable.load_own_variables(weights_store.get(inner_path))\n",
      "/Users/ralf/Projects/learning-projects/datascience-bootcamp/sep24_bds_int_medical/.venv/lib/python3.12/site-packages/keras/src/backend/tensorflow/trainer.py:75: UserWarning: The model does not have any trainable weights.\n",
      "  warnings.warn(\"The model does not have any trainable weights.\")\n"
     ]
    },
    {
     "name": "stdout",
     "output_type": "stream",
     "text": [
      "7147/7147 - 8s - 1ms/step - loss: 3.6842 - rmse: 3.8694\n",
      "1787/1787 - 2s - 905us/step\n"
     ]
    },
    {
     "name": "stderr",
     "output_type": "stream",
     "text": [
      "/Users/ralf/Projects/learning-projects/datascience-bootcamp/sep24_bds_int_medical/.venv/lib/python3.12/site-packages/keras/src/saving/saving_lib.py:719: UserWarning: Skipping variable loading for optimizer 'adam', because it has 2 variables whereas the saved optimizer has 38 variables. \n",
      "  saveable.load_own_variables(weights_store.get(inner_path))\n",
      "/Users/ralf/Projects/learning-projects/datascience-bootcamp/sep24_bds_int_medical/.venv/lib/python3.12/site-packages/keras/src/backend/tensorflow/trainer.py:75: UserWarning: The model does not have any trainable weights.\n",
      "  warnings.warn(\"The model does not have any trainable weights.\")\n"
     ]
    },
    {
     "name": "stdout",
     "output_type": "stream",
     "text": [
      "7147/7147 - 10s - 1ms/step - loss: 3.9185 - rmse: 3.8497\n",
      "1787/1787 - 7s - 4ms/step\n"
     ]
    },
    {
     "name": "stderr",
     "output_type": "stream",
     "text": [
      "/Users/ralf/Projects/learning-projects/datascience-bootcamp/sep24_bds_int_medical/.venv/lib/python3.12/site-packages/keras/src/saving/saving_lib.py:719: UserWarning: Skipping variable loading for optimizer 'adam', because it has 2 variables whereas the saved optimizer has 38 variables. \n",
      "  saveable.load_own_variables(weights_store.get(inner_path))\n",
      "/Users/ralf/Projects/learning-projects/datascience-bootcamp/sep24_bds_int_medical/.venv/lib/python3.12/site-packages/keras/src/backend/tensorflow/trainer.py:75: UserWarning: The model does not have any trainable weights.\n",
      "  warnings.warn(\"The model does not have any trainable weights.\")\n"
     ]
    },
    {
     "name": "stdout",
     "output_type": "stream",
     "text": [
      "7147/7147 - 15s - 2ms/step - loss: 3.8355 - rmse: 3.8323\n",
      "1787/1787 - 4s - 2ms/step\n"
     ]
    },
    {
     "name": "stderr",
     "output_type": "stream",
     "text": [
      "/Users/ralf/Projects/learning-projects/datascience-bootcamp/sep24_bds_int_medical/.venv/lib/python3.12/site-packages/keras/src/saving/saving_lib.py:719: UserWarning: Skipping variable loading for optimizer 'adam', because it has 2 variables whereas the saved optimizer has 38 variables. \n",
      "  saveable.load_own_variables(weights_store.get(inner_path))\n",
      "/Users/ralf/Projects/learning-projects/datascience-bootcamp/sep24_bds_int_medical/.venv/lib/python3.12/site-packages/keras/src/backend/tensorflow/trainer.py:75: UserWarning: The model does not have any trainable weights.\n",
      "  warnings.warn(\"The model does not have any trainable weights.\")\n"
     ]
    },
    {
     "name": "stdout",
     "output_type": "stream",
     "text": [
      "7147/7147 - 11s - 2ms/step - loss: 3.5417 - rmse: 3.7660\n",
      "1787/1787 - 2s - 1ms/step\n"
     ]
    },
    {
     "name": "stderr",
     "output_type": "stream",
     "text": [
      "/Users/ralf/Projects/learning-projects/datascience-bootcamp/sep24_bds_int_medical/.venv/lib/python3.12/site-packages/keras/src/saving/saving_lib.py:719: UserWarning: Skipping variable loading for optimizer 'adam', because it has 2 variables whereas the saved optimizer has 38 variables. \n",
      "  saveable.load_own_variables(weights_store.get(inner_path))\n",
      "/Users/ralf/Projects/learning-projects/datascience-bootcamp/sep24_bds_int_medical/.venv/lib/python3.12/site-packages/keras/src/backend/tensorflow/trainer.py:75: UserWarning: The model does not have any trainable weights.\n",
      "  warnings.warn(\"The model does not have any trainable weights.\")\n"
     ]
    },
    {
     "name": "stdout",
     "output_type": "stream",
     "text": [
      "7147/7147 - 13s - 2ms/step - loss: 3.5651 - rmse: 3.7654\n",
      "1787/1787 - 3s - 2ms/step\n",
      "15:09:19 - Predicting\n",
      "1054/1054 - 1s - 1ms/step\n",
      "15:09:30 - Calculating scores\n",
      "15:09:30 - R^2: 0.6700546804574188, RMSE: 1.8826894338189744, MAE: 1.3741566595760384, MSE: 3.54451950421361\n",
      "15:09:30 - Split 2 - Model: stacking_regressor\n",
      "15:09:30 - Fitting the model\n"
     ]
    },
    {
     "name": "stderr",
     "output_type": "stream",
     "text": [
      "/Users/ralf/Projects/learning-projects/datascience-bootcamp/sep24_bds_int_medical/.venv/lib/python3.12/site-packages/keras/src/saving/saving_lib.py:719: UserWarning: Skipping variable loading for optimizer 'adam', because it has 2 variables whereas the saved optimizer has 38 variables. \n",
      "  saveable.load_own_variables(weights_store.get(inner_path))\n",
      "/Users/ralf/Projects/learning-projects/datascience-bootcamp/sep24_bds_int_medical/.venv/lib/python3.12/site-packages/keras/src/backend/tensorflow/trainer.py:75: UserWarning: The model does not have any trainable weights.\n",
      "  warnings.warn(\"The model does not have any trainable weights.\")\n"
     ]
    },
    {
     "name": "stdout",
     "output_type": "stream",
     "text": [
      "8934/8934 - 23s - 3ms/step - loss: 3.7032 - rmse: 3.8187\n"
     ]
    },
    {
     "name": "stderr",
     "output_type": "stream",
     "text": [
      "/Users/ralf/Projects/learning-projects/datascience-bootcamp/sep24_bds_int_medical/.venv/lib/python3.12/site-packages/keras/src/saving/saving_lib.py:719: UserWarning: Skipping variable loading for optimizer 'adam', because it has 2 variables whereas the saved optimizer has 38 variables. \n",
      "  saveable.load_own_variables(weights_store.get(inner_path))\n",
      "/Users/ralf/Projects/learning-projects/datascience-bootcamp/sep24_bds_int_medical/.venv/lib/python3.12/site-packages/keras/src/backend/tensorflow/trainer.py:75: UserWarning: The model does not have any trainable weights.\n",
      "  warnings.warn(\"The model does not have any trainable weights.\")\n"
     ]
    },
    {
     "name": "stdout",
     "output_type": "stream",
     "text": [
      "7147/7147 - 13s - 2ms/step - loss: 3.6777 - rmse: 3.8653\n",
      "1787/1787 - 2s - 1ms/step\n"
     ]
    },
    {
     "name": "stderr",
     "output_type": "stream",
     "text": [
      "/Users/ralf/Projects/learning-projects/datascience-bootcamp/sep24_bds_int_medical/.venv/lib/python3.12/site-packages/keras/src/saving/saving_lib.py:719: UserWarning: Skipping variable loading for optimizer 'adam', because it has 2 variables whereas the saved optimizer has 38 variables. \n",
      "  saveable.load_own_variables(weights_store.get(inner_path))\n",
      "/Users/ralf/Projects/learning-projects/datascience-bootcamp/sep24_bds_int_medical/.venv/lib/python3.12/site-packages/keras/src/backend/tensorflow/trainer.py:75: UserWarning: The model does not have any trainable weights.\n",
      "  warnings.warn(\"The model does not have any trainable weights.\")\n"
     ]
    },
    {
     "name": "stdout",
     "output_type": "stream",
     "text": [
      "7147/7147 - 13s - 2ms/step - loss: 3.9105 - rmse: 3.8468\n",
      "1787/1787 - 3s - 2ms/step\n"
     ]
    },
    {
     "name": "stderr",
     "output_type": "stream",
     "text": [
      "/Users/ralf/Projects/learning-projects/datascience-bootcamp/sep24_bds_int_medical/.venv/lib/python3.12/site-packages/keras/src/saving/saving_lib.py:719: UserWarning: Skipping variable loading for optimizer 'adam', because it has 2 variables whereas the saved optimizer has 38 variables. \n",
      "  saveable.load_own_variables(weights_store.get(inner_path))\n",
      "/Users/ralf/Projects/learning-projects/datascience-bootcamp/sep24_bds_int_medical/.venv/lib/python3.12/site-packages/keras/src/backend/tensorflow/trainer.py:75: UserWarning: The model does not have any trainable weights.\n",
      "  warnings.warn(\"The model does not have any trainable weights.\")\n"
     ]
    },
    {
     "name": "stdout",
     "output_type": "stream",
     "text": [
      "7147/7147 - 12s - 2ms/step - loss: 3.8364 - rmse: 3.8200\n",
      "1787/1787 - 2s - 1ms/step\n"
     ]
    },
    {
     "name": "stderr",
     "output_type": "stream",
     "text": [
      "/Users/ralf/Projects/learning-projects/datascience-bootcamp/sep24_bds_int_medical/.venv/lib/python3.12/site-packages/keras/src/saving/saving_lib.py:719: UserWarning: Skipping variable loading for optimizer 'adam', because it has 2 variables whereas the saved optimizer has 38 variables. \n",
      "  saveable.load_own_variables(weights_store.get(inner_path))\n",
      "/Users/ralf/Projects/learning-projects/datascience-bootcamp/sep24_bds_int_medical/.venv/lib/python3.12/site-packages/keras/src/backend/tensorflow/trainer.py:75: UserWarning: The model does not have any trainable weights.\n",
      "  warnings.warn(\"The model does not have any trainable weights.\")\n"
     ]
    },
    {
     "name": "stdout",
     "output_type": "stream",
     "text": [
      "7147/7147 - 24s - 3ms/step - loss: 3.5509 - rmse: 3.7680\n",
      "1787/1787 - 6s - 3ms/step\n"
     ]
    },
    {
     "name": "stderr",
     "output_type": "stream",
     "text": [
      "/Users/ralf/Projects/learning-projects/datascience-bootcamp/sep24_bds_int_medical/.venv/lib/python3.12/site-packages/keras/src/saving/saving_lib.py:719: UserWarning: Skipping variable loading for optimizer 'adam', because it has 2 variables whereas the saved optimizer has 38 variables. \n",
      "  saveable.load_own_variables(weights_store.get(inner_path))\n",
      "/Users/ralf/Projects/learning-projects/datascience-bootcamp/sep24_bds_int_medical/.venv/lib/python3.12/site-packages/keras/src/backend/tensorflow/trainer.py:75: UserWarning: The model does not have any trainable weights.\n",
      "  warnings.warn(\"The model does not have any trainable weights.\")\n"
     ]
    },
    {
     "name": "stdout",
     "output_type": "stream",
     "text": [
      "7147/7147 - 29s - 4ms/step - loss: 3.5469 - rmse: 3.7720\n",
      "1787/1787 - 7s - 4ms/step\n",
      "15:16:54 - Predicting\n",
      "1054/1054 - 2s - 1ms/step\n",
      "15:17:06 - Calculating scores\n",
      "15:17:06 - R^2: 0.6705467527026934, RMSE: 1.884310473134677, MAE: 1.3885528590633933, MSE: 3.5506259591650298\n",
      "15:17:06 - Split 3 - Model: stacking_regressor\n",
      "15:17:06 - Fitting the model\n"
     ]
    },
    {
     "name": "stderr",
     "output_type": "stream",
     "text": [
      "/Users/ralf/Projects/learning-projects/datascience-bootcamp/sep24_bds_int_medical/.venv/lib/python3.12/site-packages/keras/src/saving/saving_lib.py:719: UserWarning: Skipping variable loading for optimizer 'adam', because it has 2 variables whereas the saved optimizer has 38 variables. \n",
      "  saveable.load_own_variables(weights_store.get(inner_path))\n",
      "/Users/ralf/Projects/learning-projects/datascience-bootcamp/sep24_bds_int_medical/.venv/lib/python3.12/site-packages/keras/src/backend/tensorflow/trainer.py:75: UserWarning: The model does not have any trainable weights.\n",
      "  warnings.warn(\"The model does not have any trainable weights.\")\n"
     ]
    },
    {
     "name": "stdout",
     "output_type": "stream",
     "text": [
      "8934/8934 - 9s - 1ms/step - loss: 3.7093 - rmse: 3.8214\n"
     ]
    },
    {
     "name": "stderr",
     "output_type": "stream",
     "text": [
      "/Users/ralf/Projects/learning-projects/datascience-bootcamp/sep24_bds_int_medical/.venv/lib/python3.12/site-packages/keras/src/saving/saving_lib.py:719: UserWarning: Skipping variable loading for optimizer 'adam', because it has 2 variables whereas the saved optimizer has 38 variables. \n",
      "  saveable.load_own_variables(weights_store.get(inner_path))\n",
      "/Users/ralf/Projects/learning-projects/datascience-bootcamp/sep24_bds_int_medical/.venv/lib/python3.12/site-packages/keras/src/backend/tensorflow/trainer.py:75: UserWarning: The model does not have any trainable weights.\n",
      "  warnings.warn(\"The model does not have any trainable weights.\")\n"
     ]
    },
    {
     "name": "stdout",
     "output_type": "stream",
     "text": [
      "7147/7147 - 8s - 1ms/step - loss: 3.7036 - rmse: 3.8726\n",
      "1787/1787 - 2s - 973us/step\n"
     ]
    },
    {
     "name": "stderr",
     "output_type": "stream",
     "text": [
      "/Users/ralf/Projects/learning-projects/datascience-bootcamp/sep24_bds_int_medical/.venv/lib/python3.12/site-packages/keras/src/saving/saving_lib.py:719: UserWarning: Skipping variable loading for optimizer 'adam', because it has 2 variables whereas the saved optimizer has 38 variables. \n",
      "  saveable.load_own_variables(weights_store.get(inner_path))\n",
      "/Users/ralf/Projects/learning-projects/datascience-bootcamp/sep24_bds_int_medical/.venv/lib/python3.12/site-packages/keras/src/backend/tensorflow/trainer.py:75: UserWarning: The model does not have any trainable weights.\n",
      "  warnings.warn(\"The model does not have any trainable weights.\")\n"
     ]
    },
    {
     "name": "stdout",
     "output_type": "stream",
     "text": [
      "7147/7147 - 15s - 2ms/step - loss: 3.9439 - rmse: 3.8515\n",
      "1787/1787 - 4s - 2ms/step\n"
     ]
    },
    {
     "name": "stderr",
     "output_type": "stream",
     "text": [
      "/Users/ralf/Projects/learning-projects/datascience-bootcamp/sep24_bds_int_medical/.venv/lib/python3.12/site-packages/keras/src/saving/saving_lib.py:719: UserWarning: Skipping variable loading for optimizer 'adam', because it has 2 variables whereas the saved optimizer has 38 variables. \n",
      "  saveable.load_own_variables(weights_store.get(inner_path))\n",
      "/Users/ralf/Projects/learning-projects/datascience-bootcamp/sep24_bds_int_medical/.venv/lib/python3.12/site-packages/keras/src/backend/tensorflow/trainer.py:75: UserWarning: The model does not have any trainable weights.\n",
      "  warnings.warn(\"The model does not have any trainable weights.\")\n"
     ]
    },
    {
     "name": "stdout",
     "output_type": "stream",
     "text": [
      "7147/7147 - 21s - 3ms/step - loss: 3.8254 - rmse: 3.8312\n",
      "1787/1787 - 3s - 2ms/step\n"
     ]
    },
    {
     "name": "stderr",
     "output_type": "stream",
     "text": [
      "/Users/ralf/Projects/learning-projects/datascience-bootcamp/sep24_bds_int_medical/.venv/lib/python3.12/site-packages/keras/src/saving/saving_lib.py:719: UserWarning: Skipping variable loading for optimizer 'adam', because it has 2 variables whereas the saved optimizer has 38 variables. \n",
      "  saveable.load_own_variables(weights_store.get(inner_path))\n",
      "/Users/ralf/Projects/learning-projects/datascience-bootcamp/sep24_bds_int_medical/.venv/lib/python3.12/site-packages/keras/src/backend/tensorflow/trainer.py:75: UserWarning: The model does not have any trainable weights.\n",
      "  warnings.warn(\"The model does not have any trainable weights.\")\n"
     ]
    },
    {
     "name": "stdout",
     "output_type": "stream",
     "text": [
      "7147/7147 - 22s - 3ms/step - loss: 3.5384 - rmse: 3.7651\n",
      "1787/1787 - 2s - 1ms/step\n"
     ]
    },
    {
     "name": "stderr",
     "output_type": "stream",
     "text": [
      "/Users/ralf/Projects/learning-projects/datascience-bootcamp/sep24_bds_int_medical/.venv/lib/python3.12/site-packages/keras/src/saving/saving_lib.py:719: UserWarning: Skipping variable loading for optimizer 'adam', because it has 2 variables whereas the saved optimizer has 38 variables. \n",
      "  saveable.load_own_variables(weights_store.get(inner_path))\n",
      "/Users/ralf/Projects/learning-projects/datascience-bootcamp/sep24_bds_int_medical/.venv/lib/python3.12/site-packages/keras/src/backend/tensorflow/trainer.py:75: UserWarning: The model does not have any trainable weights.\n",
      "  warnings.warn(\"The model does not have any trainable weights.\")\n"
     ]
    },
    {
     "name": "stdout",
     "output_type": "stream",
     "text": [
      "7147/7147 - 9s - 1ms/step - loss: 3.5902 - rmse: 3.7783\n",
      "1787/1787 - 2s - 937us/step\n",
      "15:22:35 - Predicting\n",
      "1054/1054 - 1s - 1ms/step\n",
      "15:22:46 - Calculating scores\n",
      "15:22:46 - R^2: 0.6689863980352546, RMSE: 1.8696596729401909, MAE: 1.3760788491032334, MSE: 3.4956272926188214\n",
      "15:22:46 - Split 4 - Model: stacking_regressor\n",
      "15:22:46 - Fitting the model\n"
     ]
    },
    {
     "name": "stderr",
     "output_type": "stream",
     "text": [
      "/Users/ralf/Projects/learning-projects/datascience-bootcamp/sep24_bds_int_medical/.venv/lib/python3.12/site-packages/keras/src/saving/saving_lib.py:719: UserWarning: Skipping variable loading for optimizer 'adam', because it has 2 variables whereas the saved optimizer has 38 variables. \n",
      "  saveable.load_own_variables(weights_store.get(inner_path))\n",
      "/Users/ralf/Projects/learning-projects/datascience-bootcamp/sep24_bds_int_medical/.venv/lib/python3.12/site-packages/keras/src/backend/tensorflow/trainer.py:75: UserWarning: The model does not have any trainable weights.\n",
      "  warnings.warn(\"The model does not have any trainable weights.\")\n"
     ]
    },
    {
     "name": "stdout",
     "output_type": "stream",
     "text": [
      "8934/8934 - 6s - 708us/step - loss: 3.7265 - rmse: 3.8172\n"
     ]
    },
    {
     "name": "stderr",
     "output_type": "stream",
     "text": [
      "/Users/ralf/Projects/learning-projects/datascience-bootcamp/sep24_bds_int_medical/.venv/lib/python3.12/site-packages/keras/src/saving/saving_lib.py:719: UserWarning: Skipping variable loading for optimizer 'adam', because it has 2 variables whereas the saved optimizer has 38 variables. \n",
      "  saveable.load_own_variables(weights_store.get(inner_path))\n",
      "/Users/ralf/Projects/learning-projects/datascience-bootcamp/sep24_bds_int_medical/.venv/lib/python3.12/site-packages/keras/src/backend/tensorflow/trainer.py:75: UserWarning: The model does not have any trainable weights.\n",
      "  warnings.warn(\"The model does not have any trainable weights.\")\n"
     ]
    },
    {
     "name": "stdout",
     "output_type": "stream",
     "text": [
      "7147/7147 - 17s - 2ms/step - loss: 3.6888 - rmse: 3.8666\n",
      "1787/1787 - 2s - 934us/step\n"
     ]
    },
    {
     "name": "stderr",
     "output_type": "stream",
     "text": [
      "/Users/ralf/Projects/learning-projects/datascience-bootcamp/sep24_bds_int_medical/.venv/lib/python3.12/site-packages/keras/src/saving/saving_lib.py:719: UserWarning: Skipping variable loading for optimizer 'adam', because it has 2 variables whereas the saved optimizer has 38 variables. \n",
      "  saveable.load_own_variables(weights_store.get(inner_path))\n",
      "/Users/ralf/Projects/learning-projects/datascience-bootcamp/sep24_bds_int_medical/.venv/lib/python3.12/site-packages/keras/src/backend/tensorflow/trainer.py:75: UserWarning: The model does not have any trainable weights.\n",
      "  warnings.warn(\"The model does not have any trainable weights.\")\n"
     ]
    },
    {
     "name": "stdout",
     "output_type": "stream",
     "text": [
      "7147/7147 - 9s - 1ms/step - loss: 3.9246 - rmse: 3.8451\n",
      "1787/1787 - 2s - 1ms/step\n"
     ]
    },
    {
     "name": "stderr",
     "output_type": "stream",
     "text": [
      "/Users/ralf/Projects/learning-projects/datascience-bootcamp/sep24_bds_int_medical/.venv/lib/python3.12/site-packages/keras/src/saving/saving_lib.py:719: UserWarning: Skipping variable loading for optimizer 'adam', because it has 2 variables whereas the saved optimizer has 38 variables. \n",
      "  saveable.load_own_variables(weights_store.get(inner_path))\n",
      "/Users/ralf/Projects/learning-projects/datascience-bootcamp/sep24_bds_int_medical/.venv/lib/python3.12/site-packages/keras/src/backend/tensorflow/trainer.py:75: UserWarning: The model does not have any trainable weights.\n",
      "  warnings.warn(\"The model does not have any trainable weights.\")\n"
     ]
    },
    {
     "name": "stdout",
     "output_type": "stream",
     "text": [
      "7147/7147 - 9s - 1ms/step - loss: 3.8262 - rmse: 3.8244\n",
      "1787/1787 - 1s - 618us/step\n"
     ]
    },
    {
     "name": "stderr",
     "output_type": "stream",
     "text": [
      "/Users/ralf/Projects/learning-projects/datascience-bootcamp/sep24_bds_int_medical/.venv/lib/python3.12/site-packages/keras/src/saving/saving_lib.py:719: UserWarning: Skipping variable loading for optimizer 'adam', because it has 2 variables whereas the saved optimizer has 38 variables. \n",
      "  saveable.load_own_variables(weights_store.get(inner_path))\n",
      "/Users/ralf/Projects/learning-projects/datascience-bootcamp/sep24_bds_int_medical/.venv/lib/python3.12/site-packages/keras/src/backend/tensorflow/trainer.py:75: UserWarning: The model does not have any trainable weights.\n",
      "  warnings.warn(\"The model does not have any trainable weights.\")\n"
     ]
    },
    {
     "name": "stdout",
     "output_type": "stream",
     "text": [
      "7147/7147 - 5s - 703us/step - loss: 3.5377 - rmse: 3.7648\n",
      "1787/1787 - 1s - 593us/step\n"
     ]
    },
    {
     "name": "stderr",
     "output_type": "stream",
     "text": [
      "/Users/ralf/Projects/learning-projects/datascience-bootcamp/sep24_bds_int_medical/.venv/lib/python3.12/site-packages/keras/src/saving/saving_lib.py:719: UserWarning: Skipping variable loading for optimizer 'adam', because it has 2 variables whereas the saved optimizer has 38 variables. \n",
      "  saveable.load_own_variables(weights_store.get(inner_path))\n",
      "/Users/ralf/Projects/learning-projects/datascience-bootcamp/sep24_bds_int_medical/.venv/lib/python3.12/site-packages/keras/src/backend/tensorflow/trainer.py:75: UserWarning: The model does not have any trainable weights.\n",
      "  warnings.warn(\"The model does not have any trainable weights.\")\n"
     ]
    },
    {
     "name": "stdout",
     "output_type": "stream",
     "text": [
      "7147/7147 - 6s - 770us/step - loss: 3.5735 - rmse: 3.7700\n",
      "1787/1787 - 1s - 767us/step\n",
      "15:27:52 - Predicting\n",
      "1054/1054 - 1s - 632us/step\n",
      "15:28:03 - Calculating scores\n",
      "15:28:03 - R^2: 0.6684452244728503, RMSE: 1.893010948657469, MAE: 1.3935637070849245, MSE: 3.583490451737051\n",
      "15:28:03 - Split 5 - Model: stacking_regressor\n",
      "15:28:03 - Fitting the model\n"
     ]
    },
    {
     "name": "stderr",
     "output_type": "stream",
     "text": [
      "/Users/ralf/Projects/learning-projects/datascience-bootcamp/sep24_bds_int_medical/.venv/lib/python3.12/site-packages/keras/src/saving/saving_lib.py:719: UserWarning: Skipping variable loading for optimizer 'adam', because it has 2 variables whereas the saved optimizer has 38 variables. \n",
      "  saveable.load_own_variables(weights_store.get(inner_path))\n",
      "/Users/ralf/Projects/learning-projects/datascience-bootcamp/sep24_bds_int_medical/.venv/lib/python3.12/site-packages/keras/src/backend/tensorflow/trainer.py:75: UserWarning: The model does not have any trainable weights.\n",
      "  warnings.warn(\"The model does not have any trainable weights.\")\n"
     ]
    },
    {
     "name": "stdout",
     "output_type": "stream",
     "text": [
      "8934/8934 - 14s - 2ms/step - loss: 3.7046 - rmse: 3.8187\n"
     ]
    },
    {
     "name": "stderr",
     "output_type": "stream",
     "text": [
      "/Users/ralf/Projects/learning-projects/datascience-bootcamp/sep24_bds_int_medical/.venv/lib/python3.12/site-packages/keras/src/saving/saving_lib.py:719: UserWarning: Skipping variable loading for optimizer 'adam', because it has 2 variables whereas the saved optimizer has 38 variables. \n",
      "  saveable.load_own_variables(weights_store.get(inner_path))\n",
      "/Users/ralf/Projects/learning-projects/datascience-bootcamp/sep24_bds_int_medical/.venv/lib/python3.12/site-packages/keras/src/backend/tensorflow/trainer.py:75: UserWarning: The model does not have any trainable weights.\n",
      "  warnings.warn(\"The model does not have any trainable weights.\")\n"
     ]
    },
    {
     "name": "stdout",
     "output_type": "stream",
     "text": [
      "7147/7147 - 8s - 1ms/step - loss: 3.6776 - rmse: 3.8720\n",
      "1787/1787 - 2s - 1ms/step\n"
     ]
    },
    {
     "name": "stderr",
     "output_type": "stream",
     "text": [
      "/Users/ralf/Projects/learning-projects/datascience-bootcamp/sep24_bds_int_medical/.venv/lib/python3.12/site-packages/keras/src/saving/saving_lib.py:719: UserWarning: Skipping variable loading for optimizer 'adam', because it has 2 variables whereas the saved optimizer has 38 variables. \n",
      "  saveable.load_own_variables(weights_store.get(inner_path))\n",
      "/Users/ralf/Projects/learning-projects/datascience-bootcamp/sep24_bds_int_medical/.venv/lib/python3.12/site-packages/keras/src/backend/tensorflow/trainer.py:75: UserWarning: The model does not have any trainable weights.\n",
      "  warnings.warn(\"The model does not have any trainable weights.\")\n"
     ]
    },
    {
     "name": "stdout",
     "output_type": "stream",
     "text": [
      "7147/7147 - 13s - 2ms/step - loss: 3.9320 - rmse: 3.8539\n",
      "1787/1787 - 5s - 3ms/step\n"
     ]
    },
    {
     "name": "stderr",
     "output_type": "stream",
     "text": [
      "/Users/ralf/Projects/learning-projects/datascience-bootcamp/sep24_bds_int_medical/.venv/lib/python3.12/site-packages/keras/src/saving/saving_lib.py:719: UserWarning: Skipping variable loading for optimizer 'adam', because it has 2 variables whereas the saved optimizer has 38 variables. \n",
      "  saveable.load_own_variables(weights_store.get(inner_path))\n",
      "/Users/ralf/Projects/learning-projects/datascience-bootcamp/sep24_bds_int_medical/.venv/lib/python3.12/site-packages/keras/src/backend/tensorflow/trainer.py:75: UserWarning: The model does not have any trainable weights.\n",
      "  warnings.warn(\"The model does not have any trainable weights.\")\n"
     ]
    },
    {
     "name": "stdout",
     "output_type": "stream",
     "text": [
      "7147/7147 - 20s - 3ms/step - loss: 3.8281 - rmse: 3.8340\n",
      "1787/1787 - 4s - 2ms/step\n"
     ]
    },
    {
     "name": "stderr",
     "output_type": "stream",
     "text": [
      "/Users/ralf/Projects/learning-projects/datascience-bootcamp/sep24_bds_int_medical/.venv/lib/python3.12/site-packages/keras/src/saving/saving_lib.py:719: UserWarning: Skipping variable loading for optimizer 'adam', because it has 2 variables whereas the saved optimizer has 38 variables. \n",
      "  saveable.load_own_variables(weights_store.get(inner_path))\n",
      "/Users/ralf/Projects/learning-projects/datascience-bootcamp/sep24_bds_int_medical/.venv/lib/python3.12/site-packages/keras/src/backend/tensorflow/trainer.py:75: UserWarning: The model does not have any trainable weights.\n",
      "  warnings.warn(\"The model does not have any trainable weights.\")\n"
     ]
    },
    {
     "name": "stdout",
     "output_type": "stream",
     "text": [
      "7147/7147 - 23s - 3ms/step - loss: 3.5541 - rmse: 3.7638\n",
      "1787/1787 - 4s - 2ms/step\n"
     ]
    },
    {
     "name": "stderr",
     "output_type": "stream",
     "text": [
      "/Users/ralf/Projects/learning-projects/datascience-bootcamp/sep24_bds_int_medical/.venv/lib/python3.12/site-packages/keras/src/saving/saving_lib.py:719: UserWarning: Skipping variable loading for optimizer 'adam', because it has 2 variables whereas the saved optimizer has 38 variables. \n",
      "  saveable.load_own_variables(weights_store.get(inner_path))\n",
      "/Users/ralf/Projects/learning-projects/datascience-bootcamp/sep24_bds_int_medical/.venv/lib/python3.12/site-packages/keras/src/backend/tensorflow/trainer.py:75: UserWarning: The model does not have any trainable weights.\n",
      "  warnings.warn(\"The model does not have any trainable weights.\")\n"
     ]
    },
    {
     "name": "stdout",
     "output_type": "stream",
     "text": [
      "7147/7147 - 17s - 2ms/step - loss: 3.5392 - rmse: 3.7700\n",
      "1787/1787 - 2s - 1ms/step\n",
      "15:33:11 - Predicting\n",
      "1054/1054 - 1s - 953us/step\n",
      "15:33:23 - Calculating scores\n",
      "15:33:23 - R^2: 0.6636521266374934, RMSE: 1.8825013624790456, MAE: 1.383511475774381, MSE: 3.543811379735463\n",
      "15:33:23 - Training finished\n",
      "Final estimator RMSE: 1.8824343782060715\n",
      "Final estimator R2: 0.6683370364611421\n",
      "Final estimator MSE: 3.543614917493995\n",
      "Final estimator MAE: 1.3831727101203941\n"
     ]
    },
    {
     "data": {
      "text/plain": [
       "<Figure size 640x480 with 1 Axes>"
      ],
      "image/png": "[encoded data removed]"
     },
     "metadata": {},
     "output_type": "display_data"
    },
    {
     "data": {
      "text/plain": [
       "<Figure size 640x480 with 1 Axes>"
      ],
      "image/png": "[encoded data removed]"
     },
     "metadata": {},
     "output_type": "display_data"
    }
   ],
   "execution_count": 14
  },
  {
   "metadata": {
    "ExecuteTime": {
     "end_time": "2024-11-28T14:37:54.102062Z",
     "start_time": "2024-11-28T14:33:23.738501Z"
    }
   },
   "cell_type": "code",
   "source": [
    "import numpy as np\n",
    "from pipelines_selected_features import pipeline\n",
    "\n",
    "all_train_data_transformed = pipeline.fit_transform(pd.concat([train_data, additional_train_data], axis=0))\n",
    "\n",
    "X_train = all_train_data_transformed.drop(columns=['bg+1:00'])\n",
    "y_train = all_train_data_transformed['bg+1:00']\n",
    "X_test = pipeline.transform(test_data)\n",
    "\n",
    "model.fit(X_train, y_train)"
   ],
   "id": "43cf99724f468af4",
   "outputs": [
    {
     "name": "stderr",
     "output_type": "stream",
     "text": [
      "/Users/ralf/Projects/learning-projects/datascience-bootcamp/sep24_bds_int_medical/.venv/lib/python3.12/site-packages/keras/src/saving/saving_lib.py:719: UserWarning: Skipping variable loading for optimizer 'adam', because it has 2 variables whereas the saved optimizer has 38 variables. \n",
      "  saveable.load_own_variables(weights_store.get(inner_path))\n",
      "/Users/ralf/Projects/learning-projects/datascience-bootcamp/sep24_bds_int_medical/.venv/lib/python3.12/site-packages/keras/src/backend/tensorflow/trainer.py:75: UserWarning: The model does not have any trainable weights.\n",
      "  warnings.warn(\"The model does not have any trainable weights.\")\n"
     ]
    },
    {
     "name": "stdout",
     "output_type": "stream",
     "text": [
      "9987/9987 - 6s - 570us/step - loss: 3.7683 - rmse: 3.8373\n"
     ]
    },
    {
     "name": "stderr",
     "output_type": "stream",
     "text": [
      "/Users/ralf/Projects/learning-projects/datascience-bootcamp/sep24_bds_int_medical/.venv/lib/python3.12/site-packages/keras/src/saving/saving_lib.py:719: UserWarning: Skipping variable loading for optimizer 'adam', because it has 2 variables whereas the saved optimizer has 38 variables. \n",
      "  saveable.load_own_variables(weights_store.get(inner_path))\n",
      "/Users/ralf/Projects/learning-projects/datascience-bootcamp/sep24_bds_int_medical/.venv/lib/python3.12/site-packages/keras/src/backend/tensorflow/trainer.py:75: UserWarning: The model does not have any trainable weights.\n",
      "  warnings.warn(\"The model does not have any trainable weights.\")\n"
     ]
    },
    {
     "name": "stdout",
     "output_type": "stream",
     "text": [
      "7990/7990 - 5s - 609us/step - loss: 3.7848 - rmse: 3.8984\n",
      "1998/1998 - 1s - 536us/step\n"
     ]
    },
    {
     "name": "stderr",
     "output_type": "stream",
     "text": [
      "/Users/ralf/Projects/learning-projects/datascience-bootcamp/sep24_bds_int_medical/.venv/lib/python3.12/site-packages/keras/src/saving/saving_lib.py:719: UserWarning: Skipping variable loading for optimizer 'adam', because it has 2 variables whereas the saved optimizer has 38 variables. \n",
      "  saveable.load_own_variables(weights_store.get(inner_path))\n",
      "/Users/ralf/Projects/learning-projects/datascience-bootcamp/sep24_bds_int_medical/.venv/lib/python3.12/site-packages/keras/src/backend/tensorflow/trainer.py:75: UserWarning: The model does not have any trainable weights.\n",
      "  warnings.warn(\"The model does not have any trainable weights.\")\n"
     ]
    },
    {
     "name": "stdout",
     "output_type": "stream",
     "text": [
      "7990/7990 - 5s - 595us/step - loss: 4.0070 - rmse: 3.8798\n",
      "1998/1998 - 1s - 536us/step\n"
     ]
    },
    {
     "name": "stderr",
     "output_type": "stream",
     "text": [
      "/Users/ralf/Projects/learning-projects/datascience-bootcamp/sep24_bds_int_medical/.venv/lib/python3.12/site-packages/keras/src/saving/saving_lib.py:719: UserWarning: Skipping variable loading for optimizer 'adam', because it has 2 variables whereas the saved optimizer has 38 variables. \n",
      "  saveable.load_own_variables(weights_store.get(inner_path))\n",
      "/Users/ralf/Projects/learning-projects/datascience-bootcamp/sep24_bds_int_medical/.venv/lib/python3.12/site-packages/keras/src/backend/tensorflow/trainer.py:75: UserWarning: The model does not have any trainable weights.\n",
      "  warnings.warn(\"The model does not have any trainable weights.\")\n"
     ]
    },
    {
     "name": "stdout",
     "output_type": "stream",
     "text": [
      "7990/7990 - 5s - 595us/step - loss: 3.8303 - rmse: 3.8249\n",
      "1998/1998 - 1s - 539us/step\n"
     ]
    },
    {
     "name": "stderr",
     "output_type": "stream",
     "text": [
      "/Users/ralf/Projects/learning-projects/datascience-bootcamp/sep24_bds_int_medical/.venv/lib/python3.12/site-packages/keras/src/saving/saving_lib.py:719: UserWarning: Skipping variable loading for optimizer 'adam', because it has 2 variables whereas the saved optimizer has 38 variables. \n",
      "  saveable.load_own_variables(weights_store.get(inner_path))\n",
      "/Users/ralf/Projects/learning-projects/datascience-bootcamp/sep24_bds_int_medical/.venv/lib/python3.12/site-packages/keras/src/backend/tensorflow/trainer.py:75: UserWarning: The model does not have any trainable weights.\n",
      "  warnings.warn(\"The model does not have any trainable weights.\")\n"
     ]
    },
    {
     "name": "stdout",
     "output_type": "stream",
     "text": [
      "7990/7990 - 5s - 625us/step - loss: 3.9378 - rmse: 3.8135\n",
      "1998/1998 - 1s - 534us/step\n"
     ]
    },
    {
     "name": "stderr",
     "output_type": "stream",
     "text": [
      "/Users/ralf/Projects/learning-projects/datascience-bootcamp/sep24_bds_int_medical/.venv/lib/python3.12/site-packages/keras/src/saving/saving_lib.py:719: UserWarning: Skipping variable loading for optimizer 'adam', because it has 2 variables whereas the saved optimizer has 38 variables. \n",
      "  saveable.load_own_variables(weights_store.get(inner_path))\n",
      "/Users/ralf/Projects/learning-projects/datascience-bootcamp/sep24_bds_int_medical/.venv/lib/python3.12/site-packages/keras/src/backend/tensorflow/trainer.py:75: UserWarning: The model does not have any trainable weights.\n",
      "  warnings.warn(\"The model does not have any trainable weights.\")\n"
     ]
    },
    {
     "name": "stdout",
     "output_type": "stream",
     "text": [
      "7990/7990 - 5s - 601us/step - loss: 3.3206 - rmse: 3.7816\n",
      "1998/1998 - 1s - 535us/step\n"
     ]
    },
    {
     "data": {
      "text/plain": [
       "StackingRegressor(estimators=[('hgb',\n",
       "                               HistGradientBoostingRegressor(max_depth=5,\n",
       "                                                             max_iter=200)),\n",
       "                              ('lasso_lars_ic',\n",
       "                               LassoLarsIC(eps=0.03922948513965659,\n",
       "                                           max_iter=1944,\n",
       "                                           noise_variance=5.4116687755186035e-05)),\n",
       "                              ('knn', KNeighborsRegressor(n_neighbors=7)),\n",
       "                              ('xgb',\n",
       "                               XGBRegressor(base_score=None, booster=None,\n",
       "                                            callbacks=None,\n",
       "                                            colsample_bylevel=None,\n",
       "                                            colsample_bynode=No...\n",
       "                                            max_cat_to_onehot=None,\n",
       "                                            max_delta_step=None, max_depth=6,\n",
       "                                            max_leaves=None, min_child_weight=6,\n",
       "                                            missing=nan,\n",
       "                                            monotone_constraints=None,\n",
       "                                            multi_strategy=None,\n",
       "                                            n_estimators=1000, n_jobs=None,\n",
       "                                            num_parallel_tree=None,\n",
       "                                            random_state=42, ...)),\n",
       "                              ('dnn',\n",
       "                               KerasRegressor(model=<function model_with_pretrained_weights at 0x1150104a0>, verbose=2))],\n",
       "                  final_estimator=Ridge(alpha=0.1), n_jobs=1, verbose=2)"
      ],
      "text/html": [
       "<style>#sk-container-id-1 {\n",
       "  /* Definition of color scheme common for light and dark mode */\n",
       "  --sklearn-color-text: black;\n",
       "  --sklearn-color-line: gray;\n",
       "  /* Definition of color scheme for unfitted estimators */\n",
       "  --sklearn-color-unfitted-level-0: #fff5e6;\n",
       "  --sklearn-color-unfitted-level-1: #f6e4d2;\n",
       "  --sklearn-color-unfitted-level-2: #ffe0b3;\n",
       "  --sklearn-color-unfitted-level-3: chocolate;\n",
       "  /* Definition of color scheme for fitted estimators */\n",
       "  --sklearn-color-fitted-level-0: #f0f8ff;\n",
       "  --sklearn-color-fitted-level-1: #d4ebff;\n",
       "  --sklearn-color-fitted-level-2: #b3dbfd;\n",
       "  --sklearn-color-fitted-level-3: cornflowerblue;\n",
       "\n",
       "  /* Specific color for light theme */\n",
       "  --sklearn-color-text-on-default-background: var(--sg-text-color, var(--theme-code-foreground, var(--jp-content-font-color1, black)));\n",
       "  --sklearn-color-background: var(--sg-background-color, var(--theme-background, var(--jp-layout-color0, white)));\n",
       "  --sklearn-color-border-box: var(--sg-text-color, var(--theme-code-foreground, var(--jp-content-font-color1, black)));\n",
       "  --sklearn-color-icon: #696969;\n",
       "\n",
       "  @media (prefers-color-scheme: dark) {\n",
       "    /* Redefinition of color scheme for dark theme */\n",
       "    --sklearn-color-text-on-default-background: var(--sg-text-color, var(--theme-code-foreground, var(--jp-content-font-color1, white)));\n",
       "    --sklearn-color-background: var(--sg-background-color, var(--theme-background, var(--jp-layout-color0, #111)));\n",
       "    --sklearn-color-border-box: var(--sg-text-color, var(--theme-code-foreground, var(--jp-content-font-color1, white)));\n",
       "    --sklearn-color-icon: #878787;\n",
       "  }\n",
       "}\n",
       "\n",
       "#sk-container-id-1 {\n",
       "  color: var(--sklearn-color-text);\n",
       "}\n",
       "\n",
       "#sk-container-id-1 pre {\n",
       "  padding: 0;\n",
       "}\n",
       "\n",
       "#sk-container-id-1 input.sk-hidden--visually {\n",
       "  border: 0;\n",
       "  clip: rect(1px 1px 1px 1px);\n",
       "  clip: rect(1px, 1px, 1px, 1px);\n",
       "  height: 1px;\n",
       "  margin: -1px;\n",
       "  overflow: hidden;\n",
       "  padding: 0;\n",
       "  position: absolute;\n",
       "  width: 1px;\n",
       "}\n",
       "\n",
       "#sk-container-id-1 div.sk-dashed-wrapped {\n",
       "  border: 1px dashed var(--sklearn-color-line);\n",
       "  margin: 0 0.4em 0.5em 0.4em;\n",
       "  box-sizing: border-box;\n",
       "  padding-bottom: 0.4em;\n",
       "  background-color: var(--sklearn-color-background);\n",
       "}\n",
       "\n",
       "#sk-container-id-1 div.sk-container {\n",
       "  /* jupyter's `normalize.less` sets `[hidden] { display: none; }`\n",
       "     but bootstrap.min.css set `[hidden] { display: none !important; }`\n",
       "     so we also need the `!important` here to be able to override the\n",
       "     default hidden behavior on the sphinx rendered scikit-learn.org.\n",
       "     See: https://github.com/scikit-learn/scikit-learn/issues/21755 */\n",
       "  display: inline-block !important;\n",
       "  position: relative;\n",
       "}\n",
       "\n",
       "#sk-container-id-1 div.sk-text-repr-fallback {\n",
       "  display: none;\n",
       "}\n",
       "\n",
       "div.sk-parallel-item,\n",
       "div.sk-serial,\n",
       "div.sk-item {\n",
       "  /* draw centered vertical line to link estimators */\n",
       "  background-image: linear-gradient(var(--sklearn-color-text-on-default-background), var(--sklearn-color-text-on-default-background));\n",
       "  background-size: 2px 100%;\n",
       "  background-repeat: no-repeat;\n",
       "  background-position: center center;\n",
       "}\n",
       "\n",
       "/* Parallel-specific style estimator block */\n",
       "\n",
       "#sk-container-id-1 div.sk-parallel-item::after {\n",
       "  content: \"\";\n",
       "  width: 100%;\n",
       "  border-bottom: 2px solid var(--sklearn-color-text-on-default-background);\n",
       "  flex-grow: 1;\n",
       "}\n",
       "\n",
       "#sk-container-id-1 div.sk-parallel {\n",
       "  display: flex;\n",
       "  align-items: stretch;\n",
       "  justify-content: center;\n",
       "  background-color: var(--sklearn-color-background);\n",
       "  position: relative;\n",
       "}\n",
       "\n",
       "#sk-container-id-1 div.sk-parallel-item {\n",
       "  display: flex;\n",
       "  flex-direction: column;\n",
       "}\n",
       "\n",
       "#sk-container-id-1 div.sk-parallel-item:first-child::after {\n",
       "  align-self: flex-end;\n",
       "  width: 50%;\n",
       "}\n",
       "\n",
       "#sk-container-id-1 div.sk-parallel-item:last-child::after {\n",
       "  align-self: flex-start;\n",
       "  width: 50%;\n",
       "}\n",
       "\n",
       "#sk-container-id-1 div.sk-parallel-item:only-child::after {\n",
       "  width: 0;\n",
       "}\n",
       "\n",
       "/* Serial-specific style estimator block */\n",
       "\n",
       "#sk-container-id-1 div.sk-serial {\n",
       "  display: flex;\n",
       "  flex-direction: column;\n",
       "  align-items: center;\n",
       "  background-color: var(--sklearn-color-background);\n",
       "  padding-right: 1em;\n",
       "  padding-left: 1em;\n",
       "}\n",
       "\n",
       "\n",
       "/* Toggleable style: style used for estimator/Pipeline/ColumnTransformer box that is\n",
       "clickable and can be expanded/collapsed.\n",
       "- Pipeline and ColumnTransformer use this feature and define the default style\n",
       "- Estimators will overwrite some part of the style using the `sk-estimator` class\n",
       "*/\n",
       "\n",
       "/* Pipeline and ColumnTransformer style (default) */\n",
       "\n",
       "#sk-container-id-1 div.sk-toggleable {\n",
       "  /* Default theme specific background. It is overwritten whether we have a\n",
       "  specific estimator or a Pipeline/ColumnTransformer */\n",
       "  background-color: var(--sklearn-color-background);\n",
       "}\n",
       "\n",
       "/* Toggleable label */\n",
       "#sk-container-id-1 label.sk-toggleable__label {\n",
       "  cursor: pointer;\n",
       "  display: block;\n",
       "  width: 100%;\n",
       "  margin-bottom: 0;\n",
       "  padding: 0.5em;\n",
       "  box-sizing: border-box;\n",
       "  text-align: center;\n",
       "}\n",
       "\n",
       "#sk-container-id-1 label.sk-toggleable__label-arrow:before {\n",
       "  /* Arrow on the left of the label */\n",
       "  content: \"▸\";\n",
       "  float: left;\n",
       "  margin-right: 0.25em;\n",
       "  color: var(--sklearn-color-icon);\n",
       "}\n",
       "\n",
       "#sk-container-id-1 label.sk-toggleable__label-arrow:hover:before {\n",
       "  color: var(--sklearn-color-text);\n",
       "}\n",
       "\n",
       "/* Toggleable content - dropdown */\n",
       "\n",
       "#sk-container-id-1 div.sk-toggleable__content {\n",
       "  max-height: 0;\n",
       "  max-width: 0;\n",
       "  overflow: hidden;\n",
       "  text-align: left;\n",
       "  /* unfitted */\n",
       "  background-color: var(--sklearn-color-unfitted-level-0);\n",
       "}\n",
       "\n",
       "#sk-container-id-1 div.sk-toggleable__content.fitted {\n",
       "  /* fitted */\n",
       "  background-color: var(--sklearn-color-fitted-level-0);\n",
       "}\n",
       "\n",
       "#sk-container-id-1 div.sk-toggleable__content pre {\n",
       "  margin: 0.2em;\n",
       "  border-radius: 0.25em;\n",
       "  color: var(--sklearn-color-text);\n",
       "  /* unfitted */\n",
       "  background-color: var(--sklearn-color-unfitted-level-0);\n",
       "}\n",
       "\n",
       "#sk-container-id-1 div.sk-toggleable__content.fitted pre {\n",
       "  /* unfitted */\n",
       "  background-color: var(--sklearn-color-fitted-level-0);\n",
       "}\n",
       "\n",
       "#sk-container-id-1 input.sk-toggleable__control:checked~div.sk-toggleable__content {\n",
       "  /* Expand drop-down */\n",
       "  max-height: 200px;\n",
       "  max-width: 100%;\n",
       "  overflow: auto;\n",
       "}\n",
       "\n",
       "#sk-container-id-1 input.sk-toggleable__control:checked~label.sk-toggleable__label-arrow:before {\n",
       "  content: \"▾\";\n",
       "}\n",
       "\n",
       "/* Pipeline/ColumnTransformer-specific style */\n",
       "\n",
       "#sk-container-id-1 div.sk-label input.sk-toggleable__control:checked~label.sk-toggleable__label {\n",
       "  color: var(--sklearn-color-text);\n",
       "  background-color: var(--sklearn-color-unfitted-level-2);\n",
       "}\n",
       "\n",
       "#sk-container-id-1 div.sk-label.fitted input.sk-toggleable__control:checked~label.sk-toggleable__label {\n",
       "  background-color: var(--sklearn-color-fitted-level-2);\n",
       "}\n",
       "\n",
       "/* Estimator-specific style */\n",
       "\n",
       "/* Colorize estimator box */\n",
       "#sk-container-id-1 div.sk-estimator input.sk-toggleable__control:checked~label.sk-toggleable__label {\n",
       "  /* unfitted */\n",
       "  background-color: var(--sklearn-color-unfitted-level-2);\n",
       "}\n",
       "\n",
       "#sk-container-id-1 div.sk-estimator.fitted input.sk-toggleable__control:checked~label.sk-toggleable__label {\n",
       "  /* fitted */\n",
       "  background-color: var(--sklearn-color-fitted-level-2);\n",
       "}\n",
       "\n",
       "#sk-container-id-1 div.sk-label label.sk-toggleable__label,\n",
       "#sk-container-id-1 div.sk-label label {\n",
       "  /* The background is the default theme color */\n",
       "  color: var(--sklearn-color-text-on-default-background);\n",
       "}\n",
       "\n",
       "/* On hover, darken the color of the background */\n",
       "#sk-container-id-1 div.sk-label:hover label.sk-toggleable__label {\n",
       "  color: var(--sklearn-color-text);\n",
       "  background-color: var(--sklearn-color-unfitted-level-2);\n",
       "}\n",
       "\n",
       "/* Label box, darken color on hover, fitted */\n",
       "#sk-container-id-1 div.sk-label.fitted:hover label.sk-toggleable__label.fitted {\n",
       "  color: var(--sklearn-color-text);\n",
       "  background-color: var(--sklearn-color-fitted-level-2);\n",
       "}\n",
       "\n",
       "/* Estimator label */\n",
       "\n",
       "#sk-container-id-1 div.sk-label label {\n",
       "  font-family: monospace;\n",
       "  font-weight: bold;\n",
       "  display: inline-block;\n",
       "  line-height: 1.2em;\n",
       "}\n",
       "\n",
       "#sk-container-id-1 div.sk-label-container {\n",
       "  text-align: center;\n",
       "}\n",
       "\n",
       "/* Estimator-specific */\n",
       "#sk-container-id-1 div.sk-estimator {\n",
       "  font-family: monospace;\n",
       "  border: 1px dotted var(--sklearn-color-border-box);\n",
       "  border-radius: 0.25em;\n",
       "  box-sizing: border-box;\n",
       "  margin-bottom: 0.5em;\n",
       "  /* unfitted */\n",
       "  background-color: var(--sklearn-color-unfitted-level-0);\n",
       "}\n",
       "\n",
       "#sk-container-id-1 div.sk-estimator.fitted {\n",
       "  /* fitted */\n",
       "  background-color: var(--sklearn-color-fitted-level-0);\n",
       "}\n",
       "\n",
       "/* on hover */\n",
       "#sk-container-id-1 div.sk-estimator:hover {\n",
       "  /* unfitted */\n",
       "  background-color: var(--sklearn-color-unfitted-level-2);\n",
       "}\n",
       "\n",
       "#sk-container-id-1 div.sk-estimator.fitted:hover {\n",
       "  /* fitted */\n",
       "  background-color: var(--sklearn-color-fitted-level-2);\n",
       "}\n",
       "\n",
       "/* Specification for estimator info (e.g. \"i\" and \"?\") */\n",
       "\n",
       "/* Common style for \"i\" and \"?\" */\n",
       "\n",
       ".sk-estimator-doc-link,\n",
       "a:link.sk-estimator-doc-link,\n",
       "a:visited.sk-estimator-doc-link {\n",
       "  float: right;\n",
       "  font-size: smaller;\n",
       "  line-height: 1em;\n",
       "  font-family: monospace;\n",
       "  background-color: var(--sklearn-color-background);\n",
       "  border-radius: 1em;\n",
       "  height: 1em;\n",
       "  width: 1em;\n",
       "  text-decoration: none !important;\n",
       "  margin-left: 1ex;\n",
       "  /* unfitted */\n",
       "  border: var(--sklearn-color-unfitted-level-1) 1pt solid;\n",
       "  color: var(--sklearn-color-unfitted-level-1);\n",
       "}\n",
       "\n",
       ".sk-estimator-doc-link.fitted,\n",
       "a:link.sk-estimator-doc-link.fitted,\n",
       "a:visited.sk-estimator-doc-link.fitted {\n",
       "  /* fitted */\n",
       "  border: var(--sklearn-color-fitted-level-1) 1pt solid;\n",
       "  color: var(--sklearn-color-fitted-level-1);\n",
       "}\n",
       "\n",
       "/* On hover */\n",
       "div.sk-estimator:hover .sk-estimator-doc-link:hover,\n",
       ".sk-estimator-doc-link:hover,\n",
       "div.sk-label-container:hover .sk-estimator-doc-link:hover,\n",
       ".sk-estimator-doc-link:hover {\n",
       "  /* unfitted */\n",
       "  background-color: var(--sklearn-color-unfitted-level-3);\n",
       "  color: var(--sklearn-color-background);\n",
       "  text-decoration: none;\n",
       "}\n",
       "\n",
       "div.sk-estimator.fitted:hover .sk-estimator-doc-link.fitted:hover,\n",
       ".sk-estimator-doc-link.fitted:hover,\n",
       "div.sk-label-container:hover .sk-estimator-doc-link.fitted:hover,\n",
       ".sk-estimator-doc-link.fitted:hover {\n",
       "  /* fitted */\n",
       "  background-color: var(--sklearn-color-fitted-level-3);\n",
       "  color: var(--sklearn-color-background);\n",
       "  text-decoration: none;\n",
       "}\n",
       "\n",
       "/* Span, style for the box shown on hovering the info icon */\n",
       ".sk-estimator-doc-link span {\n",
       "  display: none;\n",
       "  z-index: 9999;\n",
       "  position: relative;\n",
       "  font-weight: normal;\n",
       "  right: .2ex;\n",
       "  padding: .5ex;\n",
       "  margin: .5ex;\n",
       "  width: min-content;\n",
       "  min-width: 20ex;\n",
       "  max-width: 50ex;\n",
       "  color: var(--sklearn-color-text);\n",
       "  box-shadow: 2pt 2pt 4pt #999;\n",
       "  /* unfitted */\n",
       "  background: var(--sklearn-color-unfitted-level-0);\n",
       "  border: .5pt solid var(--sklearn-color-unfitted-level-3);\n",
       "}\n",
       "\n",
       ".sk-estimator-doc-link.fitted span {\n",
       "  /* fitted */\n",
       "  background: var(--sklearn-color-fitted-level-0);\n",
       "  border: var(--sklearn-color-fitted-level-3);\n",
       "}\n",
       "\n",
       ".sk-estimator-doc-link:hover span {\n",
       "  display: block;\n",
       "}\n",
       "\n",
       "/* \"?\"-specific style due to the `<a>` HTML tag */\n",
       "\n",
       "#sk-container-id-1 a.estimator_doc_link {\n",
       "  float: right;\n",
       "  font-size: 1rem;\n",
       "  line-height: 1em;\n",
       "  font-family: monospace;\n",
       "  background-color: var(--sklearn-color-background);\n",
       "  border-radius: 1rem;\n",
       "  height: 1rem;\n",
       "  width: 1rem;\n",
       "  text-decoration: none;\n",
       "  /* unfitted */\n",
       "  color: var(--sklearn-color-unfitted-level-1);\n",
       "  border: var(--sklearn-color-unfitted-level-1) 1pt solid;\n",
       "}\n",
       "\n",
       "#sk-container-id-1 a.estimator_doc_link.fitted {\n",
       "  /* fitted */\n",
       "  border: var(--sklearn-color-fitted-level-1) 1pt solid;\n",
       "  color: var(--sklearn-color-fitted-level-1);\n",
       "}\n",
       "\n",
       "/* On hover */\n",
       "#sk-container-id-1 a.estimator_doc_link:hover {\n",
       "  /* unfitted */\n",
       "  background-color: var(--sklearn-color-unfitted-level-3);\n",
       "  color: var(--sklearn-color-background);\n",
       "  text-decoration: none;\n",
       "}\n",
       "\n",
       "#sk-container-id-1 a.estimator_doc_link.fitted:hover {\n",
       "  /* fitted */\n",
       "  background-color: var(--sklearn-color-fitted-level-3);\n",
       "}\n",
       "</style><div id=\"sk-container-id-1\" class=\"sk-top-container\"><div class=\"sk-text-repr-fallback\"><pre>StackingRegressor(estimators=[(&#x27;hgb&#x27;,\n",
       "                               HistGradientBoostingRegressor(max_depth=5,\n",
       "                                                             max_iter=200)),\n",
       "                              (&#x27;lasso_lars_ic&#x27;,\n",
       "                               LassoLarsIC(eps=0.03922948513965659,\n",
       "                                           max_iter=1944,\n",
       "                                           noise_variance=5.4116687755186035e-05)),\n",
       "                              (&#x27;knn&#x27;, KNeighborsRegressor(n_neighbors=7)),\n",
       "                              (&#x27;xgb&#x27;,\n",
       "                               XGBRegressor(base_score=None, booster=None,\n",
       "                                            callbacks=None,\n",
       "                                            colsample_bylevel=None,\n",
       "                                            colsample_bynode=No...\n",
       "                                            max_cat_to_onehot=None,\n",
       "                                            max_delta_step=None, max_depth=6,\n",
       "                                            max_leaves=None, min_child_weight=6,\n",
       "                                            missing=nan,\n",
       "                                            monotone_constraints=None,\n",
       "                                            multi_strategy=None,\n",
       "                                            n_estimators=1000, n_jobs=None,\n",
       "                                            num_parallel_tree=None,\n",
       "                                            random_state=42, ...)),\n",
       "                              (&#x27;dnn&#x27;,\n",
       "                               KerasRegressor(model=&lt;function model_with_pretrained_weights at 0x1150104a0&gt;, verbose=2))],\n",
       "                  final_estimator=Ridge(alpha=0.1), n_jobs=1, verbose=2)</pre><b>In a Jupyter environment, please rerun this cell to show the HTML representation or trust the notebook. <br />On GitHub, the HTML representation is unable to render, please try loading this page with nbviewer.org.</b></div><div class=\"sk-container\" hidden><div class=\"sk-item sk-dashed-wrapped\"><div class=\"sk-label-container\"><div class=\"sk-label fitted sk-toggleable\"><input class=\"sk-toggleable__control sk-hidden--visually\" id=\"sk-estimator-id-1\" type=\"checkbox\" ><label for=\"sk-estimator-id-1\" class=\"sk-toggleable__label fitted sk-toggleable__label-arrow fitted\">&nbsp;&nbsp;StackingRegressor<a class=\"sk-estimator-doc-link fitted\" rel=\"noreferrer\" target=\"_blank\" href=\"https://scikit-learn.org/1.5/modules/generated/sklearn.ensemble.StackingRegressor.html\">?<span>Documentation for StackingRegressor</span></a><span class=\"sk-estimator-doc-link fitted\">i<span>Fitted</span></span></label><div class=\"sk-toggleable__content fitted\"><pre>StackingRegressor(estimators=[(&#x27;hgb&#x27;,\n",
       "                               HistGradientBoostingRegressor(max_depth=5,\n",
       "                                                             max_iter=200)),\n",
       "                              (&#x27;lasso_lars_ic&#x27;,\n",
       "                               LassoLarsIC(eps=0.03922948513965659,\n",
       "                                           max_iter=1944,\n",
       "                                           noise_variance=5.4116687755186035e-05)),\n",
       "                              (&#x27;knn&#x27;, KNeighborsRegressor(n_neighbors=7)),\n",
       "                              (&#x27;xgb&#x27;,\n",
       "                               XGBRegressor(base_score=None, booster=None,\n",
       "                                            callbacks=None,\n",
       "                                            colsample_bylevel=None,\n",
       "                                            colsample_bynode=No...\n",
       "                                            max_cat_to_onehot=None,\n",
       "                                            max_delta_step=None, max_depth=6,\n",
       "                                            max_leaves=None, min_child_weight=6,\n",
       "                                            missing=nan,\n",
       "                                            monotone_constraints=None,\n",
       "                                            multi_strategy=None,\n",
       "                                            n_estimators=1000, n_jobs=None,\n",
       "                                            num_parallel_tree=None,\n",
       "                                            random_state=42, ...)),\n",
       "                              (&#x27;dnn&#x27;,\n",
       "                               KerasRegressor(model=&lt;function model_with_pretrained_weights at 0x1150104a0&gt;, verbose=2))],\n",
       "                  final_estimator=Ridge(alpha=0.1), n_jobs=1, verbose=2)</pre></div> </div></div><div class=\"sk-serial\"><div class=\"sk-item\"><div class=\"sk-parallel\"><div class=\"sk-parallel-item\"><div class=\"sk-item\"><div class=\"sk-label-container\"><div class=\"sk-label fitted sk-toggleable\"><label>hgb</label></div></div><div class=\"sk-serial\"><div class=\"sk-item\"><div class=\"sk-estimator fitted sk-toggleable\"><input class=\"sk-toggleable__control sk-hidden--visually\" id=\"sk-estimator-id-2\" type=\"checkbox\" ><label for=\"sk-estimator-id-2\" class=\"sk-toggleable__label fitted sk-toggleable__label-arrow fitted\">&nbsp;HistGradientBoostingRegressor<a class=\"sk-estimator-doc-link fitted\" rel=\"noreferrer\" target=\"_blank\" href=\"https://scikit-learn.org/1.5/modules/generated/sklearn.ensemble.HistGradientBoostingRegressor.html\">?<span>Documentation for HistGradientBoostingRegressor</span></a></label><div class=\"sk-toggleable__content fitted\"><pre>HistGradientBoostingRegressor(max_depth=5, max_iter=200)</pre></div> </div></div></div></div></div><div class=\"sk-parallel-item\"><div class=\"sk-item\"><div class=\"sk-label-container\"><div class=\"sk-label fitted sk-toggleable\"><label>lasso_lars_ic</label></div></div><div class=\"sk-serial\"><div class=\"sk-item\"><div class=\"sk-estimator fitted sk-toggleable\"><input class=\"sk-toggleable__control sk-hidden--visually\" id=\"sk-estimator-id-3\" type=\"checkbox\" ><label for=\"sk-estimator-id-3\" class=\"sk-toggleable__label fitted sk-toggleable__label-arrow fitted\">&nbsp;LassoLarsIC<a class=\"sk-estimator-doc-link fitted\" rel=\"noreferrer\" target=\"_blank\" href=\"https://scikit-learn.org/1.5/modules/generated/sklearn.linear_model.LassoLarsIC.html\">?<span>Documentation for LassoLarsIC</span></a></label><div class=\"sk-toggleable__content fitted\"><pre>LassoLarsIC(eps=0.03922948513965659, max_iter=1944,\n",
       "            noise_variance=5.4116687755186035e-05)</pre></div> </div></div></div></div></div><div class=\"sk-parallel-item\"><div class=\"sk-item\"><div class=\"sk-label-container\"><div class=\"sk-label fitted sk-toggleable\"><label>knn</label></div></div><div class=\"sk-serial\"><div class=\"sk-item\"><div class=\"sk-estimator fitted sk-toggleable\"><input class=\"sk-toggleable__control sk-hidden--visually\" id=\"sk-estimator-id-4\" type=\"checkbox\" ><label for=\"sk-estimator-id-4\" class=\"sk-toggleable__label fitted sk-toggleable__label-arrow fitted\">&nbsp;KNeighborsRegressor<a class=\"sk-estimator-doc-link fitted\" rel=\"noreferrer\" target=\"_blank\" href=\"https://scikit-learn.org/1.5/modules/generated/sklearn.neighbors.KNeighborsRegressor.html\">?<span>Documentation for KNeighborsRegressor</span></a></label><div class=\"sk-toggleable__content fitted\"><pre>KNeighborsRegressor(n_neighbors=7)</pre></div> </div></div></div></div></div><div class=\"sk-parallel-item\"><div class=\"sk-item\"><div class=\"sk-label-container\"><div class=\"sk-label fitted sk-toggleable\"><label>xgb</label></div></div><div class=\"sk-serial\"><div class=\"sk-item\"><div class=\"sk-estimator fitted sk-toggleable\"><input class=\"sk-toggleable__control sk-hidden--visually\" id=\"sk-estimator-id-5\" type=\"checkbox\" ><label for=\"sk-estimator-id-5\" class=\"sk-toggleable__label fitted sk-toggleable__label-arrow fitted\">XGBRegressor</label><div class=\"sk-toggleable__content fitted\"><pre>XGBRegressor(base_score=None, booster=None, callbacks=None,\n",
       "             colsample_bylevel=None, colsample_bynode=None,\n",
       "             colsample_bytree=0.8, device=None, early_stopping_rounds=None,\n",
       "             enable_categorical=False, eval_metric=None, feature_types=None,\n",
       "             gamma=1, grow_policy=None, importance_type=None,\n",
       "             interaction_constraints=None, learning_rate=0.05, max_bin=None,\n",
       "             max_cat_threshold=None, max_cat_to_onehot=None,\n",
       "             max_delta_step=None, max_depth=6, max_leaves=None,\n",
       "             min_child_weight=6, missing=nan, monotone_constraints=None,\n",
       "             multi_strategy=None, n_estimators=1000, n_jobs=None,\n",
       "             num_parallel_tree=None, random_state=42, ...)</pre></div> </div></div></div></div></div><div class=\"sk-parallel-item\"><div class=\"sk-item\"><div class=\"sk-label-container\"><div class=\"sk-label fitted sk-toggleable\"><label>dnn</label></div></div><div class=\"sk-serial\"><div class=\"sk-item\"><div class=\"sk-estimator fitted sk-toggleable\"><input class=\"sk-toggleable__control sk-hidden--visually\" id=\"sk-estimator-id-6\" type=\"checkbox\" ><label for=\"sk-estimator-id-6\" class=\"sk-toggleable__label fitted sk-toggleable__label-arrow fitted\">KerasRegressor</label><div class=\"sk-toggleable__content fitted\"><pre>KerasRegressor(\n",
       "\tmodel=&lt;function model_with_pretrained_weights at 0x1150104a0&gt;\n",
       "\tbuild_fn=None\n",
       "\twarm_start=False\n",
       "\trandom_state=None\n",
       "\toptimizer=rmsprop\n",
       "\tloss=None\n",
       "\tmetrics=None\n",
       "\tbatch_size=None\n",
       "\tvalidation_batch_size=None\n",
       "\tverbose=2\n",
       "\tcallbacks=None\n",
       "\tvalidation_split=0.0\n",
       "\tshuffle=True\n",
       "\trun_eagerly=False\n",
       "\tepochs=1\n",
       ")</pre></div> </div></div></div></div></div></div></div><div class=\"sk-item\"><div class=\"sk-parallel\"><div class=\"sk-parallel-item\"><div class=\"sk-item\"><div class=\"sk-label-container\"><div class=\"sk-label fitted sk-toggleable\"><label>final_estimator</label></div></div><div class=\"sk-serial\"><div class=\"sk-item\"><div class=\"sk-estimator fitted sk-toggleable\"><input class=\"sk-toggleable__control sk-hidden--visually\" id=\"sk-estimator-id-7\" type=\"checkbox\" ><label for=\"sk-estimator-id-7\" class=\"sk-toggleable__label fitted sk-toggleable__label-arrow fitted\">&nbsp;Ridge<a class=\"sk-estimator-doc-link fitted\" rel=\"noreferrer\" target=\"_blank\" href=\"https://scikit-learn.org/1.5/modules/generated/sklearn.linear_model.Ridge.html\">?<span>Documentation for Ridge</span></a></label><div class=\"sk-toggleable__content fitted\"><pre>Ridge(alpha=0.1)</pre></div> </div></div></div></div></div></div></div></div></div></div></div>"
      ]
     },
     "execution_count": 15,
     "metadata": {},
     "output_type": "execute_result"
    }
   ],
   "execution_count": 15
  },
  {
   "metadata": {
    "ExecuteTime": {
     "end_time": "2024-11-28T14:37:55.713193Z",
     "start_time": "2024-11-28T14:37:54.133418Z"
    }
   },
   "cell_type": "code",
   "source": [
    "y_pred = model.predict(X_test)\n",
    "test_data['bg+1:00'] = y_pred\n",
    "\n",
    "if np.sum(y_pred < 0) > 0:\n",
    "    print(f'Number of negative values: {np.sum(y_pred < 0)}')\n",
    "    bg_min_train = np.min(y_train)\n",
    "    print(f'Min value: {np.min(y_pred)}')\n",
    "    print(f'Filling negative values with {bg_min_train}')\n",
    "    y_pred = np.where(y_pred < 0, bg_min_train, y_pred)\n",
    "\n",
    "test_data['bg+1:00'] = y_pred\n",
    "test_data.head()"
   ],
   "id": "4bc5c6a7c86b6f3c",
   "outputs": [
    {
     "name": "stdout",
     "output_type": "stream",
     "text": [
      "114/114 - 0s - 1ms/step\n"
     ]
    },
    {
     "data": {
      "text/plain": [
       "         p_num      time  bg-5:55  bg-5:50  bg-5:45  bg-5:40  bg-5:35  \\\n",
       "id                                                                      \n",
       "p01_8459   p01  06:45:00      NaN      9.2      NaN      NaN     10.2   \n",
       "p01_8460   p01  11:25:00      NaN      NaN      9.9      NaN      NaN   \n",
       "p01_8461   p01  14:45:00      NaN      5.5      NaN      NaN      5.5   \n",
       "p01_8462   p01  04:30:00      NaN      3.4      NaN      NaN      3.9   \n",
       "p01_8463   p01  04:20:00      NaN      NaN      8.3      NaN      NaN   \n",
       "\n",
       "          bg-5:30  bg-5:25  bg-5:20  ...  activity-0:40  activity-0:35  \\\n",
       "id                                   ...                                 \n",
       "p01_8459      NaN      NaN     10.3  ...            NaN            NaN   \n",
       "p01_8460      9.4      NaN      NaN  ...            NaN            NaN   \n",
       "p01_8461      NaN      NaN      5.2  ...            NaN            NaN   \n",
       "p01_8462      NaN      NaN      4.7  ...            NaN            NaN   \n",
       "p01_8463     10.0      NaN      NaN  ...            NaN            NaN   \n",
       "\n",
       "          activity-0:30  activity-0:25  activity-0:20  activity-0:15  \\\n",
       "id                                                                     \n",
       "p01_8459            NaN            NaN            NaN            NaN   \n",
       "p01_8460            NaN            NaN            NaN            NaN   \n",
       "p01_8461            NaN            NaN            NaN            NaN   \n",
       "p01_8462            NaN            NaN            NaN            NaN   \n",
       "p01_8463            NaN            NaN            NaN            NaN   \n",
       "\n",
       "          activity-0:10  activity-0:05  activity-0:00    bg+1:00  \n",
       "id                                                                \n",
       "p01_8459            NaN            NaN            NaN   8.761502  \n",
       "p01_8460           Walk           Walk           Walk   6.429156  \n",
       "p01_8461            NaN            NaN            NaN   8.039436  \n",
       "p01_8462            NaN            NaN            NaN  11.585248  \n",
       "p01_8463            NaN            NaN            NaN   8.891765  \n",
       "\n",
       "[5 rows x 507 columns]"
      ],
      "text/html": [
       "<div>\n",
       "<style scoped>\n",
       "    .dataframe tbody tr th:only-of-type {\n",
       "        vertical-align: middle;\n",
       "    }\n",
       "\n",
       "    .dataframe tbody tr th {\n",
       "        vertical-align: top;\n",
       "    }\n",
       "\n",
       "    .dataframe thead th {\n",
       "        text-align: right;\n",
       "    }\n",
       "</style>\n",
       "<table border=\"1\" class=\"dataframe\">\n",
       "  <thead>\n",
       "    <tr style=\"text-align: right;\">\n",
       "      <th></th>\n",
       "      <th>p_num</th>\n",
       "      <th>time</th>\n",
       "      <th>bg-5:55</th>\n",
       "      <th>bg-5:50</th>\n",
       "      <th>bg-5:45</th>\n",
       "      <th>bg-5:40</th>\n",
       "      <th>bg-5:35</th>\n",
       "      <th>bg-5:30</th>\n",
       "      <th>bg-5:25</th>\n",
       "      <th>bg-5:20</th>\n",
       "      <th>...</th>\n",
       "      <th>activity-0:40</th>\n",
       "      <th>activity-0:35</th>\n",
       "      <th>activity-0:30</th>\n",
       "      <th>activity-0:25</th>\n",
       "      <th>activity-0:20</th>\n",
       "      <th>activity-0:15</th>\n",
       "      <th>activity-0:10</th>\n",
       "      <th>activity-0:05</th>\n",
       "      <th>activity-0:00</th>\n",
       "      <th>bg+1:00</th>\n",
       "    </tr>\n",
       "    <tr>\n",
       "      <th>id</th>\n",
       "      <th></th>\n",
       "      <th></th>\n",
       "      <th></th>\n",
       "      <th></th>\n",
       "      <th></th>\n",
       "      <th></th>\n",
       "      <th></th>\n",
       "      <th></th>\n",
       "      <th></th>\n",
       "      <th></th>\n",
       "      <th></th>\n",
       "      <th></th>\n",
       "      <th></th>\n",
       "      <th></th>\n",
       "      <th></th>\n",
       "      <th></th>\n",
       "      <th></th>\n",
       "      <th></th>\n",
       "      <th></th>\n",
       "      <th></th>\n",
       "      <th></th>\n",
       "    </tr>\n",
       "  </thead>\n",
       "  <tbody>\n",
       "    <tr>\n",
       "      <th>p01_8459</th>\n",
       "      <td>p01</td>\n",
       "      <td>06:45:00</td>\n",
       "      <td>NaN</td>\n",
       "      <td>9.2</td>\n",
       "      <td>NaN</td>\n",
       "      <td>NaN</td>\n",
       "      <td>10.2</td>\n",
       "      <td>NaN</td>\n",
       "      <td>NaN</td>\n",
       "      <td>10.3</td>\n",
       "      <td>...</td>\n",
       "      <td>NaN</td>\n",
       "      <td>NaN</td>\n",
       "      <td>NaN</td>\n",
       "      <td>NaN</td>\n",
       "      <td>NaN</td>\n",
       "      <td>NaN</td>\n",
       "      <td>NaN</td>\n",
       "      <td>NaN</td>\n",
       "      <td>NaN</td>\n",
       "      <td>8.761502</td>\n",
       "    </tr>\n",
       "    <tr>\n",
       "      <th>p01_8460</th>\n",
       "      <td>p01</td>\n",
       "      <td>11:25:00</td>\n",
       "      <td>NaN</td>\n",
       "      <td>NaN</td>\n",
       "      <td>9.9</td>\n",
       "      <td>NaN</td>\n",
       "      <td>NaN</td>\n",
       "      <td>9.4</td>\n",
       "      <td>NaN</td>\n",
       "      <td>NaN</td>\n",
       "      <td>...</td>\n",
       "      <td>NaN</td>\n",
       "      <td>NaN</td>\n",
       "      <td>NaN</td>\n",
       "      <td>NaN</td>\n",
       "      <td>NaN</td>\n",
       "      <td>NaN</td>\n",
       "      <td>Walk</td>\n",
       "      <td>Walk</td>\n",
       "      <td>Walk</td>\n",
       "      <td>6.429156</td>\n",
       "    </tr>\n",
       "    <tr>\n",
       "      <th>p01_8461</th>\n",
       "      <td>p01</td>\n",
       "      <td>14:45:00</td>\n",
       "      <td>NaN</td>\n",
       "      <td>5.5</td>\n",
       "      <td>NaN</td>\n",
       "      <td>NaN</td>\n",
       "      <td>5.5</td>\n",
       "      <td>NaN</td>\n",
       "      <td>NaN</td>\n",
       "      <td>5.2</td>\n",
       "      <td>...</td>\n",
       "      <td>NaN</td>\n",
       "      <td>NaN</td>\n",
       "      <td>NaN</td>\n",
       "      <td>NaN</td>\n",
       "      <td>NaN</td>\n",
       "      <td>NaN</td>\n",
       "      <td>NaN</td>\n",
       "      <td>NaN</td>\n",
       "      <td>NaN</td>\n",
       "      <td>8.039436</td>\n",
       "    </tr>\n",
       "    <tr>\n",
       "      <th>p01_8462</th>\n",
       "      <td>p01</td>\n",
       "      <td>04:30:00</td>\n",
       "      <td>NaN</td>\n",
       "      <td>3.4</td>\n",
       "      <td>NaN</td>\n",
       "      <td>NaN</td>\n",
       "      <td>3.9</td>\n",
       "      <td>NaN</td>\n",
       "      <td>NaN</td>\n",
       "      <td>4.7</td>\n",
       "      <td>...</td>\n",
       "      <td>NaN</td>\n",
       "      <td>NaN</td>\n",
       "      <td>NaN</td>\n",
       "      <td>NaN</td>\n",
       "      <td>NaN</td>\n",
       "      <td>NaN</td>\n",
       "      <td>NaN</td>\n",
       "      <td>NaN</td>\n",
       "      <td>NaN</td>\n",
       "      <td>11.585248</td>\n",
       "    </tr>\n",
       "    <tr>\n",
       "      <th>p01_8463</th>\n",
       "      <td>p01</td>\n",
       "      <td>04:20:00</td>\n",
       "      <td>NaN</td>\n",
       "      <td>NaN</td>\n",
       "      <td>8.3</td>\n",
       "      <td>NaN</td>\n",
       "      <td>NaN</td>\n",
       "      <td>10.0</td>\n",
       "      <td>NaN</td>\n",
       "      <td>NaN</td>\n",
       "      <td>...</td>\n",
       "      <td>NaN</td>\n",
       "      <td>NaN</td>\n",
       "      <td>NaN</td>\n",
       "      <td>NaN</td>\n",
       "      <td>NaN</td>\n",
       "      <td>NaN</td>\n",
       "      <td>NaN</td>\n",
       "      <td>NaN</td>\n",
       "      <td>NaN</td>\n",
       "      <td>8.891765</td>\n",
       "    </tr>\n",
       "  </tbody>\n",
       "</table>\n",
       "<p>5 rows × 507 columns</p>\n",
       "</div>"
      ]
     },
     "execution_count": 16,
     "metadata": {},
     "output_type": "execute_result"
    }
   ],
   "execution_count": 16
  },
  {
   "metadata": {
    "ExecuteTime": {
     "end_time": "2024-11-28T14:37:55.899854Z",
     "start_time": "2024-11-28T14:37:55.891102Z"
    }
   },
   "cell_type": "code",
   "source": [
    "submission = pd.DataFrame(test_data['bg+1:00'])\n",
    "submission.to_csv(f'submission-{model_name}.csv')\n",
    "submission"
   ],
   "id": "5167875e1afa3ec1",
   "outputs": [
    {
     "data": {
      "text/plain": [
       "            bg+1:00\n",
       "id                 \n",
       "p01_8459   8.761502\n",
       "p01_8460   6.429156\n",
       "p01_8461   8.039436\n",
       "p01_8462  11.585248\n",
       "p01_8463   8.891765\n",
       "...             ...\n",
       "p24_256    6.634699\n",
       "p24_257   12.075657\n",
       "p24_258    6.574203\n",
       "p24_259    8.946322\n",
       "p24_260    6.366370\n",
       "\n",
       "[3644 rows x 1 columns]"
      ],
      "text/html": [
       "<div>\n",
       "<style scoped>\n",
       "    .dataframe tbody tr th:only-of-type {\n",
       "        vertical-align: middle;\n",
       "    }\n",
       "\n",
       "    .dataframe tbody tr th {\n",
       "        vertical-align: top;\n",
       "    }\n",
       "\n",
       "    .dataframe thead th {\n",
       "        text-align: right;\n",
       "    }\n",
       "</style>\n",
       "<table border=\"1\" class=\"dataframe\">\n",
       "  <thead>\n",
       "    <tr style=\"text-align: right;\">\n",
       "      <th></th>\n",
       "      <th>bg+1:00</th>\n",
       "    </tr>\n",
       "    <tr>\n",
       "      <th>id</th>\n",
       "      <th></th>\n",
       "    </tr>\n",
       "  </thead>\n",
       "  <tbody>\n",
       "    <tr>\n",
       "      <th>p01_8459</th>\n",
       "      <td>8.761502</td>\n",
       "    </tr>\n",
       "    <tr>\n",
       "      <th>p01_8460</th>\n",
       "      <td>6.429156</td>\n",
       "    </tr>\n",
       "    <tr>\n",
       "      <th>p01_8461</th>\n",
       "      <td>8.039436</td>\n",
       "    </tr>\n",
       "    <tr>\n",
       "      <th>p01_8462</th>\n",
       "      <td>11.585248</td>\n",
       "    </tr>\n",
       "    <tr>\n",
       "      <th>p01_8463</th>\n",
       "      <td>8.891765</td>\n",
       "    </tr>\n",
       "    <tr>\n",
       "      <th>...</th>\n",
       "      <td>...</td>\n",
       "    </tr>\n",
       "    <tr>\n",
       "      <th>p24_256</th>\n",
       "      <td>6.634699</td>\n",
       "    </tr>\n",
       "    <tr>\n",
       "      <th>p24_257</th>\n",
       "      <td>12.075657</td>\n",
       "    </tr>\n",
       "    <tr>\n",
       "      <th>p24_258</th>\n",
       "      <td>6.574203</td>\n",
       "    </tr>\n",
       "    <tr>\n",
       "      <th>p24_259</th>\n",
       "      <td>8.946322</td>\n",
       "    </tr>\n",
       "    <tr>\n",
       "      <th>p24_260</th>\n",
       "      <td>6.366370</td>\n",
       "    </tr>\n",
       "  </tbody>\n",
       "</table>\n",
       "<p>3644 rows × 1 columns</p>\n",
       "</div>"
      ]
     },
     "execution_count": 17,
     "metadata": {},
     "output_type": "execute_result"
    }
   ],
   "execution_count": 17
  },
  {
   "metadata": {
    "ExecuteTime": {
     "end_time": "2024-11-28T14:37:55.913015Z",
     "start_time": "2024-11-28T14:37:55.908797Z"
    }
   },
   "cell_type": "code",
   "source": "submission.describe()",
   "id": "76f34bf74bc9f805",
   "outputs": [
    {
     "data": {
      "text/plain": [
       "           bg+1:00\n",
       "count  3644.000000\n",
       "mean      8.525764\n",
       "std       2.545486\n",
       "min       3.518073\n",
       "25%       6.765134\n",
       "50%       7.965491\n",
       "75%       9.680452\n",
       "max      27.306176"
      ],
      "text/html": [
       "<div>\n",
       "<style scoped>\n",
       "    .dataframe tbody tr th:only-of-type {\n",
       "        vertical-align: middle;\n",
       "    }\n",
       "\n",
       "    .dataframe tbody tr th {\n",
       "        vertical-align: top;\n",
       "    }\n",
       "\n",
       "    .dataframe thead th {\n",
       "        text-align: right;\n",
       "    }\n",
       "</style>\n",
       "<table border=\"1\" class=\"dataframe\">\n",
       "  <thead>\n",
       "    <tr style=\"text-align: right;\">\n",
       "      <th></th>\n",
       "      <th>bg+1:00</th>\n",
       "    </tr>\n",
       "  </thead>\n",
       "  <tbody>\n",
       "    <tr>\n",
       "      <th>count</th>\n",
       "      <td>3644.000000</td>\n",
       "    </tr>\n",
       "    <tr>\n",
       "      <th>mean</th>\n",
       "      <td>8.525764</td>\n",
       "    </tr>\n",
       "    <tr>\n",
       "      <th>std</th>\n",
       "      <td>2.545486</td>\n",
       "    </tr>\n",
       "    <tr>\n",
       "      <th>min</th>\n",
       "      <td>3.518073</td>\n",
       "    </tr>\n",
       "    <tr>\n",
       "      <th>25%</th>\n",
       "      <td>6.765134</td>\n",
       "    </tr>\n",
       "    <tr>\n",
       "      <th>50%</th>\n",
       "      <td>7.965491</td>\n",
       "    </tr>\n",
       "    <tr>\n",
       "      <th>75%</th>\n",
       "      <td>9.680452</td>\n",
       "    </tr>\n",
       "    <tr>\n",
       "      <th>max</th>\n",
       "      <td>27.306176</td>\n",
       "    </tr>\n",
       "  </tbody>\n",
       "</table>\n",
       "</div>"
      ]
     },
     "execution_count": 18,
     "metadata": {},
     "output_type": "execute_result"
    }
   ],
   "execution_count": 18
  }
 ],
 "metadata": {
  "kernelspec": {
   "display_name": "Python 3",
   "language": "python",
   "name": "python3"
  },
  "language_info": {
   "codemirror_mode": {
    "name": "ipython",
    "version": 2
   },
   "file_extension": ".py",
   "mimetype": "text/x-python",
   "name": "python",
   "nbconvert_exporter": "python",
   "pygments_lexer": "ipython2",
   "version": "2.7.6"
  }
 },
 "nbformat": 4,
 "nbformat_minor": 5
}
