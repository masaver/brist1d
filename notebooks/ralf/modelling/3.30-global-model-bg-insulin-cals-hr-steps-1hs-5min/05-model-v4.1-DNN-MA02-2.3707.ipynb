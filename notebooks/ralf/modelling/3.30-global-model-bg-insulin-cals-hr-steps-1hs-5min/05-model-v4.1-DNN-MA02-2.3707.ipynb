{
 "cells": [
  {
   "metadata": {},
   "cell_type": "markdown",
   "source": [
    "# Tune the meta model\n",
    " \n",
    "We want to check if we can exchange the metamodel from Ridge to DNN\n",
    "\n",
    "We use the best base model parameters from the previous notebooks"
   ],
   "id": "32bfa9234ec39c2"
  },
  {
   "metadata": {},
   "cell_type": "markdown",
   "source": "# Model v4.1 - Baseline model with MA02 DNN as base estimator",
   "id": "c4f5fa4ffbc53369"
  },
  {
   "metadata": {
    "ExecuteTime": {
     "end_time": "2024-11-28T12:24:57.746415Z",
     "start_time": "2024-11-28T12:24:40.343602Z"
    }
   },
   "cell_type": "code",
   "source": [
    "from fileinput import filename\n",
    "\n",
    "import pandas as pd\n",
    "from sklearn.model_selection import train_test_split\n",
    "from tensorflow.python.keras.utils.version_utils import callbacks\n",
    "\n",
    "from data import load_data_selected_features\n",
    "\n",
    "train_data, additional_train_data, test_data = load_data_selected_features()"
   ],
   "id": "ed9cab10a4c9269",
   "outputs": [],
   "execution_count": 1
  },
  {
   "metadata": {
    "ExecuteTime": {
     "end_time": "2024-11-28T12:24:57.771235Z",
     "start_time": "2024-11-28T12:24:57.755786Z"
    }
   },
   "cell_type": "code",
   "source": "train_data.info()",
   "id": "af6bdd55ecd2a72b",
   "outputs": [
    {
     "name": "stdout",
     "output_type": "stream",
     "text": [
      "<class 'pandas.core.frame.DataFrame'>\n",
      "Index: 150996 entries, p01_0 to p12_25298\n",
      "Columns: 507 entries, p_num to bg+1:00\n",
      "dtypes: float64(433), object(74)\n",
      "memory usage: 585.2+ MB\n"
     ]
    }
   ],
   "execution_count": 2
  },
  {
   "metadata": {
    "ExecuteTime": {
     "end_time": "2024-11-28T12:24:57.912930Z",
     "start_time": "2024-11-28T12:24:57.903355Z"
    }
   },
   "cell_type": "code",
   "source": "additional_train_data.info()",
   "id": "e6efef1597276890",
   "outputs": [
    {
     "name": "stdout",
     "output_type": "stream",
     "text": [
      "<class 'pandas.core.frame.DataFrame'>\n",
      "Index: 168588 entries, p01_test_12 to p24_test_94938\n",
      "Columns: 507 entries, p_num to bg+1:00\n",
      "dtypes: float64(433), object(74)\n",
      "memory usage: 657.4+ MB\n"
     ]
    }
   ],
   "execution_count": 3
  },
  {
   "metadata": {
    "ExecuteTime": {
     "end_time": "2024-11-28T12:24:57.927693Z",
     "start_time": "2024-11-28T12:24:57.917843Z"
    }
   },
   "cell_type": "code",
   "source": "test_data.info()",
   "id": "16d75f6d697d8bc7",
   "outputs": [
    {
     "name": "stdout",
     "output_type": "stream",
     "text": [
      "<class 'pandas.core.frame.DataFrame'>\n",
      "Index: 3644 entries, p01_8459 to p24_260\n",
      "Columns: 506 entries, p_num to activity-0:00\n",
      "dtypes: float64(432), object(74)\n",
      "memory usage: 14.2+ MB\n"
     ]
    }
   ],
   "execution_count": 4
  },
  {
   "metadata": {},
   "cell_type": "markdown",
   "source": "# Prepare the data",
   "id": "fc5e077e5738d8eb"
  },
  {
   "metadata": {
    "ExecuteTime": {
     "end_time": "2024-11-28T12:25:41.878019Z",
     "start_time": "2024-11-28T12:24:57.940838Z"
    }
   },
   "cell_type": "code",
   "source": [
    "from pipelines_selected_features import pipeline\n",
    "\n",
    "all_train_data = pd.concat([train_data, additional_train_data], axis=0)\n",
    "all_train_data_transformed = pipeline.fit_transform(all_train_data)\n",
    "\n",
    "train_data_transformed = all_train_data_transformed[:len(train_data)]\n",
    "additional_train_data_transformed = all_train_data_transformed[len(train_data):]\n",
    "\n",
    "X_train = train_data_transformed.drop(columns=['bg+1:00'])\n",
    "y_train = train_data_transformed['bg+1:00']\n",
    "\n",
    "X_additional_train = additional_train_data_transformed.drop(columns=['bg+1:00'])\n",
    "y_additional_train = additional_train_data_transformed['bg+1:00']"
   ],
   "id": "c7df704ede80b62",
   "outputs": [],
   "execution_count": 5
  },
  {
   "metadata": {},
   "cell_type": "markdown",
   "source": "## Predict for validation data and check results",
   "id": "9b608adb90b0235e"
  },
  {
   "metadata": {
    "ExecuteTime": {
     "end_time": "2024-11-28T12:57:02.414193Z",
     "start_time": "2024-11-28T12:25:41.912376Z"
    }
   },
   "cell_type": "code",
   "source": [
    "from tensorflow.keras.models import Sequential\n",
    "import tensorflow as tf\n",
    "from tensorflow.keras.layers import Dense, Dropout, BatchNormalization, Input, Activation\n",
    "from tensorflow.keras.optimizers import Adam\n",
    "from scikeras.wrappers import KerasRegressor\n",
    "from tensorflow.keras.callbacks import EarlyStopping\n",
    "from model_performance_calculations import get_history_line_chart\n",
    "\n",
    "\n",
    "def rmse(y_true, y_pred):\n",
    "    return tf.sqrt(tf.reduce_mean(tf.square(y_pred - y_true)))\n",
    "\n",
    "\n",
    "def create_dnn_model(input_dimension: int):\n",
    "    dnn = Sequential([\n",
    "        # Input layer\n",
    "        Input(shape=(input_dimension,)),\n",
    "\n",
    "        # First dense block\n",
    "        Dense(512, activation='relu'),  # Increased neurons\n",
    "        BatchNormalization(),\n",
    "        Dropout(0.3),  # Slightly reduced dropout for better capacity\n",
    "\n",
    "        # Second dense block\n",
    "        Dense(256, activation='relu'),  # Increased neurons\n",
    "        BatchNormalization(),\n",
    "        Dropout(0.3),\n",
    "\n",
    "        # Third dense block\n",
    "        Dense(128, activation='relu'),\n",
    "        BatchNormalization(),\n",
    "        Dropout(0.3),\n",
    "\n",
    "        # Fourth dense block (new)\n",
    "        Dense(64, activation='relu'),\n",
    "        BatchNormalization(),\n",
    "        Dropout(0.3),\n",
    "\n",
    "        # Output layer\n",
    "        Dense(1, activation='linear')  # Regression output\n",
    "    ])\n",
    "\n",
    "    # Compile the model\n",
    "    dnn.compile(\n",
    "        optimizer=Adam(learning_rate=0.001),  # Retained learning rate\n",
    "        loss='mse',  # Mean Squared Error for regression\n",
    "        metrics=[rmse]  # Custom RMSE metric\n",
    "    )\n",
    "\n",
    "    return dnn\n",
    "\n",
    "\n",
    "def model_with_pretrained_weights():\n",
    "    dnn = create_dnn_model(X_train.shape[1])\n",
    "    dnn.load_weights('v4.1-MA02.weights.h5')  # Load the pre-trained weights\n",
    "\n",
    "    # Freeze all layers except the last one (optional)\n",
    "    for layer in dnn.layers:\n",
    "        layer.trainable = False\n",
    "    # Unfreeze the output layer if you want to fine-tune it\n",
    "    # dnn.layers[-1].trainable = True\n",
    "\n",
    "    dnn.compile(optimizer='adam', loss='mse', metrics=[rmse])\n",
    "    return dnn\n",
    "\n",
    "\n",
    "pretrained_dnn = create_dnn_model(X_train.shape[1])\n",
    "\n",
    "X_additional_train, X_additional_val, y_additional_train, y_additional_val = train_test_split(\n",
    "    X_additional_train, y_additional_train, random_state=42, test_size=0.2, shuffle=True)\n",
    "\n",
    "print('Pretrain with train data')\n",
    "pretrained_dnn.fit(\n",
    "    pd.concat([X_train, X_additional_train], axis=0),\n",
    "    pd.concat([y_train, y_additional_train], axis=0),\n",
    "    validation_data=(X_additional_val, y_additional_val),\n",
    "    batch_size=32,\n",
    "    callbacks=[EarlyStopping(monitor='val_rmse', patience=10, restore_best_weights=True, mode='min')],\n",
    "    epochs=100,\n",
    "    verbose=2\n",
    ")\n",
    "\n",
    "history = pretrained_dnn.history.history\n",
    "\n",
    "print('Pretrain with Validation Data')\n",
    "pretrained_dnn.fit(\n",
    "    X_additional_val,\n",
    "    y_additional_val,\n",
    "    batch_size=32,\n",
    "    callbacks=[EarlyStopping(monitor='loss', patience=10, restore_best_weights=True)],\n",
    "    verbose=2\n",
    ")\n",
    "\n",
    "print('Pretrain save weights')\n",
    "pretrained_dnn.save_weights('v4.1-MA02.weights.h5')\n",
    "get_history_line_chart([history]).show()"
   ],
   "id": "c20aa25cccb09977",
   "outputs": [
    {
     "name": "stdout",
     "output_type": "stream",
     "text": [
      "Pretrain with train data\n",
      "Epoch 1/100\n",
      "8934/8934 - 25s - 3ms/step - loss: 7.3403 - rmse: 2.5408 - val_loss: 4.5590 - val_rmse: 2.1064\n",
      "Epoch 2/100\n",
      "8934/8934 - 24s - 3ms/step - loss: 4.9337 - rmse: 2.1909 - val_loss: 4.3924 - val_rmse: 2.0689\n",
      "Epoch 3/100\n",
      "8934/8934 - 22s - 2ms/step - loss: 4.7356 - rmse: 2.1466 - val_loss: 4.3343 - val_rmse: 2.0556\n",
      "Epoch 4/100\n",
      "8934/8934 - 21s - 2ms/step - loss: 4.5955 - rmse: 2.1145 - val_loss: 4.2397 - val_rmse: 2.0304\n",
      "Epoch 5/100\n",
      "8934/8934 - 28s - 3ms/step - loss: 4.4958 - rmse: 2.0919 - val_loss: 4.2931 - val_rmse: 2.0445\n",
      "Epoch 6/100\n",
      "8934/8934 - 22s - 3ms/step - loss: 4.4244 - rmse: 2.0749 - val_loss: 4.1513 - val_rmse: 2.0082\n",
      "Epoch 7/100\n",
      "8934/8934 - 26s - 3ms/step - loss: 4.3531 - rmse: 2.0575 - val_loss: 4.1301 - val_rmse: 2.0034\n",
      "Epoch 8/100\n",
      "8934/8934 - 31s - 3ms/step - loss: 4.3052 - rmse: 2.0460 - val_loss: 4.1732 - val_rmse: 2.0160\n",
      "Epoch 9/100\n",
      "8934/8934 - 28s - 3ms/step - loss: 4.2619 - rmse: 2.0350 - val_loss: 4.0908 - val_rmse: 1.9907\n",
      "Epoch 10/100\n",
      "8934/8934 - 26s - 3ms/step - loss: 4.2160 - rmse: 2.0249 - val_loss: 4.0671 - val_rmse: 1.9903\n",
      "Epoch 11/100\n",
      "8934/8934 - 26s - 3ms/step - loss: 4.1845 - rmse: 2.0175 - val_loss: 4.0848 - val_rmse: 1.9915\n",
      "Epoch 12/100\n",
      "8934/8934 - 25s - 3ms/step - loss: 4.1633 - rmse: 2.0119 - val_loss: 4.0849 - val_rmse: 1.9941\n",
      "Epoch 13/100\n",
      "8934/8934 - 26s - 3ms/step - loss: 4.1321 - rmse: 2.0042 - val_loss: 3.9884 - val_rmse: 1.9687\n",
      "Epoch 14/100\n",
      "8934/8934 - 30s - 3ms/step - loss: 4.0977 - rmse: 1.9960 - val_loss: 4.0472 - val_rmse: 1.9854\n",
      "Epoch 15/100\n",
      "8934/8934 - 32s - 4ms/step - loss: 4.0837 - rmse: 1.9924 - val_loss: 3.9376 - val_rmse: 1.9563\n",
      "Epoch 16/100\n",
      "8934/8934 - 28s - 3ms/step - loss: 4.0519 - rmse: 1.9853 - val_loss: 3.9799 - val_rmse: 1.9678\n",
      "Epoch 17/100\n",
      "8934/8934 - 27s - 3ms/step - loss: 4.0390 - rmse: 1.9821 - val_loss: 3.9619 - val_rmse: 1.9622\n",
      "Epoch 18/100\n",
      "8934/8934 - 26s - 3ms/step - loss: 4.0176 - rmse: 1.9767 - val_loss: 3.9556 - val_rmse: 1.9617\n",
      "Epoch 19/100\n",
      "8934/8934 - 24s - 3ms/step - loss: 4.0053 - rmse: 1.9733 - val_loss: 3.9073 - val_rmse: 1.9478\n",
      "Epoch 20/100\n",
      "8934/8934 - 21s - 2ms/step - loss: 4.0014 - rmse: 1.9722 - val_loss: 3.9460 - val_rmse: 1.9556\n",
      "Epoch 21/100\n",
      "8934/8934 - 27s - 3ms/step - loss: 3.9780 - rmse: 1.9668 - val_loss: 3.9515 - val_rmse: 1.9585\n",
      "Epoch 22/100\n",
      "8934/8934 - 22s - 2ms/step - loss: 3.9648 - rmse: 1.9640 - val_loss: 3.9413 - val_rmse: 1.9569\n",
      "Epoch 23/100\n",
      "8934/8934 - 24s - 3ms/step - loss: 3.9526 - rmse: 1.9605 - val_loss: 3.9243 - val_rmse: 1.9529\n",
      "Epoch 24/100\n",
      "8934/8934 - 23s - 3ms/step - loss: 3.9453 - rmse: 1.9587 - val_loss: 3.9827 - val_rmse: 1.9686\n",
      "Epoch 25/100\n",
      "8934/8934 - 21s - 2ms/step - loss: 3.9282 - rmse: 1.9542 - val_loss: 3.8875 - val_rmse: 1.9441\n",
      "Epoch 26/100\n",
      "8934/8934 - 24s - 3ms/step - loss: 3.9122 - rmse: 1.9507 - val_loss: 3.9048 - val_rmse: 1.9465\n",
      "Epoch 27/100\n",
      "8934/8934 - 25s - 3ms/step - loss: 3.9095 - rmse: 1.9502 - val_loss: 3.9412 - val_rmse: 1.9570\n",
      "Epoch 28/100\n",
      "8934/8934 - 18s - 2ms/step - loss: 3.8943 - rmse: 1.9460 - val_loss: 3.8529 - val_rmse: 1.9352\n",
      "Epoch 29/100\n",
      "8934/8934 - 20s - 2ms/step - loss: 3.8971 - rmse: 1.9468 - val_loss: 3.8762 - val_rmse: 1.9419\n",
      "Epoch 30/100\n",
      "8934/8934 - 21s - 2ms/step - loss: 3.8858 - rmse: 1.9441 - val_loss: 3.8574 - val_rmse: 1.9304\n",
      "Epoch 31/100\n",
      "8934/8934 - 21s - 2ms/step - loss: 3.8615 - rmse: 1.9382 - val_loss: 3.9638 - val_rmse: 1.9605\n",
      "Epoch 32/100\n",
      "8934/8934 - 18s - 2ms/step - loss: 3.8599 - rmse: 1.9378 - val_loss: 3.8617 - val_rmse: 1.9340\n",
      "Epoch 33/100\n",
      "8934/8934 - 19s - 2ms/step - loss: 3.8516 - rmse: 1.9348 - val_loss: 3.8562 - val_rmse: 1.9321\n",
      "Epoch 34/100\n",
      "8934/8934 - 18s - 2ms/step - loss: 3.8469 - rmse: 1.9342 - val_loss: 3.8851 - val_rmse: 1.9426\n",
      "Epoch 35/100\n",
      "8934/8934 - 21s - 2ms/step - loss: 3.8415 - rmse: 1.9332 - val_loss: 3.9034 - val_rmse: 1.9411\n",
      "Epoch 36/100\n",
      "8934/8934 - 21s - 2ms/step - loss: 3.8327 - rmse: 1.9310 - val_loss: 3.7705 - val_rmse: 1.9130\n",
      "Epoch 37/100\n",
      "8934/8934 - 21s - 2ms/step - loss: 3.8309 - rmse: 1.9296 - val_loss: 3.7918 - val_rmse: 1.9209\n",
      "Epoch 38/100\n",
      "8934/8934 - 20s - 2ms/step - loss: 3.8201 - rmse: 1.9278 - val_loss: 3.8842 - val_rmse: 1.9450\n",
      "Epoch 39/100\n",
      "8934/8934 - 19s - 2ms/step - loss: 3.8107 - rmse: 1.9250 - val_loss: 3.7906 - val_rmse: 1.9194\n",
      "Epoch 40/100\n",
      "8934/8934 - 19s - 2ms/step - loss: 3.8041 - rmse: 1.9242 - val_loss: 3.7519 - val_rmse: 1.9085\n",
      "Epoch 41/100\n",
      "8934/8934 - 18s - 2ms/step - loss: 3.8024 - rmse: 1.9229 - val_loss: 3.8016 - val_rmse: 1.9236\n",
      "Epoch 42/100\n",
      "8934/8934 - 20s - 2ms/step - loss: 3.7961 - rmse: 1.9213 - val_loss: 3.7374 - val_rmse: 1.9045\n",
      "Epoch 43/100\n",
      "8934/8934 - 19s - 2ms/step - loss: 3.7973 - rmse: 1.9209 - val_loss: 3.7718 - val_rmse: 1.9137\n",
      "Epoch 44/100\n",
      "8934/8934 - 19s - 2ms/step - loss: 3.7733 - rmse: 1.9155 - val_loss: 3.8369 - val_rmse: 1.9263\n",
      "Epoch 45/100\n",
      "8934/8934 - 19s - 2ms/step - loss: 3.7702 - rmse: 1.9140 - val_loss: 3.7431 - val_rmse: 1.9031\n",
      "Epoch 46/100\n",
      "8934/8934 - 20s - 2ms/step - loss: 3.7644 - rmse: 1.9135 - val_loss: 3.8264 - val_rmse: 1.9301\n",
      "Epoch 47/100\n",
      "8934/8934 - 20s - 2ms/step - loss: 3.7683 - rmse: 1.9143 - val_loss: 3.8201 - val_rmse: 1.9290\n",
      "Epoch 48/100\n",
      "8934/8934 - 23s - 3ms/step - loss: 3.7539 - rmse: 1.9108 - val_loss: 3.7232 - val_rmse: 1.9026\n",
      "Epoch 49/100\n",
      "8934/8934 - 21s - 2ms/step - loss: 3.7578 - rmse: 1.9117 - val_loss: 3.9398 - val_rmse: 1.9583\n",
      "Epoch 50/100\n",
      "8934/8934 - 21s - 2ms/step - loss: 3.7416 - rmse: 1.9070 - val_loss: 3.7207 - val_rmse: 1.9023\n",
      "Epoch 51/100\n",
      "8934/8934 - 20s - 2ms/step - loss: 3.7437 - rmse: 1.9074 - val_loss: 3.7464 - val_rmse: 1.9073\n",
      "Epoch 52/100\n",
      "8934/8934 - 20s - 2ms/step - loss: 3.7345 - rmse: 1.9060 - val_loss: 3.7464 - val_rmse: 1.9078\n",
      "Epoch 53/100\n",
      "8934/8934 - 20s - 2ms/step - loss: 3.7323 - rmse: 1.9053 - val_loss: 3.7162 - val_rmse: 1.9008\n",
      "Epoch 54/100\n",
      "8934/8934 - 21s - 2ms/step - loss: 3.7307 - rmse: 1.9046 - val_loss: 3.8723 - val_rmse: 1.9407\n",
      "Epoch 55/100\n",
      "8934/8934 - 21s - 2ms/step - loss: 3.7186 - rmse: 1.9022 - val_loss: 3.7705 - val_rmse: 1.9161\n",
      "Epoch 56/100\n",
      "8934/8934 - 24s - 3ms/step - loss: 3.7210 - rmse: 1.9021 - val_loss: 3.7287 - val_rmse: 1.9033\n",
      "Epoch 57/100\n",
      "8934/8934 - 24s - 3ms/step - loss: 3.7097 - rmse: 1.9000 - val_loss: 3.6920 - val_rmse: 1.8933\n",
      "Epoch 58/100\n",
      "8934/8934 - 23s - 3ms/step - loss: 3.7109 - rmse: 1.8993 - val_loss: 3.7099 - val_rmse: 1.8978\n",
      "Epoch 59/100\n",
      "8934/8934 - 22s - 2ms/step - loss: 3.7120 - rmse: 1.9002 - val_loss: 3.7339 - val_rmse: 1.9049\n",
      "Epoch 60/100\n",
      "8934/8934 - 22s - 2ms/step - loss: 3.7052 - rmse: 1.8982 - val_loss: 3.6853 - val_rmse: 1.8931\n",
      "Epoch 61/100\n",
      "8934/8934 - 19s - 2ms/step - loss: 3.6912 - rmse: 1.8942 - val_loss: 3.7893 - val_rmse: 1.9212\n",
      "Epoch 62/100\n",
      "8934/8934 - 26s - 3ms/step - loss: 3.7012 - rmse: 1.8970 - val_loss: 3.6962 - val_rmse: 1.8952\n",
      "Epoch 63/100\n",
      "8934/8934 - 20s - 2ms/step - loss: 3.6900 - rmse: 1.8945 - val_loss: 3.7346 - val_rmse: 1.9056\n",
      "Epoch 64/100\n",
      "8934/8934 - 20s - 2ms/step - loss: 3.7057 - rmse: 1.8984 - val_loss: 3.6663 - val_rmse: 1.8895\n",
      "Epoch 65/100\n",
      "8934/8934 - 23s - 3ms/step - loss: 3.6793 - rmse: 1.8918 - val_loss: 3.6464 - val_rmse: 1.8827\n",
      "Epoch 66/100\n",
      "8934/8934 - 20s - 2ms/step - loss: 3.6798 - rmse: 1.8915 - val_loss: 3.6799 - val_rmse: 1.8892\n",
      "Epoch 67/100\n",
      "8934/8934 - 22s - 2ms/step - loss: 3.6764 - rmse: 1.8911 - val_loss: 3.6855 - val_rmse: 1.8924\n",
      "Epoch 68/100\n",
      "8934/8934 - 21s - 2ms/step - loss: 3.6708 - rmse: 1.8891 - val_loss: 3.7246 - val_rmse: 1.9042\n",
      "Epoch 69/100\n",
      "8934/8934 - 20s - 2ms/step - loss: 3.6609 - rmse: 1.8870 - val_loss: 3.6599 - val_rmse: 1.8849\n",
      "Epoch 70/100\n",
      "8934/8934 - 18s - 2ms/step - loss: 3.6636 - rmse: 1.8876 - val_loss: 3.6382 - val_rmse: 1.8805\n",
      "Epoch 71/100\n",
      "8934/8934 - 21s - 2ms/step - loss: 3.6624 - rmse: 1.8878 - val_loss: 3.6471 - val_rmse: 1.8819\n",
      "Epoch 72/100\n",
      "8934/8934 - 21s - 2ms/step - loss: 3.6588 - rmse: 1.8862 - val_loss: 3.7127 - val_rmse: 1.9009\n",
      "Epoch 73/100\n",
      "8934/8934 - 21s - 2ms/step - loss: 3.6576 - rmse: 1.8862 - val_loss: 3.6643 - val_rmse: 1.8877\n",
      "Epoch 74/100\n",
      "8934/8934 - 26s - 3ms/step - loss: 3.6465 - rmse: 1.8833 - val_loss: 3.6585 - val_rmse: 1.8860\n",
      "Epoch 75/100\n",
      "8934/8934 - 24s - 3ms/step - loss: 3.6430 - rmse: 1.8830 - val_loss: 3.5990 - val_rmse: 1.8695\n",
      "Epoch 76/100\n",
      "8934/8934 - 20s - 2ms/step - loss: 3.6512 - rmse: 1.8841 - val_loss: 3.6697 - val_rmse: 1.8873\n",
      "Epoch 77/100\n",
      "8934/8934 - 19s - 2ms/step - loss: 3.6459 - rmse: 1.8828 - val_loss: 3.6945 - val_rmse: 1.8933\n",
      "Epoch 78/100\n",
      "8934/8934 - 19s - 2ms/step - loss: 3.6540 - rmse: 1.8859 - val_loss: 3.6038 - val_rmse: 1.8721\n",
      "Epoch 79/100\n",
      "8934/8934 - 20s - 2ms/step - loss: 3.6534 - rmse: 1.8853 - val_loss: 3.6210 - val_rmse: 1.8765\n",
      "Epoch 80/100\n",
      "8934/8934 - 20s - 2ms/step - loss: 3.6473 - rmse: 1.8830 - val_loss: 3.6609 - val_rmse: 1.8857\n",
      "Epoch 81/100\n",
      "8934/8934 - 21s - 2ms/step - loss: 3.6353 - rmse: 1.8796 - val_loss: 3.6221 - val_rmse: 1.8726\n",
      "Epoch 82/100\n",
      "8934/8934 - 20s - 2ms/step - loss: 3.6293 - rmse: 1.8793 - val_loss: 3.7223 - val_rmse: 1.9003\n",
      "Epoch 83/100\n",
      "8934/8934 - 19s - 2ms/step - loss: 3.6165 - rmse: 1.8750 - val_loss: 3.6401 - val_rmse: 1.8770\n",
      "Epoch 84/100\n",
      "8934/8934 - 19s - 2ms/step - loss: 3.6243 - rmse: 1.8775 - val_loss: 3.6303 - val_rmse: 1.8774\n",
      "Epoch 85/100\n",
      "8934/8934 - 20s - 2ms/step - loss: 3.6065 - rmse: 1.8732 - val_loss: 3.6802 - val_rmse: 1.8860\n",
      "Pretrain with Validation Data\n",
      "1054/1054 - 3s - 3ms/step - loss: 4.2238 - rmse: 2.0256\n",
      "Pretrain save weights\n"
     ]
    },
    {
     "data": {
      "text/plain": [
       "<Figure size 1000x500 with 1 Axes>"
      ],
      "image/png": "[encoded data removed]"
     },
     "metadata": {},
     "output_type": "display_data"
    }
   ],
   "execution_count": 6
  },
  {
   "metadata": {
    "ExecuteTime": {
     "end_time": "2024-11-28T12:57:02.503710Z",
     "start_time": "2024-11-28T12:57:02.456380Z"
    }
   },
   "cell_type": "code",
   "source": [
    "from sklearn.neighbors import KNeighborsRegressor\n",
    "from xgboost import XGBRegressor\n",
    "from sklearn.ensemble import StackingRegressor, HistGradientBoostingRegressor\n",
    "from sklearn.linear_model import LassoLarsIC, Ridge\n",
    "\n",
    "hgb_estimator = HistGradientBoostingRegressor(max_iter=200, max_depth=5, learning_rate=0.1)\n",
    "lasso_lars_ic_base_model = LassoLarsIC(criterion='bic', max_iter=10000)\n",
    "knn_base_model = KNeighborsRegressor(n_neighbors=5)\n",
    "xgb_base_model = XGBRegressor(objective='reg:squarederror', random_state=42, n_estimators=500, max_depth=5, learning_rate=0.1)\n",
    "\n",
    "keras_regressor = KerasRegressor(\n",
    "    model=model_with_pretrained_weights,\n",
    "    epochs=1,\n",
    "    verbose=2\n",
    ")\n",
    "\n",
    "estimators = [\n",
    "    ('hgb', hgb_estimator),\n",
    "    ('lasso_lars_ic', lasso_lars_ic_base_model),\n",
    "    ('knn', knn_base_model),\n",
    "    ('xgb', xgb_base_model),\n",
    "    ('dnn', keras_regressor)\n",
    "]\n",
    "\n",
    "model = StackingRegressor(estimators=estimators, final_estimator=Ridge(alpha=0.1), n_jobs=1, verbose=2)"
   ],
   "id": "7e0583e9ae957c2d",
   "outputs": [],
   "execution_count": 7
  },
  {
   "metadata": {
    "ExecuteTime": {
     "end_time": "2024-11-28T13:12:32.532309Z",
     "start_time": "2024-11-28T12:57:02.534128Z"
    }
   },
   "cell_type": "code",
   "source": [
    "from datetime import datetime\n",
    "import os\n",
    "from model_performance_calculations import calculate_stacking_regressor_performance, get_rmse_boxplot_chart, get_rmse_line_chart, save_performances, save_model\n",
    "\n",
    "date_time = datetime.now().strftime('%Y-%m-%d_%H-%M-%S')\n",
    "model_name = f'{date_time}-model-v4.1-DNN'\n",
    "\n",
    "save_model(model, os.path.join('models', f'{model_name}.pkl'))\n",
    "\n",
    "performances = calculate_stacking_regressor_performance(model, X_train, y_train, X_additional_train, y_additional_train, n_splits=5)\n",
    "save_performances(performances, os.path.join('models', f'{model_name}-performances.json'))\n",
    "\n",
    "get_rmse_boxplot_chart(performances).show()\n",
    "get_rmse_line_chart(performances).show()"
   ],
   "id": "c0be6db84ab0c1b0",
   "outputs": [
    {
     "name": "stdout",
     "output_type": "stream",
     "text": [
      "13:57:02 - Start training\n",
      "13:57:02 - Calculate performance for hgb\n",
      "13:57:02 - Selected splitter: ShuffleSplit(n_splits=5, random_state=42, test_size=0.2, train_size=None)\n",
      "13:57:02 - Split 1 - Model: hgb\n",
      "13:57:02 - Fitting the model\n",
      "13:57:10 - Predicting\n",
      "13:57:10 - Calculating scores\n",
      "13:57:10 - R^2: 0.6050453409101859, RMSE: 2.0466277078439625, MAE: 1.5297522075223886, MSE: 4.188684974514633\n",
      "13:57:10 - Split 2 - Model: hgb\n",
      "13:57:10 - Fitting the model\n",
      "13:57:17 - Predicting\n",
      "13:57:17 - Calculating scores\n",
      "13:57:17 - R^2: 0.6103539170299525, RMSE: 2.0353684728679102, MAE: 1.5196817963995308, MSE: 4.142724820344649\n",
      "13:57:17 - Split 3 - Model: hgb\n",
      "13:57:17 - Fitting the model\n",
      "13:57:24 - Predicting\n",
      "13:57:24 - Calculating scores\n",
      "13:57:24 - R^2: 0.6038911957599782, RMSE: 2.045449827689371, MAE: 1.5294409588963966, MSE: 4.183864997594477\n",
      "13:57:24 - Split 4 - Model: hgb\n",
      "13:57:24 - Fitting the model\n",
      "13:57:31 - Predicting\n",
      "13:57:31 - Calculating scores\n",
      "13:57:31 - R^2: 0.6109547820358057, RMSE: 2.0267432581481826, MAE: 1.5185138985850195, MSE: 4.10768823444911\n",
      "13:57:31 - Split 5 - Model: hgb\n",
      "13:57:31 - Fitting the model\n",
      "13:57:38 - Predicting\n",
      "13:57:38 - Calculating scores\n",
      "13:57:38 - R^2: 0.6066587823645915, RMSE: 2.043180362396612, MAE: 1.5224824735848306, MSE: 4.1745859932831495\n",
      "13:57:38 - Training finished\n",
      "13:57:38 - Calculate performance for lasso_lars_ic\n",
      "13:57:38 - Selected splitter: ShuffleSplit(n_splits=5, random_state=42, test_size=0.2, train_size=None)\n",
      "13:57:38 - Split 1 - Model: lasso_lars_ic\n",
      "13:57:38 - Fitting the model\n",
      "13:57:39 - Predicting\n",
      "13:57:39 - Calculating scores\n",
      "13:57:39 - R^2: 0.5415672529148605, RMSE: 2.2049718288317544, MAE: 1.6581217705458935, MSE: 4.861900765941651\n",
      "13:57:39 - Split 2 - Model: lasso_lars_ic\n",
      "13:57:39 - Fitting the model\n",
      "13:57:39 - Predicting\n",
      "13:57:39 - Calculating scores\n",
      "13:57:39 - R^2: 0.5446718966408108, RMSE: 2.2002402944683883, MAE: 1.6591500429764503, MSE: 4.84105735340234\n",
      "13:57:39 - Split 3 - Model: lasso_lars_ic\n",
      "13:57:40 - Fitting the model\n",
      "13:57:40 - Predicting\n",
      "13:57:40 - Calculating scores\n",
      "13:57:40 - R^2: 0.541630282445575, RMSE: 2.2003387265279106, MAE: 1.6626096352449042, MSE: 4.841490511458468\n",
      "13:57:40 - Split 4 - Model: lasso_lars_ic\n",
      "13:57:40 - Fitting the model\n",
      "13:57:41 - Predicting\n",
      "13:57:41 - Calculating scores\n",
      "13:57:41 - R^2: 0.5442359133440482, RMSE: 2.1936571227882893, MAE: 1.6545954983284734, MSE: 4.812131572359796\n",
      "13:57:41 - Split 5 - Model: lasso_lars_ic\n",
      "13:57:41 - Fitting the model\n",
      "13:57:42 - Predicting\n",
      "13:57:42 - Calculating scores\n",
      "13:57:42 - R^2: 0.5436633444632122, RMSE: 2.200719311593741, MAE: 1.6570234449816696, MSE: 4.843165488421628\n",
      "13:57:42 - Training finished\n",
      "13:57:42 - Calculate performance for knn\n",
      "13:57:42 - Selected splitter: ShuffleSplit(n_splits=5, random_state=42, test_size=0.2, train_size=None)\n",
      "13:57:42 - Split 1 - Model: knn\n",
      "13:57:42 - Fitting the model\n",
      "13:57:42 - Predicting\n",
      "13:57:49 - Calculating scores\n",
      "13:57:49 - R^2: 0.5606318898713571, RMSE: 2.1586363937216357, MAE: 1.5049428338399942, MSE: 4.659711080299548\n",
      "13:57:49 - Split 2 - Model: knn\n",
      "13:57:49 - Fitting the model\n",
      "13:57:49 - Predicting\n",
      "13:57:56 - Calculating scores\n",
      "13:57:56 - R^2: 0.5660520527850132, RMSE: 2.147962549167693, MAE: 1.5048325053755467, MSE: 4.613743112626974\n",
      "13:57:56 - Split 3 - Model: knn\n",
      "13:57:56 - Fitting the model\n",
      "13:57:56 - Predicting\n",
      "13:58:02 - Calculating scores\n",
      "13:58:02 - R^2: 0.5601223806435276, RMSE: 2.1554974653318033, MAE: 1.5071009119893228, MSE: 4.646169323051828\n",
      "13:58:02 - Split 4 - Model: knn\n",
      "13:58:02 - Fitting the model\n",
      "13:58:02 - Predicting\n",
      "13:58:09 - Calculating scores\n",
      "13:58:09 - R^2: 0.5625911739231998, RMSE: 2.149029946195801, MAE: 1.5047097946170387, MSE: 4.618329709646327\n",
      "13:58:09 - Split 5 - Model: knn\n",
      "13:58:09 - Fitting the model\n",
      "13:58:09 - Predicting\n",
      "13:58:15 - Calculating scores\n",
      "13:58:15 - R^2: 0.5622253943909464, RMSE: 2.1554961902892105, MAE: 1.5063372877585823, MSE: 4.646163826351301\n",
      "13:58:15 - Training finished\n",
      "13:58:15 - Calculate performance for xgb\n",
      "13:58:15 - Selected splitter: ShuffleSplit(n_splits=5, random_state=42, test_size=0.2, train_size=None)\n",
      "13:58:15 - Split 1 - Model: xgb\n",
      "13:58:15 - Fitting the model\n",
      "13:58:20 - Predicting\n",
      "13:58:20 - Calculating scores\n",
      "13:58:20 - R^2: 0.6293903026783298, RMSE: 1.982547576517656, MAE: 1.4804755073510454, MSE: 3.930494893156031\n",
      "13:58:20 - Split 2 - Model: xgb\n",
      "13:58:20 - Fitting the model\n",
      "13:58:25 - Predicting\n",
      "13:58:25 - Calculating scores\n",
      "13:58:25 - R^2: 0.6356298288800346, RMSE: 1.9682456219324287, MAE: 1.468294044025676, MSE: 3.873990828256173\n",
      "13:58:25 - Split 3 - Model: xgb\n",
      "13:58:25 - Fitting the model\n",
      "13:58:29 - Predicting\n",
      "13:58:29 - Calculating scores\n",
      "13:58:29 - R^2: 0.6260334926718811, RMSE: 1.987457899142633, MAE: 1.4841731847051147, MSE: 3.9499889008644486\n",
      "13:58:29 - Split 4 - Model: xgb\n",
      "13:58:29 - Fitting the model\n",
      "13:58:34 - Predicting\n",
      "13:58:34 - Calculating scores\n",
      "13:58:34 - R^2: 0.6339249522563891, RMSE: 1.9660011165764029, MAE: 1.473809118251075, MSE: 3.865160390379663\n",
      "13:58:34 - Split 5 - Model: xgb\n",
      "13:58:34 - Fitting the model\n",
      "13:58:38 - Predicting\n",
      "13:58:38 - Calculating scores\n",
      "13:58:38 - R^2: 0.6279926707982686, RMSE: 1.9869993500213552, MAE: 1.4795998356412494, MSE: 3.9481664169852877\n",
      "13:58:38 - Training finished\n",
      "13:58:38 - Calculate performance for dnn\n",
      "13:58:38 - Selected splitter: ShuffleSplit(n_splits=5, random_state=42, test_size=0.2, train_size=None)\n",
      "13:58:38 - Split 1 - Model: dnn\n",
      "13:58:38 - Fitting the model\n"
     ]
    },
    {
     "name": "stderr",
     "output_type": "stream",
     "text": [
      "/Users/ralf/Projects/learning-projects/datascience-bootcamp/sep24_bds_int_medical/.venv/lib/python3.12/site-packages/keras/src/saving/saving_lib.py:719: UserWarning: Skipping variable loading for optimizer 'adam', because it has 2 variables whereas the saved optimizer has 38 variables. \n",
      "  saveable.load_own_variables(weights_store.get(inner_path))\n",
      "/Users/ralf/Projects/learning-projects/datascience-bootcamp/sep24_bds_int_medical/.venv/lib/python3.12/site-packages/keras/src/backend/tensorflow/trainer.py:75: UserWarning: The model does not have any trainable weights.\n",
      "  warnings.warn(\"The model does not have any trainable weights.\")\n"
     ]
    },
    {
     "name": "stdout",
     "output_type": "stream",
     "text": [
      "8091/8091 - 6s - 731us/step - loss: 3.4375 - rmse: 3.7242\n",
      "13:58:44 - Predicting\n",
      "843/843 - 1s - 667us/step\n",
      "13:58:45 - Calculating scores\n",
      "13:58:45 - R^2: 0.6867674425686964, RMSE: 1.8226306822666214, MAE: 1.3849448049028674, MSE: 3.32198260393969\n",
      "13:58:45 - Split 2 - Model: dnn\n",
      "13:58:45 - Fitting the model\n"
     ]
    },
    {
     "name": "stderr",
     "output_type": "stream",
     "text": [
      "/Users/ralf/Projects/learning-projects/datascience-bootcamp/sep24_bds_int_medical/.venv/lib/python3.12/site-packages/keras/src/saving/saving_lib.py:719: UserWarning: Skipping variable loading for optimizer 'adam', because it has 2 variables whereas the saved optimizer has 38 variables. \n",
      "  saveable.load_own_variables(weights_store.get(inner_path))\n",
      "/Users/ralf/Projects/learning-projects/datascience-bootcamp/sep24_bds_int_medical/.venv/lib/python3.12/site-packages/keras/src/backend/tensorflow/trainer.py:75: UserWarning: The model does not have any trainable weights.\n",
      "  warnings.warn(\"The model does not have any trainable weights.\")\n"
     ]
    },
    {
     "name": "stdout",
     "output_type": "stream",
     "text": [
      "8091/8091 - 6s - 711us/step - loss: 3.4391 - rmse: 3.7227\n",
      "13:58:51 - Predicting\n",
      "843/843 - 1s - 796us/step\n",
      "13:58:52 - Calculating scores\n",
      "13:58:52 - R^2: 0.6891171941706795, RMSE: 1.8180517341739884, MAE: 1.379359210855729, MSE: 3.3053121081330468\n",
      "13:58:52 - Split 3 - Model: dnn\n",
      "13:58:52 - Fitting the model\n"
     ]
    },
    {
     "name": "stderr",
     "output_type": "stream",
     "text": [
      "/Users/ralf/Projects/learning-projects/datascience-bootcamp/sep24_bds_int_medical/.venv/lib/python3.12/site-packages/keras/src/saving/saving_lib.py:719: UserWarning: Skipping variable loading for optimizer 'adam', because it has 2 variables whereas the saved optimizer has 38 variables. \n",
      "  saveable.load_own_variables(weights_store.get(inner_path))\n",
      "/Users/ralf/Projects/learning-projects/datascience-bootcamp/sep24_bds_int_medical/.venv/lib/python3.12/site-packages/keras/src/backend/tensorflow/trainer.py:75: UserWarning: The model does not have any trainable weights.\n",
      "  warnings.warn(\"The model does not have any trainable weights.\")\n"
     ]
    },
    {
     "name": "stdout",
     "output_type": "stream",
     "text": [
      "8091/8091 - 5s - 660us/step - loss: 3.4319 - rmse: 3.7256\n",
      "13:58:57 - Predicting\n",
      "843/843 - 1s - 627us/step\n",
      "13:58:58 - Calculating scores\n",
      "13:58:58 - R^2: 0.6828010974853079, RMSE: 1.8304059612817558, MAE: 1.3921486740143416, MSE: 3.350385983095789\n",
      "13:58:58 - Split 4 - Model: dnn\n",
      "13:58:58 - Fitting the model\n"
     ]
    },
    {
     "name": "stderr",
     "output_type": "stream",
     "text": [
      "/Users/ralf/Projects/learning-projects/datascience-bootcamp/sep24_bds_int_medical/.venv/lib/python3.12/site-packages/keras/src/saving/saving_lib.py:719: UserWarning: Skipping variable loading for optimizer 'adam', because it has 2 variables whereas the saved optimizer has 38 variables. \n",
      "  saveable.load_own_variables(weights_store.get(inner_path))\n",
      "/Users/ralf/Projects/learning-projects/datascience-bootcamp/sep24_bds_int_medical/.venv/lib/python3.12/site-packages/keras/src/backend/tensorflow/trainer.py:75: UserWarning: The model does not have any trainable weights.\n",
      "  warnings.warn(\"The model does not have any trainable weights.\")\n"
     ]
    },
    {
     "name": "stdout",
     "output_type": "stream",
     "text": [
      "8091/8091 - 5s - 634us/step - loss: 3.4308 - rmse: 3.7241\n",
      "13:59:03 - Predicting\n",
      "843/843 - 1s - 680us/step\n",
      "13:59:04 - Calculating scores\n",
      "13:59:04 - R^2: 0.6889258041467431, RMSE: 1.8123025013509324, MAE: 1.3759986242841753, MSE: 3.2844403564028464\n",
      "13:59:04 - Split 5 - Model: dnn\n",
      "13:59:04 - Fitting the model\n"
     ]
    },
    {
     "name": "stderr",
     "output_type": "stream",
     "text": [
      "/Users/ralf/Projects/learning-projects/datascience-bootcamp/sep24_bds_int_medical/.venv/lib/python3.12/site-packages/keras/src/saving/saving_lib.py:719: UserWarning: Skipping variable loading for optimizer 'adam', because it has 2 variables whereas the saved optimizer has 38 variables. \n",
      "  saveable.load_own_variables(weights_store.get(inner_path))\n",
      "/Users/ralf/Projects/learning-projects/datascience-bootcamp/sep24_bds_int_medical/.venv/lib/python3.12/site-packages/keras/src/backend/tensorflow/trainer.py:75: UserWarning: The model does not have any trainable weights.\n",
      "  warnings.warn(\"The model does not have any trainable weights.\")\n"
     ]
    },
    {
     "name": "stdout",
     "output_type": "stream",
     "text": [
      "8091/8091 - 5s - 618us/step - loss: 3.4428 - rmse: 3.7216\n",
      "13:59:09 - Predicting\n",
      "843/843 - 1s - 646us/step\n",
      "13:59:10 - Calculating scores\n",
      "13:59:10 - R^2: 0.6877803535353225, RMSE: 1.8203382326490622, MAE: 1.382766681410079, MSE: 3.3136312812439117\n",
      "13:59:10 - Training finished\n",
      "13:59:10 - Calculate performance for final_estimator\n",
      "13:59:10 - Selected splitter: ShuffleSplit(n_splits=5, random_state=42, test_size=0.2, train_size=None)\n",
      "13:59:10 - Split 1 - Model: final_estimator\n",
      "13:59:10 - Fitting the model\n",
      "13:59:10 - Predicting\n",
      "13:59:10 - Calculating scores\n",
      "13:59:10 - R^2: 0.5416336603327585, RMSE: 2.204812119703481, MAE: 1.6578682976489942, MSE: 4.861196483191357\n",
      "13:59:10 - Split 2 - Model: final_estimator\n",
      "13:59:10 - Fitting the model\n",
      "13:59:10 - Predicting\n",
      "13:59:10 - Calculating scores\n",
      "13:59:10 - R^2: 0.5447389574809235, RMSE: 2.2000782625240527, MAE: 1.6590599141697953, MSE: 4.840344361230854\n",
      "13:59:10 - Split 3 - Model: final_estimator\n",
      "13:59:10 - Fitting the model\n",
      "13:59:11 - Predicting\n",
      "13:59:11 - Calculating scores\n",
      "13:59:11 - R^2: 0.5417274290720819, RMSE: 2.200105544880789, MAE: 1.662429640519694, MSE: 4.840464408615193\n",
      "13:59:11 - Split 4 - Model: final_estimator\n",
      "13:59:11 - Fitting the model\n",
      "13:59:11 - Predicting\n",
      "13:59:11 - Calculating scores\n",
      "13:59:11 - R^2: 0.544287587468798, RMSE: 2.19353276182134, MAE: 1.6543813004640033, MSE: 4.811585977183556\n",
      "13:59:11 - Split 5 - Model: final_estimator\n",
      "13:59:11 - Fitting the model\n",
      "13:59:11 - Predicting\n",
      "13:59:11 - Calculating scores\n",
      "13:59:11 - R^2: 0.5439924284246376, RMSE: 2.1999256518754713, MAE: 1.655949342047831, MSE: 4.839672873779717\n",
      "13:59:11 - Training finished\n",
      "13:59:11 - Calculate performance for stacking_regressor\n",
      "13:59:11 - Selected splitter: ShuffleSplit(n_splits=5, random_state=42, test_size=0.2, train_size=None)\n",
      "13:59:11 - Split 1 - Model: stacking_regressor\n",
      "13:59:11 - Fitting the model\n"
     ]
    },
    {
     "name": "stderr",
     "output_type": "stream",
     "text": [
      "/Users/ralf/Projects/learning-projects/datascience-bootcamp/sep24_bds_int_medical/.venv/lib/python3.12/site-packages/keras/src/saving/saving_lib.py:719: UserWarning: Skipping variable loading for optimizer 'adam', because it has 2 variables whereas the saved optimizer has 38 variables. \n",
      "  saveable.load_own_variables(weights_store.get(inner_path))\n",
      "/Users/ralf/Projects/learning-projects/datascience-bootcamp/sep24_bds_int_medical/.venv/lib/python3.12/site-packages/keras/src/backend/tensorflow/trainer.py:75: UserWarning: The model does not have any trainable weights.\n",
      "  warnings.warn(\"The model does not have any trainable weights.\")\n"
     ]
    },
    {
     "name": "stdout",
     "output_type": "stream",
     "text": [
      "8091/8091 - 6s - 749us/step - loss: 3.4507 - rmse: 3.7266\n"
     ]
    },
    {
     "name": "stderr",
     "output_type": "stream",
     "text": [
      "/Users/ralf/Projects/learning-projects/datascience-bootcamp/sep24_bds_int_medical/.venv/lib/python3.12/site-packages/keras/src/saving/saving_lib.py:719: UserWarning: Skipping variable loading for optimizer 'adam', because it has 2 variables whereas the saved optimizer has 38 variables. \n",
      "  saveable.load_own_variables(weights_store.get(inner_path))\n",
      "/Users/ralf/Projects/learning-projects/datascience-bootcamp/sep24_bds_int_medical/.venv/lib/python3.12/site-packages/keras/src/backend/tensorflow/trainer.py:75: UserWarning: The model does not have any trainable weights.\n",
      "  warnings.warn(\"The model does not have any trainable weights.\")\n"
     ]
    },
    {
     "name": "stdout",
     "output_type": "stream",
     "text": [
      "6473/6473 - 4s - 651us/step - loss: 3.3127 - rmse: 3.7492\n",
      "1619/1619 - 1s - 654us/step\n"
     ]
    },
    {
     "name": "stderr",
     "output_type": "stream",
     "text": [
      "/Users/ralf/Projects/learning-projects/datascience-bootcamp/sep24_bds_int_medical/.venv/lib/python3.12/site-packages/keras/src/saving/saving_lib.py:719: UserWarning: Skipping variable loading for optimizer 'adam', because it has 2 variables whereas the saved optimizer has 38 variables. \n",
      "  saveable.load_own_variables(weights_store.get(inner_path))\n",
      "/Users/ralf/Projects/learning-projects/datascience-bootcamp/sep24_bds_int_medical/.venv/lib/python3.12/site-packages/keras/src/backend/tensorflow/trainer.py:75: UserWarning: The model does not have any trainable weights.\n",
      "  warnings.warn(\"The model does not have any trainable weights.\")\n"
     ]
    },
    {
     "name": "stdout",
     "output_type": "stream",
     "text": [
      "6473/6473 - 4s - 666us/step - loss: 3.5827 - rmse: 3.7706\n",
      "1619/1619 - 1s - 577us/step\n"
     ]
    },
    {
     "name": "stderr",
     "output_type": "stream",
     "text": [
      "/Users/ralf/Projects/learning-projects/datascience-bootcamp/sep24_bds_int_medical/.venv/lib/python3.12/site-packages/keras/src/saving/saving_lib.py:719: UserWarning: Skipping variable loading for optimizer 'adam', because it has 2 variables whereas the saved optimizer has 38 variables. \n",
      "  saveable.load_own_variables(weights_store.get(inner_path))\n",
      "/Users/ralf/Projects/learning-projects/datascience-bootcamp/sep24_bds_int_medical/.venv/lib/python3.12/site-packages/keras/src/backend/tensorflow/trainer.py:75: UserWarning: The model does not have any trainable weights.\n",
      "  warnings.warn(\"The model does not have any trainable weights.\")\n"
     ]
    },
    {
     "name": "stdout",
     "output_type": "stream",
     "text": [
      "6473/6473 - 4s - 614us/step - loss: 3.5246 - rmse: 3.7457\n",
      "1619/1619 - 1s - 548us/step\n"
     ]
    },
    {
     "name": "stderr",
     "output_type": "stream",
     "text": [
      "/Users/ralf/Projects/learning-projects/datascience-bootcamp/sep24_bds_int_medical/.venv/lib/python3.12/site-packages/keras/src/saving/saving_lib.py:719: UserWarning: Skipping variable loading for optimizer 'adam', because it has 2 variables whereas the saved optimizer has 38 variables. \n",
      "  saveable.load_own_variables(weights_store.get(inner_path))\n",
      "/Users/ralf/Projects/learning-projects/datascience-bootcamp/sep24_bds_int_medical/.venv/lib/python3.12/site-packages/keras/src/backend/tensorflow/trainer.py:75: UserWarning: The model does not have any trainable weights.\n",
      "  warnings.warn(\"The model does not have any trainable weights.\")\n"
     ]
    },
    {
     "name": "stdout",
     "output_type": "stream",
     "text": [
      "6473/6473 - 5s - 814us/step - loss: 3.4005 - rmse: 3.6653\n",
      "1619/1619 - 1s - 621us/step\n"
     ]
    },
    {
     "name": "stderr",
     "output_type": "stream",
     "text": [
      "/Users/ralf/Projects/learning-projects/datascience-bootcamp/sep24_bds_int_medical/.venv/lib/python3.12/site-packages/keras/src/saving/saving_lib.py:719: UserWarning: Skipping variable loading for optimizer 'adam', because it has 2 variables whereas the saved optimizer has 38 variables. \n",
      "  saveable.load_own_variables(weights_store.get(inner_path))\n",
      "/Users/ralf/Projects/learning-projects/datascience-bootcamp/sep24_bds_int_medical/.venv/lib/python3.12/site-packages/keras/src/backend/tensorflow/trainer.py:75: UserWarning: The model does not have any trainable weights.\n",
      "  warnings.warn(\"The model does not have any trainable weights.\")\n"
     ]
    },
    {
     "name": "stdout",
     "output_type": "stream",
     "text": [
      "6473/6473 - 4s - 687us/step - loss: 3.3581 - rmse: 3.6706\n",
      "1619/1619 - 1s - 664us/step\n",
      "14:01:47 - Predicting\n",
      "843/843 - 1s - 647us/step\n",
      "14:01:55 - Calculating scores\n",
      "14:01:55 - R^2: 0.708701344255717, RMSE: 1.7576583796629652, MAE: 1.3068294295160836, MSE: 3.08936297959944\n",
      "14:01:55 - Split 2 - Model: stacking_regressor\n",
      "14:01:55 - Fitting the model\n"
     ]
    },
    {
     "name": "stderr",
     "output_type": "stream",
     "text": [
      "/Users/ralf/Projects/learning-projects/datascience-bootcamp/sep24_bds_int_medical/.venv/lib/python3.12/site-packages/keras/src/saving/saving_lib.py:719: UserWarning: Skipping variable loading for optimizer 'adam', because it has 2 variables whereas the saved optimizer has 38 variables. \n",
      "  saveable.load_own_variables(weights_store.get(inner_path))\n",
      "/Users/ralf/Projects/learning-projects/datascience-bootcamp/sep24_bds_int_medical/.venv/lib/python3.12/site-packages/keras/src/backend/tensorflow/trainer.py:75: UserWarning: The model does not have any trainable weights.\n",
      "  warnings.warn(\"The model does not have any trainable weights.\")\n"
     ]
    },
    {
     "name": "stdout",
     "output_type": "stream",
     "text": [
      "8091/8091 - 5s - 671us/step - loss: 3.4358 - rmse: 3.7208\n"
     ]
    },
    {
     "name": "stderr",
     "output_type": "stream",
     "text": [
      "/Users/ralf/Projects/learning-projects/datascience-bootcamp/sep24_bds_int_medical/.venv/lib/python3.12/site-packages/keras/src/saving/saving_lib.py:719: UserWarning: Skipping variable loading for optimizer 'adam', because it has 2 variables whereas the saved optimizer has 38 variables. \n",
      "  saveable.load_own_variables(weights_store.get(inner_path))\n",
      "/Users/ralf/Projects/learning-projects/datascience-bootcamp/sep24_bds_int_medical/.venv/lib/python3.12/site-packages/keras/src/backend/tensorflow/trainer.py:75: UserWarning: The model does not have any trainable weights.\n",
      "  warnings.warn(\"The model does not have any trainable weights.\")\n"
     ]
    },
    {
     "name": "stdout",
     "output_type": "stream",
     "text": [
      "6473/6473 - 5s - 701us/step - loss: 3.3146 - rmse: 3.7489\n",
      "1619/1619 - 1s - 551us/step\n"
     ]
    },
    {
     "name": "stderr",
     "output_type": "stream",
     "text": [
      "/Users/ralf/Projects/learning-projects/datascience-bootcamp/sep24_bds_int_medical/.venv/lib/python3.12/site-packages/keras/src/saving/saving_lib.py:719: UserWarning: Skipping variable loading for optimizer 'adam', because it has 2 variables whereas the saved optimizer has 38 variables. \n",
      "  saveable.load_own_variables(weights_store.get(inner_path))\n",
      "/Users/ralf/Projects/learning-projects/datascience-bootcamp/sep24_bds_int_medical/.venv/lib/python3.12/site-packages/keras/src/backend/tensorflow/trainer.py:75: UserWarning: The model does not have any trainable weights.\n",
      "  warnings.warn(\"The model does not have any trainable weights.\")\n"
     ]
    },
    {
     "name": "stdout",
     "output_type": "stream",
     "text": [
      "6473/6473 - 4s - 611us/step - loss: 3.5911 - rmse: 3.7736\n",
      "1619/1619 - 1s - 620us/step\n"
     ]
    },
    {
     "name": "stderr",
     "output_type": "stream",
     "text": [
      "/Users/ralf/Projects/learning-projects/datascience-bootcamp/sep24_bds_int_medical/.venv/lib/python3.12/site-packages/keras/src/saving/saving_lib.py:719: UserWarning: Skipping variable loading for optimizer 'adam', because it has 2 variables whereas the saved optimizer has 38 variables. \n",
      "  saveable.load_own_variables(weights_store.get(inner_path))\n",
      "/Users/ralf/Projects/learning-projects/datascience-bootcamp/sep24_bds_int_medical/.venv/lib/python3.12/site-packages/keras/src/backend/tensorflow/trainer.py:75: UserWarning: The model does not have any trainable weights.\n",
      "  warnings.warn(\"The model does not have any trainable weights.\")\n"
     ]
    },
    {
     "name": "stdout",
     "output_type": "stream",
     "text": [
      "6473/6473 - 4s - 650us/step - loss: 3.5129 - rmse: 3.7420\n",
      "1619/1619 - 1s - 542us/step\n"
     ]
    },
    {
     "name": "stderr",
     "output_type": "stream",
     "text": [
      "/Users/ralf/Projects/learning-projects/datascience-bootcamp/sep24_bds_int_medical/.venv/lib/python3.12/site-packages/keras/src/saving/saving_lib.py:719: UserWarning: Skipping variable loading for optimizer 'adam', because it has 2 variables whereas the saved optimizer has 38 variables. \n",
      "  saveable.load_own_variables(weights_store.get(inner_path))\n",
      "/Users/ralf/Projects/learning-projects/datascience-bootcamp/sep24_bds_int_medical/.venv/lib/python3.12/site-packages/keras/src/backend/tensorflow/trainer.py:75: UserWarning: The model does not have any trainable weights.\n",
      "  warnings.warn(\"The model does not have any trainable weights.\")\n"
     ]
    },
    {
     "name": "stdout",
     "output_type": "stream",
     "text": [
      "6473/6473 - 4s - 691us/step - loss: 3.3855 - rmse: 3.6650\n",
      "1619/1619 - 1s - 652us/step\n"
     ]
    },
    {
     "name": "stderr",
     "output_type": "stream",
     "text": [
      "/Users/ralf/Projects/learning-projects/datascience-bootcamp/sep24_bds_int_medical/.venv/lib/python3.12/site-packages/keras/src/saving/saving_lib.py:719: UserWarning: Skipping variable loading for optimizer 'adam', because it has 2 variables whereas the saved optimizer has 38 variables. \n",
      "  saveable.load_own_variables(weights_store.get(inner_path))\n",
      "/Users/ralf/Projects/learning-projects/datascience-bootcamp/sep24_bds_int_medical/.venv/lib/python3.12/site-packages/keras/src/backend/tensorflow/trainer.py:75: UserWarning: The model does not have any trainable weights.\n",
      "  warnings.warn(\"The model does not have any trainable weights.\")\n"
     ]
    },
    {
     "name": "stdout",
     "output_type": "stream",
     "text": [
      "6473/6473 - 4s - 613us/step - loss: 3.3828 - rmse: 3.6691\n",
      "1619/1619 - 1s - 545us/step\n",
      "14:04:32 - Predicting\n",
      "843/843 - 1s - 616us/step\n",
      "14:04:40 - Calculating scores\n",
      "14:04:40 - R^2: 0.7093372761792117, RMSE: 1.7579339573466204, MAE: 1.3043881800553179, MSE: 3.0903317983923495\n",
      "14:04:40 - Split 3 - Model: stacking_regressor\n",
      "14:04:40 - Fitting the model\n"
     ]
    },
    {
     "name": "stderr",
     "output_type": "stream",
     "text": [
      "/Users/ralf/Projects/learning-projects/datascience-bootcamp/sep24_bds_int_medical/.venv/lib/python3.12/site-packages/keras/src/saving/saving_lib.py:719: UserWarning: Skipping variable loading for optimizer 'adam', because it has 2 variables whereas the saved optimizer has 38 variables. \n",
      "  saveable.load_own_variables(weights_store.get(inner_path))\n",
      "/Users/ralf/Projects/learning-projects/datascience-bootcamp/sep24_bds_int_medical/.venv/lib/python3.12/site-packages/keras/src/backend/tensorflow/trainer.py:75: UserWarning: The model does not have any trainable weights.\n",
      "  warnings.warn(\"The model does not have any trainable weights.\")\n"
     ]
    },
    {
     "name": "stdout",
     "output_type": "stream",
     "text": [
      "8091/8091 - 5s - 603us/step - loss: 3.4370 - rmse: 3.7248\n"
     ]
    },
    {
     "name": "stderr",
     "output_type": "stream",
     "text": [
      "/Users/ralf/Projects/learning-projects/datascience-bootcamp/sep24_bds_int_medical/.venv/lib/python3.12/site-packages/keras/src/saving/saving_lib.py:719: UserWarning: Skipping variable loading for optimizer 'adam', because it has 2 variables whereas the saved optimizer has 38 variables. \n",
      "  saveable.load_own_variables(weights_store.get(inner_path))\n",
      "/Users/ralf/Projects/learning-projects/datascience-bootcamp/sep24_bds_int_medical/.venv/lib/python3.12/site-packages/keras/src/backend/tensorflow/trainer.py:75: UserWarning: The model does not have any trainable weights.\n",
      "  warnings.warn(\"The model does not have any trainable weights.\")\n"
     ]
    },
    {
     "name": "stdout",
     "output_type": "stream",
     "text": [
      "6473/6473 - 4s - 618us/step - loss: 3.3102 - rmse: 3.7469\n",
      "1619/1619 - 1s - 553us/step\n"
     ]
    },
    {
     "name": "stderr",
     "output_type": "stream",
     "text": [
      "/Users/ralf/Projects/learning-projects/datascience-bootcamp/sep24_bds_int_medical/.venv/lib/python3.12/site-packages/keras/src/saving/saving_lib.py:719: UserWarning: Skipping variable loading for optimizer 'adam', because it has 2 variables whereas the saved optimizer has 38 variables. \n",
      "  saveable.load_own_variables(weights_store.get(inner_path))\n",
      "/Users/ralf/Projects/learning-projects/datascience-bootcamp/sep24_bds_int_medical/.venv/lib/python3.12/site-packages/keras/src/backend/tensorflow/trainer.py:75: UserWarning: The model does not have any trainable weights.\n",
      "  warnings.warn(\"The model does not have any trainable weights.\")\n"
     ]
    },
    {
     "name": "stdout",
     "output_type": "stream",
     "text": [
      "6473/6473 - 4s - 613us/step - loss: 3.5833 - rmse: 3.7732\n",
      "1619/1619 - 1s - 546us/step\n"
     ]
    },
    {
     "name": "stderr",
     "output_type": "stream",
     "text": [
      "/Users/ralf/Projects/learning-projects/datascience-bootcamp/sep24_bds_int_medical/.venv/lib/python3.12/site-packages/keras/src/saving/saving_lib.py:719: UserWarning: Skipping variable loading for optimizer 'adam', because it has 2 variables whereas the saved optimizer has 38 variables. \n",
      "  saveable.load_own_variables(weights_store.get(inner_path))\n",
      "/Users/ralf/Projects/learning-projects/datascience-bootcamp/sep24_bds_int_medical/.venv/lib/python3.12/site-packages/keras/src/backend/tensorflow/trainer.py:75: UserWarning: The model does not have any trainable weights.\n",
      "  warnings.warn(\"The model does not have any trainable weights.\")\n"
     ]
    },
    {
     "name": "stdout",
     "output_type": "stream",
     "text": [
      "6473/6473 - 4s - 605us/step - loss: 3.5255 - rmse: 3.7507\n",
      "1619/1619 - 1s - 547us/step\n"
     ]
    },
    {
     "name": "stderr",
     "output_type": "stream",
     "text": [
      "/Users/ralf/Projects/learning-projects/datascience-bootcamp/sep24_bds_int_medical/.venv/lib/python3.12/site-packages/keras/src/saving/saving_lib.py:719: UserWarning: Skipping variable loading for optimizer 'adam', because it has 2 variables whereas the saved optimizer has 38 variables. \n",
      "  saveable.load_own_variables(weights_store.get(inner_path))\n",
      "/Users/ralf/Projects/learning-projects/datascience-bootcamp/sep24_bds_int_medical/.venv/lib/python3.12/site-packages/keras/src/backend/tensorflow/trainer.py:75: UserWarning: The model does not have any trainable weights.\n",
      "  warnings.warn(\"The model does not have any trainable weights.\")\n"
     ]
    },
    {
     "name": "stdout",
     "output_type": "stream",
     "text": [
      "6473/6473 - 4s - 620us/step - loss: 3.3708 - rmse: 3.6660\n",
      "1619/1619 - 1s - 559us/step\n"
     ]
    },
    {
     "name": "stderr",
     "output_type": "stream",
     "text": [
      "/Users/ralf/Projects/learning-projects/datascience-bootcamp/sep24_bds_int_medical/.venv/lib/python3.12/site-packages/keras/src/saving/saving_lib.py:719: UserWarning: Skipping variable loading for optimizer 'adam', because it has 2 variables whereas the saved optimizer has 38 variables. \n",
      "  saveable.load_own_variables(weights_store.get(inner_path))\n",
      "/Users/ralf/Projects/learning-projects/datascience-bootcamp/sep24_bds_int_medical/.venv/lib/python3.12/site-packages/keras/src/backend/tensorflow/trainer.py:75: UserWarning: The model does not have any trainable weights.\n",
      "  warnings.warn(\"The model does not have any trainable weights.\")\n"
     ]
    },
    {
     "name": "stdout",
     "output_type": "stream",
     "text": [
      "6473/6473 - 4s - 615us/step - loss: 3.3818 - rmse: 3.6664\n",
      "1619/1619 - 1s - 650us/step\n",
      "14:07:10 - Predicting\n",
      "843/843 - 1s - 594us/step\n",
      "14:07:17 - Calculating scores\n",
      "14:07:17 - R^2: 0.7047574249049545, RMSE: 1.765920205742313, MAE: 1.3148994241064753, MSE: 3.118474173048973\n",
      "14:07:17 - Split 4 - Model: stacking_regressor\n",
      "14:07:17 - Fitting the model\n"
     ]
    },
    {
     "name": "stderr",
     "output_type": "stream",
     "text": [
      "/Users/ralf/Projects/learning-projects/datascience-bootcamp/sep24_bds_int_medical/.venv/lib/python3.12/site-packages/keras/src/saving/saving_lib.py:719: UserWarning: Skipping variable loading for optimizer 'adam', because it has 2 variables whereas the saved optimizer has 38 variables. \n",
      "  saveable.load_own_variables(weights_store.get(inner_path))\n",
      "/Users/ralf/Projects/learning-projects/datascience-bootcamp/sep24_bds_int_medical/.venv/lib/python3.12/site-packages/keras/src/backend/tensorflow/trainer.py:75: UserWarning: The model does not have any trainable weights.\n",
      "  warnings.warn(\"The model does not have any trainable weights.\")\n"
     ]
    },
    {
     "name": "stdout",
     "output_type": "stream",
     "text": [
      "8091/8091 - 5s - 604us/step - loss: 3.4440 - rmse: 3.7240\n"
     ]
    },
    {
     "name": "stderr",
     "output_type": "stream",
     "text": [
      "/Users/ralf/Projects/learning-projects/datascience-bootcamp/sep24_bds_int_medical/.venv/lib/python3.12/site-packages/keras/src/saving/saving_lib.py:719: UserWarning: Skipping variable loading for optimizer 'adam', because it has 2 variables whereas the saved optimizer has 38 variables. \n",
      "  saveable.load_own_variables(weights_store.get(inner_path))\n",
      "/Users/ralf/Projects/learning-projects/datascience-bootcamp/sep24_bds_int_medical/.venv/lib/python3.12/site-packages/keras/src/backend/tensorflow/trainer.py:75: UserWarning: The model does not have any trainable weights.\n",
      "  warnings.warn(\"The model does not have any trainable weights.\")\n"
     ]
    },
    {
     "name": "stdout",
     "output_type": "stream",
     "text": [
      "6473/6473 - 4s - 636us/step - loss: 3.3115 - rmse: 3.7497\n",
      "1619/1619 - 1s - 767us/step\n"
     ]
    },
    {
     "name": "stderr",
     "output_type": "stream",
     "text": [
      "/Users/ralf/Projects/learning-projects/datascience-bootcamp/sep24_bds_int_medical/.venv/lib/python3.12/site-packages/keras/src/saving/saving_lib.py:719: UserWarning: Skipping variable loading for optimizer 'adam', because it has 2 variables whereas the saved optimizer has 38 variables. \n",
      "  saveable.load_own_variables(weights_store.get(inner_path))\n",
      "/Users/ralf/Projects/learning-projects/datascience-bootcamp/sep24_bds_int_medical/.venv/lib/python3.12/site-packages/keras/src/backend/tensorflow/trainer.py:75: UserWarning: The model does not have any trainable weights.\n",
      "  warnings.warn(\"The model does not have any trainable weights.\")\n"
     ]
    },
    {
     "name": "stdout",
     "output_type": "stream",
     "text": [
      "6473/6473 - 4s - 643us/step - loss: 3.5964 - rmse: 3.7719\n",
      "1619/1619 - 1s - 595us/step\n"
     ]
    },
    {
     "name": "stderr",
     "output_type": "stream",
     "text": [
      "/Users/ralf/Projects/learning-projects/datascience-bootcamp/sep24_bds_int_medical/.venv/lib/python3.12/site-packages/keras/src/saving/saving_lib.py:719: UserWarning: Skipping variable loading for optimizer 'adam', because it has 2 variables whereas the saved optimizer has 38 variables. \n",
      "  saveable.load_own_variables(weights_store.get(inner_path))\n",
      "/Users/ralf/Projects/learning-projects/datascience-bootcamp/sep24_bds_int_medical/.venv/lib/python3.12/site-packages/keras/src/backend/tensorflow/trainer.py:75: UserWarning: The model does not have any trainable weights.\n",
      "  warnings.warn(\"The model does not have any trainable weights.\")\n"
     ]
    },
    {
     "name": "stdout",
     "output_type": "stream",
     "text": [
      "6473/6473 - 4s - 606us/step - loss: 3.5270 - rmse: 3.7469\n",
      "1619/1619 - 1s - 588us/step\n"
     ]
    },
    {
     "name": "stderr",
     "output_type": "stream",
     "text": [
      "/Users/ralf/Projects/learning-projects/datascience-bootcamp/sep24_bds_int_medical/.venv/lib/python3.12/site-packages/keras/src/saving/saving_lib.py:719: UserWarning: Skipping variable loading for optimizer 'adam', because it has 2 variables whereas the saved optimizer has 38 variables. \n",
      "  saveable.load_own_variables(weights_store.get(inner_path))\n",
      "/Users/ralf/Projects/learning-projects/datascience-bootcamp/sep24_bds_int_medical/.venv/lib/python3.12/site-packages/keras/src/backend/tensorflow/trainer.py:75: UserWarning: The model does not have any trainable weights.\n",
      "  warnings.warn(\"The model does not have any trainable weights.\")\n"
     ]
    },
    {
     "name": "stdout",
     "output_type": "stream",
     "text": [
      "6473/6473 - 4s - 652us/step - loss: 3.3835 - rmse: 3.6651\n",
      "1619/1619 - 1s - 569us/step\n"
     ]
    },
    {
     "name": "stderr",
     "output_type": "stream",
     "text": [
      "/Users/ralf/Projects/learning-projects/datascience-bootcamp/sep24_bds_int_medical/.venv/lib/python3.12/site-packages/keras/src/saving/saving_lib.py:719: UserWarning: Skipping variable loading for optimizer 'adam', because it has 2 variables whereas the saved optimizer has 38 variables. \n",
      "  saveable.load_own_variables(weights_store.get(inner_path))\n",
      "/Users/ralf/Projects/learning-projects/datascience-bootcamp/sep24_bds_int_medical/.venv/lib/python3.12/site-packages/keras/src/backend/tensorflow/trainer.py:75: UserWarning: The model does not have any trainable weights.\n",
      "  warnings.warn(\"The model does not have any trainable weights.\")\n"
     ]
    },
    {
     "name": "stdout",
     "output_type": "stream",
     "text": [
      "6473/6473 - 4s - 653us/step - loss: 3.3838 - rmse: 3.6689\n",
      "1619/1619 - 1s - 600us/step\n",
      "14:09:47 - Predicting\n",
      "843/843 - 1s - 633us/step\n",
      "14:09:54 - Calculating scores\n",
      "14:09:54 - R^2: 0.7081679620006491, RMSE: 1.7553558878454798, MAE: 1.2971415324675104, MSE: 3.081274292993793\n",
      "14:09:54 - Split 5 - Model: stacking_regressor\n",
      "14:09:54 - Fitting the model\n"
     ]
    },
    {
     "name": "stderr",
     "output_type": "stream",
     "text": [
      "/Users/ralf/Projects/learning-projects/datascience-bootcamp/sep24_bds_int_medical/.venv/lib/python3.12/site-packages/keras/src/saving/saving_lib.py:719: UserWarning: Skipping variable loading for optimizer 'adam', because it has 2 variables whereas the saved optimizer has 38 variables. \n",
      "  saveable.load_own_variables(weights_store.get(inner_path))\n",
      "/Users/ralf/Projects/learning-projects/datascience-bootcamp/sep24_bds_int_medical/.venv/lib/python3.12/site-packages/keras/src/backend/tensorflow/trainer.py:75: UserWarning: The model does not have any trainable weights.\n",
      "  warnings.warn(\"The model does not have any trainable weights.\")\n"
     ]
    },
    {
     "name": "stdout",
     "output_type": "stream",
     "text": [
      "8091/8091 - 5s - 604us/step - loss: 3.4284 - rmse: 3.7196\n"
     ]
    },
    {
     "name": "stderr",
     "output_type": "stream",
     "text": [
      "/Users/ralf/Projects/learning-projects/datascience-bootcamp/sep24_bds_int_medical/.venv/lib/python3.12/site-packages/keras/src/saving/saving_lib.py:719: UserWarning: Skipping variable loading for optimizer 'adam', because it has 2 variables whereas the saved optimizer has 38 variables. \n",
      "  saveable.load_own_variables(weights_store.get(inner_path))\n",
      "/Users/ralf/Projects/learning-projects/datascience-bootcamp/sep24_bds_int_medical/.venv/lib/python3.12/site-packages/keras/src/backend/tensorflow/trainer.py:75: UserWarning: The model does not have any trainable weights.\n",
      "  warnings.warn(\"The model does not have any trainable weights.\")\n"
     ]
    },
    {
     "name": "stdout",
     "output_type": "stream",
     "text": [
      "6473/6473 - 4s - 638us/step - loss: 3.3368 - rmse: 3.7482\n",
      "1619/1619 - 1s - 563us/step\n"
     ]
    },
    {
     "name": "stderr",
     "output_type": "stream",
     "text": [
      "/Users/ralf/Projects/learning-projects/datascience-bootcamp/sep24_bds_int_medical/.venv/lib/python3.12/site-packages/keras/src/saving/saving_lib.py:719: UserWarning: Skipping variable loading for optimizer 'adam', because it has 2 variables whereas the saved optimizer has 38 variables. \n",
      "  saveable.load_own_variables(weights_store.get(inner_path))\n",
      "/Users/ralf/Projects/learning-projects/datascience-bootcamp/sep24_bds_int_medical/.venv/lib/python3.12/site-packages/keras/src/backend/tensorflow/trainer.py:75: UserWarning: The model does not have any trainable weights.\n",
      "  warnings.warn(\"The model does not have any trainable weights.\")\n"
     ]
    },
    {
     "name": "stdout",
     "output_type": "stream",
     "text": [
      "6473/6473 - 4s - 638us/step - loss: 3.5872 - rmse: 3.7762\n",
      "1619/1619 - 1s - 546us/step\n"
     ]
    },
    {
     "name": "stderr",
     "output_type": "stream",
     "text": [
      "/Users/ralf/Projects/learning-projects/datascience-bootcamp/sep24_bds_int_medical/.venv/lib/python3.12/site-packages/keras/src/saving/saving_lib.py:719: UserWarning: Skipping variable loading for optimizer 'adam', because it has 2 variables whereas the saved optimizer has 38 variables. \n",
      "  saveable.load_own_variables(weights_store.get(inner_path))\n",
      "/Users/ralf/Projects/learning-projects/datascience-bootcamp/sep24_bds_int_medical/.venv/lib/python3.12/site-packages/keras/src/backend/tensorflow/trainer.py:75: UserWarning: The model does not have any trainable weights.\n",
      "  warnings.warn(\"The model does not have any trainable weights.\")\n"
     ]
    },
    {
     "name": "stdout",
     "output_type": "stream",
     "text": [
      "6473/6473 - 4s - 598us/step - loss: 3.5270 - rmse: 3.7434\n",
      "1619/1619 - 1s - 584us/step\n"
     ]
    },
    {
     "name": "stderr",
     "output_type": "stream",
     "text": [
      "/Users/ralf/Projects/learning-projects/datascience-bootcamp/sep24_bds_int_medical/.venv/lib/python3.12/site-packages/keras/src/saving/saving_lib.py:719: UserWarning: Skipping variable loading for optimizer 'adam', because it has 2 variables whereas the saved optimizer has 38 variables. \n",
      "  saveable.load_own_variables(weights_store.get(inner_path))\n",
      "/Users/ralf/Projects/learning-projects/datascience-bootcamp/sep24_bds_int_medical/.venv/lib/python3.12/site-packages/keras/src/backend/tensorflow/trainer.py:75: UserWarning: The model does not have any trainable weights.\n",
      "  warnings.warn(\"The model does not have any trainable weights.\")\n"
     ]
    },
    {
     "name": "stdout",
     "output_type": "stream",
     "text": [
      "6473/6473 - 4s - 598us/step - loss: 3.3743 - rmse: 3.6688\n",
      "1619/1619 - 1s - 541us/step\n"
     ]
    },
    {
     "name": "stderr",
     "output_type": "stream",
     "text": [
      "/Users/ralf/Projects/learning-projects/datascience-bootcamp/sep24_bds_int_medical/.venv/lib/python3.12/site-packages/keras/src/saving/saving_lib.py:719: UserWarning: Skipping variable loading for optimizer 'adam', because it has 2 variables whereas the saved optimizer has 38 variables. \n",
      "  saveable.load_own_variables(weights_store.get(inner_path))\n",
      "/Users/ralf/Projects/learning-projects/datascience-bootcamp/sep24_bds_int_medical/.venv/lib/python3.12/site-packages/keras/src/backend/tensorflow/trainer.py:75: UserWarning: The model does not have any trainable weights.\n",
      "  warnings.warn(\"The model does not have any trainable weights.\")\n"
     ]
    },
    {
     "name": "stdout",
     "output_type": "stream",
     "text": [
      "6473/6473 - 5s - 699us/step - loss: 3.3667 - rmse: 3.6641\n",
      "1619/1619 - 1s - 653us/step\n",
      "14:12:24 - Predicting\n",
      "843/843 - 1s - 604us/step\n",
      "14:12:32 - Calculating scores\n",
      "14:12:32 - R^2: 0.7098059424698029, RMSE: 1.754956007901104, MAE: 1.3034629281943713, MSE: 3.0798705896681793\n",
      "14:12:32 - Training finished\n",
      "Final estimator RMSE: 1.7583648876996965\n",
      "Final estimator R2: 0.708153989962067\n",
      "Final estimator MSE: 3.091862766740547\n",
      "Final estimator MAE: 1.3053442988679518\n"
     ]
    },
    {
     "data": {
      "text/plain": [
       "<Figure size 640x480 with 1 Axes>"
      ],
      "image/png": "[encoded data removed]"
     },
     "metadata": {},
     "output_type": "display_data"
    },
    {
     "data": {
      "text/plain": [
       "<Figure size 640x480 with 1 Axes>"
      ],
      "image/png": "[encoded data removed]"
     },
     "metadata": {},
     "output_type": "display_data"
    }
   ],
   "execution_count": 8
  },
  {
   "metadata": {
    "ExecuteTime": {
     "end_time": "2024-11-28T13:16:18.796034Z",
     "start_time": "2024-11-28T13:12:32.571648Z"
    }
   },
   "cell_type": "code",
   "source": [
    "import numpy as np\n",
    "from pipelines_selected_features import pipeline\n",
    "\n",
    "all_train_data_transformed = pipeline.fit_transform(pd.concat([train_data, additional_train_data], axis=0))\n",
    "\n",
    "X_train = all_train_data_transformed.drop(columns=['bg+1:00'])\n",
    "y_train = all_train_data_transformed['bg+1:00']\n",
    "X_test = pipeline.transform(test_data)\n",
    "\n",
    "model.fit(X_train, y_train)"
   ],
   "id": "43cf99724f468af4",
   "outputs": [
    {
     "name": "stderr",
     "output_type": "stream",
     "text": [
      "/Users/ralf/Projects/learning-projects/datascience-bootcamp/sep24_bds_int_medical/.venv/lib/python3.12/site-packages/keras/src/saving/saving_lib.py:719: UserWarning: Skipping variable loading for optimizer 'adam', because it has 2 variables whereas the saved optimizer has 38 variables. \n",
      "  saveable.load_own_variables(weights_store.get(inner_path))\n",
      "/Users/ralf/Projects/learning-projects/datascience-bootcamp/sep24_bds_int_medical/.venv/lib/python3.12/site-packages/keras/src/backend/tensorflow/trainer.py:75: UserWarning: The model does not have any trainable weights.\n",
      "  warnings.warn(\"The model does not have any trainable weights.\")\n"
     ]
    },
    {
     "name": "stdout",
     "output_type": "stream",
     "text": [
      "9987/9987 - 6s - 559us/step - loss: 3.5339 - rmse: 3.7668\n"
     ]
    },
    {
     "name": "stderr",
     "output_type": "stream",
     "text": [
      "/Users/ralf/Projects/learning-projects/datascience-bootcamp/sep24_bds_int_medical/.venv/lib/python3.12/site-packages/keras/src/saving/saving_lib.py:719: UserWarning: Skipping variable loading for optimizer 'adam', because it has 2 variables whereas the saved optimizer has 38 variables. \n",
      "  saveable.load_own_variables(weights_store.get(inner_path))\n",
      "/Users/ralf/Projects/learning-projects/datascience-bootcamp/sep24_bds_int_medical/.venv/lib/python3.12/site-packages/keras/src/backend/tensorflow/trainer.py:75: UserWarning: The model does not have any trainable weights.\n",
      "  warnings.warn(\"The model does not have any trainable weights.\")\n"
     ]
    },
    {
     "name": "stdout",
     "output_type": "stream",
     "text": [
      "7990/7990 - 5s - 597us/step - loss: 3.4616 - rmse: 3.8214\n",
      "1998/1998 - 1s - 533us/step\n"
     ]
    },
    {
     "name": "stderr",
     "output_type": "stream",
     "text": [
      "/Users/ralf/Projects/learning-projects/datascience-bootcamp/sep24_bds_int_medical/.venv/lib/python3.12/site-packages/keras/src/saving/saving_lib.py:719: UserWarning: Skipping variable loading for optimizer 'adam', because it has 2 variables whereas the saved optimizer has 38 variables. \n",
      "  saveable.load_own_variables(weights_store.get(inner_path))\n",
      "/Users/ralf/Projects/learning-projects/datascience-bootcamp/sep24_bds_int_medical/.venv/lib/python3.12/site-packages/keras/src/backend/tensorflow/trainer.py:75: UserWarning: The model does not have any trainable weights.\n",
      "  warnings.warn(\"The model does not have any trainable weights.\")\n"
     ]
    },
    {
     "name": "stdout",
     "output_type": "stream",
     "text": [
      "7990/7990 - 5s - 626us/step - loss: 3.6425 - rmse: 3.8015\n",
      "1998/1998 - 1s - 549us/step\n"
     ]
    },
    {
     "name": "stderr",
     "output_type": "stream",
     "text": [
      "/Users/ralf/Projects/learning-projects/datascience-bootcamp/sep24_bds_int_medical/.venv/lib/python3.12/site-packages/keras/src/saving/saving_lib.py:719: UserWarning: Skipping variable loading for optimizer 'adam', because it has 2 variables whereas the saved optimizer has 38 variables. \n",
      "  saveable.load_own_variables(weights_store.get(inner_path))\n",
      "/Users/ralf/Projects/learning-projects/datascience-bootcamp/sep24_bds_int_medical/.venv/lib/python3.12/site-packages/keras/src/backend/tensorflow/trainer.py:75: UserWarning: The model does not have any trainable weights.\n",
      "  warnings.warn(\"The model does not have any trainable weights.\")\n"
     ]
    },
    {
     "name": "stdout",
     "output_type": "stream",
     "text": [
      "7990/7990 - 5s - 620us/step - loss: 3.4696 - rmse: 3.7551\n",
      "1998/1998 - 1s - 539us/step\n"
     ]
    },
    {
     "name": "stderr",
     "output_type": "stream",
     "text": [
      "/Users/ralf/Projects/learning-projects/datascience-bootcamp/sep24_bds_int_medical/.venv/lib/python3.12/site-packages/keras/src/saving/saving_lib.py:719: UserWarning: Skipping variable loading for optimizer 'adam', because it has 2 variables whereas the saved optimizer has 38 variables. \n",
      "  saveable.load_own_variables(weights_store.get(inner_path))\n",
      "/Users/ralf/Projects/learning-projects/datascience-bootcamp/sep24_bds_int_medical/.venv/lib/python3.12/site-packages/keras/src/backend/tensorflow/trainer.py:75: UserWarning: The model does not have any trainable weights.\n",
      "  warnings.warn(\"The model does not have any trainable weights.\")\n"
     ]
    },
    {
     "name": "stdout",
     "output_type": "stream",
     "text": [
      "7990/7990 - 5s - 602us/step - loss: 3.5916 - rmse: 3.7531\n",
      "1998/1998 - 1s - 538us/step\n"
     ]
    },
    {
     "name": "stderr",
     "output_type": "stream",
     "text": [
      "/Users/ralf/Projects/learning-projects/datascience-bootcamp/sep24_bds_int_medical/.venv/lib/python3.12/site-packages/keras/src/saving/saving_lib.py:719: UserWarning: Skipping variable loading for optimizer 'adam', because it has 2 variables whereas the saved optimizer has 38 variables. \n",
      "  saveable.load_own_variables(weights_store.get(inner_path))\n",
      "/Users/ralf/Projects/learning-projects/datascience-bootcamp/sep24_bds_int_medical/.venv/lib/python3.12/site-packages/keras/src/backend/tensorflow/trainer.py:75: UserWarning: The model does not have any trainable weights.\n",
      "  warnings.warn(\"The model does not have any trainable weights.\")\n"
     ]
    },
    {
     "name": "stdout",
     "output_type": "stream",
     "text": [
      "7990/7990 - 5s - 631us/step - loss: 3.4585 - rmse: 3.6875\n",
      "1998/1998 - 1s - 544us/step\n"
     ]
    },
    {
     "data": {
      "text/plain": [
       "StackingRegressor(estimators=[('hgb',\n",
       "                               HistGradientBoostingRegressor(max_depth=5,\n",
       "                                                             max_iter=200)),\n",
       "                              ('lasso_lars_ic',\n",
       "                               LassoLarsIC(criterion='bic', max_iter=10000)),\n",
       "                              ('knn', KNeighborsRegressor()),\n",
       "                              ('xgb',\n",
       "                               XGBRegressor(base_score=None, booster=None,\n",
       "                                            callbacks=None,\n",
       "                                            colsample_bylevel=None,\n",
       "                                            colsample_bynode=None,\n",
       "                                            colsample_bytree=None, device=None,\n",
       "                                            early_stopping_rounds...\n",
       "                                            max_cat_to_onehot=None,\n",
       "                                            max_delta_step=None, max_depth=5,\n",
       "                                            max_leaves=None,\n",
       "                                            min_child_weight=None, missing=nan,\n",
       "                                            monotone_constraints=None,\n",
       "                                            multi_strategy=None,\n",
       "                                            n_estimators=500, n_jobs=None,\n",
       "                                            num_parallel_tree=None,\n",
       "                                            random_state=42, ...)),\n",
       "                              ('dnn',\n",
       "                               KerasRegressor(model=<function model_with_pretrained_weights at 0x13fedd1c0>, verbose=2))],\n",
       "                  final_estimator=Ridge(alpha=0.1), n_jobs=1, verbose=2)"
      ],
      "text/html": [
       "<style>#sk-container-id-1 {\n",
       "  /* Definition of color scheme common for light and dark mode */\n",
       "  --sklearn-color-text: black;\n",
       "  --sklearn-color-line: gray;\n",
       "  /* Definition of color scheme for unfitted estimators */\n",
       "  --sklearn-color-unfitted-level-0: #fff5e6;\n",
       "  --sklearn-color-unfitted-level-1: #f6e4d2;\n",
       "  --sklearn-color-unfitted-level-2: #ffe0b3;\n",
       "  --sklearn-color-unfitted-level-3: chocolate;\n",
       "  /* Definition of color scheme for fitted estimators */\n",
       "  --sklearn-color-fitted-level-0: #f0f8ff;\n",
       "  --sklearn-color-fitted-level-1: #d4ebff;\n",
       "  --sklearn-color-fitted-level-2: #b3dbfd;\n",
       "  --sklearn-color-fitted-level-3: cornflowerblue;\n",
       "\n",
       "  /* Specific color for light theme */\n",
       "  --sklearn-color-text-on-default-background: var(--sg-text-color, var(--theme-code-foreground, var(--jp-content-font-color1, black)));\n",
       "  --sklearn-color-background: var(--sg-background-color, var(--theme-background, var(--jp-layout-color0, white)));\n",
       "  --sklearn-color-border-box: var(--sg-text-color, var(--theme-code-foreground, var(--jp-content-font-color1, black)));\n",
       "  --sklearn-color-icon: #696969;\n",
       "\n",
       "  @media (prefers-color-scheme: dark) {\n",
       "    /* Redefinition of color scheme for dark theme */\n",
       "    --sklearn-color-text-on-default-background: var(--sg-text-color, var(--theme-code-foreground, var(--jp-content-font-color1, white)));\n",
       "    --sklearn-color-background: var(--sg-background-color, var(--theme-background, var(--jp-layout-color0, #111)));\n",
       "    --sklearn-color-border-box: var(--sg-text-color, var(--theme-code-foreground, var(--jp-content-font-color1, white)));\n",
       "    --sklearn-color-icon: #878787;\n",
       "  }\n",
       "}\n",
       "\n",
       "#sk-container-id-1 {\n",
       "  color: var(--sklearn-color-text);\n",
       "}\n",
       "\n",
       "#sk-container-id-1 pre {\n",
       "  padding: 0;\n",
       "}\n",
       "\n",
       "#sk-container-id-1 input.sk-hidden--visually {\n",
       "  border: 0;\n",
       "  clip: rect(1px 1px 1px 1px);\n",
       "  clip: rect(1px, 1px, 1px, 1px);\n",
       "  height: 1px;\n",
       "  margin: -1px;\n",
       "  overflow: hidden;\n",
       "  padding: 0;\n",
       "  position: absolute;\n",
       "  width: 1px;\n",
       "}\n",
       "\n",
       "#sk-container-id-1 div.sk-dashed-wrapped {\n",
       "  border: 1px dashed var(--sklearn-color-line);\n",
       "  margin: 0 0.4em 0.5em 0.4em;\n",
       "  box-sizing: border-box;\n",
       "  padding-bottom: 0.4em;\n",
       "  background-color: var(--sklearn-color-background);\n",
       "}\n",
       "\n",
       "#sk-container-id-1 div.sk-container {\n",
       "  /* jupyter's `normalize.less` sets `[hidden] { display: none; }`\n",
       "     but bootstrap.min.css set `[hidden] { display: none !important; }`\n",
       "     so we also need the `!important` here to be able to override the\n",
       "     default hidden behavior on the sphinx rendered scikit-learn.org.\n",
       "     See: https://github.com/scikit-learn/scikit-learn/issues/21755 */\n",
       "  display: inline-block !important;\n",
       "  position: relative;\n",
       "}\n",
       "\n",
       "#sk-container-id-1 div.sk-text-repr-fallback {\n",
       "  display: none;\n",
       "}\n",
       "\n",
       "div.sk-parallel-item,\n",
       "div.sk-serial,\n",
       "div.sk-item {\n",
       "  /* draw centered vertical line to link estimators */\n",
       "  background-image: linear-gradient(var(--sklearn-color-text-on-default-background), var(--sklearn-color-text-on-default-background));\n",
       "  background-size: 2px 100%;\n",
       "  background-repeat: no-repeat;\n",
       "  background-position: center center;\n",
       "}\n",
       "\n",
       "/* Parallel-specific style estimator block */\n",
       "\n",
       "#sk-container-id-1 div.sk-parallel-item::after {\n",
       "  content: \"\";\n",
       "  width: 100%;\n",
       "  border-bottom: 2px solid var(--sklearn-color-text-on-default-background);\n",
       "  flex-grow: 1;\n",
       "}\n",
       "\n",
       "#sk-container-id-1 div.sk-parallel {\n",
       "  display: flex;\n",
       "  align-items: stretch;\n",
       "  justify-content: center;\n",
       "  background-color: var(--sklearn-color-background);\n",
       "  position: relative;\n",
       "}\n",
       "\n",
       "#sk-container-id-1 div.sk-parallel-item {\n",
       "  display: flex;\n",
       "  flex-direction: column;\n",
       "}\n",
       "\n",
       "#sk-container-id-1 div.sk-parallel-item:first-child::after {\n",
       "  align-self: flex-end;\n",
       "  width: 50%;\n",
       "}\n",
       "\n",
       "#sk-container-id-1 div.sk-parallel-item:last-child::after {\n",
       "  align-self: flex-start;\n",
       "  width: 50%;\n",
       "}\n",
       "\n",
       "#sk-container-id-1 div.sk-parallel-item:only-child::after {\n",
       "  width: 0;\n",
       "}\n",
       "\n",
       "/* Serial-specific style estimator block */\n",
       "\n",
       "#sk-container-id-1 div.sk-serial {\n",
       "  display: flex;\n",
       "  flex-direction: column;\n",
       "  align-items: center;\n",
       "  background-color: var(--sklearn-color-background);\n",
       "  padding-right: 1em;\n",
       "  padding-left: 1em;\n",
       "}\n",
       "\n",
       "\n",
       "/* Toggleable style: style used for estimator/Pipeline/ColumnTransformer box that is\n",
       "clickable and can be expanded/collapsed.\n",
       "- Pipeline and ColumnTransformer use this feature and define the default style\n",
       "- Estimators will overwrite some part of the style using the `sk-estimator` class\n",
       "*/\n",
       "\n",
       "/* Pipeline and ColumnTransformer style (default) */\n",
       "\n",
       "#sk-container-id-1 div.sk-toggleable {\n",
       "  /* Default theme specific background. It is overwritten whether we have a\n",
       "  specific estimator or a Pipeline/ColumnTransformer */\n",
       "  background-color: var(--sklearn-color-background);\n",
       "}\n",
       "\n",
       "/* Toggleable label */\n",
       "#sk-container-id-1 label.sk-toggleable__label {\n",
       "  cursor: pointer;\n",
       "  display: block;\n",
       "  width: 100%;\n",
       "  margin-bottom: 0;\n",
       "  padding: 0.5em;\n",
       "  box-sizing: border-box;\n",
       "  text-align: center;\n",
       "}\n",
       "\n",
       "#sk-container-id-1 label.sk-toggleable__label-arrow:before {\n",
       "  /* Arrow on the left of the label */\n",
       "  content: \"▸\";\n",
       "  float: left;\n",
       "  margin-right: 0.25em;\n",
       "  color: var(--sklearn-color-icon);\n",
       "}\n",
       "\n",
       "#sk-container-id-1 label.sk-toggleable__label-arrow:hover:before {\n",
       "  color: var(--sklearn-color-text);\n",
       "}\n",
       "\n",
       "/* Toggleable content - dropdown */\n",
       "\n",
       "#sk-container-id-1 div.sk-toggleable__content {\n",
       "  max-height: 0;\n",
       "  max-width: 0;\n",
       "  overflow: hidden;\n",
       "  text-align: left;\n",
       "  /* unfitted */\n",
       "  background-color: var(--sklearn-color-unfitted-level-0);\n",
       "}\n",
       "\n",
       "#sk-container-id-1 div.sk-toggleable__content.fitted {\n",
       "  /* fitted */\n",
       "  background-color: var(--sklearn-color-fitted-level-0);\n",
       "}\n",
       "\n",
       "#sk-container-id-1 div.sk-toggleable__content pre {\n",
       "  margin: 0.2em;\n",
       "  border-radius: 0.25em;\n",
       "  color: var(--sklearn-color-text);\n",
       "  /* unfitted */\n",
       "  background-color: var(--sklearn-color-unfitted-level-0);\n",
       "}\n",
       "\n",
       "#sk-container-id-1 div.sk-toggleable__content.fitted pre {\n",
       "  /* unfitted */\n",
       "  background-color: var(--sklearn-color-fitted-level-0);\n",
       "}\n",
       "\n",
       "#sk-container-id-1 input.sk-toggleable__control:checked~div.sk-toggleable__content {\n",
       "  /* Expand drop-down */\n",
       "  max-height: 200px;\n",
       "  max-width: 100%;\n",
       "  overflow: auto;\n",
       "}\n",
       "\n",
       "#sk-container-id-1 input.sk-toggleable__control:checked~label.sk-toggleable__label-arrow:before {\n",
       "  content: \"▾\";\n",
       "}\n",
       "\n",
       "/* Pipeline/ColumnTransformer-specific style */\n",
       "\n",
       "#sk-container-id-1 div.sk-label input.sk-toggleable__control:checked~label.sk-toggleable__label {\n",
       "  color: var(--sklearn-color-text);\n",
       "  background-color: var(--sklearn-color-unfitted-level-2);\n",
       "}\n",
       "\n",
       "#sk-container-id-1 div.sk-label.fitted input.sk-toggleable__control:checked~label.sk-toggleable__label {\n",
       "  background-color: var(--sklearn-color-fitted-level-2);\n",
       "}\n",
       "\n",
       "/* Estimator-specific style */\n",
       "\n",
       "/* Colorize estimator box */\n",
       "#sk-container-id-1 div.sk-estimator input.sk-toggleable__control:checked~label.sk-toggleable__label {\n",
       "  /* unfitted */\n",
       "  background-color: var(--sklearn-color-unfitted-level-2);\n",
       "}\n",
       "\n",
       "#sk-container-id-1 div.sk-estimator.fitted input.sk-toggleable__control:checked~label.sk-toggleable__label {\n",
       "  /* fitted */\n",
       "  background-color: var(--sklearn-color-fitted-level-2);\n",
       "}\n",
       "\n",
       "#sk-container-id-1 div.sk-label label.sk-toggleable__label,\n",
       "#sk-container-id-1 div.sk-label label {\n",
       "  /* The background is the default theme color */\n",
       "  color: var(--sklearn-color-text-on-default-background);\n",
       "}\n",
       "\n",
       "/* On hover, darken the color of the background */\n",
       "#sk-container-id-1 div.sk-label:hover label.sk-toggleable__label {\n",
       "  color: var(--sklearn-color-text);\n",
       "  background-color: var(--sklearn-color-unfitted-level-2);\n",
       "}\n",
       "\n",
       "/* Label box, darken color on hover, fitted */\n",
       "#sk-container-id-1 div.sk-label.fitted:hover label.sk-toggleable__label.fitted {\n",
       "  color: var(--sklearn-color-text);\n",
       "  background-color: var(--sklearn-color-fitted-level-2);\n",
       "}\n",
       "\n",
       "/* Estimator label */\n",
       "\n",
       "#sk-container-id-1 div.sk-label label {\n",
       "  font-family: monospace;\n",
       "  font-weight: bold;\n",
       "  display: inline-block;\n",
       "  line-height: 1.2em;\n",
       "}\n",
       "\n",
       "#sk-container-id-1 div.sk-label-container {\n",
       "  text-align: center;\n",
       "}\n",
       "\n",
       "/* Estimator-specific */\n",
       "#sk-container-id-1 div.sk-estimator {\n",
       "  font-family: monospace;\n",
       "  border: 1px dotted var(--sklearn-color-border-box);\n",
       "  border-radius: 0.25em;\n",
       "  box-sizing: border-box;\n",
       "  margin-bottom: 0.5em;\n",
       "  /* unfitted */\n",
       "  background-color: var(--sklearn-color-unfitted-level-0);\n",
       "}\n",
       "\n",
       "#sk-container-id-1 div.sk-estimator.fitted {\n",
       "  /* fitted */\n",
       "  background-color: var(--sklearn-color-fitted-level-0);\n",
       "}\n",
       "\n",
       "/* on hover */\n",
       "#sk-container-id-1 div.sk-estimator:hover {\n",
       "  /* unfitted */\n",
       "  background-color: var(--sklearn-color-unfitted-level-2);\n",
       "}\n",
       "\n",
       "#sk-container-id-1 div.sk-estimator.fitted:hover {\n",
       "  /* fitted */\n",
       "  background-color: var(--sklearn-color-fitted-level-2);\n",
       "}\n",
       "\n",
       "/* Specification for estimator info (e.g. \"i\" and \"?\") */\n",
       "\n",
       "/* Common style for \"i\" and \"?\" */\n",
       "\n",
       ".sk-estimator-doc-link,\n",
       "a:link.sk-estimator-doc-link,\n",
       "a:visited.sk-estimator-doc-link {\n",
       "  float: right;\n",
       "  font-size: smaller;\n",
       "  line-height: 1em;\n",
       "  font-family: monospace;\n",
       "  background-color: var(--sklearn-color-background);\n",
       "  border-radius: 1em;\n",
       "  height: 1em;\n",
       "  width: 1em;\n",
       "  text-decoration: none !important;\n",
       "  margin-left: 1ex;\n",
       "  /* unfitted */\n",
       "  border: var(--sklearn-color-unfitted-level-1) 1pt solid;\n",
       "  color: var(--sklearn-color-unfitted-level-1);\n",
       "}\n",
       "\n",
       ".sk-estimator-doc-link.fitted,\n",
       "a:link.sk-estimator-doc-link.fitted,\n",
       "a:visited.sk-estimator-doc-link.fitted {\n",
       "  /* fitted */\n",
       "  border: var(--sklearn-color-fitted-level-1) 1pt solid;\n",
       "  color: var(--sklearn-color-fitted-level-1);\n",
       "}\n",
       "\n",
       "/* On hover */\n",
       "div.sk-estimator:hover .sk-estimator-doc-link:hover,\n",
       ".sk-estimator-doc-link:hover,\n",
       "div.sk-label-container:hover .sk-estimator-doc-link:hover,\n",
       ".sk-estimator-doc-link:hover {\n",
       "  /* unfitted */\n",
       "  background-color: var(--sklearn-color-unfitted-level-3);\n",
       "  color: var(--sklearn-color-background);\n",
       "  text-decoration: none;\n",
       "}\n",
       "\n",
       "div.sk-estimator.fitted:hover .sk-estimator-doc-link.fitted:hover,\n",
       ".sk-estimator-doc-link.fitted:hover,\n",
       "div.sk-label-container:hover .sk-estimator-doc-link.fitted:hover,\n",
       ".sk-estimator-doc-link.fitted:hover {\n",
       "  /* fitted */\n",
       "  background-color: var(--sklearn-color-fitted-level-3);\n",
       "  color: var(--sklearn-color-background);\n",
       "  text-decoration: none;\n",
       "}\n",
       "\n",
       "/* Span, style for the box shown on hovering the info icon */\n",
       ".sk-estimator-doc-link span {\n",
       "  display: none;\n",
       "  z-index: 9999;\n",
       "  position: relative;\n",
       "  font-weight: normal;\n",
       "  right: .2ex;\n",
       "  padding: .5ex;\n",
       "  margin: .5ex;\n",
       "  width: min-content;\n",
       "  min-width: 20ex;\n",
       "  max-width: 50ex;\n",
       "  color: var(--sklearn-color-text);\n",
       "  box-shadow: 2pt 2pt 4pt #999;\n",
       "  /* unfitted */\n",
       "  background: var(--sklearn-color-unfitted-level-0);\n",
       "  border: .5pt solid var(--sklearn-color-unfitted-level-3);\n",
       "}\n",
       "\n",
       ".sk-estimator-doc-link.fitted span {\n",
       "  /* fitted */\n",
       "  background: var(--sklearn-color-fitted-level-0);\n",
       "  border: var(--sklearn-color-fitted-level-3);\n",
       "}\n",
       "\n",
       ".sk-estimator-doc-link:hover span {\n",
       "  display: block;\n",
       "}\n",
       "\n",
       "/* \"?\"-specific style due to the `<a>` HTML tag */\n",
       "\n",
       "#sk-container-id-1 a.estimator_doc_link {\n",
       "  float: right;\n",
       "  font-size: 1rem;\n",
       "  line-height: 1em;\n",
       "  font-family: monospace;\n",
       "  background-color: var(--sklearn-color-background);\n",
       "  border-radius: 1rem;\n",
       "  height: 1rem;\n",
       "  width: 1rem;\n",
       "  text-decoration: none;\n",
       "  /* unfitted */\n",
       "  color: var(--sklearn-color-unfitted-level-1);\n",
       "  border: var(--sklearn-color-unfitted-level-1) 1pt solid;\n",
       "}\n",
       "\n",
       "#sk-container-id-1 a.estimator_doc_link.fitted {\n",
       "  /* fitted */\n",
       "  border: var(--sklearn-color-fitted-level-1) 1pt solid;\n",
       "  color: var(--sklearn-color-fitted-level-1);\n",
       "}\n",
       "\n",
       "/* On hover */\n",
       "#sk-container-id-1 a.estimator_doc_link:hover {\n",
       "  /* unfitted */\n",
       "  background-color: var(--sklearn-color-unfitted-level-3);\n",
       "  color: var(--sklearn-color-background);\n",
       "  text-decoration: none;\n",
       "}\n",
       "\n",
       "#sk-container-id-1 a.estimator_doc_link.fitted:hover {\n",
       "  /* fitted */\n",
       "  background-color: var(--sklearn-color-fitted-level-3);\n",
       "}\n",
       "</style><div id=\"sk-container-id-1\" class=\"sk-top-container\"><div class=\"sk-text-repr-fallback\"><pre>StackingRegressor(estimators=[(&#x27;hgb&#x27;,\n",
       "                               HistGradientBoostingRegressor(max_depth=5,\n",
       "                                                             max_iter=200)),\n",
       "                              (&#x27;lasso_lars_ic&#x27;,\n",
       "                               LassoLarsIC(criterion=&#x27;bic&#x27;, max_iter=10000)),\n",
       "                              (&#x27;knn&#x27;, KNeighborsRegressor()),\n",
       "                              (&#x27;xgb&#x27;,\n",
       "                               XGBRegressor(base_score=None, booster=None,\n",
       "                                            callbacks=None,\n",
       "                                            colsample_bylevel=None,\n",
       "                                            colsample_bynode=None,\n",
       "                                            colsample_bytree=None, device=None,\n",
       "                                            early_stopping_rounds...\n",
       "                                            max_cat_to_onehot=None,\n",
       "                                            max_delta_step=None, max_depth=5,\n",
       "                                            max_leaves=None,\n",
       "                                            min_child_weight=None, missing=nan,\n",
       "                                            monotone_constraints=None,\n",
       "                                            multi_strategy=None,\n",
       "                                            n_estimators=500, n_jobs=None,\n",
       "                                            num_parallel_tree=None,\n",
       "                                            random_state=42, ...)),\n",
       "                              (&#x27;dnn&#x27;,\n",
       "                               KerasRegressor(model=&lt;function model_with_pretrained_weights at 0x13fedd1c0&gt;, verbose=2))],\n",
       "                  final_estimator=Ridge(alpha=0.1), n_jobs=1, verbose=2)</pre><b>In a Jupyter environment, please rerun this cell to show the HTML representation or trust the notebook. <br />On GitHub, the HTML representation is unable to render, please try loading this page with nbviewer.org.</b></div><div class=\"sk-container\" hidden><div class=\"sk-item sk-dashed-wrapped\"><div class=\"sk-label-container\"><div class=\"sk-label fitted sk-toggleable\"><input class=\"sk-toggleable__control sk-hidden--visually\" id=\"sk-estimator-id-1\" type=\"checkbox\" ><label for=\"sk-estimator-id-1\" class=\"sk-toggleable__label fitted sk-toggleable__label-arrow fitted\">&nbsp;&nbsp;StackingRegressor<a class=\"sk-estimator-doc-link fitted\" rel=\"noreferrer\" target=\"_blank\" href=\"https://scikit-learn.org/1.5/modules/generated/sklearn.ensemble.StackingRegressor.html\">?<span>Documentation for StackingRegressor</span></a><span class=\"sk-estimator-doc-link fitted\">i<span>Fitted</span></span></label><div class=\"sk-toggleable__content fitted\"><pre>StackingRegressor(estimators=[(&#x27;hgb&#x27;,\n",
       "                               HistGradientBoostingRegressor(max_depth=5,\n",
       "                                                             max_iter=200)),\n",
       "                              (&#x27;lasso_lars_ic&#x27;,\n",
       "                               LassoLarsIC(criterion=&#x27;bic&#x27;, max_iter=10000)),\n",
       "                              (&#x27;knn&#x27;, KNeighborsRegressor()),\n",
       "                              (&#x27;xgb&#x27;,\n",
       "                               XGBRegressor(base_score=None, booster=None,\n",
       "                                            callbacks=None,\n",
       "                                            colsample_bylevel=None,\n",
       "                                            colsample_bynode=None,\n",
       "                                            colsample_bytree=None, device=None,\n",
       "                                            early_stopping_rounds...\n",
       "                                            max_cat_to_onehot=None,\n",
       "                                            max_delta_step=None, max_depth=5,\n",
       "                                            max_leaves=None,\n",
       "                                            min_child_weight=None, missing=nan,\n",
       "                                            monotone_constraints=None,\n",
       "                                            multi_strategy=None,\n",
       "                                            n_estimators=500, n_jobs=None,\n",
       "                                            num_parallel_tree=None,\n",
       "                                            random_state=42, ...)),\n",
       "                              (&#x27;dnn&#x27;,\n",
       "                               KerasRegressor(model=&lt;function model_with_pretrained_weights at 0x13fedd1c0&gt;, verbose=2))],\n",
       "                  final_estimator=Ridge(alpha=0.1), n_jobs=1, verbose=2)</pre></div> </div></div><div class=\"sk-serial\"><div class=\"sk-item\"><div class=\"sk-parallel\"><div class=\"sk-parallel-item\"><div class=\"sk-item\"><div class=\"sk-label-container\"><div class=\"sk-label fitted sk-toggleable\"><label>hgb</label></div></div><div class=\"sk-serial\"><div class=\"sk-item\"><div class=\"sk-estimator fitted sk-toggleable\"><input class=\"sk-toggleable__control sk-hidden--visually\" id=\"sk-estimator-id-2\" type=\"checkbox\" ><label for=\"sk-estimator-id-2\" class=\"sk-toggleable__label fitted sk-toggleable__label-arrow fitted\">&nbsp;HistGradientBoostingRegressor<a class=\"sk-estimator-doc-link fitted\" rel=\"noreferrer\" target=\"_blank\" href=\"https://scikit-learn.org/1.5/modules/generated/sklearn.ensemble.HistGradientBoostingRegressor.html\">?<span>Documentation for HistGradientBoostingRegressor</span></a></label><div class=\"sk-toggleable__content fitted\"><pre>HistGradientBoostingRegressor(max_depth=5, max_iter=200)</pre></div> </div></div></div></div></div><div class=\"sk-parallel-item\"><div class=\"sk-item\"><div class=\"sk-label-container\"><div class=\"sk-label fitted sk-toggleable\"><label>lasso_lars_ic</label></div></div><div class=\"sk-serial\"><div class=\"sk-item\"><div class=\"sk-estimator fitted sk-toggleable\"><input class=\"sk-toggleable__control sk-hidden--visually\" id=\"sk-estimator-id-3\" type=\"checkbox\" ><label for=\"sk-estimator-id-3\" class=\"sk-toggleable__label fitted sk-toggleable__label-arrow fitted\">&nbsp;LassoLarsIC<a class=\"sk-estimator-doc-link fitted\" rel=\"noreferrer\" target=\"_blank\" href=\"https://scikit-learn.org/1.5/modules/generated/sklearn.linear_model.LassoLarsIC.html\">?<span>Documentation for LassoLarsIC</span></a></label><div class=\"sk-toggleable__content fitted\"><pre>LassoLarsIC(criterion=&#x27;bic&#x27;, max_iter=10000)</pre></div> </div></div></div></div></div><div class=\"sk-parallel-item\"><div class=\"sk-item\"><div class=\"sk-label-container\"><div class=\"sk-label fitted sk-toggleable\"><label>knn</label></div></div><div class=\"sk-serial\"><div class=\"sk-item\"><div class=\"sk-estimator fitted sk-toggleable\"><input class=\"sk-toggleable__control sk-hidden--visually\" id=\"sk-estimator-id-4\" type=\"checkbox\" ><label for=\"sk-estimator-id-4\" class=\"sk-toggleable__label fitted sk-toggleable__label-arrow fitted\">&nbsp;KNeighborsRegressor<a class=\"sk-estimator-doc-link fitted\" rel=\"noreferrer\" target=\"_blank\" href=\"https://scikit-learn.org/1.5/modules/generated/sklearn.neighbors.KNeighborsRegressor.html\">?<span>Documentation for KNeighborsRegressor</span></a></label><div class=\"sk-toggleable__content fitted\"><pre>KNeighborsRegressor()</pre></div> </div></div></div></div></div><div class=\"sk-parallel-item\"><div class=\"sk-item\"><div class=\"sk-label-container\"><div class=\"sk-label fitted sk-toggleable\"><label>xgb</label></div></div><div class=\"sk-serial\"><div class=\"sk-item\"><div class=\"sk-estimator fitted sk-toggleable\"><input class=\"sk-toggleable__control sk-hidden--visually\" id=\"sk-estimator-id-5\" type=\"checkbox\" ><label for=\"sk-estimator-id-5\" class=\"sk-toggleable__label fitted sk-toggleable__label-arrow fitted\">XGBRegressor</label><div class=\"sk-toggleable__content fitted\"><pre>XGBRegressor(base_score=None, booster=None, callbacks=None,\n",
       "             colsample_bylevel=None, colsample_bynode=None,\n",
       "             colsample_bytree=None, device=None, early_stopping_rounds=None,\n",
       "             enable_categorical=False, eval_metric=None, feature_types=None,\n",
       "             gamma=None, grow_policy=None, importance_type=None,\n",
       "             interaction_constraints=None, learning_rate=0.1, max_bin=None,\n",
       "             max_cat_threshold=None, max_cat_to_onehot=None,\n",
       "             max_delta_step=None, max_depth=5, max_leaves=None,\n",
       "             min_child_weight=None, missing=nan, monotone_constraints=None,\n",
       "             multi_strategy=None, n_estimators=500, n_jobs=None,\n",
       "             num_parallel_tree=None, random_state=42, ...)</pre></div> </div></div></div></div></div><div class=\"sk-parallel-item\"><div class=\"sk-item\"><div class=\"sk-label-container\"><div class=\"sk-label fitted sk-toggleable\"><label>dnn</label></div></div><div class=\"sk-serial\"><div class=\"sk-item\"><div class=\"sk-estimator fitted sk-toggleable\"><input class=\"sk-toggleable__control sk-hidden--visually\" id=\"sk-estimator-id-6\" type=\"checkbox\" ><label for=\"sk-estimator-id-6\" class=\"sk-toggleable__label fitted sk-toggleable__label-arrow fitted\">KerasRegressor</label><div class=\"sk-toggleable__content fitted\"><pre>KerasRegressor(\n",
       "\tmodel=&lt;function model_with_pretrained_weights at 0x13fedd1c0&gt;\n",
       "\tbuild_fn=None\n",
       "\twarm_start=False\n",
       "\trandom_state=None\n",
       "\toptimizer=rmsprop\n",
       "\tloss=None\n",
       "\tmetrics=None\n",
       "\tbatch_size=None\n",
       "\tvalidation_batch_size=None\n",
       "\tverbose=2\n",
       "\tcallbacks=None\n",
       "\tvalidation_split=0.0\n",
       "\tshuffle=True\n",
       "\trun_eagerly=False\n",
       "\tepochs=1\n",
       ")</pre></div> </div></div></div></div></div></div></div><div class=\"sk-item\"><div class=\"sk-parallel\"><div class=\"sk-parallel-item\"><div class=\"sk-item\"><div class=\"sk-label-container\"><div class=\"sk-label fitted sk-toggleable\"><label>final_estimator</label></div></div><div class=\"sk-serial\"><div class=\"sk-item\"><div class=\"sk-estimator fitted sk-toggleable\"><input class=\"sk-toggleable__control sk-hidden--visually\" id=\"sk-estimator-id-7\" type=\"checkbox\" ><label for=\"sk-estimator-id-7\" class=\"sk-toggleable__label fitted sk-toggleable__label-arrow fitted\">&nbsp;Ridge<a class=\"sk-estimator-doc-link fitted\" rel=\"noreferrer\" target=\"_blank\" href=\"https://scikit-learn.org/1.5/modules/generated/sklearn.linear_model.Ridge.html\">?<span>Documentation for Ridge</span></a></label><div class=\"sk-toggleable__content fitted\"><pre>Ridge(alpha=0.1)</pre></div> </div></div></div></div></div></div></div></div></div></div></div>"
      ]
     },
     "execution_count": 9,
     "metadata": {},
     "output_type": "execute_result"
    }
   ],
   "execution_count": 9
  },
  {
   "metadata": {
    "ExecuteTime": {
     "end_time": "2024-11-28T13:16:20.421582Z",
     "start_time": "2024-11-28T13:16:18.848172Z"
    }
   },
   "cell_type": "code",
   "source": [
    "y_pred = model.predict(X_test)\n",
    "test_data['bg+1:00'] = y_pred\n",
    "\n",
    "if np.sum(y_pred < 0) > 0:\n",
    "    print(f'Number of negative values: {np.sum(y_pred < 0)}')\n",
    "    bg_min_train = np.min(y_train)\n",
    "    print(f'Min value: {np.min(y_pred)}')\n",
    "    print(f'Filling negative values with {bg_min_train}')\n",
    "    y_pred = np.where(y_pred < 0, bg_min_train, y_pred)\n",
    "\n",
    "test_data['bg+1:00'] = y_pred\n",
    "test_data.head()"
   ],
   "id": "4bc5c6a7c86b6f3c",
   "outputs": [
    {
     "name": "stdout",
     "output_type": "stream",
     "text": [
      "114/114 - 0s - 1ms/step\n"
     ]
    },
    {
     "data": {
      "text/plain": [
       "         p_num      time  bg-5:55  bg-5:50  bg-5:45  bg-5:40  bg-5:35  \\\n",
       "id                                                                      \n",
       "p01_8459   p01  06:45:00      NaN      9.2      NaN      NaN     10.2   \n",
       "p01_8460   p01  11:25:00      NaN      NaN      9.9      NaN      NaN   \n",
       "p01_8461   p01  14:45:00      NaN      5.5      NaN      NaN      5.5   \n",
       "p01_8462   p01  04:30:00      NaN      3.4      NaN      NaN      3.9   \n",
       "p01_8463   p01  04:20:00      NaN      NaN      8.3      NaN      NaN   \n",
       "\n",
       "          bg-5:30  bg-5:25  bg-5:20  ...  activity-0:40  activity-0:35  \\\n",
       "id                                   ...                                 \n",
       "p01_8459      NaN      NaN     10.3  ...            NaN            NaN   \n",
       "p01_8460      9.4      NaN      NaN  ...            NaN            NaN   \n",
       "p01_8461      NaN      NaN      5.2  ...            NaN            NaN   \n",
       "p01_8462      NaN      NaN      4.7  ...            NaN            NaN   \n",
       "p01_8463     10.0      NaN      NaN  ...            NaN            NaN   \n",
       "\n",
       "          activity-0:30  activity-0:25  activity-0:20  activity-0:15  \\\n",
       "id                                                                     \n",
       "p01_8459            NaN            NaN            NaN            NaN   \n",
       "p01_8460            NaN            NaN            NaN            NaN   \n",
       "p01_8461            NaN            NaN            NaN            NaN   \n",
       "p01_8462            NaN            NaN            NaN            NaN   \n",
       "p01_8463            NaN            NaN            NaN            NaN   \n",
       "\n",
       "          activity-0:10  activity-0:05  activity-0:00    bg+1:00  \n",
       "id                                                                \n",
       "p01_8459            NaN            NaN            NaN   8.471742  \n",
       "p01_8460           Walk           Walk           Walk   6.218301  \n",
       "p01_8461            NaN            NaN            NaN   8.204001  \n",
       "p01_8462            NaN            NaN            NaN  11.741727  \n",
       "p01_8463            NaN            NaN            NaN   8.544298  \n",
       "\n",
       "[5 rows x 507 columns]"
      ],
      "text/html": [
       "<div>\n",
       "<style scoped>\n",
       "    .dataframe tbody tr th:only-of-type {\n",
       "        vertical-align: middle;\n",
       "    }\n",
       "\n",
       "    .dataframe tbody tr th {\n",
       "        vertical-align: top;\n",
       "    }\n",
       "\n",
       "    .dataframe thead th {\n",
       "        text-align: right;\n",
       "    }\n",
       "</style>\n",
       "<table border=\"1\" class=\"dataframe\">\n",
       "  <thead>\n",
       "    <tr style=\"text-align: right;\">\n",
       "      <th></th>\n",
       "      <th>p_num</th>\n",
       "      <th>time</th>\n",
       "      <th>bg-5:55</th>\n",
       "      <th>bg-5:50</th>\n",
       "      <th>bg-5:45</th>\n",
       "      <th>bg-5:40</th>\n",
       "      <th>bg-5:35</th>\n",
       "      <th>bg-5:30</th>\n",
       "      <th>bg-5:25</th>\n",
       "      <th>bg-5:20</th>\n",
       "      <th>...</th>\n",
       "      <th>activity-0:40</th>\n",
       "      <th>activity-0:35</th>\n",
       "      <th>activity-0:30</th>\n",
       "      <th>activity-0:25</th>\n",
       "      <th>activity-0:20</th>\n",
       "      <th>activity-0:15</th>\n",
       "      <th>activity-0:10</th>\n",
       "      <th>activity-0:05</th>\n",
       "      <th>activity-0:00</th>\n",
       "      <th>bg+1:00</th>\n",
       "    </tr>\n",
       "    <tr>\n",
       "      <th>id</th>\n",
       "      <th></th>\n",
       "      <th></th>\n",
       "      <th></th>\n",
       "      <th></th>\n",
       "      <th></th>\n",
       "      <th></th>\n",
       "      <th></th>\n",
       "      <th></th>\n",
       "      <th></th>\n",
       "      <th></th>\n",
       "      <th></th>\n",
       "      <th></th>\n",
       "      <th></th>\n",
       "      <th></th>\n",
       "      <th></th>\n",
       "      <th></th>\n",
       "      <th></th>\n",
       "      <th></th>\n",
       "      <th></th>\n",
       "      <th></th>\n",
       "      <th></th>\n",
       "    </tr>\n",
       "  </thead>\n",
       "  <tbody>\n",
       "    <tr>\n",
       "      <th>p01_8459</th>\n",
       "      <td>p01</td>\n",
       "      <td>06:45:00</td>\n",
       "      <td>NaN</td>\n",
       "      <td>9.2</td>\n",
       "      <td>NaN</td>\n",
       "      <td>NaN</td>\n",
       "      <td>10.2</td>\n",
       "      <td>NaN</td>\n",
       "      <td>NaN</td>\n",
       "      <td>10.3</td>\n",
       "      <td>...</td>\n",
       "      <td>NaN</td>\n",
       "      <td>NaN</td>\n",
       "      <td>NaN</td>\n",
       "      <td>NaN</td>\n",
       "      <td>NaN</td>\n",
       "      <td>NaN</td>\n",
       "      <td>NaN</td>\n",
       "      <td>NaN</td>\n",
       "      <td>NaN</td>\n",
       "      <td>8.471742</td>\n",
       "    </tr>\n",
       "    <tr>\n",
       "      <th>p01_8460</th>\n",
       "      <td>p01</td>\n",
       "      <td>11:25:00</td>\n",
       "      <td>NaN</td>\n",
       "      <td>NaN</td>\n",
       "      <td>9.9</td>\n",
       "      <td>NaN</td>\n",
       "      <td>NaN</td>\n",
       "      <td>9.4</td>\n",
       "      <td>NaN</td>\n",
       "      <td>NaN</td>\n",
       "      <td>...</td>\n",
       "      <td>NaN</td>\n",
       "      <td>NaN</td>\n",
       "      <td>NaN</td>\n",
       "      <td>NaN</td>\n",
       "      <td>NaN</td>\n",
       "      <td>NaN</td>\n",
       "      <td>Walk</td>\n",
       "      <td>Walk</td>\n",
       "      <td>Walk</td>\n",
       "      <td>6.218301</td>\n",
       "    </tr>\n",
       "    <tr>\n",
       "      <th>p01_8461</th>\n",
       "      <td>p01</td>\n",
       "      <td>14:45:00</td>\n",
       "      <td>NaN</td>\n",
       "      <td>5.5</td>\n",
       "      <td>NaN</td>\n",
       "      <td>NaN</td>\n",
       "      <td>5.5</td>\n",
       "      <td>NaN</td>\n",
       "      <td>NaN</td>\n",
       "      <td>5.2</td>\n",
       "      <td>...</td>\n",
       "      <td>NaN</td>\n",
       "      <td>NaN</td>\n",
       "      <td>NaN</td>\n",
       "      <td>NaN</td>\n",
       "      <td>NaN</td>\n",
       "      <td>NaN</td>\n",
       "      <td>NaN</td>\n",
       "      <td>NaN</td>\n",
       "      <td>NaN</td>\n",
       "      <td>8.204001</td>\n",
       "    </tr>\n",
       "    <tr>\n",
       "      <th>p01_8462</th>\n",
       "      <td>p01</td>\n",
       "      <td>04:30:00</td>\n",
       "      <td>NaN</td>\n",
       "      <td>3.4</td>\n",
       "      <td>NaN</td>\n",
       "      <td>NaN</td>\n",
       "      <td>3.9</td>\n",
       "      <td>NaN</td>\n",
       "      <td>NaN</td>\n",
       "      <td>4.7</td>\n",
       "      <td>...</td>\n",
       "      <td>NaN</td>\n",
       "      <td>NaN</td>\n",
       "      <td>NaN</td>\n",
       "      <td>NaN</td>\n",
       "      <td>NaN</td>\n",
       "      <td>NaN</td>\n",
       "      <td>NaN</td>\n",
       "      <td>NaN</td>\n",
       "      <td>NaN</td>\n",
       "      <td>11.741727</td>\n",
       "    </tr>\n",
       "    <tr>\n",
       "      <th>p01_8463</th>\n",
       "      <td>p01</td>\n",
       "      <td>04:20:00</td>\n",
       "      <td>NaN</td>\n",
       "      <td>NaN</td>\n",
       "      <td>8.3</td>\n",
       "      <td>NaN</td>\n",
       "      <td>NaN</td>\n",
       "      <td>10.0</td>\n",
       "      <td>NaN</td>\n",
       "      <td>NaN</td>\n",
       "      <td>...</td>\n",
       "      <td>NaN</td>\n",
       "      <td>NaN</td>\n",
       "      <td>NaN</td>\n",
       "      <td>NaN</td>\n",
       "      <td>NaN</td>\n",
       "      <td>NaN</td>\n",
       "      <td>NaN</td>\n",
       "      <td>NaN</td>\n",
       "      <td>NaN</td>\n",
       "      <td>8.544298</td>\n",
       "    </tr>\n",
       "  </tbody>\n",
       "</table>\n",
       "<p>5 rows × 507 columns</p>\n",
       "</div>"
      ]
     },
     "execution_count": 10,
     "metadata": {},
     "output_type": "execute_result"
    }
   ],
   "execution_count": 10
  },
  {
   "metadata": {
    "ExecuteTime": {
     "end_time": "2024-11-28T13:16:20.665334Z",
     "start_time": "2024-11-28T13:16:20.652720Z"
    }
   },
   "cell_type": "code",
   "source": [
    "submission = pd.DataFrame(test_data['bg+1:00'])\n",
    "submission.to_csv(f'submission-{model_name}.csv')\n",
    "submission"
   ],
   "id": "5167875e1afa3ec1",
   "outputs": [
    {
     "data": {
      "text/plain": [
       "            bg+1:00\n",
       "id                 \n",
       "p01_8459   8.471742\n",
       "p01_8460   6.218301\n",
       "p01_8461   8.204001\n",
       "p01_8462  11.741727\n",
       "p01_8463   8.544298\n",
       "...             ...\n",
       "p24_256    6.468439\n",
       "p24_257   11.090163\n",
       "p24_258    6.414386\n",
       "p24_259    7.358464\n",
       "p24_260    6.153813\n",
       "\n",
       "[3644 rows x 1 columns]"
      ],
      "text/html": [
       "<div>\n",
       "<style scoped>\n",
       "    .dataframe tbody tr th:only-of-type {\n",
       "        vertical-align: middle;\n",
       "    }\n",
       "\n",
       "    .dataframe tbody tr th {\n",
       "        vertical-align: top;\n",
       "    }\n",
       "\n",
       "    .dataframe thead th {\n",
       "        text-align: right;\n",
       "    }\n",
       "</style>\n",
       "<table border=\"1\" class=\"dataframe\">\n",
       "  <thead>\n",
       "    <tr style=\"text-align: right;\">\n",
       "      <th></th>\n",
       "      <th>bg+1:00</th>\n",
       "    </tr>\n",
       "    <tr>\n",
       "      <th>id</th>\n",
       "      <th></th>\n",
       "    </tr>\n",
       "  </thead>\n",
       "  <tbody>\n",
       "    <tr>\n",
       "      <th>p01_8459</th>\n",
       "      <td>8.471742</td>\n",
       "    </tr>\n",
       "    <tr>\n",
       "      <th>p01_8460</th>\n",
       "      <td>6.218301</td>\n",
       "    </tr>\n",
       "    <tr>\n",
       "      <th>p01_8461</th>\n",
       "      <td>8.204001</td>\n",
       "    </tr>\n",
       "    <tr>\n",
       "      <th>p01_8462</th>\n",
       "      <td>11.741727</td>\n",
       "    </tr>\n",
       "    <tr>\n",
       "      <th>p01_8463</th>\n",
       "      <td>8.544298</td>\n",
       "    </tr>\n",
       "    <tr>\n",
       "      <th>...</th>\n",
       "      <td>...</td>\n",
       "    </tr>\n",
       "    <tr>\n",
       "      <th>p24_256</th>\n",
       "      <td>6.468439</td>\n",
       "    </tr>\n",
       "    <tr>\n",
       "      <th>p24_257</th>\n",
       "      <td>11.090163</td>\n",
       "    </tr>\n",
       "    <tr>\n",
       "      <th>p24_258</th>\n",
       "      <td>6.414386</td>\n",
       "    </tr>\n",
       "    <tr>\n",
       "      <th>p24_259</th>\n",
       "      <td>7.358464</td>\n",
       "    </tr>\n",
       "    <tr>\n",
       "      <th>p24_260</th>\n",
       "      <td>6.153813</td>\n",
       "    </tr>\n",
       "  </tbody>\n",
       "</table>\n",
       "<p>3644 rows × 1 columns</p>\n",
       "</div>"
      ]
     },
     "execution_count": 11,
     "metadata": {},
     "output_type": "execute_result"
    }
   ],
   "execution_count": 11
  },
  {
   "metadata": {
    "ExecuteTime": {
     "end_time": "2024-11-28T13:16:20.914746Z",
     "start_time": "2024-11-28T13:16:20.903406Z"
    }
   },
   "cell_type": "code",
   "source": "submission.describe()",
   "id": "76f34bf74bc9f805",
   "outputs": [
    {
     "data": {
      "text/plain": [
       "           bg+1:00\n",
       "count  3644.000000\n",
       "mean      8.628790\n",
       "std       2.616127\n",
       "min       3.152206\n",
       "25%       6.791981\n",
       "50%       8.041023\n",
       "75%       9.752140\n",
       "max      24.815644"
      ],
      "text/html": [
       "<div>\n",
       "<style scoped>\n",
       "    .dataframe tbody tr th:only-of-type {\n",
       "        vertical-align: middle;\n",
       "    }\n",
       "\n",
       "    .dataframe tbody tr th {\n",
       "        vertical-align: top;\n",
       "    }\n",
       "\n",
       "    .dataframe thead th {\n",
       "        text-align: right;\n",
       "    }\n",
       "</style>\n",
       "<table border=\"1\" class=\"dataframe\">\n",
       "  <thead>\n",
       "    <tr style=\"text-align: right;\">\n",
       "      <th></th>\n",
       "      <th>bg+1:00</th>\n",
       "    </tr>\n",
       "  </thead>\n",
       "  <tbody>\n",
       "    <tr>\n",
       "      <th>count</th>\n",
       "      <td>3644.000000</td>\n",
       "    </tr>\n",
       "    <tr>\n",
       "      <th>mean</th>\n",
       "      <td>8.628790</td>\n",
       "    </tr>\n",
       "    <tr>\n",
       "      <th>std</th>\n",
       "      <td>2.616127</td>\n",
       "    </tr>\n",
       "    <tr>\n",
       "      <th>min</th>\n",
       "      <td>3.152206</td>\n",
       "    </tr>\n",
       "    <tr>\n",
       "      <th>25%</th>\n",
       "      <td>6.791981</td>\n",
       "    </tr>\n",
       "    <tr>\n",
       "      <th>50%</th>\n",
       "      <td>8.041023</td>\n",
       "    </tr>\n",
       "    <tr>\n",
       "      <th>75%</th>\n",
       "      <td>9.752140</td>\n",
       "    </tr>\n",
       "    <tr>\n",
       "      <th>max</th>\n",
       "      <td>24.815644</td>\n",
       "    </tr>\n",
       "  </tbody>\n",
       "</table>\n",
       "</div>"
      ]
     },
     "execution_count": 12,
     "metadata": {},
     "output_type": "execute_result"
    }
   ],
   "execution_count": 12
  }
 ],
 "metadata": {
  "kernelspec": {
   "display_name": "Python 3",
   "language": "python",
   "name": "python3"
  },
  "language_info": {
   "codemirror_mode": {
    "name": "ipython",
    "version": 2
   },
   "file_extension": ".py",
   "mimetype": "text/x-python",
   "name": "python",
   "nbconvert_exporter": "python",
   "pygments_lexer": "ipython2",
   "version": "2.7.6"
  }
 },
 "nbformat": 4,
 "nbformat_minor": 5
}
