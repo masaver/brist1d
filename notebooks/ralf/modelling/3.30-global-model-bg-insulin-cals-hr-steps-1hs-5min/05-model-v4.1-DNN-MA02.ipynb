{
 "cells": [
  {
   "metadata": {},
   "cell_type": "markdown",
   "source": [
    "# Tune the meta model\n",
    " \n",
    "We want to check if we can exchange the metamodel from Ridge to DNN\n",
    "\n",
    "We use the best base model parameters from the previous notebooks"
   ],
   "id": "32bfa9234ec39c2"
  },
  {
   "metadata": {},
   "cell_type": "markdown",
   "source": "# Model v4.1 - Baseline model with MA02 DNN as base estimator",
   "id": "c4f5fa4ffbc53369"
  },
  {
   "metadata": {
    "ExecuteTime": {
     "end_time": "2024-11-28T11:59:17.030633Z",
     "start_time": "2024-11-28T11:58:59.938723Z"
    }
   },
   "cell_type": "code",
   "source": [
    "from fileinput import filename\n",
    "\n",
    "import pandas as pd\n",
    "from sklearn.model_selection import train_test_split\n",
    "from tensorflow.python.keras.utils.version_utils import callbacks\n",
    "\n",
    "from data import load_data_selected_features\n",
    "\n",
    "train_data, additional_train_data, test_data = load_data_selected_features()"
   ],
   "id": "ed9cab10a4c9269",
   "outputs": [],
   "execution_count": 1
  },
  {
   "metadata": {
    "ExecuteTime": {
     "end_time": "2024-11-28T11:59:17.053638Z",
     "start_time": "2024-11-28T11:59:17.040200Z"
    }
   },
   "cell_type": "code",
   "source": "train_data.info()",
   "id": "af6bdd55ecd2a72b",
   "outputs": [
    {
     "name": "stdout",
     "output_type": "stream",
     "text": [
      "<class 'pandas.core.frame.DataFrame'>\n",
      "Index: 150996 entries, p01_0 to p12_25298\n",
      "Columns: 507 entries, p_num to bg+1:00\n",
      "dtypes: float64(433), object(74)\n",
      "memory usage: 585.2+ MB\n"
     ]
    }
   ],
   "execution_count": 2
  },
  {
   "metadata": {
    "ExecuteTime": {
     "end_time": "2024-11-28T11:59:17.202754Z",
     "start_time": "2024-11-28T11:59:17.193053Z"
    }
   },
   "cell_type": "code",
   "source": "additional_train_data.info()",
   "id": "e6efef1597276890",
   "outputs": [
    {
     "name": "stdout",
     "output_type": "stream",
     "text": [
      "<class 'pandas.core.frame.DataFrame'>\n",
      "Index: 168588 entries, p01_test_12 to p24_test_94938\n",
      "Columns: 507 entries, p_num to bg+1:00\n",
      "dtypes: float64(433), object(74)\n",
      "memory usage: 657.4+ MB\n"
     ]
    }
   ],
   "execution_count": 3
  },
  {
   "metadata": {
    "ExecuteTime": {
     "end_time": "2024-11-28T11:59:17.227696Z",
     "start_time": "2024-11-28T11:59:17.216338Z"
    }
   },
   "cell_type": "code",
   "source": "test_data.info()",
   "id": "16d75f6d697d8bc7",
   "outputs": [
    {
     "name": "stdout",
     "output_type": "stream",
     "text": [
      "<class 'pandas.core.frame.DataFrame'>\n",
      "Index: 3644 entries, p01_8459 to p24_260\n",
      "Columns: 506 entries, p_num to activity-0:00\n",
      "dtypes: float64(432), object(74)\n",
      "memory usage: 14.2+ MB\n"
     ]
    }
   ],
   "execution_count": 4
  },
  {
   "metadata": {},
   "cell_type": "markdown",
   "source": "# Prepare the data",
   "id": "fc5e077e5738d8eb"
  },
  {
   "metadata": {
    "ExecuteTime": {
     "end_time": "2024-11-28T11:59:58.095752Z",
     "start_time": "2024-11-28T11:59:17.242011Z"
    }
   },
   "cell_type": "code",
   "source": [
    "from pipelines_selected_features import pipeline\n",
    "\n",
    "all_train_data = pd.concat([train_data, additional_train_data], axis=0)\n",
    "all_train_data_transformed = pipeline.fit_transform(all_train_data)\n",
    "\n",
    "train_data_transformed = all_train_data_transformed[:len(train_data)]\n",
    "additional_train_data_transformed = all_train_data_transformed[len(train_data):]\n",
    "\n",
    "X_train = train_data_transformed.drop(columns=['bg+1:00'])\n",
    "y_train = train_data_transformed['bg+1:00']\n",
    "\n",
    "X_additional_train = additional_train_data_transformed.drop(columns=['bg+1:00'])\n",
    "y_additional_train = additional_train_data_transformed['bg+1:00']"
   ],
   "id": "c7df704ede80b62",
   "outputs": [],
   "execution_count": 5
  },
  {
   "metadata": {},
   "cell_type": "markdown",
   "source": "## Predict for validation data and check results",
   "id": "9b608adb90b0235e"
  },
  {
   "metadata": {
    "ExecuteTime": {
     "end_time": "2024-11-28T12:05:45.987240Z",
     "start_time": "2024-11-28T11:59:58.125442Z"
    }
   },
   "cell_type": "code",
   "source": [
    "from tensorflow.keras.models import Sequential\n",
    "import tensorflow as tf\n",
    "from tensorflow.keras.layers import Dense, Dropout, BatchNormalization, Input, Activation\n",
    "from tensorflow.keras.optimizers import Adam\n",
    "from scikeras.wrappers import KerasRegressor\n",
    "from tensorflow.keras.callbacks import EarlyStopping\n",
    "from model_performance_calculations import get_history_line_chart\n",
    "\n",
    "\n",
    "def rmse(y_true, y_pred):\n",
    "    return tf.sqrt(tf.reduce_mean(tf.square(y_pred - y_true)))\n",
    "\n",
    "\n",
    "def create_dnn_model(input_dimension: int):\n",
    "    dnn = Sequential([\n",
    "        # Input layer\n",
    "        Input(shape=(input_dimension,)),\n",
    "\n",
    "        # First dense block\n",
    "        Dense(512, activation='relu'),  # Increased neurons\n",
    "        BatchNormalization(),\n",
    "        Dropout(0.3),  # Slightly reduced dropout for better capacity\n",
    "\n",
    "        # Second dense block\n",
    "        Dense(256, activation='relu'),  # Increased neurons\n",
    "        BatchNormalization(),\n",
    "        Dropout(0.3),\n",
    "\n",
    "        # Third dense block\n",
    "        Dense(128, activation='relu'),\n",
    "        BatchNormalization(),\n",
    "        Dropout(0.3),\n",
    "\n",
    "        # Fourth dense block (new)\n",
    "        Dense(64, activation='relu'),\n",
    "        BatchNormalization(),\n",
    "        Dropout(0.3),\n",
    "\n",
    "        # Output layer\n",
    "        Dense(1, activation='linear')  # Regression output\n",
    "    ])\n",
    "\n",
    "    # Compile the model\n",
    "    dnn.compile(\n",
    "        optimizer=Adam(learning_rate=0.001),  # Retained learning rate\n",
    "        loss='mse',  # Mean Squared Error for regression\n",
    "        metrics=[rmse]  # Custom RMSE metric\n",
    "    )\n",
    "\n",
    "    return dnn\n",
    "\n",
    "\n",
    "def model_with_pretrained_weights():\n",
    "    dnn = create_dnn_model(X_train.shape[1])\n",
    "    dnn.load_weights('v4.1-MA02.weights.h5')  # Load the pre-trained weights\n",
    "\n",
    "    # Freeze all layers except the last one (optional)\n",
    "    for layer in dnn.layers:\n",
    "        layer.trainable = False\n",
    "    # Unfreeze the output layer if you want to fine-tune it\n",
    "    # dnn.layers[-1].trainable = True\n",
    "\n",
    "    dnn.compile(optimizer='adam', loss='mse', metrics=[rmse])\n",
    "    return dnn\n",
    "\n",
    "\n",
    "pretrained_dnn = create_dnn_model(X_train.shape[1])\n",
    "\n",
    "print('Pretrain with train data')\n",
    "pretrained_dnn.fit(\n",
    "    pd.concat([X_train, X_additional_train], axis=0),\n",
    "    pd.concat([y_train, y_additional_train], axis=0),\n",
    "    validation_split=0.2,\n",
    "    batch_size=32,\n",
    "    callbacks=[EarlyStopping(monitor='val_rmse', patience=10, restore_best_weights=True, mode='min')],\n",
    "    epochs=100,\n",
    "    verbose=2\n",
    ")\n",
    "\n",
    "history = pretrained_dnn.history.history\n",
    "\n",
    "print('Pretrain save weights')\n",
    "pretrained_dnn.save_weights('v4.1-MA02.weights.h5')\n",
    "get_history_line_chart([history]).show()"
   ],
   "id": "c20aa25cccb09977",
   "outputs": [
    {
     "name": "stdout",
     "output_type": "stream",
     "text": [
      "Pretrain with train data\n",
      "Epoch 1/100\n",
      "7990/7990 - 21s - 3ms/step - loss: 7.4260 - rmse: 2.5401 - val_loss: 5.0363 - val_rmse: 2.0039\n",
      "Epoch 2/100\n",
      "7990/7990 - 21s - 3ms/step - loss: 4.8363 - rmse: 2.1688 - val_loss: 5.0710 - val_rmse: 1.9998\n",
      "Epoch 3/100\n",
      "7990/7990 - 22s - 3ms/step - loss: 4.6308 - rmse: 2.1227 - val_loss: 5.1061 - val_rmse: 1.9953\n",
      "Epoch 4/100\n",
      "7990/7990 - 28s - 4ms/step - loss: 4.5032 - rmse: 2.0931 - val_loss: 4.9744 - val_rmse: 1.9710\n",
      "Epoch 5/100\n",
      "7990/7990 - 22s - 3ms/step - loss: 4.3852 - rmse: 2.0656 - val_loss: 5.0801 - val_rmse: 1.9887\n",
      "Epoch 6/100\n",
      "7990/7990 - 20s - 3ms/step - loss: 4.3290 - rmse: 2.0524 - val_loss: 5.0741 - val_rmse: 1.9921\n",
      "Epoch 7/100\n",
      "7990/7990 - 21s - 3ms/step - loss: 4.2521 - rmse: 2.0335 - val_loss: 4.9004 - val_rmse: 1.9660\n",
      "Epoch 8/100\n",
      "7990/7990 - 17s - 2ms/step - loss: 4.2100 - rmse: 2.0231 - val_loss: 4.9564 - val_rmse: 1.9677\n",
      "Epoch 9/100\n",
      "7990/7990 - 20s - 2ms/step - loss: 4.1681 - rmse: 2.0137 - val_loss: 5.0174 - val_rmse: 1.9875\n",
      "Epoch 10/100\n",
      "7990/7990 - 20s - 2ms/step - loss: 4.1276 - rmse: 2.0024 - val_loss: 5.0239 - val_rmse: 1.9951\n",
      "Epoch 11/100\n",
      "7990/7990 - 20s - 2ms/step - loss: 4.0836 - rmse: 1.9927 - val_loss: 5.0071 - val_rmse: 1.9788\n",
      "Epoch 12/100\n",
      "7990/7990 - 23s - 3ms/step - loss: 4.0589 - rmse: 1.9865 - val_loss: 5.1295 - val_rmse: 2.0052\n",
      "Epoch 13/100\n",
      "7990/7990 - 19s - 2ms/step - loss: 4.0356 - rmse: 1.9813 - val_loss: 4.9001 - val_rmse: 1.9733\n",
      "Epoch 14/100\n",
      "7990/7990 - 21s - 3ms/step - loss: 3.9921 - rmse: 1.9711 - val_loss: 5.2437 - val_rmse: 2.0279\n",
      "Epoch 15/100\n",
      "7990/7990 - 20s - 2ms/step - loss: 3.9835 - rmse: 1.9683 - val_loss: 5.1968 - val_rmse: 2.0130\n",
      "Epoch 16/100\n",
      "7990/7990 - 17s - 2ms/step - loss: 3.9647 - rmse: 1.9633 - val_loss: 4.9366 - val_rmse: 1.9774\n",
      "Epoch 17/100\n",
      "7990/7990 - 17s - 2ms/step - loss: 3.9346 - rmse: 1.9561 - val_loss: 5.0174 - val_rmse: 1.9795\n",
      "Pretrain save weights\n"
     ]
    },
    {
     "data": {
      "text/plain": [
       "<Figure size 1000x500 with 1 Axes>"
      ],
      "image/png": "[encoded data removed]"
     },
     "metadata": {},
     "output_type": "display_data"
    }
   ],
   "execution_count": 6
  },
  {
   "metadata": {
    "ExecuteTime": {
     "end_time": "2024-11-28T12:05:46.049273Z",
     "start_time": "2024-11-28T12:05:46.022891Z"
    }
   },
   "cell_type": "code",
   "source": [
    "from sklearn.neighbors import KNeighborsRegressor\n",
    "from xgboost import XGBRegressor\n",
    "from sklearn.ensemble import StackingRegressor, HistGradientBoostingRegressor\n",
    "from sklearn.linear_model import LassoLarsIC, Ridge\n",
    "\n",
    "hgb_estimator = HistGradientBoostingRegressor(max_iter=200, max_depth=5, learning_rate=0.1)\n",
    "lasso_lars_ic_base_model = LassoLarsIC(criterion='bic', max_iter=10000)\n",
    "knn_base_model = KNeighborsRegressor(n_neighbors=5)\n",
    "xgb_base_model = XGBRegressor(objective='reg:squarederror', random_state=42, n_estimators=500, max_depth=5, learning_rate=0.1)\n",
    "\n",
    "keras_regressor = KerasRegressor(\n",
    "    model=model_with_pretrained_weights,\n",
    "    epochs=1,\n",
    "    verbose=2\n",
    ")\n",
    "\n",
    "estimators = [\n",
    "    ('hgb', hgb_estimator),\n",
    "    ('lasso_lars_ic', lasso_lars_ic_base_model),\n",
    "    ('knn', knn_base_model),\n",
    "    ('xgb', xgb_base_model),\n",
    "    ('dnn', keras_regressor)\n",
    "]\n",
    "\n",
    "model = StackingRegressor(estimators=estimators, final_estimator=Ridge(alpha=0.1), n_jobs=1, verbose=2)"
   ],
   "id": "7e0583e9ae957c2d",
   "outputs": [],
   "execution_count": 7
  },
  {
   "metadata": {
    "jupyter": {
     "is_executing": true
    },
    "ExecuteTime": {
     "start_time": "2024-11-28T12:05:46.079170Z"
    }
   },
   "cell_type": "code",
   "source": [
    "from datetime import datetime\n",
    "import os\n",
    "from model_performance_calculations import calculate_stacking_regressor_performance, get_rmse_boxplot_chart, get_rmse_line_chart, save_performances, save_model\n",
    "\n",
    "date_time = datetime.now().strftime('%Y-%m-%d_%H-%M-%S')\n",
    "model_name = f'{date_time}-model-v4.1-DNN'\n",
    "\n",
    "save_model(model, os.path.join('models', f'{model_name}.pkl'))\n",
    "\n",
    "performances = calculate_stacking_regressor_performance(model, X_train, y_train, X_additional_train, y_additional_train, n_splits=5)\n",
    "save_performances(performances, os.path.join('models', f'{model_name}-performances.json'))\n",
    "\n",
    "get_rmse_boxplot_chart(performances).show()\n",
    "get_rmse_line_chart(performances).show()"
   ],
   "id": "c0be6db84ab0c1b0",
   "outputs": [
    {
     "name": "stdout",
     "output_type": "stream",
     "text": [
      "13:05:46 - Start training\n",
      "13:05:46 - Calculate performance for hgb\n",
      "13:05:46 - Selected splitter: ShuffleSplit(n_splits=5, random_state=42, test_size=0.2, train_size=None)\n",
      "13:05:46 - Split 1 - Model: hgb\n",
      "13:05:46 - Fitting the model\n",
      "13:05:54 - Predicting\n",
      "13:05:54 - Calculating scores\n",
      "13:05:54 - R^2: 0.6174711483874322, RMSE: 2.0271682592605655, MAE: 1.506080356440181, MSE: 4.109411151353511\n",
      "13:05:54 - Split 2 - Model: hgb\n",
      "13:05:54 - Fitting the model\n",
      "13:06:02 - Predicting\n",
      "13:06:02 - Calculating scores\n",
      "13:06:02 - R^2: 0.6138895857140252, RMSE: 2.0399114869902473, MAE: 1.5208225201278884, MSE: 4.161238874754762\n",
      "13:06:02 - Split 3 - Model: hgb\n",
      "13:06:02 - Fitting the model\n",
      "13:06:11 - Predicting\n",
      "13:06:11 - Calculating scores\n",
      "13:06:11 - R^2: 0.6143915869436701, RMSE: 2.0179615686589187, MAE: 1.5057361067939878, MSE: 4.072168892584364\n",
      "13:06:11 - Split 4 - Model: hgb\n",
      "13:06:11 - Fitting the model\n",
      "13:06:19 - Predicting\n",
      "13:06:19 - Calculating scores\n",
      "13:06:19 - R^2: 0.6134223378586514, RMSE: 2.044061035491579, MAE: 1.5232780438769045, MSE: 4.178185516814907\n",
      "13:06:19 - Split 5 - Model: hgb\n",
      "13:06:19 - Fitting the model\n",
      "13:06:27 - Predicting\n",
      "13:06:27 - Calculating scores\n",
      "13:06:27 - R^2: 0.6089418606800088, RMSE: 2.0298391328143564, MAE: 1.5143002131690457, MSE: 4.120246905104538\n",
      "13:06:27 - Training finished\n",
      "13:06:27 - Calculate performance for lasso_lars_ic\n",
      "13:06:27 - Selected splitter: ShuffleSplit(n_splits=5, random_state=42, test_size=0.2, train_size=None)\n",
      "13:06:27 - Split 1 - Model: lasso_lars_ic\n",
      "13:06:27 - Fitting the model\n",
      "13:06:28 - Predicting\n",
      "13:06:28 - Calculating scores\n",
      "13:06:28 - R^2: 0.5503576772484813, RMSE: 2.197815796649851, MAE: 1.6471604371529227, MSE: 4.830394276003619\n",
      "13:06:28 - Split 2 - Model: lasso_lars_ic\n",
      "13:06:29 - Fitting the model\n",
      "13:06:30 - Predicting\n",
      "13:06:30 - Calculating scores\n",
      "13:06:30 - R^2: 0.5480858683989513, RMSE: 2.2069044316162327, MAE: 1.6619288099511695, MSE: 4.870427170287367\n",
      "13:06:30 - Split 3 - Model: lasso_lars_ic\n",
      "13:06:30 - Fitting the model\n",
      "13:06:31 - Predicting\n",
      "13:06:31 - Calculating scores\n",
      "13:06:31 - R^2: 0.550272570880973, RMSE: 2.1792865013523994, MAE: 1.6389369758547945, MSE: 4.749289654976781\n",
      "13:06:31 - Split 4 - Model: lasso_lars_ic\n",
      "13:06:31 - Fitting the model\n",
      "13:06:32 - Predicting\n",
      "13:06:32 - Calculating scores\n",
      "13:06:32 - R^2: 0.5494760736135993, RMSE: 2.2066548658869993, MAE: 1.6611286513872114, MSE: 4.86932569714277\n",
      "13:06:32 - Split 5 - Model: lasso_lars_ic\n",
      "13:06:32 - Fitting the model\n",
      "13:06:33 - Predicting\n",
      "13:06:33 - Calculating scores\n",
      "13:06:33 - R^2: 0.5405373298880563, RMSE: 2.200219818125307, MAE: 1.6550581014822132, MSE: 4.840967248071359\n",
      "13:06:33 - Training finished\n",
      "13:06:33 - Calculate performance for knn\n",
      "13:06:33 - Selected splitter: ShuffleSplit(n_splits=5, random_state=42, test_size=0.2, train_size=None)\n",
      "13:06:33 - Split 1 - Model: knn\n",
      "13:06:33 - Fitting the model\n",
      "13:06:33 - Predicting\n",
      "13:06:42 - Calculating scores\n",
      "13:06:42 - R^2: 0.5861675872638137, RMSE: 2.1084822569428217, MAE: 1.4492767068034877, MSE: 4.445697427842695\n",
      "13:06:42 - Split 2 - Model: knn\n",
      "13:06:42 - Fitting the model\n",
      "13:06:42 - Predicting\n",
      "13:06:51 - Calculating scores\n",
      "13:06:51 - R^2: 0.5807738562489106, RMSE: 2.125591206824066, MAE: 1.4628966130849992, MSE: 4.518137978527789\n",
      "13:06:51 - Split 3 - Model: knn\n",
      "13:06:51 - Fitting the model\n",
      "13:06:51 - Predicting\n",
      "13:07:00 - Calculating scores\n",
      "13:07:00 - R^2: 0.5829654984857177, RMSE: 2.098580502735276, MAE: 1.4412031555845541, MSE: 4.404040126460645\n",
      "13:07:00 - Split 4 - Model: knn\n",
      "13:07:00 - Fitting the model\n",
      "13:07:00 - Predicting\n",
      "13:07:09 - Calculating scores\n",
      "13:07:09 - R^2: 0.585291028293391, RMSE: 2.1171283973087287, MAE: 1.4563268877157602, MSE: 4.482232650691026\n",
      "13:07:09 - Split 5 - Model: knn\n",
      "13:07:09 - Fitting the model\n",
      "13:07:09 - Predicting\n",
      "13:07:18 - Calculating scores\n",
      "13:07:18 - R^2: 0.58483230512719, RMSE: 2.0914752639611955, MAE: 1.4414328845127231, MSE: 4.374268779761552\n",
      "13:07:18 - Training finished\n",
      "13:07:18 - Calculate performance for xgb\n",
      "13:07:18 - Selected splitter: ShuffleSplit(n_splits=5, random_state=42, test_size=0.2, train_size=None)\n",
      "13:07:18 - Split 1 - Model: xgb\n",
      "13:07:18 - Fitting the model\n",
      "13:07:24 - Predicting\n",
      "13:07:24 - Calculating scores\n",
      "13:07:24 - R^2: 0.6425520086531167, RMSE: 1.9595851049694402, MAE: 1.456686917977356, MSE: 3.8399737836180914\n",
      "13:07:24 - Split 2 - Model: xgb\n",
      "13:07:24 - Fitting the model\n",
      "13:07:30 - Predicting\n",
      "13:07:30 - Calculating scores\n",
      "13:07:30 - R^2: 0.637755378589864, RMSE: 1.9758616800447983, MAE: 1.4715929169617794, MSE: 3.904029378669453\n",
      "13:07:30 - Split 3 - Model: xgb\n",
      "13:07:30 - Fitting the model\n",
      "13:07:36 - Predicting\n",
      "13:07:36 - Calculating scores\n",
      "13:07:36 - R^2: 0.6391255913665361, RMSE: 1.9521702195409691, MAE: 1.4554794873144217, MSE: 3.8109685660626353\n",
      "13:07:36 - Split 4 - Model: xgb\n",
      "13:07:36 - Fitting the model\n",
      "13:07:42 - Predicting\n",
      "13:07:42 - Calculating scores\n",
      "13:07:42 - R^2: 0.6374674454182309, RMSE: 1.9794702893787177, MAE: 1.4746803126088226, MSE: 3.9183026265330643\n",
      "13:07:42 - Split 5 - Model: xgb\n",
      "13:07:42 - Fitting the model\n",
      "13:07:48 - Predicting\n",
      "13:07:48 - Calculating scores\n",
      "13:07:48 - R^2: 0.6332793903855662, RMSE: 1.9656609729957428, MAE: 1.4643834018415953, MSE: 3.8638230607585706\n",
      "13:07:48 - Training finished\n",
      "13:07:48 - Calculate performance for dnn\n",
      "13:07:48 - Selected splitter: ShuffleSplit(n_splits=5, random_state=42, test_size=0.2, train_size=None)\n",
      "13:07:48 - Split 1 - Model: dnn\n",
      "13:07:48 - Fitting the model\n"
     ]
    },
    {
     "name": "stderr",
     "output_type": "stream",
     "text": [
      "/Users/ralf/Projects/learning-projects/datascience-bootcamp/sep24_bds_int_medical/.venv/lib/python3.12/site-packages/keras/src/saving/saving_lib.py:719: UserWarning: Skipping variable loading for optimizer 'adam', because it has 2 variables whereas the saved optimizer has 38 variables. \n",
      "  saveable.load_own_variables(weights_store.get(inner_path))\n",
      "/Users/ralf/Projects/learning-projects/datascience-bootcamp/sep24_bds_int_medical/.venv/lib/python3.12/site-packages/keras/src/backend/tensorflow/trainer.py:75: UserWarning: The model does not have any trainable weights.\n",
      "  warnings.warn(\"The model does not have any trainable weights.\")\n"
     ]
    },
    {
     "name": "stdout",
     "output_type": "stream",
     "text": [
      "8934/8934 - 7s - 731us/step - loss: 4.1607 - rmse: 3.8555\n",
      "13:07:55 - Predicting\n",
      "1054/1054 - 1s - 649us/step\n",
      "13:07:55 - Calculating scores\n",
      "13:07:55 - R^2: 0.6006352086538098, RMSE: 2.071298002091728, MAE: 1.5353586439359752, MSE: 4.2902754134691845\n",
      "13:07:55 - Split 2 - Model: dnn\n",
      "13:07:55 - Fitting the model\n"
     ]
    },
    {
     "name": "stderr",
     "output_type": "stream",
     "text": [
      "/Users/ralf/Projects/learning-projects/datascience-bootcamp/sep24_bds_int_medical/.venv/lib/python3.12/site-packages/keras/src/saving/saving_lib.py:719: UserWarning: Skipping variable loading for optimizer 'adam', because it has 2 variables whereas the saved optimizer has 38 variables. \n",
      "  saveable.load_own_variables(weights_store.get(inner_path))\n",
      "/Users/ralf/Projects/learning-projects/datascience-bootcamp/sep24_bds_int_medical/.venv/lib/python3.12/site-packages/keras/src/backend/tensorflow/trainer.py:75: UserWarning: The model does not have any trainable weights.\n",
      "  warnings.warn(\"The model does not have any trainable weights.\")\n"
     ]
    },
    {
     "name": "stdout",
     "output_type": "stream",
     "text": [
      "8934/8934 - 6s - 702us/step - loss: 4.1469 - rmse: 3.8552\n",
      "13:08:02 - Predicting\n",
      "1054/1054 - 1s - 646us/step\n",
      "13:08:03 - Calculating scores\n",
      "13:08:03 - R^2: 0.5948621284075609, RMSE: 2.0895702997813834, MAE: 1.5548706465708175, MSE: 4.366304037728461\n",
      "13:08:03 - Split 3 - Model: dnn\n",
      "13:08:03 - Fitting the model\n"
     ]
    },
    {
     "name": "stderr",
     "output_type": "stream",
     "text": [
      "/Users/ralf/Projects/learning-projects/datascience-bootcamp/sep24_bds_int_medical/.venv/lib/python3.12/site-packages/keras/src/saving/saving_lib.py:719: UserWarning: Skipping variable loading for optimizer 'adam', because it has 2 variables whereas the saved optimizer has 38 variables. \n",
      "  saveable.load_own_variables(weights_store.get(inner_path))\n",
      "/Users/ralf/Projects/learning-projects/datascience-bootcamp/sep24_bds_int_medical/.venv/lib/python3.12/site-packages/keras/src/backend/tensorflow/trainer.py:75: UserWarning: The model does not have any trainable weights.\n",
      "  warnings.warn(\"The model does not have any trainable weights.\")\n"
     ]
    },
    {
     "name": "stdout",
     "output_type": "stream",
     "text": [
      "8934/8934 - 6s - 693us/step - loss: 4.1514 - rmse: 3.8571\n",
      "13:08:09 - Predicting\n",
      "1054/1054 - 1s - 637us/step\n",
      "13:08:10 - Calculating scores\n",
      "13:08:10 - R^2: 0.5987674154137366, RMSE: 2.0584377524279613, MAE: 1.5352881531885378, MSE: 4.237165980620676\n",
      "13:08:10 - Split 4 - Model: dnn\n",
      "13:08:10 - Fitting the model\n"
     ]
    },
    {
     "name": "stderr",
     "output_type": "stream",
     "text": [
      "/Users/ralf/Projects/learning-projects/datascience-bootcamp/sep24_bds_int_medical/.venv/lib/python3.12/site-packages/keras/src/saving/saving_lib.py:719: UserWarning: Skipping variable loading for optimizer 'adam', because it has 2 variables whereas the saved optimizer has 38 variables. \n",
      "  saveable.load_own_variables(weights_store.get(inner_path))\n",
      "/Users/ralf/Projects/learning-projects/datascience-bootcamp/sep24_bds_int_medical/.venv/lib/python3.12/site-packages/keras/src/backend/tensorflow/trainer.py:75: UserWarning: The model does not have any trainable weights.\n",
      "  warnings.warn(\"The model does not have any trainable weights.\")\n"
     ]
    },
    {
     "name": "stdout",
     "output_type": "stream",
     "text": [
      "8934/8934 - 6s - 702us/step - loss: 4.1652 - rmse: 3.8550\n",
      "13:08:17 - Predicting\n",
      "1054/1054 - 1s - 642us/step\n",
      "13:08:17 - Calculating scores\n",
      "13:08:17 - R^2: 0.5974247213266515, RMSE: 2.0859266518581943, MAE: 1.5500199091904696, MSE: 4.351089996932337\n",
      "13:08:17 - Split 5 - Model: dnn\n",
      "13:08:17 - Fitting the model\n"
     ]
    },
    {
     "name": "stderr",
     "output_type": "stream",
     "text": [
      "/Users/ralf/Projects/learning-projects/datascience-bootcamp/sep24_bds_int_medical/.venv/lib/python3.12/site-packages/keras/src/saving/saving_lib.py:719: UserWarning: Skipping variable loading for optimizer 'adam', because it has 2 variables whereas the saved optimizer has 38 variables. \n",
      "  saveable.load_own_variables(weights_store.get(inner_path))\n",
      "/Users/ralf/Projects/learning-projects/datascience-bootcamp/sep24_bds_int_medical/.venv/lib/python3.12/site-packages/keras/src/backend/tensorflow/trainer.py:75: UserWarning: The model does not have any trainable weights.\n",
      "  warnings.warn(\"The model does not have any trainable weights.\")\n"
     ]
    },
    {
     "name": "stdout",
     "output_type": "stream",
     "text": [
      "8934/8934 - 6s - 709us/step - loss: 4.1453 - rmse: 3.8590\n",
      "13:08:24 - Predicting\n",
      "1054/1054 - 1s - 656us/step\n",
      "13:08:25 - Calculating scores\n",
      "13:08:25 - R^2: 0.5917944116332294, RMSE: 2.0738647465078106, MAE: 1.542675140391211, MSE: 4.300914986807905\n",
      "13:08:25 - Training finished\n",
      "13:08:25 - Calculate performance for final_estimator\n",
      "13:08:25 - Selected splitter: ShuffleSplit(n_splits=5, random_state=42, test_size=0.2, train_size=None)\n",
      "13:08:25 - Split 1 - Model: final_estimator\n",
      "13:08:25 - Fitting the model\n",
      "13:08:25 - Predicting\n",
      "13:08:25 - Calculating scores\n",
      "13:08:25 - R^2: 0.550473788739431, RMSE: 2.197532006476215, MAE: 1.6465811248386755, MSE: 4.829146919487378\n",
      "13:08:25 - Split 2 - Model: final_estimator\n",
      "13:08:25 - Fitting the model\n",
      "13:08:25 - Predicting\n",
      "13:08:25 - Calculating scores\n",
      "13:08:25 - R^2: 0.5482085682464537, RMSE: 2.20660481139947, MAE: 1.6617115145586885, MSE: 4.86910479369129\n",
      "13:08:25 - Split 3 - Model: final_estimator\n",
      "13:08:25 - Fitting the model\n",
      "13:08:25 - Predicting\n",
      "13:08:25 - Calculating scores\n",
      "13:08:25 - R^2: 0.550620721907582, RMSE: 2.1784428039491734, MAE: 1.6382008202753364, MSE: 4.745613050077937\n",
      "13:08:25 - Split 4 - Model: final_estimator\n",
      "13:08:26 - Fitting the model\n",
      "13:08:26 - Predicting\n",
      "13:08:26 - Calculating scores\n",
      "13:08:26 - R^2: 0.5496595325955267, RMSE: 2.206205531397898, MAE: 1.6608642027911178, MSE: 4.867342846770682\n",
      "13:08:26 - Split 5 - Model: final_estimator\n",
      "13:08:26 - Fitting the model\n",
      "13:08:26 - Predicting\n",
      "13:08:26 - Calculating scores\n",
      "13:08:26 - R^2: 0.5406535457617223, RMSE: 2.199941540197377, MAE: 1.654461379704588, MSE: 4.839742780286007\n",
      "13:08:26 - Training finished\n",
      "13:08:26 - Calculate performance for stacking_regressor\n",
      "13:08:26 - Selected splitter: ShuffleSplit(n_splits=5, random_state=42, test_size=0.2, train_size=None)\n",
      "13:08:26 - Split 1 - Model: stacking_regressor\n",
      "13:08:26 - Fitting the model\n"
     ]
    },
    {
     "name": "stderr",
     "output_type": "stream",
     "text": [
      "/Users/ralf/Projects/learning-projects/datascience-bootcamp/sep24_bds_int_medical/.venv/lib/python3.12/site-packages/keras/src/saving/saving_lib.py:719: UserWarning: Skipping variable loading for optimizer 'adam', because it has 2 variables whereas the saved optimizer has 38 variables. \n",
      "  saveable.load_own_variables(weights_store.get(inner_path))\n",
      "/Users/ralf/Projects/learning-projects/datascience-bootcamp/sep24_bds_int_medical/.venv/lib/python3.12/site-packages/keras/src/backend/tensorflow/trainer.py:75: UserWarning: The model does not have any trainable weights.\n",
      "  warnings.warn(\"The model does not have any trainable weights.\")\n"
     ]
    },
    {
     "name": "stdout",
     "output_type": "stream",
     "text": [
      "8934/8934 - 6s - 695us/step - loss: 4.1556 - rmse: 3.8541\n"
     ]
    },
    {
     "name": "stderr",
     "output_type": "stream",
     "text": [
      "/Users/ralf/Projects/learning-projects/datascience-bootcamp/sep24_bds_int_medical/.venv/lib/python3.12/site-packages/keras/src/saving/saving_lib.py:719: UserWarning: Skipping variable loading for optimizer 'adam', because it has 2 variables whereas the saved optimizer has 38 variables. \n",
      "  saveable.load_own_variables(weights_store.get(inner_path))\n",
      "/Users/ralf/Projects/learning-projects/datascience-bootcamp/sep24_bds_int_medical/.venv/lib/python3.12/site-packages/keras/src/backend/tensorflow/trainer.py:75: UserWarning: The model does not have any trainable weights.\n",
      "  warnings.warn(\"The model does not have any trainable weights.\")\n"
     ]
    },
    {
     "name": "stdout",
     "output_type": "stream",
     "text": [
      "7147/7147 - 5s - 710us/step - loss: 4.0848 - rmse: 3.9020\n",
      "1787/1787 - 1s - 602us/step\n"
     ]
    },
    {
     "name": "stderr",
     "output_type": "stream",
     "text": [
      "/Users/ralf/Projects/learning-projects/datascience-bootcamp/sep24_bds_int_medical/.venv/lib/python3.12/site-packages/keras/src/saving/saving_lib.py:719: UserWarning: Skipping variable loading for optimizer 'adam', because it has 2 variables whereas the saved optimizer has 38 variables. \n",
      "  saveable.load_own_variables(weights_store.get(inner_path))\n",
      "/Users/ralf/Projects/learning-projects/datascience-bootcamp/sep24_bds_int_medical/.venv/lib/python3.12/site-packages/keras/src/backend/tensorflow/trainer.py:75: UserWarning: The model does not have any trainable weights.\n",
      "  warnings.warn(\"The model does not have any trainable weights.\")\n"
     ]
    },
    {
     "name": "stdout",
     "output_type": "stream",
     "text": [
      "7147/7147 - 6s - 901us/step - loss: 4.3519 - rmse: 3.8804\n",
      "1787/1787 - 1s - 790us/step\n"
     ]
    },
    {
     "name": "stderr",
     "output_type": "stream",
     "text": [
      "/Users/ralf/Projects/learning-projects/datascience-bootcamp/sep24_bds_int_medical/.venv/lib/python3.12/site-packages/keras/src/saving/saving_lib.py:719: UserWarning: Skipping variable loading for optimizer 'adam', because it has 2 variables whereas the saved optimizer has 38 variables. \n",
      "  saveable.load_own_variables(weights_store.get(inner_path))\n",
      "/Users/ralf/Projects/learning-projects/datascience-bootcamp/sep24_bds_int_medical/.venv/lib/python3.12/site-packages/keras/src/backend/tensorflow/trainer.py:75: UserWarning: The model does not have any trainable weights.\n",
      "  warnings.warn(\"The model does not have any trainable weights.\")\n"
     ]
    },
    {
     "name": "stdout",
     "output_type": "stream",
     "text": [
      "7147/7147 - 5s - 704us/step - loss: 4.2603 - rmse: 3.8622\n",
      "1787/1787 - 1s - 599us/step\n"
     ]
    },
    {
     "name": "stderr",
     "output_type": "stream",
     "text": [
      "/Users/ralf/Projects/learning-projects/datascience-bootcamp/sep24_bds_int_medical/.venv/lib/python3.12/site-packages/keras/src/saving/saving_lib.py:719: UserWarning: Skipping variable loading for optimizer 'adam', because it has 2 variables whereas the saved optimizer has 38 variables. \n",
      "  saveable.load_own_variables(weights_store.get(inner_path))\n",
      "/Users/ralf/Projects/learning-projects/datascience-bootcamp/sep24_bds_int_medical/.venv/lib/python3.12/site-packages/keras/src/backend/tensorflow/trainer.py:75: UserWarning: The model does not have any trainable weights.\n",
      "  warnings.warn(\"The model does not have any trainable weights.\")\n"
     ]
    },
    {
     "name": "stdout",
     "output_type": "stream",
     "text": [
      "7147/7147 - 5s - 741us/step - loss: 4.0122 - rmse: 3.8049\n",
      "1787/1787 - 1s - 626us/step\n"
     ]
    },
    {
     "name": "stderr",
     "output_type": "stream",
     "text": [
      "/Users/ralf/Projects/learning-projects/datascience-bootcamp/sep24_bds_int_medical/.venv/lib/python3.12/site-packages/keras/src/saving/saving_lib.py:719: UserWarning: Skipping variable loading for optimizer 'adam', because it has 2 variables whereas the saved optimizer has 38 variables. \n",
      "  saveable.load_own_variables(weights_store.get(inner_path))\n",
      "/Users/ralf/Projects/learning-projects/datascience-bootcamp/sep24_bds_int_medical/.venv/lib/python3.12/site-packages/keras/src/backend/tensorflow/trainer.py:75: UserWarning: The model does not have any trainable weights.\n",
      "  warnings.warn(\"The model does not have any trainable weights.\")\n"
     ]
    },
    {
     "name": "stdout",
     "output_type": "stream",
     "text": [
      "7147/7147 - 6s - 771us/step - loss: 4.0339 - rmse: 3.8096\n",
      "1787/1787 - 1s - 606us/step\n",
      "13:11:31 - Predicting\n",
      "1054/1054 - 1s - 649us/step\n",
      "13:11:41 - Calculating scores\n",
      "13:11:41 - R^2: 0.657708303975608, RMSE: 1.91759055028993, MAE: 1.406109711544981, MSE: 3.6771535185612367\n",
      "13:11:41 - Split 2 - Model: stacking_regressor\n",
      "13:11:41 - Fitting the model\n"
     ]
    },
    {
     "name": "stderr",
     "output_type": "stream",
     "text": [
      "/Users/ralf/Projects/learning-projects/datascience-bootcamp/sep24_bds_int_medical/.venv/lib/python3.12/site-packages/keras/src/saving/saving_lib.py:719: UserWarning: Skipping variable loading for optimizer 'adam', because it has 2 variables whereas the saved optimizer has 38 variables. \n",
      "  saveable.load_own_variables(weights_store.get(inner_path))\n",
      "/Users/ralf/Projects/learning-projects/datascience-bootcamp/sep24_bds_int_medical/.venv/lib/python3.12/site-packages/keras/src/backend/tensorflow/trainer.py:75: UserWarning: The model does not have any trainable weights.\n",
      "  warnings.warn(\"The model does not have any trainable weights.\")\n"
     ]
    },
    {
     "name": "stdout",
     "output_type": "stream",
     "text": [
      "8934/8934 - 7s - 732us/step - loss: 4.1389 - rmse: 3.8584\n"
     ]
    },
    {
     "name": "stderr",
     "output_type": "stream",
     "text": [
      "/Users/ralf/Projects/learning-projects/datascience-bootcamp/sep24_bds_int_medical/.venv/lib/python3.12/site-packages/keras/src/saving/saving_lib.py:719: UserWarning: Skipping variable loading for optimizer 'adam', because it has 2 variables whereas the saved optimizer has 38 variables. \n",
      "  saveable.load_own_variables(weights_store.get(inner_path))\n",
      "/Users/ralf/Projects/learning-projects/datascience-bootcamp/sep24_bds_int_medical/.venv/lib/python3.12/site-packages/keras/src/backend/tensorflow/trainer.py:75: UserWarning: The model does not have any trainable weights.\n",
      "  warnings.warn(\"The model does not have any trainable weights.\")\n"
     ]
    },
    {
     "name": "stdout",
     "output_type": "stream",
     "text": [
      "7147/7147 - 5s - 703us/step - loss: 4.0741 - rmse: 3.9057\n",
      "1787/1787 - 1s - 599us/step\n"
     ]
    },
    {
     "name": "stderr",
     "output_type": "stream",
     "text": [
      "/Users/ralf/Projects/learning-projects/datascience-bootcamp/sep24_bds_int_medical/.venv/lib/python3.12/site-packages/keras/src/saving/saving_lib.py:719: UserWarning: Skipping variable loading for optimizer 'adam', because it has 2 variables whereas the saved optimizer has 38 variables. \n",
      "  saveable.load_own_variables(weights_store.get(inner_path))\n",
      "/Users/ralf/Projects/learning-projects/datascience-bootcamp/sep24_bds_int_medical/.venv/lib/python3.12/site-packages/keras/src/backend/tensorflow/trainer.py:75: UserWarning: The model does not have any trainable weights.\n",
      "  warnings.warn(\"The model does not have any trainable weights.\")\n"
     ]
    },
    {
     "name": "stdout",
     "output_type": "stream",
     "text": [
      "7147/7147 - 5s - 705us/step - loss: 4.3475 - rmse: 3.8848\n",
      "1787/1787 - 1s - 598us/step\n"
     ]
    },
    {
     "name": "stderr",
     "output_type": "stream",
     "text": [
      "/Users/ralf/Projects/learning-projects/datascience-bootcamp/sep24_bds_int_medical/.venv/lib/python3.12/site-packages/keras/src/saving/saving_lib.py:719: UserWarning: Skipping variable loading for optimizer 'adam', because it has 2 variables whereas the saved optimizer has 38 variables. \n",
      "  saveable.load_own_variables(weights_store.get(inner_path))\n",
      "/Users/ralf/Projects/learning-projects/datascience-bootcamp/sep24_bds_int_medical/.venv/lib/python3.12/site-packages/keras/src/backend/tensorflow/trainer.py:75: UserWarning: The model does not have any trainable weights.\n",
      "  warnings.warn(\"The model does not have any trainable weights.\")\n"
     ]
    },
    {
     "name": "stdout",
     "output_type": "stream",
     "text": [
      "7147/7147 - 6s - 790us/step - loss: 4.2587 - rmse: 3.8610\n",
      "1787/1787 - 1s - 689us/step\n"
     ]
    },
    {
     "name": "stderr",
     "output_type": "stream",
     "text": [
      "/Users/ralf/Projects/learning-projects/datascience-bootcamp/sep24_bds_int_medical/.venv/lib/python3.12/site-packages/keras/src/saving/saving_lib.py:719: UserWarning: Skipping variable loading for optimizer 'adam', because it has 2 variables whereas the saved optimizer has 38 variables. \n",
      "  saveable.load_own_variables(weights_store.get(inner_path))\n",
      "/Users/ralf/Projects/learning-projects/datascience-bootcamp/sep24_bds_int_medical/.venv/lib/python3.12/site-packages/keras/src/backend/tensorflow/trainer.py:75: UserWarning: The model does not have any trainable weights.\n",
      "  warnings.warn(\"The model does not have any trainable weights.\")\n"
     ]
    },
    {
     "name": "stdout",
     "output_type": "stream",
     "text": [
      "7147/7147 - 5s - 768us/step - loss: 4.0108 - rmse: 3.8063\n",
      "1787/1787 - 1s - 681us/step\n"
     ]
    },
    {
     "name": "stderr",
     "output_type": "stream",
     "text": [
      "/Users/ralf/Projects/learning-projects/datascience-bootcamp/sep24_bds_int_medical/.venv/lib/python3.12/site-packages/keras/src/saving/saving_lib.py:719: UserWarning: Skipping variable loading for optimizer 'adam', because it has 2 variables whereas the saved optimizer has 38 variables. \n",
      "  saveable.load_own_variables(weights_store.get(inner_path))\n",
      "/Users/ralf/Projects/learning-projects/datascience-bootcamp/sep24_bds_int_medical/.venv/lib/python3.12/site-packages/keras/src/backend/tensorflow/trainer.py:75: UserWarning: The model does not have any trainable weights.\n",
      "  warnings.warn(\"The model does not have any trainable weights.\")\n"
     ]
    },
    {
     "name": "stdout",
     "output_type": "stream",
     "text": [
      "7147/7147 - 6s - 856us/step - loss: 4.0049 - rmse: 3.8071\n",
      "1787/1787 - 1s - 642us/step\n",
      "13:14:43 - Predicting\n",
      "1054/1054 - 1s - 672us/step\n",
      "13:14:53 - Calculating scores\n",
      "13:14:53 - R^2: 0.6521267960093255, RMSE: 1.9362706133972631, MAE: 1.4264758150231587, MSE: 3.749143888305814\n",
      "13:14:53 - Split 3 - Model: stacking_regressor\n",
      "13:14:53 - Fitting the model\n"
     ]
    },
    {
     "name": "stderr",
     "output_type": "stream",
     "text": [
      "/Users/ralf/Projects/learning-projects/datascience-bootcamp/sep24_bds_int_medical/.venv/lib/python3.12/site-packages/keras/src/saving/saving_lib.py:719: UserWarning: Skipping variable loading for optimizer 'adam', because it has 2 variables whereas the saved optimizer has 38 variables. \n",
      "  saveable.load_own_variables(weights_store.get(inner_path))\n",
      "/Users/ralf/Projects/learning-projects/datascience-bootcamp/sep24_bds_int_medical/.venv/lib/python3.12/site-packages/keras/src/backend/tensorflow/trainer.py:75: UserWarning: The model does not have any trainable weights.\n",
      "  warnings.warn(\"The model does not have any trainable weights.\")\n"
     ]
    },
    {
     "name": "stdout",
     "output_type": "stream",
     "text": [
      "8934/8934 - 6s - 706us/step - loss: 4.1616 - rmse: 3.8593\n"
     ]
    },
    {
     "name": "stderr",
     "output_type": "stream",
     "text": [
      "/Users/ralf/Projects/learning-projects/datascience-bootcamp/sep24_bds_int_medical/.venv/lib/python3.12/site-packages/keras/src/saving/saving_lib.py:719: UserWarning: Skipping variable loading for optimizer 'adam', because it has 2 variables whereas the saved optimizer has 38 variables. \n",
      "  saveable.load_own_variables(weights_store.get(inner_path))\n",
      "/Users/ralf/Projects/learning-projects/datascience-bootcamp/sep24_bds_int_medical/.venv/lib/python3.12/site-packages/keras/src/backend/tensorflow/trainer.py:75: UserWarning: The model does not have any trainable weights.\n",
      "  warnings.warn(\"The model does not have any trainable weights.\")\n"
     ]
    },
    {
     "name": "stdout",
     "output_type": "stream",
     "text": [
      "7147/7147 - 5s - 765us/step - loss: 4.0867 - rmse: 3.9062\n",
      "1787/1787 - 1s - 639us/step\n"
     ]
    },
    {
     "name": "stderr",
     "output_type": "stream",
     "text": [
      "/Users/ralf/Projects/learning-projects/datascience-bootcamp/sep24_bds_int_medical/.venv/lib/python3.12/site-packages/keras/src/saving/saving_lib.py:719: UserWarning: Skipping variable loading for optimizer 'adam', because it has 2 variables whereas the saved optimizer has 38 variables. \n",
      "  saveable.load_own_variables(weights_store.get(inner_path))\n",
      "/Users/ralf/Projects/learning-projects/datascience-bootcamp/sep24_bds_int_medical/.venv/lib/python3.12/site-packages/keras/src/backend/tensorflow/trainer.py:75: UserWarning: The model does not have any trainable weights.\n",
      "  warnings.warn(\"The model does not have any trainable weights.\")\n"
     ]
    },
    {
     "name": "stdout",
     "output_type": "stream",
     "text": [
      "7147/7147 - 7s - 971us/step - loss: 4.3713 - rmse: 3.8883\n",
      "1787/1787 - 1s - 692us/step\n"
     ]
    },
    {
     "name": "stderr",
     "output_type": "stream",
     "text": [
      "/Users/ralf/Projects/learning-projects/datascience-bootcamp/sep24_bds_int_medical/.venv/lib/python3.12/site-packages/keras/src/saving/saving_lib.py:719: UserWarning: Skipping variable loading for optimizer 'adam', because it has 2 variables whereas the saved optimizer has 38 variables. \n",
      "  saveable.load_own_variables(weights_store.get(inner_path))\n",
      "/Users/ralf/Projects/learning-projects/datascience-bootcamp/sep24_bds_int_medical/.venv/lib/python3.12/site-packages/keras/src/backend/tensorflow/trainer.py:75: UserWarning: The model does not have any trainable weights.\n",
      "  warnings.warn(\"The model does not have any trainable weights.\")\n"
     ]
    },
    {
     "name": "stdout",
     "output_type": "stream",
     "text": [
      "7147/7147 - 5s - 766us/step - loss: 4.2664 - rmse: 3.8670\n",
      "1787/1787 - 1s - 649us/step\n"
     ]
    },
    {
     "name": "stderr",
     "output_type": "stream",
     "text": [
      "/Users/ralf/Projects/learning-projects/datascience-bootcamp/sep24_bds_int_medical/.venv/lib/python3.12/site-packages/keras/src/saving/saving_lib.py:719: UserWarning: Skipping variable loading for optimizer 'adam', because it has 2 variables whereas the saved optimizer has 38 variables. \n",
      "  saveable.load_own_variables(weights_store.get(inner_path))\n",
      "/Users/ralf/Projects/learning-projects/datascience-bootcamp/sep24_bds_int_medical/.venv/lib/python3.12/site-packages/keras/src/backend/tensorflow/trainer.py:75: UserWarning: The model does not have any trainable weights.\n",
      "  warnings.warn(\"The model does not have any trainable weights.\")\n"
     ]
    },
    {
     "name": "stdout",
     "output_type": "stream",
     "text": [
      "7147/7147 - 7s - 999us/step - loss: 4.0045 - rmse: 3.8031\n",
      "1787/1787 - 1s - 804us/step\n"
     ]
    },
    {
     "name": "stderr",
     "output_type": "stream",
     "text": [
      "/Users/ralf/Projects/learning-projects/datascience-bootcamp/sep24_bds_int_medical/.venv/lib/python3.12/site-packages/keras/src/saving/saving_lib.py:719: UserWarning: Skipping variable loading for optimizer 'adam', because it has 2 variables whereas the saved optimizer has 38 variables. \n",
      "  saveable.load_own_variables(weights_store.get(inner_path))\n",
      "/Users/ralf/Projects/learning-projects/datascience-bootcamp/sep24_bds_int_medical/.venv/lib/python3.12/site-packages/keras/src/backend/tensorflow/trainer.py:75: UserWarning: The model does not have any trainable weights.\n",
      "  warnings.warn(\"The model does not have any trainable weights.\")\n"
     ]
    },
    {
     "name": "stdout",
     "output_type": "stream",
     "text": [
      "7147/7147 - 6s - 863us/step - loss: 4.0455 - rmse: 3.8133\n",
      "1787/1787 - 1s - 676us/step\n",
      "13:18:03 - Predicting\n",
      "1054/1054 - 1s - 1ms/step\n",
      "13:18:13 - Calculating scores\n",
      "13:18:13 - R^2: 0.6546792292342372, RMSE: 1.9096377509487426, MAE: 1.4057311668254826, MSE: 3.646716339848572\n",
      "13:18:13 - Split 4 - Model: stacking_regressor\n",
      "13:18:13 - Fitting the model\n"
     ]
    },
    {
     "name": "stderr",
     "output_type": "stream",
     "text": [
      "/Users/ralf/Projects/learning-projects/datascience-bootcamp/sep24_bds_int_medical/.venv/lib/python3.12/site-packages/keras/src/saving/saving_lib.py:719: UserWarning: Skipping variable loading for optimizer 'adam', because it has 2 variables whereas the saved optimizer has 38 variables. \n",
      "  saveable.load_own_variables(weights_store.get(inner_path))\n",
      "/Users/ralf/Projects/learning-projects/datascience-bootcamp/sep24_bds_int_medical/.venv/lib/python3.12/site-packages/keras/src/backend/tensorflow/trainer.py:75: UserWarning: The model does not have any trainable weights.\n",
      "  warnings.warn(\"The model does not have any trainable weights.\")\n"
     ]
    },
    {
     "name": "stdout",
     "output_type": "stream",
     "text": [
      "8934/8934 - 7s - 735us/step - loss: 4.1406 - rmse: 3.8527\n"
     ]
    },
    {
     "name": "stderr",
     "output_type": "stream",
     "text": [
      "/Users/ralf/Projects/learning-projects/datascience-bootcamp/sep24_bds_int_medical/.venv/lib/python3.12/site-packages/keras/src/saving/saving_lib.py:719: UserWarning: Skipping variable loading for optimizer 'adam', because it has 2 variables whereas the saved optimizer has 38 variables. \n",
      "  saveable.load_own_variables(weights_store.get(inner_path))\n",
      "/Users/ralf/Projects/learning-projects/datascience-bootcamp/sep24_bds_int_medical/.venv/lib/python3.12/site-packages/keras/src/backend/tensorflow/trainer.py:75: UserWarning: The model does not have any trainable weights.\n",
      "  warnings.warn(\"The model does not have any trainable weights.\")\n"
     ]
    },
    {
     "name": "stdout",
     "output_type": "stream",
     "text": [
      "7147/7147 - 5s - 713us/step - loss: 4.0904 - rmse: 3.9046\n",
      "1787/1787 - 1s - 611us/step\n"
     ]
    },
    {
     "name": "stderr",
     "output_type": "stream",
     "text": [
      "/Users/ralf/Projects/learning-projects/datascience-bootcamp/sep24_bds_int_medical/.venv/lib/python3.12/site-packages/keras/src/saving/saving_lib.py:719: UserWarning: Skipping variable loading for optimizer 'adam', because it has 2 variables whereas the saved optimizer has 38 variables. \n",
      "  saveable.load_own_variables(weights_store.get(inner_path))\n",
      "/Users/ralf/Projects/learning-projects/datascience-bootcamp/sep24_bds_int_medical/.venv/lib/python3.12/site-packages/keras/src/backend/tensorflow/trainer.py:75: UserWarning: The model does not have any trainable weights.\n",
      "  warnings.warn(\"The model does not have any trainable weights.\")\n"
     ]
    },
    {
     "name": "stdout",
     "output_type": "stream",
     "text": [
      "7147/7147 - 5s - 740us/step - loss: 4.3646 - rmse: 3.8867\n",
      "1787/1787 - 1s - 638us/step\n"
     ]
    },
    {
     "name": "stderr",
     "output_type": "stream",
     "text": [
      "/Users/ralf/Projects/learning-projects/datascience-bootcamp/sep24_bds_int_medical/.venv/lib/python3.12/site-packages/keras/src/saving/saving_lib.py:719: UserWarning: Skipping variable loading for optimizer 'adam', because it has 2 variables whereas the saved optimizer has 38 variables. \n",
      "  saveable.load_own_variables(weights_store.get(inner_path))\n",
      "/Users/ralf/Projects/learning-projects/datascience-bootcamp/sep24_bds_int_medical/.venv/lib/python3.12/site-packages/keras/src/backend/tensorflow/trainer.py:75: UserWarning: The model does not have any trainable weights.\n",
      "  warnings.warn(\"The model does not have any trainable weights.\")\n"
     ]
    },
    {
     "name": "stdout",
     "output_type": "stream",
     "text": [
      "7147/7147 - 5s - 714us/step - loss: 4.2676 - rmse: 3.8622\n",
      "1787/1787 - 1s - 612us/step\n"
     ]
    },
    {
     "name": "stderr",
     "output_type": "stream",
     "text": [
      "/Users/ralf/Projects/learning-projects/datascience-bootcamp/sep24_bds_int_medical/.venv/lib/python3.12/site-packages/keras/src/saving/saving_lib.py:719: UserWarning: Skipping variable loading for optimizer 'adam', because it has 2 variables whereas the saved optimizer has 38 variables. \n",
      "  saveable.load_own_variables(weights_store.get(inner_path))\n",
      "/Users/ralf/Projects/learning-projects/datascience-bootcamp/sep24_bds_int_medical/.venv/lib/python3.12/site-packages/keras/src/backend/tensorflow/trainer.py:75: UserWarning: The model does not have any trainable weights.\n",
      "  warnings.warn(\"The model does not have any trainable weights.\")\n"
     ]
    },
    {
     "name": "stdout",
     "output_type": "stream",
     "text": [
      "7147/7147 - 6s - 815us/step - loss: 4.0089 - rmse: 3.8056\n",
      "1787/1787 - 1s - 686us/step\n"
     ]
    },
    {
     "name": "stderr",
     "output_type": "stream",
     "text": [
      "/Users/ralf/Projects/learning-projects/datascience-bootcamp/sep24_bds_int_medical/.venv/lib/python3.12/site-packages/keras/src/saving/saving_lib.py:719: UserWarning: Skipping variable loading for optimizer 'adam', because it has 2 variables whereas the saved optimizer has 38 variables. \n",
      "  saveable.load_own_variables(weights_store.get(inner_path))\n",
      "/Users/ralf/Projects/learning-projects/datascience-bootcamp/sep24_bds_int_medical/.venv/lib/python3.12/site-packages/keras/src/backend/tensorflow/trainer.py:75: UserWarning: The model does not have any trainable weights.\n",
      "  warnings.warn(\"The model does not have any trainable weights.\")\n"
     ]
    },
    {
     "name": "stdout",
     "output_type": "stream",
     "text": [
      "7147/7147 - 6s - 822us/step - loss: 4.0162 - rmse: 3.8064\n",
      "1787/1787 - 1s - 684us/step\n",
      "13:21:17 - Predicting\n",
      "1054/1054 - 1s - 712us/step\n",
      "13:21:27 - Calculating scores\n",
      "13:21:27 - R^2: 0.6535973556933825, RMSE: 1.934933667367044, MAE: 1.4245072019765972, MSE: 3.7439682971104786\n",
      "13:21:27 - Split 5 - Model: stacking_regressor\n",
      "13:21:27 - Fitting the model\n"
     ]
    },
    {
     "name": "stderr",
     "output_type": "stream",
     "text": [
      "/Users/ralf/Projects/learning-projects/datascience-bootcamp/sep24_bds_int_medical/.venv/lib/python3.12/site-packages/keras/src/saving/saving_lib.py:719: UserWarning: Skipping variable loading for optimizer 'adam', because it has 2 variables whereas the saved optimizer has 38 variables. \n",
      "  saveable.load_own_variables(weights_store.get(inner_path))\n",
      "/Users/ralf/Projects/learning-projects/datascience-bootcamp/sep24_bds_int_medical/.venv/lib/python3.12/site-packages/keras/src/backend/tensorflow/trainer.py:75: UserWarning: The model does not have any trainable weights.\n",
      "  warnings.warn(\"The model does not have any trainable weights.\")\n"
     ]
    },
    {
     "name": "stdout",
     "output_type": "stream",
     "text": [
      "8934/8934 - 6s - 705us/step - loss: 4.1451 - rmse: 3.8591\n"
     ]
    }
   ],
   "execution_count": null
  },
  {
   "metadata": {},
   "cell_type": "code",
   "source": [
    "import numpy as np\n",
    "from pipelines_selected_features import pipeline\n",
    "\n",
    "all_train_data_transformed = pipeline.fit_transform(pd.concat([train_data, additional_train_data], axis=0))\n",
    "\n",
    "X_train = all_train_data_transformed.drop(columns=['bg+1:00'])\n",
    "y_train = all_train_data_transformed['bg+1:00']\n",
    "X_test = pipeline.transform(test_data)\n",
    "\n",
    "model.fit(X_train, y_train)"
   ],
   "id": "43cf99724f468af4",
   "outputs": [],
   "execution_count": null
  },
  {
   "metadata": {},
   "cell_type": "code",
   "source": [
    "y_pred = model.predict(X_test)\n",
    "test_data['bg+1:00'] = y_pred\n",
    "\n",
    "if np.sum(y_pred < 0) > 0:\n",
    "    print(f'Number of negative values: {np.sum(y_pred < 0)}')\n",
    "    bg_min_train = np.min(y_train)\n",
    "    print(f'Min value: {np.min(y_pred)}')\n",
    "    print(f'Filling negative values with {bg_min_train}')\n",
    "    y_pred = np.where(y_pred < 0, bg_min_train, y_pred)\n",
    "\n",
    "test_data['bg+1:00'] = y_pred\n",
    "test_data.head()"
   ],
   "id": "4bc5c6a7c86b6f3c",
   "outputs": [],
   "execution_count": null
  },
  {
   "metadata": {},
   "cell_type": "code",
   "source": [
    "submission = pd.DataFrame(test_data['bg+1:00'])\n",
    "submission.to_csv(f'submission-{model_name}.csv')\n",
    "submission"
   ],
   "id": "5167875e1afa3ec1",
   "outputs": [],
   "execution_count": null
  },
  {
   "metadata": {},
   "cell_type": "code",
   "source": "submission.describe()",
   "id": "76f34bf74bc9f805",
   "outputs": [],
   "execution_count": null
  }
 ],
 "metadata": {
  "kernelspec": {
   "display_name": "Python 3",
   "language": "python",
   "name": "python3"
  },
  "language_info": {
   "codemirror_mode": {
    "name": "ipython",
    "version": 2
   },
   "file_extension": ".py",
   "mimetype": "text/x-python",
   "name": "python",
   "nbconvert_exporter": "python",
   "pygments_lexer": "ipython2",
   "version": "2.7.6"
  }
 },
 "nbformat": 4,
 "nbformat_minor": 5
}
