{
 "cells": [
  {
   "metadata": {},
   "cell_type": "markdown",
   "source": [
    "# Tune the meta model\n",
    " \n",
    "We want to check if we can exchange the metamodel from Ridge to DNN\n",
    "\n",
    "We use the best base model parameters from the previous notebooks"
   ],
   "id": "32bfa9234ec39c2"
  },
  {
   "metadata": {},
   "cell_type": "markdown",
   "source": "# Model v4.0 - Baseline model with added DNN base estimator",
   "id": "c4f5fa4ffbc53369"
  },
  {
   "metadata": {
    "ExecuteTime": {
     "end_time": "2024-11-27T10:21:30.158656Z",
     "start_time": "2024-11-27T10:21:15.851423Z"
    }
   },
   "cell_type": "code",
   "source": [
    "from fileinput import filename\n",
    "\n",
    "import pandas as pd\n",
    "\n",
    "from data import load_data_selected_features\n",
    "\n",
    "train_data, additional_train_data, test_data = load_data_selected_features()"
   ],
   "id": "ed9cab10a4c9269",
   "outputs": [],
   "execution_count": 1
  },
  {
   "metadata": {
    "ExecuteTime": {
     "end_time": "2024-11-27T10:21:30.175001Z",
     "start_time": "2024-11-27T10:21:30.164990Z"
    }
   },
   "cell_type": "code",
   "source": "train_data.info()",
   "id": "af6bdd55ecd2a72b",
   "outputs": [
    {
     "name": "stdout",
     "output_type": "stream",
     "text": [
      "<class 'pandas.core.frame.DataFrame'>\n",
      "Index: 150996 entries, p01_0 to p12_25298\n",
      "Columns: 507 entries, p_num to bg+1:00\n",
      "dtypes: float64(433), object(74)\n",
      "memory usage: 585.2+ MB\n"
     ]
    }
   ],
   "execution_count": 2
  },
  {
   "metadata": {
    "ExecuteTime": {
     "end_time": "2024-11-27T10:21:30.308171Z",
     "start_time": "2024-11-27T10:21:30.299035Z"
    }
   },
   "cell_type": "code",
   "source": "additional_train_data.info()",
   "id": "e6efef1597276890",
   "outputs": [
    {
     "name": "stdout",
     "output_type": "stream",
     "text": [
      "<class 'pandas.core.frame.DataFrame'>\n",
      "Index: 168588 entries, p01_test_12 to p24_test_94938\n",
      "Columns: 507 entries, p_num to bg+1:00\n",
      "dtypes: float64(433), object(74)\n",
      "memory usage: 657.4+ MB\n"
     ]
    }
   ],
   "execution_count": 3
  },
  {
   "metadata": {
    "ExecuteTime": {
     "end_time": "2024-11-27T10:21:30.379695Z",
     "start_time": "2024-11-27T10:21:30.367490Z"
    }
   },
   "cell_type": "code",
   "source": "test_data.info()",
   "id": "16d75f6d697d8bc7",
   "outputs": [
    {
     "name": "stdout",
     "output_type": "stream",
     "text": [
      "<class 'pandas.core.frame.DataFrame'>\n",
      "Index: 3644 entries, p01_8459 to p24_260\n",
      "Columns: 506 entries, p_num to activity-0:00\n",
      "dtypes: float64(432), object(74)\n",
      "memory usage: 14.2+ MB\n"
     ]
    }
   ],
   "execution_count": 4
  },
  {
   "metadata": {},
   "cell_type": "markdown",
   "source": "# Prepare the data",
   "id": "fc5e077e5738d8eb"
  },
  {
   "metadata": {
    "ExecuteTime": {
     "end_time": "2024-11-27T10:22:12.807187Z",
     "start_time": "2024-11-27T10:21:30.429508Z"
    }
   },
   "cell_type": "code",
   "source": [
    "from pipelines_selected_features import pipeline\n",
    "\n",
    "all_train_data = pd.concat([train_data, additional_train_data], axis=0)\n",
    "all_train_data_transformed = pipeline.fit_transform(all_train_data)\n",
    "\n",
    "train_data_transformed = all_train_data_transformed[:len(train_data)]\n",
    "additional_train_data_transformed = all_train_data_transformed[len(train_data):]\n",
    "\n",
    "X_train = train_data_transformed.drop(columns=['bg+1:00'])\n",
    "y_train = train_data_transformed['bg+1:00']\n",
    "\n",
    "X_additional_train = additional_train_data_transformed.drop(columns=['bg+1:00'])\n",
    "y_additional_train = additional_train_data_transformed['bg+1:00']"
   ],
   "id": "c7df704ede80b62",
   "outputs": [],
   "execution_count": 5
  },
  {
   "metadata": {},
   "cell_type": "markdown",
   "source": "## Predict for validation data and check results",
   "id": "9b608adb90b0235e"
  },
  {
   "metadata": {
    "ExecuteTime": {
     "end_time": "2024-11-27T10:22:15.622582Z",
     "start_time": "2024-11-27T10:22:12.834881Z"
    }
   },
   "cell_type": "code",
   "source": [
    "from tensorflow.keras.models import Model\n",
    "from tensorflow.keras.layers import Concatenate\n",
    "import tensorflow as tf\n",
    "from tensorflow.keras.layers import Dense, Dropout, BatchNormalization, Input, Activation\n",
    "from tensorflow.keras.optimizers import Adam\n",
    "from scikeras.wrappers import KerasRegressor\n",
    "\n",
    "\n",
    "def rmse(y_true, y_pred):\n",
    "    return tf.sqrt(tf.reduce_mean(tf.square(y_pred - y_true)))\n",
    "\n",
    "\n",
    "def create_dnn_model(input_dimension: int):\n",
    "    input_layer = Input(shape=(input_dimension,))\n",
    "    wide = Dense(128, activation='relu')(input_layer)  # Wide component\n",
    "    deep = Dense(128, activation='relu')(input_layer)\n",
    "    deep = Dense(64, activation='relu')(deep)\n",
    "    deep = Dense(32, activation='relu')(deep)\n",
    "\n",
    "    merged = Concatenate()([wide, deep])\n",
    "    output_layer = Dense(1, activation='linear')(merged)\n",
    "\n",
    "    dnn_model = Model(inputs=input_layer, outputs=output_layer)\n",
    "    dnn_model.compile(\n",
    "        optimizer=Adam(learning_rate=0.001),\n",
    "        loss='mse',\n",
    "        metrics=[rmse]\n",
    "    )\n",
    "\n",
    "    return dnn_model\n",
    "\n",
    "\n",
    "def model_with_pretrained_weights():\n",
    "    dnn = create_dnn_model(X_train.shape[1])\n",
    "    dnn.load_weights('v4.0-dnn.weights.h5')  # Load the pre-trained weights\n",
    "\n",
    "    # Freeze all layers except the last one (optional)\n",
    "    for layer in dnn.layers:\n",
    "        layer.trainable = False\n",
    "    # Unfreeze the output layer if you want to fine-tune it\n",
    "    # dnn.layers[-1].trainable = True\n",
    "\n",
    "    dnn.compile(optimizer='adam', loss='mse', metrics=[rmse])\n",
    "    return dnn\n"
   ],
   "id": "c20aa25cccb09977",
   "outputs": [],
   "execution_count": 6
  },
  {
   "metadata": {
    "ExecuteTime": {
     "end_time": "2024-11-27T10:30:34.973658Z",
     "start_time": "2024-11-27T10:22:15.647666Z"
    }
   },
   "cell_type": "code",
   "source": [
    "from sklearn.neighbors import KNeighborsRegressor\n",
    "from xgboost import XGBRegressor\n",
    "from sklearn.ensemble import StackingRegressor, HistGradientBoostingRegressor\n",
    "from sklearn.linear_model import LassoLarsIC, Ridge\n",
    "\n",
    "hgb_estimator = HistGradientBoostingRegressor(max_iter=200, max_depth=5, learning_rate=0.1)\n",
    "lasso_lars_ic_base_model = LassoLarsIC(criterion='bic', max_iter=10000)\n",
    "knn_base_model = KNeighborsRegressor(n_neighbors=5)\n",
    "xgb_base_model = XGBRegressor(objective='reg:squarederror', random_state=42, n_estimators=500, max_depth=5, learning_rate=0.1)\n",
    "\n",
    "# pretrain the DNN and use the weights in the stacking model\n",
    "pretrained_dnn = create_dnn_model(X_train.shape[1])\n",
    "pretrained_dnn.fit(pd.concat([X_train, X_additional_train], axis=0), pd.concat([y_train, y_additional_train], axis=0), epochs=100, verbose=2)\n",
    "pretrained_dnn.save_weights('v4.0-dnn.weights.h5')\n",
    "\n",
    "keras_regressor = KerasRegressor(\n",
    "    model=model_with_pretrained_weights,\n",
    "    epochs=1,\n",
    "    verbose=2\n",
    ")\n",
    "\n",
    "estimators = [\n",
    "    ('hgb', hgb_estimator),\n",
    "    ('lasso_lars_ic', lasso_lars_ic_base_model),\n",
    "    ('knn', knn_base_model),\n",
    "    ('xgb', xgb_base_model),\n",
    "    ('dnn', keras_regressor)\n",
    "]\n",
    "\n",
    "model = StackingRegressor(estimators=estimators, final_estimator=Ridge(alpha=0.1), n_jobs=1, verbose=2)"
   ],
   "id": "7e0583e9ae957c2d",
   "outputs": [
    {
     "name": "stdout",
     "output_type": "stream",
     "text": [
      "Epoch 1/100\n",
      "9987/9987 - 5s - 481us/step - loss: 4.5814 - rmse: 2.0836\n",
      "Epoch 2/100\n",
      "9987/9987 - 4s - 431us/step - loss: 4.0299 - rmse: 1.9763\n",
      "Epoch 3/100\n",
      "9987/9987 - 4s - 434us/step - loss: 3.9042 - rmse: 1.9453\n",
      "Epoch 4/100\n",
      "9987/9987 - 4s - 434us/step - loss: 3.8410 - rmse: 1.9258\n",
      "Epoch 5/100\n",
      "9987/9987 - 4s - 434us/step - loss: 3.7473 - rmse: 1.9050\n",
      "Epoch 6/100\n",
      "9987/9987 - 4s - 433us/step - loss: 3.6859 - rmse: 1.8902\n",
      "Epoch 7/100\n",
      "9987/9987 - 4s - 435us/step - loss: 3.6575 - rmse: 1.8792\n",
      "Epoch 8/100\n",
      "9987/9987 - 4s - 437us/step - loss: 3.5909 - rmse: 1.8640\n",
      "Epoch 9/100\n",
      "9987/9987 - 5s - 454us/step - loss: 3.5329 - rmse: 1.8502\n",
      "Epoch 10/100\n",
      "9987/9987 - 4s - 437us/step - loss: 3.5322 - rmse: 1.8426\n",
      "Epoch 11/100\n",
      "9987/9987 - 4s - 439us/step - loss: 3.4525 - rmse: 1.8289\n",
      "Epoch 12/100\n",
      "9987/9987 - 6s - 566us/step - loss: 3.4538 - rmse: 1.8215\n",
      "Epoch 13/100\n",
      "9987/9987 - 4s - 438us/step - loss: 3.3954 - rmse: 1.8102\n",
      "Epoch 14/100\n",
      "9987/9987 - 4s - 446us/step - loss: 3.3828 - rmse: 1.8029\n",
      "Epoch 15/100\n",
      "9987/9987 - 4s - 429us/step - loss: 3.3823 - rmse: 1.7956\n",
      "Epoch 16/100\n",
      "9987/9987 - 5s - 526us/step - loss: 3.3223 - rmse: 1.7863\n",
      "Epoch 17/100\n",
      "9987/9987 - 5s - 521us/step - loss: 3.2564 - rmse: 1.7769\n",
      "Epoch 18/100\n",
      "9987/9987 - 5s - 490us/step - loss: 3.3020 - rmse: 1.7734\n",
      "Epoch 19/100\n",
      "9987/9987 - 5s - 543us/step - loss: 3.2113 - rmse: 1.7623\n",
      "Epoch 20/100\n",
      "9987/9987 - 5s - 540us/step - loss: 3.2000 - rmse: 1.7561\n",
      "Epoch 21/100\n",
      "9987/9987 - 5s - 505us/step - loss: 3.2258 - rmse: 1.7547\n",
      "Epoch 22/100\n",
      "9987/9987 - 5s - 495us/step - loss: 3.1935 - rmse: 1.7484\n",
      "Epoch 23/100\n",
      "9987/9987 - 5s - 504us/step - loss: 3.1663 - rmse: 1.7424\n",
      "Epoch 24/100\n",
      "9987/9987 - 5s - 462us/step - loss: 3.1822 - rmse: 1.7391\n",
      "Epoch 25/100\n",
      "9987/9987 - 5s - 527us/step - loss: 3.1234 - rmse: 1.7328\n",
      "Epoch 26/100\n",
      "9987/9987 - 5s - 466us/step - loss: 3.1019 - rmse: 1.7276\n",
      "Epoch 27/100\n",
      "9987/9987 - 5s - 478us/step - loss: 3.1224 - rmse: 1.7264\n",
      "Epoch 28/100\n",
      "9987/9987 - 5s - 527us/step - loss: 3.0897 - rmse: 1.7196\n",
      "Epoch 29/100\n",
      "9987/9987 - 5s - 505us/step - loss: 3.0632 - rmse: 1.7122\n",
      "Epoch 30/100\n",
      "9987/9987 - 5s - 491us/step - loss: 3.0348 - rmse: 1.7097\n",
      "Epoch 31/100\n",
      "9987/9987 - 5s - 533us/step - loss: 3.1281 - rmse: 1.7110\n",
      "Epoch 32/100\n",
      "9987/9987 - 5s - 498us/step - loss: 3.0490 - rmse: 1.7050\n",
      "Epoch 33/100\n",
      "9987/9987 - 5s - 496us/step - loss: 3.1116 - rmse: 1.7053\n",
      "Epoch 34/100\n",
      "9987/9987 - 5s - 492us/step - loss: 2.9892 - rmse: 1.6953\n",
      "Epoch 35/100\n",
      "9987/9987 - 5s - 495us/step - loss: 2.9926 - rmse: 1.6902\n",
      "Epoch 36/100\n",
      "9987/9987 - 5s - 496us/step - loss: 3.0620 - rmse: 1.6960\n",
      "Epoch 37/100\n",
      "9987/9987 - 5s - 478us/step - loss: 2.9762 - rmse: 1.6874\n",
      "Epoch 38/100\n",
      "9987/9987 - 5s - 506us/step - loss: 3.0419 - rmse: 1.6879\n",
      "Epoch 39/100\n",
      "9987/9987 - 5s - 520us/step - loss: 2.9655 - rmse: 1.6824\n",
      "Epoch 40/100\n",
      "9987/9987 - 5s - 494us/step - loss: 2.9577 - rmse: 1.6797\n",
      "Epoch 41/100\n",
      "9987/9987 - 5s - 517us/step - loss: 3.0826 - rmse: 1.6843\n",
      "Epoch 42/100\n",
      "9987/9987 - 6s - 555us/step - loss: 2.8977 - rmse: 1.6684\n",
      "Epoch 43/100\n",
      "9987/9987 - 5s - 529us/step - loss: 2.9289 - rmse: 1.6686\n",
      "Epoch 44/100\n",
      "9987/9987 - 5s - 493us/step - loss: 2.9360 - rmse: 1.6688\n",
      "Epoch 45/100\n",
      "9987/9987 - 5s - 512us/step - loss: 2.8990 - rmse: 1.6634\n",
      "Epoch 46/100\n",
      "9987/9987 - 5s - 488us/step - loss: 2.9201 - rmse: 1.6633\n",
      "Epoch 47/100\n",
      "9987/9987 - 5s - 453us/step - loss: 2.8609 - rmse: 1.6581\n",
      "Epoch 48/100\n",
      "9987/9987 - 4s - 440us/step - loss: 2.9423 - rmse: 1.6609\n",
      "Epoch 49/100\n",
      "9987/9987 - 5s - 546us/step - loss: 2.8546 - rmse: 1.6525\n",
      "Epoch 50/100\n",
      "9987/9987 - 5s - 511us/step - loss: 2.9051 - rmse: 1.6547\n",
      "Epoch 51/100\n",
      "9987/9987 - 6s - 620us/step - loss: 2.9250 - rmse: 1.6521\n",
      "Epoch 52/100\n",
      "9987/9987 - 5s - 502us/step - loss: 2.8061 - rmse: 1.6438\n",
      "Epoch 53/100\n",
      "9987/9987 - 5s - 544us/step - loss: 2.8789 - rmse: 1.6466\n",
      "Epoch 54/100\n",
      "9987/9987 - 5s - 480us/step - loss: 2.9223 - rmse: 1.6489\n",
      "Epoch 55/100\n",
      "9987/9987 - 5s - 540us/step - loss: 2.8706 - rmse: 1.6400\n",
      "Epoch 56/100\n",
      "9987/9987 - 5s - 510us/step - loss: 2.8764 - rmse: 1.6448\n",
      "Epoch 57/100\n",
      "9987/9987 - 5s - 516us/step - loss: 2.9273 - rmse: 1.6473\n",
      "Epoch 58/100\n",
      "9987/9987 - 5s - 540us/step - loss: 2.8502 - rmse: 1.6376\n",
      "Epoch 59/100\n",
      "9987/9987 - 5s - 536us/step - loss: 2.8348 - rmse: 1.6367\n",
      "Epoch 60/100\n",
      "9987/9987 - 5s - 468us/step - loss: 2.9100 - rmse: 1.6343\n",
      "Epoch 61/100\n",
      "9987/9987 - 6s - 576us/step - loss: 2.8303 - rmse: 1.6330\n",
      "Epoch 62/100\n",
      "9987/9987 - 6s - 564us/step - loss: 2.9085 - rmse: 1.6352\n",
      "Epoch 63/100\n",
      "9987/9987 - 5s - 538us/step - loss: 2.8578 - rmse: 1.6323\n",
      "Epoch 64/100\n",
      "9987/9987 - 5s - 502us/step - loss: 2.8539 - rmse: 1.6303\n",
      "Epoch 65/100\n",
      "9987/9987 - 5s - 498us/step - loss: 2.9175 - rmse: 1.6333\n",
      "Epoch 66/100\n",
      "9987/9987 - 5s - 542us/step - loss: 2.8800 - rmse: 1.6303\n",
      "Epoch 67/100\n",
      "9987/9987 - 5s - 509us/step - loss: 2.7869 - rmse: 1.6236\n",
      "Epoch 68/100\n",
      "9987/9987 - 5s - 514us/step - loss: 2.8620 - rmse: 1.6267\n",
      "Epoch 69/100\n",
      "9987/9987 - 5s - 514us/step - loss: 2.9390 - rmse: 1.6279\n",
      "Epoch 70/100\n",
      "9987/9987 - 5s - 483us/step - loss: 2.8834 - rmse: 1.6226\n",
      "Epoch 71/100\n",
      "9987/9987 - 5s - 521us/step - loss: 2.7758 - rmse: 1.6175\n",
      "Epoch 72/100\n",
      "9987/9987 - 6s - 551us/step - loss: 2.8115 - rmse: 1.6214\n",
      "Epoch 73/100\n",
      "9987/9987 - 5s - 493us/step - loss: 2.8902 - rmse: 1.6293\n",
      "Epoch 74/100\n",
      "9987/9987 - 6s - 553us/step - loss: 2.8523 - rmse: 1.6217\n",
      "Epoch 75/100\n",
      "9987/9987 - 5s - 514us/step - loss: 2.8611 - rmse: 1.6221\n",
      "Epoch 76/100\n",
      "9987/9987 - 5s - 491us/step - loss: 2.8918 - rmse: 1.6163\n",
      "Epoch 77/100\n",
      "9987/9987 - 5s - 472us/step - loss: 2.7821 - rmse: 1.6141\n",
      "Epoch 78/100\n",
      "9987/9987 - 5s - 505us/step - loss: 2.8068 - rmse: 1.6163\n",
      "Epoch 79/100\n",
      "9987/9987 - 5s - 496us/step - loss: 2.7612 - rmse: 1.6110\n",
      "Epoch 80/100\n",
      "9987/9987 - 5s - 504us/step - loss: 2.8901 - rmse: 1.6169\n",
      "Epoch 81/100\n",
      "9987/9987 - 5s - 502us/step - loss: 2.7415 - rmse: 1.6074\n",
      "Epoch 82/100\n",
      "9987/9987 - 5s - 499us/step - loss: 2.7219 - rmse: 1.6059\n",
      "Epoch 83/100\n",
      "9987/9987 - 5s - 474us/step - loss: 2.9204 - rmse: 1.6169\n",
      "Epoch 84/100\n",
      "9987/9987 - 5s - 470us/step - loss: 2.6976 - rmse: 1.6043\n",
      "Epoch 85/100\n",
      "9987/9987 - 5s - 511us/step - loss: 2.7881 - rmse: 1.6118\n",
      "Epoch 86/100\n",
      "9987/9987 - 5s - 470us/step - loss: 2.7868 - rmse: 1.6089\n",
      "Epoch 87/100\n",
      "9987/9987 - 5s - 473us/step - loss: 2.7548 - rmse: 1.6064\n",
      "Epoch 88/100\n",
      "9987/9987 - 4s - 446us/step - loss: 2.8041 - rmse: 1.6050\n",
      "Epoch 89/100\n",
      "9987/9987 - 5s - 514us/step - loss: 2.7579 - rmse: 1.6067\n",
      "Epoch 90/100\n",
      "9987/9987 - 5s - 471us/step - loss: 2.8213 - rmse: 1.6093\n",
      "Epoch 91/100\n",
      "9987/9987 - 5s - 480us/step - loss: 2.8226 - rmse: 1.6023\n",
      "Epoch 92/100\n",
      "9987/9987 - 5s - 513us/step - loss: 2.7464 - rmse: 1.6020\n",
      "Epoch 93/100\n",
      "9987/9987 - 5s - 542us/step - loss: 2.7686 - rmse: 1.5994\n",
      "Epoch 94/100\n",
      "9987/9987 - 5s - 526us/step - loss: 2.8926 - rmse: 1.6063\n",
      "Epoch 95/100\n",
      "9987/9987 - 5s - 519us/step - loss: 2.7528 - rmse: 1.6023\n",
      "Epoch 96/100\n",
      "9987/9987 - 5s - 544us/step - loss: 2.7523 - rmse: 1.6015\n",
      "Epoch 97/100\n",
      "9987/9987 - 6s - 568us/step - loss: 2.8902 - rmse: 1.6012\n",
      "Epoch 98/100\n",
      "9987/9987 - 5s - 547us/step - loss: 2.7729 - rmse: 1.6024\n",
      "Epoch 99/100\n",
      "9987/9987 - 5s - 469us/step - loss: 2.7995 - rmse: 1.5996\n",
      "Epoch 100/100\n",
      "9987/9987 - 5s - 463us/step - loss: 2.8038 - rmse: 1.5975\n"
     ]
    }
   ],
   "execution_count": 7
  },
  {
   "metadata": {
    "ExecuteTime": {
     "end_time": "2024-11-27T10:47:00.384811Z",
     "start_time": "2024-11-27T10:30:35.014613Z"
    }
   },
   "cell_type": "code",
   "source": [
    "from datetime import datetime\n",
    "import os\n",
    "from model_performance_calculations import calculate_stacking_regressor_performance, get_rmse_boxplot_chart, get_rmse_line_chart, save_performances, save_model\n",
    "\n",
    "date_time = datetime.now().strftime('%Y-%m-%d_%H-%M-%S')\n",
    "model_name = f'{date_time}-model-v4.0-DNN'\n",
    "\n",
    "save_model(model, os.path.join('models', f'{model_name}.pkl'))\n",
    "\n",
    "performances = calculate_stacking_regressor_performance(model, X_train, y_train, X_additional_train, y_additional_train, n_splits=5)\n",
    "save_performances(performances, os.path.join('models', f'{model_name}-performances.json'))\n",
    "\n",
    "get_rmse_boxplot_chart(performances).show()\n",
    "get_rmse_line_chart(performances).show()"
   ],
   "id": "c0be6db84ab0c1b0",
   "outputs": [
    {
     "name": "stdout",
     "output_type": "stream",
     "text": [
      "11:30:35 - Start training\n",
      "11:30:35 - Calculate performance for dnn\n",
      "11:30:35 - Selected splitter: ShuffleSplit(n_splits=5, random_state=42, test_size=0.2, train_size=None)\n",
      "11:30:35 - Split 1 - Model: dnn\n",
      "11:30:35 - Fitting the model\n"
     ]
    },
    {
     "name": "stderr",
     "output_type": "stream",
     "text": [
      "/Users/ralf/Projects/learning-projects/datascience-bootcamp/sep24_bds_int_medical/.venv/lib/python3.12/site-packages/keras/src/saving/saving_lib.py:719: UserWarning: Skipping variable loading for optimizer 'adam', because it has 2 variables whereas the saved optimizer has 22 variables. \n",
      "  saveable.load_own_variables(weights_store.get(inner_path))\n",
      "/Users/ralf/Projects/learning-projects/datascience-bootcamp/sep24_bds_int_medical/.venv/lib/python3.12/site-packages/keras/src/backend/tensorflow/trainer.py:75: UserWarning: The model does not have any trainable weights.\n",
      "  warnings.warn(\"The model does not have any trainable weights.\")\n"
     ]
    },
    {
     "name": "stdout",
     "output_type": "stream",
     "text": [
      "8934/8934 - 2s - 261us/step - loss: 2.6832 - rmse: 3.9880\n",
      "11:30:38 - Predicting\n",
      "1054/1054 - 0s - 331us/step\n",
      "11:30:38 - Calculating scores\n",
      "11:30:38 - R^2: 0.7497131334593787, RMSE: 1.6397465650534253, MAE: 1.2022148439783638, MSE: 2.6887687976045074\n",
      "11:30:38 - Split 2 - Model: dnn\n",
      "11:30:38 - Fitting the model\n"
     ]
    },
    {
     "name": "stderr",
     "output_type": "stream",
     "text": [
      "/Users/ralf/Projects/learning-projects/datascience-bootcamp/sep24_bds_int_medical/.venv/lib/python3.12/site-packages/keras/src/saving/saving_lib.py:719: UserWarning: Skipping variable loading for optimizer 'adam', because it has 2 variables whereas the saved optimizer has 22 variables. \n",
      "  saveable.load_own_variables(weights_store.get(inner_path))\n",
      "/Users/ralf/Projects/learning-projects/datascience-bootcamp/sep24_bds_int_medical/.venv/lib/python3.12/site-packages/keras/src/backend/tensorflow/trainer.py:75: UserWarning: The model does not have any trainable weights.\n",
      "  warnings.warn(\"The model does not have any trainable weights.\")\n"
     ]
    },
    {
     "name": "stdout",
     "output_type": "stream",
     "text": [
      "8934/8934 - 2s - 264us/step - loss: 2.6956 - rmse: 3.9880\n",
      "11:30:41 - Predicting\n",
      "1054/1054 - 0s - 310us/step\n",
      "11:30:41 - Calculating scores\n",
      "11:30:41 - R^2: 0.7602985387436147, RMSE: 1.6072776529467665, MAE: 1.2050102010484027, MSE: 2.583341453662066\n",
      "11:30:41 - Split 3 - Model: dnn\n",
      "11:30:41 - Fitting the model\n"
     ]
    },
    {
     "name": "stderr",
     "output_type": "stream",
     "text": [
      "/Users/ralf/Projects/learning-projects/datascience-bootcamp/sep24_bds_int_medical/.venv/lib/python3.12/site-packages/keras/src/saving/saving_lib.py:719: UserWarning: Skipping variable loading for optimizer 'adam', because it has 2 variables whereas the saved optimizer has 22 variables. \n",
      "  saveable.load_own_variables(weights_store.get(inner_path))\n",
      "/Users/ralf/Projects/learning-projects/datascience-bootcamp/sep24_bds_int_medical/.venv/lib/python3.12/site-packages/keras/src/backend/tensorflow/trainer.py:75: UserWarning: The model does not have any trainable weights.\n",
      "  warnings.warn(\"The model does not have any trainable weights.\")\n"
     ]
    },
    {
     "name": "stdout",
     "output_type": "stream",
     "text": [
      "8934/8934 - 2s - 268us/step - loss: 2.6705 - rmse: 3.9928\n",
      "11:30:44 - Predicting\n",
      "1054/1054 - 0s - 310us/step\n",
      "11:30:44 - Calculating scores\n",
      "11:30:44 - R^2: 0.735253421047094, RMSE: 1.6720714023085907, MAE: 1.2087362299794735, MSE: 2.795822774418217\n",
      "11:30:44 - Split 4 - Model: dnn\n",
      "11:30:44 - Fitting the model\n"
     ]
    },
    {
     "name": "stderr",
     "output_type": "stream",
     "text": [
      "/Users/ralf/Projects/learning-projects/datascience-bootcamp/sep24_bds_int_medical/.venv/lib/python3.12/site-packages/keras/src/saving/saving_lib.py:719: UserWarning: Skipping variable loading for optimizer 'adam', because it has 2 variables whereas the saved optimizer has 22 variables. \n",
      "  saveable.load_own_variables(weights_store.get(inner_path))\n",
      "/Users/ralf/Projects/learning-projects/datascience-bootcamp/sep24_bds_int_medical/.venv/lib/python3.12/site-packages/keras/src/backend/tensorflow/trainer.py:75: UserWarning: The model does not have any trainable weights.\n",
      "  warnings.warn(\"The model does not have any trainable weights.\")\n"
     ]
    },
    {
     "name": "stdout",
     "output_type": "stream",
     "text": [
      "8934/8934 - 2s - 259us/step - loss: 2.6926 - rmse: 3.9849\n",
      "11:30:47 - Predicting\n",
      "1054/1054 - 0s - 318us/step\n",
      "11:30:47 - Calculating scores\n",
      "11:30:47 - R^2: 0.7586479749975399, RMSE: 1.6151057210577273, MAE: 1.2065136133517878, MSE: 2.6085664901934016\n",
      "11:30:47 - Split 5 - Model: dnn\n",
      "11:30:47 - Fitting the model\n"
     ]
    },
    {
     "name": "stderr",
     "output_type": "stream",
     "text": [
      "/Users/ralf/Projects/learning-projects/datascience-bootcamp/sep24_bds_int_medical/.venv/lib/python3.12/site-packages/keras/src/saving/saving_lib.py:719: UserWarning: Skipping variable loading for optimizer 'adam', because it has 2 variables whereas the saved optimizer has 22 variables. \n",
      "  saveable.load_own_variables(weights_store.get(inner_path))\n",
      "/Users/ralf/Projects/learning-projects/datascience-bootcamp/sep24_bds_int_medical/.venv/lib/python3.12/site-packages/keras/src/backend/tensorflow/trainer.py:75: UserWarning: The model does not have any trainable weights.\n",
      "  warnings.warn(\"The model does not have any trainable weights.\")\n"
     ]
    },
    {
     "name": "stdout",
     "output_type": "stream",
     "text": [
      "8934/8934 - 2s - 264us/step - loss: 2.6693 - rmse: 3.9906\n",
      "11:30:50 - Predicting\n",
      "1054/1054 - 0s - 313us/step\n",
      "11:30:50 - Calculating scores\n",
      "11:30:50 - R^2: 0.733703364293379, RMSE: 1.6750346526407907, MAE: 1.208699423887105, MSE: 2.8057410875474544\n",
      "11:30:50 - Training finished\n",
      "11:30:50 - Calculate performance for hgb\n",
      "11:30:50 - Selected splitter: ShuffleSplit(n_splits=5, random_state=42, test_size=0.2, train_size=None)\n",
      "11:30:50 - Split 1 - Model: hgb\n",
      "11:30:51 - Fitting the model\n",
      "11:30:58 - Predicting\n",
      "11:30:58 - Calculating scores\n",
      "11:30:58 - R^2: 0.617191876220058, RMSE: 2.02790810983657, MAE: 1.507343466406819, MSE: 4.11241130194093\n",
      "11:30:58 - Split 2 - Model: hgb\n",
      "11:30:58 - Fitting the model\n",
      "11:31:06 - Predicting\n",
      "11:31:06 - Calculating scores\n",
      "11:31:06 - R^2: 0.6132856402146292, RMSE: 2.041506256164435, MAE: 1.5221126463072676, MSE: 4.167747793958529\n",
      "11:31:06 - Split 3 - Model: hgb\n",
      "11:31:06 - Fitting the model\n",
      "11:31:14 - Predicting\n",
      "11:31:14 - Calculating scores\n",
      "11:31:14 - R^2: 0.6152996986600499, RMSE: 2.0155840080776875, MAE: 1.5055615639741513, MSE: 4.062578893618515\n",
      "11:31:14 - Split 4 - Model: hgb\n",
      "11:31:14 - Fitting the model\n",
      "11:31:22 - Predicting\n",
      "11:31:22 - Calculating scores\n",
      "11:31:22 - R^2: 0.6146242064052709, RMSE: 2.0408810727791877, MAE: 1.5206717748299876, MSE: 4.165195553228328\n",
      "11:31:22 - Split 5 - Model: hgb\n",
      "11:31:22 - Fitting the model\n",
      "11:31:30 - Predicting\n",
      "11:31:31 - Calculating scores\n",
      "11:31:31 - R^2: 0.6073733812195121, RMSE: 2.033905759550064, MAE: 1.5175343177542966, MSE: 4.136772638730922\n",
      "11:31:31 - Training finished\n",
      "11:31:31 - Calculate performance for lasso_lars_ic\n",
      "11:31:31 - Selected splitter: ShuffleSplit(n_splits=5, random_state=42, test_size=0.2, train_size=None)\n",
      "11:31:31 - Split 1 - Model: lasso_lars_ic\n",
      "11:31:31 - Fitting the model\n",
      "11:31:32 - Predicting\n",
      "11:31:32 - Calculating scores\n",
      "11:31:32 - R^2: 0.5503576772484813, RMSE: 2.197815796649851, MAE: 1.6471604371529227, MSE: 4.830394276003619\n",
      "11:31:32 - Split 2 - Model: lasso_lars_ic\n",
      "11:31:32 - Fitting the model\n",
      "11:31:33 - Predicting\n",
      "11:31:33 - Calculating scores\n",
      "11:31:33 - R^2: 0.5480858683989513, RMSE: 2.2069044316162327, MAE: 1.6619288099511695, MSE: 4.870427170287367\n",
      "11:31:33 - Split 3 - Model: lasso_lars_ic\n",
      "11:31:33 - Fitting the model\n",
      "11:31:34 - Predicting\n",
      "11:31:34 - Calculating scores\n",
      "11:31:34 - R^2: 0.550272570880973, RMSE: 2.1792865013523994, MAE: 1.6389369758547945, MSE: 4.749289654976781\n",
      "11:31:34 - Split 4 - Model: lasso_lars_ic\n",
      "11:31:34 - Fitting the model\n",
      "11:31:35 - Predicting\n",
      "11:31:35 - Calculating scores\n",
      "11:31:35 - R^2: 0.5494760736135993, RMSE: 2.2066548658869993, MAE: 1.6611286513872114, MSE: 4.86932569714277\n",
      "11:31:35 - Split 5 - Model: lasso_lars_ic\n",
      "11:31:35 - Fitting the model\n",
      "11:31:36 - Predicting\n",
      "11:31:36 - Calculating scores\n",
      "11:31:36 - R^2: 0.5405373298880563, RMSE: 2.200219818125307, MAE: 1.6550581014822132, MSE: 4.840967248071359\n",
      "11:31:36 - Training finished\n",
      "11:31:36 - Calculate performance for knn\n",
      "11:31:36 - Selected splitter: ShuffleSplit(n_splits=5, random_state=42, test_size=0.2, train_size=None)\n",
      "11:31:36 - Split 1 - Model: knn\n",
      "11:31:36 - Fitting the model\n",
      "11:31:36 - Predicting\n",
      "11:31:46 - Calculating scores\n",
      "11:31:46 - R^2: 0.5861675872638137, RMSE: 2.1084822569428217, MAE: 1.4492767068034877, MSE: 4.445697427842695\n",
      "11:31:46 - Split 2 - Model: knn\n",
      "11:31:46 - Fitting the model\n",
      "11:31:46 - Predicting\n",
      "11:31:55 - Calculating scores\n",
      "11:31:55 - R^2: 0.5807738562489106, RMSE: 2.125591206824066, MAE: 1.4628966130849992, MSE: 4.518137978527789\n",
      "11:31:55 - Split 3 - Model: knn\n",
      "11:31:55 - Fitting the model\n",
      "11:31:55 - Predicting\n",
      "11:32:04 - Calculating scores\n",
      "11:32:04 - R^2: 0.5829654984857177, RMSE: 2.098580502735276, MAE: 1.4412031555845541, MSE: 4.404040126460645\n",
      "11:32:04 - Split 4 - Model: knn\n",
      "11:32:04 - Fitting the model\n",
      "11:32:04 - Predicting\n",
      "11:32:13 - Calculating scores\n",
      "11:32:13 - R^2: 0.585291028293391, RMSE: 2.1171283973087287, MAE: 1.4563268877157602, MSE: 4.482232650691026\n",
      "11:32:13 - Split 5 - Model: knn\n",
      "11:32:13 - Fitting the model\n",
      "11:32:13 - Predicting\n",
      "11:32:23 - Calculating scores\n",
      "11:32:23 - R^2: 0.58483230512719, RMSE: 2.0914752639611955, MAE: 1.4414328845127231, MSE: 4.374268779761552\n",
      "11:32:23 - Training finished\n",
      "11:32:23 - Calculate performance for xgb\n",
      "11:32:23 - Selected splitter: ShuffleSplit(n_splits=5, random_state=42, test_size=0.2, train_size=None)\n",
      "11:32:23 - Split 1 - Model: xgb\n",
      "11:32:23 - Fitting the model\n",
      "11:32:28 - Predicting\n",
      "11:32:28 - Calculating scores\n",
      "11:32:28 - R^2: 0.6425520086531167, RMSE: 1.9595851049694402, MAE: 1.456686917977356, MSE: 3.8399737836180914\n",
      "11:32:28 - Split 2 - Model: xgb\n",
      "11:32:28 - Fitting the model\n",
      "11:32:33 - Predicting\n",
      "11:32:33 - Calculating scores\n",
      "11:32:33 - R^2: 0.637755378589864, RMSE: 1.9758616800447983, MAE: 1.4715929169617794, MSE: 3.904029378669453\n",
      "11:32:33 - Split 3 - Model: xgb\n",
      "11:32:33 - Fitting the model\n",
      "11:32:38 - Predicting\n",
      "11:32:38 - Calculating scores\n",
      "11:32:38 - R^2: 0.6391255913665361, RMSE: 1.9521702195409691, MAE: 1.4554794873144217, MSE: 3.8109685660626353\n",
      "11:32:38 - Split 4 - Model: xgb\n",
      "11:32:38 - Fitting the model\n",
      "11:32:42 - Predicting\n",
      "11:32:42 - Calculating scores\n",
      "11:32:42 - R^2: 0.6374674454182309, RMSE: 1.9794702893787177, MAE: 1.4746803126088226, MSE: 3.9183026265330643\n",
      "11:32:42 - Split 5 - Model: xgb\n",
      "11:32:43 - Fitting the model\n",
      "11:32:47 - Predicting\n",
      "11:32:47 - Calculating scores\n",
      "11:32:47 - R^2: 0.6332793903855662, RMSE: 1.9656609729957428, MAE: 1.4643834018415953, MSE: 3.8638230607585706\n",
      "11:32:47 - Training finished\n",
      "11:32:47 - Calculate performance for final_estimator\n",
      "11:32:47 - Selected splitter: ShuffleSplit(n_splits=5, random_state=42, test_size=0.2, train_size=None)\n",
      "11:32:47 - Split 1 - Model: final_estimator\n",
      "11:32:47 - Fitting the model\n",
      "11:32:48 - Predicting\n",
      "11:32:48 - Calculating scores\n",
      "11:32:48 - R^2: 0.550473788739431, RMSE: 2.197532006476215, MAE: 1.6465811248386755, MSE: 4.829146919487378\n",
      "11:32:48 - Split 2 - Model: final_estimator\n",
      "11:32:48 - Fitting the model\n",
      "11:32:48 - Predicting\n",
      "11:32:48 - Calculating scores\n",
      "11:32:48 - R^2: 0.5482085682464537, RMSE: 2.20660481139947, MAE: 1.6617115145586885, MSE: 4.86910479369129\n",
      "11:32:48 - Split 3 - Model: final_estimator\n",
      "11:32:48 - Fitting the model\n",
      "11:32:48 - Predicting\n",
      "11:32:48 - Calculating scores\n",
      "11:32:48 - R^2: 0.550620721907582, RMSE: 2.1784428039491734, MAE: 1.6382008202753364, MSE: 4.745613050077937\n",
      "11:32:48 - Split 4 - Model: final_estimator\n",
      "11:32:48 - Fitting the model\n",
      "11:32:48 - Predicting\n",
      "11:32:48 - Calculating scores\n",
      "11:32:48 - R^2: 0.5496595325955267, RMSE: 2.206205531397898, MAE: 1.6608642027911178, MSE: 4.867342846770682\n",
      "11:32:48 - Split 5 - Model: final_estimator\n",
      "11:32:48 - Fitting the model\n",
      "11:32:49 - Predicting\n",
      "11:32:49 - Calculating scores\n",
      "11:32:49 - R^2: 0.5406535457617223, RMSE: 2.199941540197377, MAE: 1.654461379704588, MSE: 4.839742780286007\n",
      "11:32:49 - Training finished\n",
      "11:32:49 - Calculate performance for stacking_regressor\n",
      "11:32:49 - Selected splitter: ShuffleSplit(n_splits=5, random_state=42, test_size=0.2, train_size=None)\n",
      "11:32:49 - Split 1 - Model: stacking_regressor\n",
      "11:32:49 - Fitting the model\n"
     ]
    },
    {
     "name": "stderr",
     "output_type": "stream",
     "text": [
      "/Users/ralf/Projects/learning-projects/datascience-bootcamp/sep24_bds_int_medical/.venv/lib/python3.12/site-packages/keras/src/saving/saving_lib.py:719: UserWarning: Skipping variable loading for optimizer 'adam', because it has 2 variables whereas the saved optimizer has 22 variables. \n",
      "  saveable.load_own_variables(weights_store.get(inner_path))\n",
      "/Users/ralf/Projects/learning-projects/datascience-bootcamp/sep24_bds_int_medical/.venv/lib/python3.12/site-packages/keras/src/backend/tensorflow/trainer.py:75: UserWarning: The model does not have any trainable weights.\n",
      "  warnings.warn(\"The model does not have any trainable weights.\")\n"
     ]
    },
    {
     "name": "stdout",
     "output_type": "stream",
     "text": [
      "8934/8934 - 3s - 354us/step - loss: 2.6831 - rmse: 3.9867\n"
     ]
    },
    {
     "name": "stderr",
     "output_type": "stream",
     "text": [
      "/Users/ralf/Projects/learning-projects/datascience-bootcamp/sep24_bds_int_medical/.venv/lib/python3.12/site-packages/keras/src/saving/saving_lib.py:719: UserWarning: Skipping variable loading for optimizer 'adam', because it has 2 variables whereas the saved optimizer has 22 variables. \n",
      "  saveable.load_own_variables(weights_store.get(inner_path))\n",
      "/Users/ralf/Projects/learning-projects/datascience-bootcamp/sep24_bds_int_medical/.venv/lib/python3.12/site-packages/keras/src/backend/tensorflow/trainer.py:75: UserWarning: The model does not have any trainable weights.\n",
      "  warnings.warn(\"The model does not have any trainable weights.\")\n"
     ]
    },
    {
     "name": "stdout",
     "output_type": "stream",
     "text": [
      "7147/7147 - 2s - 262us/step - loss: 2.6091 - rmse: 4.0470\n",
      "1787/1787 - 1s - 290us/step\n"
     ]
    },
    {
     "name": "stderr",
     "output_type": "stream",
     "text": [
      "/Users/ralf/Projects/learning-projects/datascience-bootcamp/sep24_bds_int_medical/.venv/lib/python3.12/site-packages/keras/src/saving/saving_lib.py:719: UserWarning: Skipping variable loading for optimizer 'adam', because it has 2 variables whereas the saved optimizer has 22 variables. \n",
      "  saveable.load_own_variables(weights_store.get(inner_path))\n",
      "/Users/ralf/Projects/learning-projects/datascience-bootcamp/sep24_bds_int_medical/.venv/lib/python3.12/site-packages/keras/src/backend/tensorflow/trainer.py:75: UserWarning: The model does not have any trainable weights.\n",
      "  warnings.warn(\"The model does not have any trainable weights.\")\n"
     ]
    },
    {
     "name": "stdout",
     "output_type": "stream",
     "text": [
      "7147/7147 - 2s - 260us/step - loss: 2.7956 - rmse: 4.0199\n",
      "1787/1787 - 1s - 293us/step\n"
     ]
    },
    {
     "name": "stderr",
     "output_type": "stream",
     "text": [
      "/Users/ralf/Projects/learning-projects/datascience-bootcamp/sep24_bds_int_medical/.venv/lib/python3.12/site-packages/keras/src/saving/saving_lib.py:719: UserWarning: Skipping variable loading for optimizer 'adam', because it has 2 variables whereas the saved optimizer has 22 variables. \n",
      "  saveable.load_own_variables(weights_store.get(inner_path))\n",
      "/Users/ralf/Projects/learning-projects/datascience-bootcamp/sep24_bds_int_medical/.venv/lib/python3.12/site-packages/keras/src/backend/tensorflow/trainer.py:75: UserWarning: The model does not have any trainable weights.\n",
      "  warnings.warn(\"The model does not have any trainable weights.\")\n"
     ]
    },
    {
     "name": "stdout",
     "output_type": "stream",
     "text": [
      "7147/7147 - 2s - 271us/step - loss: 2.7933 - rmse: 4.0060\n",
      "1787/1787 - 1s - 302us/step\n"
     ]
    },
    {
     "name": "stderr",
     "output_type": "stream",
     "text": [
      "/Users/ralf/Projects/learning-projects/datascience-bootcamp/sep24_bds_int_medical/.venv/lib/python3.12/site-packages/keras/src/saving/saving_lib.py:719: UserWarning: Skipping variable loading for optimizer 'adam', because it has 2 variables whereas the saved optimizer has 22 variables. \n",
      "  saveable.load_own_variables(weights_store.get(inner_path))\n",
      "/Users/ralf/Projects/learning-projects/datascience-bootcamp/sep24_bds_int_medical/.venv/lib/python3.12/site-packages/keras/src/backend/tensorflow/trainer.py:75: UserWarning: The model does not have any trainable weights.\n",
      "  warnings.warn(\"The model does not have any trainable weights.\")\n"
     ]
    },
    {
     "name": "stdout",
     "output_type": "stream",
     "text": [
      "7147/7147 - 2s - 266us/step - loss: 2.5669 - rmse: 3.9211\n",
      "1787/1787 - 1s - 416us/step\n"
     ]
    },
    {
     "name": "stderr",
     "output_type": "stream",
     "text": [
      "/Users/ralf/Projects/learning-projects/datascience-bootcamp/sep24_bds_int_medical/.venv/lib/python3.12/site-packages/keras/src/saving/saving_lib.py:719: UserWarning: Skipping variable loading for optimizer 'adam', because it has 2 variables whereas the saved optimizer has 22 variables. \n",
      "  saveable.load_own_variables(weights_store.get(inner_path))\n",
      "/Users/ralf/Projects/learning-projects/datascience-bootcamp/sep24_bds_int_medical/.venv/lib/python3.12/site-packages/keras/src/backend/tensorflow/trainer.py:75: UserWarning: The model does not have any trainable weights.\n",
      "  warnings.warn(\"The model does not have any trainable weights.\")\n"
     ]
    },
    {
     "name": "stdout",
     "output_type": "stream",
     "text": [
      "7147/7147 - 2s - 278us/step - loss: 2.6507 - rmse: 3.9287\n",
      "1787/1787 - 1s - 295us/step\n",
      "11:35:30 - Predicting\n",
      "1054/1054 - 0s - 326us/step\n",
      "11:35:39 - Calculating scores\n",
      "11:35:39 - R^2: 0.7592795850814751, RMSE: 1.60810410613852, MAE: 1.1836564433869878, MSE: 2.5859988161795684\n",
      "11:35:39 - Split 2 - Model: stacking_regressor\n",
      "11:35:39 - Fitting the model\n"
     ]
    },
    {
     "name": "stderr",
     "output_type": "stream",
     "text": [
      "/Users/ralf/Projects/learning-projects/datascience-bootcamp/sep24_bds_int_medical/.venv/lib/python3.12/site-packages/keras/src/saving/saving_lib.py:719: UserWarning: Skipping variable loading for optimizer 'adam', because it has 2 variables whereas the saved optimizer has 22 variables. \n",
      "  saveable.load_own_variables(weights_store.get(inner_path))\n",
      "/Users/ralf/Projects/learning-projects/datascience-bootcamp/sep24_bds_int_medical/.venv/lib/python3.12/site-packages/keras/src/backend/tensorflow/trainer.py:75: UserWarning: The model does not have any trainable weights.\n",
      "  warnings.warn(\"The model does not have any trainable weights.\")\n"
     ]
    },
    {
     "name": "stdout",
     "output_type": "stream",
     "text": [
      "8934/8934 - 2s - 264us/step - loss: 2.6956 - rmse: 3.9841\n"
     ]
    },
    {
     "name": "stderr",
     "output_type": "stream",
     "text": [
      "/Users/ralf/Projects/learning-projects/datascience-bootcamp/sep24_bds_int_medical/.venv/lib/python3.12/site-packages/keras/src/saving/saving_lib.py:719: UserWarning: Skipping variable loading for optimizer 'adam', because it has 2 variables whereas the saved optimizer has 22 variables. \n",
      "  saveable.load_own_variables(weights_store.get(inner_path))\n",
      "/Users/ralf/Projects/learning-projects/datascience-bootcamp/sep24_bds_int_medical/.venv/lib/python3.12/site-packages/keras/src/backend/tensorflow/trainer.py:75: UserWarning: The model does not have any trainable weights.\n",
      "  warnings.warn(\"The model does not have any trainable weights.\")\n"
     ]
    },
    {
     "name": "stdout",
     "output_type": "stream",
     "text": [
      "7147/7147 - 2s - 259us/step - loss: 2.6247 - rmse: 4.0439\n",
      "1787/1787 - 1s - 292us/step\n"
     ]
    },
    {
     "name": "stderr",
     "output_type": "stream",
     "text": [
      "/Users/ralf/Projects/learning-projects/datascience-bootcamp/sep24_bds_int_medical/.venv/lib/python3.12/site-packages/keras/src/saving/saving_lib.py:719: UserWarning: Skipping variable loading for optimizer 'adam', because it has 2 variables whereas the saved optimizer has 22 variables. \n",
      "  saveable.load_own_variables(weights_store.get(inner_path))\n",
      "/Users/ralf/Projects/learning-projects/datascience-bootcamp/sep24_bds_int_medical/.venv/lib/python3.12/site-packages/keras/src/backend/tensorflow/trainer.py:75: UserWarning: The model does not have any trainable weights.\n",
      "  warnings.warn(\"The model does not have any trainable weights.\")\n"
     ]
    },
    {
     "name": "stdout",
     "output_type": "stream",
     "text": [
      "7147/7147 - 2s - 256us/step - loss: 2.8112 - rmse: 4.0205\n",
      "1787/1787 - 1s - 290us/step\n"
     ]
    },
    {
     "name": "stderr",
     "output_type": "stream",
     "text": [
      "/Users/ralf/Projects/learning-projects/datascience-bootcamp/sep24_bds_int_medical/.venv/lib/python3.12/site-packages/keras/src/saving/saving_lib.py:719: UserWarning: Skipping variable loading for optimizer 'adam', because it has 2 variables whereas the saved optimizer has 22 variables. \n",
      "  saveable.load_own_variables(weights_store.get(inner_path))\n",
      "/Users/ralf/Projects/learning-projects/datascience-bootcamp/sep24_bds_int_medical/.venv/lib/python3.12/site-packages/keras/src/backend/tensorflow/trainer.py:75: UserWarning: The model does not have any trainable weights.\n",
      "  warnings.warn(\"The model does not have any trainable weights.\")\n"
     ]
    },
    {
     "name": "stdout",
     "output_type": "stream",
     "text": [
      "7147/7147 - 2s - 259us/step - loss: 2.7924 - rmse: 3.9977\n",
      "1787/1787 - 1s - 292us/step\n"
     ]
    },
    {
     "name": "stderr",
     "output_type": "stream",
     "text": [
      "/Users/ralf/Projects/learning-projects/datascience-bootcamp/sep24_bds_int_medical/.venv/lib/python3.12/site-packages/keras/src/saving/saving_lib.py:719: UserWarning: Skipping variable loading for optimizer 'adam', because it has 2 variables whereas the saved optimizer has 22 variables. \n",
      "  saveable.load_own_variables(weights_store.get(inner_path))\n",
      "/Users/ralf/Projects/learning-projects/datascience-bootcamp/sep24_bds_int_medical/.venv/lib/python3.12/site-packages/keras/src/backend/tensorflow/trainer.py:75: UserWarning: The model does not have any trainable weights.\n",
      "  warnings.warn(\"The model does not have any trainable weights.\")\n"
     ]
    },
    {
     "name": "stdout",
     "output_type": "stream",
     "text": [
      "7147/7147 - 2s - 256us/step - loss: 2.6059 - rmse: 3.9260\n",
      "1787/1787 - 1s - 291us/step\n"
     ]
    },
    {
     "name": "stderr",
     "output_type": "stream",
     "text": [
      "/Users/ralf/Projects/learning-projects/datascience-bootcamp/sep24_bds_int_medical/.venv/lib/python3.12/site-packages/keras/src/saving/saving_lib.py:719: UserWarning: Skipping variable loading for optimizer 'adam', because it has 2 variables whereas the saved optimizer has 22 variables. \n",
      "  saveable.load_own_variables(weights_store.get(inner_path))\n",
      "/Users/ralf/Projects/learning-projects/datascience-bootcamp/sep24_bds_int_medical/.venv/lib/python3.12/site-packages/keras/src/backend/tensorflow/trainer.py:75: UserWarning: The model does not have any trainable weights.\n",
      "  warnings.warn(\"The model does not have any trainable weights.\")\n"
     ]
    },
    {
     "name": "stdout",
     "output_type": "stream",
     "text": [
      "7147/7147 - 2s - 259us/step - loss: 2.6438 - rmse: 3.9333\n",
      "1787/1787 - 1s - 293us/step\n",
      "11:38:13 - Predicting\n",
      "1054/1054 - 0s - 319us/step\n",
      "11:38:23 - Calculating scores\n",
      "11:38:23 - R^2: 0.7671680236922251, RMSE: 1.5840791507741896, MAE: 1.1870475549066877, MSE: 2.5093067559174775\n",
      "11:38:23 - Split 3 - Model: stacking_regressor\n",
      "11:38:23 - Fitting the model\n"
     ]
    },
    {
     "name": "stderr",
     "output_type": "stream",
     "text": [
      "/Users/ralf/Projects/learning-projects/datascience-bootcamp/sep24_bds_int_medical/.venv/lib/python3.12/site-packages/keras/src/saving/saving_lib.py:719: UserWarning: Skipping variable loading for optimizer 'adam', because it has 2 variables whereas the saved optimizer has 22 variables. \n",
      "  saveable.load_own_variables(weights_store.get(inner_path))\n",
      "/Users/ralf/Projects/learning-projects/datascience-bootcamp/sep24_bds_int_medical/.venv/lib/python3.12/site-packages/keras/src/backend/tensorflow/trainer.py:75: UserWarning: The model does not have any trainable weights.\n",
      "  warnings.warn(\"The model does not have any trainable weights.\")\n"
     ]
    },
    {
     "name": "stdout",
     "output_type": "stream",
     "text": [
      "8934/8934 - 2s - 256us/step - loss: 2.6705 - rmse: 3.9919\n"
     ]
    },
    {
     "name": "stderr",
     "output_type": "stream",
     "text": [
      "/Users/ralf/Projects/learning-projects/datascience-bootcamp/sep24_bds_int_medical/.venv/lib/python3.12/site-packages/keras/src/saving/saving_lib.py:719: UserWarning: Skipping variable loading for optimizer 'adam', because it has 2 variables whereas the saved optimizer has 22 variables. \n",
      "  saveable.load_own_variables(weights_store.get(inner_path))\n",
      "/Users/ralf/Projects/learning-projects/datascience-bootcamp/sep24_bds_int_medical/.venv/lib/python3.12/site-packages/keras/src/backend/tensorflow/trainer.py:75: UserWarning: The model does not have any trainable weights.\n",
      "  warnings.warn(\"The model does not have any trainable weights.\")\n"
     ]
    },
    {
     "name": "stdout",
     "output_type": "stream",
     "text": [
      "7147/7147 - 2s - 268us/step - loss: 2.5934 - rmse: 4.0509\n",
      "1787/1787 - 1s - 306us/step\n"
     ]
    },
    {
     "name": "stderr",
     "output_type": "stream",
     "text": [
      "/Users/ralf/Projects/learning-projects/datascience-bootcamp/sep24_bds_int_medical/.venv/lib/python3.12/site-packages/keras/src/saving/saving_lib.py:719: UserWarning: Skipping variable loading for optimizer 'adam', because it has 2 variables whereas the saved optimizer has 22 variables. \n",
      "  saveable.load_own_variables(weights_store.get(inner_path))\n",
      "/Users/ralf/Projects/learning-projects/datascience-bootcamp/sep24_bds_int_medical/.venv/lib/python3.12/site-packages/keras/src/backend/tensorflow/trainer.py:75: UserWarning: The model does not have any trainable weights.\n",
      "  warnings.warn(\"The model does not have any trainable weights.\")\n"
     ]
    },
    {
     "name": "stdout",
     "output_type": "stream",
     "text": [
      "7147/7147 - 2s - 267us/step - loss: 2.7799 - rmse: 4.0265\n",
      "1787/1787 - 1s - 298us/step\n"
     ]
    },
    {
     "name": "stderr",
     "output_type": "stream",
     "text": [
      "/Users/ralf/Projects/learning-projects/datascience-bootcamp/sep24_bds_int_medical/.venv/lib/python3.12/site-packages/keras/src/saving/saving_lib.py:719: UserWarning: Skipping variable loading for optimizer 'adam', because it has 2 variables whereas the saved optimizer has 22 variables. \n",
      "  saveable.load_own_variables(weights_store.get(inner_path))\n",
      "/Users/ralf/Projects/learning-projects/datascience-bootcamp/sep24_bds_int_medical/.venv/lib/python3.12/site-packages/keras/src/backend/tensorflow/trainer.py:75: UserWarning: The model does not have any trainable weights.\n",
      "  warnings.warn(\"The model does not have any trainable weights.\")\n"
     ]
    },
    {
     "name": "stdout",
     "output_type": "stream",
     "text": [
      "7147/7147 - 2s - 273us/step - loss: 2.7174 - rmse: 4.0068\n",
      "1787/1787 - 1s - 310us/step\n"
     ]
    },
    {
     "name": "stderr",
     "output_type": "stream",
     "text": [
      "/Users/ralf/Projects/learning-projects/datascience-bootcamp/sep24_bds_int_medical/.venv/lib/python3.12/site-packages/keras/src/saving/saving_lib.py:719: UserWarning: Skipping variable loading for optimizer 'adam', because it has 2 variables whereas the saved optimizer has 22 variables. \n",
      "  saveable.load_own_variables(weights_store.get(inner_path))\n",
      "/Users/ralf/Projects/learning-projects/datascience-bootcamp/sep24_bds_int_medical/.venv/lib/python3.12/site-packages/keras/src/backend/tensorflow/trainer.py:75: UserWarning: The model does not have any trainable weights.\n",
      "  warnings.warn(\"The model does not have any trainable weights.\")\n"
     ]
    },
    {
     "name": "stdout",
     "output_type": "stream",
     "text": [
      "7147/7147 - 2s - 348us/step - loss: 2.5576 - rmse: 3.9207\n",
      "1787/1787 - 2s - 887us/step\n"
     ]
    },
    {
     "name": "stderr",
     "output_type": "stream",
     "text": [
      "/Users/ralf/Projects/learning-projects/datascience-bootcamp/sep24_bds_int_medical/.venv/lib/python3.12/site-packages/keras/src/saving/saving_lib.py:719: UserWarning: Skipping variable loading for optimizer 'adam', because it has 2 variables whereas the saved optimizer has 22 variables. \n",
      "  saveable.load_own_variables(weights_store.get(inner_path))\n",
      "/Users/ralf/Projects/learning-projects/datascience-bootcamp/sep24_bds_int_medical/.venv/lib/python3.12/site-packages/keras/src/backend/tensorflow/trainer.py:75: UserWarning: The model does not have any trainable weights.\n",
      "  warnings.warn(\"The model does not have any trainable weights.\")\n"
     ]
    },
    {
     "name": "stdout",
     "output_type": "stream",
     "text": [
      "7147/7147 - 2s - 260us/step - loss: 2.7045 - rmse: 3.9390\n",
      "1787/1787 - 1s - 292us/step\n",
      "11:40:56 - Predicting\n",
      "1054/1054 - 0s - 316us/step\n",
      "11:41:06 - Calculating scores\n",
      "11:41:06 - R^2: 0.7479618219093631, RMSE: 1.6314463870655196, MAE: 1.1876555148380923, MSE: 2.661617313869137\n",
      "11:41:06 - Split 4 - Model: stacking_regressor\n",
      "11:41:06 - Fitting the model\n"
     ]
    },
    {
     "name": "stderr",
     "output_type": "stream",
     "text": [
      "/Users/ralf/Projects/learning-projects/datascience-bootcamp/sep24_bds_int_medical/.venv/lib/python3.12/site-packages/keras/src/saving/saving_lib.py:719: UserWarning: Skipping variable loading for optimizer 'adam', because it has 2 variables whereas the saved optimizer has 22 variables. \n",
      "  saveable.load_own_variables(weights_store.get(inner_path))\n",
      "/Users/ralf/Projects/learning-projects/datascience-bootcamp/sep24_bds_int_medical/.venv/lib/python3.12/site-packages/keras/src/backend/tensorflow/trainer.py:75: UserWarning: The model does not have any trainable weights.\n",
      "  warnings.warn(\"The model does not have any trainable weights.\")\n"
     ]
    },
    {
     "name": "stdout",
     "output_type": "stream",
     "text": [
      "8934/8934 - 3s - 328us/step - loss: 2.6926 - rmse: 3.9852\n"
     ]
    },
    {
     "name": "stderr",
     "output_type": "stream",
     "text": [
      "/Users/ralf/Projects/learning-projects/datascience-bootcamp/sep24_bds_int_medical/.venv/lib/python3.12/site-packages/keras/src/saving/saving_lib.py:719: UserWarning: Skipping variable loading for optimizer 'adam', because it has 2 variables whereas the saved optimizer has 22 variables. \n",
      "  saveable.load_own_variables(weights_store.get(inner_path))\n",
      "/Users/ralf/Projects/learning-projects/datascience-bootcamp/sep24_bds_int_medical/.venv/lib/python3.12/site-packages/keras/src/backend/tensorflow/trainer.py:75: UserWarning: The model does not have any trainable weights.\n",
      "  warnings.warn(\"The model does not have any trainable weights.\")\n"
     ]
    },
    {
     "name": "stdout",
     "output_type": "stream",
     "text": [
      "7147/7147 - 2s - 330us/step - loss: 2.6210 - rmse: 4.0430\n",
      "1787/1787 - 1s - 350us/step\n"
     ]
    },
    {
     "name": "stderr",
     "output_type": "stream",
     "text": [
      "/Users/ralf/Projects/learning-projects/datascience-bootcamp/sep24_bds_int_medical/.venv/lib/python3.12/site-packages/keras/src/saving/saving_lib.py:719: UserWarning: Skipping variable loading for optimizer 'adam', because it has 2 variables whereas the saved optimizer has 22 variables. \n",
      "  saveable.load_own_variables(weights_store.get(inner_path))\n",
      "/Users/ralf/Projects/learning-projects/datascience-bootcamp/sep24_bds_int_medical/.venv/lib/python3.12/site-packages/keras/src/backend/tensorflow/trainer.py:75: UserWarning: The model does not have any trainable weights.\n",
      "  warnings.warn(\"The model does not have any trainable weights.\")\n"
     ]
    },
    {
     "name": "stdout",
     "output_type": "stream",
     "text": [
      "7147/7147 - 2s - 340us/step - loss: 2.8075 - rmse: 4.0203\n",
      "1787/1787 - 1s - 319us/step\n"
     ]
    },
    {
     "name": "stderr",
     "output_type": "stream",
     "text": [
      "/Users/ralf/Projects/learning-projects/datascience-bootcamp/sep24_bds_int_medical/.venv/lib/python3.12/site-packages/keras/src/saving/saving_lib.py:719: UserWarning: Skipping variable loading for optimizer 'adam', because it has 2 variables whereas the saved optimizer has 22 variables. \n",
      "  saveable.load_own_variables(weights_store.get(inner_path))\n",
      "/Users/ralf/Projects/learning-projects/datascience-bootcamp/sep24_bds_int_medical/.venv/lib/python3.12/site-packages/keras/src/backend/tensorflow/trainer.py:75: UserWarning: The model does not have any trainable weights.\n",
      "  warnings.warn(\"The model does not have any trainable weights.\")\n"
     ]
    },
    {
     "name": "stdout",
     "output_type": "stream",
     "text": [
      "7147/7147 - 2s - 289us/step - loss: 2.8042 - rmse: 4.0050\n",
      "1787/1787 - 1s - 306us/step\n"
     ]
    },
    {
     "name": "stderr",
     "output_type": "stream",
     "text": [
      "/Users/ralf/Projects/learning-projects/datascience-bootcamp/sep24_bds_int_medical/.venv/lib/python3.12/site-packages/keras/src/saving/saving_lib.py:719: UserWarning: Skipping variable loading for optimizer 'adam', because it has 2 variables whereas the saved optimizer has 22 variables. \n",
      "  saveable.load_own_variables(weights_store.get(inner_path))\n",
      "/Users/ralf/Projects/learning-projects/datascience-bootcamp/sep24_bds_int_medical/.venv/lib/python3.12/site-packages/keras/src/backend/tensorflow/trainer.py:75: UserWarning: The model does not have any trainable weights.\n",
      "  warnings.warn(\"The model does not have any trainable weights.\")\n"
     ]
    },
    {
     "name": "stdout",
     "output_type": "stream",
     "text": [
      "7147/7147 - 3s - 387us/step - loss: 2.6150 - rmse: 3.9231\n",
      "1787/1787 - 1s - 456us/step\n"
     ]
    },
    {
     "name": "stderr",
     "output_type": "stream",
     "text": [
      "/Users/ralf/Projects/learning-projects/datascience-bootcamp/sep24_bds_int_medical/.venv/lib/python3.12/site-packages/keras/src/saving/saving_lib.py:719: UserWarning: Skipping variable loading for optimizer 'adam', because it has 2 variables whereas the saved optimizer has 22 variables. \n",
      "  saveable.load_own_variables(weights_store.get(inner_path))\n",
      "/Users/ralf/Projects/learning-projects/datascience-bootcamp/sep24_bds_int_medical/.venv/lib/python3.12/site-packages/keras/src/backend/tensorflow/trainer.py:75: UserWarning: The model does not have any trainable weights.\n",
      "  warnings.warn(\"The model does not have any trainable weights.\")\n"
     ]
    },
    {
     "name": "stdout",
     "output_type": "stream",
     "text": [
      "7147/7147 - 2s - 323us/step - loss: 2.6154 - rmse: 3.9279\n",
      "1787/1787 - 1s - 396us/step\n",
      "11:43:56 - Predicting\n",
      "1054/1054 - 0s - 352us/step\n",
      "11:44:06 - Calculating scores\n",
      "11:44:06 - R^2: 0.7653336649231749, RMSE: 1.5925786062464253, MAE: 1.1894176171771964, MSE: 2.5363066170738064\n",
      "11:44:06 - Split 5 - Model: stacking_regressor\n",
      "11:44:06 - Fitting the model\n"
     ]
    },
    {
     "name": "stderr",
     "output_type": "stream",
     "text": [
      "/Users/ralf/Projects/learning-projects/datascience-bootcamp/sep24_bds_int_medical/.venv/lib/python3.12/site-packages/keras/src/saving/saving_lib.py:719: UserWarning: Skipping variable loading for optimizer 'adam', because it has 2 variables whereas the saved optimizer has 22 variables. \n",
      "  saveable.load_own_variables(weights_store.get(inner_path))\n",
      "/Users/ralf/Projects/learning-projects/datascience-bootcamp/sep24_bds_int_medical/.venv/lib/python3.12/site-packages/keras/src/backend/tensorflow/trainer.py:75: UserWarning: The model does not have any trainable weights.\n",
      "  warnings.warn(\"The model does not have any trainable weights.\")\n"
     ]
    },
    {
     "name": "stdout",
     "output_type": "stream",
     "text": [
      "8934/8934 - 3s - 295us/step - loss: 2.6694 - rmse: 3.9894\n"
     ]
    },
    {
     "name": "stderr",
     "output_type": "stream",
     "text": [
      "/Users/ralf/Projects/learning-projects/datascience-bootcamp/sep24_bds_int_medical/.venv/lib/python3.12/site-packages/keras/src/saving/saving_lib.py:719: UserWarning: Skipping variable loading for optimizer 'adam', because it has 2 variables whereas the saved optimizer has 22 variables. \n",
      "  saveable.load_own_variables(weights_store.get(inner_path))\n",
      "/Users/ralf/Projects/learning-projects/datascience-bootcamp/sep24_bds_int_medical/.venv/lib/python3.12/site-packages/keras/src/backend/tensorflow/trainer.py:75: UserWarning: The model does not have any trainable weights.\n",
      "  warnings.warn(\"The model does not have any trainable weights.\")\n"
     ]
    },
    {
     "name": "stdout",
     "output_type": "stream",
     "text": [
      "7147/7147 - 2s - 294us/step - loss: 2.5919 - rmse: 4.0485\n",
      "1787/1787 - 1s - 320us/step\n"
     ]
    },
    {
     "name": "stderr",
     "output_type": "stream",
     "text": [
      "/Users/ralf/Projects/learning-projects/datascience-bootcamp/sep24_bds_int_medical/.venv/lib/python3.12/site-packages/keras/src/saving/saving_lib.py:719: UserWarning: Skipping variable loading for optimizer 'adam', because it has 2 variables whereas the saved optimizer has 22 variables. \n",
      "  saveable.load_own_variables(weights_store.get(inner_path))\n",
      "/Users/ralf/Projects/learning-projects/datascience-bootcamp/sep24_bds_int_medical/.venv/lib/python3.12/site-packages/keras/src/backend/tensorflow/trainer.py:75: UserWarning: The model does not have any trainable weights.\n",
      "  warnings.warn(\"The model does not have any trainable weights.\")\n"
     ]
    },
    {
     "name": "stdout",
     "output_type": "stream",
     "text": [
      "7147/7147 - 2s - 300us/step - loss: 2.7784 - rmse: 4.0242\n",
      "1787/1787 - 1s - 322us/step\n"
     ]
    },
    {
     "name": "stderr",
     "output_type": "stream",
     "text": [
      "/Users/ralf/Projects/learning-projects/datascience-bootcamp/sep24_bds_int_medical/.venv/lib/python3.12/site-packages/keras/src/saving/saving_lib.py:719: UserWarning: Skipping variable loading for optimizer 'adam', because it has 2 variables whereas the saved optimizer has 22 variables. \n",
      "  saveable.load_own_variables(weights_store.get(inner_path))\n",
      "/Users/ralf/Projects/learning-projects/datascience-bootcamp/sep24_bds_int_medical/.venv/lib/python3.12/site-packages/keras/src/backend/tensorflow/trainer.py:75: UserWarning: The model does not have any trainable weights.\n",
      "  warnings.warn(\"The model does not have any trainable weights.\")\n"
     ]
    },
    {
     "name": "stdout",
     "output_type": "stream",
     "text": [
      "7147/7147 - 2s - 293us/step - loss: 2.7405 - rmse: 4.0140\n",
      "1787/1787 - 1s - 326us/step\n"
     ]
    },
    {
     "name": "stderr",
     "output_type": "stream",
     "text": [
      "/Users/ralf/Projects/learning-projects/datascience-bootcamp/sep24_bds_int_medical/.venv/lib/python3.12/site-packages/keras/src/saving/saving_lib.py:719: UserWarning: Skipping variable loading for optimizer 'adam', because it has 2 variables whereas the saved optimizer has 22 variables. \n",
      "  saveable.load_own_variables(weights_store.get(inner_path))\n",
      "/Users/ralf/Projects/learning-projects/datascience-bootcamp/sep24_bds_int_medical/.venv/lib/python3.12/site-packages/keras/src/backend/tensorflow/trainer.py:75: UserWarning: The model does not have any trainable weights.\n",
      "  warnings.warn(\"The model does not have any trainable weights.\")\n"
     ]
    },
    {
     "name": "stdout",
     "output_type": "stream",
     "text": [
      "7147/7147 - 2s - 313us/step - loss: 2.6780 - rmse: 3.9256\n",
      "1787/1787 - 1s - 341us/step\n"
     ]
    },
    {
     "name": "stderr",
     "output_type": "stream",
     "text": [
      "/Users/ralf/Projects/learning-projects/datascience-bootcamp/sep24_bds_int_medical/.venv/lib/python3.12/site-packages/keras/src/saving/saving_lib.py:719: UserWarning: Skipping variable loading for optimizer 'adam', because it has 2 variables whereas the saved optimizer has 22 variables. \n",
      "  saveable.load_own_variables(weights_store.get(inner_path))\n",
      "/Users/ralf/Projects/learning-projects/datascience-bootcamp/sep24_bds_int_medical/.venv/lib/python3.12/site-packages/keras/src/backend/tensorflow/trainer.py:75: UserWarning: The model does not have any trainable weights.\n",
      "  warnings.warn(\"The model does not have any trainable weights.\")\n"
     ]
    },
    {
     "name": "stdout",
     "output_type": "stream",
     "text": [
      "7147/7147 - 3s - 402us/step - loss: 2.5580 - rmse: 3.9269\n",
      "1787/1787 - 1s - 345us/step\n",
      "11:46:50 - Predicting\n",
      "1054/1054 - 0s - 354us/step\n",
      "11:46:59 - Calculating scores\n",
      "11:46:59 - R^2: 0.7451516957655367, RMSE: 1.6386335035533521, MAE: 1.1905674676168998, MSE: 2.685119758967534\n",
      "11:46:59 - Training finished\n",
      "Final estimator RMSE: 1.6109683507556014\n",
      "Final estimator R2: 0.7569789582743549\n",
      "Final estimator MSE: 2.595669852401505\n",
      "Final estimator MAE: 1.1876689195851726\n"
     ]
    },
    {
     "data": {
      "text/plain": [
       "<Figure size 640x480 with 1 Axes>"
      ],
      "image/png": "[encoded data removed]"
     },
     "metadata": {},
     "output_type": "display_data"
    },
    {
     "data": {
      "text/plain": [
       "<Figure size 640x480 with 1 Axes>"
      ],
      "image/png": "[encoded data removed]"
     },
     "metadata": {},
     "output_type": "display_data"
    }
   ],
   "execution_count": 8
  },
  {
   "metadata": {
    "ExecuteTime": {
     "end_time": "2024-11-27T10:50:56.854414Z",
     "start_time": "2024-11-27T10:47:00.425605Z"
    }
   },
   "cell_type": "code",
   "source": [
    "import numpy as np\n",
    "from pipelines_selected_features import pipeline\n",
    "\n",
    "all_train_data_transformed = pipeline.fit_transform(pd.concat([train_data, additional_train_data], axis=0))\n",
    "\n",
    "X_train = all_train_data_transformed.drop(columns=['bg+1:00'])\n",
    "y_train = all_train_data_transformed['bg+1:00']\n",
    "X_test = pipeline.transform(test_data)\n",
    "\n",
    "model.fit(X_train, y_train)"
   ],
   "id": "43cf99724f468af4",
   "outputs": [
    {
     "name": "stderr",
     "output_type": "stream",
     "text": [
      "/Users/ralf/Projects/learning-projects/datascience-bootcamp/sep24_bds_int_medical/.venv/lib/python3.12/site-packages/keras/src/saving/saving_lib.py:719: UserWarning: Skipping variable loading for optimizer 'adam', because it has 2 variables whereas the saved optimizer has 22 variables. \n",
      "  saveable.load_own_variables(weights_store.get(inner_path))\n",
      "/Users/ralf/Projects/learning-projects/datascience-bootcamp/sep24_bds_int_medical/.venv/lib/python3.12/site-packages/keras/src/backend/tensorflow/trainer.py:75: UserWarning: The model does not have any trainable weights.\n",
      "  warnings.warn(\"The model does not have any trainable weights.\")\n"
     ]
    },
    {
     "name": "stdout",
     "output_type": "stream",
     "text": [
      "9987/9987 - 3s - 286us/step - loss: 2.6837 - rmse: 4.0145\n"
     ]
    },
    {
     "name": "stderr",
     "output_type": "stream",
     "text": [
      "/Users/ralf/Projects/learning-projects/datascience-bootcamp/sep24_bds_int_medical/.venv/lib/python3.12/site-packages/keras/src/saving/saving_lib.py:719: UserWarning: Skipping variable loading for optimizer 'adam', because it has 2 variables whereas the saved optimizer has 22 variables. \n",
      "  saveable.load_own_variables(weights_store.get(inner_path))\n",
      "/Users/ralf/Projects/learning-projects/datascience-bootcamp/sep24_bds_int_medical/.venv/lib/python3.12/site-packages/keras/src/backend/tensorflow/trainer.py:75: UserWarning: The model does not have any trainable weights.\n",
      "  warnings.warn(\"The model does not have any trainable weights.\")\n"
     ]
    },
    {
     "name": "stdout",
     "output_type": "stream",
     "text": [
      "7990/7990 - 2s - 292us/step - loss: 2.6154 - rmse: 4.0773\n",
      "1998/1998 - 1s - 325us/step\n"
     ]
    },
    {
     "name": "stderr",
     "output_type": "stream",
     "text": [
      "/Users/ralf/Projects/learning-projects/datascience-bootcamp/sep24_bds_int_medical/.venv/lib/python3.12/site-packages/keras/src/saving/saving_lib.py:719: UserWarning: Skipping variable loading for optimizer 'adam', because it has 2 variables whereas the saved optimizer has 22 variables. \n",
      "  saveable.load_own_variables(weights_store.get(inner_path))\n",
      "/Users/ralf/Projects/learning-projects/datascience-bootcamp/sep24_bds_int_medical/.venv/lib/python3.12/site-packages/keras/src/backend/tensorflow/trainer.py:75: UserWarning: The model does not have any trainable weights.\n",
      "  warnings.warn(\"The model does not have any trainable weights.\")\n"
     ]
    },
    {
     "name": "stdout",
     "output_type": "stream",
     "text": [
      "7990/7990 - 3s - 394us/step - loss: 2.8025 - rmse: 4.0475\n",
      "1998/1998 - 1s - 340us/step\n"
     ]
    },
    {
     "name": "stderr",
     "output_type": "stream",
     "text": [
      "/Users/ralf/Projects/learning-projects/datascience-bootcamp/sep24_bds_int_medical/.venv/lib/python3.12/site-packages/keras/src/saving/saving_lib.py:719: UserWarning: Skipping variable loading for optimizer 'adam', because it has 2 variables whereas the saved optimizer has 22 variables. \n",
      "  saveable.load_own_variables(weights_store.get(inner_path))\n",
      "/Users/ralf/Projects/learning-projects/datascience-bootcamp/sep24_bds_int_medical/.venv/lib/python3.12/site-packages/keras/src/backend/tensorflow/trainer.py:75: UserWarning: The model does not have any trainable weights.\n",
      "  warnings.warn(\"The model does not have any trainable weights.\")\n"
     ]
    },
    {
     "name": "stdout",
     "output_type": "stream",
     "text": [
      "7990/7990 - 2s - 294us/step - loss: 2.4685 - rmse: 3.9987\n",
      "1998/1998 - 1s - 695us/step\n"
     ]
    },
    {
     "name": "stderr",
     "output_type": "stream",
     "text": [
      "/Users/ralf/Projects/learning-projects/datascience-bootcamp/sep24_bds_int_medical/.venv/lib/python3.12/site-packages/keras/src/saving/saving_lib.py:719: UserWarning: Skipping variable loading for optimizer 'adam', because it has 2 variables whereas the saved optimizer has 22 variables. \n",
      "  saveable.load_own_variables(weights_store.get(inner_path))\n",
      "/Users/ralf/Projects/learning-projects/datascience-bootcamp/sep24_bds_int_medical/.venv/lib/python3.12/site-packages/keras/src/backend/tensorflow/trainer.py:75: UserWarning: The model does not have any trainable weights.\n",
      "  warnings.warn(\"The model does not have any trainable weights.\")\n"
     ]
    },
    {
     "name": "stdout",
     "output_type": "stream",
     "text": [
      "7990/7990 - 2s - 299us/step - loss: 2.7654 - rmse: 4.0060\n",
      "1998/1998 - 1s - 348us/step\n"
     ]
    },
    {
     "name": "stderr",
     "output_type": "stream",
     "text": [
      "/Users/ralf/Projects/learning-projects/datascience-bootcamp/sep24_bds_int_medical/.venv/lib/python3.12/site-packages/keras/src/saving/saving_lib.py:719: UserWarning: Skipping variable loading for optimizer 'adam', because it has 2 variables whereas the saved optimizer has 22 variables. \n",
      "  saveable.load_own_variables(weights_store.get(inner_path))\n",
      "/Users/ralf/Projects/learning-projects/datascience-bootcamp/sep24_bds_int_medical/.venv/lib/python3.12/site-packages/keras/src/backend/tensorflow/trainer.py:75: UserWarning: The model does not have any trainable weights.\n",
      "  warnings.warn(\"The model does not have any trainable weights.\")\n"
     ]
    },
    {
     "name": "stdout",
     "output_type": "stream",
     "text": [
      "7990/7990 - 2s - 296us/step - loss: 2.7668 - rmse: 3.9210\n",
      "1998/1998 - 1s - 318us/step\n"
     ]
    },
    {
     "data": {
      "text/plain": [
       "StackingRegressor(estimators=[('dnn',\n",
       "                               KerasRegressor(model=<function model_with_pretrained_weights at 0x3d61aaa20>, verbose=2)),\n",
       "                              ('hgb',\n",
       "                               HistGradientBoostingRegressor(max_depth=5,\n",
       "                                                             max_iter=200)),\n",
       "                              ('lasso_lars_ic',\n",
       "                               LassoLarsIC(criterion='bic', max_iter=10000)),\n",
       "                              ('knn', KNeighborsRegressor()),\n",
       "                              ('xgb',\n",
       "                               XGBRegressor(base_score=None, booster=None,\n",
       "                                            callbacks=None,\n",
       "                                            colsamp...\n",
       "                                            interaction_constraints=None,\n",
       "                                            learning_rate=0.1, max_bin=None,\n",
       "                                            max_cat_threshold=None,\n",
       "                                            max_cat_to_onehot=None,\n",
       "                                            max_delta_step=None, max_depth=5,\n",
       "                                            max_leaves=None,\n",
       "                                            min_child_weight=None, missing=nan,\n",
       "                                            monotone_constraints=None,\n",
       "                                            multi_strategy=None,\n",
       "                                            n_estimators=500, n_jobs=None,\n",
       "                                            num_parallel_tree=None,\n",
       "                                            random_state=42, ...))],\n",
       "                  final_estimator=Ridge(alpha=0.1), n_jobs=1, verbose=2)"
      ],
      "text/html": [
       "<style>#sk-container-id-1 {\n",
       "  /* Definition of color scheme common for light and dark mode */\n",
       "  --sklearn-color-text: black;\n",
       "  --sklearn-color-line: gray;\n",
       "  /* Definition of color scheme for unfitted estimators */\n",
       "  --sklearn-color-unfitted-level-0: #fff5e6;\n",
       "  --sklearn-color-unfitted-level-1: #f6e4d2;\n",
       "  --sklearn-color-unfitted-level-2: #ffe0b3;\n",
       "  --sklearn-color-unfitted-level-3: chocolate;\n",
       "  /* Definition of color scheme for fitted estimators */\n",
       "  --sklearn-color-fitted-level-0: #f0f8ff;\n",
       "  --sklearn-color-fitted-level-1: #d4ebff;\n",
       "  --sklearn-color-fitted-level-2: #b3dbfd;\n",
       "  --sklearn-color-fitted-level-3: cornflowerblue;\n",
       "\n",
       "  /* Specific color for light theme */\n",
       "  --sklearn-color-text-on-default-background: var(--sg-text-color, var(--theme-code-foreground, var(--jp-content-font-color1, black)));\n",
       "  --sklearn-color-background: var(--sg-background-color, var(--theme-background, var(--jp-layout-color0, white)));\n",
       "  --sklearn-color-border-box: var(--sg-text-color, var(--theme-code-foreground, var(--jp-content-font-color1, black)));\n",
       "  --sklearn-color-icon: #696969;\n",
       "\n",
       "  @media (prefers-color-scheme: dark) {\n",
       "    /* Redefinition of color scheme for dark theme */\n",
       "    --sklearn-color-text-on-default-background: var(--sg-text-color, var(--theme-code-foreground, var(--jp-content-font-color1, white)));\n",
       "    --sklearn-color-background: var(--sg-background-color, var(--theme-background, var(--jp-layout-color0, #111)));\n",
       "    --sklearn-color-border-box: var(--sg-text-color, var(--theme-code-foreground, var(--jp-content-font-color1, white)));\n",
       "    --sklearn-color-icon: #878787;\n",
       "  }\n",
       "}\n",
       "\n",
       "#sk-container-id-1 {\n",
       "  color: var(--sklearn-color-text);\n",
       "}\n",
       "\n",
       "#sk-container-id-1 pre {\n",
       "  padding: 0;\n",
       "}\n",
       "\n",
       "#sk-container-id-1 input.sk-hidden--visually {\n",
       "  border: 0;\n",
       "  clip: rect(1px 1px 1px 1px);\n",
       "  clip: rect(1px, 1px, 1px, 1px);\n",
       "  height: 1px;\n",
       "  margin: -1px;\n",
       "  overflow: hidden;\n",
       "  padding: 0;\n",
       "  position: absolute;\n",
       "  width: 1px;\n",
       "}\n",
       "\n",
       "#sk-container-id-1 div.sk-dashed-wrapped {\n",
       "  border: 1px dashed var(--sklearn-color-line);\n",
       "  margin: 0 0.4em 0.5em 0.4em;\n",
       "  box-sizing: border-box;\n",
       "  padding-bottom: 0.4em;\n",
       "  background-color: var(--sklearn-color-background);\n",
       "}\n",
       "\n",
       "#sk-container-id-1 div.sk-container {\n",
       "  /* jupyter's `normalize.less` sets `[hidden] { display: none; }`\n",
       "     but bootstrap.min.css set `[hidden] { display: none !important; }`\n",
       "     so we also need the `!important` here to be able to override the\n",
       "     default hidden behavior on the sphinx rendered scikit-learn.org.\n",
       "     See: https://github.com/scikit-learn/scikit-learn/issues/21755 */\n",
       "  display: inline-block !important;\n",
       "  position: relative;\n",
       "}\n",
       "\n",
       "#sk-container-id-1 div.sk-text-repr-fallback {\n",
       "  display: none;\n",
       "}\n",
       "\n",
       "div.sk-parallel-item,\n",
       "div.sk-serial,\n",
       "div.sk-item {\n",
       "  /* draw centered vertical line to link estimators */\n",
       "  background-image: linear-gradient(var(--sklearn-color-text-on-default-background), var(--sklearn-color-text-on-default-background));\n",
       "  background-size: 2px 100%;\n",
       "  background-repeat: no-repeat;\n",
       "  background-position: center center;\n",
       "}\n",
       "\n",
       "/* Parallel-specific style estimator block */\n",
       "\n",
       "#sk-container-id-1 div.sk-parallel-item::after {\n",
       "  content: \"\";\n",
       "  width: 100%;\n",
       "  border-bottom: 2px solid var(--sklearn-color-text-on-default-background);\n",
       "  flex-grow: 1;\n",
       "}\n",
       "\n",
       "#sk-container-id-1 div.sk-parallel {\n",
       "  display: flex;\n",
       "  align-items: stretch;\n",
       "  justify-content: center;\n",
       "  background-color: var(--sklearn-color-background);\n",
       "  position: relative;\n",
       "}\n",
       "\n",
       "#sk-container-id-1 div.sk-parallel-item {\n",
       "  display: flex;\n",
       "  flex-direction: column;\n",
       "}\n",
       "\n",
       "#sk-container-id-1 div.sk-parallel-item:first-child::after {\n",
       "  align-self: flex-end;\n",
       "  width: 50%;\n",
       "}\n",
       "\n",
       "#sk-container-id-1 div.sk-parallel-item:last-child::after {\n",
       "  align-self: flex-start;\n",
       "  width: 50%;\n",
       "}\n",
       "\n",
       "#sk-container-id-1 div.sk-parallel-item:only-child::after {\n",
       "  width: 0;\n",
       "}\n",
       "\n",
       "/* Serial-specific style estimator block */\n",
       "\n",
       "#sk-container-id-1 div.sk-serial {\n",
       "  display: flex;\n",
       "  flex-direction: column;\n",
       "  align-items: center;\n",
       "  background-color: var(--sklearn-color-background);\n",
       "  padding-right: 1em;\n",
       "  padding-left: 1em;\n",
       "}\n",
       "\n",
       "\n",
       "/* Toggleable style: style used for estimator/Pipeline/ColumnTransformer box that is\n",
       "clickable and can be expanded/collapsed.\n",
       "- Pipeline and ColumnTransformer use this feature and define the default style\n",
       "- Estimators will overwrite some part of the style using the `sk-estimator` class\n",
       "*/\n",
       "\n",
       "/* Pipeline and ColumnTransformer style (default) */\n",
       "\n",
       "#sk-container-id-1 div.sk-toggleable {\n",
       "  /* Default theme specific background. It is overwritten whether we have a\n",
       "  specific estimator or a Pipeline/ColumnTransformer */\n",
       "  background-color: var(--sklearn-color-background);\n",
       "}\n",
       "\n",
       "/* Toggleable label */\n",
       "#sk-container-id-1 label.sk-toggleable__label {\n",
       "  cursor: pointer;\n",
       "  display: block;\n",
       "  width: 100%;\n",
       "  margin-bottom: 0;\n",
       "  padding: 0.5em;\n",
       "  box-sizing: border-box;\n",
       "  text-align: center;\n",
       "}\n",
       "\n",
       "#sk-container-id-1 label.sk-toggleable__label-arrow:before {\n",
       "  /* Arrow on the left of the label */\n",
       "  content: \"▸\";\n",
       "  float: left;\n",
       "  margin-right: 0.25em;\n",
       "  color: var(--sklearn-color-icon);\n",
       "}\n",
       "\n",
       "#sk-container-id-1 label.sk-toggleable__label-arrow:hover:before {\n",
       "  color: var(--sklearn-color-text);\n",
       "}\n",
       "\n",
       "/* Toggleable content - dropdown */\n",
       "\n",
       "#sk-container-id-1 div.sk-toggleable__content {\n",
       "  max-height: 0;\n",
       "  max-width: 0;\n",
       "  overflow: hidden;\n",
       "  text-align: left;\n",
       "  /* unfitted */\n",
       "  background-color: var(--sklearn-color-unfitted-level-0);\n",
       "}\n",
       "\n",
       "#sk-container-id-1 div.sk-toggleable__content.fitted {\n",
       "  /* fitted */\n",
       "  background-color: var(--sklearn-color-fitted-level-0);\n",
       "}\n",
       "\n",
       "#sk-container-id-1 div.sk-toggleable__content pre {\n",
       "  margin: 0.2em;\n",
       "  border-radius: 0.25em;\n",
       "  color: var(--sklearn-color-text);\n",
       "  /* unfitted */\n",
       "  background-color: var(--sklearn-color-unfitted-level-0);\n",
       "}\n",
       "\n",
       "#sk-container-id-1 div.sk-toggleable__content.fitted pre {\n",
       "  /* unfitted */\n",
       "  background-color: var(--sklearn-color-fitted-level-0);\n",
       "}\n",
       "\n",
       "#sk-container-id-1 input.sk-toggleable__control:checked~div.sk-toggleable__content {\n",
       "  /* Expand drop-down */\n",
       "  max-height: 200px;\n",
       "  max-width: 100%;\n",
       "  overflow: auto;\n",
       "}\n",
       "\n",
       "#sk-container-id-1 input.sk-toggleable__control:checked~label.sk-toggleable__label-arrow:before {\n",
       "  content: \"▾\";\n",
       "}\n",
       "\n",
       "/* Pipeline/ColumnTransformer-specific style */\n",
       "\n",
       "#sk-container-id-1 div.sk-label input.sk-toggleable__control:checked~label.sk-toggleable__label {\n",
       "  color: var(--sklearn-color-text);\n",
       "  background-color: var(--sklearn-color-unfitted-level-2);\n",
       "}\n",
       "\n",
       "#sk-container-id-1 div.sk-label.fitted input.sk-toggleable__control:checked~label.sk-toggleable__label {\n",
       "  background-color: var(--sklearn-color-fitted-level-2);\n",
       "}\n",
       "\n",
       "/* Estimator-specific style */\n",
       "\n",
       "/* Colorize estimator box */\n",
       "#sk-container-id-1 div.sk-estimator input.sk-toggleable__control:checked~label.sk-toggleable__label {\n",
       "  /* unfitted */\n",
       "  background-color: var(--sklearn-color-unfitted-level-2);\n",
       "}\n",
       "\n",
       "#sk-container-id-1 div.sk-estimator.fitted input.sk-toggleable__control:checked~label.sk-toggleable__label {\n",
       "  /* fitted */\n",
       "  background-color: var(--sklearn-color-fitted-level-2);\n",
       "}\n",
       "\n",
       "#sk-container-id-1 div.sk-label label.sk-toggleable__label,\n",
       "#sk-container-id-1 div.sk-label label {\n",
       "  /* The background is the default theme color */\n",
       "  color: var(--sklearn-color-text-on-default-background);\n",
       "}\n",
       "\n",
       "/* On hover, darken the color of the background */\n",
       "#sk-container-id-1 div.sk-label:hover label.sk-toggleable__label {\n",
       "  color: var(--sklearn-color-text);\n",
       "  background-color: var(--sklearn-color-unfitted-level-2);\n",
       "}\n",
       "\n",
       "/* Label box, darken color on hover, fitted */\n",
       "#sk-container-id-1 div.sk-label.fitted:hover label.sk-toggleable__label.fitted {\n",
       "  color: var(--sklearn-color-text);\n",
       "  background-color: var(--sklearn-color-fitted-level-2);\n",
       "}\n",
       "\n",
       "/* Estimator label */\n",
       "\n",
       "#sk-container-id-1 div.sk-label label {\n",
       "  font-family: monospace;\n",
       "  font-weight: bold;\n",
       "  display: inline-block;\n",
       "  line-height: 1.2em;\n",
       "}\n",
       "\n",
       "#sk-container-id-1 div.sk-label-container {\n",
       "  text-align: center;\n",
       "}\n",
       "\n",
       "/* Estimator-specific */\n",
       "#sk-container-id-1 div.sk-estimator {\n",
       "  font-family: monospace;\n",
       "  border: 1px dotted var(--sklearn-color-border-box);\n",
       "  border-radius: 0.25em;\n",
       "  box-sizing: border-box;\n",
       "  margin-bottom: 0.5em;\n",
       "  /* unfitted */\n",
       "  background-color: var(--sklearn-color-unfitted-level-0);\n",
       "}\n",
       "\n",
       "#sk-container-id-1 div.sk-estimator.fitted {\n",
       "  /* fitted */\n",
       "  background-color: var(--sklearn-color-fitted-level-0);\n",
       "}\n",
       "\n",
       "/* on hover */\n",
       "#sk-container-id-1 div.sk-estimator:hover {\n",
       "  /* unfitted */\n",
       "  background-color: var(--sklearn-color-unfitted-level-2);\n",
       "}\n",
       "\n",
       "#sk-container-id-1 div.sk-estimator.fitted:hover {\n",
       "  /* fitted */\n",
       "  background-color: var(--sklearn-color-fitted-level-2);\n",
       "}\n",
       "\n",
       "/* Specification for estimator info (e.g. \"i\" and \"?\") */\n",
       "\n",
       "/* Common style for \"i\" and \"?\" */\n",
       "\n",
       ".sk-estimator-doc-link,\n",
       "a:link.sk-estimator-doc-link,\n",
       "a:visited.sk-estimator-doc-link {\n",
       "  float: right;\n",
       "  font-size: smaller;\n",
       "  line-height: 1em;\n",
       "  font-family: monospace;\n",
       "  background-color: var(--sklearn-color-background);\n",
       "  border-radius: 1em;\n",
       "  height: 1em;\n",
       "  width: 1em;\n",
       "  text-decoration: none !important;\n",
       "  margin-left: 1ex;\n",
       "  /* unfitted */\n",
       "  border: var(--sklearn-color-unfitted-level-1) 1pt solid;\n",
       "  color: var(--sklearn-color-unfitted-level-1);\n",
       "}\n",
       "\n",
       ".sk-estimator-doc-link.fitted,\n",
       "a:link.sk-estimator-doc-link.fitted,\n",
       "a:visited.sk-estimator-doc-link.fitted {\n",
       "  /* fitted */\n",
       "  border: var(--sklearn-color-fitted-level-1) 1pt solid;\n",
       "  color: var(--sklearn-color-fitted-level-1);\n",
       "}\n",
       "\n",
       "/* On hover */\n",
       "div.sk-estimator:hover .sk-estimator-doc-link:hover,\n",
       ".sk-estimator-doc-link:hover,\n",
       "div.sk-label-container:hover .sk-estimator-doc-link:hover,\n",
       ".sk-estimator-doc-link:hover {\n",
       "  /* unfitted */\n",
       "  background-color: var(--sklearn-color-unfitted-level-3);\n",
       "  color: var(--sklearn-color-background);\n",
       "  text-decoration: none;\n",
       "}\n",
       "\n",
       "div.sk-estimator.fitted:hover .sk-estimator-doc-link.fitted:hover,\n",
       ".sk-estimator-doc-link.fitted:hover,\n",
       "div.sk-label-container:hover .sk-estimator-doc-link.fitted:hover,\n",
       ".sk-estimator-doc-link.fitted:hover {\n",
       "  /* fitted */\n",
       "  background-color: var(--sklearn-color-fitted-level-3);\n",
       "  color: var(--sklearn-color-background);\n",
       "  text-decoration: none;\n",
       "}\n",
       "\n",
       "/* Span, style for the box shown on hovering the info icon */\n",
       ".sk-estimator-doc-link span {\n",
       "  display: none;\n",
       "  z-index: 9999;\n",
       "  position: relative;\n",
       "  font-weight: normal;\n",
       "  right: .2ex;\n",
       "  padding: .5ex;\n",
       "  margin: .5ex;\n",
       "  width: min-content;\n",
       "  min-width: 20ex;\n",
       "  max-width: 50ex;\n",
       "  color: var(--sklearn-color-text);\n",
       "  box-shadow: 2pt 2pt 4pt #999;\n",
       "  /* unfitted */\n",
       "  background: var(--sklearn-color-unfitted-level-0);\n",
       "  border: .5pt solid var(--sklearn-color-unfitted-level-3);\n",
       "}\n",
       "\n",
       ".sk-estimator-doc-link.fitted span {\n",
       "  /* fitted */\n",
       "  background: var(--sklearn-color-fitted-level-0);\n",
       "  border: var(--sklearn-color-fitted-level-3);\n",
       "}\n",
       "\n",
       ".sk-estimator-doc-link:hover span {\n",
       "  display: block;\n",
       "}\n",
       "\n",
       "/* \"?\"-specific style due to the `<a>` HTML tag */\n",
       "\n",
       "#sk-container-id-1 a.estimator_doc_link {\n",
       "  float: right;\n",
       "  font-size: 1rem;\n",
       "  line-height: 1em;\n",
       "  font-family: monospace;\n",
       "  background-color: var(--sklearn-color-background);\n",
       "  border-radius: 1rem;\n",
       "  height: 1rem;\n",
       "  width: 1rem;\n",
       "  text-decoration: none;\n",
       "  /* unfitted */\n",
       "  color: var(--sklearn-color-unfitted-level-1);\n",
       "  border: var(--sklearn-color-unfitted-level-1) 1pt solid;\n",
       "}\n",
       "\n",
       "#sk-container-id-1 a.estimator_doc_link.fitted {\n",
       "  /* fitted */\n",
       "  border: var(--sklearn-color-fitted-level-1) 1pt solid;\n",
       "  color: var(--sklearn-color-fitted-level-1);\n",
       "}\n",
       "\n",
       "/* On hover */\n",
       "#sk-container-id-1 a.estimator_doc_link:hover {\n",
       "  /* unfitted */\n",
       "  background-color: var(--sklearn-color-unfitted-level-3);\n",
       "  color: var(--sklearn-color-background);\n",
       "  text-decoration: none;\n",
       "}\n",
       "\n",
       "#sk-container-id-1 a.estimator_doc_link.fitted:hover {\n",
       "  /* fitted */\n",
       "  background-color: var(--sklearn-color-fitted-level-3);\n",
       "}\n",
       "</style><div id=\"sk-container-id-1\" class=\"sk-top-container\"><div class=\"sk-text-repr-fallback\"><pre>StackingRegressor(estimators=[(&#x27;dnn&#x27;,\n",
       "                               KerasRegressor(model=&lt;function model_with_pretrained_weights at 0x3d61aaa20&gt;, verbose=2)),\n",
       "                              (&#x27;hgb&#x27;,\n",
       "                               HistGradientBoostingRegressor(max_depth=5,\n",
       "                                                             max_iter=200)),\n",
       "                              (&#x27;lasso_lars_ic&#x27;,\n",
       "                               LassoLarsIC(criterion=&#x27;bic&#x27;, max_iter=10000)),\n",
       "                              (&#x27;knn&#x27;, KNeighborsRegressor()),\n",
       "                              (&#x27;xgb&#x27;,\n",
       "                               XGBRegressor(base_score=None, booster=None,\n",
       "                                            callbacks=None,\n",
       "                                            colsamp...\n",
       "                                            interaction_constraints=None,\n",
       "                                            learning_rate=0.1, max_bin=None,\n",
       "                                            max_cat_threshold=None,\n",
       "                                            max_cat_to_onehot=None,\n",
       "                                            max_delta_step=None, max_depth=5,\n",
       "                                            max_leaves=None,\n",
       "                                            min_child_weight=None, missing=nan,\n",
       "                                            monotone_constraints=None,\n",
       "                                            multi_strategy=None,\n",
       "                                            n_estimators=500, n_jobs=None,\n",
       "                                            num_parallel_tree=None,\n",
       "                                            random_state=42, ...))],\n",
       "                  final_estimator=Ridge(alpha=0.1), n_jobs=1, verbose=2)</pre><b>In a Jupyter environment, please rerun this cell to show the HTML representation or trust the notebook. <br />On GitHub, the HTML representation is unable to render, please try loading this page with nbviewer.org.</b></div><div class=\"sk-container\" hidden><div class=\"sk-item sk-dashed-wrapped\"><div class=\"sk-label-container\"><div class=\"sk-label fitted sk-toggleable\"><input class=\"sk-toggleable__control sk-hidden--visually\" id=\"sk-estimator-id-1\" type=\"checkbox\" ><label for=\"sk-estimator-id-1\" class=\"sk-toggleable__label fitted sk-toggleable__label-arrow fitted\">&nbsp;&nbsp;StackingRegressor<a class=\"sk-estimator-doc-link fitted\" rel=\"noreferrer\" target=\"_blank\" href=\"https://scikit-learn.org/1.5/modules/generated/sklearn.ensemble.StackingRegressor.html\">?<span>Documentation for StackingRegressor</span></a><span class=\"sk-estimator-doc-link fitted\">i<span>Fitted</span></span></label><div class=\"sk-toggleable__content fitted\"><pre>StackingRegressor(estimators=[(&#x27;dnn&#x27;,\n",
       "                               KerasRegressor(model=&lt;function model_with_pretrained_weights at 0x3d61aaa20&gt;, verbose=2)),\n",
       "                              (&#x27;hgb&#x27;,\n",
       "                               HistGradientBoostingRegressor(max_depth=5,\n",
       "                                                             max_iter=200)),\n",
       "                              (&#x27;lasso_lars_ic&#x27;,\n",
       "                               LassoLarsIC(criterion=&#x27;bic&#x27;, max_iter=10000)),\n",
       "                              (&#x27;knn&#x27;, KNeighborsRegressor()),\n",
       "                              (&#x27;xgb&#x27;,\n",
       "                               XGBRegressor(base_score=None, booster=None,\n",
       "                                            callbacks=None,\n",
       "                                            colsamp...\n",
       "                                            interaction_constraints=None,\n",
       "                                            learning_rate=0.1, max_bin=None,\n",
       "                                            max_cat_threshold=None,\n",
       "                                            max_cat_to_onehot=None,\n",
       "                                            max_delta_step=None, max_depth=5,\n",
       "                                            max_leaves=None,\n",
       "                                            min_child_weight=None, missing=nan,\n",
       "                                            monotone_constraints=None,\n",
       "                                            multi_strategy=None,\n",
       "                                            n_estimators=500, n_jobs=None,\n",
       "                                            num_parallel_tree=None,\n",
       "                                            random_state=42, ...))],\n",
       "                  final_estimator=Ridge(alpha=0.1), n_jobs=1, verbose=2)</pre></div> </div></div><div class=\"sk-serial\"><div class=\"sk-item\"><div class=\"sk-parallel\"><div class=\"sk-parallel-item\"><div class=\"sk-item\"><div class=\"sk-label-container\"><div class=\"sk-label fitted sk-toggleable\"><label>dnn</label></div></div><div class=\"sk-serial\"><div class=\"sk-item\"><div class=\"sk-estimator fitted sk-toggleable\"><input class=\"sk-toggleable__control sk-hidden--visually\" id=\"sk-estimator-id-2\" type=\"checkbox\" ><label for=\"sk-estimator-id-2\" class=\"sk-toggleable__label fitted sk-toggleable__label-arrow fitted\">KerasRegressor</label><div class=\"sk-toggleable__content fitted\"><pre>KerasRegressor(\n",
       "\tmodel=&lt;function model_with_pretrained_weights at 0x3d61aaa20&gt;\n",
       "\tbuild_fn=None\n",
       "\twarm_start=False\n",
       "\trandom_state=None\n",
       "\toptimizer=rmsprop\n",
       "\tloss=None\n",
       "\tmetrics=None\n",
       "\tbatch_size=None\n",
       "\tvalidation_batch_size=None\n",
       "\tverbose=2\n",
       "\tcallbacks=None\n",
       "\tvalidation_split=0.0\n",
       "\tshuffle=True\n",
       "\trun_eagerly=False\n",
       "\tepochs=1\n",
       ")</pre></div> </div></div></div></div></div><div class=\"sk-parallel-item\"><div class=\"sk-item\"><div class=\"sk-label-container\"><div class=\"sk-label fitted sk-toggleable\"><label>hgb</label></div></div><div class=\"sk-serial\"><div class=\"sk-item\"><div class=\"sk-estimator fitted sk-toggleable\"><input class=\"sk-toggleable__control sk-hidden--visually\" id=\"sk-estimator-id-3\" type=\"checkbox\" ><label for=\"sk-estimator-id-3\" class=\"sk-toggleable__label fitted sk-toggleable__label-arrow fitted\">&nbsp;HistGradientBoostingRegressor<a class=\"sk-estimator-doc-link fitted\" rel=\"noreferrer\" target=\"_blank\" href=\"https://scikit-learn.org/1.5/modules/generated/sklearn.ensemble.HistGradientBoostingRegressor.html\">?<span>Documentation for HistGradientBoostingRegressor</span></a></label><div class=\"sk-toggleable__content fitted\"><pre>HistGradientBoostingRegressor(max_depth=5, max_iter=200)</pre></div> </div></div></div></div></div><div class=\"sk-parallel-item\"><div class=\"sk-item\"><div class=\"sk-label-container\"><div class=\"sk-label fitted sk-toggleable\"><label>lasso_lars_ic</label></div></div><div class=\"sk-serial\"><div class=\"sk-item\"><div class=\"sk-estimator fitted sk-toggleable\"><input class=\"sk-toggleable__control sk-hidden--visually\" id=\"sk-estimator-id-4\" type=\"checkbox\" ><label for=\"sk-estimator-id-4\" class=\"sk-toggleable__label fitted sk-toggleable__label-arrow fitted\">&nbsp;LassoLarsIC<a class=\"sk-estimator-doc-link fitted\" rel=\"noreferrer\" target=\"_blank\" href=\"https://scikit-learn.org/1.5/modules/generated/sklearn.linear_model.LassoLarsIC.html\">?<span>Documentation for LassoLarsIC</span></a></label><div class=\"sk-toggleable__content fitted\"><pre>LassoLarsIC(criterion=&#x27;bic&#x27;, max_iter=10000)</pre></div> </div></div></div></div></div><div class=\"sk-parallel-item\"><div class=\"sk-item\"><div class=\"sk-label-container\"><div class=\"sk-label fitted sk-toggleable\"><label>knn</label></div></div><div class=\"sk-serial\"><div class=\"sk-item\"><div class=\"sk-estimator fitted sk-toggleable\"><input class=\"sk-toggleable__control sk-hidden--visually\" id=\"sk-estimator-id-5\" type=\"checkbox\" ><label for=\"sk-estimator-id-5\" class=\"sk-toggleable__label fitted sk-toggleable__label-arrow fitted\">&nbsp;KNeighborsRegressor<a class=\"sk-estimator-doc-link fitted\" rel=\"noreferrer\" target=\"_blank\" href=\"https://scikit-learn.org/1.5/modules/generated/sklearn.neighbors.KNeighborsRegressor.html\">?<span>Documentation for KNeighborsRegressor</span></a></label><div class=\"sk-toggleable__content fitted\"><pre>KNeighborsRegressor()</pre></div> </div></div></div></div></div><div class=\"sk-parallel-item\"><div class=\"sk-item\"><div class=\"sk-label-container\"><div class=\"sk-label fitted sk-toggleable\"><label>xgb</label></div></div><div class=\"sk-serial\"><div class=\"sk-item\"><div class=\"sk-estimator fitted sk-toggleable\"><input class=\"sk-toggleable__control sk-hidden--visually\" id=\"sk-estimator-id-6\" type=\"checkbox\" ><label for=\"sk-estimator-id-6\" class=\"sk-toggleable__label fitted sk-toggleable__label-arrow fitted\">XGBRegressor</label><div class=\"sk-toggleable__content fitted\"><pre>XGBRegressor(base_score=None, booster=None, callbacks=None,\n",
       "             colsample_bylevel=None, colsample_bynode=None,\n",
       "             colsample_bytree=None, device=None, early_stopping_rounds=None,\n",
       "             enable_categorical=False, eval_metric=None, feature_types=None,\n",
       "             gamma=None, grow_policy=None, importance_type=None,\n",
       "             interaction_constraints=None, learning_rate=0.1, max_bin=None,\n",
       "             max_cat_threshold=None, max_cat_to_onehot=None,\n",
       "             max_delta_step=None, max_depth=5, max_leaves=None,\n",
       "             min_child_weight=None, missing=nan, monotone_constraints=None,\n",
       "             multi_strategy=None, n_estimators=500, n_jobs=None,\n",
       "             num_parallel_tree=None, random_state=42, ...)</pre></div> </div></div></div></div></div></div></div><div class=\"sk-item\"><div class=\"sk-parallel\"><div class=\"sk-parallel-item\"><div class=\"sk-item\"><div class=\"sk-label-container\"><div class=\"sk-label fitted sk-toggleable\"><label>final_estimator</label></div></div><div class=\"sk-serial\"><div class=\"sk-item\"><div class=\"sk-estimator fitted sk-toggleable\"><input class=\"sk-toggleable__control sk-hidden--visually\" id=\"sk-estimator-id-7\" type=\"checkbox\" ><label for=\"sk-estimator-id-7\" class=\"sk-toggleable__label fitted sk-toggleable__label-arrow fitted\">&nbsp;Ridge<a class=\"sk-estimator-doc-link fitted\" rel=\"noreferrer\" target=\"_blank\" href=\"https://scikit-learn.org/1.5/modules/generated/sklearn.linear_model.Ridge.html\">?<span>Documentation for Ridge</span></a></label><div class=\"sk-toggleable__content fitted\"><pre>Ridge(alpha=0.1)</pre></div> </div></div></div></div></div></div></div></div></div></div></div>"
      ]
     },
     "execution_count": 9,
     "metadata": {},
     "output_type": "execute_result"
    }
   ],
   "execution_count": 9
  },
  {
   "metadata": {
    "ExecuteTime": {
     "end_time": "2024-11-27T10:50:58.559931Z",
     "start_time": "2024-11-27T10:50:56.960543Z"
    }
   },
   "cell_type": "code",
   "source": [
    "y_pred = model.predict(X_test)\n",
    "test_data['bg+1:00'] = y_pred\n",
    "\n",
    "if np.sum(y_pred < 0) > 0:\n",
    "    print(f'Number of negative values: {np.sum(y_pred < 0)}')\n",
    "    bg_min_train = np.min(y_train)\n",
    "    print(f'Min value: {np.min(y_pred)}')\n",
    "    print(f'Filling negative values with {bg_min_train}')\n",
    "    y_pred = np.where(y_pred < 0, bg_min_train, y_pred)\n",
    "\n",
    "test_data['bg+1:00'] = y_pred\n",
    "test_data.head()"
   ],
   "id": "4bc5c6a7c86b6f3c",
   "outputs": [
    {
     "name": "stdout",
     "output_type": "stream",
     "text": [
      "114/114 - 0s - 833us/step\n"
     ]
    },
    {
     "data": {
      "text/plain": [
       "         p_num      time  bg-5:55  bg-5:50  bg-5:45  bg-5:40  bg-5:35  \\\n",
       "id                                                                      \n",
       "p01_8459   p01  06:45:00      NaN      9.2      NaN      NaN     10.2   \n",
       "p01_8460   p01  11:25:00      NaN      NaN      9.9      NaN      NaN   \n",
       "p01_8461   p01  14:45:00      NaN      5.5      NaN      NaN      5.5   \n",
       "p01_8462   p01  04:30:00      NaN      3.4      NaN      NaN      3.9   \n",
       "p01_8463   p01  04:20:00      NaN      NaN      8.3      NaN      NaN   \n",
       "\n",
       "          bg-5:30  bg-5:25  bg-5:20  ...  activity-0:40  activity-0:35  \\\n",
       "id                                   ...                                 \n",
       "p01_8459      NaN      NaN     10.3  ...            NaN            NaN   \n",
       "p01_8460      9.4      NaN      NaN  ...            NaN            NaN   \n",
       "p01_8461      NaN      NaN      5.2  ...            NaN            NaN   \n",
       "p01_8462      NaN      NaN      4.7  ...            NaN            NaN   \n",
       "p01_8463     10.0      NaN      NaN  ...            NaN            NaN   \n",
       "\n",
       "          activity-0:30  activity-0:25  activity-0:20  activity-0:15  \\\n",
       "id                                                                     \n",
       "p01_8459            NaN            NaN            NaN            NaN   \n",
       "p01_8460            NaN            NaN            NaN            NaN   \n",
       "p01_8461            NaN            NaN            NaN            NaN   \n",
       "p01_8462            NaN            NaN            NaN            NaN   \n",
       "p01_8463            NaN            NaN            NaN            NaN   \n",
       "\n",
       "          activity-0:10  activity-0:05  activity-0:00    bg+1:00  \n",
       "id                                                                \n",
       "p01_8459            NaN            NaN            NaN   8.203373  \n",
       "p01_8460           Walk           Walk           Walk   6.648585  \n",
       "p01_8461            NaN            NaN            NaN  10.763383  \n",
       "p01_8462            NaN            NaN            NaN  11.187094  \n",
       "p01_8463            NaN            NaN            NaN   6.830164  \n",
       "\n",
       "[5 rows x 507 columns]"
      ],
      "text/html": [
       "<div>\n",
       "<style scoped>\n",
       "    .dataframe tbody tr th:only-of-type {\n",
       "        vertical-align: middle;\n",
       "    }\n",
       "\n",
       "    .dataframe tbody tr th {\n",
       "        vertical-align: top;\n",
       "    }\n",
       "\n",
       "    .dataframe thead th {\n",
       "        text-align: right;\n",
       "    }\n",
       "</style>\n",
       "<table border=\"1\" class=\"dataframe\">\n",
       "  <thead>\n",
       "    <tr style=\"text-align: right;\">\n",
       "      <th></th>\n",
       "      <th>p_num</th>\n",
       "      <th>time</th>\n",
       "      <th>bg-5:55</th>\n",
       "      <th>bg-5:50</th>\n",
       "      <th>bg-5:45</th>\n",
       "      <th>bg-5:40</th>\n",
       "      <th>bg-5:35</th>\n",
       "      <th>bg-5:30</th>\n",
       "      <th>bg-5:25</th>\n",
       "      <th>bg-5:20</th>\n",
       "      <th>...</th>\n",
       "      <th>activity-0:40</th>\n",
       "      <th>activity-0:35</th>\n",
       "      <th>activity-0:30</th>\n",
       "      <th>activity-0:25</th>\n",
       "      <th>activity-0:20</th>\n",
       "      <th>activity-0:15</th>\n",
       "      <th>activity-0:10</th>\n",
       "      <th>activity-0:05</th>\n",
       "      <th>activity-0:00</th>\n",
       "      <th>bg+1:00</th>\n",
       "    </tr>\n",
       "    <tr>\n",
       "      <th>id</th>\n",
       "      <th></th>\n",
       "      <th></th>\n",
       "      <th></th>\n",
       "      <th></th>\n",
       "      <th></th>\n",
       "      <th></th>\n",
       "      <th></th>\n",
       "      <th></th>\n",
       "      <th></th>\n",
       "      <th></th>\n",
       "      <th></th>\n",
       "      <th></th>\n",
       "      <th></th>\n",
       "      <th></th>\n",
       "      <th></th>\n",
       "      <th></th>\n",
       "      <th></th>\n",
       "      <th></th>\n",
       "      <th></th>\n",
       "      <th></th>\n",
       "      <th></th>\n",
       "    </tr>\n",
       "  </thead>\n",
       "  <tbody>\n",
       "    <tr>\n",
       "      <th>p01_8459</th>\n",
       "      <td>p01</td>\n",
       "      <td>06:45:00</td>\n",
       "      <td>NaN</td>\n",
       "      <td>9.2</td>\n",
       "      <td>NaN</td>\n",
       "      <td>NaN</td>\n",
       "      <td>10.2</td>\n",
       "      <td>NaN</td>\n",
       "      <td>NaN</td>\n",
       "      <td>10.3</td>\n",
       "      <td>...</td>\n",
       "      <td>NaN</td>\n",
       "      <td>NaN</td>\n",
       "      <td>NaN</td>\n",
       "      <td>NaN</td>\n",
       "      <td>NaN</td>\n",
       "      <td>NaN</td>\n",
       "      <td>NaN</td>\n",
       "      <td>NaN</td>\n",
       "      <td>NaN</td>\n",
       "      <td>8.203373</td>\n",
       "    </tr>\n",
       "    <tr>\n",
       "      <th>p01_8460</th>\n",
       "      <td>p01</td>\n",
       "      <td>11:25:00</td>\n",
       "      <td>NaN</td>\n",
       "      <td>NaN</td>\n",
       "      <td>9.9</td>\n",
       "      <td>NaN</td>\n",
       "      <td>NaN</td>\n",
       "      <td>9.4</td>\n",
       "      <td>NaN</td>\n",
       "      <td>NaN</td>\n",
       "      <td>...</td>\n",
       "      <td>NaN</td>\n",
       "      <td>NaN</td>\n",
       "      <td>NaN</td>\n",
       "      <td>NaN</td>\n",
       "      <td>NaN</td>\n",
       "      <td>NaN</td>\n",
       "      <td>Walk</td>\n",
       "      <td>Walk</td>\n",
       "      <td>Walk</td>\n",
       "      <td>6.648585</td>\n",
       "    </tr>\n",
       "    <tr>\n",
       "      <th>p01_8461</th>\n",
       "      <td>p01</td>\n",
       "      <td>14:45:00</td>\n",
       "      <td>NaN</td>\n",
       "      <td>5.5</td>\n",
       "      <td>NaN</td>\n",
       "      <td>NaN</td>\n",
       "      <td>5.5</td>\n",
       "      <td>NaN</td>\n",
       "      <td>NaN</td>\n",
       "      <td>5.2</td>\n",
       "      <td>...</td>\n",
       "      <td>NaN</td>\n",
       "      <td>NaN</td>\n",
       "      <td>NaN</td>\n",
       "      <td>NaN</td>\n",
       "      <td>NaN</td>\n",
       "      <td>NaN</td>\n",
       "      <td>NaN</td>\n",
       "      <td>NaN</td>\n",
       "      <td>NaN</td>\n",
       "      <td>10.763383</td>\n",
       "    </tr>\n",
       "    <tr>\n",
       "      <th>p01_8462</th>\n",
       "      <td>p01</td>\n",
       "      <td>04:30:00</td>\n",
       "      <td>NaN</td>\n",
       "      <td>3.4</td>\n",
       "      <td>NaN</td>\n",
       "      <td>NaN</td>\n",
       "      <td>3.9</td>\n",
       "      <td>NaN</td>\n",
       "      <td>NaN</td>\n",
       "      <td>4.7</td>\n",
       "      <td>...</td>\n",
       "      <td>NaN</td>\n",
       "      <td>NaN</td>\n",
       "      <td>NaN</td>\n",
       "      <td>NaN</td>\n",
       "      <td>NaN</td>\n",
       "      <td>NaN</td>\n",
       "      <td>NaN</td>\n",
       "      <td>NaN</td>\n",
       "      <td>NaN</td>\n",
       "      <td>11.187094</td>\n",
       "    </tr>\n",
       "    <tr>\n",
       "      <th>p01_8463</th>\n",
       "      <td>p01</td>\n",
       "      <td>04:20:00</td>\n",
       "      <td>NaN</td>\n",
       "      <td>NaN</td>\n",
       "      <td>8.3</td>\n",
       "      <td>NaN</td>\n",
       "      <td>NaN</td>\n",
       "      <td>10.0</td>\n",
       "      <td>NaN</td>\n",
       "      <td>NaN</td>\n",
       "      <td>...</td>\n",
       "      <td>NaN</td>\n",
       "      <td>NaN</td>\n",
       "      <td>NaN</td>\n",
       "      <td>NaN</td>\n",
       "      <td>NaN</td>\n",
       "      <td>NaN</td>\n",
       "      <td>NaN</td>\n",
       "      <td>NaN</td>\n",
       "      <td>NaN</td>\n",
       "      <td>6.830164</td>\n",
       "    </tr>\n",
       "  </tbody>\n",
       "</table>\n",
       "<p>5 rows × 507 columns</p>\n",
       "</div>"
      ]
     },
     "execution_count": 10,
     "metadata": {},
     "output_type": "execute_result"
    }
   ],
   "execution_count": 10
  },
  {
   "metadata": {
    "ExecuteTime": {
     "end_time": "2024-11-27T10:50:58.627457Z",
     "start_time": "2024-11-27T10:50:58.621697Z"
    }
   },
   "cell_type": "code",
   "source": [
    "submission = pd.DataFrame(test_data['bg+1:00'])\n",
    "submission"
   ],
   "id": "5167875e1afa3ec1",
   "outputs": [
    {
     "data": {
      "text/plain": [
       "            bg+1:00\n",
       "id                 \n",
       "p01_8459   8.203373\n",
       "p01_8460   6.648585\n",
       "p01_8461  10.763383\n",
       "p01_8462  11.187094\n",
       "p01_8463   6.830164\n",
       "...             ...\n",
       "p24_256    6.336346\n",
       "p24_257   11.123459\n",
       "p24_258    6.238102\n",
       "p24_259    8.541835\n",
       "p24_260    6.016532\n",
       "\n",
       "[3644 rows x 1 columns]"
      ],
      "text/html": [
       "<div>\n",
       "<style scoped>\n",
       "    .dataframe tbody tr th:only-of-type {\n",
       "        vertical-align: middle;\n",
       "    }\n",
       "\n",
       "    .dataframe tbody tr th {\n",
       "        vertical-align: top;\n",
       "    }\n",
       "\n",
       "    .dataframe thead th {\n",
       "        text-align: right;\n",
       "    }\n",
       "</style>\n",
       "<table border=\"1\" class=\"dataframe\">\n",
       "  <thead>\n",
       "    <tr style=\"text-align: right;\">\n",
       "      <th></th>\n",
       "      <th>bg+1:00</th>\n",
       "    </tr>\n",
       "    <tr>\n",
       "      <th>id</th>\n",
       "      <th></th>\n",
       "    </tr>\n",
       "  </thead>\n",
       "  <tbody>\n",
       "    <tr>\n",
       "      <th>p01_8459</th>\n",
       "      <td>8.203373</td>\n",
       "    </tr>\n",
       "    <tr>\n",
       "      <th>p01_8460</th>\n",
       "      <td>6.648585</td>\n",
       "    </tr>\n",
       "    <tr>\n",
       "      <th>p01_8461</th>\n",
       "      <td>10.763383</td>\n",
       "    </tr>\n",
       "    <tr>\n",
       "      <th>p01_8462</th>\n",
       "      <td>11.187094</td>\n",
       "    </tr>\n",
       "    <tr>\n",
       "      <th>p01_8463</th>\n",
       "      <td>6.830164</td>\n",
       "    </tr>\n",
       "    <tr>\n",
       "      <th>...</th>\n",
       "      <td>...</td>\n",
       "    </tr>\n",
       "    <tr>\n",
       "      <th>p24_256</th>\n",
       "      <td>6.336346</td>\n",
       "    </tr>\n",
       "    <tr>\n",
       "      <th>p24_257</th>\n",
       "      <td>11.123459</td>\n",
       "    </tr>\n",
       "    <tr>\n",
       "      <th>p24_258</th>\n",
       "      <td>6.238102</td>\n",
       "    </tr>\n",
       "    <tr>\n",
       "      <th>p24_259</th>\n",
       "      <td>8.541835</td>\n",
       "    </tr>\n",
       "    <tr>\n",
       "      <th>p24_260</th>\n",
       "      <td>6.016532</td>\n",
       "    </tr>\n",
       "  </tbody>\n",
       "</table>\n",
       "<p>3644 rows × 1 columns</p>\n",
       "</div>"
      ]
     },
     "execution_count": 11,
     "metadata": {},
     "output_type": "execute_result"
    }
   ],
   "execution_count": 11
  },
  {
   "metadata": {
    "ExecuteTime": {
     "end_time": "2024-11-27T10:50:58.944483Z",
     "start_time": "2024-11-27T10:50:58.932766Z"
    }
   },
   "cell_type": "code",
   "source": "submission.to_csv(f'submission-{os.path.basename(os.getcwd())}.csv')",
   "id": "7b61741c1c7498d4",
   "outputs": [],
   "execution_count": 12
  },
  {
   "metadata": {
    "ExecuteTime": {
     "end_time": "2024-11-27T10:50:58.953479Z",
     "start_time": "2024-11-27T10:50:58.950636Z"
    }
   },
   "cell_type": "code",
   "source": "    ",
   "id": "ff56b64b83993e6c",
   "outputs": [],
   "execution_count": 12
  }
 ],
 "metadata": {
  "kernelspec": {
   "display_name": "Python 3",
   "language": "python",
   "name": "python3"
  },
  "language_info": {
   "codemirror_mode": {
    "name": "ipython",
    "version": 2
   },
   "file_extension": ".py",
   "mimetype": "text/x-python",
   "name": "python",
   "nbconvert_exporter": "python",
   "pygments_lexer": "ipython2",
   "version": "2.7.6"
  }
 },
 "nbformat": 4,
 "nbformat_minor": 5
}
