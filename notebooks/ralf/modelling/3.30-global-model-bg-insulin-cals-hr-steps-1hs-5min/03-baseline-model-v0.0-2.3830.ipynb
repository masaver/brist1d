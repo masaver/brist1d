{
 "cells": [
  {
   "metadata": {},
   "cell_type": "markdown",
   "source": "# Create a baseline model",
   "id": "c4f5fa4ffbc53369"
  },
  {
   "metadata": {
    "ExecuteTime": {
     "end_time": "2024-11-25T12:42:58.475211Z",
     "start_time": "2024-11-25T12:42:42.824736Z"
    }
   },
   "cell_type": "code",
   "source": [
    "import pandas as pd\n",
    "\n",
    "from data import load_data_selected_features\n",
    "\n",
    "train_data, additional_train_data, test_data = load_data_selected_features()"
   ],
   "id": "ed9cab10a4c9269",
   "outputs": [],
   "execution_count": 1
  },
  {
   "metadata": {
    "ExecuteTime": {
     "end_time": "2024-11-25T12:42:58.502269Z",
     "start_time": "2024-11-25T12:42:58.488431Z"
    }
   },
   "cell_type": "code",
   "source": "train_data.info()",
   "id": "af6bdd55ecd2a72b",
   "outputs": [
    {
     "name": "stdout",
     "output_type": "stream",
     "text": [
      "<class 'pandas.core.frame.DataFrame'>\n",
      "Index: 150996 entries, p01_0 to p12_25298\n",
      "Columns: 507 entries, p_num to bg+1:00\n",
      "dtypes: float64(433), object(74)\n",
      "memory usage: 585.2+ MB\n"
     ]
    }
   ],
   "execution_count": 2
  },
  {
   "metadata": {
    "ExecuteTime": {
     "end_time": "2024-11-25T12:42:58.632253Z",
     "start_time": "2024-11-25T12:42:58.621124Z"
    }
   },
   "cell_type": "code",
   "source": "additional_train_data.info()",
   "id": "e6efef1597276890",
   "outputs": [
    {
     "name": "stdout",
     "output_type": "stream",
     "text": [
      "<class 'pandas.core.frame.DataFrame'>\n",
      "Index: 168588 entries, p01_test_12 to p24_test_94938\n",
      "Columns: 507 entries, p_num to bg+1:00\n",
      "dtypes: float64(433), object(74)\n",
      "memory usage: 657.4+ MB\n"
     ]
    }
   ],
   "execution_count": 3
  },
  {
   "metadata": {
    "ExecuteTime": {
     "end_time": "2024-11-25T12:42:58.688199Z",
     "start_time": "2024-11-25T12:42:58.668009Z"
    }
   },
   "cell_type": "code",
   "source": "test_data.info()",
   "id": "16d75f6d697d8bc7",
   "outputs": [
    {
     "name": "stdout",
     "output_type": "stream",
     "text": [
      "<class 'pandas.core.frame.DataFrame'>\n",
      "Index: 3644 entries, p01_8459 to p24_260\n",
      "Columns: 506 entries, p_num to activity-0:00\n",
      "dtypes: float64(432), object(74)\n",
      "memory usage: 14.2+ MB\n"
     ]
    }
   ],
   "execution_count": 4
  },
  {
   "metadata": {},
   "cell_type": "markdown",
   "source": "# Prepare the data",
   "id": "fc5e077e5738d8eb"
  },
  {
   "metadata": {
    "ExecuteTime": {
     "end_time": "2024-11-25T12:43:44.498941Z",
     "start_time": "2024-11-25T12:42:58.707649Z"
    }
   },
   "cell_type": "code",
   "source": [
    "from pipelines_selected_features import pipeline\n",
    "\n",
    "all_train_data = pd.concat([train_data, additional_train_data], axis=0)\n",
    "all_train_data_transformed = pipeline.fit_transform(all_train_data)\n",
    "\n",
    "train_data_transformed = all_train_data_transformed[:len(train_data)]\n",
    "additional_train_data_transformed = all_train_data_transformed[len(train_data):]\n",
    "\n",
    "X_train = train_data_transformed.drop(columns=['bg+1:00'])\n",
    "y_train = train_data_transformed['bg+1:00']\n",
    "\n",
    "X_additional_train = additional_train_data_transformed.drop(columns=['bg+1:00'])\n",
    "y_additional_train = additional_train_data_transformed['bg+1:00']"
   ],
   "id": "c7df704ede80b62",
   "outputs": [],
   "execution_count": 5
  },
  {
   "metadata": {},
   "cell_type": "markdown",
   "source": "## Predict for validation data and check results",
   "id": "9b608adb90b0235e"
  },
  {
   "metadata": {
    "ExecuteTime": {
     "end_time": "2024-11-25T12:43:44.756016Z",
     "start_time": "2024-11-25T12:43:44.538337Z"
    }
   },
   "cell_type": "code",
   "source": [
    "from sklearn.neighbors import KNeighborsRegressor\n",
    "from xgboost import XGBRegressor\n",
    "from sklearn.ensemble import StackingRegressor, HistGradientBoostingRegressor\n",
    "from sklearn.linear_model import LassoLarsIC, Ridge\n",
    "\n",
    "hgb_base_model = HistGradientBoostingRegressor(max_iter=200, max_depth=5, learning_rate=0.1)\n",
    "lasso_lars_ic_base_model = LassoLarsIC(criterion='bic', max_iter=10000)\n",
    "knn_base_model = KNeighborsRegressor(n_neighbors=5)\n",
    "xgb_base_model = XGBRegressor(objective='reg:squarederror', random_state=42, n_estimators=500, max_depth=5, learning_rate=0.1)\n",
    "\n",
    "estimators = [\n",
    "    ('hgb', hgb_base_model),\n",
    "    ('lasso_lars_ic', lasso_lars_ic_base_model),\n",
    "    ('knn', knn_base_model),\n",
    "    ('xgb', xgb_base_model),\n",
    "]\n",
    "\n",
    "baseline_model = StackingRegressor(\n",
    "    estimators=estimators, \n",
    "    final_estimator=Ridge(alpha=0.1), n_jobs=-1, verbose=2)"
   ],
   "id": "7e0583e9ae957c2d",
   "outputs": [],
   "execution_count": 6
  },
  {
   "metadata": {
    "ExecuteTime": {
     "end_time": "2024-11-25T13:14:32.303257Z",
     "start_time": "2024-11-25T12:43:44.797833Z"
    }
   },
   "cell_type": "code",
   "source": [
    "from datetime import datetime\n",
    "import os\n",
    "from model_performance_calculations import calculate_stacking_regressor_performance, get_rmse_boxplot_chart, get_rmse_line_chart, save_performances, save_model\n",
    "\n",
    "date_time = datetime.now().strftime('%Y-%m-%d_%H-%M-%S')\n",
    "model_name = f'{date_time}-baseline-model'\n",
    "\n",
    "save_model(baseline_model, os.path.join('models', f'{model_name}.pkl'))\n",
    "\n",
    "performances = calculate_stacking_regressor_performance(baseline_model, X_train, y_train, X_additional_train, y_additional_train)\n",
    "save_performances(performances, os.path.join('models', f'{model_name}-performances.json'))\n",
    "\n",
    "get_rmse_boxplot_chart(performances).show()\n",
    "get_rmse_line_chart(performances).show()"
   ],
   "id": "c0be6db84ab0c1b0",
   "outputs": [
    {
     "name": "stdout",
     "output_type": "stream",
     "text": [
      "13:43:45 - 13:43:45 - Start training\n",
      "13:43:45 - 13:43:45 - Calculate performance for hgb\n",
      "13:43:45 - 13:43:45 - Splitting the additional train data with ShuffleSplit\n",
      "13:43:45 - 13:43:45 - Split 1 - Model: hgb\n",
      "13:43:45 - 13:43:45 - Fitting the model\n",
      "13:43:58 - 13:43:58 - Predicting\n",
      "13:43:58 - 13:43:58 - Calculating scores\n",
      "13:43:58 - 13:43:58 - R^2: 0.6178909558986059, RMSE: 2.0260555927583486, MAE: 1.5078447945976752, MSE: 4.104901264947383\n",
      "13:43:58 - 13:43:58 - Split 2 - Model: hgb\n",
      "13:43:58 - 13:43:58 - Fitting the model\n",
      "13:44:10 - 13:44:10 - Predicting\n",
      "13:44:10 - 13:44:10 - Calculating scores\n",
      "13:44:10 - 13:44:10 - R^2: 0.6130605075862727, RMSE: 2.042100419252268, MAE: 1.5206490129277512, MSE: 4.170174122310289\n",
      "13:44:10 - 13:44:10 - Split 3 - Model: hgb\n",
      "13:44:10 - 13:44:10 - Fitting the model\n",
      "13:44:23 - 13:44:23 - Predicting\n",
      "13:44:23 - 13:44:23 - Calculating scores\n",
      "13:44:23 - 13:44:23 - R^2: 0.6166632921357948, RMSE: 2.0120086573175224, MAE: 1.5040083969985818, MSE: 4.04817883712066\n",
      "13:44:23 - 13:44:23 - Split 4 - Model: hgb\n",
      "13:44:23 - 13:44:23 - Fitting the model\n",
      "13:44:36 - 13:44:36 - Predicting\n",
      "13:44:36 - 13:44:36 - Calculating scores\n",
      "13:44:36 - 13:44:36 - R^2: 0.6161566067651394, RMSE: 2.0368193723326553, MAE: 1.517928269325735, MSE: 4.148633155509592\n",
      "13:44:36 - 13:44:36 - Split 5 - Model: hgb\n",
      "13:44:36 - 13:44:36 - Fitting the model\n",
      "13:44:49 - 13:44:49 - Predicting\n",
      "13:44:49 - 13:44:49 - Calculating scores\n",
      "13:44:49 - 13:44:49 - R^2: 0.6069771154980445, RMSE: 2.0349318793263205, MAE: 1.5178347982640337, MSE: 4.14094775349855\n",
      "13:44:49 - 13:44:49 - Split 6 - Model: hgb\n",
      "13:44:49 - 13:44:49 - Fitting the model\n",
      "13:45:01 - 13:45:01 - Predicting\n",
      "13:45:01 - 13:45:01 - Calculating scores\n",
      "13:45:02 - 13:45:02 - R^2: 0.6120008455937865, RMSE: 2.028667418237675, MAE: 1.5121996287801747, MSE: 4.115491493819114\n",
      "13:45:02 - 13:45:02 - Split 7 - Model: hgb\n",
      "13:45:02 - 13:45:02 - Fitting the model\n",
      "13:45:14 - 13:45:14 - Predicting\n",
      "13:45:14 - 13:45:14 - Calculating scores\n",
      "13:45:14 - 13:45:14 - R^2: 0.6160901588140324, RMSE: 2.0240625822429608, MAE: 1.5019428947612732, MSE: 4.096829336836042\n",
      "13:45:14 - 13:45:14 - Split 8 - Model: hgb\n",
      "13:45:14 - 13:45:14 - Fitting the model\n",
      "13:45:26 - 13:45:26 - Predicting\n",
      "13:45:26 - 13:45:26 - Calculating scores\n",
      "13:45:26 - 13:45:26 - R^2: 0.6135104233207036, RMSE: 2.017954782881254, MAE: 1.5084931075781192, MSE: 4.072141505753329\n",
      "13:45:26 - 13:45:26 - Split 9 - Model: hgb\n",
      "13:45:27 - 13:45:27 - Fitting the model\n",
      "13:45:40 - 13:45:40 - Predicting\n",
      "13:45:40 - 13:45:40 - Calculating scores\n",
      "13:45:41 - 13:45:41 - R^2: 0.6093840974962874, RMSE: 2.0404378698904724, MAE: 1.5231487461930715, MSE: 4.163386700883168\n",
      "13:45:41 - 13:45:41 - Split 10 - Model: hgb\n",
      "13:45:41 - 13:45:41 - Fitting the model\n",
      "13:45:54 - 13:45:54 - Predicting\n",
      "13:45:55 - 13:45:55 - Calculating scores\n",
      "13:45:55 - 13:45:55 - R^2: 0.6113458874840021, RMSE: 2.039849664601346, MAE: 1.5252589786535955, MSE: 4.160986654174224\n",
      "13:45:55 - 13:45:55 - Training finished\n",
      "13:45:55 - 13:45:55 - Calculate performance for lasso_lars_ic\n",
      "13:45:55 - 13:45:55 - Splitting the additional train data with ShuffleSplit\n",
      "13:45:55 - 13:45:55 - Split 1 - Model: lasso_lars_ic\n",
      "13:45:55 - 13:45:55 - Fitting the model\n",
      "13:45:56 - 13:45:56 - Predicting\n",
      "13:45:56 - 13:45:56 - Calculating scores\n",
      "13:45:56 - 13:45:56 - R^2: 0.5503576772484813, RMSE: 2.197815796649851, MAE: 1.6471604371529227, MSE: 4.830394276003619\n",
      "13:45:56 - 13:45:56 - Split 2 - Model: lasso_lars_ic\n",
      "13:45:56 - 13:45:56 - Fitting the model\n",
      "13:45:57 - 13:45:57 - Predicting\n",
      "13:45:57 - 13:45:57 - Calculating scores\n",
      "13:45:57 - 13:45:57 - R^2: 0.5480858683989513, RMSE: 2.2069044316162327, MAE: 1.6619288099511695, MSE: 4.870427170287367\n",
      "13:45:57 - 13:45:57 - Split 3 - Model: lasso_lars_ic\n",
      "13:45:57 - 13:45:57 - Fitting the model\n",
      "13:45:58 - 13:45:58 - Predicting\n",
      "13:45:58 - 13:45:58 - Calculating scores\n",
      "13:45:58 - 13:45:58 - R^2: 0.550272570880973, RMSE: 2.1792865013523994, MAE: 1.6389369758547945, MSE: 4.749289654976781\n",
      "13:45:58 - 13:45:58 - Split 4 - Model: lasso_lars_ic\n",
      "13:45:58 - 13:45:58 - Fitting the model\n",
      "13:46:00 - 13:46:00 - Predicting\n",
      "13:46:00 - 13:46:00 - Calculating scores\n",
      "13:46:00 - 13:46:00 - R^2: 0.5494760736135993, RMSE: 2.2066548658869993, MAE: 1.6611286513872114, MSE: 4.86932569714277\n",
      "13:46:00 - 13:46:00 - Split 5 - Model: lasso_lars_ic\n",
      "13:46:00 - 13:46:00 - Fitting the model\n",
      "13:46:01 - 13:46:01 - Predicting\n",
      "13:46:01 - 13:46:01 - Calculating scores\n",
      "13:46:01 - 13:46:01 - R^2: 0.5405373298880563, RMSE: 2.200219818125307, MAE: 1.6550581014822132, MSE: 4.840967248071359\n",
      "13:46:01 - 13:46:01 - Split 6 - Model: lasso_lars_ic\n",
      "13:46:01 - 13:46:01 - Fitting the model\n",
      "13:46:02 - 13:46:02 - Predicting\n",
      "13:46:02 - 13:46:02 - Calculating scores\n",
      "13:46:02 - 13:46:02 - R^2: 0.5425773792145372, RMSE: 2.2026945820342747, MAE: 1.6583851585403935, MSE: 4.851863421723148\n",
      "13:46:02 - 13:46:02 - Split 7 - Model: lasso_lars_ic\n",
      "13:46:02 - 13:46:02 - Fitting the model\n",
      "13:46:03 - 13:46:03 - Predicting\n",
      "13:46:03 - 13:46:03 - Calculating scores\n",
      "13:46:03 - 13:46:03 - R^2: 0.5478583181306195, RMSE: 2.196577782653736, MAE: 1.6458302322665006, MSE: 4.824953955248004\n",
      "13:46:03 - 13:46:03 - Split 8 - Model: lasso_lars_ic\n",
      "13:46:03 - 13:46:03 - Fitting the model\n",
      "13:46:05 - 13:46:05 - Predicting\n",
      "13:46:05 - 13:46:05 - Calculating scores\n",
      "13:46:05 - 13:46:05 - R^2: 0.5447581581519496, RMSE: 2.19009837812962, MAE: 1.6504356730589305, MSE: 4.796530905885991\n",
      "13:46:05 - 13:46:05 - Split 9 - Model: lasso_lars_ic\n",
      "13:46:05 - 13:46:05 - Fitting the model\n",
      "13:46:06 - 13:46:06 - Predicting\n",
      "13:46:06 - 13:46:06 - Calculating scores\n",
      "13:46:06 - 13:46:06 - R^2: 0.5395495158391292, RMSE: 2.2153374143778857, MAE: 1.6612896476598673, MSE: 4.907719859542496\n",
      "13:46:06 - 13:46:06 - Split 10 - Model: lasso_lars_ic\n",
      "13:46:06 - 13:46:06 - Fitting the model\n",
      "13:46:07 - 13:46:07 - Predicting\n",
      "13:46:07 - 13:46:07 - Calculating scores\n",
      "13:46:07 - 13:46:07 - R^2: 0.5469710710247033, RMSE: 2.2023152974328744, MAE: 1.6591224133355325, MSE: 4.85019266930685\n",
      "13:46:07 - 13:46:07 - Training finished\n",
      "13:46:07 - 13:46:07 - Calculate performance for knn\n",
      "13:46:07 - 13:46:07 - Splitting the additional train data with ShuffleSplit\n",
      "13:46:07 - 13:46:07 - Split 1 - Model: knn\n",
      "13:46:07 - 13:46:07 - Fitting the model\n",
      "13:46:07 - 13:46:07 - Predicting\n",
      "13:46:17 - 13:46:17 - Calculating scores\n",
      "13:46:27 - 13:46:27 - R^2: 0.5861675872638137, RMSE: 2.1084822569428217, MAE: 1.4492767068034877, MSE: 4.445697427842695\n",
      "13:46:27 - 13:46:27 - Split 2 - Model: knn\n",
      "13:46:27 - 13:46:27 - Fitting the model\n",
      "13:46:27 - 13:46:27 - Predicting\n",
      "13:46:36 - 13:46:36 - Calculating scores\n",
      "13:46:46 - 13:46:46 - R^2: 0.5807738562489106, RMSE: 2.125591206824066, MAE: 1.4628966130849992, MSE: 4.518137978527789\n",
      "13:46:46 - 13:46:46 - Split 3 - Model: knn\n",
      "13:46:46 - 13:46:46 - Fitting the model\n",
      "13:46:47 - 13:46:47 - Predicting\n",
      "13:46:57 - 13:46:57 - Calculating scores\n",
      "13:47:09 - 13:47:09 - R^2: 0.5829654984857177, RMSE: 2.098580502735276, MAE: 1.4412031555845541, MSE: 4.404040126460645\n",
      "13:47:09 - 13:47:09 - Split 4 - Model: knn\n",
      "13:47:09 - 13:47:09 - Fitting the model\n",
      "13:47:09 - 13:47:09 - Predicting\n",
      "13:47:19 - 13:47:19 - Calculating scores\n",
      "13:47:29 - 13:47:29 - R^2: 0.585291028293391, RMSE: 2.1171283973087287, MAE: 1.4563268877157602, MSE: 4.482232650691026\n",
      "13:47:29 - 13:47:29 - Split 5 - Model: knn\n",
      "13:47:29 - 13:47:29 - Fitting the model\n",
      "13:47:29 - 13:47:29 - Predicting\n",
      "13:47:39 - 13:47:39 - Calculating scores\n",
      "13:47:49 - 13:47:49 - R^2: 0.58483230512719, RMSE: 2.0914752639611955, MAE: 1.4414328845127231, MSE: 4.374268779761552\n",
      "13:47:49 - 13:47:49 - Split 6 - Model: knn\n",
      "13:47:49 - 13:47:49 - Fitting the model\n",
      "13:47:49 - 13:47:49 - Predicting\n",
      "13:48:00 - 13:48:00 - Calculating scores\n",
      "13:48:09 - 13:48:09 - R^2: 0.5831717069942541, RMSE: 2.1026842398504755, MAE: 1.4422464558989263, MSE: 4.421281012515571\n",
      "13:48:09 - 13:48:09 - Split 7 - Model: knn\n",
      "13:48:09 - 13:48:09 - Fitting the model\n",
      "13:48:10 - 13:48:10 - Predicting\n",
      "13:48:19 - 13:48:19 - Calculating scores\n",
      "13:48:29 - 13:48:29 - R^2: 0.5878827744112984, RMSE: 2.0971026913256963, MAE: 1.4424325286197284, MSE: 4.397839697965479\n",
      "13:48:29 - 13:48:29 - Split 8 - Model: knn\n",
      "13:48:29 - 13:48:29 - Fitting the model\n",
      "13:48:30 - 13:48:30 - Predicting\n",
      "13:48:39 - 13:48:39 - Calculating scores\n",
      "13:48:49 - 13:48:49 - R^2: 0.5878923773618292, RMSE: 2.0837607891206624, MAE: 1.4385353816952369, MSE: 4.342059026276766\n",
      "13:48:49 - 13:48:49 - Split 9 - Model: knn\n",
      "13:48:49 - 13:48:49 - Fitting the model\n",
      "13:48:49 - 13:48:49 - Predicting\n",
      "13:48:59 - 13:48:59 - Calculating scores\n",
      "13:49:08 - 13:49:08 - R^2: 0.5800103991555412, RMSE: 2.115766243908136, MAE: 1.4581647191411113, MSE: 4.476466798861142\n",
      "13:49:08 - 13:49:08 - Split 10 - Model: knn\n",
      "13:49:08 - 13:49:08 - Fitting the model\n",
      "13:49:09 - 13:49:09 - Predicting\n",
      "13:49:18 - 13:49:18 - Calculating scores\n",
      "13:49:28 - 13:49:28 - R^2: 0.5849658613144313, RMSE: 2.1079409376777254, MAE: 1.4480522569547425, MSE: 4.443414996737648\n",
      "13:49:28 - 13:49:28 - Training finished\n",
      "13:49:28 - 13:49:28 - Calculate performance for xgb\n",
      "13:49:28 - 13:49:28 - Splitting the additional train data with ShuffleSplit\n",
      "13:49:28 - 13:49:28 - Split 1 - Model: xgb\n",
      "13:49:28 - 13:49:28 - Fitting the model\n",
      "13:49:37 - 13:49:37 - Predicting\n",
      "13:49:37 - 13:49:37 - Calculating scores\n",
      "13:49:37 - 13:49:37 - R^2: 0.6425520086531167, RMSE: 1.9595851049694402, MAE: 1.456686917977356, MSE: 3.8399737836180914\n",
      "13:49:37 - 13:49:37 - Split 2 - Model: xgb\n",
      "13:49:38 - 13:49:38 - Fitting the model\n",
      "13:49:46 - 13:49:46 - Predicting\n",
      "13:49:47 - 13:49:47 - Calculating scores\n",
      "13:49:47 - 13:49:47 - R^2: 0.637755378589864, RMSE: 1.9758616800447983, MAE: 1.4715929169617794, MSE: 3.904029378669453\n",
      "13:49:47 - 13:49:47 - Split 3 - Model: xgb\n",
      "13:49:47 - 13:49:47 - Fitting the model\n",
      "13:49:56 - 13:49:56 - Predicting\n",
      "13:49:56 - 13:49:56 - Calculating scores\n",
      "13:49:56 - 13:49:56 - R^2: 0.6391255913665361, RMSE: 1.9521702195409691, MAE: 1.4554794873144217, MSE: 3.8109685660626353\n",
      "13:49:56 - 13:49:56 - Split 4 - Model: xgb\n",
      "13:49:56 - 13:49:56 - Fitting the model\n",
      "13:50:05 - 13:50:05 - Predicting\n",
      "13:50:05 - 13:50:05 - Calculating scores\n",
      "13:50:05 - 13:50:05 - R^2: 0.6374674454182309, RMSE: 1.9794702893787177, MAE: 1.4746803126088226, MSE: 3.9183026265330643\n",
      "13:50:05 - 13:50:05 - Split 5 - Model: xgb\n",
      "13:50:05 - 13:50:05 - Fitting the model\n",
      "13:50:14 - 13:50:14 - Predicting\n",
      "13:50:14 - 13:50:14 - Calculating scores\n",
      "13:50:14 - 13:50:14 - R^2: 0.6332793903855662, RMSE: 1.9656609729957428, MAE: 1.4643834018415953, MSE: 3.8638230607585706\n",
      "13:50:14 - 13:50:14 - Split 6 - Model: xgb\n",
      "13:50:14 - 13:50:14 - Fitting the model\n",
      "13:50:23 - 13:50:23 - Predicting\n",
      "13:50:23 - 13:50:23 - Calculating scores\n",
      "13:50:23 - 13:50:23 - R^2: 0.6357133350198676, RMSE: 1.9656993839382686, MAE: 1.461572440519785, MSE: 3.8639740680152883\n",
      "13:50:23 - 13:50:23 - Split 7 - Model: xgb\n",
      "13:50:23 - 13:50:23 - Fitting the model\n",
      "13:50:32 - 13:50:32 - Predicting\n",
      "13:50:32 - 13:50:32 - Calculating scores\n",
      "13:50:32 - 13:50:32 - R^2: 0.6416488151921351, RMSE: 1.9555266379119314, MAE: 1.4496953942488788, MSE: 3.8240844315831417\n",
      "13:50:32 - 13:50:32 - Split 8 - Model: xgb\n",
      "13:50:32 - 13:50:32 - Fitting the model\n",
      "13:50:41 - 13:50:41 - Predicting\n",
      "13:50:41 - 13:50:41 - Calculating scores\n",
      "13:50:42 - 13:50:42 - R^2: 0.6364211345637285, RMSE: 1.9572299495736663, MAE: 1.4609606657670806, MSE: 3.8307490755081357\n",
      "13:50:42 - 13:50:42 - Split 9 - Model: xgb\n",
      "13:50:42 - 13:50:42 - Fitting the model\n",
      "13:50:50 - 13:50:50 - Predicting\n",
      "13:50:50 - 13:50:50 - Calculating scores\n",
      "13:50:51 - 13:50:51 - R^2: 0.6358145524146447, RMSE: 1.97019725318326, MAE: 1.4708349505468679, MSE: 3.881677216450863\n",
      "13:50:51 - 13:50:51 - Split 10 - Model: xgb\n",
      "13:50:51 - 13:50:51 - Fitting the model\n",
      "13:50:59 - 13:50:59 - Predicting\n",
      "13:50:59 - 13:50:59 - Calculating scores\n",
      "13:50:59 - 13:50:59 - R^2: 0.6359965495438022, RMSE: 1.9741005880470726, MAE: 1.4733491433583885, MSE: 3.8970731317277973\n",
      "13:50:59 - 13:50:59 - Training finished\n",
      "13:50:59 - 13:50:59 - Calculate performance for final_estimator\n",
      "13:50:59 - 13:50:59 - Splitting the additional train data with ShuffleSplit\n",
      "13:50:59 - 13:50:59 - Split 1 - Model: final_estimator\n",
      "13:50:59 - 13:50:59 - Fitting the model\n",
      "13:50:59 - 13:50:59 - Predicting\n",
      "13:50:59 - 13:50:59 - Calculating scores\n",
      "13:50:59 - 13:50:59 - R^2: 0.550473788739431, RMSE: 2.197532006476215, MAE: 1.6465811248386755, MSE: 4.829146919487378\n",
      "13:50:59 - 13:50:59 - Split 2 - Model: final_estimator\n",
      "13:50:59 - 13:50:59 - Fitting the model\n",
      "13:50:59 - 13:50:59 - Predicting\n",
      "13:50:59 - 13:50:59 - Calculating scores\n",
      "13:50:59 - 13:50:59 - R^2: 0.5482085682464537, RMSE: 2.20660481139947, MAE: 1.6617115145586885, MSE: 4.86910479369129\n",
      "13:50:59 - 13:50:59 - Split 3 - Model: final_estimator\n",
      "13:50:59 - 13:50:59 - Fitting the model\n",
      "13:51:00 - 13:51:00 - Predicting\n",
      "13:51:00 - 13:51:00 - Calculating scores\n",
      "13:51:00 - 13:51:00 - R^2: 0.550620721907582, RMSE: 2.1784428039491734, MAE: 1.6382008202753364, MSE: 4.745613050077937\n",
      "13:51:00 - 13:51:00 - Split 4 - Model: final_estimator\n",
      "13:51:00 - 13:51:00 - Fitting the model\n",
      "13:51:00 - 13:51:00 - Predicting\n",
      "13:51:00 - 13:51:00 - Calculating scores\n",
      "13:51:00 - 13:51:00 - R^2: 0.5496595325955267, RMSE: 2.206205531397898, MAE: 1.6608642027911178, MSE: 4.867342846770682\n",
      "13:51:00 - 13:51:00 - Split 5 - Model: final_estimator\n",
      "13:51:00 - 13:51:00 - Fitting the model\n",
      "13:51:00 - 13:51:00 - Predicting\n",
      "13:51:00 - 13:51:00 - Calculating scores\n",
      "13:51:00 - 13:51:00 - R^2: 0.5406535457617223, RMSE: 2.199941540197377, MAE: 1.654461379704588, MSE: 4.839742780286007\n",
      "13:51:00 - 13:51:00 - Split 6 - Model: final_estimator\n",
      "13:51:00 - 13:51:00 - Fitting the model\n",
      "13:51:01 - 13:51:01 - Predicting\n",
      "13:51:01 - 13:51:01 - Calculating scores\n",
      "13:51:01 - 13:51:01 - R^2: 0.542715191626846, RMSE: 2.2023627428251515, MAE: 1.6580385992416826, MSE: 4.850401650984324\n",
      "13:51:01 - 13:51:01 - Split 7 - Model: final_estimator\n",
      "13:51:01 - 13:51:01 - Fitting the model\n",
      "13:51:01 - 13:51:01 - Predicting\n",
      "13:51:01 - 13:51:01 - Calculating scores\n",
      "13:51:01 - 13:51:01 - R^2: 0.548025946828326, RMSE: 2.196170561176431, MAE: 1.6454716186009783, MSE: 4.823165133778001\n",
      "13:51:01 - 13:51:01 - Split 8 - Model: final_estimator\n",
      "13:51:01 - 13:51:01 - Fitting the model\n",
      "13:51:01 - 13:51:01 - Predicting\n",
      "13:51:01 - 13:51:01 - Calculating scores\n",
      "13:51:01 - 13:51:01 - R^2: 0.5448189984123213, RMSE: 2.1899520266791432, MAE: 1.6502532046872724, MSE: 4.795889879156087\n",
      "13:51:01 - 13:51:01 - Split 9 - Model: final_estimator\n",
      "13:51:01 - 13:51:01 - Fitting the model\n",
      "13:51:01 - 13:51:01 - Predicting\n",
      "13:51:01 - 13:51:01 - Calculating scores\n",
      "13:51:01 - 13:51:01 - R^2: 0.5396063516295904, RMSE: 2.2152006848672214, MAE: 1.6606796136157036, MSE: 4.9071140742362065\n",
      "13:51:01 - 13:51:01 - Split 10 - Model: final_estimator\n",
      "13:51:01 - 13:51:01 - Fitting the model\n",
      "13:51:02 - 13:51:02 - Predicting\n",
      "13:51:02 - 13:51:02 - Calculating scores\n",
      "13:51:02 - 13:51:02 - R^2: 0.5470600950349607, RMSE: 2.2020989000244042, MAE: 1.6586747590083335, MSE: 4.84923956548869\n",
      "13:51:02 - 13:51:02 - Training finished\n",
      "13:51:02 - 13:51:02 - Calculate performance for stacking_regressor\n",
      "13:51:02 - 13:51:02 - Splitting the additional train data with ShuffleSplit\n",
      "13:51:02 - 13:51:02 - Split 1 - Model: stacking_regressor\n",
      "13:51:02 - 13:51:02 - Fitting the model\n"
     ]
    },
    {
     "name": "stderr",
     "output_type": "stream",
     "text": [
      "[Parallel(n_jobs=-1)]: Using backend ThreadingBackend with 8 concurrent workers.\n",
      "[Parallel(n_jobs=-1)]: Using backend ThreadingBackend with 8 concurrent workers.\n",
      "[Parallel(n_jobs=-1)]: Using backend ThreadingBackend with 8 concurrent workers.\n",
      "[Parallel(n_jobs=-1)]: Using backend ThreadingBackend with 8 concurrent workers.\n",
      "[Parallel(n_jobs=-1)]: Done   2 out of   5 | elapsed:   17.0s remaining:   25.5s\n",
      "[Parallel(n_jobs=-1)]: Done   5 out of   5 | elapsed:   17.3s finished\n",
      "[Parallel(n_jobs=-1)]: Done   2 out of   5 | elapsed:   54.2s remaining:  1.4min\n",
      "[Parallel(n_jobs=-1)]: Done   5 out of   5 | elapsed:   55.0s finished\n",
      "[Parallel(n_jobs=-1)]: Done   2 out of   5 | elapsed:   55.4s remaining:  1.4min\n",
      "[Parallel(n_jobs=-1)]: Done   5 out of   5 | elapsed:   55.8s finished\n",
      "[Parallel(n_jobs=-1)]: Done   2 out of   5 | elapsed:  1.5min remaining:  2.3min\n",
      "[Parallel(n_jobs=-1)]: Done   5 out of   5 | elapsed:  1.5min finished\n"
     ]
    },
    {
     "name": "stdout",
     "output_type": "stream",
     "text": [
      "13:52:58 - 13:52:58 - Predicting\n",
      "13:53:07 - 13:53:07 - Calculating scores\n",
      "13:53:17 - 13:53:17 - R^2: 0.6645378806889741, RMSE: 1.8983637942379148, MAE: 1.3933424171637472, MSE: 3.603785095273372\n",
      "13:53:17 - 13:53:17 - Split 2 - Model: stacking_regressor\n",
      "13:53:17 - 13:53:17 - Fitting the model\n"
     ]
    },
    {
     "name": "stderr",
     "output_type": "stream",
     "text": [
      "[Parallel(n_jobs=-1)]: Using backend ThreadingBackend with 8 concurrent workers.\n",
      "[Parallel(n_jobs=-1)]: Using backend ThreadingBackend with 8 concurrent workers.\n",
      "[Parallel(n_jobs=-1)]: Using backend ThreadingBackend with 8 concurrent workers.\n",
      "[Parallel(n_jobs=-1)]: Using backend ThreadingBackend with 8 concurrent workers.\n",
      "[Parallel(n_jobs=-1)]: Done   2 out of   5 | elapsed:   16.1s remaining:   24.2s\n",
      "[Parallel(n_jobs=-1)]: Done   5 out of   5 | elapsed:   16.4s finished\n",
      "[Parallel(n_jobs=-1)]: Done   2 out of   5 | elapsed:   55.1s remaining:  1.4min\n",
      "[Parallel(n_jobs=-1)]: Done   5 out of   5 | elapsed:   55.8s finished\n",
      "[Parallel(n_jobs=-1)]: Done   2 out of   5 | elapsed:   56.2s remaining:  1.4min\n",
      "[Parallel(n_jobs=-1)]: Done   5 out of   5 | elapsed:   56.5s finished\n",
      "[Parallel(n_jobs=-1)]: Done   2 out of   5 | elapsed:  1.5min remaining:  2.3min\n",
      "[Parallel(n_jobs=-1)]: Done   5 out of   5 | elapsed:  1.5min finished\n"
     ]
    },
    {
     "name": "stdout",
     "output_type": "stream",
     "text": [
      "13:55:11 - 13:55:11 - Predicting\n",
      "13:55:21 - 13:55:21 - Calculating scores\n",
      "13:55:30 - 13:55:30 - R^2: 0.6595206743770159, RMSE: 1.9155828434920399, MAE: 1.4101343162058955, MSE: 3.6694576302810487\n",
      "13:55:30 - 13:55:30 - Split 3 - Model: stacking_regressor\n",
      "13:55:30 - 13:55:30 - Fitting the model\n"
     ]
    },
    {
     "name": "stderr",
     "output_type": "stream",
     "text": [
      "[Parallel(n_jobs=-1)]: Using backend ThreadingBackend with 8 concurrent workers.\n",
      "[Parallel(n_jobs=-1)]: Using backend ThreadingBackend with 8 concurrent workers.\n",
      "[Parallel(n_jobs=-1)]: Using backend ThreadingBackend with 8 concurrent workers.\n",
      "[Parallel(n_jobs=-1)]: Using backend ThreadingBackend with 8 concurrent workers.\n",
      "[Parallel(n_jobs=-1)]: Done   2 out of   5 | elapsed:   18.5s remaining:   27.7s\n",
      "[Parallel(n_jobs=-1)]: Done   5 out of   5 | elapsed:   18.7s finished\n",
      "[Parallel(n_jobs=-1)]: Done   2 out of   5 | elapsed:   56.0s remaining:  1.4min\n",
      "[Parallel(n_jobs=-1)]: Done   5 out of   5 | elapsed:   56.7s finished\n",
      "[Parallel(n_jobs=-1)]: Done   2 out of   5 | elapsed:   56.1s remaining:  1.4min\n",
      "[Parallel(n_jobs=-1)]: Done   5 out of   5 | elapsed:   56.6s finished\n",
      "[Parallel(n_jobs=-1)]: Done   2 out of   5 | elapsed:  1.5min remaining:  2.3min\n",
      "[Parallel(n_jobs=-1)]: Done   5 out of   5 | elapsed:  1.6min finished\n"
     ]
    },
    {
     "name": "stdout",
     "output_type": "stream",
     "text": [
      "13:57:26 - 13:57:26 - Predicting\n",
      "13:57:35 - 13:57:35 - Calculating scores\n",
      "13:57:45 - 13:57:45 - R^2: 0.6617909562623467, RMSE: 1.8898713833810963, MAE: 1.3900074893678949, MSE: 3.5716138457227786\n",
      "13:57:45 - 13:57:45 - Split 4 - Model: stacking_regressor\n",
      "13:57:45 - 13:57:45 - Fitting the model\n"
     ]
    },
    {
     "name": "stderr",
     "output_type": "stream",
     "text": [
      "[Parallel(n_jobs=-1)]: Using backend ThreadingBackend with 8 concurrent workers.\n",
      "[Parallel(n_jobs=-1)]: Using backend ThreadingBackend with 8 concurrent workers.\n",
      "[Parallel(n_jobs=-1)]: Using backend ThreadingBackend with 8 concurrent workers.\n",
      "[Parallel(n_jobs=-1)]: Using backend ThreadingBackend with 8 concurrent workers.\n",
      "[Parallel(n_jobs=-1)]: Done   2 out of   5 | elapsed:   24.5s remaining:   36.8s\n",
      "[Parallel(n_jobs=-1)]: Done   5 out of   5 | elapsed:   24.8s finished\n",
      "[Parallel(n_jobs=-1)]: Done   2 out of   5 | elapsed:  1.0min remaining:  1.5min\n",
      "[Parallel(n_jobs=-1)]: Done   5 out of   5 | elapsed:  1.0min finished\n",
      "[Parallel(n_jobs=-1)]: Done   2 out of   5 | elapsed:  1.1min remaining:  1.6min\n",
      "[Parallel(n_jobs=-1)]: Done   5 out of   5 | elapsed:  1.1min finished\n",
      "[Parallel(n_jobs=-1)]: Done   2 out of   5 | elapsed:  1.7min remaining:  2.5min\n",
      "[Parallel(n_jobs=-1)]: Done   5 out of   5 | elapsed:  1.7min finished\n"
     ]
    },
    {
     "name": "stdout",
     "output_type": "stream",
     "text": [
      "13:59:48 - 13:59:48 - Predicting\n",
      "13:59:58 - 13:59:58 - Calculating scores\n",
      "14:00:09 - 14:00:09 - R^2: 0.6602609665758186, RMSE: 1.916232516523553, MAE: 1.410938192561965, MSE: 3.6719470573821886\n",
      "14:00:09 - 14:00:09 - Split 5 - Model: stacking_regressor\n",
      "14:00:09 - 14:00:09 - Fitting the model\n"
     ]
    },
    {
     "name": "stderr",
     "output_type": "stream",
     "text": [
      "[Parallel(n_jobs=-1)]: Using backend ThreadingBackend with 8 concurrent workers.\n",
      "[Parallel(n_jobs=-1)]: Using backend ThreadingBackend with 8 concurrent workers.\n",
      "[Parallel(n_jobs=-1)]: Using backend ThreadingBackend with 8 concurrent workers.\n",
      "[Parallel(n_jobs=-1)]: Using backend ThreadingBackend with 8 concurrent workers.\n",
      "[Parallel(n_jobs=-1)]: Done   2 out of   5 | elapsed:   22.0s remaining:   33.0s\n",
      "[Parallel(n_jobs=-1)]: Done   5 out of   5 | elapsed:   22.4s finished\n",
      "[Parallel(n_jobs=-1)]: Done   2 out of   5 | elapsed:  1.0min remaining:  1.5min\n",
      "[Parallel(n_jobs=-1)]: Done   5 out of   5 | elapsed:  1.0min finished\n",
      "[Parallel(n_jobs=-1)]: Done   2 out of   5 | elapsed:  1.0min remaining:  1.5min\n",
      "[Parallel(n_jobs=-1)]: Done   5 out of   5 | elapsed:  1.0min finished\n",
      "[Parallel(n_jobs=-1)]: Done   2 out of   5 | elapsed:  1.7min remaining:  2.6min\n",
      "[Parallel(n_jobs=-1)]: Done   5 out of   5 | elapsed:  1.7min finished\n"
     ]
    },
    {
     "name": "stdout",
     "output_type": "stream",
     "text": [
      "14:02:14 - 14:02:14 - Predicting\n",
      "14:02:25 - 14:02:25 - Calculating scores\n",
      "14:02:35 - 14:02:35 - R^2: 0.6565264363899841, RMSE: 1.9023376975178024, MAE: 1.4011948750091334, MSE: 3.618888715397334\n",
      "14:02:35 - 14:02:35 - Split 6 - Model: stacking_regressor\n",
      "14:02:35 - 14:02:35 - Fitting the model\n"
     ]
    },
    {
     "name": "stderr",
     "output_type": "stream",
     "text": [
      "[Parallel(n_jobs=-1)]: Using backend ThreadingBackend with 8 concurrent workers.\n",
      "[Parallel(n_jobs=-1)]: Using backend ThreadingBackend with 8 concurrent workers.\n",
      "[Parallel(n_jobs=-1)]: Using backend ThreadingBackend with 8 concurrent workers.\n",
      "[Parallel(n_jobs=-1)]: Using backend ThreadingBackend with 8 concurrent workers.\n",
      "[Parallel(n_jobs=-1)]: Done   2 out of   5 | elapsed:   26.2s remaining:   39.2s\n",
      "[Parallel(n_jobs=-1)]: Done   5 out of   5 | elapsed:   26.4s finished\n",
      "[Parallel(n_jobs=-1)]: Done   2 out of   5 | elapsed:  1.0min remaining:  1.5min\n",
      "[Parallel(n_jobs=-1)]: Done   5 out of   5 | elapsed:  1.0min finished\n",
      "[Parallel(n_jobs=-1)]: Done   2 out of   5 | elapsed:  1.1min remaining:  1.6min\n",
      "[Parallel(n_jobs=-1)]: Done   5 out of   5 | elapsed:  1.1min finished\n",
      "[Parallel(n_jobs=-1)]: Done   2 out of   5 | elapsed:  1.7min remaining:  2.5min\n",
      "[Parallel(n_jobs=-1)]: Done   5 out of   5 | elapsed:  1.7min finished\n"
     ]
    },
    {
     "name": "stdout",
     "output_type": "stream",
     "text": [
      "14:04:41 - 14:04:41 - Predicting\n",
      "14:04:51 - 14:04:51 - Calculating scores\n",
      "14:05:01 - 14:05:01 - R^2: 0.6577763561230673, RMSE: 1.9052434192672743, MAE: 1.39943053477269, MSE: 3.6299524866612543\n",
      "14:05:01 - 14:05:01 - Split 7 - Model: stacking_regressor\n",
      "14:05:01 - 14:05:01 - Fitting the model\n"
     ]
    },
    {
     "name": "stderr",
     "output_type": "stream",
     "text": [
      "[Parallel(n_jobs=-1)]: Using backend ThreadingBackend with 8 concurrent workers.\n",
      "[Parallel(n_jobs=-1)]: Using backend ThreadingBackend with 8 concurrent workers.\n",
      "[Parallel(n_jobs=-1)]: Using backend ThreadingBackend with 8 concurrent workers.\n",
      "[Parallel(n_jobs=-1)]: Using backend ThreadingBackend with 8 concurrent workers.\n",
      "[Parallel(n_jobs=-1)]: Done   2 out of   5 | elapsed:   17.8s remaining:   26.7s\n",
      "[Parallel(n_jobs=-1)]: Done   5 out of   5 | elapsed:   23.0s finished\n",
      "[Parallel(n_jobs=-1)]: Done   2 out of   5 | elapsed:  1.0min remaining:  1.6min\n",
      "[Parallel(n_jobs=-1)]: Done   5 out of   5 | elapsed:  1.1min finished\n",
      "[Parallel(n_jobs=-1)]: Done   2 out of   5 | elapsed:  1.1min remaining:  1.6min\n",
      "[Parallel(n_jobs=-1)]: Done   5 out of   5 | elapsed:  1.1min finished\n",
      "[Parallel(n_jobs=-1)]: Done   2 out of   5 | elapsed:  1.6min remaining:  2.4min\n",
      "[Parallel(n_jobs=-1)]: Done   5 out of   5 | elapsed:  1.6min finished\n"
     ]
    },
    {
     "name": "stdout",
     "output_type": "stream",
     "text": [
      "14:07:02 - 14:07:02 - Predicting\n",
      "14:07:12 - 14:07:12 - Calculating scores\n",
      "14:07:22 - 14:07:22 - R^2: 0.663921767799333, RMSE: 1.8937799137731408, MAE: 1.3884588049279434, MSE: 3.5864023618106047\n",
      "14:07:22 - 14:07:22 - Split 8 - Model: stacking_regressor\n",
      "14:07:22 - 14:07:22 - Fitting the model\n"
     ]
    },
    {
     "name": "stderr",
     "output_type": "stream",
     "text": [
      "[Parallel(n_jobs=-1)]: Using backend ThreadingBackend with 8 concurrent workers.\n",
      "[Parallel(n_jobs=-1)]: Using backend ThreadingBackend with 8 concurrent workers.\n",
      "[Parallel(n_jobs=-1)]: Using backend ThreadingBackend with 8 concurrent workers.\n",
      "[Parallel(n_jobs=-1)]: Using backend ThreadingBackend with 8 concurrent workers.\n",
      "[Parallel(n_jobs=-1)]: Done   2 out of   5 | elapsed:   20.8s remaining:   31.1s\n",
      "[Parallel(n_jobs=-1)]: Done   5 out of   5 | elapsed:   21.2s finished\n",
      "[Parallel(n_jobs=-1)]: Done   2 out of   5 | elapsed:   57.1s remaining:  1.4min\n",
      "[Parallel(n_jobs=-1)]: Done   5 out of   5 | elapsed:   58.1s finished\n",
      "[Parallel(n_jobs=-1)]: Done   2 out of   5 | elapsed:  1.1min remaining:  1.6min\n",
      "[Parallel(n_jobs=-1)]: Done   5 out of   5 | elapsed:  1.1min finished\n",
      "[Parallel(n_jobs=-1)]: Done   2 out of   5 | elapsed:  1.6min remaining:  2.4min\n",
      "[Parallel(n_jobs=-1)]: Done   5 out of   5 | elapsed:  1.6min finished\n"
     ]
    },
    {
     "name": "stdout",
     "output_type": "stream",
     "text": [
      "14:09:24 - 14:09:24 - Predicting\n",
      "14:09:34 - 14:09:34 - Calculating scores\n",
      "14:09:44 - 14:09:44 - R^2: 0.6594256033963363, RMSE: 1.8942990244718294, MAE: 1.3982288022677274, MSE: 3.588368794114925\n",
      "14:09:44 - 14:09:44 - Split 9 - Model: stacking_regressor\n",
      "14:09:44 - 14:09:44 - Fitting the model\n"
     ]
    },
    {
     "name": "stderr",
     "output_type": "stream",
     "text": [
      "[Parallel(n_jobs=-1)]: Using backend ThreadingBackend with 8 concurrent workers.\n",
      "[Parallel(n_jobs=-1)]: Using backend ThreadingBackend with 8 concurrent workers.\n",
      "[Parallel(n_jobs=-1)]: Using backend ThreadingBackend with 8 concurrent workers.\n",
      "[Parallel(n_jobs=-1)]: Using backend ThreadingBackend with 8 concurrent workers.\n",
      "[Parallel(n_jobs=-1)]: Done   2 out of   5 | elapsed:   22.3s remaining:   33.4s\n",
      "[Parallel(n_jobs=-1)]: Done   5 out of   5 | elapsed:   22.6s finished\n",
      "[Parallel(n_jobs=-1)]: Done   2 out of   5 | elapsed:  1.0min remaining:  1.5min\n",
      "[Parallel(n_jobs=-1)]: Done   5 out of   5 | elapsed:  1.0min finished\n",
      "[Parallel(n_jobs=-1)]: Done   2 out of   5 | elapsed:  1.1min remaining:  1.6min\n",
      "[Parallel(n_jobs=-1)]: Done   5 out of   5 | elapsed:  1.1min finished\n",
      "[Parallel(n_jobs=-1)]: Done   2 out of   5 | elapsed:  1.6min remaining:  2.4min\n",
      "[Parallel(n_jobs=-1)]: Done   5 out of   5 | elapsed:  1.6min finished\n"
     ]
    },
    {
     "name": "stdout",
     "output_type": "stream",
     "text": [
      "14:11:44 - 14:11:44 - Predicting\n",
      "14:11:55 - 14:11:55 - Calculating scores\n",
      "14:12:05 - 14:12:05 - R^2: 0.658240810585074, RMSE: 1.9085718576673532, MAE: 1.408467846716438, MSE: 3.6426465358798112\n",
      "14:12:05 - 14:12:05 - Split 10 - Model: stacking_regressor\n",
      "14:12:05 - 14:12:05 - Fitting the model\n"
     ]
    },
    {
     "name": "stderr",
     "output_type": "stream",
     "text": [
      "[Parallel(n_jobs=-1)]: Using backend ThreadingBackend with 8 concurrent workers.\n",
      "[Parallel(n_jobs=-1)]: Using backend ThreadingBackend with 8 concurrent workers.\n",
      "[Parallel(n_jobs=-1)]: Using backend ThreadingBackend with 8 concurrent workers.\n",
      "[Parallel(n_jobs=-1)]: Using backend ThreadingBackend with 8 concurrent workers.\n",
      "[Parallel(n_jobs=-1)]: Done   2 out of   5 | elapsed:   26.8s remaining:   40.2s\n",
      "[Parallel(n_jobs=-1)]: Done   5 out of   5 | elapsed:   27.2s finished\n",
      "[Parallel(n_jobs=-1)]: Done   2 out of   5 | elapsed:  1.1min remaining:  1.6min\n",
      "[Parallel(n_jobs=-1)]: Done   5 out of   5 | elapsed:  1.1min finished\n",
      "[Parallel(n_jobs=-1)]: Done   2 out of   5 | elapsed:  1.1min remaining:  1.7min\n",
      "[Parallel(n_jobs=-1)]: Done   5 out of   5 | elapsed:  1.1min finished\n",
      "[Parallel(n_jobs=-1)]: Done   2 out of   5 | elapsed:  1.7min remaining:  2.6min\n",
      "[Parallel(n_jobs=-1)]: Done   5 out of   5 | elapsed:  1.8min finished\n"
     ]
    },
    {
     "name": "stdout",
     "output_type": "stream",
     "text": [
      "14:14:11 - 14:14:11 - Predicting\n",
      "14:14:22 - 14:14:22 - Calculating scores\n",
      "14:14:31 - 14:14:31 - R^2: 0.6584274835941513, RMSE: 1.912308640261075, MAE: 1.4096435569036643, MSE: 3.6569243356171617\n",
      "14:14:31 - 14:14:31 - Training finished\n"
     ]
    },
    {
     "data": {
      "text/plain": [
       "<Figure size 640x480 with 1 Axes>"
      ],
      "image/png": "[encoded data removed]"
     },
     "metadata": {},
     "output_type": "display_data"
    },
    {
     "data": {
      "text/plain": [
       "<Figure size 640x480 with 1 Axes>"
      ],
      "image/png": "[encoded data removed]"
     },
     "metadata": {},
     "output_type": "display_data"
    }
   ],
   "execution_count": 7
  },
  {
   "metadata": {},
   "cell_type": "code",
   "outputs": [],
   "execution_count": null,
   "source": [
    "import numpy as np\n",
    "from pipelines import pipeline\n",
    "\n",
    "all_train_data = pipeline.fit_transform(pd.concat([train_data, additional_train_data], axis=0))\n",
    "all_train_data_transformed = pipeline.fit_transform(all_train_data)\n",
    "test_data_transformed = pipeline.transform(test_data)\n",
    "\n",
    "X_train = all_train_data_transformed.drop(columns=['bg+1:00'])\n",
    "y_train = all_train_data_transformed['bg+1:00']\n",
    "X_test = test_data_transformed.drop(columns=['bg+1:00'])\n",
    "\n",
    "baseline_model.fit(X_train, y_train)"
   ],
   "id": "43cf99724f468af4"
  },
  {
   "metadata": {},
   "cell_type": "code",
   "outputs": [],
   "execution_count": null,
   "source": [
    "y_pred = baseline_model.predict(X_test)\n",
    "test_data['bg+1:00'] = y_pred\n",
    "\n",
    "if np.sum(y_pred < 0) > 0:\n",
    "    print(f'Number of negative values: {np.sum(y_pred < 0)}')\n",
    "    bg_min_train = np.min(y_train)\n",
    "    print(f'Min value: {np.min(y_pred)}')\n",
    "    y_pred = y_pred.apply(lambda x: bg_min_train if x < 0 else x)\n",
    "\n",
    "test_data['bg+1:00'] = y_pred\n",
    "test_data.head()"
   ],
   "id": "4bc5c6a7c86b6f3c"
  },
  {
   "metadata": {},
   "cell_type": "code",
   "outputs": [],
   "execution_count": null,
   "source": [
    "submission = pd.DataFrame(test_data['bg+1:00'])\n",
    "submission"
   ],
   "id": "5167875e1afa3ec1"
  },
  {
   "metadata": {},
   "cell_type": "code",
   "outputs": [],
   "execution_count": null,
   "source": "submission.to_csv(f'submission-{os.path.basename(os.getcwd())}.csv')",
   "id": "7b61741c1c7498d4"
  }
 ],
 "metadata": {
  "kernelspec": {
   "display_name": "Python 3",
   "language": "python",
   "name": "python3"
  },
  "language_info": {
   "codemirror_mode": {
    "name": "ipython",
    "version": 2
   },
   "file_extension": ".py",
   "mimetype": "text/x-python",
   "name": "python",
   "nbconvert_exporter": "python",
   "pygments_lexer": "ipython2",
   "version": "2.7.6"
  }
 },
 "nbformat": 4,
 "nbformat_minor": 5
}
