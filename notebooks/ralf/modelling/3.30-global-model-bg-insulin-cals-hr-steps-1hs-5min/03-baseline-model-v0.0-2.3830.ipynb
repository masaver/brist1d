{
 "cells": [
  {
   "metadata": {},
   "cell_type": "markdown",
   "source": "# Create a baseline model",
   "id": "c4f5fa4ffbc53369"
  },
  {
   "metadata": {
    "ExecuteTime": {
     "end_time": "2024-11-30T14:42:33.837974Z",
     "start_time": "2024-11-30T14:42:09.385250Z"
    }
   },
   "cell_type": "code",
   "source": [
    "import pandas as pd\n",
    "\n",
    "from data import load_data_selected_features\n",
    "\n",
    "train_data, augmented_train_data, test_data = load_data_selected_features()"
   ],
   "id": "ed9cab10a4c9269",
   "outputs": [],
   "execution_count": 1
  },
  {
   "metadata": {
    "ExecuteTime": {
     "end_time": "2024-11-30T14:42:33.877136Z",
     "start_time": "2024-11-30T14:42:33.851977Z"
    }
   },
   "cell_type": "code",
   "source": "train_data.info()",
   "id": "af6bdd55ecd2a72b",
   "outputs": [
    {
     "name": "stdout",
     "output_type": "stream",
     "text": [
      "<class 'pandas.core.frame.DataFrame'>\n",
      "Index: 150996 entries, p01_0 to p12_25298\n",
      "Columns: 507 entries, p_num to bg+1:00\n",
      "dtypes: float64(433), object(74)\n",
      "memory usage: 585.2+ MB\n"
     ]
    }
   ],
   "execution_count": 2
  },
  {
   "metadata": {
    "ExecuteTime": {
     "end_time": "2024-11-30T14:42:34.038701Z",
     "start_time": "2024-11-30T14:42:34.023852Z"
    }
   },
   "cell_type": "code",
   "source": "augmented_train_data.info()",
   "id": "e6efef1597276890",
   "outputs": [
    {
     "name": "stdout",
     "output_type": "stream",
     "text": [
      "<class 'pandas.core.frame.DataFrame'>\n",
      "Index: 174940 entries, p01_test_12 to p24_test_95514\n",
      "Columns: 507 entries, p_num to bg+1:00\n",
      "dtypes: float64(433), object(74)\n",
      "memory usage: 682.1+ MB\n"
     ]
    }
   ],
   "execution_count": 3
  },
  {
   "metadata": {
    "ExecuteTime": {
     "end_time": "2024-11-30T14:42:34.144267Z",
     "start_time": "2024-11-30T14:42:34.116323Z"
    }
   },
   "cell_type": "code",
   "source": "test_data.info()",
   "id": "16d75f6d697d8bc7",
   "outputs": [
    {
     "name": "stdout",
     "output_type": "stream",
     "text": [
      "<class 'pandas.core.frame.DataFrame'>\n",
      "Index: 3644 entries, p01_8459 to p24_260\n",
      "Columns: 506 entries, p_num to activity-0:00\n",
      "dtypes: float64(432), object(74)\n",
      "memory usage: 14.2+ MB\n"
     ]
    }
   ],
   "execution_count": 4
  },
  {
   "metadata": {},
   "cell_type": "markdown",
   "source": "# Prepare the data",
   "id": "fc5e077e5738d8eb"
  },
  {
   "metadata": {
    "ExecuteTime": {
     "end_time": "2024-11-30T14:43:31.379338Z",
     "start_time": "2024-11-30T14:42:34.214823Z"
    }
   },
   "cell_type": "code",
   "source": [
    "from pipelines_selected_features import pipeline\n",
    "\n",
    "all_train_data = pd.concat([train_data, augmented_train_data], axis=0)\n",
    "all_train_data_transformed = pipeline.fit_transform(all_train_data)\n",
    "test_data_transformed = pipeline.transform(test_data)\n",
    "\n",
    "train_data_transformed = all_train_data_transformed[:len(train_data)]\n",
    "augmented_train_data_transformed = all_train_data_transformed[len(train_data):]\n",
    "\n",
    "X_train = train_data_transformed.drop(columns=['bg+1:00'])\n",
    "y_train = train_data_transformed['bg+1:00']\n",
    "\n",
    "X_augmented_train = augmented_train_data_transformed.drop(columns=['bg+1:00'])\n",
    "y_augmented_train = augmented_train_data_transformed['bg+1:00']\n",
    "\n",
    "X_test = test_data_transformed.copy()"
   ],
   "id": "2a2866f1f5b91443",
   "outputs": [],
   "execution_count": 5
  },
  {
   "metadata": {},
   "cell_type": "markdown",
   "source": "## Predict for validation data and check results",
   "id": "9b608adb90b0235e"
  },
  {
   "metadata": {
    "ExecuteTime": {
     "end_time": "2024-11-30T14:43:31.461857Z",
     "start_time": "2024-11-30T14:43:31.425655Z"
    }
   },
   "cell_type": "code",
   "source": [
    "from sklearn.neighbors import KNeighborsRegressor\n",
    "from xgboost import XGBRegressor\n",
    "from sklearn.ensemble import StackingRegressor, HistGradientBoostingRegressor\n",
    "from sklearn.linear_model import LassoLarsIC, Ridge\n",
    "\n",
    "hgb_base_model = HistGradientBoostingRegressor(max_iter=200, max_depth=5, learning_rate=0.1)\n",
    "lasso_lars_ic_base_model = LassoLarsIC(criterion='bic', max_iter=10000)\n",
    "knn_base_model = KNeighborsRegressor(n_neighbors=5)\n",
    "xgb_base_model = XGBRegressor(objective='reg:squarederror', random_state=42, n_estimators=500, max_depth=5, learning_rate=0.1)\n",
    "\n",
    "estimators = [\n",
    "    ('hgb', hgb_base_model),\n",
    "    ('lasso_lars_ic', lasso_lars_ic_base_model),\n",
    "    ('knn', knn_base_model),\n",
    "    ('xgb', xgb_base_model),\n",
    "]\n",
    "\n",
    "baseline_model = StackingRegressor(\n",
    "    estimators=estimators,\n",
    "    final_estimator=Ridge(alpha=0.1), n_jobs=-1, verbose=2)"
   ],
   "id": "7e0583e9ae957c2d",
   "outputs": [],
   "execution_count": 6
  },
  {
   "metadata": {},
   "cell_type": "markdown",
   "source": "## Performance calculations with Cross Validation",
   "id": "7d49cc74769ae34e"
  },
  {
   "metadata": {
    "ExecuteTime": {
     "end_time": "2024-11-30T14:56:35.869865Z",
     "start_time": "2024-11-30T14:43:31.533726Z"
    }
   },
   "cell_type": "code",
   "source": [
    "from datetime import datetime\n",
    "import os\n",
    "from model_performance_calculations import calculate_stacking_regressor_performance, get_rmse_boxplot_chart, get_rmse_line_chart, save_performances, save_model\n",
    "\n",
    "date_time = datetime.now().strftime('%Y-%m-%d_%H-%M-%S')\n",
    "model_name = f'{date_time}-baseline-model'\n",
    "\n",
    "save_model(baseline_model, os.path.join('models', f'{model_name}.pkl'))\n",
    "\n",
    "performances = calculate_stacking_regressor_performance(baseline_model, X_train, y_train, X_augmented_train, y_augmented_train)\n",
    "save_performances(performances, os.path.join('models', f'{model_name}-performances.json'))\n",
    "\n",
    "get_rmse_boxplot_chart(performances).show()\n",
    "get_rmse_line_chart(performances).show()"
   ],
   "id": "c0be6db84ab0c1b0",
   "outputs": [
    {
     "name": "stdout",
     "output_type": "stream",
     "text": [
      "15:43:31 - Start training\n",
      "15:43:31 - Calculate performance for hgb\n",
      "15:43:31 - Selected splitter: ShuffleSplit(n_splits=5, random_state=42, test_size=0.2, train_size=None)\n",
      "15:43:31 - Split 1 - Model: hgb\n",
      "15:43:31 - Fitting the model\n",
      "15:43:43 - Predicting\n",
      "15:43:43 - Calculating scores\n",
      "15:43:43 - R^2: 0.5860264807221865, RMSE: 2.0549939073295644, MAE: 1.5235347576632419, MSE: 4.222999959161631\n",
      "15:43:43 - Split 2 - Model: hgb\n",
      "15:43:43 - Fitting the model\n",
      "15:43:57 - Predicting\n",
      "15:43:57 - Calculating scores\n",
      "15:43:57 - R^2: 0.5893573058916899, RMSE: 2.069515170453915, MAE: 1.5276556230710667, MSE: 4.282893040738896\n",
      "15:43:57 - Split 3 - Model: hgb\n",
      "15:43:57 - Fitting the model\n",
      "15:44:18 - Predicting\n",
      "15:44:18 - Calculating scores\n",
      "15:44:18 - R^2: 0.5879890532893066, RMSE: 2.069317885492501, MAE: 1.532886108976758, MSE: 4.282076511219156\n",
      "15:44:18 - Split 4 - Model: hgb\n",
      "15:44:18 - Fitting the model\n",
      "15:44:26 - Predicting\n",
      "15:44:26 - Calculating scores\n",
      "15:44:26 - R^2: 0.5866203665111559, RMSE: 2.0700946821245947, MAE: 1.521809588914514, MSE: 4.285291992960526\n",
      "15:44:26 - Split 5 - Model: hgb\n",
      "15:44:26 - Fitting the model\n",
      "15:44:40 - Predicting\n",
      "15:44:41 - Calculating scores\n",
      "15:44:41 - R^2: 0.5871854459265812, RMSE: 2.066045092267878, MAE: 1.5331758772006643, MSE: 4.268542323284185\n",
      "15:44:41 - Training finished\n",
      "15:44:41 - Calculate performance for lasso_lars_ic\n",
      "15:44:41 - Selected splitter: ShuffleSplit(n_splits=5, random_state=42, test_size=0.2, train_size=None)\n",
      "15:44:41 - Split 1 - Model: lasso_lars_ic\n",
      "15:44:41 - Fitting the model\n",
      "15:44:42 - Predicting\n",
      "15:44:42 - Calculating scores\n",
      "15:44:42 - R^2: 0.5100177128311537, RMSE: 2.235704743206858, MAE: 1.6656680441561287, MSE: 4.998375698797643\n",
      "15:44:42 - Split 2 - Model: lasso_lars_ic\n",
      "15:44:42 - Fitting the model\n",
      "15:44:43 - Predicting\n",
      "15:44:43 - Calculating scores\n",
      "15:44:43 - R^2: 0.5164772599580821, RMSE: 2.2456652358071323, MAE: 1.6642975331319907, MSE: 5.043012351312703\n",
      "15:44:43 - Split 3 - Model: lasso_lars_ic\n",
      "15:44:44 - Fitting the model\n",
      "15:44:45 - Predicting\n",
      "15:44:45 - Calculating scores\n",
      "15:44:45 - R^2: 0.5157206516536673, RMSE: 2.243472800852634, MAE: 1.6747629725675244, MSE: 5.033170208165563\n",
      "15:44:45 - Split 4 - Model: lasso_lars_ic\n",
      "15:44:45 - Fitting the model\n",
      "15:44:46 - Predicting\n",
      "15:44:46 - Calculating scores\n",
      "15:44:46 - R^2: 0.5137506672051049, RMSE: 2.245149065104975, MAE: 1.663151586632098, MSE: 5.040694324541742\n",
      "15:44:46 - Split 5 - Model: lasso_lars_ic\n",
      "15:44:46 - Fitting the model\n",
      "15:44:47 - Predicting\n",
      "15:44:47 - Calculating scores\n",
      "15:44:47 - R^2: 0.5145082895738613, RMSE: 2.2405425978738784, MAE: 1.6706294089725375, MSE: 5.020031132887428\n",
      "15:44:47 - Training finished\n",
      "15:44:47 - Calculate performance for knn\n",
      "15:44:47 - Selected splitter: ShuffleSplit(n_splits=5, random_state=42, test_size=0.2, train_size=None)\n",
      "15:44:47 - Split 1 - Model: knn\n",
      "15:44:47 - Fitting the model\n",
      "15:44:47 - Predicting\n",
      "15:44:56 - Calculating scores\n",
      "15:44:56 - R^2: 0.5526456036130185, RMSE: 2.136240344461748, MAE: 1.475012975877444, MSE: 4.563522809306048\n",
      "15:44:57 - Split 2 - Model: knn\n",
      "15:44:57 - Fitting the model\n",
      "15:44:57 - Predicting\n",
      "15:45:12 - Calculating scores\n",
      "15:45:12 - R^2: 0.5557555677741421, RMSE: 2.1525218110709496, MAE: 1.4780623642391677, MSE: 4.633350147136161\n",
      "15:45:12 - Split 3 - Model: knn\n",
      "15:45:13 - Fitting the model\n",
      "15:45:13 - Predicting\n",
      "15:45:23 - Calculating scores\n",
      "15:45:23 - R^2: 0.5545798628351095, RMSE: 2.1515812831112577, MAE: 1.4787421973247972, MSE: 4.629302017834687\n",
      "15:45:23 - Split 4 - Model: knn\n",
      "15:45:23 - Fitting the model\n",
      "15:45:23 - Predicting\n",
      "15:45:32 - Calculating scores\n",
      "15:45:32 - R^2: 0.5499782893788945, RMSE: 2.1598938349871406, MAE: 1.4853138790442437, MSE: 4.6651413784154565\n",
      "15:45:32 - Split 5 - Model: knn\n",
      "15:45:32 - Fitting the model\n",
      "15:45:33 - Predicting\n",
      "15:45:42 - Calculating scores\n",
      "15:45:42 - R^2: 0.5531195918642036, RMSE: 2.149601484332103, MAE: 1.483696238710415, MSE: 4.620786541442781\n",
      "15:45:42 - Training finished\n",
      "15:45:42 - Calculate performance for xgb\n",
      "15:45:42 - Selected splitter: ShuffleSplit(n_splits=5, random_state=42, test_size=0.2, train_size=None)\n",
      "15:45:42 - Split 1 - Model: xgb\n",
      "15:45:43 - Fitting the model\n",
      "15:45:50 - Predicting\n",
      "15:45:50 - Calculating scores\n",
      "15:45:50 - R^2: 0.6107894865606591, RMSE: 1.9925835444165125, MAE: 1.4769165787487506, MSE: 3.970389181479472\n",
      "15:45:50 - Split 2 - Model: xgb\n",
      "15:45:50 - Fitting the model\n",
      "15:45:58 - Predicting\n",
      "15:45:58 - Calculating scores\n",
      "15:45:58 - R^2: 0.6137466150169073, RMSE: 2.007117110476234, MAE: 1.4802659005814587, MSE: 4.028519095166466\n",
      "15:45:58 - Split 3 - Model: xgb\n",
      "15:45:58 - Fitting the model\n",
      "15:46:04 - Predicting\n",
      "15:46:04 - Calculating scores\n",
      "15:46:04 - R^2: 0.6112292144502827, RMSE: 2.0101091710924455, MAE: 1.4887118081124124, MSE: 4.040538879709958\n",
      "15:46:04 - Split 4 - Model: xgb\n",
      "15:46:04 - Fitting the model\n",
      "15:46:11 - Predicting\n",
      "15:46:11 - Calculating scores\n",
      "15:46:11 - R^2: 0.6098933400472579, RMSE: 2.01097816048104, MAE: 1.4804224313383472, MSE: 4.044033161931708\n",
      "15:46:11 - Split 5 - Model: xgb\n",
      "15:46:11 - Fitting the model\n",
      "15:46:17 - Predicting\n",
      "15:46:17 - Calculating scores\n",
      "15:46:17 - R^2: 0.6142008459553081, RMSE: 1.9972982952380167, MAE: 1.483211043340023, MSE: 3.9892004801606875\n",
      "15:46:17 - Training finished\n",
      "15:46:17 - Calculate performance for final_estimator\n",
      "15:46:17 - Selected splitter: ShuffleSplit(n_splits=5, random_state=42, test_size=0.2, train_size=None)\n",
      "15:46:17 - Split 1 - Model: final_estimator\n",
      "15:46:18 - Fitting the model\n",
      "15:46:18 - Predicting\n",
      "15:46:18 - Calculating scores\n",
      "15:46:18 - R^2: 0.5100836771253813, RMSE: 2.2355542462876556, MAE: 1.6651091853194635, MSE: 4.9977027880947675\n",
      "15:46:18 - Split 2 - Model: final_estimator\n",
      "15:46:18 - Fitting the model\n",
      "15:46:18 - Predicting\n",
      "15:46:18 - Calculating scores\n",
      "15:46:18 - R^2: 0.5163668511710302, RMSE: 2.2459216115698606, MAE: 1.6642155015174451, MSE: 5.04416388531656\n",
      "15:46:18 - Split 3 - Model: final_estimator\n",
      "15:46:18 - Fitting the model\n",
      "15:46:18 - Predicting\n",
      "15:46:18 - Calculating scores\n",
      "15:46:18 - R^2: 0.51582705655924, RMSE: 2.243226321598082, MAE: 1.6744012455051975, MSE: 5.032064329910461\n",
      "15:46:18 - Split 4 - Model: final_estimator\n",
      "15:46:18 - Fitting the model\n",
      "15:46:19 - Predicting\n",
      "15:46:19 - Calculating scores\n",
      "15:46:19 - R^2: 0.5140428177604667, RMSE: 2.2444744933831724, MAE: 1.6627417040990877, MSE: 5.037665751447649\n",
      "15:46:19 - Split 5 - Model: final_estimator\n",
      "15:46:19 - Fitting the model\n",
      "15:46:19 - Predicting\n",
      "15:46:19 - Calculating scores\n",
      "15:46:19 - R^2: 0.5144711698163298, RMSE: 2.240628250014299, MAE: 1.669995561678453, MSE: 5.020414954762141\n",
      "15:46:19 - Training finished\n",
      "15:46:19 - Calculate performance for stacking_regressor\n",
      "15:46:19 - Selected splitter: ShuffleSplit(n_splits=5, random_state=42, test_size=0.2, train_size=None)\n",
      "15:46:19 - Split 1 - Model: stacking_regressor\n",
      "15:46:19 - Fitting the model\n"
     ]
    },
    {
     "name": "stderr",
     "output_type": "stream",
     "text": [
      "[Parallel(n_jobs=-1)]: Using backend ThreadingBackend with 8 concurrent workers.\n",
      "[Parallel(n_jobs=-1)]: Using backend ThreadingBackend with 8 concurrent workers.\n",
      "[Parallel(n_jobs=-1)]: Using backend ThreadingBackend with 8 concurrent workers.\n",
      "[Parallel(n_jobs=-1)]: Using backend ThreadingBackend with 8 concurrent workers.\n",
      "[Parallel(n_jobs=-1)]: Done   2 out of   5 | elapsed:   16.0s remaining:   24.1s\n",
      "[Parallel(n_jobs=-1)]: Done   5 out of   5 | elapsed:   16.3s finished\n",
      "[Parallel(n_jobs=-1)]: Done   2 out of   5 | elapsed:   44.8s remaining:  1.1min\n",
      "[Parallel(n_jobs=-1)]: Done   5 out of   5 | elapsed:   45.3s finished\n",
      "[Parallel(n_jobs=-1)]: Done   2 out of   5 | elapsed:   46.1s remaining:  1.2min\n",
      "[Parallel(n_jobs=-1)]: Done   5 out of   5 | elapsed:   46.6s finished\n",
      "[Parallel(n_jobs=-1)]: Done   2 out of   5 | elapsed:  1.5min remaining:  2.2min\n",
      "[Parallel(n_jobs=-1)]: Done   5 out of   5 | elapsed:  1.5min finished\n"
     ]
    },
    {
     "name": "stdout",
     "output_type": "stream",
     "text": [
      "15:48:12 - Predicting\n",
      "15:48:22 - Calculating scores\n",
      "15:48:22 - R^2: 0.6331028377435804, RMSE: 1.9346233904408219, MAE: 1.4172121057619504, MSE: 3.7427676628407407\n",
      "15:48:22 - Split 2 - Model: stacking_regressor\n",
      "15:48:22 - Fitting the model\n"
     ]
    },
    {
     "name": "stderr",
     "output_type": "stream",
     "text": [
      "[Parallel(n_jobs=-1)]: Using backend ThreadingBackend with 8 concurrent workers.\n",
      "[Parallel(n_jobs=-1)]: Using backend ThreadingBackend with 8 concurrent workers.\n",
      "[Parallel(n_jobs=-1)]: Using backend ThreadingBackend with 8 concurrent workers.\n",
      "[Parallel(n_jobs=-1)]: Using backend ThreadingBackend with 8 concurrent workers.\n",
      "[Parallel(n_jobs=-1)]: Done   2 out of   5 | elapsed:   18.0s remaining:   27.1s\n",
      "[Parallel(n_jobs=-1)]: Done   5 out of   5 | elapsed:   18.3s finished\n",
      "[Parallel(n_jobs=-1)]: Done   2 out of   5 | elapsed:   45.7s remaining:  1.1min\n",
      "[Parallel(n_jobs=-1)]: Done   5 out of   5 | elapsed:   46.5s finished\n",
      "[Parallel(n_jobs=-1)]: Done   2 out of   5 | elapsed:   48.4s remaining:  1.2min\n",
      "[Parallel(n_jobs=-1)]: Done   5 out of   5 | elapsed:   48.8s finished\n",
      "[Parallel(n_jobs=-1)]: Done   2 out of   5 | elapsed:  1.5min remaining:  2.2min\n",
      "[Parallel(n_jobs=-1)]: Done   5 out of   5 | elapsed:  1.5min finished\n"
     ]
    },
    {
     "name": "stdout",
     "output_type": "stream",
     "text": [
      "15:50:11 - Predicting\n",
      "15:50:22 - Calculating scores\n",
      "15:50:22 - R^2: 0.6355123980888295, RMSE: 1.9497455787628266, MAE: 1.4222278118364167, MSE: 3.8015078219051897\n",
      "15:50:22 - Split 3 - Model: stacking_regressor\n",
      "15:50:22 - Fitting the model\n"
     ]
    },
    {
     "name": "stderr",
     "output_type": "stream",
     "text": [
      "[Parallel(n_jobs=-1)]: Using backend ThreadingBackend with 8 concurrent workers.\n",
      "[Parallel(n_jobs=-1)]: Using backend ThreadingBackend with 8 concurrent workers.\n",
      "[Parallel(n_jobs=-1)]: Using backend ThreadingBackend with 8 concurrent workers.\n",
      "[Parallel(n_jobs=-1)]: Using backend ThreadingBackend with 8 concurrent workers.\n",
      "[Parallel(n_jobs=-1)]: Done   2 out of   5 | elapsed:   16.6s remaining:   24.9s\n",
      "[Parallel(n_jobs=-1)]: Done   5 out of   5 | elapsed:   16.8s finished\n",
      "[Parallel(n_jobs=-1)]: Done   2 out of   5 | elapsed:   46.0s remaining:  1.2min\n",
      "[Parallel(n_jobs=-1)]: Done   5 out of   5 | elapsed:   46.3s finished\n",
      "[Parallel(n_jobs=-1)]: Done   2 out of   5 | elapsed:   48.6s remaining:  1.2min\n",
      "[Parallel(n_jobs=-1)]: Done   5 out of   5 | elapsed:   49.2s finished\n",
      "[Parallel(n_jobs=-1)]: Done   2 out of   5 | elapsed:  1.5min remaining:  2.3min\n",
      "[Parallel(n_jobs=-1)]: Done   5 out of   5 | elapsed:  1.5min finished\n"
     ]
    },
    {
     "name": "stdout",
     "output_type": "stream",
     "text": [
      "15:52:13 - Predicting\n",
      "15:52:23 - Calculating scores\n",
      "15:52:23 - R^2: 0.6336594919751626, RMSE: 1.9512607362192407, MAE: 1.4284701101250268, MSE: 3.807418460710853\n",
      "15:52:23 - Split 4 - Model: stacking_regressor\n",
      "15:52:23 - Fitting the model\n"
     ]
    },
    {
     "name": "stderr",
     "output_type": "stream",
     "text": [
      "[Parallel(n_jobs=-1)]: Using backend ThreadingBackend with 8 concurrent workers.\n",
      "[Parallel(n_jobs=-1)]: Using backend ThreadingBackend with 8 concurrent workers.\n",
      "[Parallel(n_jobs=-1)]: Using backend ThreadingBackend with 8 concurrent workers.\n",
      "[Parallel(n_jobs=-1)]: Using backend ThreadingBackend with 8 concurrent workers.\n",
      "[Parallel(n_jobs=-1)]: Done   2 out of   5 | elapsed:   24.0s remaining:   36.0s\n",
      "[Parallel(n_jobs=-1)]: Done   5 out of   5 | elapsed:   24.3s finished\n",
      "[Parallel(n_jobs=-1)]: Done   2 out of   5 | elapsed:   59.1s remaining:  1.5min\n",
      "[Parallel(n_jobs=-1)]: Done   5 out of   5 | elapsed:   59.5s finished\n",
      "[Parallel(n_jobs=-1)]: Done   2 out of   5 | elapsed:  1.1min remaining:  1.6min\n",
      "[Parallel(n_jobs=-1)]: Done   5 out of   5 | elapsed:  1.1min finished\n",
      "[Parallel(n_jobs=-1)]: Done   2 out of   5 | elapsed:  1.5min remaining:  2.3min\n",
      "[Parallel(n_jobs=-1)]: Done   5 out of   5 | elapsed:  1.6min finished\n"
     ]
    },
    {
     "name": "stdout",
     "output_type": "stream",
     "text": [
      "15:54:18 - Predicting\n",
      "15:54:29 - Calculating scores\n",
      "15:54:29 - R^2: 0.6324168175837663, RMSE: 1.9520614659171305, MAE: 1.4205269413630734, MSE: 3.8105439667185363\n",
      "15:54:29 - Split 5 - Model: stacking_regressor\n",
      "15:54:29 - Fitting the model\n"
     ]
    },
    {
     "name": "stderr",
     "output_type": "stream",
     "text": [
      "[Parallel(n_jobs=-1)]: Using backend ThreadingBackend with 8 concurrent workers.\n",
      "[Parallel(n_jobs=-1)]: Using backend ThreadingBackend with 8 concurrent workers.\n",
      "[Parallel(n_jobs=-1)]: Using backend ThreadingBackend with 8 concurrent workers.\n",
      "[Parallel(n_jobs=-1)]: Using backend ThreadingBackend with 8 concurrent workers.\n",
      "[Parallel(n_jobs=-1)]: Done   2 out of   5 | elapsed:   16.1s remaining:   24.1s\n",
      "[Parallel(n_jobs=-1)]: Done   5 out of   5 | elapsed:   16.3s finished\n",
      "[Parallel(n_jobs=-1)]: Done   2 out of   5 | elapsed:   51.3s remaining:  1.3min\n",
      "[Parallel(n_jobs=-1)]: Done   5 out of   5 | elapsed:   52.1s finished\n",
      "[Parallel(n_jobs=-1)]: Done   2 out of   5 | elapsed:   56.5s remaining:  1.4min\n",
      "[Parallel(n_jobs=-1)]: Done   5 out of   5 | elapsed:   56.7s finished\n",
      "[Parallel(n_jobs=-1)]: Done   2 out of   5 | elapsed:  1.6min remaining:  2.4min\n",
      "[Parallel(n_jobs=-1)]: Done   5 out of   5 | elapsed:  1.6min finished\n"
     ]
    },
    {
     "name": "stdout",
     "output_type": "stream",
     "text": [
      "15:56:25 - Predicting\n",
      "15:56:35 - Calculating scores\n",
      "15:56:35 - R^2: 0.6367809891364016, RMSE: 1.9379679101620324, MAE: 1.4235735645419845, MSE: 3.7557196208177954\n",
      "15:56:35 - Training finished\n",
      "Final estimator RMSE: 1.9451318163004103\n",
      "Final estimator R2: 0.6342945069055481\n",
      "Final estimator MSE: 3.7835915065986234\n",
      "Final estimator MAE: 1.4224021067256902\n"
     ]
    },
    {
     "data": {
      "text/plain": [
       "<Figure size 640x480 with 1 Axes>"
      ],
      "image/png": "[encoded data removed]"
     },
     "metadata": {},
     "output_type": "display_data"
    },
    {
     "data": {
      "text/plain": [
       "<Figure size 640x480 with 1 Axes>"
      ],
      "image/png": "[encoded data removed]"
     },
     "metadata": {},
     "output_type": "display_data"
    }
   ],
   "execution_count": 7
  },
  {
   "metadata": {},
   "cell_type": "markdown",
   "source": "## Train the model with all data and predict for test data",
   "id": "d9cca969d5fd67d9"
  },
  {
   "metadata": {
    "ExecuteTime": {
     "end_time": "2024-11-30T14:58:51.441722Z",
     "start_time": "2024-11-30T14:56:35.947204Z"
    }
   },
   "cell_type": "code",
   "source": [
    "import numpy as np\n",
    "\n",
    "baseline_model.fit(pd.concat([X_train, X_augmented_train]), pd.concat([y_train, y_augmented_train]))\n",
    "y_pred = baseline_model.predict(X_test)\n",
    "\n",
    "# do a sanity check, we should not have negative values\n",
    "if np.sum(y_pred < 0) > 0:\n",
    "    print(f'Number of negative values: {np.sum(y_pred < 0)}')\n",
    "    bg_min_train = np.min(y_train)\n",
    "    print(f'Min value: {np.min(y_pred)}')\n",
    "    y_pred = y_pred.apply(lambda x: bg_min_train if x < 0 else x)\n",
    "\n",
    "test_data['bg+1:00'] = y_pred\n",
    "test_data.head()"
   ],
   "id": "4bc5c6a7c86b6f3c",
   "outputs": [
    {
     "name": "stderr",
     "output_type": "stream",
     "text": [
      "[Parallel(n_jobs=-1)]: Using backend ThreadingBackend with 8 concurrent workers.\n",
      "[Parallel(n_jobs=-1)]: Using backend ThreadingBackend with 8 concurrent workers.\n",
      "[Parallel(n_jobs=-1)]: Using backend ThreadingBackend with 8 concurrent workers.\n",
      "[Parallel(n_jobs=-1)]: Using backend ThreadingBackend with 8 concurrent workers.\n",
      "[Parallel(n_jobs=-1)]: Done   2 out of   5 | elapsed:   18.2s remaining:   27.3s\n",
      "[Parallel(n_jobs=-1)]: Done   5 out of   5 | elapsed:   18.4s finished\n",
      "[Parallel(n_jobs=-1)]: Done   2 out of   5 | elapsed:   49.3s remaining:  1.2min\n",
      "[Parallel(n_jobs=-1)]: Done   5 out of   5 | elapsed:   50.2s finished\n",
      "[Parallel(n_jobs=-1)]: Done   2 out of   5 | elapsed:   52.5s remaining:  1.3min\n",
      "[Parallel(n_jobs=-1)]: Done   5 out of   5 | elapsed:   53.0s finished\n",
      "[Parallel(n_jobs=-1)]: Done   2 out of   5 | elapsed:  1.7min remaining:  2.6min\n",
      "[Parallel(n_jobs=-1)]: Done   5 out of   5 | elapsed:  1.8min finished\n"
     ]
    },
    {
     "data": {
      "text/plain": [
       "         p_num      time  bg-5:55  bg-5:50  bg-5:45  bg-5:40  bg-5:35  \\\n",
       "id                                                                      \n",
       "p01_8459   p01  06:45:00      NaN      9.2      NaN      NaN     10.2   \n",
       "p01_8460   p01  11:25:00      NaN      NaN      9.9      NaN      NaN   \n",
       "p01_8461   p01  14:45:00      NaN      5.5      NaN      NaN      5.5   \n",
       "p01_8462   p01  04:30:00      NaN      3.4      NaN      NaN      3.9   \n",
       "p01_8463   p01  04:20:00      NaN      NaN      8.3      NaN      NaN   \n",
       "\n",
       "          bg-5:30  bg-5:25  bg-5:20  ...  activity-0:40  activity-0:35  \\\n",
       "id                                   ...                                 \n",
       "p01_8459      NaN      NaN     10.3  ...            NaN            NaN   \n",
       "p01_8460      9.4      NaN      NaN  ...            NaN            NaN   \n",
       "p01_8461      NaN      NaN      5.2  ...            NaN            NaN   \n",
       "p01_8462      NaN      NaN      4.7  ...            NaN            NaN   \n",
       "p01_8463     10.0      NaN      NaN  ...            NaN            NaN   \n",
       "\n",
       "          activity-0:30  activity-0:25  activity-0:20  activity-0:15  \\\n",
       "id                                                                     \n",
       "p01_8459            NaN            NaN            NaN            NaN   \n",
       "p01_8460            NaN            NaN            NaN            NaN   \n",
       "p01_8461            NaN            NaN            NaN            NaN   \n",
       "p01_8462            NaN            NaN            NaN            NaN   \n",
       "p01_8463            NaN            NaN            NaN            NaN   \n",
       "\n",
       "          activity-0:10  activity-0:05  activity-0:00    bg+1:00  \n",
       "id                                                                \n",
       "p01_8459            NaN            NaN            NaN   9.160226  \n",
       "p01_8460           Walk           Walk           Walk   5.645409  \n",
       "p01_8461            NaN            NaN            NaN   7.865402  \n",
       "p01_8462            NaN            NaN            NaN  10.795289  \n",
       "p01_8463            NaN            NaN            NaN   6.663068  \n",
       "\n",
       "[5 rows x 507 columns]"
      ],
      "text/html": [
       "<div>\n",
       "<style scoped>\n",
       "    .dataframe tbody tr th:only-of-type {\n",
       "        vertical-align: middle;\n",
       "    }\n",
       "\n",
       "    .dataframe tbody tr th {\n",
       "        vertical-align: top;\n",
       "    }\n",
       "\n",
       "    .dataframe thead th {\n",
       "        text-align: right;\n",
       "    }\n",
       "</style>\n",
       "<table border=\"1\" class=\"dataframe\">\n",
       "  <thead>\n",
       "    <tr style=\"text-align: right;\">\n",
       "      <th></th>\n",
       "      <th>p_num</th>\n",
       "      <th>time</th>\n",
       "      <th>bg-5:55</th>\n",
       "      <th>bg-5:50</th>\n",
       "      <th>bg-5:45</th>\n",
       "      <th>bg-5:40</th>\n",
       "      <th>bg-5:35</th>\n",
       "      <th>bg-5:30</th>\n",
       "      <th>bg-5:25</th>\n",
       "      <th>bg-5:20</th>\n",
       "      <th>...</th>\n",
       "      <th>activity-0:40</th>\n",
       "      <th>activity-0:35</th>\n",
       "      <th>activity-0:30</th>\n",
       "      <th>activity-0:25</th>\n",
       "      <th>activity-0:20</th>\n",
       "      <th>activity-0:15</th>\n",
       "      <th>activity-0:10</th>\n",
       "      <th>activity-0:05</th>\n",
       "      <th>activity-0:00</th>\n",
       "      <th>bg+1:00</th>\n",
       "    </tr>\n",
       "    <tr>\n",
       "      <th>id</th>\n",
       "      <th></th>\n",
       "      <th></th>\n",
       "      <th></th>\n",
       "      <th></th>\n",
       "      <th></th>\n",
       "      <th></th>\n",
       "      <th></th>\n",
       "      <th></th>\n",
       "      <th></th>\n",
       "      <th></th>\n",
       "      <th></th>\n",
       "      <th></th>\n",
       "      <th></th>\n",
       "      <th></th>\n",
       "      <th></th>\n",
       "      <th></th>\n",
       "      <th></th>\n",
       "      <th></th>\n",
       "      <th></th>\n",
       "      <th></th>\n",
       "      <th></th>\n",
       "    </tr>\n",
       "  </thead>\n",
       "  <tbody>\n",
       "    <tr>\n",
       "      <th>p01_8459</th>\n",
       "      <td>p01</td>\n",
       "      <td>06:45:00</td>\n",
       "      <td>NaN</td>\n",
       "      <td>9.2</td>\n",
       "      <td>NaN</td>\n",
       "      <td>NaN</td>\n",
       "      <td>10.2</td>\n",
       "      <td>NaN</td>\n",
       "      <td>NaN</td>\n",
       "      <td>10.3</td>\n",
       "      <td>...</td>\n",
       "      <td>NaN</td>\n",
       "      <td>NaN</td>\n",
       "      <td>NaN</td>\n",
       "      <td>NaN</td>\n",
       "      <td>NaN</td>\n",
       "      <td>NaN</td>\n",
       "      <td>NaN</td>\n",
       "      <td>NaN</td>\n",
       "      <td>NaN</td>\n",
       "      <td>9.160226</td>\n",
       "    </tr>\n",
       "    <tr>\n",
       "      <th>p01_8460</th>\n",
       "      <td>p01</td>\n",
       "      <td>11:25:00</td>\n",
       "      <td>NaN</td>\n",
       "      <td>NaN</td>\n",
       "      <td>9.9</td>\n",
       "      <td>NaN</td>\n",
       "      <td>NaN</td>\n",
       "      <td>9.4</td>\n",
       "      <td>NaN</td>\n",
       "      <td>NaN</td>\n",
       "      <td>...</td>\n",
       "      <td>NaN</td>\n",
       "      <td>NaN</td>\n",
       "      <td>NaN</td>\n",
       "      <td>NaN</td>\n",
       "      <td>NaN</td>\n",
       "      <td>NaN</td>\n",
       "      <td>Walk</td>\n",
       "      <td>Walk</td>\n",
       "      <td>Walk</td>\n",
       "      <td>5.645409</td>\n",
       "    </tr>\n",
       "    <tr>\n",
       "      <th>p01_8461</th>\n",
       "      <td>p01</td>\n",
       "      <td>14:45:00</td>\n",
       "      <td>NaN</td>\n",
       "      <td>5.5</td>\n",
       "      <td>NaN</td>\n",
       "      <td>NaN</td>\n",
       "      <td>5.5</td>\n",
       "      <td>NaN</td>\n",
       "      <td>NaN</td>\n",
       "      <td>5.2</td>\n",
       "      <td>...</td>\n",
       "      <td>NaN</td>\n",
       "      <td>NaN</td>\n",
       "      <td>NaN</td>\n",
       "      <td>NaN</td>\n",
       "      <td>NaN</td>\n",
       "      <td>NaN</td>\n",
       "      <td>NaN</td>\n",
       "      <td>NaN</td>\n",
       "      <td>NaN</td>\n",
       "      <td>7.865402</td>\n",
       "    </tr>\n",
       "    <tr>\n",
       "      <th>p01_8462</th>\n",
       "      <td>p01</td>\n",
       "      <td>04:30:00</td>\n",
       "      <td>NaN</td>\n",
       "      <td>3.4</td>\n",
       "      <td>NaN</td>\n",
       "      <td>NaN</td>\n",
       "      <td>3.9</td>\n",
       "      <td>NaN</td>\n",
       "      <td>NaN</td>\n",
       "      <td>4.7</td>\n",
       "      <td>...</td>\n",
       "      <td>NaN</td>\n",
       "      <td>NaN</td>\n",
       "      <td>NaN</td>\n",
       "      <td>NaN</td>\n",
       "      <td>NaN</td>\n",
       "      <td>NaN</td>\n",
       "      <td>NaN</td>\n",
       "      <td>NaN</td>\n",
       "      <td>NaN</td>\n",
       "      <td>10.795289</td>\n",
       "    </tr>\n",
       "    <tr>\n",
       "      <th>p01_8463</th>\n",
       "      <td>p01</td>\n",
       "      <td>04:20:00</td>\n",
       "      <td>NaN</td>\n",
       "      <td>NaN</td>\n",
       "      <td>8.3</td>\n",
       "      <td>NaN</td>\n",
       "      <td>NaN</td>\n",
       "      <td>10.0</td>\n",
       "      <td>NaN</td>\n",
       "      <td>NaN</td>\n",
       "      <td>...</td>\n",
       "      <td>NaN</td>\n",
       "      <td>NaN</td>\n",
       "      <td>NaN</td>\n",
       "      <td>NaN</td>\n",
       "      <td>NaN</td>\n",
       "      <td>NaN</td>\n",
       "      <td>NaN</td>\n",
       "      <td>NaN</td>\n",
       "      <td>NaN</td>\n",
       "      <td>6.663068</td>\n",
       "    </tr>\n",
       "  </tbody>\n",
       "</table>\n",
       "<p>5 rows × 507 columns</p>\n",
       "</div>"
      ]
     },
     "execution_count": 8,
     "metadata": {},
     "output_type": "execute_result"
    }
   ],
   "execution_count": 8
  },
  {
   "metadata": {},
   "cell_type": "markdown",
   "source": "## Save the submission",
   "id": "87e11f0a7e74ab4c"
  },
  {
   "metadata": {
    "ExecuteTime": {
     "end_time": "2024-11-30T14:58:51.813711Z",
     "start_time": "2024-11-30T14:58:51.791596Z"
    }
   },
   "cell_type": "code",
   "source": [
    "submission = pd.DataFrame(test_data['bg+1:00'])\n",
    "submission.to_csv(f'submission-{os.path.basename(os.getcwd())}.csv')\n",
    "submission"
   ],
   "id": "5167875e1afa3ec1",
   "outputs": [
    {
     "data": {
      "text/plain": [
       "            bg+1:00\n",
       "id                 \n",
       "p01_8459   9.160226\n",
       "p01_8460   5.645409\n",
       "p01_8461   7.865402\n",
       "p01_8462  10.795289\n",
       "p01_8463   6.663068\n",
       "...             ...\n",
       "p24_256    6.091722\n",
       "p24_257   10.232725\n",
       "p24_258    6.419841\n",
       "p24_259    8.147160\n",
       "p24_260    6.022104\n",
       "\n",
       "[3644 rows x 1 columns]"
      ],
      "text/html": [
       "<div>\n",
       "<style scoped>\n",
       "    .dataframe tbody tr th:only-of-type {\n",
       "        vertical-align: middle;\n",
       "    }\n",
       "\n",
       "    .dataframe tbody tr th {\n",
       "        vertical-align: top;\n",
       "    }\n",
       "\n",
       "    .dataframe thead th {\n",
       "        text-align: right;\n",
       "    }\n",
       "</style>\n",
       "<table border=\"1\" class=\"dataframe\">\n",
       "  <thead>\n",
       "    <tr style=\"text-align: right;\">\n",
       "      <th></th>\n",
       "      <th>bg+1:00</th>\n",
       "    </tr>\n",
       "    <tr>\n",
       "      <th>id</th>\n",
       "      <th></th>\n",
       "    </tr>\n",
       "  </thead>\n",
       "  <tbody>\n",
       "    <tr>\n",
       "      <th>p01_8459</th>\n",
       "      <td>9.160226</td>\n",
       "    </tr>\n",
       "    <tr>\n",
       "      <th>p01_8460</th>\n",
       "      <td>5.645409</td>\n",
       "    </tr>\n",
       "    <tr>\n",
       "      <th>p01_8461</th>\n",
       "      <td>7.865402</td>\n",
       "    </tr>\n",
       "    <tr>\n",
       "      <th>p01_8462</th>\n",
       "      <td>10.795289</td>\n",
       "    </tr>\n",
       "    <tr>\n",
       "      <th>p01_8463</th>\n",
       "      <td>6.663068</td>\n",
       "    </tr>\n",
       "    <tr>\n",
       "      <th>...</th>\n",
       "      <td>...</td>\n",
       "    </tr>\n",
       "    <tr>\n",
       "      <th>p24_256</th>\n",
       "      <td>6.091722</td>\n",
       "    </tr>\n",
       "    <tr>\n",
       "      <th>p24_257</th>\n",
       "      <td>10.232725</td>\n",
       "    </tr>\n",
       "    <tr>\n",
       "      <th>p24_258</th>\n",
       "      <td>6.419841</td>\n",
       "    </tr>\n",
       "    <tr>\n",
       "      <th>p24_259</th>\n",
       "      <td>8.147160</td>\n",
       "    </tr>\n",
       "    <tr>\n",
       "      <th>p24_260</th>\n",
       "      <td>6.022104</td>\n",
       "    </tr>\n",
       "  </tbody>\n",
       "</table>\n",
       "<p>3644 rows × 1 columns</p>\n",
       "</div>"
      ]
     },
     "execution_count": 9,
     "metadata": {},
     "output_type": "execute_result"
    }
   ],
   "execution_count": 9
  },
  {
   "metadata": {
    "ExecuteTime": {
     "end_time": "2024-11-30T14:58:52.117230Z",
     "start_time": "2024-11-30T14:58:52.113898Z"
    }
   },
   "cell_type": "code",
   "source": "",
   "id": "14f73d705f1ed0f2",
   "outputs": [],
   "execution_count": null
  }
 ],
 "metadata": {
  "kernelspec": {
   "display_name": "Python 3",
   "language": "python",
   "name": "python3"
  },
  "language_info": {
   "codemirror_mode": {
    "name": "ipython",
    "version": 2
   },
   "file_extension": ".py",
   "mimetype": "text/x-python",
   "name": "python",
   "nbconvert_exporter": "python",
   "pygments_lexer": "ipython2",
   "version": "2.7.6"
  }
 },
 "nbformat": 4,
 "nbformat_minor": 5
}
