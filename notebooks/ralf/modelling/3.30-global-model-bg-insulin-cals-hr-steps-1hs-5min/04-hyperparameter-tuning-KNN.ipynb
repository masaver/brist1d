{
 "cells": [
  {
   "metadata": {},
   "cell_type": "markdown",
   "source": "# Hyperparameter Tuning\n",
   "id": "c4f5fa4ffbc53369"
  },
  {
   "metadata": {
    "ExecuteTime": {
     "end_time": "2024-11-26T15:26:59.814901Z",
     "start_time": "2024-11-26T15:25:54.434824Z"
    }
   },
   "cell_type": "code",
   "source": [
    "import pandas as pd\n",
    "\n",
    "from data import load_data_selected_features\n",
    "from pipelines_selected_features import pipeline\n",
    "\n",
    "train_data, additional_train_data, test_data = load_data_selected_features()\n",
    "all_train_data = pipeline.fit_transform(pd.concat([train_data, additional_train_data]))\n",
    "\n",
    "# cut the data into train, additional train and test\n",
    "train_data = all_train_data.loc[train_data.index]\n",
    "additional_train_data = all_train_data.loc[additional_train_data.index]\n",
    "\n",
    "X_train = train_data.drop(columns=['bg+1:00'])\n",
    "y_train = train_data['bg+1:00']\n",
    "\n",
    "X_additional_train = additional_train_data.drop(columns=['bg+1:00'])\n",
    "y_additional_train = additional_train_data['bg+1:00']"
   ],
   "id": "6a34b21d4bb55fe0",
   "outputs": [],
   "execution_count": 1
  },
  {
   "metadata": {},
   "cell_type": "markdown",
   "source": "### Tune KneighborsRegressor",
   "id": "49e54cddfe4a3b63"
  },
  {
   "metadata": {
    "jupyter": {
     "is_executing": true
    },
    "ExecuteTime": {
     "start_time": "2024-11-26T15:26:59.825639Z"
    }
   },
   "cell_type": "code",
   "source": [
    "from sklearn.neighbors import KNeighborsRegressor\n",
    "from skopt.space import Integer, Categorical\n",
    "from model_hyperparameter_tuning import tune_hyperparameters\n",
    "\n",
    "search_space = {\n",
    "    'n_neighbors': Integer(3, 10),\n",
    "    'weights': Categorical(['uniform', 'distance']),\n",
    "    'p': Categorical([1, 2]),\n",
    "    'metric': Categorical(['minkowski', 'euclidean', 'chebyshev']),\n",
    "    'leaf_size': Integer(10, 50),\n",
    "}\n",
    "\n",
    "model = KNeighborsRegressor(n_jobs=2)\n",
    "best_estimator, best_params = tune_hyperparameters(model, search_space, pd.DataFrame(), pd.Series(), X_additional_train, y_additional_train, num_iter=20, n_splits=2)"
   ],
   "id": "750dad36f1674ba",
   "outputs": [
    {
     "name": "stdout",
     "output_type": "stream",
     "text": [
      "16:27:01 - Start tuning KNeighborsRegressor\n",
      "16:27:01 - Parameters: {'n_neighbors': Integer(low=3, high=10, prior='uniform', transform='identity'), 'weights': Categorical(categories=('uniform', 'distance'), prior=None), 'p': Categorical(categories=(1, 2), prior=None), 'metric': Categorical(categories=('minkowski', 'euclidean', 'chebyshev'), prior=None), 'leaf_size': Integer(low=10, high=50, prior='uniform', transform='identity')}\n",
      "16:27:01 - Fitting the model\n",
      "Fitting 2 folds for each of 1 candidates, totalling 2 fits\n"
     ]
    },
    {
     "name": "stderr",
     "output_type": "stream",
     "text": [
      "/Users/ralf/Projects/learning-projects/datascience-bootcamp/sep24_bds_int_medical/notebooks/ralf/modelling/3.30-global-model-bg-insulin-cals-hr-steps-1hs-5min/model_hyperparameter_tuning.py:55: FutureWarning: The behavior of array concatenation with empty entries is deprecated. In a future version, this will no longer exclude empty items when determining the result dtype. To retain the old behavior, exclude the empty entries before the concat operation.\n",
      "  y_all_train = pd.concat([y_train, y_additional_train])\n"
     ]
    },
    {
     "name": "stdout",
     "output_type": "stream",
     "text": [
      "Fitting 2 folds for each of 1 candidates, totalling 2 fits\n",
      "Fitting 2 folds for each of 1 candidates, totalling 2 fits\n"
     ]
    }
   ],
   "execution_count": null
  },
  {
   "metadata": {},
   "cell_type": "code",
   "source": [
    "import os\n",
    "import joblib\n",
    "\n",
    "best_estimator_file_name = f'{model.__class__.__name__}.best_estimator.pkl'\n",
    "joblib.dump(best_estimator, os.path.join('models', best_estimator_file_name))"
   ],
   "id": "b2976efd1463a4dc",
   "outputs": [],
   "execution_count": null
  }
 ],
 "metadata": {
  "kernelspec": {
   "display_name": "Python 3",
   "language": "python",
   "name": "python3"
  },
  "language_info": {
   "codemirror_mode": {
    "name": "ipython",
    "version": 2
   },
   "file_extension": ".py",
   "mimetype": "text/x-python",
   "name": "python",
   "nbconvert_exporter": "python",
   "pygments_lexer": "ipython2",
   "version": "2.7.6"
  }
 },
 "nbformat": 4,
 "nbformat_minor": 5
}
