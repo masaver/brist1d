{
 "cells": [
  {
   "metadata": {},
   "cell_type": "markdown",
   "source": "# Univariate Modelling",
   "id": "c4f5fa4ffbc53369"
  },
  {
   "metadata": {},
   "cell_type": "code",
   "source": [
    "import os\n",
    "import joblib\n",
    "import numpy as np\n",
    "import pandas as pd\n",
    "\n",
    "stored_models = [file for file in os.listdir() if file.endswith('.model.pkl')]\n",
    "stored_models"
   ],
   "id": "217d3e954a53f6f0",
   "outputs": [],
   "execution_count": null
  },
  {
   "metadata": {},
   "cell_type": "code",
   "source": [
    "estimators = []\n",
    "for model_file in stored_models:\n",
    "    print(f'Loading {model_file}')\n",
    "    model = joblib.load(model_file)\n",
    "    estimators.append((\n",
    "        model_file.replace('.model.pkl', ''),\n",
    "        model\n",
    "    ))\n",
    "\n",
    "estimators"
   ],
   "id": "6e6ab026dc179357",
   "outputs": [],
   "execution_count": null
  },
  {
   "metadata": {},
   "cell_type": "code",
   "source": [
    "from data import load_data\n",
    "\n",
    "train_data, test_data = load_data()\n",
    "\n",
    "unique_patients = test_data['p_num'].unique()\n",
    "train_data = train_data[train_data['p_num'].isin(unique_patients)]\n",
    "test_data = test_data[test_data['p_num'].isin(unique_patients)]\n",
    "\n",
    "train_data.head()"
   ],
   "id": "ed9cab10a4c9269",
   "outputs": [],
   "execution_count": null
  },
  {
   "metadata": {},
   "cell_type": "markdown",
   "source": "## Predict for validation data and check results",
   "id": "9b608adb90b0235e"
  },
  {
   "metadata": {},
   "cell_type": "code",
   "source": [
    "from sklearn.ensemble import StackingRegressor\n",
    "from sklearn.linear_model import ElasticNet\n",
    "from pipelines import pipeline\n",
    "\n",
    "train_data_transformed = pipeline.fit_transform(train_data)\n",
    "\n",
    "X_train = train_data_transformed.drop(columns=['bg+1:00'])\n",
    "y_train = train_data_transformed['bg+1:00']\n",
    "\n",
    "base_models = [model for model in estimators]\n",
    "meta_model = ElasticNet(alpha=0.1, l1_ratio=0.5, max_iter=10000)\n",
    "\n",
    "model = StackingRegressor(estimators=base_models, final_estimator=meta_model)\n",
    "model.fit(X=X_train, y=y_train)"
   ],
   "id": "7e0583e9ae957c2d",
   "outputs": [],
   "execution_count": null
  },
  {
   "metadata": {},
   "cell_type": "markdown",
   "source": "# Prepare test results",
   "id": "ab64321f938f2894"
  },
  {
   "metadata": {},
   "cell_type": "code",
   "source": [
    "test_data = pipeline.transform(test_data)\n",
    "y_pred = model.predict(test_data)\n",
    "\n",
    "# count and replace negative values\n",
    "if np.sum(y_pred < 0) > 0:\n",
    "    print(f'Number of negative values: {np.sum(y_pred < 0)}')\n",
    "    bg_min_train = np.min(y_train)\n",
    "    print(f'Min value: {np.min(y_pred)}')\n",
    "    y_pred = y_pred.apply(lambda x: bg_min_train if x < 0 else x)\n",
    "\n",
    "test_data['bg+1:00'] = y_pred\n",
    "test_data.head()"
   ],
   "id": "3f00f8aca73df9d6",
   "outputs": [],
   "execution_count": null
  },
  {
   "metadata": {},
   "cell_type": "markdown",
   "source": "## Prepare the submission file",
   "id": "62816c36690eb120"
  },
  {
   "metadata": {},
   "cell_type": "code",
   "source": [
    "submission = pd.DataFrame(test_data['bg+1:00'])\n",
    "submission"
   ],
   "id": "67839b46a87a5226",
   "outputs": [],
   "execution_count": null
  },
  {
   "metadata": {},
   "cell_type": "markdown",
   "source": "### Save the submission file",
   "id": "c76df6ba407a2d0b"
  },
  {
   "metadata": {},
   "cell_type": "code",
   "source": "submission.to_csv(f'submission-{os.path.basename(os.getcwd())}.csv')",
   "id": "a9c239f3e1efc4c9",
   "outputs": [],
   "execution_count": null
  }
 ],
 "metadata": {
  "kernelspec": {
   "display_name": "Python 3",
   "language": "python",
   "name": "python3"
  },
  "language_info": {
   "codemirror_mode": {
    "name": "ipython",
    "version": 2
   },
   "file_extension": ".py",
   "mimetype": "text/x-python",
   "name": "python",
   "nbconvert_exporter": "python",
   "pygments_lexer": "ipython2",
   "version": "2.7.6"
  }
 },
 "nbformat": 4,
 "nbformat_minor": 5
}
