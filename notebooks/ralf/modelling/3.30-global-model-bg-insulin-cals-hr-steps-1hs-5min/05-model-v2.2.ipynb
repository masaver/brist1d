{
 "cells": [
  {
   "metadata": {},
   "cell_type": "markdown",
   "source": [
    "# Changes from Model v2.1\n",
    "\n",
    "We improved from 2.0 to 2.1 some digits\n",
    "To make sure the model is not overfitting, we are going to change some parameters:\n",
    "\n",
    "* number of estimators from 1000 to 2000\n",
    "* learning rate from 0.05 to 0.03\n",
    "* increasing the reg_lambda from 10 to 15\n",
    "* increasing the reg_alpha from 1 to 2\n",
    "\n",
    "Updating the parameters for XKB v2.0 from:\n",
    "\n",
    "``` python\n",
    "xgb_base_model = XGBRegressor(\n",
    "    n_estimators=1000,\n",
    "    max_depth=6,\n",
    "    learning_rate=0.05,\n",
    "    min_child_weight=6,\n",
    "    colsample_bytree=0.8,\n",
    "    subsample=0.8,\n",
    "    gamma=1,\n",
    "    reg_lambda=10.0,\n",
    "    reg_alpha=1.0,\n",
    "    objective='reg:squarederror',\n",
    "    random_state=42,\n",
    ")\n",
    "```\n",
    "\n",
    "to\n",
    "\n",
    "``` python\n",
    "xgb_base_model = XGBRegressor(\n",
    "    n_estimators=2000,\n",
    "    max_depth=6,\n",
    "    learning_rate=0.03,\n",
    "    min_child_weight=6,\n",
    "    colsample_bytree=0.8,\n",
    "    subsample=0.8,\n",
    "    gamma=1,\n",
    "    reg_lambda=15.0,\n",
    "    reg_alpha=2.0,\n",
    "    objective='reg:squarederror',\n",
    "    random_state=42,\n",
    ")\n",
    "```\n",
    "\n",
    "**Result Score: xxx**\n",
    "\n",
    "Conclusion:\n",
    "\n",
    "* The RMSEs of out train/test splits are great and seem to be improving a lot the predictions.\n",
    "* This is not the case. I think we have here a overfitting problem.  "
   ],
   "id": "c75e9ea83e003a8d"
  },
  {
   "metadata": {},
   "cell_type": "markdown",
   "source": "# Create a baseline model",
   "id": "c4f5fa4ffbc53369"
  },
  {
   "metadata": {
    "ExecuteTime": {
     "end_time": "2024-11-26T15:24:57.538948Z",
     "start_time": "2024-11-26T15:24:43.371093Z"
    }
   },
   "cell_type": "code",
   "source": [
    "import pandas as pd\n",
    "\n",
    "from data import load_data_selected_features\n",
    "\n",
    "train_data, additional_train_data, test_data = load_data_selected_features()"
   ],
   "id": "ed9cab10a4c9269",
   "outputs": [],
   "execution_count": 1
  },
  {
   "metadata": {
    "ExecuteTime": {
     "end_time": "2024-11-26T15:24:57.564401Z",
     "start_time": "2024-11-26T15:24:57.550035Z"
    }
   },
   "cell_type": "code",
   "source": "train_data.info()",
   "id": "af6bdd55ecd2a72b",
   "outputs": [
    {
     "name": "stdout",
     "output_type": "stream",
     "text": [
      "<class 'pandas.core.frame.DataFrame'>\n",
      "Index: 150996 entries, p01_0 to p12_25298\n",
      "Columns: 507 entries, p_num to bg+1:00\n",
      "dtypes: float64(433), object(74)\n",
      "memory usage: 585.2+ MB\n"
     ]
    }
   ],
   "execution_count": 2
  },
  {
   "metadata": {
    "ExecuteTime": {
     "end_time": "2024-11-26T15:24:57.669061Z",
     "start_time": "2024-11-26T15:24:57.658646Z"
    }
   },
   "cell_type": "code",
   "source": "additional_train_data.info()",
   "id": "e6efef1597276890",
   "outputs": [
    {
     "name": "stdout",
     "output_type": "stream",
     "text": [
      "<class 'pandas.core.frame.DataFrame'>\n",
      "Index: 168588 entries, p01_test_12 to p24_test_94938\n",
      "Columns: 507 entries, p_num to bg+1:00\n",
      "dtypes: float64(433), object(74)\n",
      "memory usage: 657.4+ MB\n"
     ]
    }
   ],
   "execution_count": 3
  },
  {
   "metadata": {
    "ExecuteTime": {
     "end_time": "2024-11-26T15:24:57.751814Z",
     "start_time": "2024-11-26T15:24:57.737883Z"
    }
   },
   "cell_type": "code",
   "source": "test_data.info()",
   "id": "16d75f6d697d8bc7",
   "outputs": [
    {
     "name": "stdout",
     "output_type": "stream",
     "text": [
      "<class 'pandas.core.frame.DataFrame'>\n",
      "Index: 3644 entries, p01_8459 to p24_260\n",
      "Columns: 506 entries, p_num to activity-0:00\n",
      "dtypes: float64(432), object(74)\n",
      "memory usage: 14.2+ MB\n"
     ]
    }
   ],
   "execution_count": 4
  },
  {
   "metadata": {},
   "cell_type": "markdown",
   "source": "# Prepare the data",
   "id": "fc5e077e5738d8eb"
  },
  {
   "metadata": {
    "ExecuteTime": {
     "end_time": "2024-11-26T15:25:40.870462Z",
     "start_time": "2024-11-26T15:24:57.783035Z"
    }
   },
   "cell_type": "code",
   "source": [
    "from pipelines_selected_features import pipeline\n",
    "\n",
    "all_train_data = pd.concat([train_data, additional_train_data], axis=0)\n",
    "all_train_data_transformed = pipeline.fit_transform(all_train_data)\n",
    "\n",
    "train_data_transformed = all_train_data_transformed[:len(train_data)]\n",
    "additional_train_data_transformed = all_train_data_transformed[len(train_data):]\n",
    "\n",
    "X_train = train_data_transformed.drop(columns=['bg+1:00'])\n",
    "y_train = train_data_transformed['bg+1:00']\n",
    "\n",
    "X_additional_train = additional_train_data_transformed.drop(columns=['bg+1:00'])\n",
    "y_additional_train = additional_train_data_transformed['bg+1:00']"
   ],
   "id": "c7df704ede80b62",
   "outputs": [],
   "execution_count": 5
  },
  {
   "metadata": {},
   "cell_type": "markdown",
   "source": "## Create the model",
   "id": "9b608adb90b0235e"
  },
  {
   "metadata": {
    "ExecuteTime": {
     "end_time": "2024-11-26T15:25:41.046084Z",
     "start_time": "2024-11-26T15:25:40.897559Z"
    }
   },
   "cell_type": "code",
   "source": [
    "from sklearn.neighbors import KNeighborsRegressor\n",
    "from xgboost import XGBRegressor\n",
    "from sklearn.ensemble import StackingRegressor, HistGradientBoostingRegressor\n",
    "from sklearn.linear_model import LassoLarsIC, Ridge\n",
    "\n",
    "hgb_estimator = HistGradientBoostingRegressor(\n",
    "    l2_regularization=0.0001,\n",
    "    learning_rate=0.1,\n",
    "    max_depth=11,\n",
    "    max_iter=1500,\n",
    "    min_samples_leaf=10,\n",
    "    n_iter_no_change=22,\n",
    "    random_state=42,\n",
    ")\n",
    "\n",
    "lasso_lars_ic_base_model = LassoLarsIC(\n",
    "    criterion='aic',\n",
    "    eps=0.03922948513965659,\n",
    "    max_iter=1944,\n",
    "    noise_variance=5.4116687755186035e-05,\n",
    "    positive=False,\n",
    ")\n",
    "knn_base_model = KNeighborsRegressor(n_neighbors=5)\n",
    "\n",
    "xgb_base_model = XGBRegressor(\n",
    "    n_estimators=2000,\n",
    "    max_depth=6,\n",
    "    learning_rate=0.03,\n",
    "    min_child_weight=6,\n",
    "    colsample_bytree=0.8,\n",
    "    subsample=0.8,\n",
    "    gamma=1,\n",
    "    reg_lambda=15.0,\n",
    "    reg_alpha=2.0,\n",
    "    objective='reg:squarederror',\n",
    "    random_state=42,\n",
    ")\n",
    "\n",
    "estimators = [\n",
    "    ('hgb', hgb_estimator),\n",
    "    ('lasso_lars_ic', lasso_lars_ic_base_model),\n",
    "    ('knn', knn_base_model),\n",
    "    ('xgb', xgb_base_model),\n",
    "]\n",
    "\n",
    "model = StackingRegressor(estimators=estimators, final_estimator=Ridge(alpha=0.1), n_jobs=-1, verbose=2)"
   ],
   "id": "7e0583e9ae957c2d",
   "outputs": [],
   "execution_count": 6
  },
  {
   "metadata": {
    "jupyter": {
     "is_executing": true
    },
    "ExecuteTime": {
     "start_time": "2024-11-26T15:25:41.083637Z"
    }
   },
   "cell_type": "code",
   "source": [
    "from datetime import datetime\n",
    "import os\n",
    "from model_performance_calculations import calculate_stacking_regressor_performance, get_rmse_boxplot_chart, get_rmse_line_chart, save_performances, save_model\n",
    "\n",
    "date_time = datetime.now().strftime('%Y-%m-%d_%H-%M-%S')\n",
    "model_name = f'{date_time}-model-v2.2'\n",
    "\n",
    "save_model(model, os.path.join('models', f'{model_name}.pkl'))\n",
    "\n",
    "performances = calculate_stacking_regressor_performance(model, X_train, y_train, X_additional_train, y_additional_train, n_splits=5)\n",
    "save_performances(performances, os.path.join('models', f'{model_name}-performances.json'))\n",
    "\n",
    "get_rmse_boxplot_chart(performances).show()\n",
    "get_rmse_line_chart(performances).show()"
   ],
   "id": "c0be6db84ab0c1b0",
   "outputs": [
    {
     "name": "stdout",
     "output_type": "stream",
     "text": [
      "16:25:44 - 16:25:44 - Start training\n",
      "16:25:44 - 16:25:44 - Calculate performance for hgb\n",
      "16:25:44 - 16:25:44 - Splitting the additional train data with ShuffleSplit\n",
      "16:25:44 - 16:25:44 - Split 1 - Model: hgb\n",
      "16:25:44 - 16:25:44 - Fitting the model\n"
     ]
    }
   ],
   "execution_count": null
  },
  {
   "metadata": {},
   "cell_type": "markdown",
   "source": "## Predict test data",
   "id": "7ee5576c9e913a69"
  },
  {
   "metadata": {},
   "cell_type": "code",
   "source": [
    "import numpy as np\n",
    "from pipelines_selected_features import pipeline\n",
    "\n",
    "all_train_data = pipeline.fit_transform(pd.concat([train_data, additional_train_data], axis=0))\n",
    "\n",
    "X_train = all_train_data_transformed.drop(columns=['bg+1:00'])\n",
    "y_train = all_train_data_transformed['bg+1:00']\n",
    "\n",
    "model.fit(X_train, y_train)\n",
    "\n",
    "X_test = pipeline.transform(test_data)\n",
    "\n",
    "y_pred = model.predict(X_test)\n",
    "\n",
    "if np.sum(y_pred < 0) > 0:\n",
    "    print(f'Number of negative values: {np.sum(y_pred < 0)}')\n",
    "bg_min_train = np.min(y_train)\n",
    "print(f'Min value: {np.min(y_pred)}')\n",
    "y_pred = y_pred.apply(lambda x: bg_min_train if x < 0 else x)\n",
    "\n",
    "test_data['bg+1:00'] = y_pred\n",
    "test_data.head()"
   ],
   "id": "8fb92faa36105606",
   "outputs": [],
   "execution_count": null
  },
  {
   "metadata": {},
   "cell_type": "code",
   "source": [
    "submission = pd.DataFrame(test_data['bg+1:00'])\n",
    "submission"
   ],
   "id": "19ce448d0e486ac7",
   "outputs": [],
   "execution_count": null
  },
  {
   "metadata": {},
   "cell_type": "code",
   "source": "submission.to_csv(f'submission-{model_name}.csv')",
   "id": "fa7b9764c9c3a82e",
   "outputs": [],
   "execution_count": null
  },
  {
   "metadata": {},
   "cell_type": "code",
   "source": "",
   "id": "398e8056af32612f",
   "outputs": [],
   "execution_count": null
  }
 ],
 "metadata": {
  "kernelspec": {
   "display_name": "Python 3",
   "language": "python",
   "name": "python3"
  },
  "language_info": {
   "codemirror_mode": {
    "name": "ipython",
    "version": 2
   },
   "file_extension": ".py",
   "mimetype": "text/x-python",
   "name": "python",
   "nbconvert_exporter": "python",
   "pygments_lexer": "ipython2",
   "version": "2.7.6"
  }
 },
 "nbformat": 4,
 "nbformat_minor": 5
}
