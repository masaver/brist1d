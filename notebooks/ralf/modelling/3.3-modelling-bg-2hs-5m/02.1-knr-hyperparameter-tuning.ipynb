{
 "cells": [
  {
   "metadata": {},
   "cell_type": "markdown",
   "source": [
    "# Modelling Selected Parameters at 0:00 + Day Phase\n",
    "\n",
    "## KNeighborsRegressor - Hyperparameter Tuning"
   ],
   "id": "c4f5fa4ffbc53369"
  },
  {
   "metadata": {
    "ExecuteTime": {
     "end_time": "2024-11-08T20:05:36.071842Z",
     "start_time": "2024-11-08T20:05:35.833168Z"
    }
   },
   "cell_type": "code",
   "source": [
    "# Importing the libraries\n",
    "import os\n",
    "import pandas as pd"
   ],
   "id": "a3b2d749037733c4",
   "outputs": [],
   "execution_count": 1
  },
  {
   "metadata": {
    "ExecuteTime": {
     "end_time": "2024-11-08T20:05:44.605210Z",
     "start_time": "2024-11-08T20:05:36.074295Z"
    }
   },
   "cell_type": "code",
   "source": [
    "# Load and preprocess the train data \n",
    "from pipelines import pipeline\n",
    "\n",
    "data_file = os.path.join('..', '..', '..', '..', 'data', 'raw', 'train.csv')\n",
    "train_data = pd.read_csv(data_file, index_col=0, low_memory=False)\n",
    "train_data = pipeline.fit_transform(train_data)\n",
    "train_data.head()"
   ],
   "id": "ae6dcbcc06aedbe6",
   "outputs": [
    {
     "data": {
      "text/plain": [
       "        bg-2:00   bg-1:55   bg-1:50   bg-1:45   bg-1:40   bg-1:35   bg-1:30  \\\n",
       "id                                                                            \n",
       "p01_0  2.979792  3.094627  3.205219  3.313738  3.339790  3.360325  3.378547   \n",
       "p01_1  3.313825  3.339864  3.361240  3.380543  3.339790  3.293475  3.245003   \n",
       "p01_2  3.380632  3.339864  3.294374  3.246934  3.172584  3.092925  3.011302   \n",
       "p01_3  3.247019  3.172657  3.093776  3.013119  3.038818  3.059500  3.078074   \n",
       "p01_4  3.013196  3.038892  3.060343  3.079923  3.061113  3.037216  3.011302   \n",
       "\n",
       "        bg-1:25   bg-1:20   bg-1:15  ...   bg-0:20   bg-0:15   bg-0:10  \\\n",
       "id                                   ...                                 \n",
       "p01_0  3.337554  3.291901  3.243637  ...  2.767561  2.641773  2.523390   \n",
       "p01_1  3.170443  3.091433  3.010016  ...  2.400222  2.274907  2.200512   \n",
       "p01_2  3.036755  3.058022  3.076765  ...  2.121935  2.041447  1.988971   \n",
       "p01_3  3.059036  3.035748  3.010016  ...  1.932700  1.874690  1.866500   \n",
       "p01_4  2.891926  2.768457  2.642898  ...  1.854780  1.841338  1.799698   \n",
       "\n",
       "        bg-0:05   bg-0:00  bg+1:00  day_phase_evening  day_phase_morning  \\\n",
       "id                                                                         \n",
       "p01_0  2.400975  2.275154     13.4              False               True   \n",
       "p01_1  2.122636  2.041687     12.8              False               True   \n",
       "p01_2  1.933365  1.874925     15.5              False               True   \n",
       "p01_3  1.855430  1.841572     14.8              False               True   \n",
       "p01_4  1.755228  1.708162     12.7              False               True   \n",
       "\n",
       "       day_phase_night  day_phase_noon  \n",
       "id                                      \n",
       "p01_0            False           False  \n",
       "p01_1            False           False  \n",
       "p01_2            False           False  \n",
       "p01_3            False           False  \n",
       "p01_4            False           False  \n",
       "\n",
       "[5 rows x 30 columns]"
      ],
      "text/html": [
       "<div>\n",
       "<style scoped>\n",
       "    .dataframe tbody tr th:only-of-type {\n",
       "        vertical-align: middle;\n",
       "    }\n",
       "\n",
       "    .dataframe tbody tr th {\n",
       "        vertical-align: top;\n",
       "    }\n",
       "\n",
       "    .dataframe thead th {\n",
       "        text-align: right;\n",
       "    }\n",
       "</style>\n",
       "<table border=\"1\" class=\"dataframe\">\n",
       "  <thead>\n",
       "    <tr style=\"text-align: right;\">\n",
       "      <th></th>\n",
       "      <th>bg-2:00</th>\n",
       "      <th>bg-1:55</th>\n",
       "      <th>bg-1:50</th>\n",
       "      <th>bg-1:45</th>\n",
       "      <th>bg-1:40</th>\n",
       "      <th>bg-1:35</th>\n",
       "      <th>bg-1:30</th>\n",
       "      <th>bg-1:25</th>\n",
       "      <th>bg-1:20</th>\n",
       "      <th>bg-1:15</th>\n",
       "      <th>...</th>\n",
       "      <th>bg-0:20</th>\n",
       "      <th>bg-0:15</th>\n",
       "      <th>bg-0:10</th>\n",
       "      <th>bg-0:05</th>\n",
       "      <th>bg-0:00</th>\n",
       "      <th>bg+1:00</th>\n",
       "      <th>day_phase_evening</th>\n",
       "      <th>day_phase_morning</th>\n",
       "      <th>day_phase_night</th>\n",
       "      <th>day_phase_noon</th>\n",
       "    </tr>\n",
       "    <tr>\n",
       "      <th>id</th>\n",
       "      <th></th>\n",
       "      <th></th>\n",
       "      <th></th>\n",
       "      <th></th>\n",
       "      <th></th>\n",
       "      <th></th>\n",
       "      <th></th>\n",
       "      <th></th>\n",
       "      <th></th>\n",
       "      <th></th>\n",
       "      <th></th>\n",
       "      <th></th>\n",
       "      <th></th>\n",
       "      <th></th>\n",
       "      <th></th>\n",
       "      <th></th>\n",
       "      <th></th>\n",
       "      <th></th>\n",
       "      <th></th>\n",
       "      <th></th>\n",
       "      <th></th>\n",
       "    </tr>\n",
       "  </thead>\n",
       "  <tbody>\n",
       "    <tr>\n",
       "      <th>p01_0</th>\n",
       "      <td>2.979792</td>\n",
       "      <td>3.094627</td>\n",
       "      <td>3.205219</td>\n",
       "      <td>3.313738</td>\n",
       "      <td>3.339790</td>\n",
       "      <td>3.360325</td>\n",
       "      <td>3.378547</td>\n",
       "      <td>3.337554</td>\n",
       "      <td>3.291901</td>\n",
       "      <td>3.243637</td>\n",
       "      <td>...</td>\n",
       "      <td>2.767561</td>\n",
       "      <td>2.641773</td>\n",
       "      <td>2.523390</td>\n",
       "      <td>2.400975</td>\n",
       "      <td>2.275154</td>\n",
       "      <td>13.4</td>\n",
       "      <td>False</td>\n",
       "      <td>True</td>\n",
       "      <td>False</td>\n",
       "      <td>False</td>\n",
       "    </tr>\n",
       "    <tr>\n",
       "      <th>p01_1</th>\n",
       "      <td>3.313825</td>\n",
       "      <td>3.339864</td>\n",
       "      <td>3.361240</td>\n",
       "      <td>3.380543</td>\n",
       "      <td>3.339790</td>\n",
       "      <td>3.293475</td>\n",
       "      <td>3.245003</td>\n",
       "      <td>3.170443</td>\n",
       "      <td>3.091433</td>\n",
       "      <td>3.010016</td>\n",
       "      <td>...</td>\n",
       "      <td>2.400222</td>\n",
       "      <td>2.274907</td>\n",
       "      <td>2.200512</td>\n",
       "      <td>2.122636</td>\n",
       "      <td>2.041687</td>\n",
       "      <td>12.8</td>\n",
       "      <td>False</td>\n",
       "      <td>True</td>\n",
       "      <td>False</td>\n",
       "      <td>False</td>\n",
       "    </tr>\n",
       "    <tr>\n",
       "      <th>p01_2</th>\n",
       "      <td>3.380632</td>\n",
       "      <td>3.339864</td>\n",
       "      <td>3.294374</td>\n",
       "      <td>3.246934</td>\n",
       "      <td>3.172584</td>\n",
       "      <td>3.092925</td>\n",
       "      <td>3.011302</td>\n",
       "      <td>3.036755</td>\n",
       "      <td>3.058022</td>\n",
       "      <td>3.076765</td>\n",
       "      <td>...</td>\n",
       "      <td>2.121935</td>\n",
       "      <td>2.041447</td>\n",
       "      <td>1.988971</td>\n",
       "      <td>1.933365</td>\n",
       "      <td>1.874925</td>\n",
       "      <td>15.5</td>\n",
       "      <td>False</td>\n",
       "      <td>True</td>\n",
       "      <td>False</td>\n",
       "      <td>False</td>\n",
       "    </tr>\n",
       "    <tr>\n",
       "      <th>p01_3</th>\n",
       "      <td>3.247019</td>\n",
       "      <td>3.172657</td>\n",
       "      <td>3.093776</td>\n",
       "      <td>3.013119</td>\n",
       "      <td>3.038818</td>\n",
       "      <td>3.059500</td>\n",
       "      <td>3.078074</td>\n",
       "      <td>3.059036</td>\n",
       "      <td>3.035748</td>\n",
       "      <td>3.010016</td>\n",
       "      <td>...</td>\n",
       "      <td>1.932700</td>\n",
       "      <td>1.874690</td>\n",
       "      <td>1.866500</td>\n",
       "      <td>1.855430</td>\n",
       "      <td>1.841572</td>\n",
       "      <td>14.8</td>\n",
       "      <td>False</td>\n",
       "      <td>True</td>\n",
       "      <td>False</td>\n",
       "      <td>False</td>\n",
       "    </tr>\n",
       "    <tr>\n",
       "      <th>p01_4</th>\n",
       "      <td>3.013196</td>\n",
       "      <td>3.038892</td>\n",
       "      <td>3.060343</td>\n",
       "      <td>3.079923</td>\n",
       "      <td>3.061113</td>\n",
       "      <td>3.037216</td>\n",
       "      <td>3.011302</td>\n",
       "      <td>2.891926</td>\n",
       "      <td>2.768457</td>\n",
       "      <td>2.642898</td>\n",
       "      <td>...</td>\n",
       "      <td>1.854780</td>\n",
       "      <td>1.841338</td>\n",
       "      <td>1.799698</td>\n",
       "      <td>1.755228</td>\n",
       "      <td>1.708162</td>\n",
       "      <td>12.7</td>\n",
       "      <td>False</td>\n",
       "      <td>True</td>\n",
       "      <td>False</td>\n",
       "      <td>False</td>\n",
       "    </tr>\n",
       "  </tbody>\n",
       "</table>\n",
       "<p>5 rows × 30 columns</p>\n",
       "</div>"
      ]
     },
     "execution_count": 2,
     "metadata": {},
     "output_type": "execute_result"
    }
   ],
   "execution_count": 2
  },
  {
   "metadata": {
    "ExecuteTime": {
     "end_time": "2024-11-08T20:05:44.790798Z",
     "start_time": "2024-11-08T20:05:44.780196Z"
    }
   },
   "cell_type": "code",
   "source": [
    "X = train_data.drop(columns=['bg+1:00'])\n",
    "y = train_data['bg+1:00']"
   ],
   "id": "19940f9e6309dca",
   "outputs": [],
   "execution_count": 3
  },
  {
   "metadata": {
    "ExecuteTime": {
     "end_time": "2024-11-08T20:18:10.120642Z",
     "start_time": "2024-11-08T20:05:44.815284Z"
    }
   },
   "cell_type": "code",
   "source": [
    "import numpy as np\n",
    "from skopt import BayesSearchCV\n",
    "from sklearn.neighbors import KNeighborsRegressor\n",
    "from skopt.space import Integer, Categorical\n",
    "\n",
    "param_space = {\n",
    "    'n_neighbors': Integer(3, 11),\n",
    "    'weights': Categorical(['uniform', 'distance']),\n",
    "    'algorithm': Categorical(['auto', 'ball_tree', 'kd_tree', 'brute']), \n",
    "    'leaf_size': Integer(20, 50),  # Continuous range for integer leaf_size\n",
    "    'p': Categorical([1, 2]) # L1 or L2 distance\n",
    "}\n",
    "\n",
    "k_neighbors_regressor = KNeighborsRegressor()\n",
    "bayes_search = BayesSearchCV(\n",
    "    estimator=k_neighbors_regressor,\n",
    "    search_spaces=param_space,\n",
    "    n_iter=30,\n",
    "    scoring='neg_mean_squared_error',\n",
    "    cv=5,\n",
    "    n_jobs=-1,\n",
    "    random_state=42\n",
    ")\n",
    "\n",
    "# Fit the model\n",
    "np.int = int\n",
    "bayes_search.fit(X=X, y=y)\n",
    "\n",
    "# Get the best parameters and best score\n",
    "best_params = bayes_search.best_params_\n",
    "best_score = bayes_search.best_score_\n",
    "\n",
    "print(\"Best parameters found: \", best_params)\n",
    "print(\"Best score: \", best_score)"
   ],
   "id": "b0ee1052994b170",
   "outputs": [
    {
     "name": "stderr",
     "output_type": "stream",
     "text": [
      "/Users/ralf/Projects/learning-projects/datascience-bootcamp/sep24_bds_int_medical/.venv/lib/python3.12/site-packages/skopt/optimizer/optimizer.py:449: UserWarning: The objective has been evaluated at this point before.\n",
      "  warnings.warn(\"The objective has been evaluated \"\n",
      "/Users/ralf/Projects/learning-projects/datascience-bootcamp/sep24_bds_int_medical/.venv/lib/python3.12/site-packages/skopt/optimizer/optimizer.py:449: UserWarning: The objective has been evaluated at this point before.\n",
      "  warnings.warn(\"The objective has been evaluated \"\n",
      "/Users/ralf/Projects/learning-projects/datascience-bootcamp/sep24_bds_int_medical/.venv/lib/python3.12/site-packages/skopt/optimizer/optimizer.py:449: UserWarning: The objective has been evaluated at this point before.\n",
      "  warnings.warn(\"The objective has been evaluated \"\n",
      "/Users/ralf/Projects/learning-projects/datascience-bootcamp/sep24_bds_int_medical/.venv/lib/python3.12/site-packages/skopt/optimizer/optimizer.py:449: UserWarning: The objective has been evaluated at this point before.\n",
      "  warnings.warn(\"The objective has been evaluated \"\n",
      "/Users/ralf/Projects/learning-projects/datascience-bootcamp/sep24_bds_int_medical/.venv/lib/python3.12/site-packages/skopt/optimizer/optimizer.py:449: UserWarning: The objective has been evaluated at this point before.\n",
      "  warnings.warn(\"The objective has been evaluated \"\n",
      "/Users/ralf/Projects/learning-projects/datascience-bootcamp/sep24_bds_int_medical/.venv/lib/python3.12/site-packages/skopt/optimizer/optimizer.py:449: UserWarning: The objective has been evaluated at this point before.\n",
      "  warnings.warn(\"The objective has been evaluated \"\n",
      "/Users/ralf/Projects/learning-projects/datascience-bootcamp/sep24_bds_int_medical/.venv/lib/python3.12/site-packages/skopt/optimizer/optimizer.py:449: UserWarning: The objective has been evaluated at this point before.\n",
      "  warnings.warn(\"The objective has been evaluated \"\n",
      "/Users/ralf/Projects/learning-projects/datascience-bootcamp/sep24_bds_int_medical/.venv/lib/python3.12/site-packages/skopt/optimizer/optimizer.py:449: UserWarning: The objective has been evaluated at this point before.\n",
      "  warnings.warn(\"The objective has been evaluated \"\n"
     ]
    },
    {
     "name": "stdout",
     "output_type": "stream",
     "text": [
      "Best parameters found:  OrderedDict({'algorithm': 'kd_tree', 'leaf_size': 20, 'n_neighbors': 11, 'p': 2, 'weights': 'uniform'})\n",
      "Best score:  -5.255923019344582\n"
     ]
    }
   ],
   "execution_count": 4
  },
  {
   "metadata": {
    "ExecuteTime": {
     "end_time": "2024-11-08T20:18:10.128458Z",
     "start_time": "2024-11-08T20:18:10.124907Z"
    }
   },
   "cell_type": "code",
   "source": [
    "# create and save model with best parameters\n",
    "import joblib\n",
    "\n",
    "k_neighbors_regressor = KNeighborsRegressor(**best_params)\n",
    "joblib.dump(k_neighbors_regressor, 'knr.model.pkl')"
   ],
   "id": "fb3f9d6e151aaac3",
   "outputs": [
    {
     "data": {
      "text/plain": [
       "['knr.model.pkl']"
      ]
     },
     "execution_count": 5,
     "metadata": {},
     "output_type": "execute_result"
    }
   ],
   "execution_count": 5
  },
  {
   "metadata": {
    "ExecuteTime": {
     "end_time": "2024-11-08T20:18:52.688231Z",
     "start_time": "2024-11-08T20:18:10.179741Z"
    }
   },
   "cell_type": "code",
   "source": [
    "from sklearn.metrics import root_mean_squared_error, r2_score, PredictionErrorDisplay\n",
    "import matplotlib.pyplot as plt\n",
    "\n",
    "k_neighbors_regressor.fit(X=X, y=y)\n",
    "y_pred = k_neighbors_regressor.predict(X=X)\n",
    "print(f'RMSE: {root_mean_squared_error(y_true=y, y_pred=y_pred)}')\n",
    "print(f'R2: {r2_score(y_true=y, y_pred=y_pred)}')\n",
    "\n",
    "fig, axs = plt.subplots(ncols=2, figsize=(8, 4))\n",
    "PredictionErrorDisplay.from_predictions(\n",
    "    y_true=y,\n",
    "    y_pred=y_pred,\n",
    "    kind=\"actual_vs_predicted\",\n",
    "    subsample=100,\n",
    "    ax=axs[0],\n",
    "    random_state=0,\n",
    ")\n",
    "axs[0].set_title(\"Actual vs. Predicted values\")\n",
    "PredictionErrorDisplay.from_predictions(\n",
    "    y_true=y,\n",
    "    y_pred=y_pred,\n",
    "    kind=\"residual_vs_predicted\",\n",
    "    subsample=100,\n",
    "    ax=axs[1],\n",
    "    random_state=0,\n",
    ")\n",
    "axs[1].set_title(\"Residuals vs. Predicted Values\")\n",
    "fig.suptitle(\"Plotting cross-validated predictions\")\n",
    "plt.tight_layout()\n",
    "plt.show();"
   ],
   "id": "ac6463c0730e4d6d",
   "outputs": [
    {
     "name": "stdout",
     "output_type": "stream",
     "text": [
      "RMSE: 1.721826380608968\n",
      "R2: 0.6697961962477332\n"
     ]
    },
    {
     "data": {
      "text/plain": [
       "<Figure size 800x400 with 2 Axes>"
      ],
      "image/png": "[encoded data removed]"
     },
     "metadata": {},
     "output_type": "display_data"
    }
   ],
   "execution_count": 6
  }
 ],
 "metadata": {
  "kernelspec": {
   "display_name": "Python 3",
   "language": "python",
   "name": "python3"
  },
  "language_info": {
   "codemirror_mode": {
    "name": "ipython",
    "version": 2
   },
   "file_extension": ".py",
   "mimetype": "text/x-python",
   "name": "python",
   "nbconvert_exporter": "python",
   "pygments_lexer": "ipython2",
   "version": "2.7.6"
  }
 },
 "nbformat": 4,
 "nbformat_minor": 5
}
