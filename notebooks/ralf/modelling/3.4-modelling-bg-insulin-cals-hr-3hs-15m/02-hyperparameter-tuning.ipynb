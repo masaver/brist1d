{
 "cells": [
  {
   "metadata": {},
   "cell_type": "markdown",
   "source": "# Hyperparameter Tuning\n",
   "id": "c4f5fa4ffbc53369"
  },
  {
   "metadata": {
    "ExecuteTime": {
     "end_time": "2024-11-09T20:24:20.158103Z",
     "start_time": "2024-11-09T20:24:19.892666Z"
    }
   },
   "cell_type": "code",
   "source": [
    "# Importing the libraries\n",
    "import joblib\n",
    "import os\n",
    "import pandas as pd"
   ],
   "id": "a3b2d749037733c4",
   "outputs": [],
   "execution_count": 1
  },
  {
   "metadata": {
    "ExecuteTime": {
     "end_time": "2024-11-09T20:24:36.428407Z",
     "start_time": "2024-11-09T20:24:20.975059Z"
    }
   },
   "cell_type": "code",
   "source": [
    "# Load and preprocess the train data \n",
    "from pipelines import pipeline\n",
    "\n",
    "data_file = os.path.join('..', '..', '..', '..', 'data', 'raw', 'train.csv')\n",
    "train_data = pd.read_csv(data_file, index_col=0, low_memory=False)\n",
    "train_data = pipeline.fit_transform(train_data)\n",
    "train_data.head()"
   ],
   "id": "ae6dcbcc06aedbe6",
   "outputs": [
    {
     "data": {
      "text/plain": [
       "        bg-2:00   bg-1:55   bg-1:50   bg-1:45   bg-1:40   bg-1:35   bg-1:30  \\\n",
       "id                                                                            \n",
       "p01_0  2.979792  3.094627  3.205219  3.313738  3.339790  3.360325  3.378547   \n",
       "p01_1  3.313825  3.339864  3.361240  3.380543  3.339790  3.293475  3.245003   \n",
       "p01_2  3.380632  3.339864  3.294374  3.246934  3.172584  3.092925  3.011302   \n",
       "p01_3  3.247019  3.172657  3.093776  3.013119  3.038818  3.059500  3.078074   \n",
       "p01_4  3.013196  3.038892  3.060343  3.079923  3.061113  3.037216  3.011302   \n",
       "\n",
       "        bg-1:25   bg-1:20   bg-1:15  ...  cals-0:20  cals-0:15  cals-0:10  \\\n",
       "id                                   ...                                    \n",
       "p01_0  3.337554  3.291901  3.243637  ...  -0.946576  -0.966297  -0.961827   \n",
       "p01_1  3.170443  3.091433  3.010016  ...  -0.946576  -0.966297  -0.961827   \n",
       "p01_2  3.036755  3.058022  3.076765  ...  -0.946576  -0.966297  -0.961827   \n",
       "p01_3  3.059036  3.035748  3.010016  ...  -0.946576  -0.966297  -0.961827   \n",
       "p01_4  2.891926  2.768457  2.642898  ...  -0.946576  -0.966297  -0.961827   \n",
       "\n",
       "       cals-0:05  cals-0:00  bg+1:00  day_phase_evening  day_phase_morning  \\\n",
       "id                                                                           \n",
       "p01_0  -0.963217  -0.458394     13.4                  0                  1   \n",
       "p01_1  -0.963217  -0.458394     12.8                  0                  1   \n",
       "p01_2  -0.963217  -0.458394     15.5                  0                  1   \n",
       "p01_3  -0.963217  -0.458394     14.8                  0                  1   \n",
       "p01_4  -0.963217  -0.458394     12.7                  0                  1   \n",
       "\n",
       "       day_phase_night  day_phase_noon  \n",
       "id                                      \n",
       "p01_0                0               0  \n",
       "p01_1                0               0  \n",
       "p01_2                0               0  \n",
       "p01_3                0               0  \n",
       "p01_4                0               0  \n",
       "\n",
       "[5 rows x 130 columns]"
      ],
      "text/html": [
       "<div>\n",
       "<style scoped>\n",
       "    .dataframe tbody tr th:only-of-type {\n",
       "        vertical-align: middle;\n",
       "    }\n",
       "\n",
       "    .dataframe tbody tr th {\n",
       "        vertical-align: top;\n",
       "    }\n",
       "\n",
       "    .dataframe thead th {\n",
       "        text-align: right;\n",
       "    }\n",
       "</style>\n",
       "<table border=\"1\" class=\"dataframe\">\n",
       "  <thead>\n",
       "    <tr style=\"text-align: right;\">\n",
       "      <th></th>\n",
       "      <th>bg-2:00</th>\n",
       "      <th>bg-1:55</th>\n",
       "      <th>bg-1:50</th>\n",
       "      <th>bg-1:45</th>\n",
       "      <th>bg-1:40</th>\n",
       "      <th>bg-1:35</th>\n",
       "      <th>bg-1:30</th>\n",
       "      <th>bg-1:25</th>\n",
       "      <th>bg-1:20</th>\n",
       "      <th>bg-1:15</th>\n",
       "      <th>...</th>\n",
       "      <th>cals-0:20</th>\n",
       "      <th>cals-0:15</th>\n",
       "      <th>cals-0:10</th>\n",
       "      <th>cals-0:05</th>\n",
       "      <th>cals-0:00</th>\n",
       "      <th>bg+1:00</th>\n",
       "      <th>day_phase_evening</th>\n",
       "      <th>day_phase_morning</th>\n",
       "      <th>day_phase_night</th>\n",
       "      <th>day_phase_noon</th>\n",
       "    </tr>\n",
       "    <tr>\n",
       "      <th>id</th>\n",
       "      <th></th>\n",
       "      <th></th>\n",
       "      <th></th>\n",
       "      <th></th>\n",
       "      <th></th>\n",
       "      <th></th>\n",
       "      <th></th>\n",
       "      <th></th>\n",
       "      <th></th>\n",
       "      <th></th>\n",
       "      <th></th>\n",
       "      <th></th>\n",
       "      <th></th>\n",
       "      <th></th>\n",
       "      <th></th>\n",
       "      <th></th>\n",
       "      <th></th>\n",
       "      <th></th>\n",
       "      <th></th>\n",
       "      <th></th>\n",
       "      <th></th>\n",
       "    </tr>\n",
       "  </thead>\n",
       "  <tbody>\n",
       "    <tr>\n",
       "      <th>p01_0</th>\n",
       "      <td>2.979792</td>\n",
       "      <td>3.094627</td>\n",
       "      <td>3.205219</td>\n",
       "      <td>3.313738</td>\n",
       "      <td>3.339790</td>\n",
       "      <td>3.360325</td>\n",
       "      <td>3.378547</td>\n",
       "      <td>3.337554</td>\n",
       "      <td>3.291901</td>\n",
       "      <td>3.243637</td>\n",
       "      <td>...</td>\n",
       "      <td>-0.946576</td>\n",
       "      <td>-0.966297</td>\n",
       "      <td>-0.961827</td>\n",
       "      <td>-0.963217</td>\n",
       "      <td>-0.458394</td>\n",
       "      <td>13.4</td>\n",
       "      <td>0</td>\n",
       "      <td>1</td>\n",
       "      <td>0</td>\n",
       "      <td>0</td>\n",
       "    </tr>\n",
       "    <tr>\n",
       "      <th>p01_1</th>\n",
       "      <td>3.313825</td>\n",
       "      <td>3.339864</td>\n",
       "      <td>3.361240</td>\n",
       "      <td>3.380543</td>\n",
       "      <td>3.339790</td>\n",
       "      <td>3.293475</td>\n",
       "      <td>3.245003</td>\n",
       "      <td>3.170443</td>\n",
       "      <td>3.091433</td>\n",
       "      <td>3.010016</td>\n",
       "      <td>...</td>\n",
       "      <td>-0.946576</td>\n",
       "      <td>-0.966297</td>\n",
       "      <td>-0.961827</td>\n",
       "      <td>-0.963217</td>\n",
       "      <td>-0.458394</td>\n",
       "      <td>12.8</td>\n",
       "      <td>0</td>\n",
       "      <td>1</td>\n",
       "      <td>0</td>\n",
       "      <td>0</td>\n",
       "    </tr>\n",
       "    <tr>\n",
       "      <th>p01_2</th>\n",
       "      <td>3.380632</td>\n",
       "      <td>3.339864</td>\n",
       "      <td>3.294374</td>\n",
       "      <td>3.246934</td>\n",
       "      <td>3.172584</td>\n",
       "      <td>3.092925</td>\n",
       "      <td>3.011302</td>\n",
       "      <td>3.036755</td>\n",
       "      <td>3.058022</td>\n",
       "      <td>3.076765</td>\n",
       "      <td>...</td>\n",
       "      <td>-0.946576</td>\n",
       "      <td>-0.966297</td>\n",
       "      <td>-0.961827</td>\n",
       "      <td>-0.963217</td>\n",
       "      <td>-0.458394</td>\n",
       "      <td>15.5</td>\n",
       "      <td>0</td>\n",
       "      <td>1</td>\n",
       "      <td>0</td>\n",
       "      <td>0</td>\n",
       "    </tr>\n",
       "    <tr>\n",
       "      <th>p01_3</th>\n",
       "      <td>3.247019</td>\n",
       "      <td>3.172657</td>\n",
       "      <td>3.093776</td>\n",
       "      <td>3.013119</td>\n",
       "      <td>3.038818</td>\n",
       "      <td>3.059500</td>\n",
       "      <td>3.078074</td>\n",
       "      <td>3.059036</td>\n",
       "      <td>3.035748</td>\n",
       "      <td>3.010016</td>\n",
       "      <td>...</td>\n",
       "      <td>-0.946576</td>\n",
       "      <td>-0.966297</td>\n",
       "      <td>-0.961827</td>\n",
       "      <td>-0.963217</td>\n",
       "      <td>-0.458394</td>\n",
       "      <td>14.8</td>\n",
       "      <td>0</td>\n",
       "      <td>1</td>\n",
       "      <td>0</td>\n",
       "      <td>0</td>\n",
       "    </tr>\n",
       "    <tr>\n",
       "      <th>p01_4</th>\n",
       "      <td>3.013196</td>\n",
       "      <td>3.038892</td>\n",
       "      <td>3.060343</td>\n",
       "      <td>3.079923</td>\n",
       "      <td>3.061113</td>\n",
       "      <td>3.037216</td>\n",
       "      <td>3.011302</td>\n",
       "      <td>2.891926</td>\n",
       "      <td>2.768457</td>\n",
       "      <td>2.642898</td>\n",
       "      <td>...</td>\n",
       "      <td>-0.946576</td>\n",
       "      <td>-0.966297</td>\n",
       "      <td>-0.961827</td>\n",
       "      <td>-0.963217</td>\n",
       "      <td>-0.458394</td>\n",
       "      <td>12.7</td>\n",
       "      <td>0</td>\n",
       "      <td>1</td>\n",
       "      <td>0</td>\n",
       "      <td>0</td>\n",
       "    </tr>\n",
       "  </tbody>\n",
       "</table>\n",
       "<p>5 rows × 130 columns</p>\n",
       "</div>"
      ]
     },
     "execution_count": 2,
     "metadata": {},
     "output_type": "execute_result"
    }
   ],
   "execution_count": 2
  },
  {
   "metadata": {
    "ExecuteTime": {
     "end_time": "2024-11-09T20:24:36.605556Z",
     "start_time": "2024-11-09T20:24:36.562057Z"
    }
   },
   "cell_type": "code",
   "source": [
    "X = train_data.drop(columns=['bg+1:00'])\n",
    "y = train_data['bg+1:00']"
   ],
   "id": "19940f9e6309dca",
   "outputs": [],
   "execution_count": 3
  },
  {
   "metadata": {},
   "cell_type": "markdown",
   "source": "### Define a tuning function",
   "id": "5e3f726f2eac2520"
  },
  {
   "metadata": {
    "ExecuteTime": {
     "end_time": "2024-11-09T20:24:36.652318Z",
     "start_time": "2024-11-09T20:24:36.649551Z"
    }
   },
   "cell_type": "code",
   "source": [
    "def tune(tuner, X, y):\n",
    "    print(f'-----------{tuner.__name__}-----------')\n",
    "    print('Calculating best hyperparameters...')\n",
    "    tuner.fit(X=X, y=y)\n",
    "    print('Best hyperparameters found.')\n",
    "    display(tuner.get_params())\n",
    "    print(f'RMSE: {tuner.get_rmse()}')\n",
    "    tuner.show_chart()\n",
    "    joblib.dump(tuner.get_best_model(), f'{tuner.__name__}.model.pkl')"
   ],
   "id": "30fc0d3c7f5ede2a",
   "outputs": [],
   "execution_count": 4
  },
  {
   "metadata": {},
   "cell_type": "markdown",
   "source": "### Tune XGBoost",
   "id": "6558596fe2d5fe65"
  },
  {
   "metadata": {},
   "cell_type": "code",
   "source": [
    "from src.features.tuners import XGBHyperparameterTuner\n",
    "\n",
    "tune(XGBHyperparameterTuner(), X, y)"
   ],
   "id": "f8ac8730c40c9fe3",
   "outputs": [],
   "execution_count": null
  },
  {
   "metadata": {},
   "cell_type": "markdown",
   "source": "### Tune linear regression models ",
   "id": "4db2687cdb46f685"
  },
  {
   "metadata": {},
   "cell_type": "code",
   "source": [
    "from src.features.tuners import LassoLarsICHyperparameterTuner\n",
    "\n",
    "tune(LassoLarsICHyperparameterTuner(), X, y)"
   ],
   "id": "7046b27f0e9587",
   "outputs": [],
   "execution_count": null
  },
  {
   "metadata": {},
   "cell_type": "code",
   "source": [
    "from src.features.tuners import LassoCVHyperparameterTuner\n",
    "\n",
    "tune(LassoCVHyperparameterTuner(), X, y)"
   ],
   "id": "f073476886e1e098",
   "outputs": [],
   "execution_count": null
  },
  {
   "metadata": {
    "ExecuteTime": {
     "end_time": "2024-11-09T20:28:02.492127Z",
     "start_time": "2024-11-09T20:24:36.688793Z"
    }
   },
   "cell_type": "code",
   "source": [
    "from src.features.tuners import RidgeCVHyperparameterTuner\n",
    "\n",
    "tune(RidgeCVHyperparameterTuner(), X, y)"
   ],
   "id": "353bde7571012daa",
   "outputs": [
    {
     "name": "stdout",
     "output_type": "stream",
     "text": [
      "-----------RidgeCV-----------\n",
      "Calculating best hyperparameters...\n"
     ]
    },
    {
     "name": "stderr",
     "output_type": "stream",
     "text": [
      "/Users/ralf/Projects/learning-projects/datascience-bootcamp/sep24_bds_int_medical/.venv/lib/python3.12/site-packages/skopt/optimizer/optimizer.py:449: UserWarning: The objective has been evaluated at this point before.\n",
      "  warnings.warn(\"The objective has been evaluated \"\n",
      "/Users/ralf/Projects/learning-projects/datascience-bootcamp/sep24_bds_int_medical/.venv/lib/python3.12/site-packages/skopt/optimizer/optimizer.py:449: UserWarning: The objective has been evaluated at this point before.\n",
      "  warnings.warn(\"The objective has been evaluated \"\n",
      "/Users/ralf/Projects/learning-projects/datascience-bootcamp/sep24_bds_int_medical/.venv/lib/python3.12/site-packages/skopt/optimizer/optimizer.py:449: UserWarning: The objective has been evaluated at this point before.\n",
      "  warnings.warn(\"The objective has been evaluated \"\n",
      "/Users/ralf/Projects/learning-projects/datascience-bootcamp/sep24_bds_int_medical/.venv/lib/python3.12/site-packages/skopt/optimizer/optimizer.py:449: UserWarning: The objective has been evaluated at this point before.\n",
      "  warnings.warn(\"The objective has been evaluated \"\n",
      "/Users/ralf/Projects/learning-projects/datascience-bootcamp/sep24_bds_int_medical/.venv/lib/python3.12/site-packages/skopt/optimizer/optimizer.py:449: UserWarning: The objective has been evaluated at this point before.\n",
      "  warnings.warn(\"The objective has been evaluated \"\n",
      "/Users/ralf/Projects/learning-projects/datascience-bootcamp/sep24_bds_int_medical/.venv/lib/python3.12/site-packages/skopt/optimizer/optimizer.py:449: UserWarning: The objective has been evaluated at this point before.\n",
      "  warnings.warn(\"The objective has been evaluated \"\n",
      "/Users/ralf/Projects/learning-projects/datascience-bootcamp/sep24_bds_int_medical/.venv/lib/python3.12/site-packages/skopt/optimizer/optimizer.py:449: UserWarning: The objective has been evaluated at this point before.\n",
      "  warnings.warn(\"The objective has been evaluated \"\n",
      "/Users/ralf/Projects/learning-projects/datascience-bootcamp/sep24_bds_int_medical/.venv/lib/python3.12/site-packages/skopt/optimizer/optimizer.py:449: UserWarning: The objective has been evaluated at this point before.\n",
      "  warnings.warn(\"The objective has been evaluated \"\n",
      "/Users/ralf/Projects/learning-projects/datascience-bootcamp/sep24_bds_int_medical/.venv/lib/python3.12/site-packages/skopt/optimizer/optimizer.py:449: UserWarning: The objective has been evaluated at this point before.\n",
      "  warnings.warn(\"The objective has been evaluated \"\n",
      "/Users/ralf/Projects/learning-projects/datascience-bootcamp/sep24_bds_int_medical/.venv/lib/python3.12/site-packages/skopt/optimizer/optimizer.py:449: UserWarning: The objective has been evaluated at this point before.\n",
      "  warnings.warn(\"The objective has been evaluated \"\n",
      "/Users/ralf/Projects/learning-projects/datascience-bootcamp/sep24_bds_int_medical/.venv/lib/python3.12/site-packages/skopt/optimizer/optimizer.py:449: UserWarning: The objective has been evaluated at this point before.\n",
      "  warnings.warn(\"The objective has been evaluated \"\n",
      "/Users/ralf/Projects/learning-projects/datascience-bootcamp/sep24_bds_int_medical/.venv/lib/python3.12/site-packages/skopt/optimizer/optimizer.py:449: UserWarning: The objective has been evaluated at this point before.\n",
      "  warnings.warn(\"The objective has been evaluated \"\n",
      "/Users/ralf/Projects/learning-projects/datascience-bootcamp/sep24_bds_int_medical/.venv/lib/python3.12/site-packages/skopt/optimizer/optimizer.py:449: UserWarning: The objective has been evaluated at this point before.\n",
      "  warnings.warn(\"The objective has been evaluated \"\n",
      "/Users/ralf/Projects/learning-projects/datascience-bootcamp/sep24_bds_int_medical/.venv/lib/python3.12/site-packages/skopt/optimizer/optimizer.py:449: UserWarning: The objective has been evaluated at this point before.\n",
      "  warnings.warn(\"The objective has been evaluated \"\n",
      "/Users/ralf/Projects/learning-projects/datascience-bootcamp/sep24_bds_int_medical/.venv/lib/python3.12/site-packages/skopt/optimizer/optimizer.py:449: UserWarning: The objective has been evaluated at this point before.\n",
      "  warnings.warn(\"The objective has been evaluated \"\n",
      "/Users/ralf/Projects/learning-projects/datascience-bootcamp/sep24_bds_int_medical/.venv/lib/python3.12/site-packages/skopt/optimizer/optimizer.py:449: UserWarning: The objective has been evaluated at this point before.\n",
      "  warnings.warn(\"The objective has been evaluated \"\n",
      "/Users/ralf/Projects/learning-projects/datascience-bootcamp/sep24_bds_int_medical/.venv/lib/python3.12/site-packages/skopt/optimizer/optimizer.py:449: UserWarning: The objective has been evaluated at this point before.\n",
      "  warnings.warn(\"The objective has been evaluated \"\n"
     ]
    },
    {
     "name": "stdout",
     "output_type": "stream",
     "text": [
      "Best hyperparameters found.\n"
     ]
    },
    {
     "data": {
      "text/plain": [
       "OrderedDict([('cv', 6),\n",
       "             ('fit_intercept', True),\n",
       "             ('gcv_mode', 'svd'),\n",
       "             ('scoring', 'neg_mean_squared_error')])"
      ]
     },
     "metadata": {},
     "output_type": "display_data"
    },
    {
     "name": "stdout",
     "output_type": "stream",
     "text": [
      "RMSE: 2.0970145799825923\n"
     ]
    },
    {
     "data": {
      "text/plain": [
       "<Figure size 800x400 with 2 Axes>"
      ],
      "image/png": "[encoded data removed]"
     },
     "metadata": {},
     "output_type": "display_data"
    }
   ],
   "execution_count": 5
  }
 ],
 "metadata": {
  "kernelspec": {
   "display_name": "Python 3",
   "language": "python",
   "name": "python3"
  },
  "language_info": {
   "codemirror_mode": {
    "name": "ipython",
    "version": 2
   },
   "file_extension": ".py",
   "mimetype": "text/x-python",
   "name": "python",
   "nbconvert_exporter": "python",
   "pygments_lexer": "ipython2",
   "version": "2.7.6"
  }
 },
 "nbformat": 4,
 "nbformat_minor": 5
}
