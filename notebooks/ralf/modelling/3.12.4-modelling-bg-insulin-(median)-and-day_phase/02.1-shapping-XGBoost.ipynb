{
 "cells": [
  {
   "metadata": {},
   "cell_type": "markdown",
   "source": [
    "# Modelling BG\n",
    "\n",
    "## Model Shapping"
   ],
   "id": "c4f5fa4ffbc53369"
  },
  {
   "metadata": {
    "ExecuteTime": {
     "end_time": "2024-11-11T21:22:54.875425Z",
     "start_time": "2024-11-11T21:22:54.459401Z"
    }
   },
   "cell_type": "code",
   "source": [
    "# Importing the libraries\n",
    "import os\n",
    "import pandas as pd"
   ],
   "id": "a3b2d749037733c4",
   "outputs": [],
   "execution_count": 1
  },
  {
   "metadata": {},
   "cell_type": "markdown",
   "source": "## Load data",
   "id": "82159de3bfdd45bc"
  },
  {
   "metadata": {
    "ExecuteTime": {
     "end_time": "2024-11-11T21:23:11.626031Z",
     "start_time": "2024-11-11T21:22:54.933725Z"
    }
   },
   "cell_type": "code",
   "source": [
    "# Load and preprocess the train data \n",
    "from pipelines import pipeline\n",
    "\n",
    "data_file = os.path.join('..', '..', '..', '..', 'data', 'raw', 'train.csv')\n",
    "train_data = pd.read_csv(data_file, index_col=0, low_memory=False)\n",
    "train_data = pipeline.fit_transform(train_data)\n",
    "\n",
    "X = train_data.drop(columns=['bg+1:00'])\n",
    "y = train_data['bg+1:00']"
   ],
   "id": "2f7ab421d5ccf55c",
   "outputs": [],
   "execution_count": 2
  },
  {
   "metadata": {},
   "cell_type": "markdown",
   "source": "## Scores",
   "id": "ae607343fe6864fc"
  },
  {
   "metadata": {
    "ExecuteTime": {
     "end_time": "2024-11-11T21:23:16.243362Z",
     "start_time": "2024-11-11T21:23:11.778191Z"
    }
   },
   "cell_type": "code",
   "source": [
    "from src.features.tuners import XGBHyperparameterTuner\n",
    "from sklearn.metrics import root_mean_squared_error\n",
    "\n",
    "tuner = XGBHyperparameterTuner()\n",
    "model = tuner.regressor()\n",
    "model.fit(X=X, y=y)\n",
    "\n",
    "root_mean_squared_error(y_true=y, y_pred=model.predict(X=X))"
   ],
   "id": "5ce6c963f1b6bc12",
   "outputs": [
    {
     "data": {
      "text/plain": [
       "np.float64(1.6630199652504416)"
      ]
     },
     "execution_count": 3,
     "metadata": {},
     "output_type": "execute_result"
    }
   ],
   "execution_count": 3
  },
  {
   "metadata": {},
   "cell_type": "markdown",
   "source": "## Shap",
   "id": "6862ce924b8a4c47"
  },
  {
   "metadata": {
    "ExecuteTime": {
     "end_time": "2024-11-11T21:23:48.674863Z",
     "start_time": "2024-11-11T21:23:16.336042Z"
    }
   },
   "cell_type": "code",
   "source": [
    "from src.features.helpers import ShapWrapper\n",
    "\n",
    "shp = ShapWrapper(model=model, X=X)\n",
    "features = shp.get_top_features()"
   ],
   "id": "214e27276cd560c",
   "outputs": [
    {
     "data": {
      "text/plain": [
       "['bg-0:00',\n",
       " 'bg-0:05',\n",
       " 'bg-0:15',\n",
       " 'bg-0:10',\n",
       " 'day_phase_night',\n",
       " 'insulin-0:05',\n",
       " 'day_phase_evening',\n",
       " 'insulin-0:00',\n",
       " 'bg-5:55',\n",
       " 'bg-0:20',\n",
       " 'insulin-0:30',\n",
       " 'insulin-5:55',\n",
       " 'day_phase_morning',\n",
       " 'insulin-0:10',\n",
       " 'bg-0:30',\n",
       " 'insulin-0:20',\n",
       " 'insulin-0:45',\n",
       " 'insulin-0:15',\n",
       " 'day_phase_late_evening',\n",
       " 'insulin-4:30',\n",
       " 'insulin-0:50',\n",
       " 'bg-0:45',\n",
       " 'insulin-0:25',\n",
       " 'insulin-1:05',\n",
       " 'bg-0:25',\n",
       " 'insulin-0:55',\n",
       " 'bg-1:45',\n",
       " 'insulin-5:30',\n",
       " 'insulin-5:50',\n",
       " 'insulin-5:25',\n",
       " 'insulin-1:45',\n",
       " 'bg-3:30',\n",
       " 'insulin-1:30',\n",
       " 'bg-3:20',\n",
       " 'insulin-1:15',\n",
       " 'bg-3:55',\n",
       " 'bg-2:15',\n",
       " 'insulin-4:55',\n",
       " 'bg-4:45',\n",
       " 'insulin-5:45',\n",
       " 'day_phase_noon',\n",
       " 'insulin-4:50',\n",
       " 'bg-2:05',\n",
       " 'bg-3:10',\n",
       " 'bg-1:30',\n",
       " 'insulin-2:30',\n",
       " 'insulin-5:15',\n",
       " 'bg-2:20',\n",
       " 'bg-1:20',\n",
       " 'bg-5:50',\n",
       " 'bg-2:50',\n",
       " 'bg-2:30',\n",
       " 'insulin-4:45',\n",
       " 'insulin-1:00',\n",
       " 'insulin-1:10',\n",
       " 'bg-1:25',\n",
       " 'bg-5:10',\n",
       " 'bg-4:20',\n",
       " 'insulin-4:05',\n",
       " 'bg-1:00',\n",
       " 'bg-5:30',\n",
       " 'insulin-5:00',\n",
       " 'bg-5:00',\n",
       " 'insulin-2:45',\n",
       " 'insulin-2:00',\n",
       " 'insulin-4:15',\n",
       " 'bg-3:45',\n",
       " 'bg-4:00',\n",
       " 'insulin-3:30',\n",
       " 'bg-1:15',\n",
       " 'insulin-3:55',\n",
       " 'insulin-2:25',\n",
       " 'insulin-3:10',\n",
       " 'insulin-3:50',\n",
       " 'bg-5:15',\n",
       " 'bg-5:05',\n",
       " 'insulin-1:25',\n",
       " 'bg-1:10',\n",
       " 'bg-0:50',\n",
       " 'bg-0:55',\n",
       " 'bg-5:45',\n",
       " 'bg-2:45',\n",
       " 'insulin-1:20',\n",
       " 'insulin-1:50',\n",
       " 'bg-1:05',\n",
       " 'bg-1:50',\n",
       " 'bg-4:25',\n",
       " 'insulin-4:25',\n",
       " 'insulin-5:05',\n",
       " 'insulin-3:20',\n",
       " 'bg-1:55',\n",
       " 'bg-3:05',\n",
       " 'bg-4:30',\n",
       " 'insulin-2:20',\n",
       " 'insulin-4:10',\n",
       " 'insulin-3:25',\n",
       " 'insulin-3:45',\n",
       " 'insulin-3:00',\n",
       " 'bg-3:50',\n",
       " 'bg-4:15',\n",
       " 'insulin-5:10',\n",
       " 'insulin-2:55',\n",
       " 'bg-2:10',\n",
       " 'bg-3:00',\n",
       " 'bg-3:25',\n",
       " 'bg-4:10',\n",
       " 'bg-4:50',\n",
       " 'bg-4:05',\n",
       " 'insulin-2:50',\n",
       " 'bg-2:25',\n",
       " 'insulin-4:20',\n",
       " 'bg-5:20',\n",
       " 'insulin-1:55',\n",
       " 'bg-3:15',\n",
       " 'insulin-4:00',\n",
       " 'insulin-2:15',\n",
       " 'bg-2:00',\n",
       " 'insulin-2:10',\n",
       " 'bg-5:25',\n",
       " 'insulin-3:15',\n",
       " 'insulin-3:05',\n",
       " 'insulin-5:20',\n",
       " 'bg-2:55',\n",
       " 'insulin-2:05',\n",
       " 'bg-4:55']"
      ]
     },
     "execution_count": 4,
     "metadata": {},
     "output_type": "execute_result"
    }
   ],
   "execution_count": 4
  },
  {
   "metadata": {
    "ExecuteTime": {
     "end_time": "2024-11-11T21:42:24.148333Z",
     "start_time": "2024-11-11T21:23:48.728374Z"
    }
   },
   "cell_type": "code",
   "source": [
    "from sklearn.model_selection import KFold\n",
    "from tqdm.notebook import tqdm\n",
    "import numpy as np\n",
    "\n",
    "rmses = {}\n",
    "\n",
    "for i in tqdm(range(1, len(features))):\n",
    "    X_new = X[shp.get_top_features(i)]\n",
    "    model = tuner.regressor()\n",
    "\n",
    "    kf = KFold(n_splits=5, shuffle=True, random_state=42)\n",
    "    # Perform cross-validation\n",
    "    results = []\n",
    "    for train_index, test_index in kf.split(X_new, y):\n",
    "        X_train, X_test = X_new.iloc[train_index], X_new.iloc[test_index]\n",
    "        y_train, y_test = y.iloc[train_index], y.iloc[test_index]\n",
    "        model.fit(X_train, y_train)\n",
    "        \n",
    "        y_pred = model.predict(X_test)\n",
    "        results.append(root_mean_squared_error(y_test, y_pred))\n",
    "\n",
    "    # Report the mean accuracy across folds\n",
    "    rmses[i] = np.mean(results)"
   ],
   "id": "1460f03067af946a",
   "outputs": [
    {
     "data": {
      "text/plain": [
       "  0%|          | 0/124 [00:00<?, ?it/s]"
      ],
      "application/vnd.jupyter.widget-view+json": {
       "version_major": 2,
       "version_minor": 0,
       "model_id": "f08ef79a56664589940480e956eab0a2"
      }
     },
     "metadata": {},
     "output_type": "display_data"
    }
   ],
   "execution_count": 5
  },
  {
   "metadata": {
    "ExecuteTime": {
     "end_time": "2024-11-11T21:42:24.370205Z",
     "start_time": "2024-11-11T21:42:24.314802Z"
    }
   },
   "cell_type": "code",
   "source": [
    "import matplotlib.pyplot as plt\n",
    "%matplotlib inline\n",
    "plt.plot(rmses.values())\n",
    "plt.title('RMSE over number of top features')\n",
    "plt.xlabel('Number of top features')\n",
    "plt.ylabel('RMSE')\n",
    "plt.show()"
   ],
   "id": "46559a360ea3a3c8",
   "outputs": [
    {
     "data": {
      "text/plain": [
       "<Figure size 640x480 with 1 Axes>"
      ],
      "image/png": "[encoded data removed]"
     },
     "metadata": {},
     "output_type": "display_data"
    }
   ],
   "execution_count": 8
  },
  {
   "metadata": {
    "ExecuteTime": {
     "end_time": "2024-11-11T21:42:24.390288Z",
     "start_time": "2024-11-11T21:42:24.388309Z"
    }
   },
   "cell_type": "code",
   "source": [
    "# Find the key with the minimum value\n",
    "min_key = min(rmses, key=rmses.get)\n",
    "\n",
    "print(\"Index with the minimum value:\", min_key)\n",
    "print(\"Minimum value:\", rmses[min_key])"
   ],
   "id": "b03c4386bb56528a",
   "outputs": [
    {
     "name": "stdout",
     "output_type": "stream",
     "text": [
      "Index with the minimum value: 71\n",
      "Minimum value: 1.8410051779521126\n"
     ]
    }
   ],
   "execution_count": 9
  },
  {
   "metadata": {},
   "cell_type": "code",
   "outputs": [],
   "execution_count": null,
   "source": "",
   "id": "f92528639f8bd90c"
  }
 ],
 "metadata": {
  "kernelspec": {
   "display_name": "Python 3",
   "language": "python",
   "name": "python3"
  },
  "language_info": {
   "codemirror_mode": {
    "name": "ipython",
    "version": 2
   },
   "file_extension": ".py",
   "mimetype": "text/x-python",
   "name": "python",
   "nbconvert_exporter": "python",
   "pygments_lexer": "ipython2",
   "version": "2.7.6"
  }
 },
 "nbformat": 4,
 "nbformat_minor": 5
}
