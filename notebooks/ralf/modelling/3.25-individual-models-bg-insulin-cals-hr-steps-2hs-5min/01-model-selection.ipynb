{
 "cells": [
  {
   "metadata": {},
   "cell_type": "markdown",
   "source": [
    "# Modelling most important features\n",
    "\n",
    "## Model Selection"
   ],
   "id": "c4f5fa4ffbc53369"
  },
  {
   "metadata": {
    "ExecuteTime": {
     "end_time": "2024-11-21T20:38:45.383205Z",
     "start_time": "2024-11-21T20:38:32.147584Z"
    }
   },
   "cell_type": "code",
   "source": [
    "from data import load_data\n",
    "\n",
    "train_data, test_data = load_data()\n",
    "\n",
    "unique_patients = test_data['p_num'].unique()\n",
    "train_data = train_data[train_data['p_num'].isin(unique_patients)]\n",
    "test_data = test_data[test_data['p_num'].isin(unique_patients)]\n",
    "\n",
    "train_data.head()"
   ],
   "id": "61c204ab0f9451f1",
   "outputs": [
    {
     "data": {
      "text/plain": [
       "      p_num      time  bg-5:55  bg-5:50  bg-5:45  bg-5:40  bg-5:35  bg-5:30  \\\n",
       "id                                                                            \n",
       "p01_0   p01  06:10:00      NaN      NaN      9.6      NaN      NaN      9.7   \n",
       "p01_1   p01  06:25:00      NaN      NaN      9.7      NaN      NaN      9.2   \n",
       "p01_2   p01  06:40:00      NaN      NaN      9.2      NaN      NaN      8.7   \n",
       "p01_3   p01  06:55:00      NaN      NaN      8.7      NaN      NaN      8.4   \n",
       "p01_4   p01  07:10:00      NaN      NaN      8.4      NaN      NaN      8.1   \n",
       "\n",
       "       bg-5:25  bg-5:20  ...  activity-0:40  activity-0:35  activity-0:30  \\\n",
       "id                       ...                                                \n",
       "p01_0      NaN      NaN  ...            NaN            NaN            NaN   \n",
       "p01_1      NaN      NaN  ...            NaN            NaN            NaN   \n",
       "p01_2      NaN      NaN  ...            NaN            NaN            NaN   \n",
       "p01_3      NaN      NaN  ...            NaN            NaN            NaN   \n",
       "p01_4      NaN      NaN  ...            NaN            NaN            NaN   \n",
       "\n",
       "       activity-0:25  activity-0:20  activity-0:15  activity-0:10  \\\n",
       "id                                                                  \n",
       "p01_0            NaN            NaN            NaN            NaN   \n",
       "p01_1            NaN            NaN            NaN            NaN   \n",
       "p01_2            NaN            NaN            NaN            NaN   \n",
       "p01_3            NaN            NaN            NaN            NaN   \n",
       "p01_4            NaN            NaN            NaN            NaN   \n",
       "\n",
       "       activity-0:05  activity-0:00  bg+1:00  \n",
       "id                                            \n",
       "p01_0            NaN            NaN     13.4  \n",
       "p01_1            NaN            NaN     12.8  \n",
       "p01_2            NaN            NaN     15.5  \n",
       "p01_3            NaN            NaN     14.8  \n",
       "p01_4            NaN            NaN     12.7  \n",
       "\n",
       "[5 rows x 507 columns]"
      ],
      "text/html": [
       "<div>\n",
       "<style scoped>\n",
       "    .dataframe tbody tr th:only-of-type {\n",
       "        vertical-align: middle;\n",
       "    }\n",
       "\n",
       "    .dataframe tbody tr th {\n",
       "        vertical-align: top;\n",
       "    }\n",
       "\n",
       "    .dataframe thead th {\n",
       "        text-align: right;\n",
       "    }\n",
       "</style>\n",
       "<table border=\"1\" class=\"dataframe\">\n",
       "  <thead>\n",
       "    <tr style=\"text-align: right;\">\n",
       "      <th></th>\n",
       "      <th>p_num</th>\n",
       "      <th>time</th>\n",
       "      <th>bg-5:55</th>\n",
       "      <th>bg-5:50</th>\n",
       "      <th>bg-5:45</th>\n",
       "      <th>bg-5:40</th>\n",
       "      <th>bg-5:35</th>\n",
       "      <th>bg-5:30</th>\n",
       "      <th>bg-5:25</th>\n",
       "      <th>bg-5:20</th>\n",
       "      <th>...</th>\n",
       "      <th>activity-0:40</th>\n",
       "      <th>activity-0:35</th>\n",
       "      <th>activity-0:30</th>\n",
       "      <th>activity-0:25</th>\n",
       "      <th>activity-0:20</th>\n",
       "      <th>activity-0:15</th>\n",
       "      <th>activity-0:10</th>\n",
       "      <th>activity-0:05</th>\n",
       "      <th>activity-0:00</th>\n",
       "      <th>bg+1:00</th>\n",
       "    </tr>\n",
       "    <tr>\n",
       "      <th>id</th>\n",
       "      <th></th>\n",
       "      <th></th>\n",
       "      <th></th>\n",
       "      <th></th>\n",
       "      <th></th>\n",
       "      <th></th>\n",
       "      <th></th>\n",
       "      <th></th>\n",
       "      <th></th>\n",
       "      <th></th>\n",
       "      <th></th>\n",
       "      <th></th>\n",
       "      <th></th>\n",
       "      <th></th>\n",
       "      <th></th>\n",
       "      <th></th>\n",
       "      <th></th>\n",
       "      <th></th>\n",
       "      <th></th>\n",
       "      <th></th>\n",
       "      <th></th>\n",
       "    </tr>\n",
       "  </thead>\n",
       "  <tbody>\n",
       "    <tr>\n",
       "      <th>p01_0</th>\n",
       "      <td>p01</td>\n",
       "      <td>06:10:00</td>\n",
       "      <td>NaN</td>\n",
       "      <td>NaN</td>\n",
       "      <td>9.6</td>\n",
       "      <td>NaN</td>\n",
       "      <td>NaN</td>\n",
       "      <td>9.7</td>\n",
       "      <td>NaN</td>\n",
       "      <td>NaN</td>\n",
       "      <td>...</td>\n",
       "      <td>NaN</td>\n",
       "      <td>NaN</td>\n",
       "      <td>NaN</td>\n",
       "      <td>NaN</td>\n",
       "      <td>NaN</td>\n",
       "      <td>NaN</td>\n",
       "      <td>NaN</td>\n",
       "      <td>NaN</td>\n",
       "      <td>NaN</td>\n",
       "      <td>13.4</td>\n",
       "    </tr>\n",
       "    <tr>\n",
       "      <th>p01_1</th>\n",
       "      <td>p01</td>\n",
       "      <td>06:25:00</td>\n",
       "      <td>NaN</td>\n",
       "      <td>NaN</td>\n",
       "      <td>9.7</td>\n",
       "      <td>NaN</td>\n",
       "      <td>NaN</td>\n",
       "      <td>9.2</td>\n",
       "      <td>NaN</td>\n",
       "      <td>NaN</td>\n",
       "      <td>...</td>\n",
       "      <td>NaN</td>\n",
       "      <td>NaN</td>\n",
       "      <td>NaN</td>\n",
       "      <td>NaN</td>\n",
       "      <td>NaN</td>\n",
       "      <td>NaN</td>\n",
       "      <td>NaN</td>\n",
       "      <td>NaN</td>\n",
       "      <td>NaN</td>\n",
       "      <td>12.8</td>\n",
       "    </tr>\n",
       "    <tr>\n",
       "      <th>p01_2</th>\n",
       "      <td>p01</td>\n",
       "      <td>06:40:00</td>\n",
       "      <td>NaN</td>\n",
       "      <td>NaN</td>\n",
       "      <td>9.2</td>\n",
       "      <td>NaN</td>\n",
       "      <td>NaN</td>\n",
       "      <td>8.7</td>\n",
       "      <td>NaN</td>\n",
       "      <td>NaN</td>\n",
       "      <td>...</td>\n",
       "      <td>NaN</td>\n",
       "      <td>NaN</td>\n",
       "      <td>NaN</td>\n",
       "      <td>NaN</td>\n",
       "      <td>NaN</td>\n",
       "      <td>NaN</td>\n",
       "      <td>NaN</td>\n",
       "      <td>NaN</td>\n",
       "      <td>NaN</td>\n",
       "      <td>15.5</td>\n",
       "    </tr>\n",
       "    <tr>\n",
       "      <th>p01_3</th>\n",
       "      <td>p01</td>\n",
       "      <td>06:55:00</td>\n",
       "      <td>NaN</td>\n",
       "      <td>NaN</td>\n",
       "      <td>8.7</td>\n",
       "      <td>NaN</td>\n",
       "      <td>NaN</td>\n",
       "      <td>8.4</td>\n",
       "      <td>NaN</td>\n",
       "      <td>NaN</td>\n",
       "      <td>...</td>\n",
       "      <td>NaN</td>\n",
       "      <td>NaN</td>\n",
       "      <td>NaN</td>\n",
       "      <td>NaN</td>\n",
       "      <td>NaN</td>\n",
       "      <td>NaN</td>\n",
       "      <td>NaN</td>\n",
       "      <td>NaN</td>\n",
       "      <td>NaN</td>\n",
       "      <td>14.8</td>\n",
       "    </tr>\n",
       "    <tr>\n",
       "      <th>p01_4</th>\n",
       "      <td>p01</td>\n",
       "      <td>07:10:00</td>\n",
       "      <td>NaN</td>\n",
       "      <td>NaN</td>\n",
       "      <td>8.4</td>\n",
       "      <td>NaN</td>\n",
       "      <td>NaN</td>\n",
       "      <td>8.1</td>\n",
       "      <td>NaN</td>\n",
       "      <td>NaN</td>\n",
       "      <td>...</td>\n",
       "      <td>NaN</td>\n",
       "      <td>NaN</td>\n",
       "      <td>NaN</td>\n",
       "      <td>NaN</td>\n",
       "      <td>NaN</td>\n",
       "      <td>NaN</td>\n",
       "      <td>NaN</td>\n",
       "      <td>NaN</td>\n",
       "      <td>NaN</td>\n",
       "      <td>12.7</td>\n",
       "    </tr>\n",
       "  </tbody>\n",
       "</table>\n",
       "<p>5 rows × 507 columns</p>\n",
       "</div>"
      ]
     },
     "execution_count": 1,
     "metadata": {},
     "output_type": "execute_result"
    }
   ],
   "execution_count": 1
  },
  {
   "metadata": {},
   "cell_type": "markdown",
   "source": "## Loop through unique patients",
   "id": "6f05d9fb3b39c554"
  },
  {
   "metadata": {
    "ExecuteTime": {
     "end_time": "2024-11-21T21:05:37.001925Z",
     "start_time": "2024-11-21T20:38:45.517535Z"
    }
   },
   "cell_type": "code",
   "source": [
    "from sklearn.model_selection import train_test_split\n",
    "from notebooks.helpers.LazyPredict import get_lazy_regressor\n",
    "from pipelines import pipeline\n",
    "\n",
    "lazy_predict_results = {}\n",
    "\n",
    "for patient in unique_patients:\n",
    "    patient_train_data = train_data[train_data['p_num'] == patient]\n",
    "    patient_train_data_transformed = pipeline.fit_transform(patient_train_data)\n",
    "\n",
    "    X = patient_train_data_transformed.drop(columns=['bg+1:00'])\n",
    "    y = patient_train_data_transformed['bg+1:00']\n",
    "\n",
    "    X_train, X_test, y_train, y_test = train_test_split(X, y, test_size=0.2, random_state=42, shuffle=True, stratify=None)\n",
    "\n",
    "    reg = get_lazy_regressor()\n",
    "    models = reg.fit(X_train, X_test, y_train, y_test)\n",
    "    lazy_predict_results[patient] = models"
   ],
   "id": "812c83f9534d3d2f",
   "outputs": [
    {
     "name": "stderr",
     "output_type": "stream",
     "text": [
      " 97%|█████████▋| 38/39 [01:21<00:01,  1.26s/it]"
     ]
    },
    {
     "name": "stdout",
     "output_type": "stream",
     "text": [
      "[LightGBM] [Info] Auto-choosing row-wise multi-threading, the overhead of testing was 0.002609 seconds.\n",
      "You can set `force_row_wise=true` to remove the overhead.\n",
      "And if memory is not enough, you can set `force_col_wise=true`.\n",
      "[LightGBM] [Info] Total Bins 28241\n",
      "[LightGBM] [Info] Number of data points in the train set: 13228, number of used features: 148\n",
      "[LightGBM] [Info] Start training from score 8.842341\n"
     ]
    },
    {
     "name": "stderr",
     "output_type": "stream",
     "text": [
      "100%|██████████| 39/39 [01:21<00:00,  2.10s/it]\n",
      " 97%|█████████▋| 38/39 [03:06<00:05,  5.00s/it]"
     ]
    },
    {
     "name": "stdout",
     "output_type": "stream",
     "text": [
      "[LightGBM] [Info] Auto-choosing row-wise multi-threading, the overhead of testing was 0.006939 seconds.\n",
      "You can set `force_row_wise=true` to remove the overhead.\n",
      "And if memory is not enough, you can set `force_col_wise=true`.\n",
      "[LightGBM] [Info] Total Bins 30335\n",
      "[LightGBM] [Info] Number of data points in the train set: 27121, number of used features: 148\n",
      "[LightGBM] [Info] Start training from score 9.414307\n"
     ]
    },
    {
     "name": "stderr",
     "output_type": "stream",
     "text": [
      "100%|██████████| 39/39 [03:07<00:00,  4.81s/it]\n",
      " 97%|█████████▋| 38/39 [03:11<00:05,  5.29s/it]"
     ]
    },
    {
     "name": "stdout",
     "output_type": "stream",
     "text": [
      "[LightGBM] [Info] Auto-choosing row-wise multi-threading, the overhead of testing was 0.005236 seconds.\n",
      "You can set `force_row_wise=true` to remove the overhead.\n",
      "And if memory is not enough, you can set `force_col_wise=true`.\n",
      "[LightGBM] [Info] Total Bins 29553\n",
      "[LightGBM] [Info] Number of data points in the train set: 27035, number of used features: 148\n",
      "[LightGBM] [Info] Start training from score 7.804179\n"
     ]
    },
    {
     "name": "stderr",
     "output_type": "stream",
     "text": [
      "100%|██████████| 39/39 [03:12<00:00,  4.94s/it]\n",
      " 97%|█████████▋| 38/39 [01:25<00:01,  1.53s/it]"
     ]
    },
    {
     "name": "stdout",
     "output_type": "stream",
     "text": [
      "[LightGBM] [Info] Auto-choosing row-wise multi-threading, the overhead of testing was 0.002457 seconds.\n",
      "You can set `force_row_wise=true` to remove the overhead.\n",
      "And if memory is not enough, you can set `force_col_wise=true`.\n",
      "[LightGBM] [Info] Total Bins 27270\n",
      "[LightGBM] [Info] Number of data points in the train set: 13974, number of used features: 148\n",
      "[LightGBM] [Info] Start training from score 8.325391\n"
     ]
    },
    {
     "name": "stderr",
     "output_type": "stream",
     "text": [
      "100%|██████████| 39/39 [01:26<00:00,  2.22s/it]\n",
      " 97%|█████████▋| 38/39 [01:15<00:01,  1.37s/it]"
     ]
    },
    {
     "name": "stdout",
     "output_type": "stream",
     "text": [
      "[LightGBM] [Info] Auto-choosing row-wise multi-threading, the overhead of testing was 0.002718 seconds.\n",
      "You can set `force_row_wise=true` to remove the overhead.\n",
      "And if memory is not enough, you can set `force_col_wise=true`.\n",
      "[LightGBM] [Info] Total Bins 27979\n",
      "[LightGBM] [Info] Number of data points in the train set: 12911, number of used features: 148\n",
      "[LightGBM] [Info] Start training from score 9.148095\n"
     ]
    },
    {
     "name": "stderr",
     "output_type": "stream",
     "text": [
      "100%|██████████| 39/39 [01:16<00:00,  1.97s/it]\n",
      " 97%|█████████▋| 38/39 [03:17<00:05,  5.26s/it]"
     ]
    },
    {
     "name": "stdout",
     "output_type": "stream",
     "text": [
      "[LightGBM] [Info] Auto-choosing row-wise multi-threading, the overhead of testing was 0.003937 seconds.\n",
      "You can set `force_row_wise=true` to remove the overhead.\n",
      "And if memory is not enough, you can set `force_col_wise=true`.\n",
      "[LightGBM] [Info] Total Bins 28751\n",
      "[LightGBM] [Info] Number of data points in the train set: 25469, number of used features: 148\n",
      "[LightGBM] [Info] Start training from score 6.545308\n"
     ]
    },
    {
     "name": "stderr",
     "output_type": "stream",
     "text": [
      "100%|██████████| 39/39 [03:18<00:00,  5.10s/it]\n",
      " 97%|█████████▋| 38/39 [03:22<00:06,  6.84s/it]"
     ]
    },
    {
     "name": "stdout",
     "output_type": "stream",
     "text": [
      "[LightGBM] [Info] Auto-choosing row-wise multi-threading, the overhead of testing was 0.005848 seconds.\n",
      "You can set `force_row_wise=true` to remove the overhead.\n",
      "And if memory is not enough, you can set `force_col_wise=true`.\n",
      "[LightGBM] [Info] Total Bins 29872\n",
      "[LightGBM] [Info] Number of data points in the train set: 25909, number of used features: 148\n",
      "[LightGBM] [Info] Start training from score 9.230620\n"
     ]
    },
    {
     "name": "stderr",
     "output_type": "stream",
     "text": [
      "100%|██████████| 39/39 [03:24<00:00,  5.24s/it]\n",
      " 97%|█████████▋| 38/39 [04:56<00:06,  6.03s/it]"
     ]
    },
    {
     "name": "stdout",
     "output_type": "stream",
     "text": [
      "[LightGBM] [Info] Auto-choosing row-wise multi-threading, the overhead of testing was 0.004212 seconds.\n",
      "You can set `force_row_wise=true` to remove the overhead.\n",
      "And if memory is not enough, you can set `force_col_wise=true`.\n",
      "[LightGBM] [Info] Total Bins 30184\n",
      "[LightGBM] [Info] Number of data points in the train set: 28339, number of used features: 148\n",
      "[LightGBM] [Info] Start training from score 8.070095\n"
     ]
    },
    {
     "name": "stderr",
     "output_type": "stream",
     "text": [
      "100%|██████████| 39/39 [04:57<00:00,  7.63s/it]\n",
      " 95%|█████████▍| 37/39 [00:36<00:01,  1.42it/s]"
     ]
    },
    {
     "name": "stdout",
     "output_type": "stream",
     "text": [
      "[LightGBM] [Info] Auto-choosing row-wise multi-threading, the overhead of testing was 0.004402 seconds.\n",
      "You can set `force_row_wise=true` to remove the overhead.\n",
      "And if memory is not enough, you can set `force_col_wise=true`.\n",
      "[LightGBM] [Info] Total Bins 20496\n",
      "[LightGBM] [Info] Number of data points in the train set: 8156, number of used features: 148\n",
      "[LightGBM] [Info] Start training from score 8.158765\n"
     ]
    },
    {
     "name": "stderr",
     "output_type": "stream",
     "text": [
      "100%|██████████| 39/39 [00:37<00:00,  1.03it/s]\n",
      " 97%|█████████▋| 38/39 [00:40<00:00,  2.00it/s]"
     ]
    },
    {
     "name": "stdout",
     "output_type": "stream",
     "text": [
      "[LightGBM] [Info] Auto-choosing col-wise multi-threading, the overhead of testing was 0.003569 seconds.\n",
      "You can set `force_col_wise=true` to remove the overhead.\n",
      "[LightGBM] [Info] Total Bins 19622\n",
      "[LightGBM] [Info] Number of data points in the train set: 7124, number of used features: 148\n",
      "[LightGBM] [Info] Start training from score 8.328961\n"
     ]
    },
    {
     "name": "stderr",
     "output_type": "stream",
     "text": [
      "100%|██████████| 39/39 [00:41<00:00,  1.05s/it]\n",
      " 97%|█████████▋| 38/39 [00:31<00:00,  2.32it/s]"
     ]
    },
    {
     "name": "stdout",
     "output_type": "stream",
     "text": [
      "[LightGBM] [Info] Auto-choosing row-wise multi-threading, the overhead of testing was 0.002733 seconds.\n",
      "You can set `force_row_wise=true` to remove the overhead.\n",
      "And if memory is not enough, you can set `force_col_wise=true`.\n",
      "[LightGBM] [Info] Total Bins 22205\n",
      "[LightGBM] [Info] Number of data points in the train set: 6540, number of used features: 148\n",
      "[LightGBM] [Info] Start training from score 10.089537\n"
     ]
    },
    {
     "name": "stderr",
     "output_type": "stream",
     "text": [
      "100%|██████████| 39/39 [00:32<00:00,  1.20it/s]\n",
      " 97%|█████████▋| 38/39 [00:37<00:00,  2.05it/s]"
     ]
    },
    {
     "name": "stdout",
     "output_type": "stream",
     "text": [
      "[LightGBM] [Info] Auto-choosing row-wise multi-threading, the overhead of testing was 0.002619 seconds.\n",
      "You can set `force_row_wise=true` to remove the overhead.\n",
      "And if memory is not enough, you can set `force_col_wise=true`.\n",
      "[LightGBM] [Info] Total Bins 26926\n",
      "[LightGBM] [Info] Number of data points in the train set: 6913, number of used features: 148\n",
      "[LightGBM] [Info] Start training from score 8.449511\n"
     ]
    },
    {
     "name": "stderr",
     "output_type": "stream",
     "text": [
      "100%|██████████| 39/39 [00:37<00:00,  1.03it/s]\n",
      " 97%|█████████▋| 38/39 [00:31<00:00,  2.47it/s]"
     ]
    },
    {
     "name": "stdout",
     "output_type": "stream",
     "text": [
      "[LightGBM] [Info] Auto-choosing col-wise multi-threading, the overhead of testing was 0.003847 seconds.\n",
      "You can set `force_col_wise=true` to remove the overhead.\n",
      "[LightGBM] [Info] Total Bins 26565\n",
      "[LightGBM] [Info] Number of data points in the train set: 6249, number of used features: 148\n",
      "[LightGBM] [Info] Start training from score 10.985737\n"
     ]
    },
    {
     "name": "stderr",
     "output_type": "stream",
     "text": [
      "100%|██████████| 39/39 [00:31<00:00,  1.23it/s]\n",
      " 97%|█████████▋| 38/39 [00:26<00:00,  2.89it/s]"
     ]
    },
    {
     "name": "stdout",
     "output_type": "stream",
     "text": [
      "[LightGBM] [Info] Auto-choosing col-wise multi-threading, the overhead of testing was 0.004573 seconds.\n",
      "You can set `force_col_wise=true` to remove the overhead.\n",
      "[LightGBM] [Info] Total Bins 23841\n",
      "[LightGBM] [Info] Number of data points in the train set: 5587, number of used features: 148\n",
      "[LightGBM] [Info] Start training from score 8.017398\n"
     ]
    },
    {
     "name": "stderr",
     "output_type": "stream",
     "text": [
      "100%|██████████| 39/39 [00:27<00:00,  1.41it/s]\n",
      " 97%|█████████▋| 38/39 [00:43<00:00,  1.90it/s]"
     ]
    },
    {
     "name": "stdout",
     "output_type": "stream",
     "text": [
      "[LightGBM] [Info] Auto-choosing col-wise multi-threading, the overhead of testing was 0.003530 seconds.\n",
      "You can set `force_col_wise=true` to remove the overhead.\n",
      "[LightGBM] [Info] Total Bins 27461\n",
      "[LightGBM] [Info] Number of data points in the train set: 7459, number of used features: 148\n",
      "[LightGBM] [Info] Start training from score 7.935782\n"
     ]
    },
    {
     "name": "stderr",
     "output_type": "stream",
     "text": [
      "100%|██████████| 39/39 [00:43<00:00,  1.13s/it]\n"
     ]
    }
   ],
   "execution_count": 2
  },
  {
   "metadata": {
    "ExecuteTime": {
     "end_time": "2024-11-22T14:15:46.239920Z",
     "start_time": "2024-11-22T14:15:46.084037Z"
    }
   },
   "cell_type": "code",
   "source": [
    "for p_num in lazy_predict_results.keys():\n",
    "    print(f'Patient: {p_num}')\n",
    "    models = lazy_predict_results[p_num]\n",
    "    display(models[0].head(15))\n"
   ],
   "id": "311fc9d23439fdb8",
   "outputs": [
    {
     "ename": "NameError",
     "evalue": "name 'lazy_predict_results' is not defined",
     "output_type": "error",
     "traceback": [
      "\u001B[0;31m---------------------------------------------------------------------------\u001B[0m",
      "\u001B[0;31mNameError\u001B[0m                                 Traceback (most recent call last)",
      "Cell \u001B[0;32mIn[1], line 1\u001B[0m\n\u001B[0;32m----> 1\u001B[0m \u001B[38;5;28;01mfor\u001B[39;00m p_num \u001B[38;5;129;01min\u001B[39;00m \u001B[43mlazy_predict_results\u001B[49m\u001B[38;5;241m.\u001B[39mkeys():\n\u001B[1;32m      2\u001B[0m     \u001B[38;5;28mprint\u001B[39m(\u001B[38;5;124mf\u001B[39m\u001B[38;5;124m'\u001B[39m\u001B[38;5;124mPatient: \u001B[39m\u001B[38;5;132;01m{\u001B[39;00mp_num\u001B[38;5;132;01m}\u001B[39;00m\u001B[38;5;124m'\u001B[39m)\n\u001B[1;32m      3\u001B[0m     models \u001B[38;5;241m=\u001B[39m lazy_predict_results[p_num]\n",
      "\u001B[0;31mNameError\u001B[0m: name 'lazy_predict_results' is not defined"
     ]
    }
   ],
   "execution_count": 1
  },
  {
   "metadata": {},
   "cell_type": "code",
   "outputs": [],
   "execution_count": null,
   "source": "",
   "id": "d75332838970292b"
  }
 ],
 "metadata": {
  "kernelspec": {
   "display_name": "Python 3",
   "language": "python",
   "name": "python3"
  },
  "language_info": {
   "codemirror_mode": {
    "name": "ipython",
    "version": 2
   },
   "file_extension": ".py",
   "mimetype": "text/x-python",
   "name": "python",
   "nbconvert_exporter": "python",
   "pygments_lexer": "ipython2",
   "version": "2.7.6"
  }
 },
 "nbformat": 4,
 "nbformat_minor": 5
}
