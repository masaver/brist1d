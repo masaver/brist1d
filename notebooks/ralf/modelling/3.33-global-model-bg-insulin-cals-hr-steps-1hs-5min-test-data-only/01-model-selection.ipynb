{
 "cells": [
  {
   "metadata": {},
   "cell_type": "markdown",
   "source": [
    "# Modelling most important features\n",
    "\n",
    "## Model Selection"
   ],
   "id": "c4f5fa4ffbc53369"
  },
  {
   "metadata": {
    "ExecuteTime": {
     "end_time": "2024-11-29T09:54:25.295041Z",
     "start_time": "2024-11-29T09:53:55.449281Z"
    }
   },
   "cell_type": "code",
   "source": [
    "from data import load_data\n",
    "\n",
    "_, additional_train_data, _ = load_data()"
   ],
   "id": "61c204ab0f9451f1",
   "outputs": [],
   "execution_count": 1
  },
  {
   "metadata": {
    "ExecuteTime": {
     "end_time": "2024-11-29T09:55:17.249295Z",
     "start_time": "2024-11-29T09:54:25.310148Z"
    }
   },
   "cell_type": "code",
   "source": [
    "from pipelines import pipeline\n",
    "\n",
    "train_data = pipeline.fit_transform(additional_train_data)"
   ],
   "id": "2f7ab421d5ccf55c",
   "outputs": [],
   "execution_count": 2
  },
  {
   "metadata": {},
   "cell_type": "markdown",
   "source": "## Data Splitting",
   "id": "3d2d3faf26fe5447"
  },
  {
   "metadata": {
    "ExecuteTime": {
     "end_time": "2024-11-29T09:55:17.688579Z",
     "start_time": "2024-11-29T09:55:17.431322Z"
    }
   },
   "cell_type": "code",
   "source": [
    "from sklearn.model_selection import train_test_split\n",
    "\n",
    "X = train_data.drop(columns=['bg+1:00'])\n",
    "y = train_data['bg+1:00']\n",
    "\n",
    "X_train, X_test, y_train, y_test = train_test_split(X, y, test_size=0.2, random_state=42)"
   ],
   "id": "5e39b1845bc7e6d9",
   "outputs": [],
   "execution_count": 3
  },
  {
   "metadata": {},
   "cell_type": "markdown",
   "source": "## Model Selection with LazyPredict",
   "id": "591898d90d93c5e9"
  },
  {
   "metadata": {
    "jupyter": {
     "is_executing": true
    },
    "ExecuteTime": {
     "start_time": "2024-11-29T09:55:17.755977Z"
    }
   },
   "cell_type": "code",
   "source": [
    "from notebooks.helpers.LazyPredict import get_lazy_regressor\n",
    "\n",
    "reg = get_lazy_regressor(exclude=['SVR'])\n",
    "models, predictions = reg.fit(X_train, X_test, y_train, y_test)\n",
    "models"
   ],
   "id": "bcc68a5591d6ea65",
   "outputs": [
    {
     "name": "stderr",
     "output_type": "stream",
     "text": [
      " 74%|███████▎  | 28/38 [14:27<01:58, 11.81s/it]"
     ]
    }
   ],
   "execution_count": null
  }
 ],
 "metadata": {
  "kernelspec": {
   "display_name": "Python 3",
   "language": "python",
   "name": "python3"
  },
  "language_info": {
   "codemirror_mode": {
    "name": "ipython",
    "version": 2
   },
   "file_extension": ".py",
   "mimetype": "text/x-python",
   "name": "python",
   "nbconvert_exporter": "python",
   "pygments_lexer": "ipython2",
   "version": "2.7.6"
  }
 },
 "nbformat": 4,
 "nbformat_minor": 5
}
