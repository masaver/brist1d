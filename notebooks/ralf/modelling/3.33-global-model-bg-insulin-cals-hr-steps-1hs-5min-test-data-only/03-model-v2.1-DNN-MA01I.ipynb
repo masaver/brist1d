{
 "cells": [
  {
   "metadata": {},
   "cell_type": "markdown",
   "source": [
    "# The final model\n",
    " "
   ],
   "id": "32bfa9234ec39c2"
  },
  {
   "metadata": {},
   "cell_type": "markdown",
   "source": "## Model v2.1",
   "id": "c4f5fa4ffbc53369"
  },
  {
   "metadata": {
    "ExecuteTime": {
     "end_time": "2024-11-29T09:20:31.181065Z",
     "start_time": "2024-11-29T09:20:31.176401Z"
    }
   },
   "cell_type": "code",
   "source": "model_name = f'3.31-v2.1'",
   "id": "75e879dfb8ea6174",
   "outputs": [],
   "execution_count": 1
  },
  {
   "metadata": {
    "ExecuteTime": {
     "end_time": "2024-11-29T09:20:32.161722Z",
     "start_time": "2024-11-29T09:20:31.186418Z"
    }
   },
   "cell_type": "code",
   "source": [
    "import warnings\n",
    "\n",
    "from sklearn.metrics import root_mean_squared_error\n",
    "\n",
    "warnings.filterwarnings(\"ignore\")"
   ],
   "id": "290b65029317749a",
   "outputs": [],
   "execution_count": 2
  },
  {
   "metadata": {
    "ExecuteTime": {
     "end_time": "2024-11-29T09:20:47.116771Z",
     "start_time": "2024-11-29T09:20:32.284337Z"
    }
   },
   "cell_type": "code",
   "source": [
    "import pandas as pd\n",
    "from data import load_data\n",
    "\n",
    "_, augmented_data, test_data = load_data()"
   ],
   "id": "ed9cab10a4c9269",
   "outputs": [],
   "execution_count": 3
  },
  {
   "metadata": {
    "ExecuteTime": {
     "end_time": "2024-11-29T09:20:47.144530Z",
     "start_time": "2024-11-29T09:20:47.131743Z"
    }
   },
   "cell_type": "code",
   "source": "augmented_data.info()",
   "id": "e6efef1597276890",
   "outputs": [
    {
     "name": "stdout",
     "output_type": "stream",
     "text": [
      "<class 'pandas.core.frame.DataFrame'>\n",
      "Index: 168588 entries, p01_test_12 to p24_test_94938\n",
      "Columns: 507 entries, p_num to bg+1:00\n",
      "dtypes: float64(433), object(74)\n",
      "memory usage: 657.4+ MB\n"
     ]
    }
   ],
   "execution_count": 4
  },
  {
   "metadata": {
    "ExecuteTime": {
     "end_time": "2024-11-29T09:20:47.208265Z",
     "start_time": "2024-11-29T09:20:47.155652Z"
    }
   },
   "cell_type": "code",
   "source": "test_data.info()",
   "id": "16d75f6d697d8bc7",
   "outputs": [
    {
     "name": "stdout",
     "output_type": "stream",
     "text": [
      "<class 'pandas.core.frame.DataFrame'>\n",
      "Index: 3644 entries, p01_8459 to p24_260\n",
      "Columns: 506 entries, p_num to activity-0:00\n",
      "dtypes: float64(432), object(74)\n",
      "memory usage: 14.2+ MB\n"
     ]
    }
   ],
   "execution_count": 5
  },
  {
   "metadata": {},
   "cell_type": "markdown",
   "source": "# Prepare the data",
   "id": "fc5e077e5738d8eb"
  },
  {
   "metadata": {
    "ExecuteTime": {
     "end_time": "2024-11-29T09:21:15.881070Z",
     "start_time": "2024-11-29T09:20:47.217594Z"
    }
   },
   "cell_type": "code",
   "source": [
    "from pipelines import pipeline\n",
    "\n",
    "train_data_transformed = pipeline.fit_transform(augmented_data)\n",
    "\n",
    "X_train = train_data_transformed.drop(columns=['bg+1:00'])\n",
    "y_train = train_data_transformed['bg+1:00']"
   ],
   "id": "c7df704ede80b62",
   "outputs": [],
   "execution_count": 6
  },
  {
   "metadata": {},
   "cell_type": "markdown",
   "source": "## Predict for validation data and check results",
   "id": "9b608adb90b0235e"
  },
  {
   "metadata": {
    "ExecuteTime": {
     "end_time": "2024-11-29T09:21:18.268903Z",
     "start_time": "2024-11-29T09:21:15.899456Z"
    }
   },
   "cell_type": "code",
   "source": [
    "import dnns\n",
    "from tensorflow.keras.optimizers import Adam\n",
    "from scikeras.wrappers import KerasRegressor\n",
    "\n",
    "create_dnn_model = dnns.create_model_MA01I\n",
    "\n",
    "\n",
    "def model_with_pretrained_weights():\n",
    "    dnn = create_dnn_model(X_train.shape[1])\n",
    "    dnn.load_weights(f'{model_name}.weights.h5')  # Load the pre-trained weights\n",
    "\n",
    "    # Freeze all layers except the last one (optional)\n",
    "    for layer in dnn.layers:\n",
    "        layer.trainable = False\n",
    "    # Unfreeze the output layer if you want to fine-tune it\n",
    "    # dnn.layers[-1].trainable = True\n",
    "\n",
    "    dnn.compile(\n",
    "        optimizer=Adam(learning_rate=0.001),\n",
    "        loss='mse',\n",
    "        metrics=[dnns.rmse]\n",
    "    )\n",
    "    return dnn\n"
   ],
   "id": "c20aa25cccb09977",
   "outputs": [],
   "execution_count": 7
  },
  {
   "metadata": {
    "ExecuteTime": {
     "end_time": "2024-11-29T09:22:21.905085Z",
     "start_time": "2024-11-29T09:21:18.285348Z"
    }
   },
   "cell_type": "code",
   "source": [
    "from sklearn.neighbors import KNeighborsRegressor\n",
    "from xgboost import XGBRegressor\n",
    "from sklearn.ensemble import StackingRegressor, HistGradientBoostingRegressor\n",
    "from sklearn.linear_model import LassoLarsIC, Ridge\n",
    "from tensorflow.keras.callbacks import EarlyStopping\n",
    "from model_performance_calculations import get_history_line_chart\n",
    "\n",
    "hgb_estimator = HistGradientBoostingRegressor(\n",
    "    max_depth=4,\n",
    "    learning_rate=0.05,\n",
    "    max_iter=500,\n",
    "    min_samples_leaf=20,\n",
    "    early_stopping='auto',\n",
    "    validation_fraction=0.1,\n",
    "    n_iter_no_change=10,\n",
    "    verbose=0\n",
    ")\n",
    "\n",
    "lasso_lars_ic_base_model = LassoLarsIC(\n",
    "    criterion='aic',\n",
    "    eps=0.03922948513965659,\n",
    "    max_iter=1944,\n",
    "    noise_variance=5.4116687755186035e-05,\n",
    "    positive=False,\n",
    ")\n",
    "\n",
    "knn_base_estimator = KNeighborsRegressor(\n",
    "    leaf_size=30,\n",
    "    metric='minkowski',\n",
    "    n_neighbors=7,\n",
    "    p=2,\n",
    "    weights='distance'\n",
    ")\n",
    "\n",
    "xgb_base_estimator = XGBRegressor(\n",
    "    n_estimators=1000,\n",
    "    max_depth=5,\n",
    "    learning_rate=0.01,\n",
    "    colsample_bytree=0.8,\n",
    "    subsample=0.8,\n",
    "    objective='reg:squarederror',\n",
    "    random_state=42,\n",
    ")\n",
    "\n",
    "# pretrain the DNN and use the weights in the stacking model\n",
    "pretrained_dnn = create_dnn_model(X_train.shape[1])\n",
    "pretrained_dnn.fit(\n",
    "    X_train,\n",
    "    y_train,\n",
    "    epochs=100,\n",
    "    verbose=2,\n",
    "    validation_split=0.2,\n",
    "    batch_size=32,\n",
    "    callbacks=[EarlyStopping(monitor='val_loss', patience=10, restore_best_weights=True)]\n",
    ")\n",
    "\n",
    "history = pretrained_dnn.history.history\n",
    "pretrained_dnn.save_weights(f'{model_name}.weights.h5')\n",
    "\n",
    "keras_regressor = KerasRegressor(\n",
    "    model=model_with_pretrained_weights,\n",
    "    epochs=1,\n",
    "    verbose=2\n",
    ")\n",
    "\n",
    "estimators = [\n",
    "    ('hgb', hgb_estimator),\n",
    "    ('lasso_lars_ic', lasso_lars_ic_base_model),\n",
    "    ('knn', knn_base_estimator),\n",
    "    ('xgb', xgb_base_estimator),\n",
    "    ('dnn', keras_regressor)\n",
    "]\n",
    "\n",
    "model = StackingRegressor(estimators=estimators, final_estimator=Ridge(alpha=0.1), n_jobs=1, verbose=2)\n",
    "\n",
    "get_history_line_chart([history]).show()"
   ],
   "id": "7e0583e9ae957c2d",
   "outputs": [
    {
     "name": "stdout",
     "output_type": "stream",
     "text": [
      "Epoch 1/100\n",
      "4215/4215 - 4s - 959us/step - loss: 9.7221 - rmse: 2.9160 - val_loss: 5.6989 - val_rmse: 2.1010\n",
      "Epoch 2/100\n",
      "4215/4215 - 3s - 807us/step - loss: 6.2829 - rmse: 2.4525 - val_loss: 5.5145 - val_rmse: 2.0809\n",
      "Epoch 3/100\n",
      "4215/4215 - 3s - 740us/step - loss: 5.4605 - rmse: 2.2961 - val_loss: 5.6771 - val_rmse: 2.0989\n",
      "Epoch 4/100\n",
      "4215/4215 - 3s - 719us/step - loss: 5.0986 - rmse: 2.2183 - val_loss: 5.4473 - val_rmse: 2.0636\n",
      "Epoch 5/100\n",
      "4215/4215 - 3s - 711us/step - loss: 4.8502 - rmse: 2.1626 - val_loss: 5.2547 - val_rmse: 2.0343\n",
      "Epoch 6/100\n",
      "4215/4215 - 3s - 789us/step - loss: 4.6899 - rmse: 2.1258 - val_loss: 5.1308 - val_rmse: 2.0323\n",
      "Epoch 7/100\n",
      "4215/4215 - 3s - 697us/step - loss: 4.6138 - rmse: 2.1088 - val_loss: 5.1147 - val_rmse: 2.0084\n",
      "Epoch 8/100\n",
      "4215/4215 - 3s - 784us/step - loss: 4.5676 - rmse: 2.0958 - val_loss: 5.1711 - val_rmse: 2.0241\n",
      "Epoch 9/100\n",
      "4215/4215 - 3s - 684us/step - loss: 4.5255 - rmse: 2.0858 - val_loss: 5.1388 - val_rmse: 2.0306\n",
      "Epoch 10/100\n",
      "4215/4215 - 3s - 670us/step - loss: 4.5011 - rmse: 2.0785 - val_loss: 5.1107 - val_rmse: 2.0137\n",
      "Epoch 11/100\n",
      "4215/4215 - 3s - 778us/step - loss: 4.4869 - rmse: 2.0752 - val_loss: 5.2259 - val_rmse: 2.0347\n",
      "Epoch 12/100\n",
      "4215/4215 - 3s - 675us/step - loss: 4.4645 - rmse: 2.0680 - val_loss: 5.1513 - val_rmse: 2.0291\n",
      "Epoch 13/100\n",
      "4215/4215 - 3s - 798us/step - loss: 4.4467 - rmse: 2.0642 - val_loss: 5.3263 - val_rmse: 2.0474\n",
      "Epoch 14/100\n",
      "4215/4215 - 3s - 652us/step - loss: 4.4454 - rmse: 2.0622 - val_loss: 5.2050 - val_rmse: 2.0285\n",
      "Epoch 15/100\n",
      "4215/4215 - 3s - 723us/step - loss: 4.4220 - rmse: 2.0568 - val_loss: 5.2590 - val_rmse: 2.0370\n",
      "Epoch 16/100\n",
      "4215/4215 - 3s - 688us/step - loss: 4.4004 - rmse: 2.0500 - val_loss: 5.3013 - val_rmse: 2.0443\n",
      "Epoch 17/100\n",
      "4215/4215 - 3s - 668us/step - loss: 4.4068 - rmse: 2.0500 - val_loss: 5.1727 - val_rmse: 2.0194\n",
      "Epoch 18/100\n",
      "4215/4215 - 3s - 781us/step - loss: 4.3963 - rmse: 2.0476 - val_loss: 5.5112 - val_rmse: 2.0657\n",
      "Epoch 19/100\n",
      "4215/4215 - 3s - 783us/step - loss: 4.3733 - rmse: 2.0432 - val_loss: 5.1127 - val_rmse: 2.0157\n",
      "Epoch 20/100\n",
      "4215/4215 - 3s - 800us/step - loss: 4.3797 - rmse: 2.0420 - val_loss: 5.2779 - val_rmse: 2.0475\n"
     ]
    },
    {
     "data": {
      "text/plain": [
       "<Figure size 1000x500 with 1 Axes>"
      ],
      "image/png": "[encoded data removed]"
     },
     "metadata": {},
     "output_type": "display_data"
    }
   ],
   "execution_count": 8
  },
  {
   "metadata": {
    "jupyter": {
     "is_executing": true
    },
    "ExecuteTime": {
     "start_time": "2024-11-29T09:31:48.072957Z"
    }
   },
   "cell_type": "code",
   "source": [
    "from datetime import datetime\n",
    "import os\n",
    "from model_performance_calculations import calculate_stacking_regressor_performance, get_rmse_boxplot_chart, get_rmse_line_chart, save_performances, save_model\n",
    "\n",
    "date_time = datetime.now().strftime('%Y-%m-%d_%H-%M-%S')\n",
    "\n",
    "save_model(model, os.path.join('models', f'{model_name}.pkl'))\n",
    "\n",
    "performances = calculate_stacking_regressor_performance(model, X_train, y_train, n_splits=10)\n",
    "save_performances(performances, os.path.join('models', f'{model_name}-performances.json'))\n",
    "\n",
    "get_rmse_boxplot_chart(performances).show()\n",
    "get_rmse_line_chart(performances).show()"
   ],
   "id": "c0be6db84ab0c1b0",
   "outputs": [
    {
     "name": "stdout",
     "output_type": "stream",
     "text": [
      "10:31:48 - Start training\n",
      "10:31:48 - Calculate performance for hgb\n",
      "10:31:48 - Split 1 - Model: hgb\n",
      "10:31:48 - Fitting the model\n",
      "10:32:06 - Predicting\n",
      "10:32:07 - Calculating scores\n",
      "10:32:07 - R^2: 0.6168986956161264, RMSE: 2.036752588683351, MAE: 1.5196064230713495, MSE: 4.148361107508331\n",
      "10:32:07 - Split 2 - Model: hgb\n",
      "10:32:07 - Fitting the model\n",
      "10:32:22 - Predicting\n",
      "10:32:22 - Calculating scores\n",
      "10:32:22 - R^2: 0.6180019349029948, RMSE: 2.017669943144042, MAE: 1.50359272624002, MSE: 4.070991999466882\n",
      "10:32:22 - Split 3 - Model: hgb\n",
      "10:32:22 - Fitting the model\n"
     ]
    }
   ],
   "execution_count": null
  },
  {
   "metadata": {},
   "cell_type": "code",
   "source": [
    "import numpy as np\n",
    "from pipelines import pipeline\n",
    "\n",
    "train_data_transformed = pipeline.fit_transform(augmented_data)\n",
    "\n",
    "X_train = train_data_transformed.drop(columns=['bg+1:00'])\n",
    "y_train = train_data_transformed['bg+1:00']\n",
    "\n",
    "model.fit(X_train, y_train)\n",
    "\n",
    "X_test = pipeline.transform(test_data)\n",
    "y_pred = model.predict(X_test)\n",
    "\n",
    "if np.sum(y_pred < 0) > 0:\n",
    "    print(f'Number of negative values: {np.sum(y_pred < 0)}')\n",
    "    bg_min_train = np.min(y_train)\n",
    "    print(f'Min value: {np.min(y_pred)}')\n",
    "    print(f'Filling negative values with {bg_min_train}')\n",
    "    y_pred = np.where(y_pred < 0, bg_min_train, y_pred)\n",
    "\n",
    "test_data['bg+1:00'] = y_pred\n",
    "test_data.head()"
   ],
   "id": "43cf99724f468af4",
   "outputs": [],
   "execution_count": null
  },
  {
   "metadata": {},
   "cell_type": "code",
   "source": [
    "submission = pd.DataFrame(test_data['bg+1:00'])\n",
    "submission"
   ],
   "id": "5167875e1afa3ec1",
   "outputs": [],
   "execution_count": null
  },
  {
   "metadata": {},
   "cell_type": "code",
   "source": "submission.to_csv(f'submission-model-{model_name}.csv')",
   "id": "7b61741c1c7498d4",
   "outputs": [],
   "execution_count": null
  },
  {
   "metadata": {},
   "cell_type": "code",
   "source": [
    "y_pred = model.predict(X_train)\n",
    "\n",
    "root_mean_squared_error(y_train, y_pred)\n"
   ],
   "id": "54d3ab250c230332",
   "outputs": [],
   "execution_count": null
  },
  {
   "metadata": {},
   "cell_type": "code",
   "source": [
    "from sklearn.metrics import root_mean_squared_error\n",
    "\n",
    "root_mean_squared_error(y_train, y_pred)"
   ],
   "id": "d2a2d8aa5910f82e",
   "outputs": [],
   "execution_count": null
  },
  {
   "metadata": {},
   "cell_type": "code",
   "source": "",
   "id": "a6418b6d37efab5f",
   "outputs": [],
   "execution_count": null
  }
 ],
 "metadata": {
  "kernelspec": {
   "display_name": "Python 3",
   "language": "python",
   "name": "python3"
  },
  "language_info": {
   "codemirror_mode": {
    "name": "ipython",
    "version": 2
   },
   "file_extension": ".py",
   "mimetype": "text/x-python",
   "name": "python",
   "nbconvert_exporter": "python",
   "pygments_lexer": "ipython2",
   "version": "2.7.6"
  }
 },
 "nbformat": 4,
 "nbformat_minor": 5
}
