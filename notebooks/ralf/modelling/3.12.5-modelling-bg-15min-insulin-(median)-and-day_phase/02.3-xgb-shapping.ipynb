{
 "cells": [
  {
   "metadata": {},
   "cell_type": "markdown",
   "source": "# Model Shapping",
   "id": "c4f5fa4ffbc53369"
  },
  {
   "metadata": {
    "ExecuteTime": {
     "end_time": "2024-11-12T11:03:42.206824Z",
     "start_time": "2024-11-12T11:03:41.534452Z"
    }
   },
   "cell_type": "code",
   "source": [
    "# Importing the libraries\n",
    "import os\n",
    "import pandas as pd"
   ],
   "id": "a3b2d749037733c4",
   "outputs": [],
   "execution_count": 1
  },
  {
   "metadata": {},
   "cell_type": "markdown",
   "source": "## Load data",
   "id": "82159de3bfdd45bc"
  },
  {
   "metadata": {
    "ExecuteTime": {
     "end_time": "2024-11-12T11:03:57.643438Z",
     "start_time": "2024-11-12T11:03:42.220466Z"
    }
   },
   "cell_type": "code",
   "source": [
    "# Load and preprocess the train data \n",
    "from pipelines import pipeline\n",
    "\n",
    "data_file = os.path.join('..', '..', '..', '..', 'data', 'raw', 'train.csv')\n",
    "train_data = pd.read_csv(data_file, index_col=0, low_memory=False)\n",
    "train_data = pipeline.fit_transform(train_data)\n",
    "\n",
    "X = train_data.drop(columns=['bg+1:00'])\n",
    "y = train_data['bg+1:00']"
   ],
   "id": "2f7ab421d5ccf55c",
   "outputs": [],
   "execution_count": 2
  },
  {
   "metadata": {},
   "cell_type": "markdown",
   "source": "## Train model with the whole dataset",
   "id": "ae607343fe6864fc"
  },
  {
   "metadata": {
    "ExecuteTime": {
     "end_time": "2024-11-12T11:03:59.904101Z",
     "start_time": "2024-11-12T11:03:57.761067Z"
    }
   },
   "cell_type": "code",
   "source": [
    "from src.features.tuners import XGBHyperparameterTuner\n",
    "from sklearn.metrics import root_mean_squared_error\n",
    "\n",
    "tuner = XGBHyperparameterTuner()\n",
    "model = tuner.regressor()\n",
    "model.fit(X=X, y=y)\n",
    "\n",
    "root_mean_squared_error(y_true=y, y_pred=model.predict(X=X))"
   ],
   "id": "5ce6c963f1b6bc12",
   "outputs": [
    {
     "data": {
      "text/plain": [
       "np.float64(1.6485457035030124)"
      ]
     },
     "execution_count": 3,
     "metadata": {},
     "output_type": "execute_result"
    }
   ],
   "execution_count": 3
  },
  {
   "metadata": {
    "ExecuteTime": {
     "end_time": "2024-11-12T11:03:59.983936Z",
     "start_time": "2024-11-12T11:03:59.976231Z"
    }
   },
   "cell_type": "code",
   "source": [
    "top_feature_importances = pd.Series(model.feature_importances_, index=model.feature_names_in_).sort_values(ascending=False)\n",
    "top_feature_importances"
   ],
   "id": "4a597aeecf6e3d91",
   "outputs": [
    {
     "data": {
      "text/plain": [
       "bg-0:00                   0.453462\n",
       "day_phase_night           0.034901\n",
       "bg-0:15                   0.033341\n",
       "insulin-0:45              0.016729\n",
       "insulin-0:30              0.015063\n",
       "insulin-1:00              0.014728\n",
       "day_phase_late_evening    0.013870\n",
       "insulin-0:15              0.013849\n",
       "day_phase_morning         0.013686\n",
       "day_phase_evening         0.012742\n",
       "day_phase_noon            0.012685\n",
       "insulin-0:00              0.012612\n",
       "bg-0:30                   0.011613\n",
       "bg-1:15                   0.011149\n",
       "bg-0:45                   0.010834\n",
       "bg-2:15                   0.010664\n",
       "insulin-1:15              0.010626\n",
       "insulin-1:30              0.010219\n",
       "insulin-5:45              0.010163\n",
       "bg-1:00                   0.009413\n",
       "insulin-3:45              0.009384\n",
       "bg-1:45                   0.009356\n",
       "bg-3:30                   0.009331\n",
       "insulin-5:15              0.009315\n",
       "insulin-5:30              0.009150\n",
       "insulin-2:00              0.009083\n",
       "insulin-1:45              0.008976\n",
       "insulin-5:00              0.008956\n",
       "bg-1:30                   0.008920\n",
       "bg-2:00                   0.008724\n",
       "insulin-4:00              0.008706\n",
       "bg-4:45                   0.008541\n",
       "insulin-4:45              0.008507\n",
       "bg-3:00                   0.008441\n",
       "insulin-2:30              0.008355\n",
       "insulin-3:15              0.008352\n",
       "insulin-3:00              0.008342\n",
       "insulin-3:30              0.008275\n",
       "insulin-2:45              0.008169\n",
       "insulin-4:30              0.007884\n",
       "bg-2:45                   0.007861\n",
       "bg-2:30                   0.007638\n",
       "insulin-2:15              0.007622\n",
       "bg-4:00                   0.007564\n",
       "bg-4:30                   0.007422\n",
       "insulin-4:15              0.007383\n",
       "bg-3:15                   0.007239\n",
       "bg-3:45                   0.007000\n",
       "bg-4:15                   0.006996\n",
       "bg-5:00                   0.006865\n",
       "bg-5:30                   0.006532\n",
       "bg-5:15                   0.006437\n",
       "bg-5:45                   0.006322\n",
       "dtype: float32"
      ]
     },
     "execution_count": 4,
     "metadata": {},
     "output_type": "execute_result"
    }
   ],
   "execution_count": 4
  },
  {
   "metadata": {
    "ExecuteTime": {
     "end_time": "2024-11-12T11:06:52.257513Z",
     "start_time": "2024-11-12T11:04:00.137583Z"
    }
   },
   "cell_type": "code",
   "source": [
    "from sklearn.model_selection import KFold, GroupKFold\n",
    "from tqdm.notebook import tqdm\n",
    "import numpy as np\n",
    "\n",
    "rmse_on_feature_length = {}\n",
    "for i in tqdm(range(1, len(top_feature_importances)+1)):\n",
    "    X_new = X[top_feature_importances.index[:i]]\n",
    "    model = tuner.regressor()\n",
    "\n",
    "    kf = GroupKFold(n_splits=5, shuffle=True, random_state=42)\n",
    "    # Perform cross-validation\n",
    "    results = []\n",
    "    for train_index, test_index in kf.split(X_new, y):\n",
    "        X_train, X_test = X_new.iloc[train_index], X_new.iloc[test_index]\n",
    "        y_train, y_test = y.iloc[train_index], y.iloc[test_index]\n",
    "        model.fit(X_train, y_train)\n",
    "        \n",
    "        y_pred = model.predict(X_test)\n",
    "        results.append(root_mean_squared_error(y_test, y_pred))\n",
    "\n",
    "    # Report the mean accuracy across folds\n",
    "    rmse_on_feature_length[i] = np.mean(results)"
   ],
   "id": "1460f03067af946a",
   "outputs": [
    {
     "data": {
      "text/plain": [
       "  0%|          | 0/53 [00:00<?, ?it/s]"
      ],
      "application/vnd.jupyter.widget-view+json": {
       "version_major": 2,
       "version_minor": 0,
       "model_id": "2c44cebdc20143789963ecd71b1b5f0a"
      }
     },
     "metadata": {},
     "output_type": "display_data"
    }
   ],
   "execution_count": 5
  },
  {
   "metadata": {
    "ExecuteTime": {
     "end_time": "2024-11-12T11:06:52.510504Z",
     "start_time": "2024-11-12T11:06:52.364099Z"
    }
   },
   "cell_type": "code",
   "source": [
    "import matplotlib.pyplot as plt\n",
    "%matplotlib inline\n",
    "plt.plot(rmse_on_feature_length.values())\n",
    "plt.title('RMSE over number of top features')\n",
    "plt.xlabel('Number of top features')\n",
    "plt.ylabel('RMSE')\n",
    "plt.show()"
   ],
   "id": "46559a360ea3a3c8",
   "outputs": [
    {
     "data": {
      "text/plain": [
       "<Figure size 640x480 with 1 Axes>"
      ],
      "image/png": "[encoded data removed]"
     },
     "metadata": {},
     "output_type": "display_data"
    }
   ],
   "execution_count": 6
  },
  {
   "metadata": {
    "ExecuteTime": {
     "end_time": "2024-11-12T11:06:52.549185Z",
     "start_time": "2024-11-12T11:06:52.542848Z"
    }
   },
   "cell_type": "code",
   "source": [
    "# Find the key with the minimum value\n",
    "min_key = min(rmse_on_feature_length, key=rmse_on_feature_length.get)\n",
    "\n",
    "print(\"Index with the minimum value:\", min_key)\n",
    "print(\"Minimum value:\", rmse_on_feature_length[min_key])"
   ],
   "id": "b03c4386bb56528a",
   "outputs": [
    {
     "name": "stdout",
     "output_type": "stream",
     "text": [
      "Index with the minimum value: 53\n",
      "Minimum value: 1.810204911335314\n"
     ]
    }
   ],
   "execution_count": 7
  }
 ],
 "metadata": {
  "kernelspec": {
   "display_name": "Python 3",
   "language": "python",
   "name": "python3"
  },
  "language_info": {
   "codemirror_mode": {
    "name": "ipython",
    "version": 2
   },
   "file_extension": ".py",
   "mimetype": "text/x-python",
   "name": "python",
   "nbconvert_exporter": "python",
   "pygments_lexer": "ipython2",
   "version": "2.7.6"
  }
 },
 "nbformat": 4,
 "nbformat_minor": 5
}
