{
 "cells": [
  {
   "metadata": {},
   "cell_type": "markdown",
   "source": "# Model Shapping",
   "id": "c4f5fa4ffbc53369"
  },
  {
   "metadata": {
    "ExecuteTime": {
     "end_time": "2024-11-12T16:59:06.163854Z",
     "start_time": "2024-11-12T16:59:05.530629Z"
    }
   },
   "cell_type": "code",
   "source": [
    "# Importing the libraries\n",
    "import os\n",
    "import pandas as pd\n",
    "import numpy as np"
   ],
   "id": "a3b2d749037733c4",
   "outputs": [],
   "execution_count": 1
  },
  {
   "metadata": {},
   "cell_type": "markdown",
   "source": "## Load data",
   "id": "82159de3bfdd45bc"
  },
  {
   "metadata": {
    "ExecuteTime": {
     "end_time": "2024-11-12T16:59:51.503530Z",
     "start_time": "2024-11-12T16:59:06.192777Z"
    }
   },
   "cell_type": "code",
   "source": [
    "# Load and preprocess the train data \n",
    "from pipelines import pipeline\n",
    "\n",
    "data_file = os.path.join('..', '..', '..', '..', 'data', 'raw', 'train.csv')\n",
    "train_data = pd.read_csv(data_file, index_col=0, low_memory=False)\n",
    "train_data = pipeline.fit_transform(train_data)\n",
    "\n",
    "X = train_data.drop(columns=['bg+1:00'])\n",
    "y = train_data['bg+1:00']"
   ],
   "id": "2f7ab421d5ccf55c",
   "outputs": [],
   "execution_count": 2
  },
  {
   "metadata": {},
   "cell_type": "markdown",
   "source": "## Train model with the whole dataset",
   "id": "ae607343fe6864fc"
  },
  {
   "metadata": {
    "ExecuteTime": {
     "end_time": "2024-11-12T17:02:14.995129Z",
     "start_time": "2024-11-12T16:59:51.676073Z"
    }
   },
   "cell_type": "code",
   "source": [
    "from src.features.tuners import BaggingHyperparameterTuner\n",
    "from sklearn.metrics import root_mean_squared_error\n",
    "\n",
    "tuner = BaggingHyperparameterTuner()\n",
    "model = tuner.regressor()\n",
    "model.fit(X=X, y=y)\n",
    "\n",
    "root_mean_squared_error(y_true=y, y_pred=model.predict(X=X))"
   ],
   "id": "5ce6c963f1b6bc12",
   "outputs": [
    {
     "data": {
      "text/plain": [
       "np.float64(0.716030463211452)"
      ]
     },
     "execution_count": 3,
     "metadata": {},
     "output_type": "execute_result"
    }
   ],
   "execution_count": 3
  },
  {
   "metadata": {},
   "cell_type": "markdown",
   "source": "## Feature importances",
   "id": "6862ce924b8a4c47"
  },
  {
   "metadata": {
    "ExecuteTime": {
     "end_time": "2024-11-12T17:02:15.090497Z",
     "start_time": "2024-11-12T17:02:15.064880Z"
    }
   },
   "cell_type": "code",
   "source": [
    "# Extract and average feature importances from each decision tree in the ensemble\n",
    "feature_importances = np.mean([tree.feature_importances_ for tree in model.estimators_], axis=0)\n",
    "top_feature_importances = pd.Series(feature_importances, index=X.columns).sort_values(ascending=False)\n",
    "top_feature_importances"
   ],
   "id": "2752557cabc384f5",
   "outputs": [
    {
     "data": {
      "text/plain": [
       "bg-0:00                   0.508518\n",
       "bg-0:15                   0.028079\n",
       "insulin-0:15              0.015662\n",
       "bg-0:30                   0.015080\n",
       "insulin-0:30              0.014713\n",
       "insulin-0:45              0.012999\n",
       "bg-5:45                   0.012781\n",
       "bg-0:45                   0.011184\n",
       "insulin-0:00              0.010959\n",
       "insulin-1:00              0.010946\n",
       "bg-1:00                   0.010824\n",
       "bg-1:15                   0.010524\n",
       "insulin-5:45              0.010347\n",
       "insulin-1:15              0.010156\n",
       "bg-1:30                   0.009943\n",
       "insulin-1:30              0.009860\n",
       "insulin-2:00              0.009794\n",
       "bg-1:45                   0.009683\n",
       "bg-5:30                   0.009374\n",
       "insulin-2:15              0.009365\n",
       "bg-2:15                   0.009351\n",
       "insulin-4:45              0.009305\n",
       "insulin-1:45              0.009282\n",
       "insulin-4:00              0.009135\n",
       "insulin-5:15              0.009113\n",
       "bg-5:00                   0.009049\n",
       "bg-2:30                   0.009048\n",
       "insulin-2:45              0.009047\n",
       "insulin-2:30              0.008947\n",
       "insulin-5:30              0.008884\n",
       "bg-3:30                   0.008883\n",
       "bg-2:00                   0.008883\n",
       "bg-2:45                   0.008823\n",
       "insulin-4:30              0.008812\n",
       "insulin-3:00              0.008792\n",
       "insulin-4:15              0.008676\n",
       "insulin-3:30              0.008660\n",
       "insulin-5:00              0.008614\n",
       "insulin-3:15              0.008571\n",
       "bg-3:15                   0.008567\n",
       "bg-5:15                   0.008517\n",
       "insulin-3:45              0.008390\n",
       "bg-4:15                   0.008358\n",
       "bg-3:00                   0.008321\n",
       "bg-4:30                   0.008305\n",
       "bg-3:45                   0.008226\n",
       "bg-4:45                   0.008131\n",
       "bg-4:00                   0.008120\n",
       "day_phase_night           0.005302\n",
       "day_phase_evening         0.002963\n",
       "day_phase_noon            0.002828\n",
       "day_phase_late_evening    0.001701\n",
       "day_phase_morning         0.001606\n",
       "dtype: float64"
      ]
     },
     "execution_count": 4,
     "metadata": {},
     "output_type": "execute_result"
    }
   ],
   "execution_count": 4
  },
  {
   "metadata": {
    "ExecuteTime": {
     "end_time": "2024-11-12T17:46:48.674454Z",
     "start_time": "2024-11-12T17:02:15.335880Z"
    }
   },
   "cell_type": "code",
   "source": [
    "from joblib import Parallel, delayed\n",
    "from sklearn.model_selection import KFold\n",
    "from tqdm.notebook import tqdm\n",
    "import numpy as np\n",
    "\n",
    "rmse_on_feature_length = {}\n",
    "for i in tqdm(range(len(top_feature_importances), 0, -1)):\n",
    "    X_new = X[top_feature_importances.index[:i]]\n",
    "    model = tuner.regressor()\n",
    "    kf = KFold(n_splits=5, shuffle=True, random_state=42)\n",
    "\n",
    "\n",
    "    def train(train_index, test_index):\n",
    "        X_train, X_test = X_new.iloc[train_index], X_new.iloc[test_index]\n",
    "        y_train, y_test = y.iloc[train_index], y.iloc[test_index]\n",
    "        model.fit(X_train, y_train)\n",
    "        \n",
    "        y_pred = model.predict(X_test)\n",
    "        return root_mean_squared_error(y_test, y_pred)\n",
    "\n",
    "\n",
    "    out = Parallel(n_jobs=5, pre_dispatch='1.5*n_jobs', timeout=600)(delayed(train)(train_index, test_index) for train_index, test_index in kf.split(X_new, y))\n",
    "    rmse_on_feature_length[i] = np.mean(out)"
   ],
   "id": "2bad835ca87e952f",
   "outputs": [
    {
     "data": {
      "text/plain": [
       "  0%|          | 0/53 [00:00<?, ?it/s]"
      ],
      "application/vnd.jupyter.widget-view+json": {
       "version_major": 2,
       "version_minor": 0,
       "model_id": "6b98b47ba44149dc91dc62a1b16262b4"
      }
     },
     "metadata": {},
     "output_type": "display_data"
    }
   ],
   "execution_count": 5
  },
  {
   "metadata": {
    "ExecuteTime": {
     "end_time": "2024-11-12T17:46:48.972612Z",
     "start_time": "2024-11-12T17:46:48.784713Z"
    }
   },
   "cell_type": "code",
   "source": [
    "import matplotlib.pyplot as plt\n",
    "%matplotlib inline\n",
    "plt.plot(list(rmse_on_feature_length.keys()), list(rmse_on_feature_length.values()))\n",
    "plt.title('RMSE over number of top features')\n",
    "plt.xlabel('Number of top features')\n",
    "plt.ylabel('RMSE')\n",
    "plt.show()"
   ],
   "id": "46559a360ea3a3c8",
   "outputs": [
    {
     "data": {
      "text/plain": [
       "<Figure size 640x480 with 1 Axes>"
      ],
      "image/png": "[encoded data removed]"
     },
     "metadata": {},
     "output_type": "display_data"
    }
   ],
   "execution_count": 6
  },
  {
   "metadata": {
    "ExecuteTime": {
     "end_time": "2024-11-12T17:46:49.017608Z",
     "start_time": "2024-11-12T17:46:48.995631Z"
    }
   },
   "cell_type": "code",
   "source": [
    "# Find the key with the minimum value\n",
    "min_key = min(rmse_on_feature_length, key=rmse_on_feature_length.get)\n",
    "\n",
    "print(\"Index with the minimum value:\", min_key)\n",
    "print(\"Minimum value:\", rmse_on_feature_length[min_key])"
   ],
   "id": "b03c4386bb56528a",
   "outputs": [
    {
     "name": "stdout",
     "output_type": "stream",
     "text": [
      "Index with the minimum value: 53\n",
      "Minimum value: 1.7176946060787024\n"
     ]
    }
   ],
   "execution_count": 7
  }
 ],
 "metadata": {
  "kernelspec": {
   "display_name": "Python 3",
   "language": "python",
   "name": "python3"
  },
  "language_info": {
   "codemirror_mode": {
    "name": "ipython",
    "version": 2
   },
   "file_extension": ".py",
   "mimetype": "text/x-python",
   "name": "python",
   "nbconvert_exporter": "python",
   "pygments_lexer": "ipython2",
   "version": "2.7.6"
  }
 },
 "nbformat": 4,
 "nbformat_minor": 5
}
