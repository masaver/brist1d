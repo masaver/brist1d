{
 "cells": [
  {
   "metadata": {},
   "cell_type": "markdown",
   "source": "# Hyperparameter Tuning\n",
   "id": "c4f5fa4ffbc53369"
  },
  {
   "metadata": {
    "ExecuteTime": {
     "end_time": "2024-11-12T17:16:18.044737Z",
     "start_time": "2024-11-12T17:16:17.605846Z"
    }
   },
   "cell_type": "code",
   "source": [
    "# Importing the libraries\n",
    "import joblib\n",
    "import os\n",
    "import pandas as pd"
   ],
   "id": "a3b2d749037733c4",
   "outputs": [],
   "execution_count": 1
  },
  {
   "metadata": {
    "ExecuteTime": {
     "end_time": "2024-11-12T17:16:35.809501Z",
     "start_time": "2024-11-12T17:16:18.062147Z"
    }
   },
   "cell_type": "code",
   "source": [
    "# Load and preprocess the train data \n",
    "from pipelines import pipeline\n",
    "\n",
    "data_file = os.path.join('..', '..', '..', '..', 'data', 'raw', 'train.csv')\n",
    "train_data = pd.read_csv(data_file, index_col=0, low_memory=False)\n",
    "train_data = pipeline.fit_transform(train_data)\n",
    "train_data.head()"
   ],
   "id": "ae6dcbcc06aedbe6",
   "outputs": [
    {
     "data": {
      "text/plain": [
       "        bg-5:45   bg-5:30   bg-5:15   bg-5:00   bg-4:45   bg-4:30   bg-4:15  \\\n",
       "id                                                                            \n",
       "p01_0  0.439216  0.473156  0.307235  0.141038  0.041261 -0.058612  0.008324   \n",
       "p01_1  0.472507  0.306632  0.140630  0.041022 -0.058807  0.008132  0.442328   \n",
       "p01_2  0.306055  0.140108  0.040667 -0.058994  0.007905  0.441971  0.943101   \n",
       "p01_3  0.139603  0.040194 -0.059296  0.007683  0.441533  0.942555  1.176795   \n",
       "p01_4  0.039731 -0.059721  0.007346  0.441087  0.941873  1.176161  1.510643   \n",
       "\n",
       "        bg-4:00   bg-3:45   bg-3:30  ...  insulin-0:45  insulin-0:30  \\\n",
       "id                                   ...                               \n",
       "p01_0  0.442543  0.943554  1.177314  ...     -0.240810     -0.240906   \n",
       "p01_1  0.943434  1.177342  1.511323  ...     -0.240810     -0.250527   \n",
       "p01_2  1.177183  1.511325  1.878732  ...     -0.250422     -0.269768   \n",
       "p01_3  1.511110  1.878706  1.978935  ...     -0.269645     -0.269768   \n",
       "p01_4  1.878430  1.978901  1.978935  ...     -0.269645     -0.269768   \n",
       "\n",
       "       insulin-0:15  insulin-0:00  bg+1:00  day_phase_evening  \\\n",
       "id                                                              \n",
       "p01_0     -0.250752     -0.156803     13.4                  0   \n",
       "p01_1     -0.269992     -0.156803     12.8                  0   \n",
       "p01_2     -0.269992     -0.156803     15.5                  0   \n",
       "p01_3     -0.269992     -0.156803     14.8                  0   \n",
       "p01_4     -0.269992     -0.156803     12.7                  0   \n",
       "\n",
       "       day_phase_late_evening  day_phase_morning  day_phase_night  \\\n",
       "id                                                                  \n",
       "p01_0                       0                  1                0   \n",
       "p01_1                       0                  1                0   \n",
       "p01_2                       0                  1                0   \n",
       "p01_3                       0                  1                0   \n",
       "p01_4                       0                  1                0   \n",
       "\n",
       "       day_phase_noon  \n",
       "id                     \n",
       "p01_0               0  \n",
       "p01_1               0  \n",
       "p01_2               0  \n",
       "p01_3               0  \n",
       "p01_4               0  \n",
       "\n",
       "[5 rows x 54 columns]"
      ],
      "text/html": [
       "<div>\n",
       "<style scoped>\n",
       "    .dataframe tbody tr th:only-of-type {\n",
       "        vertical-align: middle;\n",
       "    }\n",
       "\n",
       "    .dataframe tbody tr th {\n",
       "        vertical-align: top;\n",
       "    }\n",
       "\n",
       "    .dataframe thead th {\n",
       "        text-align: right;\n",
       "    }\n",
       "</style>\n",
       "<table border=\"1\" class=\"dataframe\">\n",
       "  <thead>\n",
       "    <tr style=\"text-align: right;\">\n",
       "      <th></th>\n",
       "      <th>bg-5:45</th>\n",
       "      <th>bg-5:30</th>\n",
       "      <th>bg-5:15</th>\n",
       "      <th>bg-5:00</th>\n",
       "      <th>bg-4:45</th>\n",
       "      <th>bg-4:30</th>\n",
       "      <th>bg-4:15</th>\n",
       "      <th>bg-4:00</th>\n",
       "      <th>bg-3:45</th>\n",
       "      <th>bg-3:30</th>\n",
       "      <th>...</th>\n",
       "      <th>insulin-0:45</th>\n",
       "      <th>insulin-0:30</th>\n",
       "      <th>insulin-0:15</th>\n",
       "      <th>insulin-0:00</th>\n",
       "      <th>bg+1:00</th>\n",
       "      <th>day_phase_evening</th>\n",
       "      <th>day_phase_late_evening</th>\n",
       "      <th>day_phase_morning</th>\n",
       "      <th>day_phase_night</th>\n",
       "      <th>day_phase_noon</th>\n",
       "    </tr>\n",
       "    <tr>\n",
       "      <th>id</th>\n",
       "      <th></th>\n",
       "      <th></th>\n",
       "      <th></th>\n",
       "      <th></th>\n",
       "      <th></th>\n",
       "      <th></th>\n",
       "      <th></th>\n",
       "      <th></th>\n",
       "      <th></th>\n",
       "      <th></th>\n",
       "      <th></th>\n",
       "      <th></th>\n",
       "      <th></th>\n",
       "      <th></th>\n",
       "      <th></th>\n",
       "      <th></th>\n",
       "      <th></th>\n",
       "      <th></th>\n",
       "      <th></th>\n",
       "      <th></th>\n",
       "      <th></th>\n",
       "    </tr>\n",
       "  </thead>\n",
       "  <tbody>\n",
       "    <tr>\n",
       "      <th>p01_0</th>\n",
       "      <td>0.439216</td>\n",
       "      <td>0.473156</td>\n",
       "      <td>0.307235</td>\n",
       "      <td>0.141038</td>\n",
       "      <td>0.041261</td>\n",
       "      <td>-0.058612</td>\n",
       "      <td>0.008324</td>\n",
       "      <td>0.442543</td>\n",
       "      <td>0.943554</td>\n",
       "      <td>1.177314</td>\n",
       "      <td>...</td>\n",
       "      <td>-0.240810</td>\n",
       "      <td>-0.240906</td>\n",
       "      <td>-0.250752</td>\n",
       "      <td>-0.156803</td>\n",
       "      <td>13.4</td>\n",
       "      <td>0</td>\n",
       "      <td>0</td>\n",
       "      <td>1</td>\n",
       "      <td>0</td>\n",
       "      <td>0</td>\n",
       "    </tr>\n",
       "    <tr>\n",
       "      <th>p01_1</th>\n",
       "      <td>0.472507</td>\n",
       "      <td>0.306632</td>\n",
       "      <td>0.140630</td>\n",
       "      <td>0.041022</td>\n",
       "      <td>-0.058807</td>\n",
       "      <td>0.008132</td>\n",
       "      <td>0.442328</td>\n",
       "      <td>0.943434</td>\n",
       "      <td>1.177342</td>\n",
       "      <td>1.511323</td>\n",
       "      <td>...</td>\n",
       "      <td>-0.240810</td>\n",
       "      <td>-0.250527</td>\n",
       "      <td>-0.269992</td>\n",
       "      <td>-0.156803</td>\n",
       "      <td>12.8</td>\n",
       "      <td>0</td>\n",
       "      <td>0</td>\n",
       "      <td>1</td>\n",
       "      <td>0</td>\n",
       "      <td>0</td>\n",
       "    </tr>\n",
       "    <tr>\n",
       "      <th>p01_2</th>\n",
       "      <td>0.306055</td>\n",
       "      <td>0.140108</td>\n",
       "      <td>0.040667</td>\n",
       "      <td>-0.058994</td>\n",
       "      <td>0.007905</td>\n",
       "      <td>0.441971</td>\n",
       "      <td>0.943101</td>\n",
       "      <td>1.177183</td>\n",
       "      <td>1.511325</td>\n",
       "      <td>1.878732</td>\n",
       "      <td>...</td>\n",
       "      <td>-0.250422</td>\n",
       "      <td>-0.269768</td>\n",
       "      <td>-0.269992</td>\n",
       "      <td>-0.156803</td>\n",
       "      <td>15.5</td>\n",
       "      <td>0</td>\n",
       "      <td>0</td>\n",
       "      <td>1</td>\n",
       "      <td>0</td>\n",
       "      <td>0</td>\n",
       "    </tr>\n",
       "    <tr>\n",
       "      <th>p01_3</th>\n",
       "      <td>0.139603</td>\n",
       "      <td>0.040194</td>\n",
       "      <td>-0.059296</td>\n",
       "      <td>0.007683</td>\n",
       "      <td>0.441533</td>\n",
       "      <td>0.942555</td>\n",
       "      <td>1.176795</td>\n",
       "      <td>1.511110</td>\n",
       "      <td>1.878706</td>\n",
       "      <td>1.978935</td>\n",
       "      <td>...</td>\n",
       "      <td>-0.269645</td>\n",
       "      <td>-0.269768</td>\n",
       "      <td>-0.269992</td>\n",
       "      <td>-0.156803</td>\n",
       "      <td>14.8</td>\n",
       "      <td>0</td>\n",
       "      <td>0</td>\n",
       "      <td>1</td>\n",
       "      <td>0</td>\n",
       "      <td>0</td>\n",
       "    </tr>\n",
       "    <tr>\n",
       "      <th>p01_4</th>\n",
       "      <td>0.039731</td>\n",
       "      <td>-0.059721</td>\n",
       "      <td>0.007346</td>\n",
       "      <td>0.441087</td>\n",
       "      <td>0.941873</td>\n",
       "      <td>1.176161</td>\n",
       "      <td>1.510643</td>\n",
       "      <td>1.878430</td>\n",
       "      <td>1.978901</td>\n",
       "      <td>1.978935</td>\n",
       "      <td>...</td>\n",
       "      <td>-0.269645</td>\n",
       "      <td>-0.269768</td>\n",
       "      <td>-0.269992</td>\n",
       "      <td>-0.156803</td>\n",
       "      <td>12.7</td>\n",
       "      <td>0</td>\n",
       "      <td>0</td>\n",
       "      <td>1</td>\n",
       "      <td>0</td>\n",
       "      <td>0</td>\n",
       "    </tr>\n",
       "  </tbody>\n",
       "</table>\n",
       "<p>5 rows × 54 columns</p>\n",
       "</div>"
      ]
     },
     "execution_count": 2,
     "metadata": {},
     "output_type": "execute_result"
    }
   ],
   "execution_count": 2
  },
  {
   "metadata": {
    "ExecuteTime": {
     "end_time": "2024-11-12T17:16:36.186696Z",
     "start_time": "2024-11-12T17:16:36.159656Z"
    }
   },
   "cell_type": "code",
   "source": [
    "X = train_data.drop(columns=['bg+1:00'])\n",
    "y = train_data['bg+1:00']"
   ],
   "id": "19940f9e6309dca",
   "outputs": [],
   "execution_count": 3
  },
  {
   "metadata": {},
   "cell_type": "markdown",
   "source": "### Define a tuning function",
   "id": "5e3f726f2eac2520"
  },
  {
   "metadata": {
    "ExecuteTime": {
     "end_time": "2024-11-12T17:16:36.279757Z",
     "start_time": "2024-11-12T17:16:36.266687Z"
    }
   },
   "cell_type": "code",
   "source": [
    "def tune(tuner, X, y):\n",
    "    print(f'-----------{tuner.__name__}-----------')\n",
    "    print('Calculating best hyperparameters...')\n",
    "    tuner.fit(X=X, y=y)\n",
    "    print('Best hyperparameters found.')\n",
    "    display(tuner.get_params())\n",
    "    print(f'RMSE: {tuner.get_rmse()}')\n",
    "    tuner.show_chart()\n",
    "    joblib.dump(tuner.get_best_model(), f'{tuner.__name__}.model.pkl')"
   ],
   "id": "30fc0d3c7f5ede2a",
   "outputs": [],
   "execution_count": 4
  },
  {
   "metadata": {},
   "cell_type": "markdown",
   "source": "### Tune ExtraTrees",
   "id": "6558596fe2d5fe65"
  },
  {
   "metadata": {
    "ExecuteTime": {
     "end_time": "2024-11-12T19:55:45.372949Z",
     "start_time": "2024-11-12T17:16:36.426179Z"
    }
   },
   "cell_type": "code",
   "source": [
    "from src.features.tuners import BaggingHyperparameterTuner\n",
    "\n",
    "tune(BaggingHyperparameterTuner(search_space='default'), X, y)"
   ],
   "id": "f8ac8730c40c9fe3",
   "outputs": [
    {
     "name": "stdout",
     "output_type": "stream",
     "text": [
      "-----------BaggingRegressor-----------\n",
      "Calculating best hyperparameters...\n"
     ]
    },
    {
     "name": "stderr",
     "output_type": "stream",
     "text": [
      "/Users/ralf/Projects/learning-projects/datascience-bootcamp/sep24_bds_int_medical/.venv/lib/python3.12/site-packages/skopt/optimizer/optimizer.py:449: UserWarning: The objective has been evaluated at this point before.\n",
      "  warnings.warn(\"The objective has been evaluated \"\n",
      "/Users/ralf/Projects/learning-projects/datascience-bootcamp/sep24_bds_int_medical/.venv/lib/python3.12/site-packages/skopt/optimizer/optimizer.py:449: UserWarning: The objective has been evaluated at this point before.\n",
      "  warnings.warn(\"The objective has been evaluated \"\n",
      "/Users/ralf/Projects/learning-projects/datascience-bootcamp/sep24_bds_int_medical/.venv/lib/python3.12/site-packages/skopt/optimizer/optimizer.py:449: UserWarning: The objective has been evaluated at this point before.\n",
      "  warnings.warn(\"The objective has been evaluated \"\n",
      "/Users/ralf/Projects/learning-projects/datascience-bootcamp/sep24_bds_int_medical/.venv/lib/python3.12/site-packages/skopt/optimizer/optimizer.py:449: UserWarning: The objective has been evaluated at this point before.\n",
      "  warnings.warn(\"The objective has been evaluated \"\n",
      "/Users/ralf/Projects/learning-projects/datascience-bootcamp/sep24_bds_int_medical/.venv/lib/python3.12/site-packages/skopt/optimizer/optimizer.py:449: UserWarning: The objective has been evaluated at this point before.\n",
      "  warnings.warn(\"The objective has been evaluated \"\n",
      "/Users/ralf/Projects/learning-projects/datascience-bootcamp/sep24_bds_int_medical/.venv/lib/python3.12/site-packages/skopt/optimizer/optimizer.py:449: UserWarning: The objective has been evaluated at this point before.\n",
      "  warnings.warn(\"The objective has been evaluated \"\n"
     ]
    },
    {
     "name": "stdout",
     "output_type": "stream",
     "text": [
      "Best hyperparameters found.\n"
     ]
    },
    {
     "data": {
      "text/plain": [
       "OrderedDict([('max_features', 1.0),\n",
       "             ('max_samples', 0.5),\n",
       "             ('n_estimators', 100)])"
      ]
     },
     "metadata": {},
     "output_type": "display_data"
    },
    {
     "name": "stdout",
     "output_type": "stream",
     "text": [
      "RMSE: 1.010815186880862\n"
     ]
    },
    {
     "data": {
      "text/plain": [
       "<Figure size 800x400 with 2 Axes>"
      ],
      "image/png": "[encoded data removed]"
     },
     "metadata": {},
     "output_type": "display_data"
    }
   ],
   "execution_count": 5
  }
 ],
 "metadata": {
  "kernelspec": {
   "display_name": "Python 3",
   "language": "python",
   "name": "python3"
  },
  "language_info": {
   "codemirror_mode": {
    "name": "ipython",
    "version": 2
   },
   "file_extension": ".py",
   "mimetype": "text/x-python",
   "name": "python",
   "nbconvert_exporter": "python",
   "pygments_lexer": "ipython2",
   "version": "2.7.6"
  }
 },
 "nbformat": 4,
 "nbformat_minor": 5
}
