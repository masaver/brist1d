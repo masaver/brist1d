{
 "cells": [
  {
   "metadata": {},
   "cell_type": "markdown",
   "source": "# Model Shapping",
   "id": "c4f5fa4ffbc53369"
  },
  {
   "metadata": {
    "ExecuteTime": {
     "end_time": "2024-11-12T13:09:23.436514Z",
     "start_time": "2024-11-12T13:09:23.074616Z"
    }
   },
   "cell_type": "code",
   "source": [
    "# Importing the libraries\n",
    "import os\n",
    "import pandas as pd"
   ],
   "id": "a3b2d749037733c4",
   "outputs": [],
   "execution_count": 1
  },
  {
   "metadata": {},
   "cell_type": "markdown",
   "source": "## Load data",
   "id": "82159de3bfdd45bc"
  },
  {
   "metadata": {
    "ExecuteTime": {
     "end_time": "2024-11-12T13:09:35.748159Z",
     "start_time": "2024-11-12T13:09:23.455904Z"
    }
   },
   "cell_type": "code",
   "source": [
    "# Load and preprocess the train data \n",
    "from pipelines import pipeline\n",
    "\n",
    "data_file = os.path.join('..', '..', '..', '..', 'data', 'raw', 'train.csv')\n",
    "train_data = pd.read_csv(data_file, index_col=0, low_memory=False)\n",
    "train_data = pipeline.fit_transform(train_data)\n",
    "\n",
    "X = train_data.drop(columns=['bg+1:00'])\n",
    "y = train_data['bg+1:00']"
   ],
   "id": "2f7ab421d5ccf55c",
   "outputs": [],
   "execution_count": 2
  },
  {
   "metadata": {},
   "cell_type": "markdown",
   "source": "## Train model with the whole dataset",
   "id": "ae607343fe6864fc"
  },
  {
   "metadata": {
    "ExecuteTime": {
     "end_time": "2024-11-12T13:12:12.446720Z",
     "start_time": "2024-11-12T13:09:35.836363Z"
    }
   },
   "cell_type": "code",
   "source": [
    "from src.features.tuners import ExtraTreesHyperparameterTuner\n",
    "from sklearn.metrics import root_mean_squared_error\n",
    "\n",
    "tuner = ExtraTreesHyperparameterTuner()\n",
    "model = tuner.regressor()\n",
    "model.fit(X=X, y=y)\n",
    "\n",
    "root_mean_squared_error(y_true=y, y_pred=model.predict(X=X))"
   ],
   "id": "5ce6c963f1b6bc12",
   "outputs": [
    {
     "data": {
      "text/plain": [
       "np.float64(0.013876380243331033)"
      ]
     },
     "execution_count": 3,
     "metadata": {},
     "output_type": "execute_result"
    }
   ],
   "execution_count": 3
  },
  {
   "metadata": {},
   "cell_type": "markdown",
   "source": "## Feature importances",
   "id": "6862ce924b8a4c47"
  },
  {
   "metadata": {
    "ExecuteTime": {
     "end_time": "2024-11-12T13:12:12.718631Z",
     "start_time": "2024-11-12T13:12:12.538151Z"
    }
   },
   "cell_type": "code",
   "source": [
    "top_feature_importances = pd.Series(model.feature_importances_, index=model.feature_names_in_).sort_values(ascending=False)\n",
    "top_feature_importances"
   ],
   "id": "2752557cabc384f5",
   "outputs": [
    {
     "data": {
      "text/plain": [
       "bg-0:00                   0.331339\n",
       "bg-0:15                   0.125530\n",
       "bg-0:30                   0.052363\n",
       "bg-0:45                   0.037346\n",
       "bg-1:00                   0.018573\n",
       "bg-1:15                   0.016930\n",
       "insulin-0:15              0.012774\n",
       "bg-5:45                   0.012349\n",
       "insulin-0:30              0.012067\n",
       "bg-1:30                   0.011157\n",
       "insulin-0:45              0.011034\n",
       "bg-5:30                   0.010542\n",
       "bg-2:00                   0.010242\n",
       "bg-5:15                   0.010001\n",
       "bg-1:45                   0.009957\n",
       "insulin-1:00              0.009866\n",
       "bg-2:15                   0.009708\n",
       "bg-5:00                   0.009675\n",
       "insulin-1:15              0.009374\n",
       "bg-4:45                   0.009353\n",
       "bg-2:30                   0.009320\n",
       "bg-3:00                   0.009302\n",
       "bg-3:15                   0.009229\n",
       "bg-2:45                   0.009200\n",
       "bg-4:30                   0.009109\n",
       "bg-3:30                   0.009084\n",
       "bg-4:15                   0.009058\n",
       "insulin-1:30              0.009052\n",
       "bg-4:00                   0.008988\n",
       "bg-3:45                   0.008902\n",
       "insulin-1:45              0.008838\n",
       "insulin-2:15              0.008782\n",
       "insulin-2:30              0.008756\n",
       "insulin-2:00              0.008727\n",
       "insulin-0:00              0.008630\n",
       "day_phase_night           0.008447\n",
       "insulin-2:45              0.008344\n",
       "insulin-3:00              0.008252\n",
       "insulin-3:15              0.008247\n",
       "insulin-3:45              0.008187\n",
       "insulin-3:30              0.008020\n",
       "insulin-4:00              0.007995\n",
       "insulin-4:30              0.007942\n",
       "insulin-5:00              0.007847\n",
       "insulin-5:45              0.007782\n",
       "insulin-5:30              0.007773\n",
       "insulin-4:15              0.007764\n",
       "insulin-4:45              0.007713\n",
       "insulin-5:15              0.007556\n",
       "day_phase_noon            0.006826\n",
       "day_phase_evening         0.006447\n",
       "day_phase_morning         0.004982\n",
       "day_phase_late_evening    0.004720\n",
       "dtype: float64"
      ]
     },
     "execution_count": 4,
     "metadata": {},
     "output_type": "execute_result"
    }
   ],
   "execution_count": 4
  },
  {
   "metadata": {
    "ExecuteTime": {
     "end_time": "2024-11-12T14:27:05.283512Z",
     "start_time": "2024-11-12T13:12:12.861509Z"
    }
   },
   "cell_type": "code",
   "source": [
    "from joblib import Parallel, delayed\n",
    "from sklearn.model_selection import KFold\n",
    "from tqdm.notebook import tqdm\n",
    "import numpy as np\n",
    "\n",
    "rmse_on_feature_length = {}\n",
    "\n",
    "for i in tqdm(range(len(top_feature_importances), 0, -1)):\n",
    "    X_new = X[top_feature_importances.index[:i]]\n",
    "    model = tuner.regressor()\n",
    "    kf = KFold(n_splits=5, shuffle=True, random_state=42)\n",
    "\n",
    "\n",
    "    def train(train_index, test_index):\n",
    "        X_train, X_test = X_new.iloc[train_index], X_new.iloc[test_index]\n",
    "        y_train, y_test = y.iloc[train_index], y.iloc[test_index]\n",
    "        model.fit(X_train, y_train)\n",
    "\n",
    "        y_pred = model.predict(X_test)\n",
    "        return root_mean_squared_error(y_test, y_pred)\n",
    "\n",
    "\n",
    "    out = Parallel(n_jobs=5, pre_dispatch='1.5*n_jobs', timeout=600)(delayed(train)(train_index, test_index) for train_index, test_index in kf.split(X_new, y))\n",
    "    rmse_on_feature_length[i] = np.mean(out)"
   ],
   "id": "2bad835ca87e952f",
   "outputs": [
    {
     "data": {
      "text/plain": [
       "  0%|          | 0/53 [00:00<?, ?it/s]"
      ],
      "application/vnd.jupyter.widget-view+json": {
       "version_major": 2,
       "version_minor": 0,
       "model_id": "563f4da0ff80477eacf21a81b18b6cce"
      }
     },
     "metadata": {},
     "output_type": "display_data"
    }
   ],
   "execution_count": 5
  },
  {
   "metadata": {
    "ExecuteTime": {
     "end_time": "2024-11-12T16:08:21.406147Z",
     "start_time": "2024-11-12T16:08:21.328051Z"
    }
   },
   "cell_type": "code",
   "source": [
    "import matplotlib.pyplot as plt\n",
    "%matplotlib inline\n",
    "plt.plot(list(rmse_on_feature_length.keys()), list(rmse_on_feature_length.values()))\n",
    "plt.title('RMSE over number of top features')\n",
    "plt.xlabel('Number of top features')\n",
    "plt.ylabel('RMSE')\n",
    "plt.show()"
   ],
   "id": "46559a360ea3a3c8",
   "outputs": [
    {
     "data": {
      "text/plain": [
       "<Figure size 640x480 with 1 Axes>"
      ],
      "image/png": "[encoded data removed]"
     },
     "metadata": {},
     "output_type": "display_data"
    }
   ],
   "execution_count": 16
  },
  {
   "metadata": {
    "ExecuteTime": {
     "end_time": "2024-11-12T16:08:22.317586Z",
     "start_time": "2024-11-12T16:08:22.313822Z"
    }
   },
   "cell_type": "code",
   "source": [
    "# Find the key with the minimum value\n",
    "min_key = min(rmse_on_feature_length, key=rmse_on_feature_length.get)\n",
    "\n",
    "print(\"Index with the minimum value:\", min_key)\n",
    "print(\"Minimum value:\", rmse_on_feature_length[min_key])"
   ],
   "id": "b03c4386bb56528a",
   "outputs": [
    {
     "name": "stdout",
     "output_type": "stream",
     "text": [
      "Index with the minimum value: 53\n",
      "Minimum value: 1.5226236873708987\n"
     ]
    }
   ],
   "execution_count": 17
  }
 ],
 "metadata": {
  "kernelspec": {
   "display_name": "Python 3",
   "language": "python",
   "name": "python3"
  },
  "language_info": {
   "codemirror_mode": {
    "name": "ipython",
    "version": 2
   },
   "file_extension": ".py",
   "mimetype": "text/x-python",
   "name": "python",
   "nbconvert_exporter": "python",
   "pygments_lexer": "ipython2",
   "version": "2.7.6"
  }
 },
 "nbformat": 4,
 "nbformat_minor": 5
}
