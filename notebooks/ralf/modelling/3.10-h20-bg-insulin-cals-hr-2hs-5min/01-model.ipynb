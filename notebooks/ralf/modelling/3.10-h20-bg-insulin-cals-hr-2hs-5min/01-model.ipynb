{
 "cells": [
  {
   "cell_type": "code",
   "id": "initial_id",
   "metadata": {
    "collapsed": true
   },
   "source": [
    "import h2o\n",
    "from h2o.automl import H2OAutoML\n",
    "\n",
    "h2o.init(max_mem_size='12G')\n",
    "print(h2o.__version__)"
   ],
   "outputs": [],
   "execution_count": null
  },
  {
   "metadata": {},
   "cell_type": "code",
   "source": [
    "%%time\n",
    "\n",
    "import warnings\n",
    "warnings.filterwarnings('ignore')"
   ],
   "id": "48d22a5aa2024b55",
   "outputs": [],
   "execution_count": null
  },
  {
   "metadata": {},
   "cell_type": "code",
   "source": [
    "%%time\n",
    "\n",
    "import os\n",
    "import pandas as pd\n",
    "from pipelines import preprocessing_pipeline\n",
    "\n",
    "train_data_file = os.path.join('..', '..', '..', '..', 'data', 'raw', 'train.csv')\n",
    "train_df = pd.read_csv(train_data_file, index_col=0, low_memory=False)\n",
    "train_df = preprocessing_pipeline.fit_transform(train_df)\n",
    "train_h2o = h2o.H2OFrame(train_df)\n",
    "train_h2o.head()"
   ],
   "id": "7acead0fa4b0502f",
   "outputs": [],
   "execution_count": null
  },
  {
   "metadata": {},
   "cell_type": "code",
   "source": [
    "%%time\n",
    "test_data_file = os.path.join('..', '..', '..', '..', 'data', 'raw', 'test.csv')\n",
    "test_df = pd.read_csv(test_data_file, index_col=0, low_memory=False)\n",
    "test_df = preprocessing_pipeline.transform(test_df)\n",
    "test_h2o = h2o.H2OFrame(test_df)\n",
    "test_h2o.head()"
   ],
   "id": "dd1eda9aa29def2e",
   "outputs": [],
   "execution_count": null
  },
  {
   "metadata": {},
   "cell_type": "code",
   "source": [
    "%%time\n",
    "\n",
    "y = 'bg+1:00'\n",
    "x = [col for col in train_h2o.columns if col != y]\n",
    "print(x)\n",
    "print(y)"
   ],
   "id": "f1be70186f05bfb0",
   "outputs": [],
   "execution_count": null
  },
  {
   "metadata": {},
   "cell_type": "code",
   "source": [
    "%%time\n",
    "\n",
    "aml = H2OAutoML(max_models=500, seed=1000, max_runtime_secs=3600)\n",
    "aml.train(x=x, y=y, training_frame=train_h2o)"
   ],
   "id": "e3011c917085364d",
   "outputs": [],
   "execution_count": null
  },
  {
   "metadata": {},
   "cell_type": "code",
   "source": [
    "%%time\n",
    "\n",
    "# View the AutoML Leaderboard\n",
    "lb = aml.leaderboard\n",
    "lb.head(rows=lb.nrows)"
   ],
   "id": "a41349f8a0a6622",
   "outputs": [],
   "execution_count": null
  },
  {
   "metadata": {},
   "cell_type": "code",
   "source": [
    "%%time\n",
    "test_file = os.path.join('..', '..', '..', '..', 'data', 'raw', 'test.csv')\n",
    "test_data = h2o.import_file(test_file)\n",
    "\n",
    "y_pred = aml.predict(test_data=test_data)"
   ],
   "id": "17e2ead20f3160e3",
   "outputs": [],
   "execution_count": null
  },
  {
   "metadata": {},
   "cell_type": "code",
   "source": [
    "import pandas as pd\n",
    "\n",
    "sample_submission = pd.read_csv(os.path.join('..', '..', '..', '..', 'data', 'raw', 'sample_submission.csv'), index_col=0)\n",
    "\n",
    "sample_submission['bg+1:00'] = y_pred.as_data_frame().values\n",
    "sample_submission.to_csv(f'submission-{os.path.basename(os.getcwd())}.csv')\n"
   ],
   "id": "e92f31c8e4020e8c",
   "outputs": [],
   "execution_count": null
  },
  {
   "metadata": {},
   "cell_type": "code",
   "source": [
    "from sklearn.metrics import root_mean_squared_error, r2_score, PredictionErrorDisplay\n",
    "import matplotlib.pyplot as plt\n",
    "\n",
    "y_train = train_h2o[y].as_data_frame().values\n",
    "y_pred = aml.leader.predict(train_h2o).as_data_frame().values\n",
    "\n",
    "print(f'RMSE: {root_mean_squared_error(y_true=y_train, y_pred=y_pred)}')\n",
    "print(f'R2: {r2_score(y_true=y_train, y_pred=y_pred)}')\n",
    "\n",
    "fig, axs = plt.subplots(ncols=2, figsize=(8, 4))\n",
    "PredictionErrorDisplay.from_predictions(\n",
    "    y_true=y_train,\n",
    "    y_pred=y_pred,\n",
    "    kind=\"actual_vs_predicted\",\n",
    "    subsample=100,\n",
    "    ax=axs[0],\n",
    "    random_state=0,\n",
    ")\n",
    "axs[0].set_title(\"Actual vs. Predicted values\")\n",
    "PredictionErrorDisplay.from_predictions(\n",
    "    y_true=y_train,\n",
    "    y_pred=y_pred,\n",
    "    kind=\"residual_vs_predicted\",\n",
    "    subsample=100,\n",
    "    ax=axs[1],\n",
    "    random_state=0,\n",
    ")\n",
    "axs[1].set_title(\"Residuals vs. Predicted Values\")\n",
    "fig.suptitle(\"Plotting cross-validated predictions\")\n",
    "plt.tight_layout()\n",
    "plt.show();"
   ],
   "id": "9913474211a56783",
   "outputs": [],
   "execution_count": null
  },
  {
   "metadata": {},
   "cell_type": "code",
   "source": "",
   "id": "ea9949abbae578a8",
   "outputs": [],
   "execution_count": null
  }
 ],
 "metadata": {
  "kernelspec": {
   "display_name": "Python 3",
   "language": "python",
   "name": "python3"
  },
  "language_info": {
   "codemirror_mode": {
    "name": "ipython",
    "version": 2
   },
   "file_extension": ".py",
   "mimetype": "text/x-python",
   "name": "python",
   "nbconvert_exporter": "python",
   "pygments_lexer": "ipython2",
   "version": "2.7.6"
  }
 },
 "nbformat": 4,
 "nbformat_minor": 5
}
