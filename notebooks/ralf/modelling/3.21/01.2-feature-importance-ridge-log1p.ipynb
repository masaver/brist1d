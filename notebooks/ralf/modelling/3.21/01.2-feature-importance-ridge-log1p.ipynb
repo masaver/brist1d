{
 "cells": [
  {
   "metadata": {},
   "cell_type": "markdown",
   "source": [
    "# Modelling BG\n",
    "\n",
    "## Model Shapping"
   ],
   "id": "c4f5fa4ffbc53369"
  },
  {
   "metadata": {
    "ExecuteTime": {
     "end_time": "2024-11-19T10:11:20.714233Z",
     "start_time": "2024-11-19T10:10:55.109429Z"
    }
   },
   "cell_type": "code",
   "source": [
    "import numpy as np\n",
    "import os\n",
    "import pandas as pd\n",
    "from pipelines import pipeline\n",
    "\n",
    "train_data_file = os.path.join('..', '..', '..', '..', 'data', 'raw', 'train.csv')\n",
    "train_data = pd.read_csv(train_data_file, index_col=0, low_memory=False)\n",
    "additional_data_file = os.path.join('..', '..', '..', '..', 'data', 'interim', 'all_test_5h.csv')\n",
    "additional_data = pd.read_csv(additional_data_file, low_memory=False)\n",
    "\n",
    "# merge train and additional data\n",
    "train_data = pd.concat([train_data, additional_data], axis=0)\n",
    "\n",
    "# read validation data\n",
    "validation_data_file = os.path.join('..', '..', '..', '..', 'data', 'interim', 'all_test_3h.csv')\n",
    "validation_data = pd.read_csv(validation_data_file, low_memory=False)\n",
    "\n",
    "# do not train with patients that are not have to be predicted\n",
    "unique_patients = validation_data['p_num'].unique()\n",
    "train_data = train_data[train_data['p_num'].isin(unique_patients)]\n",
    "\n",
    "train_data_processed = pipeline.fit_transform(train_data)\n",
    "validation_data_processed = pipeline.transform(validation_data)"
   ],
   "id": "a3b2d749037733c4",
   "outputs": [],
   "execution_count": 1
  },
  {
   "metadata": {},
   "cell_type": "markdown",
   "source": "## Feature importance Ridge",
   "id": "e9579bae3286aa0a"
  },
  {
   "metadata": {
    "ExecuteTime": {
     "end_time": "2024-11-19T10:13:00.573057Z",
     "start_time": "2024-11-19T10:11:20.717596Z"
    }
   },
   "cell_type": "code",
   "source": [
    "# Load and preprocess the train data \n",
    "from src.features.tuners import RidgeHyperparameterTuner\n",
    "from sklearn.metrics import root_mean_squared_error\n",
    "\n",
    "train_and_validation_data = pd.concat([train_data_processed, validation_data_processed])\n",
    "\n",
    "X = train_and_validation_data.drop(columns=['bg+1:00'])\n",
    "y = train_and_validation_data['bg+1:00']\n",
    "\n",
    "tuner = RidgeHyperparameterTuner()\n",
    "tuner.fit(X, y)\n",
    "model = tuner.get_best_model()\n",
    "\n",
    "y_log = np.log1p(y)\n",
    "model.fit(X=X, y=y_log)\n",
    "\n",
    "y_pred_log = model.predict(X=X)\n",
    "y_pred = np.expm1(y_pred_log)\n",
    "\n",
    "root_mean_squared_error(y_true=y, y_pred=y_pred)\n",
    "\n",
    "feature_importance = pd.DataFrame({\n",
    "    'Feature': X.columns,\n",
    "    'Importance': np.abs(model.coef_)\n",
    "}).sort_values(by='Importance', ascending=False)\n",
    "\n",
    "feature_importance"
   ],
   "id": "183cc48c0aa5363a",
   "outputs": [
    {
     "name": "stderr",
     "output_type": "stream",
     "text": [
      "/Users/ralf/Projects/learning-projects/datascience-bootcamp/sep24_bds_int_medical/.venv/lib/python3.12/site-packages/skopt/optimizer/optimizer.py:449: UserWarning: The objective has been evaluated at this point before.\n",
      "  warnings.warn(\"The objective has been evaluated \"\n",
      "/Users/ralf/Projects/learning-projects/datascience-bootcamp/sep24_bds_int_medical/.venv/lib/python3.12/site-packages/skopt/optimizer/optimizer.py:449: UserWarning: The objective has been evaluated at this point before.\n",
      "  warnings.warn(\"The objective has been evaluated \"\n"
     ]
    },
    {
     "data": {
      "text/plain": [
       "          Feature    Importance\n",
       "36        bg-0:00  5.598878e-01\n",
       "35        bg-0:05  2.736617e-01\n",
       "219     p_num_p21  8.762409e-02\n",
       "213     p_num_p11  6.520646e-02\n",
       "208     p_num_p02  5.896405e-02\n",
       "..            ...           ...\n",
       "40   insulin-2:45  2.239326e-05\n",
       "13        bg-1:55  9.344047e-06\n",
       "182     cals-0:10  7.659154e-06\n",
       "81        hr-2:25  5.632777e-06\n",
       "56   insulin-1:25  5.384282e-07\n",
       "\n",
       "[222 rows x 2 columns]"
      ],
      "text/html": [
       "<div>\n",
       "<style scoped>\n",
       "    .dataframe tbody tr th:only-of-type {\n",
       "        vertical-align: middle;\n",
       "    }\n",
       "\n",
       "    .dataframe tbody tr th {\n",
       "        vertical-align: top;\n",
       "    }\n",
       "\n",
       "    .dataframe thead th {\n",
       "        text-align: right;\n",
       "    }\n",
       "</style>\n",
       "<table border=\"1\" class=\"dataframe\">\n",
       "  <thead>\n",
       "    <tr style=\"text-align: right;\">\n",
       "      <th></th>\n",
       "      <th>Feature</th>\n",
       "      <th>Importance</th>\n",
       "    </tr>\n",
       "  </thead>\n",
       "  <tbody>\n",
       "    <tr>\n",
       "      <th>36</th>\n",
       "      <td>bg-0:00</td>\n",
       "      <td>5.598878e-01</td>\n",
       "    </tr>\n",
       "    <tr>\n",
       "      <th>35</th>\n",
       "      <td>bg-0:05</td>\n",
       "      <td>2.736617e-01</td>\n",
       "    </tr>\n",
       "    <tr>\n",
       "      <th>219</th>\n",
       "      <td>p_num_p21</td>\n",
       "      <td>8.762409e-02</td>\n",
       "    </tr>\n",
       "    <tr>\n",
       "      <th>213</th>\n",
       "      <td>p_num_p11</td>\n",
       "      <td>6.520646e-02</td>\n",
       "    </tr>\n",
       "    <tr>\n",
       "      <th>208</th>\n",
       "      <td>p_num_p02</td>\n",
       "      <td>5.896405e-02</td>\n",
       "    </tr>\n",
       "    <tr>\n",
       "      <th>...</th>\n",
       "      <td>...</td>\n",
       "      <td>...</td>\n",
       "    </tr>\n",
       "    <tr>\n",
       "      <th>40</th>\n",
       "      <td>insulin-2:45</td>\n",
       "      <td>2.239326e-05</td>\n",
       "    </tr>\n",
       "    <tr>\n",
       "      <th>13</th>\n",
       "      <td>bg-1:55</td>\n",
       "      <td>9.344047e-06</td>\n",
       "    </tr>\n",
       "    <tr>\n",
       "      <th>182</th>\n",
       "      <td>cals-0:10</td>\n",
       "      <td>7.659154e-06</td>\n",
       "    </tr>\n",
       "    <tr>\n",
       "      <th>81</th>\n",
       "      <td>hr-2:25</td>\n",
       "      <td>5.632777e-06</td>\n",
       "    </tr>\n",
       "    <tr>\n",
       "      <th>56</th>\n",
       "      <td>insulin-1:25</td>\n",
       "      <td>5.384282e-07</td>\n",
       "    </tr>\n",
       "  </tbody>\n",
       "</table>\n",
       "<p>222 rows × 2 columns</p>\n",
       "</div>"
      ]
     },
     "execution_count": 2,
     "metadata": {},
     "output_type": "execute_result"
    }
   ],
   "execution_count": 2
  },
  {
   "metadata": {
    "ExecuteTime": {
     "end_time": "2024-11-19T10:14:41.835290Z",
     "start_time": "2024-11-19T10:13:01.197495Z"
    }
   },
   "cell_type": "code",
   "source": [
    "from tqdm.notebook import tqdm\n",
    "import numpy as np\n",
    "\n",
    "root_mean_squared_errors_train = {}\n",
    "root_mean_squared_errors_val = {}\n",
    "\n",
    "X_train = train_data_processed.drop(columns=['bg+1:00'])\n",
    "y_train = train_data_processed['bg+1:00']\n",
    "\n",
    "X_val = validation_data_processed.drop(columns=['bg+1:00'])\n",
    "y_val = validation_data_processed['bg+1:00']\n",
    "\n",
    "for i in tqdm(range(1, len(feature_importance))):\n",
    "    selected_features = feature_importance['Feature'].values[:i]\n",
    "    X_train_loop = X_train[selected_features]\n",
    "    X_val_loop = X_val[selected_features]\n",
    "    model = tuner.get_best_model()\n",
    "\n",
    "    y_train_log = np.log1p(y_train)\n",
    "    model.fit(X=X_train_loop, y=y_train_log)\n",
    "    y_train_predict_log = model.predict(X=X_train_loop)\n",
    "    y_train_predict = np.expm1(y_train_predict_log)\n",
    "\n",
    "    y_pred_log = model.predict(X=X_val_loop)\n",
    "    y_pred = np.expm1(y_pred_log)\n",
    "\n",
    "    root_mean_squared_errors_train[i] = root_mean_squared_error(y_train, y_train_predict)\n",
    "    root_mean_squared_errors_val[i] = root_mean_squared_error(y_val, y_pred)\n"
   ],
   "id": "8d3d42a429bdc71e",
   "outputs": [
    {
     "data": {
      "text/plain": [
       "  0%|          | 0/221 [00:00<?, ?it/s]"
      ],
      "application/vnd.jupyter.widget-view+json": {
       "version_major": 2,
       "version_minor": 0,
       "model_id": "0567ce4d1a09427688bccf2e95afc697"
      }
     },
     "metadata": {},
     "output_type": "display_data"
    }
   ],
   "execution_count": 3
  },
  {
   "metadata": {
    "ExecuteTime": {
     "end_time": "2024-11-19T10:14:42.021179Z",
     "start_time": "2024-11-19T10:14:41.909656Z"
    }
   },
   "cell_type": "code",
   "source": [
    "import matplotlib.pyplot as plt\n",
    "%matplotlib inline\n",
    "plt.plot(root_mean_squared_errors_train.values(), label='Train')\n",
    "plt.plot(root_mean_squared_errors_val.values(), label='Validation')\n",
    "plt.legend()\n",
    "plt.title('RMSE over number of top features')\n",
    "plt.xlabel('Number of top features')\n",
    "plt.ylabel('RMSE')\n",
    "plt.show()"
   ],
   "id": "c5fd477a1bfaa50f",
   "outputs": [
    {
     "data": {
      "text/plain": [
       "<Figure size 640x480 with 1 Axes>"
      ],
      "image/png": "[encoded data removed]"
     },
     "metadata": {},
     "output_type": "display_data"
    }
   ],
   "execution_count": 4
  },
  {
   "metadata": {
    "ExecuteTime": {
     "end_time": "2024-11-19T10:14:42.066186Z",
     "start_time": "2024-11-19T10:14:42.063048Z"
    }
   },
   "cell_type": "code",
   "source": [
    "# Find the key with the minimum value\n",
    "min_key = min(root_mean_squared_errors_val, key=root_mean_squared_errors_val.get)\n",
    "\n",
    "print(\"Index with the minimum value:\", min_key)\n",
    "print(\"Minimum value:\", root_mean_squared_errors_val[min_key])"
   ],
   "id": "961c7b2527222a9a",
   "outputs": [
    {
     "name": "stdout",
     "output_type": "stream",
     "text": [
      "Index with the minimum value: 25\n",
      "Minimum value: 2.2610437362786016\n"
     ]
    }
   ],
   "execution_count": 5
  }
 ],
 "metadata": {
  "kernelspec": {
   "display_name": "Python 3",
   "language": "python",
   "name": "python3"
  },
  "language_info": {
   "codemirror_mode": {
    "name": "ipython",
    "version": 2
   },
   "file_extension": ".py",
   "mimetype": "text/x-python",
   "name": "python",
   "nbconvert_exporter": "python",
   "pygments_lexer": "ipython2",
   "version": "2.7.6"
  }
 },
 "nbformat": 4,
 "nbformat_minor": 5
}
