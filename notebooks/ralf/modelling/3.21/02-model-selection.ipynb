{
 "cells": [
  {
   "metadata": {},
   "cell_type": "markdown",
   "source": [
    "# Modelling most important features\n",
    "\n",
    "## Model Selection"
   ],
   "id": "c4f5fa4ffbc53369"
  },
  {
   "metadata": {
    "ExecuteTime": {
     "end_time": "2024-11-19T09:27:13.213136Z",
     "start_time": "2024-11-19T09:26:30.593905Z"
    }
   },
   "cell_type": "code",
   "source": [
    "import os\n",
    "import pandas as pd\n",
    "from pipelines import pipeline\n",
    "\n",
    "train_data_file = os.path.join('..', '..', '..', '..', 'data', 'raw', 'train.csv')\n",
    "train_data = pd.read_csv(train_data_file, index_col=0, low_memory=False)\n",
    "additional_data_file = os.path.join('..', '..', '..', '..', 'data', 'interim', 'all_test_5h.csv')\n",
    "additional_data = pd.read_csv(additional_data_file, low_memory=False)\n",
    "\n",
    "# merge train and additional data\n",
    "train_data = pd.concat([train_data, additional_data], axis=0)\n",
    "\n",
    "# read validation data\n",
    "validation_data_file = os.path.join('..', '..', '..', '..', 'data', 'interim', 'all_test_3h.csv')\n",
    "validation_data = pd.read_csv(validation_data_file, low_memory=False)\n",
    "\n",
    "# do not train with patients that are not have to be predicted\n",
    "unique_patients = validation_data['p_num'].unique()\n",
    "train_data = train_data[train_data['p_num'].isin(unique_patients)]\n",
    "\n",
    "train_data_processed = pipeline.fit_transform(train_data)\n",
    "validation_data_processed = pipeline.transform(validation_data)"
   ],
   "id": "cea982de7e2f7b01",
   "outputs": [],
   "execution_count": 1
  },
  {
   "metadata": {},
   "cell_type": "markdown",
   "source": "## Data Splitting",
   "id": "3d2d3faf26fe5447"
  },
  {
   "metadata": {
    "ExecuteTime": {
     "end_time": "2024-11-19T09:27:13.477605Z",
     "start_time": "2024-11-19T09:27:13.243534Z"
    }
   },
   "cell_type": "code",
   "source": [
    "X_train = train_data_processed.drop(columns=['bg+1:00'])\n",
    "y_train = train_data_processed['bg+1:00']\n",
    "\n",
    "X_test = validation_data_processed.drop(columns=['bg+1:00'])\n",
    "y_test = validation_data_processed['bg+1:00']"
   ],
   "id": "5e39b1845bc7e6d9",
   "outputs": [],
   "execution_count": 2
  },
  {
   "metadata": {},
   "cell_type": "markdown",
   "source": "## Model Selection with LazyPredict",
   "id": "591898d90d93c5e9"
  },
  {
   "metadata": {
    "jupyter": {
     "is_executing": true
    },
    "ExecuteTime": {
     "start_time": "2024-11-19T09:27:13.851379Z"
    }
   },
   "cell_type": "code",
   "source": [
    "from notebooks.helpers.LazyPredict import get_lazy_regressor\n",
    "\n",
    "reg = get_lazy_regressor(exclude=['SVR'])\n",
    "models, predictions = reg.fit(X_train, X_test, y_train, y_test)\n",
    "models"
   ],
   "id": "bcc68a5591d6ea65",
   "outputs": [
    {
     "name": "stderr",
     "output_type": "stream",
     "text": [
      "  0%|          | 0/38 [00:00<?, ?it/s]"
     ]
    }
   ],
   "execution_count": null
  }
 ],
 "metadata": {
  "kernelspec": {
   "display_name": "Python 3",
   "language": "python",
   "name": "python3"
  },
  "language_info": {
   "codemirror_mode": {
    "name": "ipython",
    "version": 2
   },
   "file_extension": ".py",
   "mimetype": "text/x-python",
   "name": "python",
   "nbconvert_exporter": "python",
   "pygments_lexer": "ipython2",
   "version": "2.7.6"
  }
 },
 "nbformat": 4,
 "nbformat_minor": 5
}
