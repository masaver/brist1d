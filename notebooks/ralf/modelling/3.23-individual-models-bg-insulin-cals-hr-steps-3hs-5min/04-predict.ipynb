{
 "cells": [
  {
   "metadata": {},
   "cell_type": "markdown",
   "source": "# Univariate Modelling",
   "id": "c4f5fa4ffbc53369"
  },
  {
   "metadata": {
    "ExecuteTime": {
     "end_time": "2024-11-21T12:19:53.011093Z",
     "start_time": "2024-11-21T12:19:41.460997Z"
    }
   },
   "cell_type": "code",
   "source": [
    "import os\n",
    "import pandas as pd\n",
    "\n",
    "train_data_file = os.path.join('..', '..', '..', '..', 'data', 'raw', 'train.csv')\n",
    "train_data = pd.read_csv(train_data_file, index_col=0, low_memory=False)\n",
    "\n",
    "validation_data_file = os.path.join('..', '..', '..', '..', 'data', 'interim', 'all_test_4_55h.csv')\n",
    "validation_data = pd.read_csv(validation_data_file, index_col=0, low_memory=False)\n",
    "\n",
    "additional_train_data_file = os.path.join('..', '..', '..', '..', 'data', 'interim', 'all_test_3h.csv')\n",
    "additional_train_data = pd.read_csv(additional_train_data_file, index_col=0, low_memory=False)\n",
    "# remove from additional data patients that are not in validation data ids\n",
    "additional_train_data = additional_train_data[~additional_train_data.index.isin(validation_data.index.unique())]\n",
    "\n",
    "# merge train and additional data\n",
    "train_data = pd.concat([train_data, additional_train_data], axis=0)\n",
    "\n",
    "# do not train with patients that are not have to be predicted\n",
    "test_data_file = os.path.join('..', '..', '..', '..', 'data', 'raw', 'test.csv')\n",
    "test_data = pd.read_csv(test_data_file, index_col=0, low_memory=False)\n",
    "\n",
    "unique_patients = test_data['p_num'].unique()\n",
    "train_data = train_data[train_data['p_num'].isin(unique_patients)]\n",
    "validation_data = validation_data[validation_data['p_num'].isin(unique_patients)]\n",
    "test_data = test_data[test_data['p_num'].isin(unique_patients)]\n",
    "\n",
    "train_data.head()"
   ],
   "id": "ed9cab10a4c9269",
   "outputs": [
    {
     "data": {
      "text/plain": [
       "      p_num      time  bg-5:55  bg-5:50  bg-5:45  bg-5:40  bg-5:35  bg-5:30  \\\n",
       "id                                                                            \n",
       "p01_0   p01  06:10:00      NaN      NaN      9.6      NaN      NaN      9.7   \n",
       "p01_1   p01  06:25:00      NaN      NaN      9.7      NaN      NaN      9.2   \n",
       "p01_2   p01  06:40:00      NaN      NaN      9.2      NaN      NaN      8.7   \n",
       "p01_3   p01  06:55:00      NaN      NaN      8.7      NaN      NaN      8.4   \n",
       "p01_4   p01  07:10:00      NaN      NaN      8.4      NaN      NaN      8.1   \n",
       "\n",
       "       bg-5:25  bg-5:20  ...  activity-0:40  activity-0:35  activity-0:30  \\\n",
       "id                       ...                                                \n",
       "p01_0      NaN      NaN  ...            NaN            NaN            NaN   \n",
       "p01_1      NaN      NaN  ...            NaN            NaN            NaN   \n",
       "p01_2      NaN      NaN  ...            NaN            NaN            NaN   \n",
       "p01_3      NaN      NaN  ...            NaN            NaN            NaN   \n",
       "p01_4      NaN      NaN  ...            NaN            NaN            NaN   \n",
       "\n",
       "       activity-0:25  activity-0:20  activity-0:15  activity-0:10  \\\n",
       "id                                                                  \n",
       "p01_0            NaN            NaN            NaN            NaN   \n",
       "p01_1            NaN            NaN            NaN            NaN   \n",
       "p01_2            NaN            NaN            NaN            NaN   \n",
       "p01_3            NaN            NaN            NaN            NaN   \n",
       "p01_4            NaN            NaN            NaN            NaN   \n",
       "\n",
       "       activity-0:05  activity-0:00  bg+1:00  \n",
       "id                                            \n",
       "p01_0            NaN            NaN     13.4  \n",
       "p01_1            NaN            NaN     12.8  \n",
       "p01_2            NaN            NaN     15.5  \n",
       "p01_3            NaN            NaN     14.8  \n",
       "p01_4            NaN            NaN     12.7  \n",
       "\n",
       "[5 rows x 507 columns]"
      ],
      "text/html": [
       "<div>\n",
       "<style scoped>\n",
       "    .dataframe tbody tr th:only-of-type {\n",
       "        vertical-align: middle;\n",
       "    }\n",
       "\n",
       "    .dataframe tbody tr th {\n",
       "        vertical-align: top;\n",
       "    }\n",
       "\n",
       "    .dataframe thead th {\n",
       "        text-align: right;\n",
       "    }\n",
       "</style>\n",
       "<table border=\"1\" class=\"dataframe\">\n",
       "  <thead>\n",
       "    <tr style=\"text-align: right;\">\n",
       "      <th></th>\n",
       "      <th>p_num</th>\n",
       "      <th>time</th>\n",
       "      <th>bg-5:55</th>\n",
       "      <th>bg-5:50</th>\n",
       "      <th>bg-5:45</th>\n",
       "      <th>bg-5:40</th>\n",
       "      <th>bg-5:35</th>\n",
       "      <th>bg-5:30</th>\n",
       "      <th>bg-5:25</th>\n",
       "      <th>bg-5:20</th>\n",
       "      <th>...</th>\n",
       "      <th>activity-0:40</th>\n",
       "      <th>activity-0:35</th>\n",
       "      <th>activity-0:30</th>\n",
       "      <th>activity-0:25</th>\n",
       "      <th>activity-0:20</th>\n",
       "      <th>activity-0:15</th>\n",
       "      <th>activity-0:10</th>\n",
       "      <th>activity-0:05</th>\n",
       "      <th>activity-0:00</th>\n",
       "      <th>bg+1:00</th>\n",
       "    </tr>\n",
       "    <tr>\n",
       "      <th>id</th>\n",
       "      <th></th>\n",
       "      <th></th>\n",
       "      <th></th>\n",
       "      <th></th>\n",
       "      <th></th>\n",
       "      <th></th>\n",
       "      <th></th>\n",
       "      <th></th>\n",
       "      <th></th>\n",
       "      <th></th>\n",
       "      <th></th>\n",
       "      <th></th>\n",
       "      <th></th>\n",
       "      <th></th>\n",
       "      <th></th>\n",
       "      <th></th>\n",
       "      <th></th>\n",
       "      <th></th>\n",
       "      <th></th>\n",
       "      <th></th>\n",
       "      <th></th>\n",
       "    </tr>\n",
       "  </thead>\n",
       "  <tbody>\n",
       "    <tr>\n",
       "      <th>p01_0</th>\n",
       "      <td>p01</td>\n",
       "      <td>06:10:00</td>\n",
       "      <td>NaN</td>\n",
       "      <td>NaN</td>\n",
       "      <td>9.6</td>\n",
       "      <td>NaN</td>\n",
       "      <td>NaN</td>\n",
       "      <td>9.7</td>\n",
       "      <td>NaN</td>\n",
       "      <td>NaN</td>\n",
       "      <td>...</td>\n",
       "      <td>NaN</td>\n",
       "      <td>NaN</td>\n",
       "      <td>NaN</td>\n",
       "      <td>NaN</td>\n",
       "      <td>NaN</td>\n",
       "      <td>NaN</td>\n",
       "      <td>NaN</td>\n",
       "      <td>NaN</td>\n",
       "      <td>NaN</td>\n",
       "      <td>13.4</td>\n",
       "    </tr>\n",
       "    <tr>\n",
       "      <th>p01_1</th>\n",
       "      <td>p01</td>\n",
       "      <td>06:25:00</td>\n",
       "      <td>NaN</td>\n",
       "      <td>NaN</td>\n",
       "      <td>9.7</td>\n",
       "      <td>NaN</td>\n",
       "      <td>NaN</td>\n",
       "      <td>9.2</td>\n",
       "      <td>NaN</td>\n",
       "      <td>NaN</td>\n",
       "      <td>...</td>\n",
       "      <td>NaN</td>\n",
       "      <td>NaN</td>\n",
       "      <td>NaN</td>\n",
       "      <td>NaN</td>\n",
       "      <td>NaN</td>\n",
       "      <td>NaN</td>\n",
       "      <td>NaN</td>\n",
       "      <td>NaN</td>\n",
       "      <td>NaN</td>\n",
       "      <td>12.8</td>\n",
       "    </tr>\n",
       "    <tr>\n",
       "      <th>p01_2</th>\n",
       "      <td>p01</td>\n",
       "      <td>06:40:00</td>\n",
       "      <td>NaN</td>\n",
       "      <td>NaN</td>\n",
       "      <td>9.2</td>\n",
       "      <td>NaN</td>\n",
       "      <td>NaN</td>\n",
       "      <td>8.7</td>\n",
       "      <td>NaN</td>\n",
       "      <td>NaN</td>\n",
       "      <td>...</td>\n",
       "      <td>NaN</td>\n",
       "      <td>NaN</td>\n",
       "      <td>NaN</td>\n",
       "      <td>NaN</td>\n",
       "      <td>NaN</td>\n",
       "      <td>NaN</td>\n",
       "      <td>NaN</td>\n",
       "      <td>NaN</td>\n",
       "      <td>NaN</td>\n",
       "      <td>15.5</td>\n",
       "    </tr>\n",
       "    <tr>\n",
       "      <th>p01_3</th>\n",
       "      <td>p01</td>\n",
       "      <td>06:55:00</td>\n",
       "      <td>NaN</td>\n",
       "      <td>NaN</td>\n",
       "      <td>8.7</td>\n",
       "      <td>NaN</td>\n",
       "      <td>NaN</td>\n",
       "      <td>8.4</td>\n",
       "      <td>NaN</td>\n",
       "      <td>NaN</td>\n",
       "      <td>...</td>\n",
       "      <td>NaN</td>\n",
       "      <td>NaN</td>\n",
       "      <td>NaN</td>\n",
       "      <td>NaN</td>\n",
       "      <td>NaN</td>\n",
       "      <td>NaN</td>\n",
       "      <td>NaN</td>\n",
       "      <td>NaN</td>\n",
       "      <td>NaN</td>\n",
       "      <td>14.8</td>\n",
       "    </tr>\n",
       "    <tr>\n",
       "      <th>p01_4</th>\n",
       "      <td>p01</td>\n",
       "      <td>07:10:00</td>\n",
       "      <td>NaN</td>\n",
       "      <td>NaN</td>\n",
       "      <td>8.4</td>\n",
       "      <td>NaN</td>\n",
       "      <td>NaN</td>\n",
       "      <td>8.1</td>\n",
       "      <td>NaN</td>\n",
       "      <td>NaN</td>\n",
       "      <td>...</td>\n",
       "      <td>NaN</td>\n",
       "      <td>NaN</td>\n",
       "      <td>NaN</td>\n",
       "      <td>NaN</td>\n",
       "      <td>NaN</td>\n",
       "      <td>NaN</td>\n",
       "      <td>NaN</td>\n",
       "      <td>NaN</td>\n",
       "      <td>NaN</td>\n",
       "      <td>12.7</td>\n",
       "    </tr>\n",
       "  </tbody>\n",
       "</table>\n",
       "<p>5 rows × 507 columns</p>\n",
       "</div>"
      ]
     },
     "execution_count": 1,
     "metadata": {},
     "output_type": "execute_result"
    }
   ],
   "execution_count": 1
  },
  {
   "metadata": {
    "ExecuteTime": {
     "end_time": "2024-11-21T12:25:41.563297Z",
     "start_time": "2024-11-21T12:19:53.139736Z"
    }
   },
   "cell_type": "code",
   "source": [
    "from sklearn.ensemble import VotingRegressor\n",
    "from pipelines import pipeline\n",
    "import joblib\n",
    "\n",
    "models = {}\n",
    "results = test_data[[]]\n",
    "results['bg+1:00'] = -1\n",
    "for p_num in unique_patients:\n",
    "    stored_models = [file for file in os.listdir() if file.endswith('.model.pkl') and file.startswith(f'{p_num}')]\n",
    "    estimators = []\n",
    "    for model_file in stored_models:\n",
    "        print(f'Loading {model_file}')\n",
    "        model = joblib.load(model_file)\n",
    "        estimators.append((\n",
    "            model_file.replace('.model.pkl', ''),\n",
    "            model\n",
    "        ))\n",
    "    \n",
    "    model = VotingRegressor(estimators=estimators, verbose=True)\n",
    "    \n",
    "    train_data_patient = train_data[train_data['p_num'] == p_num]\n",
    "    validation_data_patient = validation_data[validation_data['p_num'] == p_num]\n",
    "    train_and_validation_data_patient = pipeline.fit_transform(pd.concat([train_data_patient, validation_data_patient], axis=0))\n",
    "    \n",
    "    X_train = train_and_validation_data_patient.drop(columns=['bg+1:00'])\n",
    "    y_train = train_and_validation_data_patient['bg+1:00']\n",
    "    \n",
    "    print(f'Training model for patient {p_num}')\n",
    "    model.fit(X=X_train, y=y_train)\n",
    "\n",
    "    print(f'Predicting for patient {p_num}')    \n",
    "    test_data_patient = test_data[test_data['p_num'] == p_num]\n",
    "    test_data_patient = pipeline.transform(test_data_patient)\n",
    "    \n",
    "    results.loc[test_data_patient.index, 'bg+1:00'] = model.predict(test_data_patient)\n",
    "\n",
    "\n",
    "results.head()"
   ],
   "id": "96dfd2e02e41a9dd",
   "outputs": [
    {
     "name": "stderr",
     "output_type": "stream",
     "text": [
      "/var/folders/g7/z7m625rj50d5ptztzplh4wgc0000gn/T/ipykernel_54081/1780505718.py:7: SettingWithCopyWarning: \n",
      "A value is trying to be set on a copy of a slice from a DataFrame.\n",
      "Try using .loc[row_indexer,col_indexer] = value instead\n",
      "\n",
      "See the caveats in the documentation: https://pandas.pydata.org/pandas-docs/stable/user_guide/indexing.html#returning-a-view-versus-a-copy\n",
      "  results['bg+1:00'] = -1\n"
     ]
    },
    {
     "name": "stdout",
     "output_type": "stream",
     "text": [
      "Loading p01.LassoLarsIC.model.pkl\n",
      "Loading p01.XGBRegressor.model.pkl\n",
      "Loading p01.HistGradientBoostingRegressor.model.pkl\n",
      "Training model for patient p01\n",
      "[Voting] .......... (1 of 3) Processing p01.LassoLarsIC, total=   0.0s\n",
      "[Voting] ......... (2 of 3) Processing p01.XGBRegressor, total=   3.3s\n",
      "[Voting]  (3 of 3) Processing p01.HistGradientBoostingRegressor, total=   1.8s\n",
      "Predicting for patient p01\n",
      "Loading p02.XGBRegressor.model.pkl\n",
      "Loading p02.LassoLarsIC.model.pkl\n",
      "Loading p02.HistGradientBoostingRegressor.model.pkl\n"
     ]
    },
    {
     "name": "stderr",
     "output_type": "stream",
     "text": [
      "/var/folders/g7/z7m625rj50d5ptztzplh4wgc0000gn/T/ipykernel_54081/1780505718.py:35: FutureWarning: Setting an item of incompatible dtype is deprecated and will raise an error in a future version of pandas. Value '[ 8.82284378  6.60180392  8.3369411  10.43505246  6.47751808  6.76868776\n",
      "  6.804224    9.47201838  9.7684981   5.96400098  6.93366853  6.93711185\n",
      "  9.86604075  5.78035968  6.26182715  9.96870013  4.59820856 13.90160918\n",
      " 15.0864996   7.39428996  9.07082301  6.73507504  9.37408746 10.22285685\n",
      " 11.41480091  5.99554706  7.22360601  7.9667077   7.84167217  9.0977995\n",
      "  8.28063922  7.94735856  7.53772573  7.92852406 10.47132552  6.99960163\n",
      " 11.27959374  7.82215014  9.23497675  8.3789502   7.5765245   7.67811069\n",
      "  5.25294508  8.5164906   9.64428037  6.39057401 10.85236129  8.47575452\n",
      "  7.61200955  6.07037908 15.5939031   8.34889954  8.81801734  9.16220966\n",
      "  7.60787802 15.6275585   5.20412651  7.5384146   8.81353656  8.55134841\n",
      "  8.91414634  6.16832173 11.26170151 11.73107008  8.80309861  9.84308849\n",
      "  6.53529658  7.43909429  6.57744221  6.85503485  5.033267    6.44375015\n",
      "  6.97114701  8.76874027  8.45847015  6.69290469 14.59196774  6.85266892\n",
      "  8.91632984  8.8673066  12.45980886 11.01406563  8.05612471  6.75310221\n",
      "  8.84066528  6.97393248  7.53831548 11.5371492  11.53376358 12.44926989\n",
      "  7.91564808  6.40378607  4.74864743  7.92892663  7.50005025  9.16029835\n",
      " 10.48764559  6.37408744 10.68655714  9.10960018  6.84086962 10.97541082\n",
      "  7.14317517  6.80559132  8.21443896 12.99662351  5.97167733  5.66947432\n",
      " 11.26726743 13.86614158  7.03861398  5.55003356  8.13240899  8.79581254\n",
      "  9.97371399  3.99823162  7.37029016  6.7497778   8.52654181  6.4665021\n",
      "  5.18031362  8.40199228  9.19442307  6.66995803 12.15823616  9.31093179\n",
      "  9.691388    8.22991976  8.99931453 10.3995706   7.1590252   6.40106863\n",
      " 10.50427324  7.62537951 13.43457086  6.23312638  6.63679183 12.62704047\n",
      " 14.03078564  8.85517806  6.05387128 13.38273454  7.38294587 11.00580729\n",
      " 11.66535058  7.83698732  7.35703849  7.00555589  8.88105009  8.97712406\n",
      "  6.00545906  6.00513856 12.10043117  6.63838545  7.3938245   7.92337346\n",
      "  6.00817363 11.68879892 12.27408877  8.67224902  7.29404531  9.73741515\n",
      "  6.9086532   8.51473045  7.00311762 12.53732127  4.98963996 13.70560618\n",
      "  7.52214892 15.11509764  6.02371101  7.17008726  6.38476104 13.37404932\n",
      "  8.94561689  9.92514317  5.46250414  4.99756     7.7851761   5.15342875\n",
      "  6.50357339  7.73654345  8.17264701  8.2394115  10.48768688 10.09781087\n",
      "  7.13978287  7.13710812 17.89763649  7.8929408   9.36826651  5.43393286\n",
      "  8.12927874  6.36371767  7.93542433  5.58201622  6.10517797  5.44349376\n",
      " 13.43514139  6.31071574  6.59238872  6.45781919  7.92964     5.55106545\n",
      "  6.04758221  5.15814731  5.08931164  7.03846146 11.60407198  6.61267329\n",
      "  8.85860278  7.91295118  5.1330219   5.62215845  6.72128128  7.6713219\n",
      "  7.7010551   7.1788318  13.55024598  9.6310663   6.6180409   7.56622632\n",
      "  8.10812306  9.31898253 10.89530476  8.88491835  8.24539035 10.41095041\n",
      "  9.43252271 13.34063394  8.59003096  9.58544353 11.45403865  9.25759493\n",
      " 12.80852306 13.44378389  7.05246345 12.19249862  9.33508956  5.79690025\n",
      "  5.99674968 13.30293492 14.59608149  6.18989474]' has dtype incompatible with int64, please explicitly cast to a compatible dtype first.\n",
      "  results.loc[test_data_patient.index, 'bg+1:00'] = model.predict(test_data_patient)\n"
     ]
    },
    {
     "name": "stdout",
     "output_type": "stream",
     "text": [
      "Training model for patient p02\n",
      "[Voting] ......... (1 of 3) Processing p02.XGBRegressor, total=  11.9s\n",
      "[Voting] .......... (2 of 3) Processing p02.LassoLarsIC, total=   0.1s\n",
      "[Voting]  (3 of 3) Processing p02.HistGradientBoostingRegressor, total=  12.6s\n",
      "Predicting for patient p02\n"
     ]
    },
    {
     "name": "stderr",
     "output_type": "stream",
     "text": [
      "/var/folders/g7/z7m625rj50d5ptztzplh4wgc0000gn/T/ipykernel_54081/1780505718.py:35: SettingWithCopyWarning: \n",
      "A value is trying to be set on a copy of a slice from a DataFrame\n",
      "\n",
      "See the caveats in the documentation: https://pandas.pydata.org/pandas-docs/stable/user_guide/indexing.html#returning-a-view-versus-a-copy\n",
      "  results.loc[test_data_patient.index, 'bg+1:00'] = model.predict(test_data_patient)\n"
     ]
    },
    {
     "name": "stdout",
     "output_type": "stream",
     "text": [
      "Loading p04.LassoLarsIC.model.pkl\n",
      "Loading p04.HistGradientBoostingRegressor.model.pkl\n",
      "Loading p04.XGBRegressor.model.pkl\n",
      "Training model for patient p04\n",
      "[Voting] .......... (1 of 3) Processing p04.LassoLarsIC, total=   0.1s\n",
      "[Voting]  (2 of 3) Processing p04.HistGradientBoostingRegressor, total=   6.8s\n",
      "[Voting] ......... (3 of 3) Processing p04.XGBRegressor, total=  24.9s\n",
      "Predicting for patient p04\n",
      "Loading p05.LassoLarsIC.model.pkl\n",
      "Loading p05.XGBRegressor.model.pkl\n",
      "Loading p05.HistGradientBoostingRegressor.model.pkl\n"
     ]
    },
    {
     "name": "stderr",
     "output_type": "stream",
     "text": [
      "/var/folders/g7/z7m625rj50d5ptztzplh4wgc0000gn/T/ipykernel_54081/1780505718.py:35: SettingWithCopyWarning: \n",
      "A value is trying to be set on a copy of a slice from a DataFrame\n",
      "\n",
      "See the caveats in the documentation: https://pandas.pydata.org/pandas-docs/stable/user_guide/indexing.html#returning-a-view-versus-a-copy\n",
      "  results.loc[test_data_patient.index, 'bg+1:00'] = model.predict(test_data_patient)\n"
     ]
    },
    {
     "name": "stdout",
     "output_type": "stream",
     "text": [
      "Training model for patient p05\n",
      "[Voting] .......... (1 of 3) Processing p05.LassoLarsIC, total=   0.1s\n",
      "[Voting] ......... (2 of 3) Processing p05.XGBRegressor, total=  37.5s\n",
      "[Voting]  (3 of 3) Processing p05.HistGradientBoostingRegressor, total=   6.6s\n",
      "Predicting for patient p05\n",
      "Loading p06.HistGradientBoostingRegressor.model.pkl\n",
      "Loading p06.LassoLarsIC.model.pkl\n",
      "Loading p06.XGBRegressor.model.pkl\n"
     ]
    },
    {
     "name": "stderr",
     "output_type": "stream",
     "text": [
      "/var/folders/g7/z7m625rj50d5ptztzplh4wgc0000gn/T/ipykernel_54081/1780505718.py:35: SettingWithCopyWarning: \n",
      "A value is trying to be set on a copy of a slice from a DataFrame\n",
      "\n",
      "See the caveats in the documentation: https://pandas.pydata.org/pandas-docs/stable/user_guide/indexing.html#returning-a-view-versus-a-copy\n",
      "  results.loc[test_data_patient.index, 'bg+1:00'] = model.predict(test_data_patient)\n"
     ]
    },
    {
     "name": "stdout",
     "output_type": "stream",
     "text": [
      "Training model for patient p06\n",
      "[Voting]  (1 of 3) Processing p06.HistGradientBoostingRegressor, total=   4.0s\n",
      "[Voting] .......... (2 of 3) Processing p06.LassoLarsIC, total=   0.1s\n",
      "[Voting] ......... (3 of 3) Processing p06.XGBRegressor, total=   1.4s\n",
      "Predicting for patient p06\n",
      "Loading p10.HistGradientBoostingRegressor.model.pkl\n",
      "Loading p10.XGBRegressor.model.pkl\n",
      "Loading p10.LassoLarsIC.model.pkl\n"
     ]
    },
    {
     "name": "stderr",
     "output_type": "stream",
     "text": [
      "/var/folders/g7/z7m625rj50d5ptztzplh4wgc0000gn/T/ipykernel_54081/1780505718.py:35: SettingWithCopyWarning: \n",
      "A value is trying to be set on a copy of a slice from a DataFrame\n",
      "\n",
      "See the caveats in the documentation: https://pandas.pydata.org/pandas-docs/stable/user_guide/indexing.html#returning-a-view-versus-a-copy\n",
      "  results.loc[test_data_patient.index, 'bg+1:00'] = model.predict(test_data_patient)\n"
     ]
    },
    {
     "name": "stdout",
     "output_type": "stream",
     "text": [
      "Training model for patient p10\n",
      "[Voting]  (1 of 3) Processing p10.HistGradientBoostingRegressor, total=  15.4s\n",
      "[Voting] ......... (2 of 3) Processing p10.XGBRegressor, total=   3.9s\n",
      "[Voting] .......... (3 of 3) Processing p10.LassoLarsIC, total=   0.1s\n",
      "Predicting for patient p10\n"
     ]
    },
    {
     "name": "stderr",
     "output_type": "stream",
     "text": [
      "/var/folders/g7/z7m625rj50d5ptztzplh4wgc0000gn/T/ipykernel_54081/1780505718.py:35: SettingWithCopyWarning: \n",
      "A value is trying to be set on a copy of a slice from a DataFrame\n",
      "\n",
      "See the caveats in the documentation: https://pandas.pydata.org/pandas-docs/stable/user_guide/indexing.html#returning-a-view-versus-a-copy\n",
      "  results.loc[test_data_patient.index, 'bg+1:00'] = model.predict(test_data_patient)\n"
     ]
    },
    {
     "name": "stdout",
     "output_type": "stream",
     "text": [
      "Loading p11.XGBRegressor.model.pkl\n",
      "Loading p11.LassoLarsIC.model.pkl\n",
      "Loading p11.HistGradientBoostingRegressor.model.pkl\n",
      "Training model for patient p11\n",
      "[Voting] ......... (1 of 3) Processing p11.XGBRegressor, total=  13.3s\n",
      "[Voting] .......... (2 of 3) Processing p11.LassoLarsIC, total=   0.1s\n",
      "[Voting]  (3 of 3) Processing p11.HistGradientBoostingRegressor, total=  19.8s\n",
      "Predicting for patient p11\n",
      "Loading p12.XGBRegressor.model.pkl\n",
      "Loading p12.HistGradientBoostingRegressor.model.pkl\n"
     ]
    },
    {
     "name": "stderr",
     "output_type": "stream",
     "text": [
      "/var/folders/g7/z7m625rj50d5ptztzplh4wgc0000gn/T/ipykernel_54081/1780505718.py:35: SettingWithCopyWarning: \n",
      "A value is trying to be set on a copy of a slice from a DataFrame\n",
      "\n",
      "See the caveats in the documentation: https://pandas.pydata.org/pandas-docs/stable/user_guide/indexing.html#returning-a-view-versus-a-copy\n",
      "  results.loc[test_data_patient.index, 'bg+1:00'] = model.predict(test_data_patient)\n"
     ]
    },
    {
     "name": "stdout",
     "output_type": "stream",
     "text": [
      "Loading p12.LassoLarsIC.model.pkl\n",
      "Training model for patient p12\n",
      "[Voting] ......... (1 of 3) Processing p12.XGBRegressor, total=  43.7s\n",
      "[Voting]  (2 of 3) Processing p12.HistGradientBoostingRegressor, total=   7.3s\n",
      "[Voting] .......... (3 of 3) Processing p12.LassoLarsIC, total=   0.1s\n",
      "Predicting for patient p12\n",
      "Loading p15.HistGradientBoostingRegressor.model.pkl\n"
     ]
    },
    {
     "name": "stderr",
     "output_type": "stream",
     "text": [
      "/var/folders/g7/z7m625rj50d5ptztzplh4wgc0000gn/T/ipykernel_54081/1780505718.py:35: SettingWithCopyWarning: \n",
      "A value is trying to be set on a copy of a slice from a DataFrame\n",
      "\n",
      "See the caveats in the documentation: https://pandas.pydata.org/pandas-docs/stable/user_guide/indexing.html#returning-a-view-versus-a-copy\n",
      "  results.loc[test_data_patient.index, 'bg+1:00'] = model.predict(test_data_patient)\n"
     ]
    },
    {
     "name": "stdout",
     "output_type": "stream",
     "text": [
      "Loading p15.XGBRegressor.model.pkl\n",
      "Loading p15.LassoLarsIC.model.pkl\n",
      "Training model for patient p15\n",
      "[Voting]  (1 of 3) Processing p15.HistGradientBoostingRegressor, total=   2.7s\n",
      "[Voting] ......... (2 of 3) Processing p15.XGBRegressor, total=  24.1s\n",
      "[Voting] .......... (3 of 3) Processing p15.LassoLarsIC, total=   0.0s\n",
      "Predicting for patient p15\n",
      "Loading p16.XGBRegressor.model.pkl\n",
      "Loading p16.HistGradientBoostingRegressor.model.pkl\n",
      "Loading p16.LassoLarsIC.model.pkl\n"
     ]
    },
    {
     "name": "stderr",
     "output_type": "stream",
     "text": [
      "/var/folders/g7/z7m625rj50d5ptztzplh4wgc0000gn/T/ipykernel_54081/1780505718.py:35: SettingWithCopyWarning: \n",
      "A value is trying to be set on a copy of a slice from a DataFrame\n",
      "\n",
      "See the caveats in the documentation: https://pandas.pydata.org/pandas-docs/stable/user_guide/indexing.html#returning-a-view-versus-a-copy\n",
      "  results.loc[test_data_patient.index, 'bg+1:00'] = model.predict(test_data_patient)\n"
     ]
    },
    {
     "name": "stdout",
     "output_type": "stream",
     "text": [
      "Training model for patient p16\n",
      "[Voting] ......... (1 of 3) Processing p16.XGBRegressor, total=   2.4s\n",
      "[Voting]  (2 of 3) Processing p16.HistGradientBoostingRegressor, total=   2.3s\n",
      "[Voting] .......... (3 of 3) Processing p16.LassoLarsIC, total=   0.0s\n",
      "Predicting for patient p16\n",
      "Loading p18.HistGradientBoostingRegressor.model.pkl\n"
     ]
    },
    {
     "name": "stderr",
     "output_type": "stream",
     "text": [
      "/var/folders/g7/z7m625rj50d5ptztzplh4wgc0000gn/T/ipykernel_54081/1780505718.py:35: SettingWithCopyWarning: \n",
      "A value is trying to be set on a copy of a slice from a DataFrame\n",
      "\n",
      "See the caveats in the documentation: https://pandas.pydata.org/pandas-docs/stable/user_guide/indexing.html#returning-a-view-versus-a-copy\n",
      "  results.loc[test_data_patient.index, 'bg+1:00'] = model.predict(test_data_patient)\n"
     ]
    },
    {
     "name": "stdout",
     "output_type": "stream",
     "text": [
      "Loading p18.XGBRegressor.model.pkl\n",
      "Loading p18.LassoLarsIC.model.pkl\n",
      "Training model for patient p18\n",
      "[Voting]  (1 of 3) Processing p18.HistGradientBoostingRegressor, total=   5.7s\n",
      "[Voting] ......... (2 of 3) Processing p18.XGBRegressor, total=   1.4s\n",
      "[Voting] .......... (3 of 3) Processing p18.LassoLarsIC, total=   0.0s\n",
      "Predicting for patient p18\n",
      "Loading p19.LassoLarsIC.model.pkl\n",
      "Loading p19.HistGradientBoostingRegressor.model.pkl\n",
      "Loading p19.XGBRegressor.model.pkl\n"
     ]
    },
    {
     "name": "stderr",
     "output_type": "stream",
     "text": [
      "/var/folders/g7/z7m625rj50d5ptztzplh4wgc0000gn/T/ipykernel_54081/1780505718.py:35: SettingWithCopyWarning: \n",
      "A value is trying to be set on a copy of a slice from a DataFrame\n",
      "\n",
      "See the caveats in the documentation: https://pandas.pydata.org/pandas-docs/stable/user_guide/indexing.html#returning-a-view-versus-a-copy\n",
      "  results.loc[test_data_patient.index, 'bg+1:00'] = model.predict(test_data_patient)\n"
     ]
    },
    {
     "name": "stdout",
     "output_type": "stream",
     "text": [
      "Training model for patient p19\n",
      "[Voting] .......... (1 of 3) Processing p19.LassoLarsIC, total=   0.1s\n",
      "[Voting]  (2 of 3) Processing p19.HistGradientBoostingRegressor, total=   2.2s\n",
      "[Voting] ......... (3 of 3) Processing p19.XGBRegressor, total=   8.8s\n",
      "Predicting for patient p19\n",
      "Loading p21.HistGradientBoostingRegressor.model.pkl\n",
      "Loading p21.LassoLarsIC.model.pkl\n",
      "Loading p21.XGBRegressor.model.pkl\n"
     ]
    },
    {
     "name": "stderr",
     "output_type": "stream",
     "text": [
      "/var/folders/g7/z7m625rj50d5ptztzplh4wgc0000gn/T/ipykernel_54081/1780505718.py:35: SettingWithCopyWarning: \n",
      "A value is trying to be set on a copy of a slice from a DataFrame\n",
      "\n",
      "See the caveats in the documentation: https://pandas.pydata.org/pandas-docs/stable/user_guide/indexing.html#returning-a-view-versus-a-copy\n",
      "  results.loc[test_data_patient.index, 'bg+1:00'] = model.predict(test_data_patient)\n"
     ]
    },
    {
     "name": "stdout",
     "output_type": "stream",
     "text": [
      "Training model for patient p21\n",
      "[Voting]  (1 of 3) Processing p21.HistGradientBoostingRegressor, total=   4.9s\n",
      "[Voting] .......... (2 of 3) Processing p21.LassoLarsIC, total=   0.0s\n",
      "[Voting] ......... (3 of 3) Processing p21.XGBRegressor, total=   7.6s\n",
      "Predicting for patient p21\n",
      "Loading p22.HistGradientBoostingRegressor.model.pkl\n",
      "Loading p22.XGBRegressor.model.pkl\n",
      "Loading p22.LassoLarsIC.model.pkl\n"
     ]
    },
    {
     "name": "stderr",
     "output_type": "stream",
     "text": [
      "/var/folders/g7/z7m625rj50d5ptztzplh4wgc0000gn/T/ipykernel_54081/1780505718.py:35: SettingWithCopyWarning: \n",
      "A value is trying to be set on a copy of a slice from a DataFrame\n",
      "\n",
      "See the caveats in the documentation: https://pandas.pydata.org/pandas-docs/stable/user_guide/indexing.html#returning-a-view-versus-a-copy\n",
      "  results.loc[test_data_patient.index, 'bg+1:00'] = model.predict(test_data_patient)\n"
     ]
    },
    {
     "name": "stdout",
     "output_type": "stream",
     "text": [
      "Training model for patient p22\n",
      "[Voting]  (1 of 3) Processing p22.HistGradientBoostingRegressor, total=   1.9s\n",
      "[Voting] ......... (2 of 3) Processing p22.XGBRegressor, total=  11.2s\n",
      "[Voting] .......... (3 of 3) Processing p22.LassoLarsIC, total=   0.0s\n",
      "Predicting for patient p22\n",
      "Loading p24.XGBRegressor.model.pkl\n",
      "Loading p24.HistGradientBoostingRegressor.model.pkl\n",
      "Loading p24.LassoLarsIC.model.pkl\n"
     ]
    },
    {
     "name": "stderr",
     "output_type": "stream",
     "text": [
      "/var/folders/g7/z7m625rj50d5ptztzplh4wgc0000gn/T/ipykernel_54081/1780505718.py:35: SettingWithCopyWarning: \n",
      "A value is trying to be set on a copy of a slice from a DataFrame\n",
      "\n",
      "See the caveats in the documentation: https://pandas.pydata.org/pandas-docs/stable/user_guide/indexing.html#returning-a-view-versus-a-copy\n",
      "  results.loc[test_data_patient.index, 'bg+1:00'] = model.predict(test_data_patient)\n"
     ]
    },
    {
     "name": "stdout",
     "output_type": "stream",
     "text": [
      "Training model for patient p24\n",
      "[Voting] ......... (1 of 3) Processing p24.XGBRegressor, total=  31.2s\n",
      "[Voting]  (2 of 3) Processing p24.HistGradientBoostingRegressor, total=   5.3s\n",
      "[Voting] .......... (3 of 3) Processing p24.LassoLarsIC, total=   0.0s\n",
      "Predicting for patient p24\n"
     ]
    },
    {
     "name": "stderr",
     "output_type": "stream",
     "text": [
      "/var/folders/g7/z7m625rj50d5ptztzplh4wgc0000gn/T/ipykernel_54081/1780505718.py:35: SettingWithCopyWarning: \n",
      "A value is trying to be set on a copy of a slice from a DataFrame\n",
      "\n",
      "See the caveats in the documentation: https://pandas.pydata.org/pandas-docs/stable/user_guide/indexing.html#returning-a-view-versus-a-copy\n",
      "  results.loc[test_data_patient.index, 'bg+1:00'] = model.predict(test_data_patient)\n"
     ]
    },
    {
     "data": {
      "text/plain": [
       "            bg+1:00\n",
       "id                 \n",
       "p01_8459   8.822844\n",
       "p01_8460   6.601804\n",
       "p01_8461   8.336941\n",
       "p01_8462  10.435052\n",
       "p01_8463   6.477518"
      ],
      "text/html": [
       "<div>\n",
       "<style scoped>\n",
       "    .dataframe tbody tr th:only-of-type {\n",
       "        vertical-align: middle;\n",
       "    }\n",
       "\n",
       "    .dataframe tbody tr th {\n",
       "        vertical-align: top;\n",
       "    }\n",
       "\n",
       "    .dataframe thead th {\n",
       "        text-align: right;\n",
       "    }\n",
       "</style>\n",
       "<table border=\"1\" class=\"dataframe\">\n",
       "  <thead>\n",
       "    <tr style=\"text-align: right;\">\n",
       "      <th></th>\n",
       "      <th>bg+1:00</th>\n",
       "    </tr>\n",
       "    <tr>\n",
       "      <th>id</th>\n",
       "      <th></th>\n",
       "    </tr>\n",
       "  </thead>\n",
       "  <tbody>\n",
       "    <tr>\n",
       "      <th>p01_8459</th>\n",
       "      <td>8.822844</td>\n",
       "    </tr>\n",
       "    <tr>\n",
       "      <th>p01_8460</th>\n",
       "      <td>6.601804</td>\n",
       "    </tr>\n",
       "    <tr>\n",
       "      <th>p01_8461</th>\n",
       "      <td>8.336941</td>\n",
       "    </tr>\n",
       "    <tr>\n",
       "      <th>p01_8462</th>\n",
       "      <td>10.435052</td>\n",
       "    </tr>\n",
       "    <tr>\n",
       "      <th>p01_8463</th>\n",
       "      <td>6.477518</td>\n",
       "    </tr>\n",
       "  </tbody>\n",
       "</table>\n",
       "</div>"
      ]
     },
     "execution_count": 2,
     "metadata": {},
     "output_type": "execute_result"
    }
   ],
   "execution_count": 2
  },
  {
   "metadata": {
    "ExecuteTime": {
     "end_time": "2024-11-21T12:25:41.853845Z",
     "start_time": "2024-11-21T12:25:41.850725Z"
    }
   },
   "cell_type": "code",
   "source": [
    "# check if results are correct\n",
    "results[results['bg+1:00'] == -1]"
   ],
   "id": "4ebb52e2cc93d12d",
   "outputs": [
    {
     "data": {
      "text/plain": [
       "Empty DataFrame\n",
       "Columns: [bg+1:00]\n",
       "Index: []"
      ],
      "text/html": [
       "<div>\n",
       "<style scoped>\n",
       "    .dataframe tbody tr th:only-of-type {\n",
       "        vertical-align: middle;\n",
       "    }\n",
       "\n",
       "    .dataframe tbody tr th {\n",
       "        vertical-align: top;\n",
       "    }\n",
       "\n",
       "    .dataframe thead th {\n",
       "        text-align: right;\n",
       "    }\n",
       "</style>\n",
       "<table border=\"1\" class=\"dataframe\">\n",
       "  <thead>\n",
       "    <tr style=\"text-align: right;\">\n",
       "      <th></th>\n",
       "      <th>bg+1:00</th>\n",
       "    </tr>\n",
       "    <tr>\n",
       "      <th>id</th>\n",
       "      <th></th>\n",
       "    </tr>\n",
       "  </thead>\n",
       "  <tbody>\n",
       "  </tbody>\n",
       "</table>\n",
       "</div>"
      ]
     },
     "execution_count": 3,
     "metadata": {},
     "output_type": "execute_result"
    }
   ],
   "execution_count": 3
  },
  {
   "metadata": {},
   "cell_type": "markdown",
   "source": "# Prepare test results",
   "id": "ab64321f938f2894"
  },
  {
   "metadata": {},
   "cell_type": "markdown",
   "source": "## Prepare the submission file",
   "id": "62816c36690eb120"
  },
  {
   "metadata": {
    "ExecuteTime": {
     "end_time": "2024-11-21T12:25:41.883423Z",
     "start_time": "2024-11-21T12:25:41.879651Z"
    }
   },
   "cell_type": "code",
   "source": [
    "submission = results\n",
    "submission"
   ],
   "id": "67839b46a87a5226",
   "outputs": [
    {
     "data": {
      "text/plain": [
       "            bg+1:00\n",
       "id                 \n",
       "p01_8459   8.822844\n",
       "p01_8460   6.601804\n",
       "p01_8461   8.336941\n",
       "p01_8462  10.435052\n",
       "p01_8463   6.477518\n",
       "...             ...\n",
       "p24_256    6.497994\n",
       "p24_257   10.054035\n",
       "p24_258    6.128431\n",
       "p24_259    8.246970\n",
       "p24_260    6.865229\n",
       "\n",
       "[3644 rows x 1 columns]"
      ],
      "text/html": [
       "<div>\n",
       "<style scoped>\n",
       "    .dataframe tbody tr th:only-of-type {\n",
       "        vertical-align: middle;\n",
       "    }\n",
       "\n",
       "    .dataframe tbody tr th {\n",
       "        vertical-align: top;\n",
       "    }\n",
       "\n",
       "    .dataframe thead th {\n",
       "        text-align: right;\n",
       "    }\n",
       "</style>\n",
       "<table border=\"1\" class=\"dataframe\">\n",
       "  <thead>\n",
       "    <tr style=\"text-align: right;\">\n",
       "      <th></th>\n",
       "      <th>bg+1:00</th>\n",
       "    </tr>\n",
       "    <tr>\n",
       "      <th>id</th>\n",
       "      <th></th>\n",
       "    </tr>\n",
       "  </thead>\n",
       "  <tbody>\n",
       "    <tr>\n",
       "      <th>p01_8459</th>\n",
       "      <td>8.822844</td>\n",
       "    </tr>\n",
       "    <tr>\n",
       "      <th>p01_8460</th>\n",
       "      <td>6.601804</td>\n",
       "    </tr>\n",
       "    <tr>\n",
       "      <th>p01_8461</th>\n",
       "      <td>8.336941</td>\n",
       "    </tr>\n",
       "    <tr>\n",
       "      <th>p01_8462</th>\n",
       "      <td>10.435052</td>\n",
       "    </tr>\n",
       "    <tr>\n",
       "      <th>p01_8463</th>\n",
       "      <td>6.477518</td>\n",
       "    </tr>\n",
       "    <tr>\n",
       "      <th>...</th>\n",
       "      <td>...</td>\n",
       "    </tr>\n",
       "    <tr>\n",
       "      <th>p24_256</th>\n",
       "      <td>6.497994</td>\n",
       "    </tr>\n",
       "    <tr>\n",
       "      <th>p24_257</th>\n",
       "      <td>10.054035</td>\n",
       "    </tr>\n",
       "    <tr>\n",
       "      <th>p24_258</th>\n",
       "      <td>6.128431</td>\n",
       "    </tr>\n",
       "    <tr>\n",
       "      <th>p24_259</th>\n",
       "      <td>8.246970</td>\n",
       "    </tr>\n",
       "    <tr>\n",
       "      <th>p24_260</th>\n",
       "      <td>6.865229</td>\n",
       "    </tr>\n",
       "  </tbody>\n",
       "</table>\n",
       "<p>3644 rows × 1 columns</p>\n",
       "</div>"
      ]
     },
     "execution_count": 4,
     "metadata": {},
     "output_type": "execute_result"
    }
   ],
   "execution_count": 4
  },
  {
   "metadata": {},
   "cell_type": "markdown",
   "source": "### Save the submission file",
   "id": "c76df6ba407a2d0b"
  },
  {
   "metadata": {
    "ExecuteTime": {
     "end_time": "2024-11-21T12:25:41.963819Z",
     "start_time": "2024-11-21T12:25:41.954565Z"
    }
   },
   "cell_type": "code",
   "source": "submission.to_csv(f'submission-{os.path.basename(os.getcwd())}.csv')",
   "id": "a9c239f3e1efc4c9",
   "outputs": [],
   "execution_count": 5
  }
 ],
 "metadata": {
  "kernelspec": {
   "display_name": "Python 3",
   "language": "python",
   "name": "python3"
  },
  "language_info": {
   "codemirror_mode": {
    "name": "ipython",
    "version": 2
   },
   "file_extension": ".py",
   "mimetype": "text/x-python",
   "name": "python",
   "nbconvert_exporter": "python",
   "pygments_lexer": "ipython2",
   "version": "2.7.6"
  }
 },
 "nbformat": 4,
 "nbformat_minor": 5
}
