{
 "cells": [
  {
   "metadata": {},
   "cell_type": "markdown",
   "source": "# Hyperparameter Tuning\n",
   "id": "c4f5fa4ffbc53369"
  },
  {
   "metadata": {},
   "cell_type": "code",
   "source": [
    "from data import load_data\n",
    "\n",
    "train_data, test_data = load_data()\n",
    "\n",
    "unique_patients = test_data['p_num'].unique()\n",
    "train_data = train_data[train_data['p_num'].isin(unique_patients)]\n",
    "test_data = test_data[test_data['p_num'].isin(unique_patients)]\n",
    "\n",
    "train_data.head()"
   ],
   "id": "6a34b21d4bb55fe0",
   "outputs": [],
   "execution_count": null
  },
  {
   "metadata": {},
   "cell_type": "markdown",
   "source": "### Define a tuning function",
   "id": "5e3f726f2eac2520"
  },
  {
   "metadata": {},
   "cell_type": "code",
   "source": [
    "import joblib\n",
    "import os\n",
    "\n",
    "\n",
    "def tune(p_num, tuner, X, y):\n",
    "    model_file_name = f'{p_num}.{tuner.__name__}.model.pkl'\n",
    "    if os.path.exists(model_file_name):\n",
    "        print(f'Model {model_file_name} already exists. Skipping...')\n",
    "        return\n",
    "\n",
    "    print(f'-----------{tuner.__name__}-----------')\n",
    "    print('Calculating best hyperparameters...')\n",
    "    tuner.fit(X, y)\n",
    "    print('Best hyperparameters found.')\n",
    "    display(tuner.get_params())\n",
    "    print(f'RMSE: {tuner.get_rmse()}')\n",
    "    tuner.show_chart()\n",
    "    joblib.dump(tuner.get_best_model(), model_file_name)"
   ],
   "id": "30fc0d3c7f5ede2a",
   "outputs": [],
   "execution_count": null
  },
  {
   "metadata": {},
   "cell_type": "code",
   "source": [
    "from pipelines import pipeline\n",
    "from src.features.tuners import XGBHyperparameterTuner\n",
    "\n",
    "for patient in unique_patients:\n",
    "    patient_train_data = train_data[train_data['p_num'] == patient]\n",
    "    patient_train_data_transformed = pipeline.fit_transform(patient_train_data)\n",
    "\n",
    "    X_train = patient_train_data_transformed.drop(columns=['bg+1:00'])\n",
    "    y_train = patient_train_data_transformed['bg+1:00']\n",
    "\n",
    "    tune(patient, XGBHyperparameterTuner(search_space='custom'), X_train, y_train)"
   ],
   "id": "d6d042b15ae0cfd2",
   "outputs": [],
   "execution_count": null
  },
  {
   "metadata": {},
   "cell_type": "code",
   "source": "",
   "id": "f9fcee118d62434c",
   "outputs": [],
   "execution_count": null
  }
 ],
 "metadata": {
  "kernelspec": {
   "display_name": "Python 3",
   "language": "python",
   "name": "python3"
  },
  "language_info": {
   "codemirror_mode": {
    "name": "ipython",
    "version": 2
   },
   "file_extension": ".py",
   "mimetype": "text/x-python",
   "name": "python",
   "nbconvert_exporter": "python",
   "pygments_lexer": "ipython2",
   "version": "2.7.6"
  }
 },
 "nbformat": 4,
 "nbformat_minor": 5
}
