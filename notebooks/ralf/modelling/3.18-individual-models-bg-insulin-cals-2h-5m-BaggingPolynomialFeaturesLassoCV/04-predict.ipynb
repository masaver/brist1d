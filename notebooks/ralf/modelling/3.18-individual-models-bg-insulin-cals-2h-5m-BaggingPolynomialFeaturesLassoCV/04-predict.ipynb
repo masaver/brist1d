{
 "cells": [
  {
   "metadata": {},
   "cell_type": "markdown",
   "source": "# Predict the bg+1:00 values",
   "id": "c4f5fa4ffbc53369"
  },
  {
   "metadata": {
    "ExecuteTime": {
     "end_time": "2024-11-15T06:03:19.651291Z",
     "start_time": "2024-11-15T06:03:19.407338Z"
    }
   },
   "cell_type": "code",
   "source": [
    "import os\n",
    "import joblib\n",
    "import numpy as np\n",
    "import pandas as pd"
   ],
   "id": "1e9fd29d60e04ca3",
   "outputs": [],
   "execution_count": 1
  },
  {
   "metadata": {
    "ExecuteTime": {
     "end_time": "2024-11-15T06:03:29.780382Z",
     "start_time": "2024-11-15T06:03:19.658658Z"
    }
   },
   "cell_type": "code",
   "source": [
    "# Load train and test data\n",
    "train_data_file = os.path.join('..', '..', '..', '..', 'data', 'raw', 'train.csv')\n",
    "train_data_tmp = pd.read_csv(train_data_file, index_col=0, low_memory=False)\n",
    "extra_train_data_file = os.path.join('..', '..', '..', '..', 'data', 'interim', 'all_test_2h.csv')\n",
    "extra_train_data = pd.read_csv(extra_train_data_file, low_memory=False)\n",
    "\n",
    "all_train_data = pd.concat([train_data_tmp, extra_train_data], axis=0)\n",
    "all_train_data.head()"
   ],
   "id": "d019eb55ee10f626",
   "outputs": [
    {
     "data": {
      "text/plain": [
       "      p_num      time  bg-5:55  bg-5:50  bg-5:45  bg-5:40  bg-5:35  bg-5:30  \\\n",
       "p01_0   p01  06:10:00      NaN      NaN      9.6      NaN      NaN      9.7   \n",
       "p01_1   p01  06:25:00      NaN      NaN      9.7      NaN      NaN      9.2   \n",
       "p01_2   p01  06:40:00      NaN      NaN      9.2      NaN      NaN      8.7   \n",
       "p01_3   p01  06:55:00      NaN      NaN      8.7      NaN      NaN      8.4   \n",
       "p01_4   p01  07:10:00      NaN      NaN      8.4      NaN      NaN      8.1   \n",
       "\n",
       "       bg-5:25  bg-5:20  ...  activity-0:40  activity-0:35  activity-0:30  \\\n",
       "p01_0      NaN      NaN  ...            NaN            NaN            NaN   \n",
       "p01_1      NaN      NaN  ...            NaN            NaN            NaN   \n",
       "p01_2      NaN      NaN  ...            NaN            NaN            NaN   \n",
       "p01_3      NaN      NaN  ...            NaN            NaN            NaN   \n",
       "p01_4      NaN      NaN  ...            NaN            NaN            NaN   \n",
       "\n",
       "       activity-0:25  activity-0:20  activity-0:15  activity-0:10  \\\n",
       "p01_0            NaN            NaN            NaN            NaN   \n",
       "p01_1            NaN            NaN            NaN            NaN   \n",
       "p01_2            NaN            NaN            NaN            NaN   \n",
       "p01_3            NaN            NaN            NaN            NaN   \n",
       "p01_4            NaN            NaN            NaN            NaN   \n",
       "\n",
       "       activity-0:05  activity-0:00  bg+1:00  \n",
       "p01_0            NaN            NaN     13.4  \n",
       "p01_1            NaN            NaN     12.8  \n",
       "p01_2            NaN            NaN     15.5  \n",
       "p01_3            NaN            NaN     14.8  \n",
       "p01_4            NaN            NaN     12.7  \n",
       "\n",
       "[5 rows x 507 columns]"
      ],
      "text/html": [
       "<div>\n",
       "<style scoped>\n",
       "    .dataframe tbody tr th:only-of-type {\n",
       "        vertical-align: middle;\n",
       "    }\n",
       "\n",
       "    .dataframe tbody tr th {\n",
       "        vertical-align: top;\n",
       "    }\n",
       "\n",
       "    .dataframe thead th {\n",
       "        text-align: right;\n",
       "    }\n",
       "</style>\n",
       "<table border=\"1\" class=\"dataframe\">\n",
       "  <thead>\n",
       "    <tr style=\"text-align: right;\">\n",
       "      <th></th>\n",
       "      <th>p_num</th>\n",
       "      <th>time</th>\n",
       "      <th>bg-5:55</th>\n",
       "      <th>bg-5:50</th>\n",
       "      <th>bg-5:45</th>\n",
       "      <th>bg-5:40</th>\n",
       "      <th>bg-5:35</th>\n",
       "      <th>bg-5:30</th>\n",
       "      <th>bg-5:25</th>\n",
       "      <th>bg-5:20</th>\n",
       "      <th>...</th>\n",
       "      <th>activity-0:40</th>\n",
       "      <th>activity-0:35</th>\n",
       "      <th>activity-0:30</th>\n",
       "      <th>activity-0:25</th>\n",
       "      <th>activity-0:20</th>\n",
       "      <th>activity-0:15</th>\n",
       "      <th>activity-0:10</th>\n",
       "      <th>activity-0:05</th>\n",
       "      <th>activity-0:00</th>\n",
       "      <th>bg+1:00</th>\n",
       "    </tr>\n",
       "  </thead>\n",
       "  <tbody>\n",
       "    <tr>\n",
       "      <th>p01_0</th>\n",
       "      <td>p01</td>\n",
       "      <td>06:10:00</td>\n",
       "      <td>NaN</td>\n",
       "      <td>NaN</td>\n",
       "      <td>9.6</td>\n",
       "      <td>NaN</td>\n",
       "      <td>NaN</td>\n",
       "      <td>9.7</td>\n",
       "      <td>NaN</td>\n",
       "      <td>NaN</td>\n",
       "      <td>...</td>\n",
       "      <td>NaN</td>\n",
       "      <td>NaN</td>\n",
       "      <td>NaN</td>\n",
       "      <td>NaN</td>\n",
       "      <td>NaN</td>\n",
       "      <td>NaN</td>\n",
       "      <td>NaN</td>\n",
       "      <td>NaN</td>\n",
       "      <td>NaN</td>\n",
       "      <td>13.4</td>\n",
       "    </tr>\n",
       "    <tr>\n",
       "      <th>p01_1</th>\n",
       "      <td>p01</td>\n",
       "      <td>06:25:00</td>\n",
       "      <td>NaN</td>\n",
       "      <td>NaN</td>\n",
       "      <td>9.7</td>\n",
       "      <td>NaN</td>\n",
       "      <td>NaN</td>\n",
       "      <td>9.2</td>\n",
       "      <td>NaN</td>\n",
       "      <td>NaN</td>\n",
       "      <td>...</td>\n",
       "      <td>NaN</td>\n",
       "      <td>NaN</td>\n",
       "      <td>NaN</td>\n",
       "      <td>NaN</td>\n",
       "      <td>NaN</td>\n",
       "      <td>NaN</td>\n",
       "      <td>NaN</td>\n",
       "      <td>NaN</td>\n",
       "      <td>NaN</td>\n",
       "      <td>12.8</td>\n",
       "    </tr>\n",
       "    <tr>\n",
       "      <th>p01_2</th>\n",
       "      <td>p01</td>\n",
       "      <td>06:40:00</td>\n",
       "      <td>NaN</td>\n",
       "      <td>NaN</td>\n",
       "      <td>9.2</td>\n",
       "      <td>NaN</td>\n",
       "      <td>NaN</td>\n",
       "      <td>8.7</td>\n",
       "      <td>NaN</td>\n",
       "      <td>NaN</td>\n",
       "      <td>...</td>\n",
       "      <td>NaN</td>\n",
       "      <td>NaN</td>\n",
       "      <td>NaN</td>\n",
       "      <td>NaN</td>\n",
       "      <td>NaN</td>\n",
       "      <td>NaN</td>\n",
       "      <td>NaN</td>\n",
       "      <td>NaN</td>\n",
       "      <td>NaN</td>\n",
       "      <td>15.5</td>\n",
       "    </tr>\n",
       "    <tr>\n",
       "      <th>p01_3</th>\n",
       "      <td>p01</td>\n",
       "      <td>06:55:00</td>\n",
       "      <td>NaN</td>\n",
       "      <td>NaN</td>\n",
       "      <td>8.7</td>\n",
       "      <td>NaN</td>\n",
       "      <td>NaN</td>\n",
       "      <td>8.4</td>\n",
       "      <td>NaN</td>\n",
       "      <td>NaN</td>\n",
       "      <td>...</td>\n",
       "      <td>NaN</td>\n",
       "      <td>NaN</td>\n",
       "      <td>NaN</td>\n",
       "      <td>NaN</td>\n",
       "      <td>NaN</td>\n",
       "      <td>NaN</td>\n",
       "      <td>NaN</td>\n",
       "      <td>NaN</td>\n",
       "      <td>NaN</td>\n",
       "      <td>14.8</td>\n",
       "    </tr>\n",
       "    <tr>\n",
       "      <th>p01_4</th>\n",
       "      <td>p01</td>\n",
       "      <td>07:10:00</td>\n",
       "      <td>NaN</td>\n",
       "      <td>NaN</td>\n",
       "      <td>8.4</td>\n",
       "      <td>NaN</td>\n",
       "      <td>NaN</td>\n",
       "      <td>8.1</td>\n",
       "      <td>NaN</td>\n",
       "      <td>NaN</td>\n",
       "      <td>...</td>\n",
       "      <td>NaN</td>\n",
       "      <td>NaN</td>\n",
       "      <td>NaN</td>\n",
       "      <td>NaN</td>\n",
       "      <td>NaN</td>\n",
       "      <td>NaN</td>\n",
       "      <td>NaN</td>\n",
       "      <td>NaN</td>\n",
       "      <td>NaN</td>\n",
       "      <td>12.7</td>\n",
       "    </tr>\n",
       "  </tbody>\n",
       "</table>\n",
       "<p>5 rows × 507 columns</p>\n",
       "</div>"
      ]
     },
     "execution_count": 2,
     "metadata": {},
     "output_type": "execute_result"
    }
   ],
   "execution_count": 2
  },
  {
   "metadata": {
    "ExecuteTime": {
     "end_time": "2024-11-15T06:03:30.061482Z",
     "start_time": "2024-11-15T06:03:29.976977Z"
    }
   },
   "cell_type": "code",
   "source": [
    "test_data_file = os.path.join('..', '..', '..', '..', 'data', 'raw', 'test.csv')\n",
    "all_test_data = pd.read_csv(test_data_file, index_col=0, low_memory=False)"
   ],
   "id": "1d69894e8d1a30b9",
   "outputs": [],
   "execution_count": 3
  },
  {
   "metadata": {},
   "cell_type": "markdown",
   "source": "## Load patient-specific models",
   "id": "9dfb61157526ab49"
  },
  {
   "metadata": {
    "ExecuteTime": {
     "end_time": "2024-11-15T06:03:30.162909Z",
     "start_time": "2024-11-15T06:03:30.151799Z"
    }
   },
   "cell_type": "code",
   "source": [
    "patient_ids = all_train_data['p_num'].unique()\n",
    "patient_ids"
   ],
   "id": "7935676076a15baa",
   "outputs": [
    {
     "data": {
      "text/plain": [
       "array(['p01', 'p02', 'p03', 'p04', 'p05', 'p06', 'p10', 'p11', 'p12',\n",
       "       'p15', 'p16', 'p18', 'p19', 'p21', 'p22', 'p24'], dtype=object)"
      ]
     },
     "execution_count": 4,
     "metadata": {},
     "output_type": "execute_result"
    }
   ],
   "execution_count": 4
  },
  {
   "metadata": {},
   "cell_type": "markdown",
   "source": "# Prepare test results",
   "id": "ab64321f938f2894"
  },
  {
   "metadata": {
    "ExecuteTime": {
     "end_time": "2024-11-15T06:03:30.173627Z",
     "start_time": "2024-11-15T06:03:30.170494Z"
    }
   },
   "cell_type": "code",
   "source": [
    "submission = pd.DataFrame(index=all_test_data.index.copy())\n",
    "submission['bg+1:00'] = -1.0"
   ],
   "id": "2e5b17040b5cd8cc",
   "outputs": [],
   "execution_count": 5
  },
  {
   "metadata": {
    "ExecuteTime": {
     "end_time": "2024-11-15T07:28:36.539829Z",
     "start_time": "2024-11-15T06:03:30.180690Z"
    }
   },
   "cell_type": "code",
   "source": [
    "from pipelines import pipeline\n",
    "\n",
    "patient_ids = all_train_data['p_num'].unique()\n",
    "fitted_columns = []\n",
    "\n",
    "specific_models = {}\n",
    "for p_num in patient_ids:\n",
    "    specific_model_file = f'BaggingPolynomialFeaturesRidgeCV.{p_num}.model.pkl'\n",
    "    print(f'Loading {specific_model_file}')\n",
    "    model = joblib.load(specific_model_file)\n",
    "    model_name = specific_model_file.replace('.model.pkl', '')\n",
    "\n",
    "    print(f'Preparing data for {p_num}')\n",
    "    train_data = all_train_data[all_train_data['p_num'] == p_num]\n",
    "    train_data = train_data.drop(columns=['p_num'])\n",
    "    train_data = pipeline.fit_transform(train_data)\n",
    "    \n",
    "    X = train_data.drop(columns=['bg+1:00'])\n",
    "    y = np.log1p(train_data['bg+1:00'])\n",
    "\n",
    "    print(f'Fitting {specific_model_file}')\n",
    "    fitted_columns = X.columns\n",
    "    model.fit(X=X, y=y)\n",
    "    specific_models[p_num] = model"
   ],
   "id": "754fae33aa791826",
   "outputs": [
    {
     "name": "stdout",
     "output_type": "stream",
     "text": [
      "Loading BaggingPolynomialFeaturesRidgeCV.p01.model.pkl\n",
      "Preparing data for p01\n",
      "Fitting BaggingPolynomialFeaturesRidgeCV.p01.model.pkl\n"
     ]
    },
    {
     "name": "stderr",
     "output_type": "stream",
     "text": [
      "[Parallel(n_jobs=8)]: Using backend LokyBackend with 8 concurrent workers.\n",
      "[Parallel(n_jobs=8)]: Done   2 out of   8 | elapsed:  3.4min remaining: 10.1min\n",
      "[Parallel(n_jobs=8)]: Done   8 out of   8 | elapsed:  4.1min finished\n"
     ]
    },
    {
     "name": "stdout",
     "output_type": "stream",
     "text": [
      "Loading BaggingPolynomialFeaturesRidgeCV.p02.model.pkl\n",
      "Preparing data for p02\n",
      "Fitting BaggingPolynomialFeaturesRidgeCV.p02.model.pkl\n"
     ]
    },
    {
     "name": "stderr",
     "output_type": "stream",
     "text": [
      "[Parallel(n_jobs=8)]: Using backend LokyBackend with 8 concurrent workers.\n",
      "[Parallel(n_jobs=8)]: Done   2 out of   8 | elapsed:  9.6min remaining: 28.7min\n",
      "[Parallel(n_jobs=8)]: Done   8 out of   8 | elapsed: 10.8min finished\n"
     ]
    },
    {
     "name": "stdout",
     "output_type": "stream",
     "text": [
      "Loading BaggingPolynomialFeaturesRidgeCV.p03.model.pkl\n",
      "Preparing data for p03\n",
      "Fitting BaggingPolynomialFeaturesRidgeCV.p03.model.pkl\n"
     ]
    },
    {
     "name": "stderr",
     "output_type": "stream",
     "text": [
      "[Parallel(n_jobs=8)]: Using backend LokyBackend with 8 concurrent workers.\n",
      "[Parallel(n_jobs=8)]: Done   2 out of   8 | elapsed:  5.2min remaining: 15.6min\n",
      "[Parallel(n_jobs=8)]: Done   8 out of   8 | elapsed:  6.3min finished\n"
     ]
    },
    {
     "name": "stdout",
     "output_type": "stream",
     "text": [
      "Loading BaggingPolynomialFeaturesRidgeCV.p04.model.pkl\n",
      "Preparing data for p04\n",
      "Fitting BaggingPolynomialFeaturesRidgeCV.p04.model.pkl\n"
     ]
    },
    {
     "name": "stderr",
     "output_type": "stream",
     "text": [
      "[Parallel(n_jobs=8)]: Using backend LokyBackend with 8 concurrent workers.\n",
      "[Parallel(n_jobs=8)]: Done   2 out of   8 | elapsed:  9.6min remaining: 28.9min\n",
      "[Parallel(n_jobs=8)]: Done   8 out of   8 | elapsed: 11.1min finished\n"
     ]
    },
    {
     "name": "stdout",
     "output_type": "stream",
     "text": [
      "Loading BaggingPolynomialFeaturesRidgeCV.p05.model.pkl\n",
      "Preparing data for p05\n",
      "Fitting BaggingPolynomialFeaturesRidgeCV.p05.model.pkl\n"
     ]
    },
    {
     "name": "stderr",
     "output_type": "stream",
     "text": [
      "[Parallel(n_jobs=8)]: Using backend LokyBackend with 8 concurrent workers.\n",
      "[Parallel(n_jobs=8)]: Done   2 out of   8 | elapsed:  3.6min remaining: 10.9min\n",
      "[Parallel(n_jobs=8)]: Done   8 out of   8 | elapsed:  4.4min finished\n"
     ]
    },
    {
     "name": "stdout",
     "output_type": "stream",
     "text": [
      "Loading BaggingPolynomialFeaturesRidgeCV.p06.model.pkl\n",
      "Preparing data for p06\n",
      "Fitting BaggingPolynomialFeaturesRidgeCV.p06.model.pkl\n"
     ]
    },
    {
     "name": "stderr",
     "output_type": "stream",
     "text": [
      "[Parallel(n_jobs=8)]: Using backend LokyBackend with 8 concurrent workers.\n",
      "[Parallel(n_jobs=8)]: Done   2 out of   8 | elapsed:  3.3min remaining:  9.9min\n",
      "[Parallel(n_jobs=8)]: Done   8 out of   8 | elapsed:  4.0min finished\n"
     ]
    },
    {
     "name": "stdout",
     "output_type": "stream",
     "text": [
      "Loading BaggingPolynomialFeaturesRidgeCV.p10.model.pkl\n",
      "Preparing data for p10\n",
      "Fitting BaggingPolynomialFeaturesRidgeCV.p10.model.pkl\n"
     ]
    },
    {
     "name": "stderr",
     "output_type": "stream",
     "text": [
      "[Parallel(n_jobs=8)]: Using backend LokyBackend with 8 concurrent workers.\n",
      "[Parallel(n_jobs=8)]: Done   2 out of   8 | elapsed:  5.1min remaining: 15.3min\n",
      "[Parallel(n_jobs=8)]: Done   8 out of   8 | elapsed:  6.9min finished\n"
     ]
    },
    {
     "name": "stdout",
     "output_type": "stream",
     "text": [
      "Loading BaggingPolynomialFeaturesRidgeCV.p11.model.pkl\n",
      "Preparing data for p11\n",
      "Fitting BaggingPolynomialFeaturesRidgeCV.p11.model.pkl\n"
     ]
    },
    {
     "name": "stderr",
     "output_type": "stream",
     "text": [
      "[Parallel(n_jobs=8)]: Using backend LokyBackend with 8 concurrent workers.\n",
      "[Parallel(n_jobs=8)]: Done   2 out of   8 | elapsed:  6.3min remaining: 18.8min\n",
      "[Parallel(n_jobs=8)]: Done   8 out of   8 | elapsed:  7.8min finished\n"
     ]
    },
    {
     "name": "stdout",
     "output_type": "stream",
     "text": [
      "Loading BaggingPolynomialFeaturesRidgeCV.p12.model.pkl\n",
      "Preparing data for p12\n",
      "Fitting BaggingPolynomialFeaturesRidgeCV.p12.model.pkl\n"
     ]
    },
    {
     "name": "stderr",
     "output_type": "stream",
     "text": [
      "[Parallel(n_jobs=8)]: Using backend LokyBackend with 8 concurrent workers.\n",
      "[Parallel(n_jobs=8)]: Done   2 out of   8 | elapsed:  9.3min remaining: 27.9min\n",
      "[Parallel(n_jobs=8)]: Done   8 out of   8 | elapsed: 11.0min finished\n"
     ]
    },
    {
     "name": "stdout",
     "output_type": "stream",
     "text": [
      "Loading BaggingPolynomialFeaturesRidgeCV.p15.model.pkl\n",
      "Preparing data for p15\n",
      "Fitting BaggingPolynomialFeaturesRidgeCV.p15.model.pkl\n"
     ]
    },
    {
     "name": "stderr",
     "output_type": "stream",
     "text": [
      "[Parallel(n_jobs=8)]: Using backend LokyBackend with 8 concurrent workers.\n",
      "[Parallel(n_jobs=8)]: Done   2 out of   8 | elapsed:  2.3min remaining:  6.9min\n",
      "[Parallel(n_jobs=8)]: Done   8 out of   8 | elapsed:  2.9min finished\n"
     ]
    },
    {
     "name": "stdout",
     "output_type": "stream",
     "text": [
      "Loading BaggingPolynomialFeaturesRidgeCV.p16.model.pkl\n",
      "Preparing data for p16\n",
      "Fitting BaggingPolynomialFeaturesRidgeCV.p16.model.pkl\n"
     ]
    },
    {
     "name": "stderr",
     "output_type": "stream",
     "text": [
      "[Parallel(n_jobs=8)]: Using backend LokyBackend with 8 concurrent workers.\n",
      "[Parallel(n_jobs=8)]: Done   2 out of   8 | elapsed:  2.0min remaining:  6.1min\n",
      "[Parallel(n_jobs=8)]: Done   8 out of   8 | elapsed:  2.6min finished\n"
     ]
    },
    {
     "name": "stdout",
     "output_type": "stream",
     "text": [
      "Loading BaggingPolynomialFeaturesRidgeCV.p18.model.pkl\n",
      "Preparing data for p18\n",
      "Fitting BaggingPolynomialFeaturesRidgeCV.p18.model.pkl\n"
     ]
    },
    {
     "name": "stderr",
     "output_type": "stream",
     "text": [
      "[Parallel(n_jobs=8)]: Using backend LokyBackend with 8 concurrent workers.\n",
      "[Parallel(n_jobs=8)]: Done   2 out of   8 | elapsed:  1.9min remaining:  5.8min\n",
      "[Parallel(n_jobs=8)]: Done   8 out of   8 | elapsed:  2.5min finished\n"
     ]
    },
    {
     "name": "stdout",
     "output_type": "stream",
     "text": [
      "Loading BaggingPolynomialFeaturesRidgeCV.p19.model.pkl\n",
      "Preparing data for p19\n",
      "Fitting BaggingPolynomialFeaturesRidgeCV.p19.model.pkl\n"
     ]
    },
    {
     "name": "stderr",
     "output_type": "stream",
     "text": [
      "[Parallel(n_jobs=8)]: Using backend LokyBackend with 8 concurrent workers.\n",
      "[Parallel(n_jobs=8)]: Done   2 out of   8 | elapsed:  2.0min remaining:  6.1min\n",
      "[Parallel(n_jobs=8)]: Done   8 out of   8 | elapsed:  2.6min finished\n"
     ]
    },
    {
     "name": "stdout",
     "output_type": "stream",
     "text": [
      "Loading BaggingPolynomialFeaturesRidgeCV.p21.model.pkl\n",
      "Preparing data for p21\n",
      "Fitting BaggingPolynomialFeaturesRidgeCV.p21.model.pkl\n"
     ]
    },
    {
     "name": "stderr",
     "output_type": "stream",
     "text": [
      "[Parallel(n_jobs=8)]: Using backend LokyBackend with 8 concurrent workers.\n",
      "[Parallel(n_jobs=8)]: Done   2 out of   8 | elapsed:  2.1min remaining:  6.3min\n",
      "[Parallel(n_jobs=8)]: Done   8 out of   8 | elapsed:  2.7min finished\n"
     ]
    },
    {
     "name": "stdout",
     "output_type": "stream",
     "text": [
      "Loading BaggingPolynomialFeaturesRidgeCV.p22.model.pkl\n",
      "Preparing data for p22\n",
      "Fitting BaggingPolynomialFeaturesRidgeCV.p22.model.pkl\n"
     ]
    },
    {
     "name": "stderr",
     "output_type": "stream",
     "text": [
      "[Parallel(n_jobs=8)]: Using backend LokyBackend with 8 concurrent workers.\n",
      "[Parallel(n_jobs=8)]: Done   2 out of   8 | elapsed:  1.9min remaining:  5.7min\n",
      "[Parallel(n_jobs=8)]: Done   8 out of   8 | elapsed:  2.4min finished\n"
     ]
    },
    {
     "name": "stdout",
     "output_type": "stream",
     "text": [
      "Loading BaggingPolynomialFeaturesRidgeCV.p24.model.pkl\n",
      "Preparing data for p24\n",
      "Fitting BaggingPolynomialFeaturesRidgeCV.p24.model.pkl\n"
     ]
    },
    {
     "name": "stderr",
     "output_type": "stream",
     "text": [
      "[Parallel(n_jobs=8)]: Using backend LokyBackend with 8 concurrent workers.\n",
      "[Parallel(n_jobs=8)]: Done   2 out of   8 | elapsed:  2.1min remaining:  6.4min\n",
      "[Parallel(n_jobs=8)]: Done   8 out of   8 | elapsed:  2.7min finished\n"
     ]
    }
   ],
   "execution_count": 6
  },
  {
   "metadata": {
    "ExecuteTime": {
     "end_time": "2024-11-15T07:28:51.881291Z",
     "start_time": "2024-11-15T07:28:36.639079Z"
    }
   },
   "cell_type": "code",
   "source": [
    "from pipelines import pipeline\n",
    "\n",
    "# Predict the bg+1:00 values\n",
    "for p_num in patient_ids:\n",
    "    print(f'----------------------------------------')\n",
    "    print(f'Load model for {p_num}')\n",
    "    model = specific_models[p_num]\n",
    "\n",
    "    print(f'Prepare data for {p_num}')\n",
    "    train_data = all_train_data[all_train_data['p_num'] == p_num]\n",
    "    pipeline.fit_transform(train_data)\n",
    "    \n",
    "    test_data = all_test_data[all_test_data['p_num'] == p_num]\n",
    "    if len(test_data) == 0:\n",
    "        continue\n",
    "    test_data = pipeline.transform(test_data)\n",
    "    X = test_data.drop(columns=['p_num'])\n",
    "    X = X[fitted_columns]\n",
    "\n",
    "    print(f'Predict for {p_num}')\n",
    "    prediction = np.expm1(model.predict(X=X))\n",
    "    submission.loc[submission.index.isin(test_data.index), 'bg+1:00'] = prediction"
   ],
   "id": "d2121e01c0493e29",
   "outputs": [
    {
     "name": "stdout",
     "output_type": "stream",
     "text": [
      "----------------------------------------\n",
      "Load model for p01\n",
      "Prepare data for p01\n",
      "Predict for p01\n",
      "----------------------------------------\n",
      "Load model for p02\n",
      "Prepare data for p02\n"
     ]
    },
    {
     "name": "stderr",
     "output_type": "stream",
     "text": [
      "[Parallel(n_jobs=8)]: Using backend LokyBackend with 8 concurrent workers.\n",
      "[Parallel(n_jobs=8)]: Done   2 out of   8 | elapsed:    0.0s remaining:    0.1s\n",
      "[Parallel(n_jobs=8)]: Done   8 out of   8 | elapsed:    0.0s finished\n"
     ]
    },
    {
     "name": "stdout",
     "output_type": "stream",
     "text": [
      "Predict for p02\n",
      "----------------------------------------\n",
      "Load model for p03\n",
      "Prepare data for p03\n"
     ]
    },
    {
     "name": "stderr",
     "output_type": "stream",
     "text": [
      "[Parallel(n_jobs=8)]: Using backend LokyBackend with 8 concurrent workers.\n",
      "[Parallel(n_jobs=8)]: Done   2 out of   8 | elapsed:    0.0s remaining:    0.0s\n",
      "[Parallel(n_jobs=8)]: Done   8 out of   8 | elapsed:    0.0s finished\n"
     ]
    },
    {
     "name": "stdout",
     "output_type": "stream",
     "text": [
      "----------------------------------------\n",
      "Load model for p04\n",
      "Prepare data for p04\n",
      "Predict for p04\n",
      "----------------------------------------\n",
      "Load model for p05\n",
      "Prepare data for p05\n"
     ]
    },
    {
     "name": "stderr",
     "output_type": "stream",
     "text": [
      "[Parallel(n_jobs=8)]: Using backend LokyBackend with 8 concurrent workers.\n",
      "[Parallel(n_jobs=8)]: Done   2 out of   8 | elapsed:    0.0s remaining:    0.0s\n",
      "[Parallel(n_jobs=8)]: Done   8 out of   8 | elapsed:    0.0s finished\n"
     ]
    },
    {
     "name": "stdout",
     "output_type": "stream",
     "text": [
      "Predict for p05\n",
      "----------------------------------------\n",
      "Load model for p06\n",
      "Prepare data for p06\n"
     ]
    },
    {
     "name": "stderr",
     "output_type": "stream",
     "text": [
      "[Parallel(n_jobs=8)]: Using backend LokyBackend with 8 concurrent workers.\n",
      "[Parallel(n_jobs=8)]: Done   2 out of   8 | elapsed:    0.0s remaining:    0.0s\n",
      "[Parallel(n_jobs=8)]: Done   8 out of   8 | elapsed:    0.0s finished\n"
     ]
    },
    {
     "name": "stdout",
     "output_type": "stream",
     "text": [
      "Predict for p06\n",
      "----------------------------------------\n",
      "Load model for p10\n",
      "Prepare data for p10\n"
     ]
    },
    {
     "name": "stderr",
     "output_type": "stream",
     "text": [
      "[Parallel(n_jobs=8)]: Using backend LokyBackend with 8 concurrent workers.\n",
      "[Parallel(n_jobs=8)]: Done   2 out of   8 | elapsed:    0.0s remaining:    0.0s\n",
      "[Parallel(n_jobs=8)]: Done   8 out of   8 | elapsed:    0.0s finished\n"
     ]
    },
    {
     "name": "stdout",
     "output_type": "stream",
     "text": [
      "Predict for p10\n",
      "----------------------------------------\n",
      "Load model for p11\n",
      "Prepare data for p11\n"
     ]
    },
    {
     "name": "stderr",
     "output_type": "stream",
     "text": [
      "[Parallel(n_jobs=8)]: Using backend LokyBackend with 8 concurrent workers.\n",
      "[Parallel(n_jobs=8)]: Done   2 out of   8 | elapsed:    0.0s remaining:    0.0s\n",
      "[Parallel(n_jobs=8)]: Done   8 out of   8 | elapsed:    0.0s finished\n"
     ]
    },
    {
     "name": "stdout",
     "output_type": "stream",
     "text": [
      "Predict for p11\n",
      "----------------------------------------\n",
      "Load model for p12\n",
      "Prepare data for p12\n"
     ]
    },
    {
     "name": "stderr",
     "output_type": "stream",
     "text": [
      "[Parallel(n_jobs=8)]: Using backend LokyBackend with 8 concurrent workers.\n",
      "[Parallel(n_jobs=8)]: Done   2 out of   8 | elapsed:    0.0s remaining:    0.0s\n",
      "[Parallel(n_jobs=8)]: Done   8 out of   8 | elapsed:    0.0s finished\n"
     ]
    },
    {
     "name": "stdout",
     "output_type": "stream",
     "text": [
      "Predict for p12\n",
      "----------------------------------------\n",
      "Load model for p15\n",
      "Prepare data for p15\n"
     ]
    },
    {
     "name": "stderr",
     "output_type": "stream",
     "text": [
      "[Parallel(n_jobs=8)]: Using backend LokyBackend with 8 concurrent workers.\n",
      "[Parallel(n_jobs=8)]: Done   2 out of   8 | elapsed:    0.0s remaining:    0.0s\n",
      "[Parallel(n_jobs=8)]: Done   8 out of   8 | elapsed:    0.0s finished\n"
     ]
    },
    {
     "name": "stdout",
     "output_type": "stream",
     "text": [
      "Predict for p15\n",
      "----------------------------------------\n",
      "Load model for p16\n",
      "Prepare data for p16\n"
     ]
    },
    {
     "name": "stderr",
     "output_type": "stream",
     "text": [
      "[Parallel(n_jobs=8)]: Using backend LokyBackend with 8 concurrent workers.\n",
      "[Parallel(n_jobs=8)]: Done   2 out of   8 | elapsed:    0.0s remaining:    0.0s\n",
      "[Parallel(n_jobs=8)]: Done   8 out of   8 | elapsed:    0.0s finished\n"
     ]
    },
    {
     "name": "stdout",
     "output_type": "stream",
     "text": [
      "Predict for p16\n",
      "----------------------------------------\n",
      "Load model for p18\n",
      "Prepare data for p18\n"
     ]
    },
    {
     "name": "stderr",
     "output_type": "stream",
     "text": [
      "[Parallel(n_jobs=8)]: Using backend LokyBackend with 8 concurrent workers.\n",
      "[Parallel(n_jobs=8)]: Done   2 out of   8 | elapsed:    0.0s remaining:    0.0s\n",
      "[Parallel(n_jobs=8)]: Done   8 out of   8 | elapsed:    0.0s finished\n"
     ]
    },
    {
     "name": "stdout",
     "output_type": "stream",
     "text": [
      "Predict for p18\n",
      "----------------------------------------\n",
      "Load model for p19\n",
      "Prepare data for p19\n"
     ]
    },
    {
     "name": "stderr",
     "output_type": "stream",
     "text": [
      "[Parallel(n_jobs=8)]: Using backend LokyBackend with 8 concurrent workers.\n",
      "[Parallel(n_jobs=8)]: Done   2 out of   8 | elapsed:    0.0s remaining:    0.0s\n",
      "[Parallel(n_jobs=8)]: Done   8 out of   8 | elapsed:    0.0s finished\n"
     ]
    },
    {
     "name": "stdout",
     "output_type": "stream",
     "text": [
      "Predict for p19\n",
      "----------------------------------------\n",
      "Load model for p21\n",
      "Prepare data for p21\n"
     ]
    },
    {
     "name": "stderr",
     "output_type": "stream",
     "text": [
      "[Parallel(n_jobs=8)]: Using backend LokyBackend with 8 concurrent workers.\n",
      "[Parallel(n_jobs=8)]: Done   2 out of   8 | elapsed:    0.0s remaining:    0.0s\n",
      "[Parallel(n_jobs=8)]: Done   8 out of   8 | elapsed:    0.0s finished\n"
     ]
    },
    {
     "name": "stdout",
     "output_type": "stream",
     "text": [
      "Predict for p21\n",
      "----------------------------------------\n",
      "Load model for p22\n",
      "Prepare data for p22\n"
     ]
    },
    {
     "name": "stderr",
     "output_type": "stream",
     "text": [
      "[Parallel(n_jobs=8)]: Using backend LokyBackend with 8 concurrent workers.\n",
      "[Parallel(n_jobs=8)]: Done   2 out of   8 | elapsed:    0.0s remaining:    0.0s\n",
      "[Parallel(n_jobs=8)]: Done   8 out of   8 | elapsed:    0.0s finished\n"
     ]
    },
    {
     "name": "stdout",
     "output_type": "stream",
     "text": [
      "Predict for p22\n",
      "----------------------------------------\n",
      "Load model for p24\n",
      "Prepare data for p24\n"
     ]
    },
    {
     "name": "stderr",
     "output_type": "stream",
     "text": [
      "[Parallel(n_jobs=8)]: Using backend LokyBackend with 8 concurrent workers.\n",
      "[Parallel(n_jobs=8)]: Done   2 out of   8 | elapsed:    0.0s remaining:    0.0s\n",
      "[Parallel(n_jobs=8)]: Done   8 out of   8 | elapsed:    0.0s finished\n"
     ]
    },
    {
     "name": "stdout",
     "output_type": "stream",
     "text": [
      "Predict for p24\n"
     ]
    },
    {
     "name": "stderr",
     "output_type": "stream",
     "text": [
      "[Parallel(n_jobs=8)]: Using backend LokyBackend with 8 concurrent workers.\n",
      "[Parallel(n_jobs=8)]: Done   2 out of   8 | elapsed:    0.0s remaining:    0.0s\n",
      "[Parallel(n_jobs=8)]: Done   8 out of   8 | elapsed:    0.0s finished\n"
     ]
    }
   ],
   "execution_count": 7
  },
  {
   "metadata": {},
   "cell_type": "markdown",
   "source": [
    "## Prepare the submission file\n",
    "\n",
    "### Save the submission file"
   ],
   "id": "62816c36690eb120"
  },
  {
   "metadata": {
    "ExecuteTime": {
     "end_time": "2024-11-15T07:28:51.894559Z",
     "start_time": "2024-11-15T07:28:51.891001Z"
    }
   },
   "cell_type": "code",
   "source": [
    "# check if there are missing predictions in the submission\n",
    "missing_predictions = submission[submission['bg+1:00'] == -1.0]\n",
    "missing_predictions"
   ],
   "id": "ec630f6b003f48f",
   "outputs": [
    {
     "data": {
      "text/plain": [
       "Empty DataFrame\n",
       "Columns: [bg+1:00]\n",
       "Index: []"
      ],
      "text/html": [
       "<div>\n",
       "<style scoped>\n",
       "    .dataframe tbody tr th:only-of-type {\n",
       "        vertical-align: middle;\n",
       "    }\n",
       "\n",
       "    .dataframe tbody tr th {\n",
       "        vertical-align: top;\n",
       "    }\n",
       "\n",
       "    .dataframe thead th {\n",
       "        text-align: right;\n",
       "    }\n",
       "</style>\n",
       "<table border=\"1\" class=\"dataframe\">\n",
       "  <thead>\n",
       "    <tr style=\"text-align: right;\">\n",
       "      <th></th>\n",
       "      <th>bg+1:00</th>\n",
       "    </tr>\n",
       "    <tr>\n",
       "      <th>id</th>\n",
       "      <th></th>\n",
       "    </tr>\n",
       "  </thead>\n",
       "  <tbody>\n",
       "  </tbody>\n",
       "</table>\n",
       "</div>"
      ]
     },
     "execution_count": 8,
     "metadata": {},
     "output_type": "execute_result"
    }
   ],
   "execution_count": 8
  },
  {
   "metadata": {
    "ExecuteTime": {
     "end_time": "2024-11-15T07:28:51.961678Z",
     "start_time": "2024-11-15T07:28:51.950581Z"
    }
   },
   "cell_type": "code",
   "source": [
    "submission.to_csv(f'submission-{os.path.basename(os.getcwd())}.csv')\n",
    "submission"
   ],
   "id": "a9c239f3e1efc4c9",
   "outputs": [
    {
     "data": {
      "text/plain": [
       "            bg+1:00\n",
       "id                 \n",
       "p01_8459   8.367717\n",
       "p01_8460   4.995464\n",
       "p01_8461   9.116430\n",
       "p01_8462  12.423482\n",
       "p01_8463   7.668889\n",
       "...             ...\n",
       "p24_256    6.688516\n",
       "p24_257   14.335296\n",
       "p24_258    6.405231\n",
       "p24_259    7.913255\n",
       "p24_260    6.248476\n",
       "\n",
       "[3644 rows x 1 columns]"
      ],
      "text/html": [
       "<div>\n",
       "<style scoped>\n",
       "    .dataframe tbody tr th:only-of-type {\n",
       "        vertical-align: middle;\n",
       "    }\n",
       "\n",
       "    .dataframe tbody tr th {\n",
       "        vertical-align: top;\n",
       "    }\n",
       "\n",
       "    .dataframe thead th {\n",
       "        text-align: right;\n",
       "    }\n",
       "</style>\n",
       "<table border=\"1\" class=\"dataframe\">\n",
       "  <thead>\n",
       "    <tr style=\"text-align: right;\">\n",
       "      <th></th>\n",
       "      <th>bg+1:00</th>\n",
       "    </tr>\n",
       "    <tr>\n",
       "      <th>id</th>\n",
       "      <th></th>\n",
       "    </tr>\n",
       "  </thead>\n",
       "  <tbody>\n",
       "    <tr>\n",
       "      <th>p01_8459</th>\n",
       "      <td>8.367717</td>\n",
       "    </tr>\n",
       "    <tr>\n",
       "      <th>p01_8460</th>\n",
       "      <td>4.995464</td>\n",
       "    </tr>\n",
       "    <tr>\n",
       "      <th>p01_8461</th>\n",
       "      <td>9.116430</td>\n",
       "    </tr>\n",
       "    <tr>\n",
       "      <th>p01_8462</th>\n",
       "      <td>12.423482</td>\n",
       "    </tr>\n",
       "    <tr>\n",
       "      <th>p01_8463</th>\n",
       "      <td>7.668889</td>\n",
       "    </tr>\n",
       "    <tr>\n",
       "      <th>...</th>\n",
       "      <td>...</td>\n",
       "    </tr>\n",
       "    <tr>\n",
       "      <th>p24_256</th>\n",
       "      <td>6.688516</td>\n",
       "    </tr>\n",
       "    <tr>\n",
       "      <th>p24_257</th>\n",
       "      <td>14.335296</td>\n",
       "    </tr>\n",
       "    <tr>\n",
       "      <th>p24_258</th>\n",
       "      <td>6.405231</td>\n",
       "    </tr>\n",
       "    <tr>\n",
       "      <th>p24_259</th>\n",
       "      <td>7.913255</td>\n",
       "    </tr>\n",
       "    <tr>\n",
       "      <th>p24_260</th>\n",
       "      <td>6.248476</td>\n",
       "    </tr>\n",
       "  </tbody>\n",
       "</table>\n",
       "<p>3644 rows × 1 columns</p>\n",
       "</div>"
      ]
     },
     "execution_count": 9,
     "metadata": {},
     "output_type": "execute_result"
    }
   ],
   "execution_count": 9
  }
 ],
 "metadata": {
  "kernelspec": {
   "display_name": "Python 3",
   "language": "python",
   "name": "python3"
  },
  "language_info": {
   "codemirror_mode": {
    "name": "ipython",
    "version": 2
   },
   "file_extension": ".py",
   "mimetype": "text/x-python",
   "name": "python",
   "nbconvert_exporter": "python",
   "pygments_lexer": "ipython2",
   "version": "2.7.6"
  }
 },
 "nbformat": 4,
 "nbformat_minor": 5
}
