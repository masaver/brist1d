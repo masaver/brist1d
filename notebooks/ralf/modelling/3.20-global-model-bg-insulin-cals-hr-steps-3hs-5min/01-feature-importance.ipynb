{
 "cells": [
  {
   "metadata": {},
   "cell_type": "markdown",
   "source": [
    "# Modelling BG\n",
    "\n",
    "## Model Shapping"
   ],
   "id": "c4f5fa4ffbc53369"
  },
  {
   "metadata": {
    "ExecuteTime": {
     "end_time": "2024-11-15T08:20:55.209620Z",
     "start_time": "2024-11-15T08:20:55.206630Z"
    }
   },
   "cell_type": "code",
   "source": [
    "# Importing the libraries\n",
    "import numpy as np\n",
    "import os\n",
    "import pandas as pd"
   ],
   "id": "a3b2d749037733c4",
   "outputs": [],
   "execution_count": 9
  },
  {
   "metadata": {
    "ExecuteTime": {
     "end_time": "2024-11-15T08:21:06.319401Z",
     "start_time": "2024-11-15T08:20:55.221935Z"
    }
   },
   "cell_type": "code",
   "source": [
    "train_data_file = os.path.join('..', '..', '..', '..', 'data', 'raw', 'train.csv')\n",
    "train_data = pd.read_csv(train_data_file, index_col=0, low_memory=False)\n",
    "validation_data_file = os.path.join('..', '..', '..', '..', 'data', 'interim', 'all_test_3h.csv')\n",
    "validation_data = pd.read_csv(validation_data_file, low_memory=False)"
   ],
   "id": "b5353bb155196137",
   "outputs": [],
   "execution_count": 10
  },
  {
   "metadata": {},
   "cell_type": "markdown",
   "source": "## Train XGBoost model",
   "id": "82159de3bfdd45bc"
  },
  {
   "metadata": {
    "ExecuteTime": {
     "end_time": "2024-11-15T08:21:29.255930Z",
     "start_time": "2024-11-15T08:21:06.352320Z"
    }
   },
   "cell_type": "code",
   "source": [
    "# Load and preprocess the train data \n",
    "from pipelines import pipeline\n",
    "from src.features.tuners import XGBHyperparameterTuner\n",
    "from sklearn.metrics import root_mean_squared_error\n",
    "\n",
    "train_and_validation_data = pipeline.fit_transform(pd.concat([train_data, validation_data]))\n",
    "\n",
    "X = train_and_validation_data.drop(columns=['bg+1:00'])\n",
    "y = train_and_validation_data['bg+1:00']\n",
    "\n",
    "tuner = XGBHyperparameterTuner()\n",
    "model = tuner.regressor()\n",
    "\n",
    "y_log = np.log1p(y)\n",
    "model.fit(X=X, y=y_log)\n",
    "\n",
    "y_pred_log = model.predict(X=X)\n",
    "y_pred = np.expm1(y_pred_log)\n",
    "\n",
    "root_mean_squared_error(y_true=y, y_pred=y_pred)"
   ],
   "id": "2f7ab421d5ccf55c",
   "outputs": [
    {
     "data": {
      "text/plain": [
       "np.float64(1.796351646578227)"
      ]
     },
     "execution_count": 11,
     "metadata": {},
     "output_type": "execute_result"
    }
   ],
   "execution_count": 11
  },
  {
   "metadata": {},
   "cell_type": "markdown",
   "source": "## Feature importance",
   "id": "6862ce924b8a4c47"
  },
  {
   "metadata": {
    "ExecuteTime": {
     "end_time": "2024-11-15T08:22:01.172827Z",
     "start_time": "2024-11-15T08:21:29.296689Z"
    }
   },
   "cell_type": "code",
   "source": [
    "from src.features.helpers import ShapWrapper\n",
    "\n",
    "shp = ShapWrapper(model=model, X=X)\n",
    "features = shp.get_top_features_df()\n",
    "features"
   ],
   "id": "214e27276cd560c",
   "outputs": [
    {
     "data": {
      "text/plain": [
       "        feature  mean_abs_shap_value\n",
       "36      bg-0:00             0.208476\n",
       "35      bg-0:05             0.018501\n",
       "34      bg-0:10             0.013512\n",
       "33      bg-0:15             0.011111\n",
       "110     hr-0:00             0.009281\n",
       "..          ...                  ...\n",
       "112  steps-2:55             0.000151\n",
       "113  steps-2:50             0.000139\n",
       "115  steps-2:40             0.000107\n",
       "120  steps-2:15             0.000065\n",
       "119  steps-2:20             0.000055\n",
       "\n",
       "[208 rows x 2 columns]"
      ],
      "text/html": [
       "<div>\n",
       "<style scoped>\n",
       "    .dataframe tbody tr th:only-of-type {\n",
       "        vertical-align: middle;\n",
       "    }\n",
       "\n",
       "    .dataframe tbody tr th {\n",
       "        vertical-align: top;\n",
       "    }\n",
       "\n",
       "    .dataframe thead th {\n",
       "        text-align: right;\n",
       "    }\n",
       "</style>\n",
       "<table border=\"1\" class=\"dataframe\">\n",
       "  <thead>\n",
       "    <tr style=\"text-align: right;\">\n",
       "      <th></th>\n",
       "      <th>feature</th>\n",
       "      <th>mean_abs_shap_value</th>\n",
       "    </tr>\n",
       "  </thead>\n",
       "  <tbody>\n",
       "    <tr>\n",
       "      <th>36</th>\n",
       "      <td>bg-0:00</td>\n",
       "      <td>0.208476</td>\n",
       "    </tr>\n",
       "    <tr>\n",
       "      <th>35</th>\n",
       "      <td>bg-0:05</td>\n",
       "      <td>0.018501</td>\n",
       "    </tr>\n",
       "    <tr>\n",
       "      <th>34</th>\n",
       "      <td>bg-0:10</td>\n",
       "      <td>0.013512</td>\n",
       "    </tr>\n",
       "    <tr>\n",
       "      <th>33</th>\n",
       "      <td>bg-0:15</td>\n",
       "      <td>0.011111</td>\n",
       "    </tr>\n",
       "    <tr>\n",
       "      <th>110</th>\n",
       "      <td>hr-0:00</td>\n",
       "      <td>0.009281</td>\n",
       "    </tr>\n",
       "    <tr>\n",
       "      <th>...</th>\n",
       "      <td>...</td>\n",
       "      <td>...</td>\n",
       "    </tr>\n",
       "    <tr>\n",
       "      <th>112</th>\n",
       "      <td>steps-2:55</td>\n",
       "      <td>0.000151</td>\n",
       "    </tr>\n",
       "    <tr>\n",
       "      <th>113</th>\n",
       "      <td>steps-2:50</td>\n",
       "      <td>0.000139</td>\n",
       "    </tr>\n",
       "    <tr>\n",
       "      <th>115</th>\n",
       "      <td>steps-2:40</td>\n",
       "      <td>0.000107</td>\n",
       "    </tr>\n",
       "    <tr>\n",
       "      <th>120</th>\n",
       "      <td>steps-2:15</td>\n",
       "      <td>0.000065</td>\n",
       "    </tr>\n",
       "    <tr>\n",
       "      <th>119</th>\n",
       "      <td>steps-2:20</td>\n",
       "      <td>0.000055</td>\n",
       "    </tr>\n",
       "  </tbody>\n",
       "</table>\n",
       "<p>208 rows × 2 columns</p>\n",
       "</div>"
      ]
     },
     "execution_count": 12,
     "metadata": {},
     "output_type": "execute_result"
    }
   ],
   "execution_count": 12
  },
  {
   "metadata": {
    "ExecuteTime": {
     "end_time": "2024-11-15T08:27:29.668671Z",
     "start_time": "2024-11-15T08:22:01.322442Z"
    }
   },
   "cell_type": "code",
   "source": [
    "from tqdm.notebook import tqdm\n",
    "import numpy as np\n",
    "\n",
    "root_mean_squared_errors_train = {}\n",
    "root_mean_squared_errors_val = {}\n",
    "\n",
    "train_data_transformed = pipeline.fit_transform(train_data)\n",
    "validation_data_transformed = pipeline.transform(validation_data)\n",
    "\n",
    "X_train = train_data_transformed.drop(columns=['bg+1:00'])\n",
    "y_train = train_data_transformed['bg+1:00']\n",
    "\n",
    "X_val = validation_data_transformed.drop(columns=['bg+1:00'])\n",
    "y_val = validation_data_transformed['bg+1:00']\n",
    "\n",
    "for i in tqdm(range(1, len(shp.get_top_features()))):\n",
    "    X_train_loop = X_train[shp.get_top_features(i)]\n",
    "    X_val_loop = X_val[shp.get_top_features(i)]\n",
    "    model = tuner.regressor()\n",
    "\n",
    "    y_train_log = np.log1p(y_train)\n",
    "    model.fit(X=X_train_loop, y=y_train_log)\n",
    "    y_train_predict_log = model.predict(X=X_train_loop)\n",
    "    y_train_predict = np.expm1(y_train_predict_log)\n",
    "\n",
    "    y_pred_log = model.predict(X=X_val_loop)\n",
    "    y_pred = np.expm1(y_pred_log)\n",
    "\n",
    "    root_mean_squared_errors_train[i] = root_mean_squared_error(y_train, y_train_predict)\n",
    "    root_mean_squared_errors_val[i] = root_mean_squared_error(y_val, y_pred)\n"
   ],
   "id": "1460f03067af946a",
   "outputs": [
    {
     "data": {
      "text/plain": [
       "  0%|          | 0/207 [00:00<?, ?it/s]"
      ],
      "application/vnd.jupyter.widget-view+json": {
       "version_major": 2,
       "version_minor": 0,
       "model_id": "cddf7b24e37f427f8822a1dc124e7299"
      }
     },
     "metadata": {},
     "output_type": "display_data"
    }
   ],
   "execution_count": 13
  },
  {
   "metadata": {},
   "cell_type": "markdown",
   "source": "## Standardization",
   "id": "9f9e09f993edfc02"
  },
  {
   "metadata": {
    "ExecuteTime": {
     "end_time": "2024-11-15T08:27:29.821808Z",
     "start_time": "2024-11-15T08:27:29.723706Z"
    }
   },
   "cell_type": "code",
   "source": [
    "import matplotlib.pyplot as plt\n",
    "%matplotlib inline\n",
    "plt.plot(root_mean_squared_errors_train.values(), label='Train')\n",
    "plt.plot(root_mean_squared_errors_val.values(), label='Validation')\n",
    "plt.legend()\n",
    "plt.title('RMSE over number of top features')\n",
    "plt.xlabel('Number of top features')\n",
    "plt.ylabel('RMSE')\n",
    "plt.show()"
   ],
   "id": "46559a360ea3a3c8",
   "outputs": [
    {
     "data": {
      "text/plain": [
       "<Figure size 640x480 with 1 Axes>"
      ],
      "image/png": "[encoded data removed]"
     },
     "metadata": {},
     "output_type": "display_data"
    }
   ],
   "execution_count": 14
  },
  {
   "metadata": {
    "ExecuteTime": {
     "end_time": "2024-11-15T08:27:29.856848Z",
     "start_time": "2024-11-15T08:27:29.854988Z"
    }
   },
   "cell_type": "code",
   "source": [
    "# Find the key with the minimum value\n",
    "min_key = min(root_mean_squared_errors_val, key=root_mean_squared_errors_val.get)\n",
    "\n",
    "print(\"Index with the minimum value:\", min_key)\n",
    "print(\"Minimum value:\", root_mean_squared_errors_val[min_key])"
   ],
   "id": "2b8dc23dcc2d4e18",
   "outputs": [
    {
     "name": "stdout",
     "output_type": "stream",
     "text": [
      "Index with the minimum value: 5\n",
      "Minimum value: 2.246521761132507\n"
     ]
    }
   ],
   "execution_count": 15
  },
  {
   "metadata": {
    "ExecuteTime": {
     "end_time": "2024-11-15T08:27:29.933123Z",
     "start_time": "2024-11-15T08:27:29.893087Z"
    }
   },
   "cell_type": "code",
   "source": "shp.get_top_features(5)",
   "id": "5327e417686532d4",
   "outputs": [
    {
     "data": {
      "text/plain": [
       "['bg-0:00', 'bg-0:05', 'bg-0:10', 'bg-0:15', 'hr-0:00']"
      ]
     },
     "execution_count": 16,
     "metadata": {},
     "output_type": "execute_result"
    }
   ],
   "execution_count": 16
  },
  {
   "metadata": {
    "ExecuteTime": {
     "end_time": "2024-11-15T08:27:29.969494Z",
     "start_time": "2024-11-15T08:27:29.968040Z"
    }
   },
   "cell_type": "code",
   "source": "",
   "id": "8c50084ef203688c",
   "outputs": [],
   "execution_count": null
  }
 ],
 "metadata": {
  "kernelspec": {
   "display_name": "Python 3",
   "language": "python",
   "name": "python3"
  },
  "language_info": {
   "codemirror_mode": {
    "name": "ipython",
    "version": 2
   },
   "file_extension": ".py",
   "mimetype": "text/x-python",
   "name": "python",
   "nbconvert_exporter": "python",
   "pygments_lexer": "ipython2",
   "version": "2.7.6"
  }
 },
 "nbformat": 4,
 "nbformat_minor": 5
}
