{
 "cells": [
  {
   "metadata": {},
   "cell_type": "markdown",
   "source": [
    "# Modelling BG\n",
    "\n",
    "## Model Shapping"
   ],
   "id": "c4f5fa4ffbc53369"
  },
  {
   "metadata": {
    "ExecuteTime": {
     "end_time": "2024-11-14T21:31:36.789055Z",
     "start_time": "2024-11-14T21:31:36.504001Z"
    }
   },
   "cell_type": "code",
   "source": [
    "# Importing the libraries\n",
    "import numpy as np\n",
    "import os\n",
    "import pandas as pd"
   ],
   "id": "a3b2d749037733c4",
   "outputs": [],
   "execution_count": 1
  },
  {
   "metadata": {
    "ExecuteTime": {
     "end_time": "2024-11-14T21:31:46.761061Z",
     "start_time": "2024-11-14T21:31:36.792945Z"
    }
   },
   "cell_type": "code",
   "source": [
    "train_data_file = os.path.join('..', '..', '..', '..', 'data', 'raw', 'train.csv')\n",
    "train_data = pd.read_csv(train_data_file, index_col=0, low_memory=False)\n",
    "validation_data_file = os.path.join('..', '..', '..', '..', 'data', 'interim', 'all_test_3h.csv')\n",
    "validation_data = pd.read_csv(validation_data_file, low_memory=False)"
   ],
   "id": "b5353bb155196137",
   "outputs": [],
   "execution_count": 2
  },
  {
   "metadata": {},
   "cell_type": "markdown",
   "source": "## Train XGBoost model",
   "id": "82159de3bfdd45bc"
  },
  {
   "metadata": {
    "ExecuteTime": {
     "end_time": "2024-11-14T21:32:12.671149Z",
     "start_time": "2024-11-14T21:31:46.890904Z"
    }
   },
   "cell_type": "code",
   "source": [
    "# Load and preprocess the train data \n",
    "from pipelines import pipeline\n",
    "from src.features.tuners import XGBHyperparameterTuner\n",
    "from sklearn.metrics import root_mean_squared_error\n",
    "\n",
    "train_and_validation_data = pipeline.fit_transform(pd.concat([train_data, validation_data]))\n",
    "\n",
    "X = train_and_validation_data.drop(columns=['bg+1:00'])\n",
    "y = train_and_validation_data['bg+1:00']\n",
    "\n",
    "tuner = XGBHyperparameterTuner()\n",
    "model = tuner.regressor()\n",
    "\n",
    "y_log = np.log1p(y)\n",
    "model.fit(X=X, y=y_log)\n",
    "\n",
    "y_pred_log = model.predict(X=X)\n",
    "y_pred = np.expm1(y_pred_log)\n",
    "\n",
    "root_mean_squared_error(y_true=y, y_pred=y_pred)"
   ],
   "id": "2f7ab421d5ccf55c",
   "outputs": [
    {
     "data": {
      "text/plain": [
       "np.float64(1.796351646578227)"
      ]
     },
     "execution_count": 3,
     "metadata": {},
     "output_type": "execute_result"
    }
   ],
   "execution_count": 3
  },
  {
   "metadata": {},
   "cell_type": "markdown",
   "source": "## Feature importance",
   "id": "6862ce924b8a4c47"
  },
  {
   "metadata": {
    "ExecuteTime": {
     "end_time": "2024-11-14T21:32:49.769733Z",
     "start_time": "2024-11-14T21:32:12.752441Z"
    }
   },
   "cell_type": "code",
   "source": [
    "from src.features.helpers import ShapWrapper\n",
    "\n",
    "shp = ShapWrapper(model=model, X=X)\n",
    "features = shp.get_top_features_df()\n",
    "features"
   ],
   "id": "214e27276cd560c",
   "outputs": [
    {
     "data": {
      "text/plain": [
       "        feature  mean_abs_shap_value\n",
       "36      bg-0:00             0.208476\n",
       "35      bg-0:05             0.018501\n",
       "34      bg-0:10             0.013512\n",
       "33      bg-0:15             0.011111\n",
       "110     hr-0:00             0.009281\n",
       "..          ...                  ...\n",
       "112  steps-2:55             0.000151\n",
       "113  steps-2:50             0.000139\n",
       "115  steps-2:40             0.000107\n",
       "120  steps-2:15             0.000065\n",
       "119  steps-2:20             0.000055\n",
       "\n",
       "[208 rows x 2 columns]"
      ],
      "text/html": [
       "<div>\n",
       "<style scoped>\n",
       "    .dataframe tbody tr th:only-of-type {\n",
       "        vertical-align: middle;\n",
       "    }\n",
       "\n",
       "    .dataframe tbody tr th {\n",
       "        vertical-align: top;\n",
       "    }\n",
       "\n",
       "    .dataframe thead th {\n",
       "        text-align: right;\n",
       "    }\n",
       "</style>\n",
       "<table border=\"1\" class=\"dataframe\">\n",
       "  <thead>\n",
       "    <tr style=\"text-align: right;\">\n",
       "      <th></th>\n",
       "      <th>feature</th>\n",
       "      <th>mean_abs_shap_value</th>\n",
       "    </tr>\n",
       "  </thead>\n",
       "  <tbody>\n",
       "    <tr>\n",
       "      <th>36</th>\n",
       "      <td>bg-0:00</td>\n",
       "      <td>0.208476</td>\n",
       "    </tr>\n",
       "    <tr>\n",
       "      <th>35</th>\n",
       "      <td>bg-0:05</td>\n",
       "      <td>0.018501</td>\n",
       "    </tr>\n",
       "    <tr>\n",
       "      <th>34</th>\n",
       "      <td>bg-0:10</td>\n",
       "      <td>0.013512</td>\n",
       "    </tr>\n",
       "    <tr>\n",
       "      <th>33</th>\n",
       "      <td>bg-0:15</td>\n",
       "      <td>0.011111</td>\n",
       "    </tr>\n",
       "    <tr>\n",
       "      <th>110</th>\n",
       "      <td>hr-0:00</td>\n",
       "      <td>0.009281</td>\n",
       "    </tr>\n",
       "    <tr>\n",
       "      <th>...</th>\n",
       "      <td>...</td>\n",
       "      <td>...</td>\n",
       "    </tr>\n",
       "    <tr>\n",
       "      <th>112</th>\n",
       "      <td>steps-2:55</td>\n",
       "      <td>0.000151</td>\n",
       "    </tr>\n",
       "    <tr>\n",
       "      <th>113</th>\n",
       "      <td>steps-2:50</td>\n",
       "      <td>0.000139</td>\n",
       "    </tr>\n",
       "    <tr>\n",
       "      <th>115</th>\n",
       "      <td>steps-2:40</td>\n",
       "      <td>0.000107</td>\n",
       "    </tr>\n",
       "    <tr>\n",
       "      <th>120</th>\n",
       "      <td>steps-2:15</td>\n",
       "      <td>0.000065</td>\n",
       "    </tr>\n",
       "    <tr>\n",
       "      <th>119</th>\n",
       "      <td>steps-2:20</td>\n",
       "      <td>0.000055</td>\n",
       "    </tr>\n",
       "  </tbody>\n",
       "</table>\n",
       "<p>208 rows × 2 columns</p>\n",
       "</div>"
      ]
     },
     "execution_count": 4,
     "metadata": {},
     "output_type": "execute_result"
    }
   ],
   "execution_count": 4
  },
  {
   "metadata": {
    "ExecuteTime": {
     "end_time": "2024-11-14T21:38:59.998133Z",
     "start_time": "2024-11-14T21:32:49.892474Z"
    }
   },
   "cell_type": "code",
   "source": [
    "from tqdm.notebook import tqdm\n",
    "import numpy as np\n",
    "\n",
    "rmses = {}\n",
    "\n",
    "train_data_transformed = pipeline.fit_transform(train_data)\n",
    "validation_data_transformed = pipeline.transform(validation_data)\n",
    "\n",
    "X_train = train_data_transformed.drop(columns=['bg+1:00'])\n",
    "y_train = train_data_transformed['bg+1:00']\n",
    "\n",
    "X_val = validation_data_transformed.drop(columns=['bg+1:00'])\n",
    "y_val = validation_data_transformed['bg+1:00']\n",
    "\n",
    "for i in tqdm(range(1, len(shp.get_top_features()))):\n",
    "    X_train_loop = X_train[shp.get_top_features(i)]\n",
    "    X_val_loop = X_val[shp.get_top_features(i)]\n",
    "    model = tuner.regressor()\n",
    "\n",
    "    y_log = np.log1p(y_train)\n",
    "    model.fit(X=X_train_loop, y=y_log)\n",
    "\n",
    "    y_pred_log = model.predict(X=X_val_loop)\n",
    "    y_pred = np.expm1(y_pred_log)\n",
    "\n",
    "    rmses[i] = root_mean_squared_error(y_val, y_pred)\n"
   ],
   "id": "1460f03067af946a",
   "outputs": [
    {
     "data": {
      "text/plain": [
       "  0%|          | 0/207 [00:00<?, ?it/s]"
      ],
      "application/vnd.jupyter.widget-view+json": {
       "version_major": 2,
       "version_minor": 0,
       "model_id": "7c4cfd9a9e9648d1bf3eeddf5b2dc2a1"
      }
     },
     "metadata": {},
     "output_type": "display_data"
    }
   ],
   "execution_count": 5
  },
  {
   "metadata": {},
   "cell_type": "markdown",
   "source": "## Standardization",
   "id": "9f9e09f993edfc02"
  },
  {
   "metadata": {
    "ExecuteTime": {
     "end_time": "2024-11-14T21:39:00.205613Z",
     "start_time": "2024-11-14T21:39:00.125602Z"
    }
   },
   "cell_type": "code",
   "source": [
    "import matplotlib.pyplot as plt\n",
    "%matplotlib inline\n",
    "plt.plot(rmses.values())\n",
    "plt.title('RMSE over number of top features')\n",
    "plt.xlabel('Number of top features')\n",
    "plt.ylabel('RMSE')\n",
    "plt.show()"
   ],
   "id": "46559a360ea3a3c8",
   "outputs": [
    {
     "data": {
      "text/plain": [
       "<Figure size 640x480 with 1 Axes>"
      ],
      "image/png": "[encoded data removed]"
     },
     "metadata": {},
     "output_type": "display_data"
    }
   ],
   "execution_count": 6
  },
  {
   "metadata": {
    "ExecuteTime": {
     "end_time": "2024-11-14T21:39:00.239318Z",
     "start_time": "2024-11-14T21:39:00.237015Z"
    }
   },
   "cell_type": "code",
   "source": [
    "# Find the key with the minimum value\n",
    "min_key = min(rmses, key=rmses.get)\n",
    "\n",
    "print(\"Index with the minimum value:\", min_key)\n",
    "print(\"Minimum value:\", rmses[min_key])"
   ],
   "id": "2b8dc23dcc2d4e18",
   "outputs": [
    {
     "name": "stdout",
     "output_type": "stream",
     "text": [
      "Index with the minimum value: 5\n",
      "Minimum value: 2.246521761132507\n"
     ]
    }
   ],
   "execution_count": 7
  },
  {
   "metadata": {
    "ExecuteTime": {
     "end_time": "2024-11-14T21:45:54.069413Z",
     "start_time": "2024-11-14T21:45:53.437648Z"
    }
   },
   "cell_type": "code",
   "source": "shp.get_top_features(5)",
   "id": "5327e417686532d4",
   "outputs": [
    {
     "data": {
      "text/plain": [
       "['bg-0:00', 'bg-0:05', 'bg-0:10', 'bg-0:15', 'hr-0:00']"
      ]
     },
     "execution_count": 9,
     "metadata": {},
     "output_type": "execute_result"
    }
   ],
   "execution_count": 9
  },
  {
   "metadata": {},
   "cell_type": "code",
   "outputs": [],
   "execution_count": null,
   "source": "",
   "id": "8c50084ef203688c"
  }
 ],
 "metadata": {
  "kernelspec": {
   "display_name": "Python 3",
   "language": "python",
   "name": "python3"
  },
  "language_info": {
   "codemirror_mode": {
    "name": "ipython",
    "version": 2
   },
   "file_extension": ".py",
   "mimetype": "text/x-python",
   "name": "python",
   "nbconvert_exporter": "python",
   "pygments_lexer": "ipython2",
   "version": "2.7.6"
  }
 },
 "nbformat": 4,
 "nbformat_minor": 5
}
