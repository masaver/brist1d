{
 "cells": [
  {
   "metadata": {},
   "cell_type": "markdown",
   "source": "# Hyperparameter Tuning\n",
   "id": "c4f5fa4ffbc53369"
  },
  {
   "metadata": {},
   "cell_type": "code",
   "source": [
    "from data import load_data\n",
    "\n",
    "train_data, test_data = load_data()\n",
    "\n",
    "unique_patients = test_data['p_num'].unique()\n",
    "train_data = train_data[train_data['p_num'].isin(unique_patients)]\n",
    "test_data = test_data[test_data['p_num'].isin(unique_patients)]\n",
    "\n",
    "train_data.head()"
   ],
   "id": "6a34b21d4bb55fe0",
   "outputs": [],
   "execution_count": null
  },
  {
   "metadata": {},
   "cell_type": "code",
   "source": [
    "from pipelines import pipeline\n",
    "\n",
    "train_data = pipeline.fit_transform(train_data)"
   ],
   "id": "3c176a1c31dc1a95",
   "outputs": [],
   "execution_count": null
  },
  {
   "metadata": {},
   "cell_type": "code",
   "source": [
    "import numpy as np\n",
    "\n",
    "X_train = train_data.drop(columns=['bg+1:00'])\n",
    "y_train = train_data['bg+1:00']\n",
    "y_train_log = np.log1p(y_train)\n"
   ],
   "id": "c16b93001096255e",
   "outputs": [],
   "execution_count": null
  },
  {
   "metadata": {},
   "cell_type": "markdown",
   "source": "### Define a tuning function",
   "id": "5e3f726f2eac2520"
  },
  {
   "metadata": {},
   "cell_type": "code",
   "source": [
    "import joblib\n",
    "\n",
    "\n",
    "def tune(tuner, X_train, y_train):\n",
    "    print(f'-----------{tuner.__name__}-----------')\n",
    "    print('Calculating best hyperparameters...')\n",
    "    tuner.fit(X_train, y_train)\n",
    "    print('Best hyperparameters found.')\n",
    "    display(tuner.get_params())\n",
    "    print(f'RMSE: {tuner.get_rmse()}')\n",
    "    tuner.show_chart()\n",
    "    joblib.dump(tuner.get_best_model(), f'{tuner.__name__}.model.pkl')"
   ],
   "id": "30fc0d3c7f5ede2a",
   "outputs": [],
   "execution_count": null
  },
  {
   "metadata": {},
   "cell_type": "markdown",
   "source": "### Tune XGBoost",
   "id": "49e54cddfe4a3b63"
  },
  {
   "metadata": {},
   "cell_type": "code",
   "source": [
    "from src.features.tuners import XGBHyperparameterTuner\n",
    "\n",
    "tune(XGBHyperparameterTuner(search_space='custom'), X_train, y_train_log)"
   ],
   "id": "750dad36f1674ba",
   "outputs": [],
   "execution_count": null
  },
  {
   "metadata": {},
   "cell_type": "markdown",
   "source": "## Tune HistGradientBoosting",
   "id": "58faa528f18bfa07"
  },
  {
   "metadata": {},
   "cell_type": "code",
   "source": [
    "from src.features.tuners import HistGradientBoostingHyperparameterTuner\n",
    "\n",
    "tune(HistGradientBoostingHyperparameterTuner(search_space='custom'), X_train, y_train_log)"
   ],
   "id": "9fbd1a11fefdf267",
   "outputs": [],
   "execution_count": null
  },
  {
   "metadata": {},
   "cell_type": "markdown",
   "source": "### Tune LassoLarsIC",
   "id": "d096e0a1bcd35028"
  },
  {
   "metadata": {},
   "cell_type": "code",
   "source": [
    "from src.features.tuners import LassoLarsICHyperparameterTuner\n",
    "\n",
    "tune(LassoLarsICHyperparameterTuner(search_space='custom'), X_train, y_train_log)"
   ],
   "id": "677dd7adefa4db60",
   "outputs": [],
   "execution_count": null
  }
 ],
 "metadata": {
  "kernelspec": {
   "display_name": "Python 3",
   "language": "python",
   "name": "python3"
  },
  "language_info": {
   "codemirror_mode": {
    "name": "ipython",
    "version": 2
   },
   "file_extension": ".py",
   "mimetype": "text/x-python",
   "name": "python",
   "nbconvert_exporter": "python",
   "pygments_lexer": "ipython2",
   "version": "2.7.6"
  }
 },
 "nbformat": 4,
 "nbformat_minor": 5
}
