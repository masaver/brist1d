{
 "cells": [
  {
   "metadata": {},
   "cell_type": "markdown",
   "source": [
    "# Preprocessing\n",
    "\n",
    "## Check which patients have 5min and 15min bg measurements"
   ],
   "id": "8952fd0308a3926"
  },
  {
   "metadata": {
    "ExecuteTime": {
     "end_time": "2024-11-13T15:03:36.433972Z",
     "start_time": "2024-11-13T15:03:33.614124Z"
    }
   },
   "cell_type": "code",
   "source": [
    "import os\n",
    "import pandas as pd\n",
    "\n",
    "from src.features.tuners import XGBHyperparameterTuner"
   ],
   "id": "60c6f237e19fe933",
   "outputs": [],
   "execution_count": 1
  },
  {
   "metadata": {
    "ExecuteTime": {
     "end_time": "2024-11-13T15:03:49.237215Z",
     "start_time": "2024-11-13T15:03:36.443671Z"
    }
   },
   "cell_type": "code",
   "source": [
    "train_data_file = os.path.join('..', '..', '..', '..', 'data', 'raw', 'train.csv')\n",
    "train_data = pd.read_csv(train_data_file, index_col=0, low_memory=False)\n",
    "patient_ids_train_data = train_data['p_num'].unique()\n",
    "patient_ids_train_data"
   ],
   "id": "a4252e25fe276df1",
   "outputs": [
    {
     "data": {
      "text/plain": [
       "array(['p01', 'p02', 'p03', 'p04', 'p05', 'p06', 'p10', 'p11', 'p12'],\n",
       "      dtype=object)"
      ]
     },
     "execution_count": 2,
     "metadata": {},
     "output_type": "execute_result"
    }
   ],
   "execution_count": 2
  },
  {
   "metadata": {
    "ExecuteTime": {
     "end_time": "2024-11-13T15:03:49.549466Z",
     "start_time": "2024-11-13T15:03:49.437721Z"
    }
   },
   "cell_type": "code",
   "source": [
    "test_data_file = os.path.join('..', '..', '..', '..', 'data', 'raw', 'test.csv')\n",
    "test_data = pd.read_csv(test_data_file, index_col=0, low_memory=False)\n",
    "patient_ids_test_data = test_data['p_num'].unique()\n",
    "patient_ids_test_data"
   ],
   "id": "b97a43eefa0585f5",
   "outputs": [
    {
     "data": {
      "text/plain": [
       "array(['p01', 'p02', 'p04', 'p05', 'p06', 'p10', 'p11', 'p12', 'p15',\n",
       "       'p16', 'p18', 'p19', 'p21', 'p22', 'p24'], dtype=object)"
      ]
     },
     "execution_count": 3,
     "metadata": {},
     "output_type": "execute_result"
    }
   ],
   "execution_count": 3
  },
  {
   "metadata": {
    "ExecuteTime": {
     "end_time": "2024-11-13T15:03:49.576446Z",
     "start_time": "2024-11-13T15:03:49.563989Z"
    }
   },
   "cell_type": "code",
   "source": [
    "all_patient_ids = sorted(list(set(train_data['p_num'].unique().tolist() + test_data['p_num'].unique().tolist())))\n",
    "all_patient_ids"
   ],
   "id": "c3023a946f387d3f",
   "outputs": [
    {
     "data": {
      "text/plain": [
       "['p01',\n",
       " 'p02',\n",
       " 'p03',\n",
       " 'p04',\n",
       " 'p05',\n",
       " 'p06',\n",
       " 'p10',\n",
       " 'p11',\n",
       " 'p12',\n",
       " 'p15',\n",
       " 'p16',\n",
       " 'p18',\n",
       " 'p19',\n",
       " 'p21',\n",
       " 'p22',\n",
       " 'p24']"
      ]
     },
     "execution_count": 4,
     "metadata": {},
     "output_type": "execute_result"
    }
   ],
   "execution_count": 4
  },
  {
   "metadata": {
    "ExecuteTime": {
     "end_time": "2024-11-13T15:03:49.752559Z",
     "start_time": "2024-11-13T15:03:49.597373Z"
    }
   },
   "cell_type": "code",
   "source": [
    "bg_columns = [train_data.columns[i] for i in range(len(train_data.columns)) if 'bg-' in train_data.columns[i]]\n",
    "\n",
    "columns = ['p_num'] + bg_columns\n",
    "joined = pd.concat([train_data[columns], test_data[columns]], axis=0)\n",
    "\n",
    "joined['no_nan_values'] = joined[bg_columns].notna().sum(axis=1)\n",
    "joined['nan_values'] = joined[bg_columns].isna().sum(axis=1)\n",
    "\n",
    "# sum up the number of nan and non_nan values for each patient\n",
    "grouped = joined.groupby('p_num').agg({'no_nan_values': 'sum', 'nan_values': 'sum'})\n",
    "grouped['total_values'] = grouped['no_nan_values'] + grouped['nan_values']\n",
    "\n",
    "# make this relative to the total number of values\n",
    "grouped['rel_nan_values'] = round(grouped['nan_values'] / grouped['total_values'], 2)\n",
    "grouped['rel_no_nan_values'] = round(grouped['no_nan_values'] / grouped['total_values'], 2)\n",
    "\n",
    "grouped['in_train_data'] = grouped.index.isin(patient_ids_train_data)\n",
    "grouped['in_test_data'] = grouped.index.isin(patient_ids_test_data)\n",
    "\n",
    "grouped = grouped.drop(columns=['no_nan_values', 'nan_values', 'total_values'])\n",
    "\n",
    "grouped"
   ],
   "id": "b57e42df63b88377",
   "outputs": [
    {
     "data": {
      "text/plain": [
       "       rel_nan_values  rel_no_nan_values  in_train_data  in_test_data\n",
       "p_num                                                                \n",
       "p01              0.67               0.33           True          True\n",
       "p02              0.01               0.99           True          True\n",
       "p03              0.01               0.99           True         False\n",
       "p04              0.01               0.99           True          True\n",
       "p05              0.68               0.32           True          True\n",
       "p06              0.68               0.32           True          True\n",
       "p10              0.01               0.99           True          True\n",
       "p11              0.02               0.98           True          True\n",
       "p12              0.02               0.98           True          True\n",
       "p15              0.03               0.97          False          True\n",
       "p16              0.02               0.98          False          True\n",
       "p18              0.06               0.94          False          True\n",
       "p19              0.02               0.98          False          True\n",
       "p21              0.55               0.45          False          True\n",
       "p22              0.03               0.97          False          True\n",
       "p24              0.02               0.98          False          True"
      ],
      "text/html": [
       "<div>\n",
       "<style scoped>\n",
       "    .dataframe tbody tr th:only-of-type {\n",
       "        vertical-align: middle;\n",
       "    }\n",
       "\n",
       "    .dataframe tbody tr th {\n",
       "        vertical-align: top;\n",
       "    }\n",
       "\n",
       "    .dataframe thead th {\n",
       "        text-align: right;\n",
       "    }\n",
       "</style>\n",
       "<table border=\"1\" class=\"dataframe\">\n",
       "  <thead>\n",
       "    <tr style=\"text-align: right;\">\n",
       "      <th></th>\n",
       "      <th>rel_nan_values</th>\n",
       "      <th>rel_no_nan_values</th>\n",
       "      <th>in_train_data</th>\n",
       "      <th>in_test_data</th>\n",
       "    </tr>\n",
       "    <tr>\n",
       "      <th>p_num</th>\n",
       "      <th></th>\n",
       "      <th></th>\n",
       "      <th></th>\n",
       "      <th></th>\n",
       "    </tr>\n",
       "  </thead>\n",
       "  <tbody>\n",
       "    <tr>\n",
       "      <th>p01</th>\n",
       "      <td>0.67</td>\n",
       "      <td>0.33</td>\n",
       "      <td>True</td>\n",
       "      <td>True</td>\n",
       "    </tr>\n",
       "    <tr>\n",
       "      <th>p02</th>\n",
       "      <td>0.01</td>\n",
       "      <td>0.99</td>\n",
       "      <td>True</td>\n",
       "      <td>True</td>\n",
       "    </tr>\n",
       "    <tr>\n",
       "      <th>p03</th>\n",
       "      <td>0.01</td>\n",
       "      <td>0.99</td>\n",
       "      <td>True</td>\n",
       "      <td>False</td>\n",
       "    </tr>\n",
       "    <tr>\n",
       "      <th>p04</th>\n",
       "      <td>0.01</td>\n",
       "      <td>0.99</td>\n",
       "      <td>True</td>\n",
       "      <td>True</td>\n",
       "    </tr>\n",
       "    <tr>\n",
       "      <th>p05</th>\n",
       "      <td>0.68</td>\n",
       "      <td>0.32</td>\n",
       "      <td>True</td>\n",
       "      <td>True</td>\n",
       "    </tr>\n",
       "    <tr>\n",
       "      <th>p06</th>\n",
       "      <td>0.68</td>\n",
       "      <td>0.32</td>\n",
       "      <td>True</td>\n",
       "      <td>True</td>\n",
       "    </tr>\n",
       "    <tr>\n",
       "      <th>p10</th>\n",
       "      <td>0.01</td>\n",
       "      <td>0.99</td>\n",
       "      <td>True</td>\n",
       "      <td>True</td>\n",
       "    </tr>\n",
       "    <tr>\n",
       "      <th>p11</th>\n",
       "      <td>0.02</td>\n",
       "      <td>0.98</td>\n",
       "      <td>True</td>\n",
       "      <td>True</td>\n",
       "    </tr>\n",
       "    <tr>\n",
       "      <th>p12</th>\n",
       "      <td>0.02</td>\n",
       "      <td>0.98</td>\n",
       "      <td>True</td>\n",
       "      <td>True</td>\n",
       "    </tr>\n",
       "    <tr>\n",
       "      <th>p15</th>\n",
       "      <td>0.03</td>\n",
       "      <td>0.97</td>\n",
       "      <td>False</td>\n",
       "      <td>True</td>\n",
       "    </tr>\n",
       "    <tr>\n",
       "      <th>p16</th>\n",
       "      <td>0.02</td>\n",
       "      <td>0.98</td>\n",
       "      <td>False</td>\n",
       "      <td>True</td>\n",
       "    </tr>\n",
       "    <tr>\n",
       "      <th>p18</th>\n",
       "      <td>0.06</td>\n",
       "      <td>0.94</td>\n",
       "      <td>False</td>\n",
       "      <td>True</td>\n",
       "    </tr>\n",
       "    <tr>\n",
       "      <th>p19</th>\n",
       "      <td>0.02</td>\n",
       "      <td>0.98</td>\n",
       "      <td>False</td>\n",
       "      <td>True</td>\n",
       "    </tr>\n",
       "    <tr>\n",
       "      <th>p21</th>\n",
       "      <td>0.55</td>\n",
       "      <td>0.45</td>\n",
       "      <td>False</td>\n",
       "      <td>True</td>\n",
       "    </tr>\n",
       "    <tr>\n",
       "      <th>p22</th>\n",
       "      <td>0.03</td>\n",
       "      <td>0.97</td>\n",
       "      <td>False</td>\n",
       "      <td>True</td>\n",
       "    </tr>\n",
       "    <tr>\n",
       "      <th>p24</th>\n",
       "      <td>0.02</td>\n",
       "      <td>0.98</td>\n",
       "      <td>False</td>\n",
       "      <td>True</td>\n",
       "    </tr>\n",
       "  </tbody>\n",
       "</table>\n",
       "</div>"
      ]
     },
     "execution_count": 5,
     "metadata": {},
     "output_type": "execute_result"
    }
   ],
   "execution_count": 5
  },
  {
   "metadata": {},
   "cell_type": "markdown",
   "source": [
    "# Model selection\n",
    "\n",
    "Based in this table we can see that there are 3 groups of patients:\n",
    "1. Patients that are only in the train data\n",
    "2. Patients that are only in the test data\n",
    "3. Patients that are in both the train and test data\n",
    "\n",
    "We can use this information to decide which patients we want to train a specific model on and which patients we want to use a generic model for.\n",
    "\n",
    "Patients that are in both the train and test data will be used to train a specific model on.\n",
    "\n",
    "All other patients will be used to train a generic model on."
   ],
   "id": "256b789bb18767ce"
  },
  {
   "metadata": {
    "ExecuteTime": {
     "end_time": "2024-11-13T15:03:50.052611Z",
     "start_time": "2024-11-13T15:03:50.046063Z"
    }
   },
   "cell_type": "code",
   "source": [
    "# show the p_num of the patients that are in both the train and test data\n",
    "patients_with_own_model = list(grouped[(grouped['in_train_data'] == True) & (grouped['in_test_data'] == True)].index)\n",
    "patients_with_generic_model = list(grouped[(grouped['in_train_data'] == False) & (grouped['in_test_data'] == True)].index)"
   ],
   "id": "3c789fd297289298",
   "outputs": [],
   "execution_count": 6
  },
  {
   "metadata": {},
   "cell_type": "markdown",
   "source": "## Train a specific model for patients that are in both the train and test data",
   "id": "b86f5d6b34ce4da0"
  },
  {
   "metadata": {
    "jupyter": {
     "is_executing": true
    },
    "ExecuteTime": {
     "start_time": "2024-11-13T15:03:50.074566Z"
    }
   },
   "cell_type": "code",
   "source": [
    "import joblib\n",
    "from pipelines import pipeline\n",
    "\n",
    "for patient_id in patients_with_own_model:\n",
    "    print(f'-----------{patient_id}-----------')\n",
    "    data = train_data[train_data['p_num'] == patient_id]\n",
    "    train_data_patient = pipeline.fit_transform(data)\n",
    "    X = train_data_patient.drop(columns=['bg+1:00'])\n",
    "    y = train_data_patient['bg+1:00']\n",
    "    tuner = XGBHyperparameterTuner(search_space='deep')\n",
    "    tuner.fit(X=X, y=y)\n",
    "    \n",
    "    print('Best hyperparameters found.')\n",
    "    print(f'RMSE: {tuner.get_rmse()}')\n",
    "    tuner.show_chart()\n",
    "    \n",
    "    joblib.dump(tuner.get_best_model(), f'XGBRegressor.{patient_id}.model.pkl')"
   ],
   "id": "d9e03bd4e5a97c3d",
   "outputs": [
    {
     "name": "stdout",
     "output_type": "stream",
     "text": [
      "-----------p01-----------\n"
     ]
    }
   ],
   "execution_count": null
  },
  {
   "cell_type": "code",
   "id": "initial_id",
   "metadata": {
    "collapsed": true
   },
   "source": [
    "import os\n",
    "import pandas as pd\n",
    "\n",
    "train_data_file = os.path.join('..', '..', '..', '..', 'data', 'raw', 'train.csv')\n",
    "df = pd.read_csv(train_data_file, index_col=0, low_memory=False)\n",
    "df.head()"
   ],
   "outputs": [],
   "execution_count": null
  },
  {
   "metadata": {},
   "cell_type": "code",
   "source": [
    "from pipelines import preprocessing_pipeline\n",
    "\n",
    "df = preprocessing_pipeline.fit_transform(df)\n",
    "display(df.head())\n",
    "df.describe()"
   ],
   "id": "8cfa5779a9d27c8c",
   "outputs": [],
   "execution_count": null
  },
  {
   "metadata": {},
   "cell_type": "code",
   "source": [
    "from pipelines import standardization_pipeline\n",
    "\n",
    "df = standardization_pipeline.fit_transform(df)\n",
    "display(df.head())\n",
    "df.describe()"
   ],
   "id": "ecc3b01c7093055c",
   "outputs": [],
   "execution_count": null
  }
 ],
 "metadata": {
  "kernelspec": {
   "display_name": "Python 3",
   "language": "python",
   "name": "python3"
  },
  "language_info": {
   "codemirror_mode": {
    "name": "ipython",
    "version": 2
   },
   "file_extension": ".py",
   "mimetype": "text/x-python",
   "name": "python",
   "nbconvert_exporter": "python",
   "pygments_lexer": "ipython2",
   "version": "2.7.6"
  }
 },
 "nbformat": 4,
 "nbformat_minor": 5
}
