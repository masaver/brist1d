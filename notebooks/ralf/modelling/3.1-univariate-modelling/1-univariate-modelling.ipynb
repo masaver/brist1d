{
 "cells": [
  {
   "metadata": {},
   "cell_type": "markdown",
   "source": "# Univariate Modelling",
   "id": "c4f5fa4ffbc53369"
  },
  {
   "metadata": {
    "ExecuteTime": {
     "end_time": "2024-11-07T15:04:37.292434Z",
     "start_time": "2024-11-07T15:04:37.049584Z"
    }
   },
   "cell_type": "code",
   "source": [
    "import os\n",
    "import pandas as pd\n",
    "\n",
    "data_file = os.path.join('..', '..','..', '..', 'data', 'interim', 'all_train.csv')\n",
    "df = pd.read_csv(data_file)\n",
    "df.head()"
   ],
   "id": "a3b2d749037733c4",
   "outputs": [
    {
     "data": {
      "text/plain": [
       "            Unnamed: 0 p_num  days_since_start      time initial_resolution  \\\n",
       "0  2020-01-01 00:15:00   p01                 0  00:15:00              15min   \n",
       "1  2020-01-01 00:20:00   p01                 0  00:20:00              15min   \n",
       "2  2020-01-01 00:25:00   p01                 0  00:25:00              15min   \n",
       "3  2020-01-01 00:30:00   p01                 0  00:30:00              15min   \n",
       "4  2020-01-01 00:35:00   p01                 0  00:35:00              15min   \n",
       "\n",
       "    bg  insulin  carbs  hr  steps  cals activity  bg+1:00  \n",
       "0  NaN   0.0083    NaN NaN    NaN   NaN      NaN      NaN  \n",
       "1  NaN   0.0083    NaN NaN    NaN   NaN      NaN      NaN  \n",
       "2  9.6   0.0083    NaN NaN    NaN   NaN      NaN      NaN  \n",
       "3  NaN   0.0083    NaN NaN    NaN   NaN      NaN      NaN  \n",
       "4  NaN   0.0083    NaN NaN    NaN   NaN      NaN      NaN  "
      ],
      "text/html": [
       "<div>\n",
       "<style scoped>\n",
       "    .dataframe tbody tr th:only-of-type {\n",
       "        vertical-align: middle;\n",
       "    }\n",
       "\n",
       "    .dataframe tbody tr th {\n",
       "        vertical-align: top;\n",
       "    }\n",
       "\n",
       "    .dataframe thead th {\n",
       "        text-align: right;\n",
       "    }\n",
       "</style>\n",
       "<table border=\"1\" class=\"dataframe\">\n",
       "  <thead>\n",
       "    <tr style=\"text-align: right;\">\n",
       "      <th></th>\n",
       "      <th>Unnamed: 0</th>\n",
       "      <th>p_num</th>\n",
       "      <th>days_since_start</th>\n",
       "      <th>time</th>\n",
       "      <th>initial_resolution</th>\n",
       "      <th>bg</th>\n",
       "      <th>insulin</th>\n",
       "      <th>carbs</th>\n",
       "      <th>hr</th>\n",
       "      <th>steps</th>\n",
       "      <th>cals</th>\n",
       "      <th>activity</th>\n",
       "      <th>bg+1:00</th>\n",
       "    </tr>\n",
       "  </thead>\n",
       "  <tbody>\n",
       "    <tr>\n",
       "      <th>0</th>\n",
       "      <td>2020-01-01 00:15:00</td>\n",
       "      <td>p01</td>\n",
       "      <td>0</td>\n",
       "      <td>00:15:00</td>\n",
       "      <td>15min</td>\n",
       "      <td>NaN</td>\n",
       "      <td>0.0083</td>\n",
       "      <td>NaN</td>\n",
       "      <td>NaN</td>\n",
       "      <td>NaN</td>\n",
       "      <td>NaN</td>\n",
       "      <td>NaN</td>\n",
       "      <td>NaN</td>\n",
       "    </tr>\n",
       "    <tr>\n",
       "      <th>1</th>\n",
       "      <td>2020-01-01 00:20:00</td>\n",
       "      <td>p01</td>\n",
       "      <td>0</td>\n",
       "      <td>00:20:00</td>\n",
       "      <td>15min</td>\n",
       "      <td>NaN</td>\n",
       "      <td>0.0083</td>\n",
       "      <td>NaN</td>\n",
       "      <td>NaN</td>\n",
       "      <td>NaN</td>\n",
       "      <td>NaN</td>\n",
       "      <td>NaN</td>\n",
       "      <td>NaN</td>\n",
       "    </tr>\n",
       "    <tr>\n",
       "      <th>2</th>\n",
       "      <td>2020-01-01 00:25:00</td>\n",
       "      <td>p01</td>\n",
       "      <td>0</td>\n",
       "      <td>00:25:00</td>\n",
       "      <td>15min</td>\n",
       "      <td>9.6</td>\n",
       "      <td>0.0083</td>\n",
       "      <td>NaN</td>\n",
       "      <td>NaN</td>\n",
       "      <td>NaN</td>\n",
       "      <td>NaN</td>\n",
       "      <td>NaN</td>\n",
       "      <td>NaN</td>\n",
       "    </tr>\n",
       "    <tr>\n",
       "      <th>3</th>\n",
       "      <td>2020-01-01 00:30:00</td>\n",
       "      <td>p01</td>\n",
       "      <td>0</td>\n",
       "      <td>00:30:00</td>\n",
       "      <td>15min</td>\n",
       "      <td>NaN</td>\n",
       "      <td>0.0083</td>\n",
       "      <td>NaN</td>\n",
       "      <td>NaN</td>\n",
       "      <td>NaN</td>\n",
       "      <td>NaN</td>\n",
       "      <td>NaN</td>\n",
       "      <td>NaN</td>\n",
       "    </tr>\n",
       "    <tr>\n",
       "      <th>4</th>\n",
       "      <td>2020-01-01 00:35:00</td>\n",
       "      <td>p01</td>\n",
       "      <td>0</td>\n",
       "      <td>00:35:00</td>\n",
       "      <td>15min</td>\n",
       "      <td>NaN</td>\n",
       "      <td>0.0083</td>\n",
       "      <td>NaN</td>\n",
       "      <td>NaN</td>\n",
       "      <td>NaN</td>\n",
       "      <td>NaN</td>\n",
       "      <td>NaN</td>\n",
       "      <td>NaN</td>\n",
       "    </tr>\n",
       "  </tbody>\n",
       "</table>\n",
       "</div>"
      ]
     },
     "execution_count": 1,
     "metadata": {},
     "output_type": "execute_result"
    }
   ],
   "execution_count": 1
  },
  {
   "metadata": {},
   "cell_type": "markdown",
   "source": [
    "# Data Preprocessing\n",
    "\n",
    "## 1. Select only bg (train) and bg+1:00 (target) columns from dataframe"
   ],
   "id": "82159de3bfdd45bc"
  },
  {
   "cell_type": "code",
   "id": "initial_id",
   "metadata": {
    "collapsed": true,
    "ExecuteTime": {
     "end_time": "2024-11-07T15:04:39.621818Z",
     "start_time": "2024-11-07T15:04:39.610156Z"
    }
   },
   "source": [
    "df = df[['bg', 'bg+1:00']]\n",
    "df.head()"
   ],
   "outputs": [
    {
     "data": {
      "text/plain": [
       "    bg  bg+1:00\n",
       "0  NaN      NaN\n",
       "1  NaN      NaN\n",
       "2  9.6      NaN\n",
       "3  NaN      NaN\n",
       "4  NaN      NaN"
      ],
      "text/html": [
       "<div>\n",
       "<style scoped>\n",
       "    .dataframe tbody tr th:only-of-type {\n",
       "        vertical-align: middle;\n",
       "    }\n",
       "\n",
       "    .dataframe tbody tr th {\n",
       "        vertical-align: top;\n",
       "    }\n",
       "\n",
       "    .dataframe thead th {\n",
       "        text-align: right;\n",
       "    }\n",
       "</style>\n",
       "<table border=\"1\" class=\"dataframe\">\n",
       "  <thead>\n",
       "    <tr style=\"text-align: right;\">\n",
       "      <th></th>\n",
       "      <th>bg</th>\n",
       "      <th>bg+1:00</th>\n",
       "    </tr>\n",
       "  </thead>\n",
       "  <tbody>\n",
       "    <tr>\n",
       "      <th>0</th>\n",
       "      <td>NaN</td>\n",
       "      <td>NaN</td>\n",
       "    </tr>\n",
       "    <tr>\n",
       "      <th>1</th>\n",
       "      <td>NaN</td>\n",
       "      <td>NaN</td>\n",
       "    </tr>\n",
       "    <tr>\n",
       "      <th>2</th>\n",
       "      <td>9.6</td>\n",
       "      <td>NaN</td>\n",
       "    </tr>\n",
       "    <tr>\n",
       "      <th>3</th>\n",
       "      <td>NaN</td>\n",
       "      <td>NaN</td>\n",
       "    </tr>\n",
       "    <tr>\n",
       "      <th>4</th>\n",
       "      <td>NaN</td>\n",
       "      <td>NaN</td>\n",
       "    </tr>\n",
       "  </tbody>\n",
       "</table>\n",
       "</div>"
      ]
     },
     "execution_count": 2,
     "metadata": {},
     "output_type": "execute_result"
    }
   ],
   "execution_count": 2
  },
  {
   "metadata": {},
   "cell_type": "markdown",
   "source": [
    "# Clean Data\n",
    "\n",
    "## Interpolate missing values in bg column and drop rows with missing values"
   ],
   "id": "4d6c524d7b198fbe"
  },
  {
   "metadata": {
    "ExecuteTime": {
     "end_time": "2024-11-07T15:04:42.634932Z",
     "start_time": "2024-11-07T15:04:42.605019Z"
    }
   },
   "cell_type": "code",
   "source": [
    "df['bg'] = df['bg'].interpolate(method='linear').ffill().bfill()\n",
    "df = df.dropna()\n",
    "df.info(show_counts=True)"
   ],
   "id": "577e6177f53b33e5",
   "outputs": [
    {
     "name": "stdout",
     "output_type": "stream",
     "text": [
      "<class 'pandas.core.frame.DataFrame'>\n",
      "Index: 177024 entries, 71 to 235126\n",
      "Data columns (total 2 columns):\n",
      " #   Column   Non-Null Count   Dtype  \n",
      "---  ------   --------------   -----  \n",
      " 0   bg       177024 non-null  float64\n",
      " 1   bg+1:00  177024 non-null  float64\n",
      "dtypes: float64(2)\n",
      "memory usage: 4.1 MB\n"
     ]
    }
   ],
   "execution_count": 3
  },
  {
   "metadata": {},
   "cell_type": "markdown",
   "source": [
    "# Model selection\n",
    "\n",
    "## 1. Split the data into train and test sets"
   ],
   "id": "3d2d3faf26fe5447"
  },
  {
   "metadata": {
    "ExecuteTime": {
     "end_time": "2024-11-07T15:04:48.555189Z",
     "start_time": "2024-11-07T15:04:48.341039Z"
    }
   },
   "cell_type": "code",
   "source": [
    "from sklearn.model_selection import train_test_split\n",
    "\n",
    "X = df[['bg']]\n",
    "y = df['bg+1:00']\n",
    "\n",
    "X_train, X_test, y_train, y_test = train_test_split(X, y, test_size=0.2, random_state=42)"
   ],
   "id": "5e39b1845bc7e6d9",
   "outputs": [],
   "execution_count": 4
  },
  {
   "metadata": {},
   "cell_type": "markdown",
   "source": "## 2. Use LazyPredict",
   "id": "591898d90d93c5e9"
  },
  {
   "metadata": {
    "jupyter": {
     "is_executing": true
    },
    "ExecuteTime": {
     "start_time": "2024-11-07T15:04:51.525433Z"
    }
   },
   "cell_type": "code",
   "source": [
    "from notebooks.helpers.LazyPredict import get_lazy_regressor\n",
    "\n",
    "reg = get_lazy_regressor()\n",
    "models, predictions = reg.fit(X_train, X_test, y_train, y_test)\n",
    "models"
   ],
   "id": "bcc68a5591d6ea65",
   "outputs": [
    {
     "name": "stderr",
     "output_type": "stream",
     "text": [
      " 69%|██████▉   | 27/39 [00:27<00:07,  1.58it/s]"
     ]
    }
   ],
   "execution_count": null
  },
  {
   "metadata": {},
   "cell_type": "markdown",
   "source": [
    "We choose: \n",
    "\n",
    "* LGBMRegressor\n",
    "* XGBRegressor\n",
    "* LasseCV"
   ],
   "id": "4779f7b6485402d6"
  },
  {
   "metadata": {},
   "cell_type": "markdown",
   "source": "## Save the train data for later",
   "id": "f04eb66c0c2c6983"
  },
  {
   "metadata": {
    "ExecuteTime": {
     "end_time": "2024-11-04T21:38:38.555990Z",
     "start_time": "2024-11-04T21:38:38.535429Z"
    }
   },
   "cell_type": "code",
   "source": [
    "# Save the train data\n",
    "df.to_csv('train_data.csv', index=False)"
   ],
   "id": "a9c239f3e1efc4c9",
   "outputs": [],
   "execution_count": 15
  }
 ],
 "metadata": {
  "kernelspec": {
   "display_name": "Python 3",
   "language": "python",
   "name": "python3"
  },
  "language_info": {
   "codemirror_mode": {
    "name": "ipython",
    "version": 2
   },
   "file_extension": ".py",
   "mimetype": "text/x-python",
   "name": "python",
   "nbconvert_exporter": "python",
   "pygments_lexer": "ipython2",
   "version": "2.7.6"
  }
 },
 "nbformat": 4,
 "nbformat_minor": 5
}
