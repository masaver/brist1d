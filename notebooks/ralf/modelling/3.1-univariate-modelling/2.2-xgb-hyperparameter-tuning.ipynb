{
 "cells": [
  {
   "metadata": {},
   "cell_type": "markdown",
   "source": "# Univariate Modelling",
   "id": "c4f5fa4ffbc53369"
  },
  {
   "metadata": {
    "ExecuteTime": {
     "end_time": "2024-11-07T10:34:34.706988Z",
     "start_time": "2024-11-07T10:34:34.429691Z"
    }
   },
   "cell_type": "code",
   "source": [
    "import os\n",
    "import pandas as pd\n",
    "\n",
    "df = pd.read_csv('train_data.csv')\n",
    "df.head()"
   ],
   "id": "a3b2d749037733c4",
   "outputs": [
    {
     "data": {
      "text/plain": [
       "     bg  bg+1:00\n",
       "0  15.1     13.4\n",
       "1  14.4     12.8\n",
       "2  13.9     15.5\n",
       "3  13.8     14.8\n",
       "4  13.4     12.7"
      ],
      "text/html": [
       "<div>\n",
       "<style scoped>\n",
       "    .dataframe tbody tr th:only-of-type {\n",
       "        vertical-align: middle;\n",
       "    }\n",
       "\n",
       "    .dataframe tbody tr th {\n",
       "        vertical-align: top;\n",
       "    }\n",
       "\n",
       "    .dataframe thead th {\n",
       "        text-align: right;\n",
       "    }\n",
       "</style>\n",
       "<table border=\"1\" class=\"dataframe\">\n",
       "  <thead>\n",
       "    <tr style=\"text-align: right;\">\n",
       "      <th></th>\n",
       "      <th>bg</th>\n",
       "      <th>bg+1:00</th>\n",
       "    </tr>\n",
       "  </thead>\n",
       "  <tbody>\n",
       "    <tr>\n",
       "      <th>0</th>\n",
       "      <td>15.1</td>\n",
       "      <td>13.4</td>\n",
       "    </tr>\n",
       "    <tr>\n",
       "      <th>1</th>\n",
       "      <td>14.4</td>\n",
       "      <td>12.8</td>\n",
       "    </tr>\n",
       "    <tr>\n",
       "      <th>2</th>\n",
       "      <td>13.9</td>\n",
       "      <td>15.5</td>\n",
       "    </tr>\n",
       "    <tr>\n",
       "      <th>3</th>\n",
       "      <td>13.8</td>\n",
       "      <td>14.8</td>\n",
       "    </tr>\n",
       "    <tr>\n",
       "      <th>4</th>\n",
       "      <td>13.4</td>\n",
       "      <td>12.7</td>\n",
       "    </tr>\n",
       "  </tbody>\n",
       "</table>\n",
       "</div>"
      ]
     },
     "execution_count": 1,
     "metadata": {},
     "output_type": "execute_result"
    }
   ],
   "execution_count": 1
  },
  {
   "metadata": {
    "ExecuteTime": {
     "end_time": "2024-11-07T10:34:34.788095Z",
     "start_time": "2024-11-07T10:34:34.785549Z"
    }
   },
   "cell_type": "code",
   "source": [
    "X = df[['bg']]\n",
    "y = df['bg+1:00']"
   ],
   "id": "19940f9e6309dca",
   "outputs": [],
   "execution_count": 2
  },
  {
   "metadata": {
    "ExecuteTime": {
     "end_time": "2024-11-07T10:34:35.336109Z",
     "start_time": "2024-11-07T10:34:34.814168Z"
    }
   },
   "cell_type": "code",
   "source": [
    "from sklearn.model_selection import GridSearchCV, KFold\n",
    "from xgboost import XGBRegressor\n",
    "\n",
    "param_grid = {\n",
    "    'n_estimators': [50, 100, 150],\n",
    "    'learning_rate': [0.01, 0.1, 0.2, 0.5, 1],\n",
    "    'max_depth': [2, 3, 5],\n",
    "    'subsample': [0.8, 1.0, 1.2],\n",
    "    'colsample_bytree': [0.8, 1.0]\n",
    "}\n",
    "\n",
    "kf = KFold(n_splits=5, shuffle=True, random_state=42)\n",
    "xgb = XGBRegressor()\n",
    "grid_search = GridSearchCV(estimator=xgb, param_grid=param_grid, cv=kf, scoring='neg_mean_squared_error', n_jobs=-1)"
   ],
   "id": "b0ee1052994b170",
   "outputs": [],
   "execution_count": 3
  },
  {
   "metadata": {
    "ExecuteTime": {
     "end_time": "2024-11-07T10:35:31.817226Z",
     "start_time": "2024-11-07T10:34:35.339049Z"
    }
   },
   "cell_type": "code",
   "source": [
    "# Fit the model\n",
    "grid_search.fit(X=X, y=y)\n",
    "\n",
    "# Get the best parameters and best score\n",
    "best_params = grid_search.best_params_\n",
    "best_score = grid_search.best_score_\n",
    "\n",
    "print(\"Best parameters found: \", best_params)\n",
    "print(\"Best score: \", best_score)"
   ],
   "id": "eb437c413f103b44",
   "outputs": [
    {
     "name": "stderr",
     "output_type": "stream",
     "text": [
      "/Users/ralf/Projects/learning-projects/datascience-bootcamp/sep24_bds_int_medical/.venv/lib/python3.12/site-packages/sklearn/model_selection/_validation.py:540: FitFailedWarning: \n",
      "450 fits failed out of a total of 1350.\n",
      "The score on these train-test partitions for these parameters will be set to nan.\n",
      "If these failures are not expected, you can try to debug them by setting error_score='raise'.\n",
      "\n",
      "Below are more details about the failures:\n",
      "--------------------------------------------------------------------------------\n",
      "450 fits failed with the following error:\n",
      "Traceback (most recent call last):\n",
      "  File \"/Users/ralf/Projects/learning-projects/datascience-bootcamp/sep24_bds_int_medical/.venv/lib/python3.12/site-packages/sklearn/model_selection/_validation.py\", line 888, in _fit_and_score\n",
      "    estimator.fit(X_train, y_train, **fit_params)\n",
      "  File \"/Users/ralf/Projects/learning-projects/datascience-bootcamp/sep24_bds_int_medical/.venv/lib/python3.12/site-packages/xgboost/core.py\", line 726, in inner_f\n",
      "    return func(**kwargs)\n",
      "           ^^^^^^^^^^^^^^\n",
      "  File \"/Users/ralf/Projects/learning-projects/datascience-bootcamp/sep24_bds_int_medical/.venv/lib/python3.12/site-packages/xgboost/sklearn.py\", line 1108, in fit\n",
      "    self._Booster = train(\n",
      "                    ^^^^^^\n",
      "  File \"/Users/ralf/Projects/learning-projects/datascience-bootcamp/sep24_bds_int_medical/.venv/lib/python3.12/site-packages/xgboost/core.py\", line 726, in inner_f\n",
      "    return func(**kwargs)\n",
      "           ^^^^^^^^^^^^^^\n",
      "  File \"/Users/ralf/Projects/learning-projects/datascience-bootcamp/sep24_bds_int_medical/.venv/lib/python3.12/site-packages/xgboost/training.py\", line 181, in train\n",
      "    bst.update(dtrain, iteration=i, fobj=obj)\n",
      "  File \"/Users/ralf/Projects/learning-projects/datascience-bootcamp/sep24_bds_int_medical/.venv/lib/python3.12/site-packages/xgboost/core.py\", line 2100, in update\n",
      "    _check_call(\n",
      "  File \"/Users/ralf/Projects/learning-projects/datascience-bootcamp/sep24_bds_int_medical/.venv/lib/python3.12/site-packages/xgboost/core.py\", line 284, in _check_call\n",
      "    raise XGBoostError(py_str(_LIB.XGBGetLastError()))\n",
      "xgboost.core.XGBoostError: value 1.2 for Parameter subsample exceed bound [0,1]\n",
      "subsample: Row subsample ratio of training instance.\n",
      "\n",
      "  warnings.warn(some_fits_failed_message, FitFailedWarning)\n",
      "/Users/ralf/Projects/learning-projects/datascience-bootcamp/sep24_bds_int_medical/.venv/lib/python3.12/site-packages/sklearn/model_selection/_search.py:1103: UserWarning: One or more of the test scores are non-finite: [-6.32628232 -6.32527963         nan -5.24818576 -5.24856281         nan\n",
      " -4.80219587 -4.80292361         nan -6.16728117 -6.16677906         nan\n",
      " -5.10850048 -5.10834081         nan -4.70944951 -4.70992802         nan\n",
      " -6.12092463 -6.12006922         nan -5.07289281 -5.0726703          nan\n",
      " -4.68843357 -4.68867695         nan -4.46859239 -4.46875554         nan\n",
      " -4.46714077 -4.46699625         nan -4.46696181 -4.46689127         nan\n",
      " -4.46660911 -4.46682272         nan -4.46664856 -4.46659658         nan\n",
      " -4.46675521 -4.46680617         nan -4.46677991 -4.46689152         nan\n",
      " -4.4673584  -4.46724975         nan -4.46751711 -4.46742177         nan\n",
      " -4.47015422 -4.46954266         nan -4.46912031 -4.46804658         nan\n",
      " -4.4685657  -4.46759457         nan -4.46705008 -4.46686784         nan\n",
      " -4.46719434 -4.46711709         nan -4.46722986 -4.46728434         nan\n",
      " -4.46720243 -4.46729374         nan -4.46778455 -4.46753848         nan\n",
      " -4.46783483 -4.46760581         nan -4.47040437 -4.46937656         nan\n",
      " -4.46883365 -4.46734958         nan -4.46806876 -4.46739322         nan\n",
      " -4.46762044 -4.46736158         nan -4.46822056 -4.46750947         nan\n",
      " -4.46814235 -4.46759782         nan -4.46759191 -4.46759713         nan\n",
      " -4.46815731 -4.46762553         nan -4.46821807 -4.46762553         nan\n",
      " -4.4699227  -4.46854916         nan -4.46905556 -4.46759035         nan\n",
      " -4.46889845 -4.46763077         nan -4.46855173 -4.46762524         nan\n",
      " -4.46855617 -4.46763051         nan -4.46825192 -4.46763051         nan\n",
      " -4.46873194 -4.46762964         nan -4.46841735 -4.46762964         nan\n",
      " -4.46908756 -4.46762964         nan -6.32628232 -6.32527963         nan\n",
      " -5.24818576 -5.24856281         nan -4.80219587 -4.80292361         nan\n",
      " -6.16728117 -6.16677906         nan -5.10850048 -5.10834081         nan\n",
      " -4.70944951 -4.70992802         nan -6.12092463 -6.12006922         nan\n",
      " -5.07289281 -5.0726703          nan -4.68843357 -4.68867695         nan\n",
      " -4.46859239 -4.46875554         nan -4.46714077 -4.46699625         nan\n",
      " -4.46696181 -4.46689127         nan -4.46660911 -4.46682272         nan\n",
      " -4.46664856 -4.46659658         nan -4.46675521 -4.46680617         nan\n",
      " -4.46677991 -4.46689152         nan -4.4673584  -4.46724975         nan\n",
      " -4.46751711 -4.46742177         nan -4.47015422 -4.46954266         nan\n",
      " -4.46912031 -4.46804658         nan -4.4685657  -4.46759457         nan\n",
      " -4.46705008 -4.46686784         nan -4.46719434 -4.46711709         nan\n",
      " -4.46722986 -4.46728434         nan -4.46720243 -4.46729374         nan\n",
      " -4.46778455 -4.46753848         nan -4.46783483 -4.46760581         nan\n",
      " -4.47040437 -4.46937656         nan -4.46883365 -4.46734958         nan\n",
      " -4.46806876 -4.46739322         nan -4.46762044 -4.46736158         nan\n",
      " -4.46822056 -4.46750947         nan -4.46814235 -4.46759782         nan\n",
      " -4.46759191 -4.46759713         nan -4.46815731 -4.46762553         nan\n",
      " -4.46821807 -4.46762553         nan -4.4699227  -4.46854916         nan\n",
      " -4.46905556 -4.46759035         nan -4.46889845 -4.46763077         nan\n",
      " -4.46855173 -4.46762524         nan -4.46855617 -4.46763051         nan\n",
      " -4.46825192 -4.46763051         nan -4.46873194 -4.46762964         nan\n",
      " -4.46841735 -4.46762964         nan -4.46908756 -4.46762964         nan]\n",
      "  warnings.warn(\n"
     ]
    },
    {
     "name": "stdout",
     "output_type": "stream",
     "text": [
      "Best parameters found:  {'colsample_bytree': 0.8, 'learning_rate': 0.1, 'max_depth': 3, 'n_estimators': 100, 'subsample': 1.0}\n",
      "Best score:  -4.4665965848491425\n"
     ]
    }
   ],
   "execution_count": 4
  },
  {
   "metadata": {
    "ExecuteTime": {
     "end_time": "2024-11-07T10:35:31.971185Z",
     "start_time": "2024-11-07T10:35:31.968280Z"
    }
   },
   "cell_type": "code",
   "source": [
    "# train and save model\n",
    "xgb = XGBRegressor(**best_params)"
   ],
   "id": "fb3f9d6e151aaac3",
   "outputs": [],
   "execution_count": 5
  },
  {
   "metadata": {
    "ExecuteTime": {
     "end_time": "2024-11-07T10:35:31.986687Z",
     "start_time": "2024-11-07T10:35:31.982777Z"
    }
   },
   "cell_type": "code",
   "source": [
    "# save model\n",
    "import joblib\n",
    "\n",
    "joblib.dump(xgb, 'xgb.model.pkl')"
   ],
   "id": "dfec32a972fced1c",
   "outputs": [
    {
     "data": {
      "text/plain": [
       "['xgb.model.pkl']"
      ]
     },
     "execution_count": 6,
     "metadata": {},
     "output_type": "execute_result"
    }
   ],
   "execution_count": 6
  }
 ],
 "metadata": {
  "kernelspec": {
   "display_name": "Python 3",
   "language": "python",
   "name": "python3"
  },
  "language_info": {
   "codemirror_mode": {
    "name": "ipython",
    "version": 2
   },
   "file_extension": ".py",
   "mimetype": "text/x-python",
   "name": "python",
   "nbconvert_exporter": "python",
   "pygments_lexer": "ipython2",
   "version": "2.7.6"
  }
 },
 "nbformat": 4,
 "nbformat_minor": 5
}
