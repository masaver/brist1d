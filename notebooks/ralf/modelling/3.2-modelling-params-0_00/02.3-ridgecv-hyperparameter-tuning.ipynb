{
 "cells": [
  {
   "metadata": {},
   "cell_type": "markdown",
   "source": [
    "# Modelling Selected Parameters at 0:00 + Day Phase\n",
    "\n",
    "## RidgeCV - Hyperparameter Tuning"
   ],
   "id": "c4f5fa4ffbc53369"
  },
  {
   "metadata": {
    "ExecuteTime": {
     "end_time": "2024-11-08T16:09:37.481451Z",
     "start_time": "2024-11-08T16:09:37.477241Z"
    }
   },
   "cell_type": "code",
   "source": [
    "import pandas as pd\n",
    "import os"
   ],
   "id": "a3b2d749037733c4",
   "outputs": [],
   "execution_count": 5
  },
  {
   "metadata": {},
   "cell_type": "code",
   "outputs": [],
   "execution_count": null,
   "source": [
    "# Load, preprocess and standardize the train data \n",
    "from pipelines import pipeline\n",
    "data_file = os.path.join('..', '..', '..', '..', 'data', 'raw', 'train.csv')\n",
    "train_data = pd.read_csv(data_file, index_col=0, low_memory=False)\n",
    "train_data = pipeline.fit_transform(train_data)\n",
    "train_data.head()"
   ],
   "id": "be6640457d55bc91"
  },
  {
   "metadata": {
    "ExecuteTime": {
     "end_time": "2024-11-08T15:30:25.000951Z",
     "start_time": "2024-11-08T15:30:24.997303Z"
    }
   },
   "cell_type": "code",
   "source": [
    "X = train_data.drop(columns=['bg+1:00'])\n",
    "y = train_data['bg+1:00']"
   ],
   "id": "19940f9e6309dca",
   "outputs": [],
   "execution_count": 2
  },
  {
   "metadata": {
    "ExecuteTime": {
     "end_time": "2024-11-08T15:30:29.254189Z",
     "start_time": "2024-11-08T15:30:25.029015Z"
    }
   },
   "cell_type": "code",
   "source": [
    "from sklearn.linear_model import RidgeCV\n",
    "\n",
    "param_grid = {\n",
    "    'alpha_per_target': [True, False],\n",
    "    'alphas': [[0.1, 1.0, 10.0], [0.1, 0.5, 1.0], [0.1, 0.5, 1.0, 5.0], [0.1, 0.5, 1.0, 5.0, 10.0]],\n",
    "    'fit_intercept': [True, False]\n",
    "}\n",
    "\n",
    "kf = KFold(n_splits=5, shuffle=True, random_state=42)\n",
    "ridge = RidgeCV()\n",
    "grid_search = GridSearchCV(estimator=ridge, param_grid=param_grid, cv=kf, scoring='neg_mean_squared_error', n_jobs=-1)\n",
    "\n",
    "grid_search.fit(X=X, y=y)\n",
    "\n",
    "# Get the best parameters and best score\n",
    "best_params = grid_search.best_params_\n",
    "best_score = grid_search.best_score_\n",
    "\n",
    "print(\"Best parameters found: \", best_params)\n",
    "print(\"Best score: \", best_score)"
   ],
   "id": "b0ee1052994b170",
   "outputs": [
    {
     "name": "stdout",
     "output_type": "stream",
     "text": [
      "Best parameters found:  {'alpha_per_target': True, 'alphas': [0.1, 1.0, 10.0], 'fit_intercept': True}\n",
      "Best score:  -4.650405998790541\n"
     ]
    }
   ],
   "execution_count": 3
  },
  {
   "metadata": {
    "ExecuteTime": {
     "end_time": "2024-11-08T15:30:29.541862Z",
     "start_time": "2024-11-08T15:30:29.536607Z"
    }
   },
   "cell_type": "code",
   "source": [
    "# create and save model with best parameters\n",
    "import joblib\n",
    "\n",
    "ridge = RidgeCV(**best_params)\n",
    "joblib.dump(ridge, 'ridge.model.pkl')"
   ],
   "id": "6c2a232d6b99f387",
   "outputs": [
    {
     "data": {
      "text/plain": [
       "['ridge.model.pkl']"
      ]
     },
     "execution_count": 4,
     "metadata": {},
     "output_type": "execute_result"
    }
   ],
   "execution_count": 4
  },
  {
   "metadata": {
    "ExecuteTime": {
     "end_time": "2024-11-08T15:30:29.624879Z",
     "start_time": "2024-11-08T15:30:29.621905Z"
    }
   },
   "cell_type": "code",
   "source": "",
   "id": "a9af5c1d73ab8bae",
   "outputs": [],
   "execution_count": null
  }
 ],
 "metadata": {
  "kernelspec": {
   "display_name": "Python 3",
   "language": "python",
   "name": "python3"
  },
  "language_info": {
   "codemirror_mode": {
    "name": "ipython",
    "version": 2
   },
   "file_extension": ".py",
   "mimetype": "text/x-python",
   "name": "python",
   "nbconvert_exporter": "python",
   "pygments_lexer": "ipython2",
   "version": "2.7.6"
  }
 },
 "nbformat": 4,
 "nbformat_minor": 5
}
