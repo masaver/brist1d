{
 "cells": [
  {
   "metadata": {},
   "cell_type": "markdown",
   "source": [
    "# Modelling Selected Parameters at 0:00 + Day Phase\n",
    "\n",
    "## XGBoostRegressor - Hyperparameter Tuning"
   ],
   "id": "c4f5fa4ffbc53369"
  },
  {
   "metadata": {
    "ExecuteTime": {
     "end_time": "2024-11-08T14:47:16.906597Z",
     "start_time": "2024-11-08T14:47:16.381192Z"
    }
   },
   "cell_type": "code",
   "source": [
    "import pandas as pd\n",
    "import os"
   ],
   "id": "a3b2d749037733c4",
   "outputs": [
    {
     "data": {
      "text/plain": [
       "    bg-0:00  insulin-0:00   hr-0:00  cals-0:00  bg+1:00  day_phase_evening  \\\n",
       "0  2.275154     -0.152482  0.929993  -0.458394     13.4              False   \n",
       "1  2.041687     -0.152482  0.929993  -0.458394     12.8              False   \n",
       "2  1.874925     -0.152482  0.929993  -0.458394     15.5              False   \n",
       "3  1.841572     -0.152482  0.929993  -0.458394     14.8              False   \n",
       "4  1.708162     -0.152482  0.929993  -0.458394     12.7              False   \n",
       "\n",
       "   day_phase_morning  day_phase_night  day_phase_noon  \n",
       "0               True            False           False  \n",
       "1               True            False           False  \n",
       "2               True            False           False  \n",
       "3               True            False           False  \n",
       "4               True            False           False  "
      ],
      "text/html": [
       "<div>\n",
       "<style scoped>\n",
       "    .dataframe tbody tr th:only-of-type {\n",
       "        vertical-align: middle;\n",
       "    }\n",
       "\n",
       "    .dataframe tbody tr th {\n",
       "        vertical-align: top;\n",
       "    }\n",
       "\n",
       "    .dataframe thead th {\n",
       "        text-align: right;\n",
       "    }\n",
       "</style>\n",
       "<table border=\"1\" class=\"dataframe\">\n",
       "  <thead>\n",
       "    <tr style=\"text-align: right;\">\n",
       "      <th></th>\n",
       "      <th>bg-0:00</th>\n",
       "      <th>insulin-0:00</th>\n",
       "      <th>hr-0:00</th>\n",
       "      <th>cals-0:00</th>\n",
       "      <th>bg+1:00</th>\n",
       "      <th>day_phase_evening</th>\n",
       "      <th>day_phase_morning</th>\n",
       "      <th>day_phase_night</th>\n",
       "      <th>day_phase_noon</th>\n",
       "    </tr>\n",
       "  </thead>\n",
       "  <tbody>\n",
       "    <tr>\n",
       "      <th>0</th>\n",
       "      <td>2.275154</td>\n",
       "      <td>-0.152482</td>\n",
       "      <td>0.929993</td>\n",
       "      <td>-0.458394</td>\n",
       "      <td>13.4</td>\n",
       "      <td>False</td>\n",
       "      <td>True</td>\n",
       "      <td>False</td>\n",
       "      <td>False</td>\n",
       "    </tr>\n",
       "    <tr>\n",
       "      <th>1</th>\n",
       "      <td>2.041687</td>\n",
       "      <td>-0.152482</td>\n",
       "      <td>0.929993</td>\n",
       "      <td>-0.458394</td>\n",
       "      <td>12.8</td>\n",
       "      <td>False</td>\n",
       "      <td>True</td>\n",
       "      <td>False</td>\n",
       "      <td>False</td>\n",
       "    </tr>\n",
       "    <tr>\n",
       "      <th>2</th>\n",
       "      <td>1.874925</td>\n",
       "      <td>-0.152482</td>\n",
       "      <td>0.929993</td>\n",
       "      <td>-0.458394</td>\n",
       "      <td>15.5</td>\n",
       "      <td>False</td>\n",
       "      <td>True</td>\n",
       "      <td>False</td>\n",
       "      <td>False</td>\n",
       "    </tr>\n",
       "    <tr>\n",
       "      <th>3</th>\n",
       "      <td>1.841572</td>\n",
       "      <td>-0.152482</td>\n",
       "      <td>0.929993</td>\n",
       "      <td>-0.458394</td>\n",
       "      <td>14.8</td>\n",
       "      <td>False</td>\n",
       "      <td>True</td>\n",
       "      <td>False</td>\n",
       "      <td>False</td>\n",
       "    </tr>\n",
       "    <tr>\n",
       "      <th>4</th>\n",
       "      <td>1.708162</td>\n",
       "      <td>-0.152482</td>\n",
       "      <td>0.929993</td>\n",
       "      <td>-0.458394</td>\n",
       "      <td>12.7</td>\n",
       "      <td>False</td>\n",
       "      <td>True</td>\n",
       "      <td>False</td>\n",
       "      <td>False</td>\n",
       "    </tr>\n",
       "  </tbody>\n",
       "</table>\n",
       "</div>"
      ]
     },
     "execution_count": 1,
     "metadata": {},
     "output_type": "execute_result"
    }
   ],
   "execution_count": 1
  },
  {
   "metadata": {},
   "cell_type": "code",
   "outputs": [],
   "execution_count": null,
   "source": [
    "# Load, preprocess and standardize the train data\n",
    "from pipelines import pipeline\n",
    "\n",
    "data_file = os.path.join('..', '..', '..', '..', 'data', 'raw', 'train.csv')\n",
    "train_data = pd.read_csv(data_file, index_col=0, low_memory=False)\n",
    "train_data = pipeline.fit_transform(train_data)\n",
    "train_data.head()"
   ],
   "id": "293a3730bc821a93"
  },
  {
   "metadata": {
    "ExecuteTime": {
     "end_time": "2024-11-08T14:47:17.006209Z",
     "start_time": "2024-11-08T14:47:17.001603Z"
    }
   },
   "cell_type": "code",
   "source": [
    "X = train_data.drop(columns=['bg+1:00'])\n",
    "y = train_data['bg+1:00']"
   ],
   "id": "19940f9e6309dca",
   "outputs": [],
   "execution_count": 2
  },
  {
   "metadata": {
    "ExecuteTime": {
     "end_time": "2024-11-08T14:48:28.383572Z",
     "start_time": "2024-11-08T14:47:17.050382Z"
    }
   },
   "cell_type": "code",
   "source": [
    "import numpy as np\n",
    "from skopt import BayesSearchCV\n",
    "from skopt.space import Integer, Real\n",
    "from xgboost import XGBRegressor\n",
    "\n",
    "param_space = {\n",
    "    'n_estimators': Integer(50, 500),\n",
    "    'learning_rate': Real(0.01, 1, prior='log-uniform'),\n",
    "    'max_depth': Integer(3, 20),\n",
    "    'subsample': Real(0.5, 1.0),\n",
    "    'colsample_bytree': Real(0.5, 1.0),\n",
    "    'gamma': Real(0, 30),\n",
    "    'min_child_weight': Integer(1, 10)\n",
    "}\n",
    "\n",
    "xgb_regressor = XGBRegressor(objective='reg:squarederror', random_state=42, tree_method='hist')\n",
    "\n",
    "opt = BayesSearchCV(\n",
    "    estimator=xgb_regressor,\n",
    "    search_spaces=param_space,\n",
    "    n_iter=30,\n",
    "    scoring='neg_mean_squared_error',\n",
    "    cv=5,\n",
    "    n_jobs=-1,\n",
    "    random_state=42\n",
    ")\n",
    "\n",
    "np.int = int\n",
    "opt.fit(X=X, y=y)\n",
    "\n",
    "# Get the best parameters and best score\n",
    "best_params = opt.best_params_\n",
    "best_score = opt.best_score_\n",
    "\n",
    "print(\"Best parameters found: \", best_params)\n",
    "print(\"Best score: \", best_score)"
   ],
   "id": "b0ee1052994b170",
   "outputs": [
    {
     "name": "stdout",
     "output_type": "stream",
     "text": [
      "Best parameters found:  OrderedDict({'colsample_bytree': 1.0, 'gamma': 28.76664765696484, 'learning_rate': 0.10288409106897808, 'max_depth': 3, 'min_child_weight': 10, 'n_estimators': 50, 'subsample': 1.0})\n",
      "Best score:  -4.5584569824890355\n"
     ]
    }
   ],
   "execution_count": 3
  },
  {
   "metadata": {
    "ExecuteTime": {
     "end_time": "2024-11-08T14:48:28.397054Z",
     "start_time": "2024-11-08T14:48:28.390104Z"
    }
   },
   "cell_type": "code",
   "source": [
    "# create and save model with best parameters\n",
    "import joblib\n",
    "\n",
    "xgb = XGBRegressor(**best_params)\n",
    "joblib.dump(xgb, 'xgb.model.pkl')"
   ],
   "id": "fb3f9d6e151aaac3",
   "outputs": [
    {
     "data": {
      "text/plain": [
       "['xgb.model.pkl']"
      ]
     },
     "execution_count": 4,
     "metadata": {},
     "output_type": "execute_result"
    }
   ],
   "execution_count": 4
  },
  {
   "metadata": {
    "ExecuteTime": {
     "end_time": "2024-11-08T14:48:28.580433Z",
     "start_time": "2024-11-08T14:48:28.578864Z"
    }
   },
   "cell_type": "code",
   "source": "",
   "id": "5b8ef9fe77c10c6c",
   "outputs": [],
   "execution_count": null
  }
 ],
 "metadata": {
  "kernelspec": {
   "display_name": "Python 3",
   "language": "python",
   "name": "python3"
  },
  "language_info": {
   "codemirror_mode": {
    "name": "ipython",
    "version": 2
   },
   "file_extension": ".py",
   "mimetype": "text/x-python",
   "name": "python",
   "nbconvert_exporter": "python",
   "pygments_lexer": "ipython2",
   "version": "2.7.6"
  }
 },
 "nbformat": 4,
 "nbformat_minor": 5
}
