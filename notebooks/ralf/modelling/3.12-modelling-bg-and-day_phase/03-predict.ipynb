{
 "cells": [
  {
   "metadata": {},
   "cell_type": "markdown",
   "source": "# Univariate Modelling",
   "id": "c4f5fa4ffbc53369"
  },
  {
   "metadata": {},
   "cell_type": "code",
   "source": [
    "import os\n",
    "import joblib\n",
    "import pandas as pd\n",
    "\n",
    "stored_models = [file for file in os.listdir() if file.endswith('.model.pkl')]\n",
    "stored_models"
   ],
   "id": "217d3e954a53f6f0",
   "outputs": [],
   "execution_count": null
  },
  {
   "metadata": {},
   "cell_type": "code",
   "source": [
    "from sklearn.ensemble import VotingRegressor\n",
    "\n",
    "estimators = []\n",
    "for model_file in stored_models:\n",
    "    print(f'Loading {model_file}')\n",
    "    model = joblib.load(model_file)\n",
    "    estimators.append((\n",
    "        model_file.replace('.model.pkl', ''),\n",
    "        model\n",
    "    ))\n",
    "\n",
    "estimators"
   ],
   "id": "6e6ab026dc179357",
   "outputs": [],
   "execution_count": null
  },
  {
   "metadata": {},
   "cell_type": "code",
   "source": [
    "# Load, preprocess and standardize the train data \n",
    "from pipelines import pipeline\n",
    "\n",
    "data_file = os.path.join('..', '..', '..', '..', 'data', 'raw', 'train.csv')\n",
    "train_data = pd.read_csv(data_file, index_col=0, low_memory=False)\n",
    "train_data = pipeline.fit_transform(train_data)\n",
    "\n",
    "X_train = train_data.drop(columns=['bg+1:00'])\n",
    "y_train = train_data['bg+1:00']\n",
    "\n",
    "ensemble = VotingRegressor(estimators=estimators, verbose=True)\n",
    "ensemble.fit(X=X_train, y=y_train)\n",
    "ensemble.score(X=X_train, y=y_train)"
   ],
   "id": "f5445517669931ff",
   "outputs": [],
   "execution_count": null
  },
  {
   "metadata": {},
   "cell_type": "markdown",
   "source": "# Prepare test results",
   "id": "ab64321f938f2894"
  },
  {
   "metadata": {},
   "cell_type": "code",
   "source": "test_file = os.path.join('..', '..', '..', '..', 'data', 'raw', 'test.csv')",
   "id": "7bdfd98f4be9d36e",
   "outputs": [],
   "execution_count": null
  },
  {
   "metadata": {},
   "cell_type": "code",
   "source": [
    "## Load the test data\n",
    "test_data = pd.read_csv(test_file, index_col=0)\n",
    "test_data.head()"
   ],
   "id": "fbc3e2931db4a87c",
   "outputs": [],
   "execution_count": null
  },
  {
   "metadata": {},
   "cell_type": "code",
   "source": [
    "from pipelines import pipeline\n",
    "\n",
    "test_data = pipeline.fit_transform(test_data)\n",
    "test_data.head()"
   ],
   "id": "3f00f8aca73df9d6",
   "outputs": [],
   "execution_count": null
  },
  {
   "metadata": {},
   "cell_type": "markdown",
   "source": "",
   "id": "c2c9d1b34db141f9"
  },
  {
   "metadata": {},
   "cell_type": "code",
   "source": [
    "# Predict the bg+1:00 values\n",
    "test_data['bg+1:00'] = ensemble.predict(test_data)\n",
    "test_data.head()"
   ],
   "id": "5a0a66bed2da6c04",
   "outputs": [],
   "execution_count": null
  },
  {
   "metadata": {},
   "cell_type": "markdown",
   "source": "## Prepare the submission file",
   "id": "62816c36690eb120"
  },
  {
   "metadata": {},
   "cell_type": "code",
   "source": [
    "submission = pd.DataFrame(test_data['bg+1:00'])\n",
    "submission"
   ],
   "id": "67839b46a87a5226",
   "outputs": [],
   "execution_count": null
  },
  {
   "metadata": {},
   "cell_type": "markdown",
   "source": "### Save the submission file",
   "id": "c76df6ba407a2d0b"
  },
  {
   "metadata": {},
   "cell_type": "code",
   "source": "submission.to_csv(f'submission-{os.path.basename(os.getcwd())}.csv')",
   "id": "a9c239f3e1efc4c9",
   "outputs": [],
   "execution_count": null
  },
  {
   "metadata": {},
   "cell_type": "markdown",
   "source": "## Evaluate the model",
   "id": "c1a748f6155bd5c8"
  },
  {
   "metadata": {},
   "cell_type": "code",
   "source": [
    "from sklearn.metrics import root_mean_squared_error, r2_score, PredictionErrorDisplay\n",
    "import matplotlib.pyplot as plt\n",
    "\n",
    "y_pred = ensemble.predict(X=X_train)\n",
    "print(f'RMSE: {root_mean_squared_error(y_true=y_train, y_pred=y_pred)}')\n",
    "print(f'R2: {r2_score(y_true=y_train, y_pred=y_pred)}')\n",
    "\n",
    "fig, axs = plt.subplots(ncols=2, figsize=(8, 4))\n",
    "PredictionErrorDisplay.from_predictions(\n",
    "    y_true=y_train,\n",
    "    y_pred=y_pred,\n",
    "    kind=\"actual_vs_predicted\",\n",
    "    subsample=100,\n",
    "    ax=axs[0],\n",
    "    random_state=0,\n",
    ")\n",
    "axs[0].set_title(\"Actual vs. Predicted values\")\n",
    "PredictionErrorDisplay.from_predictions(\n",
    "    y_true=y_train,\n",
    "    y_pred=y_pred,\n",
    "    kind=\"residual_vs_predicted\",\n",
    "    subsample=100,\n",
    "    ax=axs[1],\n",
    "    random_state=0,\n",
    ")\n",
    "axs[1].set_title(\"Residuals vs. Predicted Values\")\n",
    "fig.suptitle(\"Plotting cross-validated predictions\")\n",
    "plt.tight_layout()\n",
    "plt.show();"
   ],
   "id": "7c8208a61c9a8c73",
   "outputs": [],
   "execution_count": null
  }
 ],
 "metadata": {
  "kernelspec": {
   "display_name": "Python 3",
   "language": "python",
   "name": "python3"
  },
  "language_info": {
   "codemirror_mode": {
    "name": "ipython",
    "version": 2
   },
   "file_extension": ".py",
   "mimetype": "text/x-python",
   "name": "python",
   "nbconvert_exporter": "python",
   "pygments_lexer": "ipython2",
   "version": "2.7.6"
  }
 },
 "nbformat": 4,
 "nbformat_minor": 5
}
