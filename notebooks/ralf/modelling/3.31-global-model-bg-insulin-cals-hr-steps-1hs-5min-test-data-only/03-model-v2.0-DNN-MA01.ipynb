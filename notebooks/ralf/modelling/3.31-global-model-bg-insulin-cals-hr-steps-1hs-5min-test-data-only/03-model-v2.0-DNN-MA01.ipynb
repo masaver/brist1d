{
 "cells": [
  {
   "metadata": {},
   "cell_type": "markdown",
   "source": [
    "# The final model\n",
    " "
   ],
   "id": "32bfa9234ec39c2"
  },
  {
   "metadata": {},
   "cell_type": "markdown",
   "source": "## Model v2.0",
   "id": "c4f5fa4ffbc53369"
  },
  {
   "metadata": {
    "ExecuteTime": {
     "end_time": "2024-11-29T09:40:09.927208Z",
     "start_time": "2024-11-29T09:40:09.924050Z"
    }
   },
   "cell_type": "code",
   "source": "model_name = f'3.31-v2.0'",
   "id": "75e879dfb8ea6174",
   "outputs": [],
   "execution_count": 10
  },
  {
   "metadata": {
    "ExecuteTime": {
     "end_time": "2024-11-29T09:40:09.947571Z",
     "start_time": "2024-11-29T09:40:09.945550Z"
    }
   },
   "cell_type": "code",
   "source": [
    "import warnings\n",
    "\n",
    "from sklearn.metrics import root_mean_squared_error\n",
    "\n",
    "warnings.filterwarnings(\"ignore\")"
   ],
   "id": "290b65029317749a",
   "outputs": [],
   "execution_count": 11
  },
  {
   "metadata": {
    "ExecuteTime": {
     "end_time": "2024-11-29T09:40:32.665007Z",
     "start_time": "2024-11-29T09:40:10.009229Z"
    }
   },
   "cell_type": "code",
   "source": [
    "import pandas as pd\n",
    "from data import load_data\n",
    "\n",
    "_, augmented_data, test_data = load_data()"
   ],
   "id": "ed9cab10a4c9269",
   "outputs": [],
   "execution_count": 12
  },
  {
   "metadata": {
    "ExecuteTime": {
     "end_time": "2024-11-29T09:40:32.691890Z",
     "start_time": "2024-11-29T09:40:32.677510Z"
    }
   },
   "cell_type": "code",
   "source": "augmented_data.info()",
   "id": "e6efef1597276890",
   "outputs": [
    {
     "name": "stdout",
     "output_type": "stream",
     "text": [
      "<class 'pandas.core.frame.DataFrame'>\n",
      "Index: 168588 entries, p01_test_12 to p24_test_94938\n",
      "Columns: 507 entries, p_num to bg+1:00\n",
      "dtypes: float64(433), object(74)\n",
      "memory usage: 657.4+ MB\n"
     ]
    }
   ],
   "execution_count": 13
  },
  {
   "metadata": {
    "ExecuteTime": {
     "end_time": "2024-11-29T09:40:33.066273Z",
     "start_time": "2024-11-29T09:40:32.771806Z"
    }
   },
   "cell_type": "code",
   "source": "test_data.info()",
   "id": "16d75f6d697d8bc7",
   "outputs": [
    {
     "name": "stdout",
     "output_type": "stream",
     "text": [
      "<class 'pandas.core.frame.DataFrame'>\n",
      "Index: 3644 entries, p01_8459 to p24_260\n",
      "Columns: 506 entries, p_num to activity-0:00\n",
      "dtypes: float64(432), object(74)\n",
      "memory usage: 14.2+ MB\n"
     ]
    }
   ],
   "execution_count": 14
  },
  {
   "metadata": {},
   "cell_type": "markdown",
   "source": "# Prepare the data",
   "id": "fc5e077e5738d8eb"
  },
  {
   "metadata": {
    "ExecuteTime": {
     "end_time": "2024-11-29T09:41:08.301849Z",
     "start_time": "2024-11-29T09:40:33.139694Z"
    }
   },
   "cell_type": "code",
   "source": [
    "from pipelines import pipeline\n",
    "\n",
    "train_data_transformed = pipeline.fit_transform(augmented_data)\n",
    "\n",
    "X_train = train_data_transformed.drop(columns=['bg+1:00'])\n",
    "y_train = train_data_transformed['bg+1:00']"
   ],
   "id": "c7df704ede80b62",
   "outputs": [],
   "execution_count": 15
  },
  {
   "metadata": {},
   "cell_type": "markdown",
   "source": "## Predict for validation data and check results",
   "id": "9b608adb90b0235e"
  },
  {
   "metadata": {
    "ExecuteTime": {
     "end_time": "2024-11-29T09:41:08.414611Z",
     "start_time": "2024-11-29T09:41:08.405315Z"
    }
   },
   "cell_type": "code",
   "source": [
    "import dnns\n",
    "from tensorflow.keras.optimizers import Adam\n",
    "from scikeras.wrappers import KerasRegressor\n",
    "\n",
    "create_dnn_model = dnns.create_model_MA01\n",
    "\n",
    "\n",
    "def model_with_pretrained_weights():\n",
    "    dnn = create_dnn_model(X_train.shape[1])\n",
    "    dnn.load_weights(f'{model_name}.weights.h5')  # Load the pre-trained weights\n",
    "\n",
    "    # Freeze all layers except the last one (optional)\n",
    "    for layer in dnn.layers:\n",
    "        layer.trainable = False\n",
    "    # Unfreeze the output layer if you want to fine-tune it\n",
    "    # dnn.layers[-1].trainable = True\n",
    "\n",
    "    dnn.compile(\n",
    "        optimizer=Adam(learning_rate=0.001),\n",
    "        loss='mse',\n",
    "        metrics=[dnns.rmse]\n",
    "    )\n",
    "    return dnn\n"
   ],
   "id": "c20aa25cccb09977",
   "outputs": [],
   "execution_count": 16
  },
  {
   "metadata": {
    "ExecuteTime": {
     "end_time": "2024-11-29T09:43:11.757968Z",
     "start_time": "2024-11-29T09:41:08.482116Z"
    }
   },
   "cell_type": "code",
   "source": [
    "from sklearn.neighbors import KNeighborsRegressor\n",
    "from xgboost import XGBRegressor\n",
    "from sklearn.ensemble import StackingRegressor, HistGradientBoostingRegressor\n",
    "from sklearn.linear_model import LassoLarsIC, Ridge\n",
    "from tensorflow.keras.callbacks import EarlyStopping\n",
    "from model_performance_calculations import get_history_line_chart\n",
    "\n",
    "# pretrain the DNN and use the weights in the stacking model\n",
    "pretrained_dnn = create_dnn_model(X_train.shape[1])\n",
    "pretrained_dnn.fit(\n",
    "    X_train,\n",
    "    y_train,\n",
    "    epochs=100,\n",
    "    verbose=2,\n",
    "    validation_split=0.2,\n",
    "    batch_size=32,\n",
    "    callbacks=[EarlyStopping(monitor='val_loss', patience=10, restore_best_weights=True)]\n",
    ")\n",
    "\n",
    "history = pretrained_dnn.history.history\n",
    "pretrained_dnn.save_weights(f'{model_name}.weights.h5')\n",
    "\n",
    "keras_regressor = KerasRegressor(\n",
    "    model=model_with_pretrained_weights,\n",
    "    epochs=1,\n",
    "    verbose=2\n",
    ")\n",
    "\n",
    "estimators = [\n",
    "    ('hgb', HistGradientBoostingRegressor(max_iter=1000, max_depth=5, learning_rate=0.01)),\n",
    "    ('xgb', XGBRegressor(objective='reg:squarederror', random_state=42, n_estimators=5000, max_depth=5, learning_rate=0.01)),\n",
    "    ('knn', KNeighborsRegressor(n_neighbors=5)),\n",
    "    ('lasso', LassoLarsIC(criterion='bic', max_iter=5000)),\n",
    "    ('dnn', keras_regressor)\n",
    "]\n",
    "\n",
    "model = StackingRegressor(estimators=estimators, final_estimator=Ridge(alpha=0.1), n_jobs=1, verbose=2)\n",
    "\n",
    "get_history_line_chart([history]).show()"
   ],
   "id": "7e0583e9ae957c2d",
   "outputs": [
    {
     "name": "stdout",
     "output_type": "stream",
     "text": [
      "Epoch 1/100\n",
      "4215/4215 - 7s - 2ms/step - loss: 11.8310 - rmse: 3.1130 - val_loss: 5.7801 - val_rmse: 2.1314\n",
      "Epoch 2/100\n",
      "4215/4215 - 5s - 1ms/step - loss: 6.0670 - rmse: 2.4316 - val_loss: 5.2758 - val_rmse: 2.0394\n",
      "Epoch 3/100\n",
      "4215/4215 - 6s - 1ms/step - loss: 5.7489 - rmse: 2.3658 - val_loss: 5.2494 - val_rmse: 2.0414\n",
      "Epoch 4/100\n",
      "4215/4215 - 6s - 1ms/step - loss: 5.5216 - rmse: 2.3188 - val_loss: 5.1933 - val_rmse: 2.0226\n",
      "Epoch 5/100\n",
      "4215/4215 - 6s - 1ms/step - loss: 5.3573 - rmse: 2.2826 - val_loss: 5.2464 - val_rmse: 2.0414\n",
      "Epoch 6/100\n",
      "4215/4215 - 6s - 1ms/step - loss: 5.2186 - rmse: 2.2550 - val_loss: 5.2344 - val_rmse: 2.0453\n",
      "Epoch 7/100\n",
      "4215/4215 - 6s - 1ms/step - loss: 5.0921 - rmse: 2.2258 - val_loss: 5.0418 - val_rmse: 2.0036\n",
      "Epoch 8/100\n",
      "4215/4215 - 6s - 1ms/step - loss: 5.0156 - rmse: 2.2102 - val_loss: 5.0289 - val_rmse: 2.0027\n",
      "Epoch 9/100\n",
      "4215/4215 - 6s - 1ms/step - loss: 4.9672 - rmse: 2.1987 - val_loss: 5.0509 - val_rmse: 2.0111\n",
      "Epoch 10/100\n",
      "4215/4215 - 19s - 5ms/step - loss: 4.8817 - rmse: 2.1795 - val_loss: 5.0261 - val_rmse: 2.0000\n",
      "Epoch 11/100\n",
      "4215/4215 - 6s - 1ms/step - loss: 4.7954 - rmse: 2.1602 - val_loss: 5.1371 - val_rmse: 2.0241\n",
      "Epoch 12/100\n",
      "4215/4215 - 5s - 1ms/step - loss: 4.7776 - rmse: 2.1553 - val_loss: 5.0973 - val_rmse: 2.0167\n",
      "Epoch 13/100\n",
      "4215/4215 - 5s - 1ms/step - loss: 4.7322 - rmse: 2.1457 - val_loss: 5.0308 - val_rmse: 2.0004\n",
      "Epoch 14/100\n",
      "4215/4215 - 5s - 1ms/step - loss: 4.7009 - rmse: 2.1379 - val_loss: 5.1860 - val_rmse: 2.0258\n",
      "Epoch 15/100\n",
      "4215/4215 - 5s - 1ms/step - loss: 4.6525 - rmse: 2.1279 - val_loss: 5.0501 - val_rmse: 2.0014\n",
      "Epoch 16/100\n",
      "4215/4215 - 5s - 1ms/step - loss: 4.6093 - rmse: 2.1183 - val_loss: 5.0990 - val_rmse: 2.0092\n",
      "Epoch 17/100\n",
      "4215/4215 - 6s - 1ms/step - loss: 4.6081 - rmse: 2.1179 - val_loss: 5.1498 - val_rmse: 2.0219\n",
      "Epoch 18/100\n",
      "4215/4215 - 6s - 1ms/step - loss: 4.5646 - rmse: 2.1077 - val_loss: 5.0738 - val_rmse: 2.0086\n",
      "Epoch 19/100\n",
      "4215/4215 - 4s - 1ms/step - loss: 4.5478 - rmse: 2.1032 - val_loss: 5.0885 - val_rmse: 2.0086\n",
      "Epoch 20/100\n",
      "4215/4215 - 4s - 868us/step - loss: 4.5285 - rmse: 2.0984 - val_loss: 5.2031 - val_rmse: 2.0409\n"
     ]
    },
    {
     "data": {
      "text/plain": [
       "<Figure size 1000x500 with 1 Axes>"
      ],
      "image/png": "[encoded data removed]"
     },
     "metadata": {},
     "output_type": "display_data"
    }
   ],
   "execution_count": 17
  },
  {
   "metadata": {
    "jupyter": {
     "is_executing": true
    },
    "ExecuteTime": {
     "start_time": "2024-11-29T09:43:11.794680Z"
    }
   },
   "cell_type": "code",
   "source": [
    "from datetime import datetime\n",
    "import os\n",
    "from model_performance_calculations import calculate_stacking_regressor_performance, get_rmse_boxplot_chart, get_rmse_line_chart, save_performances, save_model\n",
    "\n",
    "date_time = datetime.now().strftime('%Y-%m-%d_%H-%M-%S')\n",
    "\n",
    "save_model(model, os.path.join('models', f'{model_name}.pkl'))\n",
    "\n",
    "performances = calculate_stacking_regressor_performance(model, X_train, y_train, n_splits=10)\n",
    "save_performances(performances, os.path.join('models', f'{model_name}-performances.json'))\n",
    "\n",
    "get_rmse_boxplot_chart(performances).show()\n",
    "get_rmse_line_chart(performances).show()"
   ],
   "id": "c0be6db84ab0c1b0",
   "outputs": [
    {
     "name": "stdout",
     "output_type": "stream",
     "text": [
      "10:43:11 - Start training\n",
      "10:43:11 - Calculate performance for hgb\n",
      "10:43:11 - Split 1 - Model: hgb\n",
      "10:43:11 - Fitting the model\n"
     ]
    }
   ],
   "execution_count": null
  },
  {
   "metadata": {},
   "cell_type": "code",
   "source": [
    "import numpy as np\n",
    "from pipelines import pipeline\n",
    "\n",
    "train_data_transformed = pipeline.fit_transform(augmented_data)\n",
    "\n",
    "X_train = train_data_transformed.drop(columns=['bg+1:00'])\n",
    "y_train = train_data_transformed['bg+1:00']\n",
    "\n",
    "model.fit(X_train, y_train)\n",
    "\n",
    "X_test = pipeline.transform(test_data)\n",
    "y_pred = model.predict(X_test)\n",
    "\n",
    "if np.sum(y_pred < 0) > 0:\n",
    "    print(f'Number of negative values: {np.sum(y_pred < 0)}')\n",
    "    bg_min_train = np.min(y_train)\n",
    "    print(f'Min value: {np.min(y_pred)}')\n",
    "    print(f'Filling negative values with {bg_min_train}')\n",
    "    y_pred = np.where(y_pred < 0, bg_min_train, y_pred)\n",
    "\n",
    "test_data['bg+1:00'] = y_pred\n",
    "test_data.head()"
   ],
   "id": "43cf99724f468af4",
   "outputs": [],
   "execution_count": null
  },
  {
   "metadata": {},
   "cell_type": "code",
   "source": [
    "submission = pd.DataFrame(test_data['bg+1:00'])\n",
    "submission"
   ],
   "id": "5167875e1afa3ec1",
   "outputs": [],
   "execution_count": null
  },
  {
   "metadata": {},
   "cell_type": "code",
   "source": "submission.to_csv(f'submission-model-{model_name}.csv')",
   "id": "7b61741c1c7498d4",
   "outputs": [],
   "execution_count": null
  },
  {
   "metadata": {},
   "cell_type": "code",
   "source": [
    "y_pred = model.predict(X_train)\n",
    "\n",
    "root_mean_squared_error(y_train, y_pred)\n"
   ],
   "id": "54d3ab250c230332",
   "outputs": [],
   "execution_count": null
  },
  {
   "metadata": {},
   "cell_type": "code",
   "source": [
    "from sklearn.metrics import root_mean_squared_error\n",
    "\n",
    "root_mean_squared_error(y_train, y_pred)"
   ],
   "id": "d2a2d8aa5910f82e",
   "outputs": [],
   "execution_count": null
  },
  {
   "metadata": {},
   "cell_type": "code",
   "source": "",
   "id": "a6418b6d37efab5f",
   "outputs": [],
   "execution_count": null
  }
 ],
 "metadata": {
  "kernelspec": {
   "display_name": "Python 3",
   "language": "python",
   "name": "python3"
  },
  "language_info": {
   "codemirror_mode": {
    "name": "ipython",
    "version": 2
   },
   "file_extension": ".py",
   "mimetype": "text/x-python",
   "name": "python",
   "nbconvert_exporter": "python",
   "pygments_lexer": "ipython2",
   "version": "2.7.6"
  }
 },
 "nbformat": 4,
 "nbformat_minor": 5
}
